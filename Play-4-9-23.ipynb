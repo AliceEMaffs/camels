{
 "cells": [
  {
   "cell_type": "code",
   "execution_count": 1,
   "id": "6d3a37bd",
   "metadata": {},
   "outputs": [
    {
     "data": {
      "text/plain": [
       "'\\nimport flares\\nimport scipy\\nimport numba\\nimport schwimmbad\\nimport eagle_IO\\nimport SynthObs\\n'"
      ]
     },
     "execution_count": 1,
     "metadata": {},
     "output_type": "execute_result"
    }
   ],
   "source": [
    "# Just playing around again\n",
    "#  lets use redshifts 0.4 - 0.6\n",
    "#  snapshots: 026, 025, 024, 023 = z: 0.4, 0.47, 0.54, 0.61 (from 34 snaps)\n",
    "#  can use IllustrisTNG: LH, 1P, CV, EX, BE\n",
    "#  start with LH as has the most\n",
    "import numpy as np\n",
    "import h5py\n",
    "import hdf5plugin\n",
    "import matplotlib.pyplot as plt\n",
    " # flares\n",
    "'''\n",
    "import flares\n",
    "import scipy\n",
    "import numba\n",
    "import schwimmbad\n",
    "import eagle_IO\n",
    "import SynthObs\n",
    "'''"
   ]
  },
  {
   "cell_type": "markdown",
   "id": "b1928718",
   "metadata": {},
   "source": [
    "# SUBHALOS"
   ]
  },
  {
   "cell_type": "code",
   "execution_count": 2,
   "id": "a71c6ee3",
   "metadata": {},
   "outputs": [
    {
     "data": {
      "text/plain": [
       "<KeysViewHDF5 ['Config', 'Group', 'Header', 'IDs', 'Parameters', 'Subhalo']>"
      ]
     },
     "execution_count": 2,
     "metadata": {},
     "output_type": "execute_result"
    }
   ],
   "source": [
    "# get the name of Subfind halo catalog\n",
    "subhalos  = '/home/jovyan/Data/FOF_Subfind/IllustrisTNG/CV/CV_0/fof_subhalo_tab_026.hdf5'\n",
    "# read halo catalogue\n",
    "subh = h5py.File(subhalos, 'r')\n",
    "subh.keys()"
   ]
  },
  {
   "cell_type": "code",
   "execution_count": 3,
   "id": "88f105ef",
   "metadata": {},
   "outputs": [
    {
     "data": {
      "text/plain": [
       "<KeysViewHDF5 ['GroupBHMass', 'GroupBHMdot', 'GroupCM', 'GroupFirstSub', 'GroupGasMetalFractions', 'GroupGasMetallicity', 'GroupLen', 'GroupLenType', 'GroupMass', 'GroupMassType', 'GroupNsubs', 'GroupPos', 'GroupSFR', 'GroupStarMetalFractions', 'GroupStarMetallicity', 'GroupVel', 'GroupWindMass', 'Group_M_Crit200', 'Group_M_Crit500', 'Group_M_Mean200', 'Group_M_TopHat200', 'Group_R_Crit200', 'Group_R_Crit500', 'Group_R_Mean200', 'Group_R_TopHat200']>"
      ]
     },
     "execution_count": 3,
     "metadata": {},
     "output_type": "execute_result"
    }
   ],
   "source": [
    "subh['Group'].keys()"
   ]
  },
  {
   "cell_type": "code",
   "execution_count": 20,
   "id": "70f3e639",
   "metadata": {},
   "outputs": [
    {
     "data": {
      "text/plain": [
       "<HDF5 group \"/Parameters\" (0 members)>"
      ]
     },
     "execution_count": 20,
     "metadata": {},
     "output_type": "execute_result"
    }
   ],
   "source": [
    "subh['Parameters']"
   ]
  },
  {
   "cell_type": "code",
   "execution_count": 4,
   "id": "2ecd1394",
   "metadata": {},
   "outputs": [
    {
     "data": {
      "text/plain": [
       "<KeysViewHDF5 ['SubhaloBHMass', 'SubhaloBHMdot', 'SubhaloBfldDisk', 'SubhaloBfldHalo', 'SubhaloCM', 'SubhaloGasMetalFractions', 'SubhaloGasMetalFractionsHalfRad', 'SubhaloGasMetalFractionsMaxRad', 'SubhaloGasMetalFractionsSfr', 'SubhaloGasMetalFractionsSfrWeighted', 'SubhaloGasMetallicity', 'SubhaloGasMetallicityHalfRad', 'SubhaloGasMetallicityMaxRad', 'SubhaloGasMetallicitySfr', 'SubhaloGasMetallicitySfrWeighted', 'SubhaloGrNr', 'SubhaloHalfmassRad', 'SubhaloHalfmassRadType', 'SubhaloIDMostbound', 'SubhaloLen', 'SubhaloLenType', 'SubhaloMass', 'SubhaloMassInHalfRad', 'SubhaloMassInHalfRadType', 'SubhaloMassInMaxRad', 'SubhaloMassInMaxRadType', 'SubhaloMassInRad', 'SubhaloMassInRadType', 'SubhaloMassType', 'SubhaloParent', 'SubhaloPos', 'SubhaloSFR', 'SubhaloSFRinHalfRad', 'SubhaloSFRinMaxRad', 'SubhaloSFRinRad', 'SubhaloSpin', 'SubhaloStarMetalFractions', 'SubhaloStarMetalFractionsHalfRad', 'SubhaloStarMetalFractionsMaxRad', 'SubhaloStarMetallicity', 'SubhaloStarMetallicityHalfRad', 'SubhaloStarMetallicityMaxRad', 'SubhaloStellarPhotometrics', 'SubhaloStellarPhotometricsMassInRad', 'SubhaloStellarPhotometricsRad', 'SubhaloVel', 'SubhaloVelDisp', 'SubhaloVmax', 'SubhaloVmaxRad', 'SubhaloWindMass']>"
      ]
     },
     "execution_count": 4,
     "metadata": {},
     "output_type": "execute_result"
    }
   ],
   "source": [
    "subh['Subhalo'].keys()"
   ]
  },
  {
   "cell_type": "code",
   "execution_count": 5,
   "id": "2d7ac5a2",
   "metadata": {},
   "outputs": [],
   "source": [
    "pos_h     = subh['Group/GroupPos'][:]/1e3   #Mpc/h\n",
    "vel_h     = subh['Group/GroupVel'][:]       #km/s\n",
    "SFR_h     = subh['Group/GroupSFR'][:]       #Msun/yr\n",
    "mass_h    = subh['Group/GroupMass'][:]*1e10 #Msun/h\n",
    "len_h     = subh['Group/GroupLen'][:]       #the total number of particles in the halo (gas+dm+stars+black_holes)\n",
    "lentype_h = subh['Group/GroupLenType'][:]   #the number of particles in a halo by particle type\n",
    "#subh.close()"
   ]
  },
  {
   "cell_type": "code",
   "execution_count": 6,
   "id": "cd35b7e4",
   "metadata": {},
   "outputs": [
    {
     "name": "stdout",
     "output_type": "stream",
     "text": [
      "position: [15.942893  16.68846    3.9835398] Mpc/h\n",
      "velocity: [-145.14125 -160.77405  -94.18773] km/s\n",
      "mass: 3.263e+11 Msun/h\n",
      "total length: 7176 particles\n",
      "number of particles by type: [2274 4497    0    0  404    1]\n"
     ]
    }
   ],
   "source": [
    "index = 167 #index of the halo\n",
    "print('position:',pos_h[index],'Mpc/h')\n",
    "print('velocity:',vel_h[index],'km/s')\n",
    "print('mass: %.3e Msun/h'%mass_h[index])\n",
    "print('total length:',len_h[index],'particles')\n",
    "print('number of particles by type:',lentype_h[index])"
   ]
  },
  {
   "cell_type": "markdown",
   "id": "63c8b162",
   "metadata": {},
   "source": [
    "#PartType0. This group contains the properties of the gas particles.\n",
    "\n",
    "#PartType1. This group contains the properties of the dark matter particles.\n",
    "\n",
    "#PartType4. This group contains the properties of the star particles.\n",
    "\n",
    "#PartType5. This group contains the properties of the black hole particles."
   ]
  },
  {
   "cell_type": "code",
   "execution_count": 7,
   "id": "1415f6d7",
   "metadata": {},
   "outputs": [
    {
     "name": "stdout",
     "output_type": "stream",
     "text": [
      "Halo mass:  [4.2043770e+03 1.9805407e+01 3.5713192e+01 ... 1.6220157e-01 1.6220157e-01\n",
      " 1.6868964e-01]\n",
      "Halo Mass in M sun [5.9721264e+13 2.8132681e+11 5.0728967e+11 ... 2.3039997e+09 2.3039997e+09\n",
      " 2.3961597e+09]\n"
     ]
    }
   ],
   "source": [
    "# need PartType4 for stars\n",
    "mass_h = subh['Subhalo/SubhaloMass'][:]\n",
    "print('Halo mass: ', mass_h)\n",
    "\n",
    "mass_h_msun = mass_h[:] * 1e10 / 0.704\n",
    "print('Halo Mass in M sun', mass_h_msun)"
   ]
  },
  {
   "cell_type": "code",
   "execution_count": null,
   "id": "3c01f6ce",
   "metadata": {},
   "outputs": [],
   "source": [
    "# the mass of all star particles associated with a subhalo, is given by SubhaloMassType\n",
    "mass_star = subh['Subhalo/SubhaloMassType'][:]\n",
    "print('Halo mass: ', mass_star)\n",
    "\n",
    "mass_star_msun = mass_star[:] * 1e10# / 0.704 - not sure on this yet\n",
    "print('Halo Mass in M sun', mass_star)"
   ]
  },
  {
   "cell_type": "code",
   "execution_count": 8,
   "id": "db89e624",
   "metadata": {},
   "outputs": [
    {
     "name": "stdout",
     "output_type": "stream",
     "text": [
      "Halo mass in log10(M/Msol):  [13.623702 11.296783 11.552829 ...  9.210055  9.210055  9.227088]\n"
     ]
    }
   ],
   "source": [
    "# The units of stellar masses ouput by the model are 1e10 Msol.  Let's convert\n",
    "# this to log10(M/Msol).\n",
    "mass_h_msol = np.log10(mass_h[:]*1e10)\n",
    "print('Halo mass in log10(M/Msol): ', mass_h_msol)"
   ]
  },
  {
   "cell_type": "code",
   "execution_count": 9,
   "id": "3924f5bc",
   "metadata": {},
   "outputs": [
    {
     "name": "stdout",
     "output_type": "stream",
     "text": [
      "Star formation rate Msun/year [3.7453058 0.        1.5754815 ... 0.        0.        0.       ]\n"
     ]
    }
   ],
   "source": [
    "subh_SFR = subh['Subhalo/SubhaloSFRinRad'][:]\n",
    "print('Star formation rate Msun/year', subh_SFR)"
   ]
  },
  {
   "cell_type": "code",
   "execution_count": 10,
   "id": "4b36802b",
   "metadata": {},
   "outputs": [
    {
     "data": {
      "text/plain": [
       "Text(0, 0.5, 'Star Formation Rate [$M_\\\\odot / yr$]')"
      ]
     },
     "execution_count": 10,
     "metadata": {},
     "output_type": "execute_result"
    },
    {
     "data": {
      "image/png": "[encoded data removed]",
      "text/plain": [
       "<Figure size 640x480 with 1 Axes>"
      ]
     },
     "metadata": {},
     "output_type": "display_data"
    }
   ],
   "source": [
    "plt.plot(mass_h_msun,subh_SFR,'.')\n",
    "plt.xscale('log')\n",
    "plt.yscale('log')\n",
    "plt.xlabel('Total Mass [$M_\\odot$]')\n",
    "plt.ylabel('Star Formation Rate [$M_\\odot / yr$]')"
   ]
  },
  {
   "cell_type": "code",
   "execution_count": 11,
   "id": "231f45fe",
   "metadata": {},
   "outputs": [
    {
     "data": {
      "text/plain": [
       "[<matplotlib.lines.Line2D at 0x7fceaaf57ee0>]"
      ]
     },
     "execution_count": 11,
     "metadata": {},
     "output_type": "execute_result"
    },
    {
     "data": {
      "image/png": "[encoded data removed]",
      "text/plain": [
       "<Figure size 640x480 with 1 Axes>"
      ]
     },
     "metadata": {},
     "output_type": "display_data"
    }
   ],
   "source": [
    "# initial try at galaxy stellar mass function\n",
    "logMsun  = np.log10(mass_h_msun)                     #Take logarithm\n",
    "nbins = 50                              #Number of bins to divide data into\n",
    "V     = 302.6                             #Survey volume in Mpc3 (302.6Mpc for TNG300 - https://www.tng-project.org/data/docs/background/)\n",
    "Phi,edg = np.histogram(logMsun,bins=nbins) #Unnormalized histogram and bin edges\n",
    "dM    = edg[1] - edg[0]                 #Bin size\n",
    "Max   = edg[0:-1] + dM/2.               #Mass axis\n",
    "Phi   = Phi / V / dM                    #Normalize to volume and bin size\n",
    "\n",
    "plt.clf()\n",
    "plt.title('Halo Mass Function')\n",
    "plt.yscale('log')\n",
    "plt.xlabel(r'$\\log(M_\\star\\,/\\,M_\\odot)$')\n",
    "plt.ylabel(r'$\\Phi\\,/\\,\\mathrm{dex}^{-1}\\,\\mathrm{Mpc}^{-3}$')\n",
    "plt.plot(Max,Phi)"
   ]
  },
  {
   "cell_type": "code",
   "execution_count": 12,
   "id": "a0eb9725",
   "metadata": {},
   "outputs": [],
   "source": [
    "# Stellar mass functions describe the number density of galaxies as\n",
    "# a function of their stellar mass. They represent a key measure for\n",
    "# the properties of the galaxy population and allow us to trace the\n",
    "# assembly of stellar mass and the evolution of the star formation rate\n",
    "# (SFR) through cosmic time."
   ]
  },
  {
   "cell_type": "markdown",
   "id": "8e976cf5",
   "metadata": {},
   "source": [
    "# use Flares package:\n",
    "def calc_df(mstar, volume, massBinLimits):\n",
    "\n",
    "    hist, dummy = np.histogram(np.log10(mstar), bins = massBinLimits)\n",
    "    hist = np.float64(hist)\n",
    "    phi = (hist / volume) / (massBinLimits[1] - massBinLimits[0])\n",
    "\n",
    "    # p = 0.95\n",
    "    # phi_sigma = np.array([scipy.stats.chi2.ppf((1.-p)/2.,2*hist)/2.,\n",
    "    #                       scipy.stats.chi2.ppf(p+(1.-p)/2.,2*(hist+1))/2.])\n",
    "\n",
    "    # phi_sigma = (phi_sigma / volume) / (massBinLimits[1] - massBinLimits[0])\n",
    "\n",
    "    phi_sigma = (np.sqrt(hist) / volume) /\\\n",
    "                (massBinLimits[1] - massBinLimits[0]) # Poisson errors\n",
    "\n",
    "    return phi, phi_sigma, hist"
   ]
  },
  {
   "cell_type": "markdown",
   "id": "bb4c67d0",
   "metadata": {},
   "source": [
    "msun_max = mass_h_msun.max()\n",
    "msun_min = mass_h_msun.min()\n",
    "bins = [np.log10(msun_min), np.log10(msun_max)]"
   ]
  },
  {
   "cell_type": "markdown",
   "id": "385a681b",
   "metadata": {},
   "source": [
    "phi, phi_sigma, hist = calc_df(mass_h_msun, V, bins) # Not sure on mass bin limits so try a few things\n",
    "print('phi: ', phi)\n",
    "print('phi_sigma: ', phi_sigma)\n",
    "print('hist: ', hist)\n",
    "print('Phi: ', Phi)"
   ]
  },
  {
   "cell_type": "markdown",
   "id": "d091c96e",
   "metadata": {},
   "source": [
    "plt.clf()\n",
    "plt.title('Galaxy Stellar Mass Function')\n",
    "plt.yscale('log')\n",
    "plt.xlabel(r'$\\log(M_\\star\\,/\\,M_\\odot)$')\n",
    "plt.ylabel(r'$\\Phi\\,/\\,\\mathrm{dex}^{-1}\\,\\mathrm{Mpc}^{-3}$')\n",
    "plt.plot(mass_sh_msun,phi)"
   ]
  },
  {
   "cell_type": "code",
   "execution_count": 13,
   "id": "c3c1042a",
   "metadata": {},
   "outputs": [],
   "source": [
    "# Taken from Meraxes/Munge Documentation\n",
    "# https://www.ph.unimelb.edu.au/~smutch/docs/dragons/_modules/dragons/munge/munge.html#mass_function\n",
    "def mass_function(mass, volume, bins, range=None, poisson_uncert=False,\n",
    "                  return_edges=False, **kwargs):\n",
    "\n",
    "    \"\"\"Generate a mass function.\n",
    "\n",
    "    *Args*:\n",
    "        mass : array\n",
    "            an array of 'masses'\n",
    "\n",
    "        volume : float\n",
    "            volume of simulation cube/subset\n",
    "\n",
    "        bins : int or list or str\n",
    "            If bins is a string, then it must be one of:\n",
    "                | 'blocks'   : use bayesian blocks for dynamic bin widths\n",
    "                | 'knuth'    : use Knuth's rule to determine bins\n",
    "                | 'scott'    : use Scott's rule to determine bins\n",
    "                | 'freedman' : use the Freedman-diaconis rule to determine bins\n",
    "\n",
    "    *Kwargs*:\n",
    "        range : len=2 list or array\n",
    "            range of data to be used for mass function\n",
    "\n",
    "        poisson_uncert : bool\n",
    "            return poisson uncertainties in output array (default: False)\n",
    "\n",
    "        return_edges : bool\n",
    "            return the bin_edges (default: False)\n",
    "\n",
    "        \\*\\*kwargs\n",
    "            passed to np.histogram call\n",
    "\n",
    "    *Returns*:\n",
    "        array of [bin centers, mass function vals]\n",
    "\n",
    "        If poisson_uncert=True then array has 3rd column with uncertainties.\n",
    "\n",
    "        If return_edges=True then the bin edges are also returned.\n",
    "\n",
    "    *Notes*:\n",
    "        The code to generate the bin_widths is taken from astroML.hist\n",
    "\n",
    "    \"\"\"\n",
    "\n",
    "    if \"normed\" in kwargs:\n",
    "        kwargs[\"normed\"] = False\n",
    "        log.warn(\"Turned off normed kwarg in mass_function()\")\n",
    "\n",
    "    if (range is not None and (bins in ['blocks',\n",
    "                                        'knuth', 'knuths',\n",
    "                                        'scott', 'scotts',\n",
    "                                        'freedman', 'freedmans'])):\n",
    "        mass = mass[(mass >= range[0]) & (mass <= range[1])]\n",
    "\n",
    "    if isinstance(bins, str):\n",
    "        log.info(\"Calculating bin widths using `%s' method...\" % bins)\n",
    "        if bins in ['blocks']:\n",
    "            bins = bayesian_blocks(mass)\n",
    "        elif bins in ['knuth', 'knuths']:\n",
    "            dm, bins = knuth_bin_width(mass, True)\n",
    "        elif bins in ['scott', 'scotts']:\n",
    "            dm, bins = scotts_bin_width(mass, True)\n",
    "        elif bins in ['freedman', 'freedmans']:\n",
    "            dm, bins = freedman_bin_width(mass, True)\n",
    "        else:\n",
    "            raise ValueError(\"unrecognized bin code: '%s'\" % bins)\n",
    "        log.info(\"...done\")\n",
    "\n",
    "    vals, edges = np.histogram(mass, bins, range, **kwargs)\n",
    "    width = edges[1]-edges[0]\n",
    "    radius = width/2.0\n",
    "    centers = edges[:-1]+radius\n",
    "    if poisson_uncert:\n",
    "        uncert = np.sqrt(vals.astype(float))\n",
    "\n",
    "    vals = vals.astype(float) / (volume * width)\n",
    "\n",
    "    if not poisson_uncert:\n",
    "        mf = np.dstack((centers, vals)).squeeze()\n",
    "    else:\n",
    "        uncert /= (volume * width)\n",
    "        mf = np.dstack((centers, vals, uncert)).squeeze()\n",
    "\n",
    "    if not return_edges:\n",
    "        return mf\n",
    "    else:\n",
    "        return mf, edges\n"
   ]
  },
  {
   "cell_type": "markdown",
   "id": "f0f27037",
   "metadata": {},
   "source": [
    "hmf = mass_function(mass_h_msol,V, bins=50,range=None)"
   ]
  },
  {
   "cell_type": "markdown",
   "id": "67f39ecc",
   "metadata": {},
   "source": [
    "#print(plot_number)\n",
    "fig, ax = plt.subplots(1, 1)\n",
    "plt.title(\"Halo Mass Function test\")\n",
    "plot_label = ('Halo mass in Msolar ')\n",
    "\n",
    "ax.plot(hmf[:, 0], np.log10(hmf[:, 1]), color=np.random.rand(3,), lw=2,\n",
    "            label=plot_label)\n",
    "\n",
    "# Set the axis labels.\n",
    "# Note the use of LaTeX here.\n",
    "ax.set_xlabel(r\"$\\log_{10}(M_* / {\\rm M_{\\odot}})$\")\n",
    "ax.set_ylabel(r\"$\\log_{10}(\\phi / {\\rm Mpc^3})$\")\n",
    "\n",
    "# Add the legend\n",
    "ax.legend(loc=\"lower left\")\n",
    "\n",
    "# Finally save the figure as a PDF\n",
    "plt.tight_layout()"
   ]
  },
  {
   "cell_type": "markdown",
   "id": "26f7f41e",
   "metadata": {},
   "source": [
    "# STELLAR MASS"
   ]
  },
  {
   "cell_type": "code",
   "execution_count": 14,
   "id": "7a2d69fe",
   "metadata": {},
   "outputs": [
    {
     "name": "stdout",
     "output_type": "stream",
     "text": [
      "Box size:                 25.00 Mpc/h\n",
      "snapshot redshift:        0.40\n"
     ]
    }
   ],
   "source": [
    "## CV_0/snap_026.hdf5\n",
    "# Need to use PartType4 Masses for STELLAR Mass, not Halo mass\n",
    "snap_stars  = '/home/jovyan/Data/Sims/IllustrisTNG/CV/CV_0/snap_026.hdf5'\n",
    "data = h5py.File(snap_stars, 'r')\n",
    "BoxSize      = data['Header'].attrs[u'BoxSize']/1e3    #size of the snapshot in comoving Mpc/h\n",
    "redshift     = data['Header'].attrs[u'Redshift']       #reshift of the snapshot\n",
    "print('Box size:                 %.2f Mpc/h'%BoxSize)\n",
    "print('snapshot redshift:        %.2f'%redshift)"
   ]
  },
  {
   "cell_type": "code",
   "execution_count": 15,
   "id": "6e86799f",
   "metadata": {},
   "outputs": [
    {
     "name": "stdout",
     "output_type": "stream",
     "text": [
      "Mass of Stars:  [ 7750311.  13212746.   7943322.  ... 10021982.   6979543.5 14673104. ]\n"
     ]
    }
   ],
   "source": [
    "mass_stars = data['PartType4/Masses'][:] # in 1e10𝑀⊙/ℎ\n",
    "mass_stars = data['PartType4/Masses'][:]*1e10 # in 𝑀⊙\n",
    "print('Mass of Stars: ',mass_stars[:])"
   ]
  },
  {
   "cell_type": "code",
   "execution_count": 16,
   "id": "21e8ace4",
   "metadata": {},
   "outputs": [
    {
     "name": "stdout",
     "output_type": "stream",
     "text": [
      "Mass Range:  [613224.56, 25205606.0]\n"
     ]
    }
   ],
   "source": [
    "mass_min, mass_max = mass_stars.min(), mass_stars.max()\n",
    "mass_range = [mass_min, mass_max]\n",
    "print('Mass Range: ',mass_range)"
   ]
  },
  {
   "cell_type": "code",
   "execution_count": 17,
   "id": "1d1837f2",
   "metadata": {},
   "outputs": [
    {
     "name": "stdout",
     "output_type": "stream",
     "text": [
      "Volume 15625.0 Mpc3\n",
      "SMF : [[8.59148375e+05 4.55425543e-09]\n",
      " [1.35099612e+06 1.18410641e-08]\n",
      " [1.84284375e+06 2.21206692e-08]\n",
      " [2.33469125e+06 2.44628577e-08]\n",
      " [2.82653875e+06 3.09689369e-08]\n",
      " [3.31838650e+06 4.25497578e-08]\n",
      " [3.81023400e+06 2.00387239e-07]\n",
      " [4.30208200e+06 6.26145060e-07]\n",
      " [4.79392950e+06 1.13153729e-06]\n",
      " [5.28577700e+06 1.81077196e-06]\n",
      " [5.77762500e+06 2.53880222e-06]\n",
      " [6.26947250e+06 3.28778205e-06]\n",
      " [6.76132000e+06 4.01242915e-06]\n",
      " [7.25316750e+06 4.68008300e-06]\n",
      " [7.74501550e+06 5.46029201e-06]\n",
      " [8.23686300e+06 5.26016502e-06]\n",
      " [8.72871100e+06 5.30271478e-06]\n",
      " [9.22055800e+06 5.20108982e-06]\n",
      " [9.71240600e+06 4.96843243e-06]\n",
      " [1.02042540e+07 4.62829461e-06]\n",
      " [1.06961010e+07 4.25081189e-06]\n",
      " [1.11879490e+07 3.79915988e-06]\n",
      " [1.16797960e+07 3.37795631e-06]\n",
      " [1.21716440e+07 2.93072843e-06]\n",
      " [1.26634920e+07 2.52722140e-06]\n",
      " [1.31553390e+07 2.09508762e-06]\n",
      " [1.36471870e+07 1.69769630e-06]\n",
      " [1.41390350e+07 1.35990067e-06]\n",
      " [1.46308820e+07 1.07142112e-06]\n",
      " [1.51227300e+07 5.55749284e-07]\n",
      " [1.56145770e+07 1.92319701e-07]\n",
      " [1.61064250e+07 1.10733468e-07]\n",
      " [1.65982730e+07 6.58415213e-08]\n",
      " [1.70901200e+07 4.45015816e-08]\n",
      " [1.75819680e+07 3.37014902e-08]\n",
      " [1.80738160e+07 2.31616419e-08]\n",
      " [1.85656640e+07 1.54844685e-08]\n",
      " [1.90575100e+07 1.30121584e-08]\n",
      " [1.95493580e+07 8.71814610e-09]\n",
      " [2.00412060e+07 5.98559285e-09]\n",
      " [2.05330540e+07 4.94462018e-09]\n",
      " [2.10249020e+07 3.38316117e-09]\n",
      " [2.15167480e+07 3.90364751e-09]\n",
      " [2.20085960e+07 4.16389068e-09]\n",
      " [2.25004440e+07 2.99279642e-09]\n",
      " [2.29922920e+07 3.38316117e-09]\n",
      " [2.34841400e+07 1.17109425e-09]\n",
      " [2.39759880e+07 1.82170217e-09]\n",
      " [2.44678340e+07 1.04097267e-09]\n",
      " [2.49596820e+07 5.20486335e-10]]\n"
     ]
    }
   ],
   "source": [
    "V = BoxSize**3 \n",
    "print('Volume', V, 'Mpc3')\n",
    "\n",
    "smf = mass_function(mass_stars,V, bins=50,range=mass_range)\n",
    "print('SMF :', smf)"
   ]
  },
  {
   "cell_type": "code",
   "execution_count": 18,
   "id": "316407ac",
   "metadata": {},
   "outputs": [
    {
     "data": {
      "image/png": "[encoded data removed]",
      "text/plain": [
       "<Figure size 640x480 with 1 Axes>"
      ]
     },
     "metadata": {},
     "output_type": "display_data"
    }
   ],
   "source": [
    "#print(plot_number)\n",
    "fig, ax = plt.subplots(1, 1)\n",
    "plt.title(\"Stellar Mass Function test\")\n",
    "plot_label = ('Stellar mass in Msolar ')\n",
    "# x,y\n",
    "#x = np.log10(smf[:, 0])\n",
    "x = smf[:,0]\n",
    "y = np.log10(smf[:,1])\n",
    "#y = smf[:, 1]\n",
    "ax.plot(x,y, color=np.random.rand(3,), lw=2,\n",
    "            label=plot_label)\n",
    "\n",
    "# Set the axis labels.\n",
    "# Note the use of LaTeX here.\n",
    "ax.set_xlabel(r\"$\\log_{10}(M_* / {\\rm M_{\\odot}})$\")\n",
    "ax.set_ylabel(r\"$\\log_{10}(\\phi / {\\rm Mpc^3})$\")\n",
    "\n",
    "# Apply logarithmic scale to both x and y axes\n",
    "#ax.set_xscale('log')\n",
    "#ax.set_yscale('log')  # A\n",
    "\n",
    "# Add the legend\n",
    "ax.legend(loc=\"lower left\")\n",
    "\n",
    "# Finally save the figure as a PDF\n",
    "plt.tight_layout()"
   ]
  }
 ],
 "metadata": {
  "kernelspec": {
   "display_name": "Python 3 (ipykernel)",
   "language": "python",
   "name": "python3"
  },
  "language_info": {
   "codemirror_mode": {
    "name": "ipython",
    "version": 3
   },
   "file_extension": ".py",
   "mimetype": "text/x-python",
   "name": "python",
   "nbconvert_exporter": "python",
   "pygments_lexer": "ipython3",
   "version": "3.9.15"
  }
 },
 "nbformat": 4,
 "nbformat_minor": 5
}
