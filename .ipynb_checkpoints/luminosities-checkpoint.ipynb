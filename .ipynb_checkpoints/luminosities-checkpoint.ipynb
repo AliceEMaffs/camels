{
 "cells": [
  {
   "cell_type": "code",
   "execution_count": 1,
   "id": "d05ec1b8",
   "metadata": {},
   "outputs": [],
   "source": [
    "# SubhaloStellarPhotometrics = Eight bands: U, B, V, K, g, r, i, z. \n",
    "# Magnitudes based on the summed-up luminosities of all the stellar particles of the group. \n",
    "# For details on the bands, see snapshot table for stars.\n",
    "# Minimal Reproducable Example to check errors\n",
    "import numpy as np\n",
    "import h5py\n",
    "import hdf5plugin\n",
    "import matplotlib.pyplot as plt\n",
    "import matplotlib.colors as mcolors\n",
    "from scipy import integrate\n"
   ]
  },
  {
   "cell_type": "code",
   "execution_count": 2,
   "id": "471de0b3",
   "metadata": {},
   "outputs": [
    {
     "name": "stdout",
     "output_type": "stream",
     "text": [
      "Box size:                 25.00 Mpc/h\n",
      "snapshot redshift:        0.40\n",
      "Volume 15625.00 Mpc^3\n"
     ]
    }
   ],
   "source": [
    "## CV_0/snap_026.hdf5\n",
    "# Need to use PartType4 Masses for STELLAR Mass, not Halo mass\n",
    "snap_stars  = '/home/jovyan/Data/Sims/IllustrisTNG/CV/CV_0/snap_026.hdf5'\n",
    "data = h5py.File(snap_stars, 'r')\n",
    "BoxSize      = data['Header'].attrs[u'BoxSize']/1e3    #size of the snapshot in comoving Mpc/h\n",
    "redshift026     = data['Header'].attrs[u'Redshift']       #reshift of the snapshot\n",
    "print('Box size:                 %.2f Mpc/h'%BoxSize)\n",
    "print('snapshot redshift:        %.2f'%redshift026)\n",
    "# Need to use comoving volume \n",
    "#𝑉com=𝑉phys(1+𝑧)3\n",
    "Vphys = BoxSize**3 \n",
    "Vcom = Vphys*(1+redshift026)**3 \n",
    "print('Volume %.2f Mpc^3'%Vphys)"
   ]
  },
  {
   "cell_type": "code",
   "execution_count": 3,
   "id": "60f4b95d",
   "metadata": {},
   "outputs": [],
   "source": [
    "import os\n",
    "import numpy as np\n",
    "import h5py\n",
    "\n",
    "def combine_mass_data(filename, snap_file):\n",
    "    data_directory = '/home/jovyan/Data/Sims/IllustrisTNG/CV/'\n",
    "    \n",
    "    # Create an empty list to store data arrays\n",
    "    mass_arrays_list = []\n",
    "    lumi_arrays_list = []\n",
    "    \n",
    "    # Initialize redshift to None\n",
    "    redshift = None\n",
    "\n",
    "    # Iterate through directories and files\n",
    "    for folder_name in os.listdir(data_directory):\n",
    "        folder_path = os.path.join(data_directory, folder_name)\n",
    "\n",
    "        # Check if it's a directory and its name starts with \"CV_\"\n",
    "        if os.path.isdir(folder_path) and folder_name.startswith(\"CV_\"):\n",
    "            file_path = os.path.join(folder_path, filename)  # Use the provided filename\n",
    "\n",
    "            # Check if the file exists\n",
    "            if os.path.isfile(file_path):\n",
    "                with h5py.File(file_path, 'r') as hdf_file:\n",
    "                    # MASS DATA\n",
    "                    # Read the mass data from the HDF5 file\n",
    "                    mass_data = hdf_file['Subhalo/SubhaloMassType'][:] #in 1e10 Msol\n",
    "\n",
    "                    # Remove 0 values from the mass data\n",
    "                    mass_data = mass_data[mass_data != 0]\n",
    "                    # Append the mass data array to the list\n",
    "                    # Multiply masses by 10^10 for solar masses\n",
    "                    mass_data = mass_data*1e10\n",
    "                    mass_arrays_list.append(mass_data)\n",
    "                    mass_arrays_list.append(mass_data)\n",
    "                    \n",
    "                    # LUMINOSITY\n",
    "                    luminosity = hdf_file['Subhalo/SubhaloStellarPhotometrics'][:] # in mag\n",
    "                    luminosity = luminosity[luminosity < 10^2]\n",
    "                    lumi_arrays_list.append(luminosity)\n",
    "                    lumi_arrays_list.append(luminosity)\n",
    "                    \n",
    "                    # REDSHIFT DATA\n",
    "                    # Read redshift from the snapshot file (assuming they are all the same)\n",
    "                    if redshift is None:\n",
    "                        snapshot_file = os.path.join(folder_path, snap_file)\n",
    "                        with h5py.File(snapshot_file, 'r') as snap_data:\n",
    "                            redshift = snap_data['Header'].attrs[u'Redshift']\n",
    "\n",
    "    # Combine the arrays into one NumPy array\n",
    "    stellar_mass = np.concatenate(mass_arrays_list)\n",
    "    luminosity = np.concatenate(lumi_arrays_list)\n",
    "    \n",
    "    return stellar_mass, luminosity, redshift\n"
   ]
  },
  {
   "cell_type": "code",
   "execution_count": 15,
   "id": "968f134f",
   "metadata": {},
   "outputs": [],
   "source": [
    "import os\n",
    "import numpy as np\n",
    "import h5py\n",
    "import pandas as pd\n",
    "\n",
    "def combine_mass_data(filename, snap_file):\n",
    "    data_directory = '/home/jovyan/Data/Sims/IllustrisTNG/CV/'\n",
    "    \n",
    "    # Create empty lists to store data arrays\n",
    "    mass_arrays_list = []\n",
    "    lumi_arrays_list = []\n",
    "    redshifts = []\n",
    "\n",
    "    # Iterate through directories and files\n",
    "    for folder_name in os.listdir(data_directory):\n",
    "        folder_path = os.path.join(data_directory, folder_name)\n",
    "\n",
    "        # Check if it's a directory and its name starts with \"CV_\"\n",
    "        if os.path.isdir(folder_path) and folder_name.startswith(\"CV_\"):\n",
    "            file_path = os.path.join(folder_path, filename)  # Use the provided filename\n",
    "\n",
    "            # Check if the file exists\n",
    "            if os.path.isfile(file_path):\n",
    "                with h5py.File(file_path, 'r') as hdf_file:\n",
    "                    # MASS DATA\n",
    "                    # Read the mass data from the HDF5 file\n",
    "                    mass_data = hdf_file['Subhalo/SubhaloMassType'][:]  # in 1e10 Msol\n",
    "\n",
    "                    # Remove 0 values from the mass data\n",
    "                    mass_data = mass_data[mass_data != 0]\n",
    "                    # Append the mass data array to the list\n",
    "                    # Multiply masses by 10^10 for solar masses\n",
    "                    mass_data = mass_data * 1e10\n",
    "                    mass_arrays_list.append(mass_data)\n",
    "\n",
    "                    # LUMINOSITY\n",
    "                    luminosity = hdf_file['Subhalo/SubhaloStellarPhotometrics'][:]  # in mag\n",
    "                    luminosity = luminosity[luminosity < 10^2]\n",
    "                    lumi_arrays_list.append(luminosity)\n",
    "\n",
    "                    # REDSHIFT DATA\n",
    "                    # Read redshift from the snapshot file (assuming they are all the same)\n",
    "                    snapshot_file = os.path.join(folder_path, snap_file)\n",
    "                    with h5py.File(snapshot_file, 'r') as snap_data:\n",
    "                        redshift = snap_data['Header'].attrs[u'Redshift']\n",
    "                        redshifts.append(redshift)\n",
    "\n",
    "    # Combine the arrays into one NumPy array\n",
    "    stellar_mass = np.concatenate(mass_arrays_list)\n",
    "    luminosity = np.concatenate(lumi_arrays_list)\n",
    "    \n",
    "    # Create a DataFrame\n",
    "    data = {'Stellar Mass': stellar_mass, 'Luminosity': luminosity, 'Redshift': redshifts}\n",
    "    df = pd.DataFrame(data)\n",
    "    \n",
    "    return df\n"
   ]
  },
  {
   "cell_type": "code",
   "execution_count": 41,
   "id": "c035d836",
   "metadata": {},
   "outputs": [
    {
     "data": {
      "text/plain": [
       "array([[-22.760828, -22.905073, -23.630621, -26.348427, -23.302801,\n",
       "        -23.931154, -24.239182, -24.45512 ],\n",
       "       [-20.387388, -20.856401, -21.74447 , -24.789324, -21.32113 ,\n",
       "        -22.089775, -22.457073, -22.730309],\n",
       "       [-20.723825, -20.852219, -21.38907 , -23.815594, -21.186266,\n",
       "        -21.614363, -21.823238, -21.980972],\n",
       "       [-19.788157, -20.215736, -21.081656, -24.070078, -20.67191 ,\n",
       "        -21.41969 , -21.775614, -22.036707],\n",
       "       [-20.839254, -20.587692, -21.06225 , -23.561815, -20.888477,\n",
       "        -21.286276, -21.511185, -21.685541]], dtype=float32)"
      ]
     },
     "execution_count": 41,
     "metadata": {},
     "output_type": "execute_result"
    }
   ],
   "source": [
    "# get the name of Subfind halo catalog\n",
    "hdf_file  = '/home/jovyan/Data/FOF_Subfind/IllustrisTNG/CV/CV_0/fof_subhalo_tab_026.hdf5'\n",
    "# read halo catalogue\n",
    "subh = h5py.File(hdf_file, 'r')\n",
    "subh.keys()\n",
    "luminosity = subh['Subhalo/SubhaloStellarPhotometrics']\n",
    "luminosity[:5] # 0 = U band, 5 = g band see here https://iopscience.iop.org/article/10.1086/324741/pdf"
   ]
  },
  {
   "cell_type": "code",
   "execution_count": 14,
   "id": "9ce19780",
   "metadata": {},
   "outputs": [
    {
     "name": "stdout",
     "output_type": "stream",
     "text": [
      "BoxSize: 25000.0\n",
      "FlagDoubleprecision: 0\n",
      "Git_commit: b'4ab97a2c5659df3e83e01c53f8142816fc0db675'\n",
      "Git_date: b'Tue May 3 10:27:55 2016 +0200'\n",
      "HubbleParam: 0.6711\n",
      "Ngroups_ThisFile: 21264\n",
      "Ngroups_Total: 21264\n",
      "Nids_ThisFile: 11318765\n",
      "Nids_Total: 11318765\n",
      "Nsubgroups_ThisFile: 18326\n",
      "Nsubgroups_Total: 18326\n",
      "NumFiles: 1\n",
      "Omega0: 0.3\n",
      "OmegaLambda: 0.7\n",
      "Redshift: 0.3966142458048434\n",
      "Time: 0.7160173276220008\n"
     ]
    }
   ],
   "source": [
    "# get the name of Subfind halo catalog\n",
    "hdf_file  = '/home/jovyan/Data/FOF_Subfind/IllustrisTNG/CV/CV_0/fof_subhalo_tab_026.hdf5'\n",
    "# read halo catalogue\n",
    "subh = h5py.File(hdf_file, 'r')\n",
    "\n",
    "\n",
    "# Iterate over all attributes and print their names and values\n",
    "for attr_name in subh['Header'].attrs:\n",
    "    attr_value = subh['Header'].attrs[attr_name]\n",
    "    print(f'{attr_name}: {attr_value}')\n"
   ]
  },
  {
   "cell_type": "code",
   "execution_count": 5,
   "id": "6938f7de",
   "metadata": {},
   "outputs": [
    {
     "ename": "ValueError",
     "evalue": "All arrays must be of the same length",
     "output_type": "error",
     "traceback": [
      "\u001b[0;31m---------------------------------------------------------------------------\u001b[0m",
      "\u001b[0;31mValueError\u001b[0m                                Traceback (most recent call last)",
      "Cell \u001b[0;32mIn [5], line 1\u001b[0m\n\u001b[0;32m----> 1\u001b[0m df_033 \u001b[38;5;241m=\u001b[39m \u001b[43mcombine_mass_data\u001b[49m\u001b[43m(\u001b[49m\u001b[38;5;124;43m'\u001b[39;49m\u001b[38;5;124;43mfof_subhalo_tab_033.hdf5\u001b[39;49m\u001b[38;5;124;43m'\u001b[39;49m\u001b[43m)\u001b[49m\u001b[38;5;66;03m#, 'snap_033.hdf5')\u001b[39;00m\n\u001b[1;32m      2\u001b[0m df_026 \u001b[38;5;241m=\u001b[39m combine_mass_data(\u001b[38;5;124m'\u001b[39m\u001b[38;5;124mfof_subhalo_tab_026.hdf5\u001b[39m\u001b[38;5;124m'\u001b[39m)\u001b[38;5;66;03m#, 'snap_026.hdf5')\u001b[39;00m\n\u001b[1;32m      3\u001b[0m df_013 \u001b[38;5;241m=\u001b[39m combine_mass_data(\u001b[38;5;124m'\u001b[39m\u001b[38;5;124mfof_subhalo_tab_013.hdf5\u001b[39m\u001b[38;5;124m'\u001b[39m)\n",
      "Cell \u001b[0;32mIn [4], line 46\u001b[0m, in \u001b[0;36mcombine_mass_data\u001b[0;34m(filename)\u001b[0m\n\u001b[1;32m     44\u001b[0m                 \u001b[38;5;66;03m# Create a DataFrame for this file's data\u001b[39;00m\n\u001b[1;32m     45\u001b[0m                 data \u001b[38;5;241m=\u001b[39m {\u001b[38;5;124m'\u001b[39m\u001b[38;5;124mStellar Mass\u001b[39m\u001b[38;5;124m'\u001b[39m: mass_data, \u001b[38;5;124m'\u001b[39m\u001b[38;5;124mLuminosity\u001b[39m\u001b[38;5;124m'\u001b[39m: luminosity}\u001b[38;5;66;03m#, 'Redshift': redshift}\u001b[39;00m\n\u001b[0;32m---> 46\u001b[0m                 df \u001b[38;5;241m=\u001b[39m \u001b[43mpd\u001b[49m\u001b[38;5;241;43m.\u001b[39;49m\u001b[43mDataFrame\u001b[49m\u001b[43m(\u001b[49m\u001b[43mdata\u001b[49m\u001b[43m)\u001b[49m\n\u001b[1;32m     47\u001b[0m                 df_list\u001b[38;5;241m.\u001b[39mappend(df)\n\u001b[1;32m     49\u001b[0m \u001b[38;5;66;03m# Concatenate all DataFrames into a single DataFrame\u001b[39;00m\n",
      "File \u001b[0;32m/srv/conda/envs/notebook/lib/python3.9/site-packages/pandas/core/frame.py:709\u001b[0m, in \u001b[0;36mDataFrame.__init__\u001b[0;34m(self, data, index, columns, dtype, copy)\u001b[0m\n\u001b[1;32m    703\u001b[0m     mgr \u001b[38;5;241m=\u001b[39m \u001b[38;5;28mself\u001b[39m\u001b[38;5;241m.\u001b[39m_init_mgr(\n\u001b[1;32m    704\u001b[0m         data, axes\u001b[38;5;241m=\u001b[39m{\u001b[38;5;124m\"\u001b[39m\u001b[38;5;124mindex\u001b[39m\u001b[38;5;124m\"\u001b[39m: index, \u001b[38;5;124m\"\u001b[39m\u001b[38;5;124mcolumns\u001b[39m\u001b[38;5;124m\"\u001b[39m: columns}, dtype\u001b[38;5;241m=\u001b[39mdtype, copy\u001b[38;5;241m=\u001b[39mcopy\n\u001b[1;32m    705\u001b[0m     )\n\u001b[1;32m    707\u001b[0m \u001b[38;5;28;01melif\u001b[39;00m \u001b[38;5;28misinstance\u001b[39m(data, \u001b[38;5;28mdict\u001b[39m):\n\u001b[1;32m    708\u001b[0m     \u001b[38;5;66;03m# GH#38939 de facto copy defaults to False only in non-dict cases\u001b[39;00m\n\u001b[0;32m--> 709\u001b[0m     mgr \u001b[38;5;241m=\u001b[39m \u001b[43mdict_to_mgr\u001b[49m\u001b[43m(\u001b[49m\u001b[43mdata\u001b[49m\u001b[43m,\u001b[49m\u001b[43m \u001b[49m\u001b[43mindex\u001b[49m\u001b[43m,\u001b[49m\u001b[43m \u001b[49m\u001b[43mcolumns\u001b[49m\u001b[43m,\u001b[49m\u001b[43m \u001b[49m\u001b[43mdtype\u001b[49m\u001b[38;5;241;43m=\u001b[39;49m\u001b[43mdtype\u001b[49m\u001b[43m,\u001b[49m\u001b[43m \u001b[49m\u001b[43mcopy\u001b[49m\u001b[38;5;241;43m=\u001b[39;49m\u001b[43mcopy\u001b[49m\u001b[43m,\u001b[49m\u001b[43m \u001b[49m\u001b[43mtyp\u001b[49m\u001b[38;5;241;43m=\u001b[39;49m\u001b[43mmanager\u001b[49m\u001b[43m)\u001b[49m\n\u001b[1;32m    710\u001b[0m \u001b[38;5;28;01melif\u001b[39;00m \u001b[38;5;28misinstance\u001b[39m(data, ma\u001b[38;5;241m.\u001b[39mMaskedArray):\n\u001b[1;32m    711\u001b[0m     \u001b[38;5;28;01mfrom\u001b[39;00m \u001b[38;5;21;01mnumpy\u001b[39;00m\u001b[38;5;21;01m.\u001b[39;00m\u001b[38;5;21;01mma\u001b[39;00m \u001b[38;5;28;01mimport\u001b[39;00m mrecords\n",
      "File \u001b[0;32m/srv/conda/envs/notebook/lib/python3.9/site-packages/pandas/core/internals/construction.py:481\u001b[0m, in \u001b[0;36mdict_to_mgr\u001b[0;34m(data, index, columns, dtype, typ, copy)\u001b[0m\n\u001b[1;32m    477\u001b[0m     \u001b[38;5;28;01melse\u001b[39;00m:\n\u001b[1;32m    478\u001b[0m         \u001b[38;5;66;03m# dtype check to exclude e.g. range objects, scalars\u001b[39;00m\n\u001b[1;32m    479\u001b[0m         arrays \u001b[38;5;241m=\u001b[39m [x\u001b[38;5;241m.\u001b[39mcopy() \u001b[38;5;28;01mif\u001b[39;00m \u001b[38;5;28mhasattr\u001b[39m(x, \u001b[38;5;124m\"\u001b[39m\u001b[38;5;124mdtype\u001b[39m\u001b[38;5;124m\"\u001b[39m) \u001b[38;5;28;01melse\u001b[39;00m x \u001b[38;5;28;01mfor\u001b[39;00m x \u001b[38;5;129;01min\u001b[39;00m arrays]\n\u001b[0;32m--> 481\u001b[0m \u001b[38;5;28;01mreturn\u001b[39;00m \u001b[43marrays_to_mgr\u001b[49m\u001b[43m(\u001b[49m\u001b[43marrays\u001b[49m\u001b[43m,\u001b[49m\u001b[43m \u001b[49m\u001b[43mcolumns\u001b[49m\u001b[43m,\u001b[49m\u001b[43m \u001b[49m\u001b[43mindex\u001b[49m\u001b[43m,\u001b[49m\u001b[43m \u001b[49m\u001b[43mdtype\u001b[49m\u001b[38;5;241;43m=\u001b[39;49m\u001b[43mdtype\u001b[49m\u001b[43m,\u001b[49m\u001b[43m \u001b[49m\u001b[43mtyp\u001b[49m\u001b[38;5;241;43m=\u001b[39;49m\u001b[43mtyp\u001b[49m\u001b[43m,\u001b[49m\u001b[43m \u001b[49m\u001b[43mconsolidate\u001b[49m\u001b[38;5;241;43m=\u001b[39;49m\u001b[43mcopy\u001b[49m\u001b[43m)\u001b[49m\n",
      "File \u001b[0;32m/srv/conda/envs/notebook/lib/python3.9/site-packages/pandas/core/internals/construction.py:115\u001b[0m, in \u001b[0;36marrays_to_mgr\u001b[0;34m(arrays, columns, index, dtype, verify_integrity, typ, consolidate)\u001b[0m\n\u001b[1;32m    112\u001b[0m \u001b[38;5;28;01mif\u001b[39;00m verify_integrity:\n\u001b[1;32m    113\u001b[0m     \u001b[38;5;66;03m# figure out the index, if necessary\u001b[39;00m\n\u001b[1;32m    114\u001b[0m     \u001b[38;5;28;01mif\u001b[39;00m index \u001b[38;5;129;01mis\u001b[39;00m \u001b[38;5;28;01mNone\u001b[39;00m:\n\u001b[0;32m--> 115\u001b[0m         index \u001b[38;5;241m=\u001b[39m \u001b[43m_extract_index\u001b[49m\u001b[43m(\u001b[49m\u001b[43marrays\u001b[49m\u001b[43m)\u001b[49m\n\u001b[1;32m    116\u001b[0m     \u001b[38;5;28;01melse\u001b[39;00m:\n\u001b[1;32m    117\u001b[0m         index \u001b[38;5;241m=\u001b[39m ensure_index(index)\n",
      "File \u001b[0;32m/srv/conda/envs/notebook/lib/python3.9/site-packages/pandas/core/internals/construction.py:655\u001b[0m, in \u001b[0;36m_extract_index\u001b[0;34m(data)\u001b[0m\n\u001b[1;32m    653\u001b[0m lengths \u001b[38;5;241m=\u001b[39m \u001b[38;5;28mlist\u001b[39m(\u001b[38;5;28mset\u001b[39m(raw_lengths))\n\u001b[1;32m    654\u001b[0m \u001b[38;5;28;01mif\u001b[39;00m \u001b[38;5;28mlen\u001b[39m(lengths) \u001b[38;5;241m>\u001b[39m \u001b[38;5;241m1\u001b[39m:\n\u001b[0;32m--> 655\u001b[0m     \u001b[38;5;28;01mraise\u001b[39;00m \u001b[38;5;167;01mValueError\u001b[39;00m(\u001b[38;5;124m\"\u001b[39m\u001b[38;5;124mAll arrays must be of the same length\u001b[39m\u001b[38;5;124m\"\u001b[39m)\n\u001b[1;32m    657\u001b[0m \u001b[38;5;28;01mif\u001b[39;00m have_dicts:\n\u001b[1;32m    658\u001b[0m     \u001b[38;5;28;01mraise\u001b[39;00m \u001b[38;5;167;01mValueError\u001b[39;00m(\n\u001b[1;32m    659\u001b[0m         \u001b[38;5;124m\"\u001b[39m\u001b[38;5;124mMixing dicts with non-Series may lead to ambiguous ordering.\u001b[39m\u001b[38;5;124m\"\u001b[39m\n\u001b[1;32m    660\u001b[0m     )\n",
      "\u001b[0;31mValueError\u001b[0m: All arrays must be of the same length"
     ]
    }
   ],
   "source": [
    "df_033 = combine_mass_data('fof_subhalo_tab_033.hdf5')#, 'snap_033.hdf5')\n",
    "df_026 = combine_mass_data('fof_subhalo_tab_026.hdf5')#, 'snap_026.hdf5')\n",
    "df_013 = combine_mass_data('fof_subhalo_tab_013.hdf5')#, 'snap_013.hdf5')\n"
   ]
  },
  {
   "cell_type": "code",
   "execution_count": null,
   "id": "3968c1fd",
   "metadata": {},
   "outputs": [],
   "source": [
    "mass_033"
   ]
  },
  {
   "cell_type": "code",
   "execution_count": null,
   "id": "4f84ccaa",
   "metadata": {},
   "outputs": [],
   "source": [
    "lumi_033\n"
   ]
  },
  {
   "cell_type": "code",
   "execution_count": null,
   "id": "4f19aaf4",
   "metadata": {},
   "outputs": [],
   "source": [
    "label_033=\"z = %.2f\"%z_033\n",
    "label_026=\"z = %.2f\"%z_026\n",
    "label_013=\"z = %.2f\"%z_013\n",
    "\n",
    "plt.clf()\n",
    "#plt.xlim(0, np.max(Max))  # Adjust the limits as needed\n",
    "#plt.yscale('log')\n",
    "#plt.xscale('log')\n",
    "plt.xlabel(r'Galaxy Stellar Mass $M_{\\odot}$')\n",
    "plt.ylabel(r'Luminosity [mag]')\n",
    "plt.plot(mass_033, lumi_033, linestyle='-', linewidth=1, marker='+', markersize=5, color='green', label=label_033) # np.random.rand(3,)\n",
    "plt.plot(mass_026, lumi_026, linestyle='-', linewidth=1, marker='+', markersize=5, color='purple', label=label_026)\n",
    "plt.plot(mass_013, lumi_013, linestyle='-', linewidth=1, marker='+', markersize=5, color='grey', label=label_013)\n",
    "plt.legend(loc='upper right')  # Add a legend with label for the data\n",
    "# Set x and y limits\n",
    "'''\n",
    "xmin = 1e7\n",
    "xmax = 1e12\n",
    "ymin = 1e-6\n",
    "ymax = 1e1\n",
    "plt.xlim(xmin, xmax)  # Replace xmin and xmax with your desired x-axis limits\n",
    "plt.ylim(ymin, ymax)  # Replace ymin and ymax with your desired y-axis limits\n",
    "\n",
    "'''\n",
    "\n",
    "plt.title('Luminosity vs Galaxy Stellar Mass')  # Add a title to the plot\n"
   ]
  },
  {
   "cell_type": "code",
   "execution_count": null,
   "id": "2d0a2269",
   "metadata": {},
   "outputs": [],
   "source": []
  }
 ],
 "metadata": {
  "kernelspec": {
   "display_name": "Python 3 (ipykernel)",
   "language": "python",
   "name": "python3"
  },
  "language_info": {
   "codemirror_mode": {
    "name": "ipython",
    "version": 3
   },
   "file_extension": ".py",
   "mimetype": "text/x-python",
   "name": "python",
   "nbconvert_exporter": "python",
   "pygments_lexer": "ipython3",
   "version": "3.9.15"
  }
 },
 "nbformat": 4,
 "nbformat_minor": 5
}
