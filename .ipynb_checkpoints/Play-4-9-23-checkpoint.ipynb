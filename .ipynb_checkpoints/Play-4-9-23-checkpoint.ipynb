{
 "cells": [
  {
   "cell_type": "code",
   "execution_count": 1,
   "id": "6d3a37bd",
   "metadata": {},
   "outputs": [],
   "source": [
    "# Just playing around again\n",
    "#  lets use redshifts 0.4 - 0.6\n",
    "#  snapshots: 026, 025, 024, 023 = z: 0.4, 0.47, 0.54, 0.61 (from 34 snaps)\n",
    "#  can use IllustrisTNG: LH, 1P, CV, EX, BE\n",
    "#  start with LH as has the most\n",
    "import numpy as np\n",
    "import h5py\n",
    "import hdf5plugin\n",
    "import matplotlib.pyplot as plt"
   ]
  },
  {
   "cell_type": "code",
   "execution_count": 2,
   "id": "a71c6ee3",
   "metadata": {},
   "outputs": [],
   "source": [
    "# get the name of Subfind halo catalog\n",
    "subhalos  = '/home/jovyan/Data/FOF_Subfind/IllustrisTNG/CV/CV_0/fof_subhalo_tab_026.hdf5'"
   ]
  },
  {
   "cell_type": "code",
   "execution_count": 3,
   "id": "81ab4c99",
   "metadata": {},
   "outputs": [
    {
     "data": {
      "text/plain": [
       "<KeysViewHDF5 ['Config', 'Group', 'Header', 'IDs', 'Parameters', 'Subhalo']>"
      ]
     },
     "execution_count": 3,
     "metadata": {},
     "output_type": "execute_result"
    }
   ],
   "source": [
    "# read halo catalogue\n",
    "subh = h5py.File(subhalos, 'r')\n",
    "subh.keys()"
   ]
  },
  {
   "cell_type": "code",
   "execution_count": 4,
   "id": "88f105ef",
   "metadata": {},
   "outputs": [
    {
     "data": {
      "text/plain": [
       "<KeysViewHDF5 ['GroupBHMass', 'GroupBHMdot', 'GroupCM', 'GroupFirstSub', 'GroupGasMetalFractions', 'GroupGasMetallicity', 'GroupLen', 'GroupLenType', 'GroupMass', 'GroupMassType', 'GroupNsubs', 'GroupPos', 'GroupSFR', 'GroupStarMetalFractions', 'GroupStarMetallicity', 'GroupVel', 'GroupWindMass', 'Group_M_Crit200', 'Group_M_Crit500', 'Group_M_Mean200', 'Group_M_TopHat200', 'Group_R_Crit200', 'Group_R_Crit500', 'Group_R_Mean200', 'Group_R_TopHat200']>"
      ]
     },
     "execution_count": 4,
     "metadata": {},
     "output_type": "execute_result"
    }
   ],
   "source": [
    "subh['Group'].keys()"
   ]
  },
  {
   "cell_type": "code",
   "execution_count": 5,
   "id": "2ecd1394",
   "metadata": {},
   "outputs": [
    {
     "data": {
      "text/plain": [
       "<KeysViewHDF5 ['SubhaloBHMass', 'SubhaloBHMdot', 'SubhaloBfldDisk', 'SubhaloBfldHalo', 'SubhaloCM', 'SubhaloGasMetalFractions', 'SubhaloGasMetalFractionsHalfRad', 'SubhaloGasMetalFractionsMaxRad', 'SubhaloGasMetalFractionsSfr', 'SubhaloGasMetalFractionsSfrWeighted', 'SubhaloGasMetallicity', 'SubhaloGasMetallicityHalfRad', 'SubhaloGasMetallicityMaxRad', 'SubhaloGasMetallicitySfr', 'SubhaloGasMetallicitySfrWeighted', 'SubhaloGrNr', 'SubhaloHalfmassRad', 'SubhaloHalfmassRadType', 'SubhaloIDMostbound', 'SubhaloLen', 'SubhaloLenType', 'SubhaloMass', 'SubhaloMassInHalfRad', 'SubhaloMassInHalfRadType', 'SubhaloMassInMaxRad', 'SubhaloMassInMaxRadType', 'SubhaloMassInRad', 'SubhaloMassInRadType', 'SubhaloMassType', 'SubhaloParent', 'SubhaloPos', 'SubhaloSFR', 'SubhaloSFRinHalfRad', 'SubhaloSFRinMaxRad', 'SubhaloSFRinRad', 'SubhaloSpin', 'SubhaloStarMetalFractions', 'SubhaloStarMetalFractionsHalfRad', 'SubhaloStarMetalFractionsMaxRad', 'SubhaloStarMetallicity', 'SubhaloStarMetallicityHalfRad', 'SubhaloStarMetallicityMaxRad', 'SubhaloStellarPhotometrics', 'SubhaloStellarPhotometricsMassInRad', 'SubhaloStellarPhotometricsRad', 'SubhaloVel', 'SubhaloVelDisp', 'SubhaloVmax', 'SubhaloVmaxRad', 'SubhaloWindMass']>"
      ]
     },
     "execution_count": 5,
     "metadata": {},
     "output_type": "execute_result"
    }
   ],
   "source": [
    "subh['Subhalo'].keys()"
   ]
  },
  {
   "cell_type": "code",
   "execution_count": 6,
   "id": "2d7ac5a2",
   "metadata": {},
   "outputs": [],
   "source": [
    "pos_h     = subh['Group/GroupPos'][:]/1e3   #Mpc/h\n",
    "vel_h     = subh['Group/GroupVel'][:]       #km/s\n",
    "SFR_h     = subh['Group/GroupSFR'][:]       #Msun/yr\n",
    "mass_h    = subh['Group/GroupMass'][:]*1e10 #Msun/h\n",
    "len_h     = subh['Group/GroupLen'][:]       #the total number of particles in the halo (gas+dm+stars+black_holes)\n",
    "lentype_h = subh['Group/GroupLenType'][:]   #the number of particles in a halo by particle type\n",
    "#subh.close()"
   ]
  },
  {
   "cell_type": "code",
   "execution_count": 7,
   "id": "cd35b7e4",
   "metadata": {},
   "outputs": [
    {
     "name": "stdout",
     "output_type": "stream",
     "text": [
      "position: [15.942893  16.68846    3.9835398] Mpc/h\n",
      "velocity: [-145.14125 -160.77405  -94.18773] km/s\n",
      "mass: 3.263e+11 Msun/h\n",
      "total length: 7176 particles\n",
      "number of particles by type: [2274 4497    0    0  404    1]\n"
     ]
    }
   ],
   "source": [
    "index = 167 #index of the halo\n",
    "print('position:',pos_h[index],'Mpc/h')\n",
    "print('velocity:',vel_h[index],'km/s')\n",
    "print('mass: %.3e Msun/h'%mass_h[index])\n",
    "print('total length:',len_h[index],'particles')\n",
    "print('number of particles by type:',lentype_h[index])"
   ]
  },
  {
   "cell_type": "markdown",
   "id": "63c8b162",
   "metadata": {},
   "source": [
    "#PartType0. This group contains the properties of the gas particles.\n",
    "\n",
    "#PartType1. This group contains the properties of the dark matter particles.\n",
    "\n",
    "#PartType4. This group contains the properties of the star particles.\n",
    "\n",
    "#PartType5. This group contains the properties of the black hole particles."
   ]
  },
  {
   "cell_type": "code",
   "execution_count": 18,
   "id": "1415f6d7",
   "metadata": {},
   "outputs": [
    {
     "name": "stdout",
     "output_type": "stream",
     "text": [
      "Stellar mass:  [4.2043770e+03 1.9805407e+01 3.5713192e+01 ... 1.6220157e-01 1.6220157e-01\n",
      " 1.6868964e-01]\n",
      "Stellar Mass in M sun [5.9721264e+13 2.8132681e+11 5.0728967e+11 ... 2.3039997e+09 2.3039997e+09\n",
      " 2.3961597e+09]\n"
     ]
    }
   ],
   "source": [
    "# need PartType4 for stars\n",
    "mass_sh = subh['Subhalo/SubhaloMass'][:]\n",
    "print('Stellar mass: ', mass_sh)\n",
    "\n",
    "mass_sh_msun = mass_sh[:] * 1e10 / 0.704\n",
    "print('Stellar Mass in M sun', mass_sh_msun)"
   ]
  },
  {
   "cell_type": "code",
   "execution_count": 19,
   "id": "db89e624",
   "metadata": {},
   "outputs": [
    {
     "name": "stdout",
     "output_type": "stream",
     "text": [
      "stellar mass in log10(M/Msol):  [13.623702 11.296783 11.552829 ...  9.210055  9.210055  9.227088]\n"
     ]
    }
   ],
   "source": [
    "# The units of stellar masses ouput by the model are 1e10 Msol.  Let's convert\n",
    "# this to log10(M/Msol).\n",
    "mass_sh_msol = np.log10(mass_sh[:]*1e10)\n",
    "print('stellar mass in log10(M/Msol): ', mass_sh_msol)"
   ]
  },
  {
   "cell_type": "code",
   "execution_count": 20,
   "id": "cdddebc9",
   "metadata": {},
   "outputs": [
    {
     "name": "stdout",
     "output_type": "stream",
     "text": [
      "Star formation rate Msun/year [3.7453058 0.        1.5754815 ... 0.        0.        0.       ]\n"
     ]
    }
   ],
   "source": [
    "subh_SFR = subh['Subhalo/SubhaloSFRinRad'][:]\n",
    "print('Star formation rate Msun/year', subh_SFR)"
   ]
  },
  {
   "cell_type": "code",
   "execution_count": 21,
   "id": "0dd493c9",
   "metadata": {},
   "outputs": [
    {
     "data": {
      "text/plain": [
       "Text(0, 0.5, 'Star Formation Rate [$M_\\\\odot / yr$]')"
      ]
     },
     "execution_count": 21,
     "metadata": {},
     "output_type": "execute_result"
    },
    {
     "data": {
      "image/png": "[encoded data removed]",
      "text/plain": [
       "<Figure size 640x480 with 1 Axes>"
      ]
     },
     "metadata": {},
     "output_type": "display_data"
    }
   ],
   "source": [
    "plt.plot(mass_sh_msun,subh_SFR,'.')\n",
    "plt.xscale('log')\n",
    "plt.yscale('log')\n",
    "plt.xlabel('Total Mass [$M_\\odot$]')\n",
    "plt.ylabel('Star Formation Rate [$M_\\odot / yr$]')"
   ]
  },
  {
   "cell_type": "code",
   "execution_count": null,
   "id": "8ada7c04",
   "metadata": {},
   "outputs": [],
   "source": []
  }
 ],
 "metadata": {
  "kernelspec": {
   "display_name": "Python 3 (ipykernel)",
   "language": "python",
   "name": "python3"
  },
  "language_info": {
   "codemirror_mode": {
    "name": "ipython",
    "version": 3
   },
   "file_extension": ".py",
   "mimetype": "text/x-python",
   "name": "python",
   "nbconvert_exporter": "python",
   "pygments_lexer": "ipython3",
   "version": "3.9.15"
  }
 },
 "nbformat": 4,
 "nbformat_minor": 5
}
