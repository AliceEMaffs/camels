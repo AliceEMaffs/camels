{
 "cells": [
  {
   "cell_type": "code",
   "execution_count": 1,
   "id": "6d3a37bd",
   "metadata": {},
   "outputs": [],
   "source": [
    "# Just playing around again\n",
    "#  lets use redshifts 0.4 - 0.6\n",
    "#  snapshots: 026, 025, 024, 023 = z: 0.4, 0.47, 0.54, 0.61 (from 34 snaps)\n",
    "#  can use IllustrisTNG: LH, 1P, CV, EX, BE\n",
    "#  start with LH as has the most\n",
    "import numpy as np\n",
    "import h5py\n",
    "import hdf5plugin"
   ]
  },
  {
   "cell_type": "code",
   "execution_count": null,
   "id": "0738d380",
   "metadata": {},
   "outputs": [],
   "source": [
    "# snapshot galaxy"
   ]
  },
  {
   "cell_type": "code",
   "execution_count": 21,
   "id": "a71c6ee3",
   "metadata": {},
   "outputs": [],
   "source": [
    "# get the name of the snapshot and its corresponding Subfind halo catalog\n",
    "f_snapshot = '/home/jovyan/Data/Sims/IllustrisTNG/CV/CV_0/snap_026.hdf5'\n",
    "f_catalog  = '/home/jovyan/Data/FOF_Subfind/IllustrisTNG/CV/CV_0/fof_subhalo_tab_026.hdf5'"
   ]
  },
  {
   "cell_type": "code",
   "execution_count": 23,
   "id": "81ab4c99",
   "metadata": {},
   "outputs": [
    {
     "data": {
      "text/plain": [
       "<KeysViewHDF5 ['Config', 'Group', 'Header', 'IDs', 'Parameters', 'Subhalo']>"
      ]
     },
     "execution_count": 23,
     "metadata": {},
     "output_type": "execute_result"
    }
   ],
   "source": [
    "# read halo catalogue\n",
    "f = h5py.File(f_catalog, 'r')\n",
    "f.keys()"
   ]
  },
  {
   "cell_type": "code",
   "execution_count": 26,
   "id": "88f105ef",
   "metadata": {},
   "outputs": [
    {
     "data": {
      "text/plain": [
       "<KeysViewHDF5 ['GroupBHMass', 'GroupBHMdot', 'GroupCM', 'GroupFirstSub', 'GroupGasMetalFractions', 'GroupGasMetallicity', 'GroupLen', 'GroupLenType', 'GroupMass', 'GroupMassType', 'GroupNsubs', 'GroupPos', 'GroupSFR', 'GroupStarMetalFractions', 'GroupStarMetallicity', 'GroupVel', 'GroupWindMass', 'Group_M_Crit200', 'Group_M_Crit500', 'Group_M_Mean200', 'Group_M_TopHat200', 'Group_R_Crit200', 'Group_R_Crit500', 'Group_R_Mean200', 'Group_R_TopHat200']>"
      ]
     },
     "execution_count": 26,
     "metadata": {},
     "output_type": "execute_result"
    }
   ],
   "source": [
    "f['Group'].keys()"
   ]
  },
  {
   "cell_type": "code",
   "execution_count": 27,
   "id": "2d7ac5a2",
   "metadata": {},
   "outputs": [],
   "source": [
    "pos_h     = f['Group/GroupPos'][:]/1e3   #Mpc/h\n",
    "vel_h     = f['Group/GroupVel'][:]       #km/s\n",
    "SFR_h     = f['Group/GroupSFR'][:]       #Msun/yr\n",
    "mass_h    = f['Group/GroupMass'][:]*1e10 #Msun/h\n",
    "len_h     = f['Group/GroupLen'][:]       #the total number of particles in the halo (gas+dm+stars+black_holes)\n",
    "lentype_h = f['Group/GroupLenType'][:]   #the number of particles in a halo by particle type\n",
    "f.close()"
   ]
  },
  {
   "cell_type": "code",
   "execution_count": 28,
   "id": "cd35b7e4",
   "metadata": {},
   "outputs": [
    {
     "name": "stdout",
     "output_type": "stream",
     "text": [
      "position: [15.942893  16.68846    3.9835398] Mpc/h\n",
      "velocity: [-145.14125 -160.77405  -94.18773] km/s\n",
      "mass: 3.263e+11 Msun/h\n",
      "total length: 7176 particles\n",
      "number of particles by type: [2274 4497    0    0  404    1]\n"
     ]
    }
   ],
   "source": [
    "index = 167 #index of the halo\n",
    "print('position:',pos_h[index],'Mpc/h')\n",
    "print('velocity:',vel_h[index],'km/s')\n",
    "print('mass: %.3e Msun/h'%mass_h[index])\n",
    "print('total length:',len_h[index],'particles')\n",
    "print('number of particles by type:',lentype_h[index])"
   ]
  },
  {
   "cell_type": "code",
   "execution_count": 24,
   "id": "487e7969",
   "metadata": {},
   "outputs": [
    {
     "name": "stdout",
     "output_type": "stream",
     "text": [
      "Box size:                 25.00 Mpc/h\n",
      "snapshot redshift:        0.40\n",
      "Number of gas  particles: 15833300\n",
      "Number of star particles: 564487\n",
      "Omega_m:                  0.300\n",
      "Omega_b:                  0.049\n",
      "Omega_L:                  0.700\n"
     ]
    }
   ],
   "source": [
    "# read snap data\n",
    "data = h5py.File(f_snapshot, 'r')\n",
    "BoxSize      = data['Header'].attrs[u'BoxSize']/1e3    #size of the snapshot in comoving Mpc/h\n",
    "redshift     = data['Header'].attrs[u'Redshift']       #reshift of the snapshot\n",
    "scale_factor = data['Header'].attrs[u'Time']           #scale factor\n",
    "h            = data['Header'].attrs[u'HubbleParam']    #value of the hubble parameter in 100 km/s/(Mpc/h)\n",
    "Masses       = data['Header'].attrs[u'MassTable']*1e10 #masses of the particles in Msun/h\n",
    "Np           = data['Header'].attrs[u'NumPart_Total']  #total number of particles for specie\n",
    "Omega_m      = data['Header'].attrs[u'Omega0']         #Omega_matter\n",
    "Omega_L      = data['Header'].attrs[u'OmegaLambda']    #Omega_Lambda\n",
    "Omega_b      = data['Header'].attrs[u'OmegaBaryon']    #Omega_baryon\n",
    "print('Box size:                 %.2f Mpc/h'%BoxSize)\n",
    "print('snapshot redshift:        %.2f'%redshift)\n",
    "print('Number of gas  particles: %d'%Np[0])\n",
    "print('Number of star particles: %d'%Np[4])\n",
    "print('Omega_m:                  %.3f'%Omega_m)\n",
    "print('Omega_b:                  %.3f'%Omega_b)\n",
    "print('Omega_L:                  %.3f'%Omega_L)"
   ]
  },
  {
   "cell_type": "markdown",
   "id": "63c8b162",
   "metadata": {},
   "source": [
    "#PartType0. This group contains the properties of the gas particles.\n",
    "\n",
    "#PartType1. This group contains the properties of the dark matter particles.\n",
    "\n",
    "#PartType4. This group contains the properties of the star particles.\n",
    "\n",
    "#PartType5. This group contains the properties of the black hole particles."
   ]
  },
  {
   "cell_type": "code",
   "execution_count": 25,
   "id": "1415f6d7",
   "metadata": {},
   "outputs": [
    {
     "name": "stdout",
     "output_type": "stream",
     "text": [
      "Stellar mass:  [ 7750311.  13212746.   7943322.  ... 10021982.   6979543.5 14673104. ]\n"
     ]
    }
   ],
   "source": [
    "# try to read mass of stars\n",
    "mass_s = data['PartType4/Masses'][:]*1e10 # Masses in Msun/h\n",
    "print('Stellar mass: ', mass_s)"
   ]
  },
  {
   "cell_type": "code",
   "execution_count": null,
   "id": "db89e624",
   "metadata": {},
   "outputs": [],
   "source": []
  }
 ],
 "metadata": {
  "kernelspec": {
   "display_name": "Python 3 (ipykernel)",
   "language": "python",
   "name": "python3"
  },
  "language_info": {
   "codemirror_mode": {
    "name": "ipython",
    "version": 3
   },
   "file_extension": ".py",
   "mimetype": "text/x-python",
   "name": "python",
   "nbconvert_exporter": "python",
   "pygments_lexer": "ipython3",
   "version": "3.9.15"
  }
 },
 "nbformat": 4,
 "nbformat_minor": 5
}
