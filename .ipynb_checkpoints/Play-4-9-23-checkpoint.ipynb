{
 "cells": [
  {
   "cell_type": "code",
   "execution_count": 1,
   "id": "6d3a37bd",
   "metadata": {},
   "outputs": [
    {
     "data": {
      "text/plain": [
       "'\\nimport flares\\nimport scipy\\nimport numba\\nimport schwimmbad\\nimport eagle_IO\\nimport SynthObs\\n'"
      ]
     },
     "execution_count": 1,
     "metadata": {},
     "output_type": "execute_result"
    }
   ],
   "source": [
    "# Just playing around again\n",
    "#  lets use redshifts 0.4 - 0.6\n",
    "#  snapshots: 026, 025, 024, 023 = z: 0.4, 0.47, 0.54, 0.61 (from 34 snaps)\n",
    "#  can use IllustrisTNG: LH, 1P, CV, EX, BE\n",
    "#  start with LH as has the most\n",
    "import numpy as np\n",
    "import h5py\n",
    "import hdf5plugin\n",
    "import matplotlib.pyplot as plt\n",
    " # flares\n",
    "'''\n",
    "import flares\n",
    "import scipy\n",
    "import numba\n",
    "import schwimmbad\n",
    "import eagle_IO\n",
    "import SynthObs\n",
    "'''"
   ]
  },
  {
   "cell_type": "markdown",
   "id": "b1928718",
   "metadata": {},
   "source": [
    "# SUBHALOS"
   ]
  },
  {
   "cell_type": "code",
   "execution_count": 2,
   "id": "a71c6ee3",
   "metadata": {},
   "outputs": [
    {
     "data": {
      "text/plain": [
       "<KeysViewHDF5 ['Config', 'Group', 'Header', 'IDs', 'Parameters', 'Subhalo']>"
      ]
     },
     "execution_count": 2,
     "metadata": {},
     "output_type": "execute_result"
    }
   ],
   "source": [
    "# get the name of Subfind halo catalog\n",
    "subhalos  = '/home/jovyan/Data/FOF_Subfind/IllustrisTNG/CV/CV_0/fof_subhalo_tab_026.hdf5'\n",
    "# read halo catalogue\n",
    "subh = h5py.File(subhalos, 'r')\n",
    "subh.keys()"
   ]
  },
  {
   "cell_type": "code",
   "execution_count": 3,
   "id": "88f105ef",
   "metadata": {},
   "outputs": [
    {
     "data": {
      "text/plain": [
       "<KeysViewHDF5 ['GroupBHMass', 'GroupBHMdot', 'GroupCM', 'GroupFirstSub', 'GroupGasMetalFractions', 'GroupGasMetallicity', 'GroupLen', 'GroupLenType', 'GroupMass', 'GroupMassType', 'GroupNsubs', 'GroupPos', 'GroupSFR', 'GroupStarMetalFractions', 'GroupStarMetallicity', 'GroupVel', 'GroupWindMass', 'Group_M_Crit200', 'Group_M_Crit500', 'Group_M_Mean200', 'Group_M_TopHat200', 'Group_R_Crit200', 'Group_R_Crit500', 'Group_R_Mean200', 'Group_R_TopHat200']>"
      ]
     },
     "execution_count": 3,
     "metadata": {},
     "output_type": "execute_result"
    }
   ],
   "source": [
    "subh['Group'].keys()"
   ]
  },
  {
   "cell_type": "code",
   "execution_count": 4,
   "id": "2ecd1394",
   "metadata": {},
   "outputs": [
    {
     "data": {
      "text/plain": [
       "<KeysViewHDF5 ['SubhaloBHMass', 'SubhaloBHMdot', 'SubhaloBfldDisk', 'SubhaloBfldHalo', 'SubhaloCM', 'SubhaloGasMetalFractions', 'SubhaloGasMetalFractionsHalfRad', 'SubhaloGasMetalFractionsMaxRad', 'SubhaloGasMetalFractionsSfr', 'SubhaloGasMetalFractionsSfrWeighted', 'SubhaloGasMetallicity', 'SubhaloGasMetallicityHalfRad', 'SubhaloGasMetallicityMaxRad', 'SubhaloGasMetallicitySfr', 'SubhaloGasMetallicitySfrWeighted', 'SubhaloGrNr', 'SubhaloHalfmassRad', 'SubhaloHalfmassRadType', 'SubhaloIDMostbound', 'SubhaloLen', 'SubhaloLenType', 'SubhaloMass', 'SubhaloMassInHalfRad', 'SubhaloMassInHalfRadType', 'SubhaloMassInMaxRad', 'SubhaloMassInMaxRadType', 'SubhaloMassInRad', 'SubhaloMassInRadType', 'SubhaloMassType', 'SubhaloParent', 'SubhaloPos', 'SubhaloSFR', 'SubhaloSFRinHalfRad', 'SubhaloSFRinMaxRad', 'SubhaloSFRinRad', 'SubhaloSpin', 'SubhaloStarMetalFractions', 'SubhaloStarMetalFractionsHalfRad', 'SubhaloStarMetalFractionsMaxRad', 'SubhaloStarMetallicity', 'SubhaloStarMetallicityHalfRad', 'SubhaloStarMetallicityMaxRad', 'SubhaloStellarPhotometrics', 'SubhaloStellarPhotometricsMassInRad', 'SubhaloStellarPhotometricsRad', 'SubhaloVel', 'SubhaloVelDisp', 'SubhaloVmax', 'SubhaloVmaxRad', 'SubhaloWindMass']>"
      ]
     },
     "execution_count": 4,
     "metadata": {},
     "output_type": "execute_result"
    }
   ],
   "source": [
    "subh['Subhalo'].keys()"
   ]
  },
  {
   "cell_type": "code",
   "execution_count": 5,
   "id": "2d7ac5a2",
   "metadata": {},
   "outputs": [],
   "source": [
    "pos_h     = subh['Group/GroupPos'][:]/1e3   #Mpc/h\n",
    "vel_h     = subh['Group/GroupVel'][:]       #km/s\n",
    "SFR_h     = subh['Group/GroupSFR'][:]       #Msun/yr\n",
    "mass_h    = subh['Group/GroupMass'][:]*1e10 #Msun/h\n",
    "len_h     = subh['Group/GroupLen'][:]       #the total number of particles in the halo (gas+dm+stars+black_holes)\n",
    "lentype_h = subh['Group/GroupLenType'][:]   #the number of particles in a halo by particle type\n",
    "#subh.close()"
   ]
  },
  {
   "cell_type": "code",
   "execution_count": 6,
   "id": "cd35b7e4",
   "metadata": {},
   "outputs": [
    {
     "name": "stdout",
     "output_type": "stream",
     "text": [
      "position: [15.942893  16.68846    3.9835398] Mpc/h\n",
      "velocity: [-145.14125 -160.77405  -94.18773] km/s\n",
      "mass: 3.263e+11 Msun/h\n",
      "total length: 7176 particles\n",
      "number of particles by type: [2274 4497    0    0  404    1]\n"
     ]
    }
   ],
   "source": [
    "index = 167 #index of the halo\n",
    "print('position:',pos_h[index],'Mpc/h')\n",
    "print('velocity:',vel_h[index],'km/s')\n",
    "print('mass: %.3e Msun/h'%mass_h[index])\n",
    "print('total length:',len_h[index],'particles')\n",
    "print('number of particles by type:',lentype_h[index])"
   ]
  },
  {
   "cell_type": "markdown",
   "id": "63c8b162",
   "metadata": {},
   "source": [
    "#PartType0. This group contains the properties of the gas particles.\n",
    "\n",
    "#PartType1. This group contains the properties of the dark matter particles.\n",
    "\n",
    "#PartType4. This group contains the properties of the star particles.\n",
    "\n",
    "#PartType5. This group contains the properties of the black hole particles."
   ]
  },
  {
   "cell_type": "code",
   "execution_count": 7,
   "id": "1415f6d7",
   "metadata": {},
   "outputs": [
    {
     "name": "stdout",
     "output_type": "stream",
     "text": [
      "Halo mass:  [4.2043770e+03 1.9805407e+01 3.5713192e+01 ... 1.6220157e-01 1.6220157e-01\n",
      " 1.6868964e-01]\n",
      "Halo Mass in M sun [5.9721264e+13 2.8132681e+11 5.0728967e+11 ... 2.3039997e+09 2.3039997e+09\n",
      " 2.3961597e+09]\n"
     ]
    }
   ],
   "source": [
    "# need PartType4 for stars\n",
    "mass_h = subh['Subhalo/SubhaloMass'][:]\n",
    "print('Halo mass: ', mass_h)\n",
    "\n",
    "mass_h_msun = mass_h[:] * 1e10 / 0.704\n",
    "print('Halo Mass in M sun', mass_h_msun)"
   ]
  },
  {
   "cell_type": "code",
   "execution_count": 8,
   "id": "db89e624",
   "metadata": {},
   "outputs": [
    {
     "name": "stdout",
     "output_type": "stream",
     "text": [
      "Halo mass in log10(M/Msol):  [13.623702 11.296783 11.552829 ...  9.210055  9.210055  9.227088]\n"
     ]
    }
   ],
   "source": [
    "# The units of stellar masses ouput by the model are 1e10 Msol.  Let's convert\n",
    "# this to log10(M/Msol).\n",
    "mass_h_msol = np.log10(mass_h[:]*1e10)\n",
    "print('Halo mass in log10(M/Msol): ', mass_h_msol)"
   ]
  },
  {
   "cell_type": "code",
   "execution_count": 9,
   "id": "3924f5bc",
   "metadata": {},
   "outputs": [
    {
     "name": "stdout",
     "output_type": "stream",
     "text": [
      "Star formation rate Msun/year [3.7453058 0.        1.5754815 ... 0.        0.        0.       ]\n"
     ]
    }
   ],
   "source": [
    "subh_SFR = subh['Subhalo/SubhaloSFRinRad'][:]\n",
    "print('Star formation rate Msun/year', subh_SFR)"
   ]
  },
  {
   "cell_type": "code",
   "execution_count": 10,
   "id": "4b36802b",
   "metadata": {},
   "outputs": [
    {
     "data": {
      "text/plain": [
       "Text(0, 0.5, 'Star Formation Rate [$M_\\\\odot / yr$]')"
      ]
     },
     "execution_count": 10,
     "metadata": {},
     "output_type": "execute_result"
    },
    {
     "data": {
      "image/png": "[encoded data removed]",
      "text/plain": [
       "<Figure size 640x480 with 1 Axes>"
      ]
     },
     "metadata": {},
     "output_type": "display_data"
    }
   ],
   "source": [
    "plt.plot(mass_h_msun,subh_SFR,'.')\n",
    "plt.xscale('log')\n",
    "plt.yscale('log')\n",
    "plt.xlabel('Total Mass [$M_\\odot$]')\n",
    "plt.ylabel('Star Formation Rate [$M_\\odot / yr$]')"
   ]
  },
  {
   "cell_type": "code",
   "execution_count": 11,
   "id": "231f45fe",
   "metadata": {},
   "outputs": [
    {
     "data": {
      "text/plain": [
       "[<matplotlib.lines.Line2D at 0x7fbd14aa3190>]"
      ]
     },
     "execution_count": 11,
     "metadata": {},
     "output_type": "execute_result"
    },
    {
     "data": {
      "image/png": "[encoded data removed]",
      "text/plain": [
       "<Figure size 640x480 with 1 Axes>"
      ]
     },
     "metadata": {},
     "output_type": "display_data"
    }
   ],
   "source": [
    "# initial try at galaxy stellar mass function\n",
    "logMsun  = np.log10(mass_h_msun)                     #Take logarithm\n",
    "nbins = 50                              #Number of bins to divide data into\n",
    "V     = 302.6                             #Survey volume in Mpc3 (302.6Mpc for TNG300 - https://www.tng-project.org/data/docs/background/)\n",
    "Phi,edg = np.histogram(logMsun,bins=nbins) #Unnormalized histogram and bin edges\n",
    "dM    = edg[1] - edg[0]                 #Bin size\n",
    "Max   = edg[0:-1] + dM/2.               #Mass axis\n",
    "Phi   = Phi / V / dM                    #Normalize to volume and bin size\n",
    "\n",
    "plt.clf()\n",
    "plt.title('Halo Mass Function')\n",
    "plt.yscale('log')\n",
    "plt.xlabel(r'$\\log(M_\\star\\,/\\,M_\\odot)$')\n",
    "plt.ylabel(r'$\\Phi\\,/\\,\\mathrm{dex}^{-1}\\,\\mathrm{Mpc}^{-3}$')\n",
    "plt.plot(Max,Phi)"
   ]
  },
  {
   "cell_type": "code",
   "execution_count": 12,
   "id": "a0eb9725",
   "metadata": {},
   "outputs": [],
   "source": [
    "# Stellar mass functions describe the number density of galaxies as\n",
    "# a function of their stellar mass. They represent a key measure for\n",
    "# the properties of the galaxy population and allow us to trace the\n",
    "# assembly of stellar mass and the evolution of the star formation rate\n",
    "# (SFR) through cosmic time."
   ]
  },
  {
   "cell_type": "markdown",
   "id": "8e976cf5",
   "metadata": {},
   "source": [
    "# use Flares package:\n",
    "def calc_df(mstar, volume, massBinLimits):\n",
    "\n",
    "    hist, dummy = np.histogram(np.log10(mstar), bins = massBinLimits)\n",
    "    hist = np.float64(hist)\n",
    "    phi = (hist / volume) / (massBinLimits[1] - massBinLimits[0])\n",
    "\n",
    "    # p = 0.95\n",
    "    # phi_sigma = np.array([scipy.stats.chi2.ppf((1.-p)/2.,2*hist)/2.,\n",
    "    #                       scipy.stats.chi2.ppf(p+(1.-p)/2.,2*(hist+1))/2.])\n",
    "\n",
    "    # phi_sigma = (phi_sigma / volume) / (massBinLimits[1] - massBinLimits[0])\n",
    "\n",
    "    phi_sigma = (np.sqrt(hist) / volume) /\\\n",
    "                (massBinLimits[1] - massBinLimits[0]) # Poisson errors\n",
    "\n",
    "    return phi, phi_sigma, hist"
   ]
  },
  {
   "cell_type": "markdown",
   "id": "bb4c67d0",
   "metadata": {},
   "source": [
    "msun_max = mass_h_msun.max()\n",
    "msun_min = mass_h_msun.min()\n",
    "bins = [np.log10(msun_min), np.log10(msun_max)]"
   ]
  },
  {
   "cell_type": "markdown",
   "id": "385a681b",
   "metadata": {},
   "source": [
    "phi, phi_sigma, hist = calc_df(mass_h_msun, V, bins) # Not sure on mass bin limits so try a few things\n",
    "print('phi: ', phi)\n",
    "print('phi_sigma: ', phi_sigma)\n",
    "print('hist: ', hist)\n",
    "print('Phi: ', Phi)"
   ]
  },
  {
   "cell_type": "markdown",
   "id": "d091c96e",
   "metadata": {},
   "source": [
    "plt.clf()\n",
    "plt.title('Galaxy Stellar Mass Function')\n",
    "plt.yscale('log')\n",
    "plt.xlabel(r'$\\log(M_\\star\\,/\\,M_\\odot)$')\n",
    "plt.ylabel(r'$\\Phi\\,/\\,\\mathrm{dex}^{-1}\\,\\mathrm{Mpc}^{-3}$')\n",
    "plt.plot(mass_sh_msun,phi)"
   ]
  },
  {
   "cell_type": "code",
   "execution_count": 13,
   "id": "c3c1042a",
   "metadata": {},
   "outputs": [],
   "source": [
    "# Taken from Meraxes/Munge Documentation\n",
    "# https://www.ph.unimelb.edu.au/~smutch/docs/dragons/_modules/dragons/munge/munge.html#mass_function\n",
    "def mass_function(mass, volume, bins, range=None, poisson_uncert=False,\n",
    "                  return_edges=False, **kwargs):\n",
    "\n",
    "    \"\"\"Generate a mass function.\n",
    "\n",
    "    *Args*:\n",
    "        mass : array\n",
    "            an array of 'masses'\n",
    "\n",
    "        volume : float\n",
    "            volume of simulation cube/subset\n",
    "\n",
    "        bins : int or list or str\n",
    "            If bins is a string, then it must be one of:\n",
    "                | 'blocks'   : use bayesian blocks for dynamic bin widths\n",
    "                | 'knuth'    : use Knuth's rule to determine bins\n",
    "                | 'scott'    : use Scott's rule to determine bins\n",
    "                | 'freedman' : use the Freedman-diaconis rule to determine bins\n",
    "\n",
    "    *Kwargs*:\n",
    "        range : len=2 list or array\n",
    "            range of data to be used for mass function\n",
    "\n",
    "        poisson_uncert : bool\n",
    "            return poisson uncertainties in output array (default: False)\n",
    "\n",
    "        return_edges : bool\n",
    "            return the bin_edges (default: False)\n",
    "\n",
    "        \\*\\*kwargs\n",
    "            passed to np.histogram call\n",
    "\n",
    "    *Returns*:\n",
    "        array of [bin centers, mass function vals]\n",
    "\n",
    "        If poisson_uncert=True then array has 3rd column with uncertainties.\n",
    "\n",
    "        If return_edges=True then the bin edges are also returned.\n",
    "\n",
    "    *Notes*:\n",
    "        The code to generate the bin_widths is taken from astroML.hist\n",
    "\n",
    "    \"\"\"\n",
    "\n",
    "    if \"normed\" in kwargs:\n",
    "        kwargs[\"normed\"] = False\n",
    "        log.warn(\"Turned off normed kwarg in mass_function()\")\n",
    "\n",
    "    if (range is not None and (bins in ['blocks',\n",
    "                                        'knuth', 'knuths',\n",
    "                                        'scott', 'scotts',\n",
    "                                        'freedman', 'freedmans'])):\n",
    "        mass = mass[(mass >= range[0]) & (mass <= range[1])]\n",
    "\n",
    "    if isinstance(bins, str):\n",
    "        log.info(\"Calculating bin widths using `%s' method...\" % bins)\n",
    "        if bins in ['blocks']:\n",
    "            bins = bayesian_blocks(mass)\n",
    "        elif bins in ['knuth', 'knuths']:\n",
    "            dm, bins = knuth_bin_width(mass, True)\n",
    "        elif bins in ['scott', 'scotts']:\n",
    "            dm, bins = scotts_bin_width(mass, True)\n",
    "        elif bins in ['freedman', 'freedmans']:\n",
    "            dm, bins = freedman_bin_width(mass, True)\n",
    "        else:\n",
    "            raise ValueError(\"unrecognized bin code: '%s'\" % bins)\n",
    "        log.info(\"...done\")\n",
    "\n",
    "    vals, edges = np.histogram(mass, bins, range, **kwargs)\n",
    "    width = edges[1]-edges[0]\n",
    "    radius = width/2.0\n",
    "    centers = edges[:-1]+radius\n",
    "    if poisson_uncert:\n",
    "        uncert = np.sqrt(vals.astype(float))\n",
    "\n",
    "    vals = vals.astype(float) / (volume * width)\n",
    "\n",
    "    if not poisson_uncert:\n",
    "        mf = np.dstack((centers, vals)).squeeze()\n",
    "    else:\n",
    "        uncert /= (volume * width)\n",
    "        mf = np.dstack((centers, vals, uncert)).squeeze()\n",
    "\n",
    "    if not return_edges:\n",
    "        return mf\n",
    "    else:\n",
    "        return mf, edges\n"
   ]
  },
  {
   "cell_type": "markdown",
   "id": "f0f27037",
   "metadata": {},
   "source": [
    "hmf = mass_function(mass_h_msol,V, bins=50,range=None)"
   ]
  },
  {
   "cell_type": "markdown",
   "id": "67f39ecc",
   "metadata": {},
   "source": [
    "#print(plot_number)\n",
    "fig, ax = plt.subplots(1, 1)\n",
    "plt.title(\"Halo Mass Function test\")\n",
    "plot_label = ('Halo mass in Msolar ')\n",
    "\n",
    "ax.plot(hmf[:, 0], np.log10(hmf[:, 1]), color=np.random.rand(3,), lw=2,\n",
    "            label=plot_label)\n",
    "\n",
    "# Set the axis labels.\n",
    "# Note the use of LaTeX here.\n",
    "ax.set_xlabel(r\"$\\log_{10}(M_* / {\\rm M_{\\odot}})$\")\n",
    "ax.set_ylabel(r\"$\\log_{10}(\\phi / {\\rm Mpc^3})$\")\n",
    "\n",
    "# Add the legend\n",
    "ax.legend(loc=\"lower left\")\n",
    "\n",
    "# Finally save the figure as a PDF\n",
    "plt.tight_layout()"
   ]
  },
  {
   "cell_type": "markdown",
   "id": "26f7f41e",
   "metadata": {},
   "source": [
    "# STELLAR MASS"
   ]
  },
  {
   "cell_type": "code",
   "execution_count": 60,
   "id": "7a2d69fe",
   "metadata": {},
   "outputs": [
    {
     "name": "stdout",
     "output_type": "stream",
     "text": [
      "Box size:                 25.00 Mpc/h\n",
      "snapshot redshift:        0.40\n",
      "Number of gas  particles: 15833300\n",
      "Number of star particles: 564487\n",
      "Omega_m:                  0.300\n",
      "Omega_b:                  0.049\n",
      "Omega_L:                  0.700\n",
      "Mass of Stars:  [6.889319  7.120993  6.900002  ... 7.0009537 6.8438272 7.166522 ]\n",
      "Mass Range:  [5.7876196, 7.4014974]\n",
      "SMF : (array([5.8037586, 5.8360357, 5.868314 , 5.900591 , 5.932869 , 5.965146 ,\n",
      "       5.997424 , 6.029701 , 6.061979 , 6.0942564, 6.1265335, 6.1588116,\n",
      "       6.1910887, 6.2233667, 6.255644 , 6.287922 , 6.320199 , 6.352477 ,\n",
      "       6.384754 , 6.4170322, 6.4493093, 6.4815874, 6.5138645, 6.5461426,\n",
      "       6.5784197, 6.6106973, 6.642975 , 6.675252 , 6.70753  , 6.739807 ,\n",
      "       6.772085 , 6.8043623, 6.8366404, 6.8689175, 6.9011955, 6.9334726,\n",
      "       6.9657507, 6.998028 , 7.030306 , 7.062583 , 7.094861 , 7.127138 ,\n",
      "       7.1594152, 7.1916933, 7.2239704, 7.2562485, 7.2885256, 7.3208036,\n",
      "       7.3530807, 7.385359 ], dtype=float32), array([3.96560039e-03, 3.96560039e-03, 5.94840059e-03, 9.91400098e-03,\n",
      "       1.18968012e-02, 5.94840059e-03, 1.38796014e-02, 1.58624016e-02,\n",
      "       1.78452018e-02, 1.78452018e-02, 4.16388041e-02, 5.55184055e-02,\n",
      "       5.75012057e-02, 8.32776082e-02, 6.93980068e-02, 1.16985212e-01,\n",
      "       1.07071211e-01, 1.26899212e-01, 1.20950812e-01, 2.16125221e-01,\n",
      "       1.90348819e-01, 2.30004823e-01, 2.79574827e-01, 4.04491240e-01,\n",
      "       1.51485935e+00, 4.14603521e+00, 7.14997750e+00, 1.15359315e+01,\n",
      "       1.82298650e+01, 2.67995274e+01, 3.75998401e+01, 5.09302058e+01,\n",
      "       6.54363720e+01, 8.73185550e+01, 9.61915859e+01, 1.04279428e+02,\n",
      "       1.10420160e+02, 1.10235760e+02, 1.04039509e+02, 9.24361623e+01,\n",
      "       7.74442100e+01, 5.82863945e+01, 3.90968542e+01, 9.70184135e+00,\n",
      "       2.37341183e+00, 1.02312490e+00, 4.28284842e-01, 2.04228420e-01,\n",
      "       1.70520817e-01, 6.54324064e-02]))\n"
     ]
    }
   ],
   "source": [
    "## CV_0/snap_026.hdf5\n",
    "# Need to use PartType4 Masses for STELLAR Mass, not Halo mass\n",
    "snap_stars  = '/home/jovyan/Data/Sims/IllustrisTNG/CV/CV_0/snap_026.hdf5'\n",
    "data = h5py.File(snap_stars, 'r')\n",
    "BoxSize      = data['Header'].attrs[u'BoxSize']/1e3    #size of the snapshot in comoving Mpc/h\n",
    "redshift     = data['Header'].attrs[u'Redshift']       #reshift of the snapshot\n",
    "scale_factor = data['Header'].attrs[u'Time']           #scale factor\n",
    "h            = data['Header'].attrs[u'HubbleParam']    #value of the hubble parameter in 100 km/s/(Mpc/h)\n",
    "Masses       = data['Header'].attrs[u'MassTable']*1e10 #masses of the particles in Msun/h\n",
    "Np           = data['Header'].attrs[u'NumPart_Total']  #total number of particles for specie\n",
    "Omega_m      = data['Header'].attrs[u'Omega0']         #Omega_matter\n",
    "Omega_L      = data['Header'].attrs[u'OmegaLambda']    #Omega_baryon\n",
    "Omega_b      = data['Header'].attrs[u'OmegaBaryon']    #Omega_Lambda\n",
    "print('Box size:                 %.2f Mpc/h'%BoxSize)\n",
    "print('snapshot redshift:        %.2f'%redshift)\n",
    "print('Number of gas  particles: %d'%Np[0])\n",
    "print('Number of star particles: %d'%Np[4])\n",
    "print('Omega_m:                  %.3f'%Omega_m)\n",
    "print('Omega_b:                  %.3f'%Omega_b)\n",
    "print('Omega_L:                  %.3f'%Omega_L)\n",
    "pos_stars = data['PartType4/Coordinates'][:]/1e3 #Mpc/h\n",
    "#mass_stars = np.log10(data['PartType4/Masses'][:]*1e10) #Msun/h\n",
    "mass_stars = np.log10(data['PartType4/Masses'][:]*1e10) # in 1e10𝑀⊙/ℎ\n",
    "print('Mass of Stars: ',mass_stars[:])\n",
    "mass_min, mass_max = mass_stars.min(), mass_stars.max()  # Adjust these limits according to your data\n",
    "mass_range = [mass_min, mass_max]\n",
    "#mass_range = [4, 12]\n",
    "print('Mass Range: ',mass_range)\n",
    "V = BoxSize**3 \n",
    "smf = mass_function(mass_stars,V, bins=50,range=None)\n",
    "print('SMF :', smf)"
   ]
  },
  {
   "cell_type": "code",
   "execution_count": 56,
   "id": "316407ac",
   "metadata": {},
   "outputs": [
    {
     "data": {
      "image/png": "[encoded data removed]",
      "text/plain": [
       "<Figure size 640x480 with 1 Axes>"
      ]
     },
     "metadata": {},
     "output_type": "display_data"
    }
   ],
   "source": [
    "#print(plot_number)\n",
    "fig, ax = plt.subplots(1, 1)\n",
    "plt.title(\"Stellar Mass Function test\")\n",
    "plot_label = ('Stellar mass in Msolar ')\n",
    "# x,y\n",
    "#x = np.log10(smf[:, 0])\n",
    "y = np.log10(smf[1])\n",
    "x = smf[0]\n",
    "#y = smf[:, 1]\n",
    "ax.plot(x,y, color=np.random.rand(3,), lw=2,\n",
    "            label=plot_label)\n",
    "\n",
    "# Set the axis labels.\n",
    "# Note the use of LaTeX here.\n",
    "ax.set_xlabel(r\"$\\log_{10}(M_* / {\\rm M_{\\odot}})$\")\n",
    "ax.set_ylabel(r\"$\\log_{10}(\\phi / {\\rm Mpc^3})$\")\n",
    "\n",
    "# Add the legend\n",
    "ax.legend(loc=\"lower left\")\n",
    "\n",
    "# Finally save the figure as a PDF\n",
    "plt.tight_layout()"
   ]
  },
  {
   "cell_type": "code",
   "execution_count": 59,
   "id": "f58f12e8",
   "metadata": {},
   "outputs": [],
   "source": [
    "# another version (chatgpt)"
   ]
  },
  {
   "cell_type": "markdown",
   "id": "7e7ddade",
   "metadata": {},
   "source": [
    "import h5py\n",
    "import numpy as np\n",
    "import matplotlib.pyplot as plt\n",
    "\n",
    "# Load your simulation data (already done in your code).\n",
    "# ...\n",
    "\n",
    "# Define the volume of your simulation cube or subset (make sure it's correct).\n",
    "V = BoxSize**3  # Assuming a cubic volume\n",
    "\n",
    "# Calculate the Stellar Mass Function\n",
    "def mass_function(mass, volume, bins, range=None):\n",
    "    hist, edges = np.histogram(mass, bins=bins, range=range)\n",
    "    bin_centers = 0.5 * (edges[:-1] + edges[1:])\n",
    "    mass_function = hist / (volume * (edges[1] - edges[0]))\n",
    "    return bin_centers, mass_function\n",
    "\n",
    "# Choose the number of bins and range for your SMF\n",
    "bins = 50\n",
    "mass_min, mass_max = 6.0, 12.0  # Adjust these limits according to your data\n",
    "mass_range = (mass_min, mass_max)\n",
    "\n",
    "# Compute the SMF\n",
    "bin_centers, smf = mass_function(mass_stars, V, bins, range=mass_range)\n",
    "\n",
    "# Create a plot\n",
    "fig, ax = plt.subplots(1, 1)\n",
    "plt.title(\"Stellar Mass Function\")\n",
    "plot_label = ('Stellar mass in Msolar ')\n",
    "\n",
    "# Plot the data\n",
    "ax.plot(bin_centers, np.log10(smf), color=np.random.rand(3,), lw=2, label=plot_label)\n",
    "\n",
    "# Set the axis labels.\n",
    "ax.set_xlabel(r\"$\\log_{10}(M_* / {\\rm M_{\\odot}})$\")\n",
    "ax.set_ylabel(r\"$\\log_{10}(\\phi / {\\rm Mpc^3})$\")\n",
    "\n",
    "# Add the legend\n",
    "ax.legend(loc=\"lower left\")\n",
    "\n",
    "# Finally, save the figure as a PDF or display it\n",
    "plt.tight_layout()\n",
    "plt.show()  # or plt.savefig(\"stellar_mass_function.pdf\")\n"
   ]
  },
  {
   "cell_type": "code",
   "execution_count": null,
   "id": "f53f7de7",
   "metadata": {},
   "outputs": [],
   "source": [
    "## CV_0/snap_025.hdf5\n",
    "# Need to use PartType4 Masses for STELLAR Mass, not Halo mass\n",
    "snap_stars  = '/home/jovyan/Data/Sims/IllustrisTNG/CV/CV_0/snap_025.hdf5'\n",
    "data = h5py.File(snap_stars, 'r')\n",
    "BoxSize      = data['Header'].attrs[u'BoxSize']/1e3    #size of the snapshot in comoving Mpc/h\n",
    "redshift     = data['Header'].attrs[u'Redshift']       #reshift of the snapshot\n",
    "scale_factor = data['Header'].attrs[u'Time']           #scale factor\n",
    "h            = data['Header'].attrs[u'HubbleParam']    #value of the hubble parameter in 100 km/s/(Mpc/h)\n",
    "Masses       = data['Header'].attrs[u'MassTable']*1e10 #masses of the particles in Msun/h\n",
    "Np           = data['Header'].attrs[u'NumPart_Total']  #total number of particles for specie\n",
    "Omega_m      = data['Header'].attrs[u'Omega0']         #Omega_matter\n",
    "Omega_L      = data['Header'].attrs[u'OmegaLambda']    #Omega_baryon\n",
    "Omega_b      = data['Header'].attrs[u'OmegaBaryon']    #Omega_Lambda\n",
    "print('Box size:                 %.2f Mpc/h'%BoxSize)\n",
    "print('snapshot redshift:        %.2f'%redshift)\n",
    "print('Number of gas  particles: %d'%Np[0])\n",
    "print('Number of star particles: %d'%Np[4])\n",
    "print('Omega_m:                  %.3f'%Omega_m)\n",
    "print('Omega_b:                  %.3f'%Omega_b)\n",
    "print('Omega_L:                  %.3f'%Omega_L)"
   ]
  }
 ],
 "metadata": {
  "kernelspec": {
   "display_name": "Python 3 (ipykernel)",
   "language": "python",
   "name": "python3"
  },
  "language_info": {
   "codemirror_mode": {
    "name": "ipython",
    "version": 3
   },
   "file_extension": ".py",
   "mimetype": "text/x-python",
   "name": "python",
   "nbconvert_exporter": "python",
   "pygments_lexer": "ipython3",
   "version": "3.9.15"
  }
 },
 "nbformat": 4,
 "nbformat_minor": 5
}
