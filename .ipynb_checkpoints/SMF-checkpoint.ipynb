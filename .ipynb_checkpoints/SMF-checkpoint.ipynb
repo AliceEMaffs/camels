{
 "cells": [
  {
   "cell_type": "code",
   "execution_count": 1,
   "id": "f853c0ed",
   "metadata": {},
   "outputs": [],
   "source": [
    "# Minimal Reproducable Example to check errors\n",
    "import numpy as np\n",
    "import h5py\n",
    "import hdf5plugin\n",
    "import matplotlib.pyplot as plt"
   ]
  },
  {
   "cell_type": "code",
   "execution_count": 2,
   "id": "5dba50c5",
   "metadata": {},
   "outputs": [],
   "source": [
    "def mass_function(mass, volume, bins, range=None, poisson_uncert=False,\n",
    "                  return_edges=False, **kwargs):\n",
    "\n",
    "    if \"normed\" in kwargs:\n",
    "        kwargs[\"normed\"] = False\n",
    "        log.warn(\"Turned off normed kwarg in mass_function()\")\n",
    "\n",
    "    if (range is not None and (bins in ['blocks',\n",
    "                                        'knuth', 'knuths',\n",
    "                                        'scott', 'scotts',\n",
    "                                        'freedman', 'freedmans'])):\n",
    "        mass = mass[(mass >= range[0]) & (mass <= range[1])]\n",
    "\n",
    "    if isinstance(bins, str):\n",
    "        log.info(\"Calculating bin widths using `%s' method...\" % bins)\n",
    "        if bins in ['blocks']:\n",
    "            bins = bayesian_blocks(mass)\n",
    "        elif bins in ['knuth', 'knuths']:\n",
    "            dm, bins = knuth_bin_width(mass, True)\n",
    "        elif bins in ['scott', 'scotts']:\n",
    "            dm, bins = scotts_bin_width(mass, True)\n",
    "        elif bins in ['freedman', 'freedmans']:\n",
    "            dm, bins = freedman_bin_width(mass, True)\n",
    "        else:\n",
    "            raise ValueError(\"unrecognized bin code: '%s'\" % bins)\n",
    "        log.info(\"...done\")\n",
    "\n",
    "    vals, edges = np.histogram(mass, bins, range, **kwargs)\n",
    "    width = edges[1]-edges[0]\n",
    "    radius = width/2.0\n",
    "    centers = edges[:-1]+radius\n",
    "    if poisson_uncert:\n",
    "        uncert = np.sqrt(vals.astype(float))\n",
    "\n",
    "    vals = vals.astype(float) / (volume * width)\n",
    "\n",
    "    if not poisson_uncert:\n",
    "        mf = np.dstack((centers, vals)).squeeze()\n",
    "    else:\n",
    "        uncert /= (volume * width)\n",
    "        mf = np.dstack((centers, vals, uncert)).squeeze()\n",
    "\n",
    "    if not return_edges:\n",
    "        return mf\n",
    "    else:\n",
    "        return mf, edges"
   ]
  },
  {
   "cell_type": "code",
   "execution_count": 3,
   "id": "98041dc2",
   "metadata": {},
   "outputs": [
    {
     "data": {
      "text/plain": [
       "<KeysViewHDF5 ['Config', 'Group', 'Header', 'IDs', 'Parameters', 'Subhalo']>"
      ]
     },
     "execution_count": 3,
     "metadata": {},
     "output_type": "execute_result"
    }
   ],
   "source": [
    "## GALAXIES IN HALOES SO NEED GALAXY STELLAR MASS\n",
    "# get the name of Subfind halo catalog\n",
    "subhalos  = '/home/jovyan/Data/FOF_Subfind/IllustrisTNG/CV/CV_0/fof_subhalo_tab_026.hdf5'\n",
    "# read halo catalogue\n",
    "subh = h5py.File(subhalos, 'r')\n",
    "subh.keys()"
   ]
  },
  {
   "cell_type": "code",
   "execution_count": 4,
   "id": "4508c8d0",
   "metadata": {},
   "outputs": [
    {
     "name": "stdout",
     "output_type": "stream",
     "text": [
      "Box size:                 25.00 Mpc/h\n",
      "snapshot redshift:        0.40\n",
      "Volume 15625.00 Mpc^3\n"
     ]
    }
   ],
   "source": [
    "## CV_0/snap_026.hdf5\n",
    "# Need to use PartType4 Masses for STELLAR Mass, not Halo mass\n",
    "snap_stars  = '/home/jovyan/Data/Sims/IllustrisTNG/CV/CV_0/snap_026.hdf5'\n",
    "data = h5py.File(snap_stars, 'r')\n",
    "BoxSize      = data['Header'].attrs[u'BoxSize']/1e3    #size of the snapshot in comoving Mpc/h\n",
    "redshift     = data['Header'].attrs[u'Redshift']       #reshift of the snapshot\n",
    "V = BoxSize**3 \n",
    "print('Box size:                 %.2f Mpc/h'%BoxSize)\n",
    "print('snapshot redshift:        %.2f'%redshift)\n",
    "print('Volume %.2f Mpc^3'%V)"
   ]
  },
  {
   "cell_type": "code",
   "execution_count": 5,
   "id": "cc107582",
   "metadata": {},
   "outputs": [
    {
     "data": {
      "text/plain": [
       "array([[4.58408356e+02, 3.71254077e+03, 0.00000000e+00, 0.00000000e+00,\n",
       "        3.32005348e+01, 2.27090687e-01],\n",
       "       [1.55289415e-02, 1.25998182e+01, 0.00000000e+00, 0.00000000e+00,\n",
       "        7.13820601e+00, 5.18528186e-02],\n",
       "       [2.13028240e+00, 3.20769806e+01, 0.00000000e+00, 0.00000000e+00,\n",
       "        1.49825788e+00, 7.66853802e-03],\n",
       "       ...,\n",
       "       [0.00000000e+00, 1.62201568e-01, 0.00000000e+00, 0.00000000e+00,\n",
       "        0.00000000e+00, 0.00000000e+00],\n",
       "       [0.00000000e+00, 1.62201568e-01, 0.00000000e+00, 0.00000000e+00,\n",
       "        0.00000000e+00, 0.00000000e+00],\n",
       "       [0.00000000e+00, 1.68689638e-01, 0.00000000e+00, 0.00000000e+00,\n",
       "        0.00000000e+00, 0.00000000e+00]], dtype=float32)"
      ]
     },
     "execution_count": 5,
     "metadata": {},
     "output_type": "execute_result"
    }
   ],
   "source": [
    "# The units of stellar masses ouput by the model are 1e10 Msol.  Let's convert\n",
    "# this to log10(M/Msol).\n",
    "# the mass of all star particles associated with a subhalo, is given by SubhaloMassType\n",
    "mass_sol = subh['Subhalo/SubhaloMassType'][:]\n",
    "mass_sol"
   ]
  },
  {
   "cell_type": "code",
   "execution_count": 6,
   "id": "fec49979",
   "metadata": {},
   "outputs": [
    {
     "data": {
      "text/plain": [
       "array([29.153612, 31.245323, 26.528418, ..., 21.206936, 21.206936,\n",
       "       21.246157], dtype=float32)"
      ]
     },
     "execution_count": 6,
     "metadata": {},
     "output_type": "execute_result"
    }
   ],
   "source": [
    "mass_sol_nonzero = mass_sol[mass_sol > 0]\n",
    "mass_sol_nonzero = np.log(mass_sol_nonzero*1e10)\n",
    "mass_sol_nonzero"
   ]
  },
  {
   "cell_type": "code",
   "execution_count": 7,
   "id": "5626d746",
   "metadata": {},
   "outputs": [
    {
     "name": "stdout",
     "output_type": "stream",
     "text": [
      "Mass Range:  [14.383627, 31.245323]\n"
     ]
    }
   ],
   "source": [
    "mass_min, mass_max = mass_sol_nonzero.min(), mass_sol_nonzero.max()\n",
    "mass_range = [mass_min, mass_max]\n",
    "print('Mass Range: ',mass_range)"
   ]
  },
  {
   "cell_type": "code",
   "execution_count": 8,
   "id": "f77f109d",
   "metadata": {},
   "outputs": [],
   "source": [
    "mf = mass_function(mass_sol_nonzero, V, bins=50, range=mass_range)\n",
    "                         #range=(7.5, 11.5))\n"
   ]
  },
  {
   "cell_type": "code",
   "execution_count": 9,
   "id": "80303b87",
   "metadata": {},
   "outputs": [
    {
     "data": {
      "text/plain": [
       "array([[9.31343628e-04, 1.21458855e-08],\n",
       "       [9.52926514e-04, 1.21458855e-08],\n",
       "       [9.74509521e-04, 1.33604740e-07],\n",
       "       [9.96092529e-04, 2.07694642e-06],\n",
       "       [1.01767554e-03, 1.05061909e-05],\n",
       "       [1.03925854e-03, 8.86649640e-06],\n",
       "       [1.06084143e-03, 1.13078194e-05],\n",
       "       [1.08242444e-03, 1.33483281e-05],\n",
       "       [1.10400745e-03, 6.68023702e-06],\n",
       "       [1.12559033e-03, 6.42517342e-06],\n",
       "       [1.14717334e-03, 5.28346019e-06],\n",
       "       [1.16875635e-03, 4.85835419e-06],\n",
       "       [1.19033923e-03, 5.61139909e-06],\n",
       "       [1.21192224e-03, 5.04054248e-06],\n",
       "       [1.23350525e-03, 5.21058487e-06],\n",
       "       [1.25508813e-03, 5.96362977e-06],\n",
       "       [1.27667114e-03, 6.81384176e-06],\n",
       "       [1.29825415e-03, 7.84624202e-06],\n",
       "       [1.31983716e-03, 9.60739542e-06],\n",
       "       [1.34142004e-03, 2.34172672e-05],\n",
       "       [1.36300305e-03, 5.09155520e-05],\n",
       "       [1.38458606e-03, 4.73325157e-05],\n",
       "       [1.40616895e-03, 3.46886489e-05],\n",
       "       [1.42775195e-03, 2.61015079e-05],\n",
       "       [1.44933496e-03, 1.95305839e-05],\n",
       "       [1.47091797e-03, 1.55467334e-05],\n",
       "       [1.49250085e-03, 1.22430526e-05],\n",
       "       [1.51408386e-03, 9.47379068e-06],\n",
       "       [1.53566687e-03, 6.58306993e-06],\n",
       "       [1.55724976e-03, 4.76118711e-06],\n",
       "       [1.57883276e-03, 3.65591153e-06],\n",
       "       [1.60041577e-03, 2.75711601e-06],\n",
       "       [1.62199866e-03, 2.05265465e-06],\n",
       "       [1.64358167e-03, 1.27531798e-06],\n",
       "       [1.66516467e-03, 8.74503755e-07],\n",
       "       [1.68674756e-03, 7.16607244e-07],\n",
       "       [1.70833057e-03, 6.31586045e-07],\n",
       "       [1.72991357e-03, 3.64376565e-07],\n",
       "       [1.75149658e-03, 2.67209481e-07],\n",
       "       [1.77307947e-03, 2.30771824e-07],\n",
       "       [1.79466248e-03, 1.33604740e-07],\n",
       "       [1.81624548e-03, 6.07294274e-08],\n",
       "       [1.83782837e-03, 9.71670839e-08],\n",
       "       [1.85941138e-03, 9.71670839e-08],\n",
       "       [1.88099438e-03, 2.42917710e-08],\n",
       "       [1.90257739e-03, 2.42917710e-08],\n",
       "       [1.92416028e-03, 3.64376565e-08],\n",
       "       [1.94574329e-03, 1.21458855e-08],\n",
       "       [1.96732629e-03, 0.00000000e+00],\n",
       "       [1.98890918e-03, 1.21458855e-08]])"
      ]
     },
     "execution_count": 9,
     "metadata": {},
     "output_type": "execute_result"
    }
   ],
   "source": [
    "smf_normalized = mf / V\n",
    "smf_normalized"
   ]
  },
  {
   "cell_type": "code",
   "execution_count": 10,
   "id": "bd0f3ada",
   "metadata": {},
   "outputs": [
    {
     "name": "stderr",
     "output_type": "stream",
     "text": [
      "/tmp/ipykernel_4400/1878631714.py:7: RuntimeWarning: divide by zero encountered in log\n",
      "  ax.plot(smf_normalized[:, 0], np.log(smf_normalized[:,1]), color=\"RoyalBlue\", lw=3,\n",
      "/tmp/ipykernel_4400/1878631714.py:17: UserWarning: Data has no positive values, and therefore cannot be log-scaled.\n",
      "  ax.set_yscale('log')  # Apply logarithmic scale to the y-axis as well\n"
     ]
    },
    {
     "data": {
      "image/png": "[encoded data removed]",
      "text/plain": [
       "<Figure size 640x480 with 1 Axes>"
      ]
     },
     "metadata": {},
     "output_type": "display_data"
    }
   ],
   "source": [
    "\n",
    "# Now let's plot the mass function...\n",
    "\n",
    "# Create a new figure (with 1 column and 1 row) and axis\n",
    "fig, ax = plt.subplots(1, 1)\n",
    "\n",
    "# Plot the mass function\n",
    "ax.plot(smf_normalized[:, 0], np.log(smf_normalized[:,1]), color=\"RoyalBlue\", lw=3,\n",
    "        label=\"SMF z=0.4\")\n",
    "\n",
    "# Set the axis labels.\n",
    "# Note the use of LaTeX here.\n",
    "ax.set_xlabel(r\"$\\log_{10}(M_* / {\\rm M_{\\odot}})$\")\n",
    "ax.set_ylabel(r\"$\\log_{10}(\\phi / {\\rm Mpc^3})$\")\n",
    "\n",
    "# Apply logarithmic scale to both x and y axes\n",
    "ax.set_xscale('log')\n",
    "ax.set_yscale('log')  # Apply logarithmic scale to the y-axis as well\n",
    "\n",
    "\n",
    "# Add the legend\n",
    "ax.legend(loc=\"lower left\")\n",
    "\n",
    "# Finally save the figure as a PDF\n",
    "plt.tight_layout()"
   ]
  },
  {
   "cell_type": "code",
   "execution_count": null,
   "id": "5f0eb243",
   "metadata": {},
   "outputs": [],
   "source": []
  }
 ],
 "metadata": {
  "kernelspec": {
   "display_name": "Python 3 (ipykernel)",
   "language": "python",
   "name": "python3"
  },
  "language_info": {
   "codemirror_mode": {
    "name": "ipython",
    "version": 3
   },
   "file_extension": ".py",
   "mimetype": "text/x-python",
   "name": "python",
   "nbconvert_exporter": "python",
   "pygments_lexer": "ipython3",
   "version": "3.9.15"
  }
 },
 "nbformat": 4,
 "nbformat_minor": 5
}
