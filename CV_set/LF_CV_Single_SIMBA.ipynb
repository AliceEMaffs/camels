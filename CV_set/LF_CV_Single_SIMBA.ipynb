{
 "cells": [
  {
   "cell_type": "code",
   "execution_count": 1,
   "metadata": {},
   "outputs": [],
   "source": [
    "import numpy as np\n",
    "import pandas as pd\n",
    "import matplotlib.pyplot as plt\n",
    "from unyt import yr, Myr, kpc, arcsec, nJy, Mpc, Msun, erg, s, Hz, kelvin\n",
    "import h5py\n",
    "\n",
    "from synthesizer.grid import Grid\n",
    "from synthesizer.load_data.load_camels import load_CAMELS_Simba\n",
    "from synthesizer.sed import Sed\n",
    "from synthesizer.filters import Filter, FilterCollection\n",
    "from synthesizer.sed import combine_list_of_seds\n",
    "from synthesizer.emission_models import (\n",
    "    IncidentEmission,\n",
    ")\n",
    "\n",
    "from synthesizer.conversions import lnu_to_absolute_mag, fnu_to_apparent_mag, fnu_to_lnu"
   ]
  },
  {
   "cell_type": "code",
   "execution_count": 2,
   "metadata": {},
   "outputs": [],
   "source": [
    "# get grid for all galaxies\n",
    "# gives grid of metalicity and age which is used to map on our camels galaxies\n",
    "grid_name = \"bc03_chabrier03-0.1,100.hdf5\"\n",
    "#grid_name = \"bc03-2016-Miles_chabrier-0.1,100.hdf5\" # try old grid, LF looks weird?!\n",
    "grid_dir = \"/home/jovyan/\"\n",
    "grid = Grid(grid_name, grid_dir=grid_dir, read_lines=False)"
   ]
  },
  {
   "cell_type": "code",
   "execution_count": 3,
   "metadata": {},
   "outputs": [
    {
     "name": "stderr",
     "output_type": "stream",
     "text": [
      "/srv/conda/envs/notebook/lib/python3.9/site-packages/unyt/array.py:1949: RuntimeWarning: invalid value encountered in divide\n",
      "  out_arr = func(\n"
     ]
    }
   ],
   "source": [
    "# get gals\n",
    "CV_X = 'CV_0'\n",
    "dir_ = '/home/jovyan/Data/Sims/SIMBA/CV/' + CV_X\n",
    "gals_074 = load_CAMELS_Simba(\n",
    "    dir_,\n",
    "    snap_name='snapshot_074.hdf5', \n",
    "    group_name='groups_074.hdf5',\n",
    ")\n",
    "\n"
   ]
  },
  {
   "cell_type": "code",
   "execution_count": 4,
   "metadata": {},
   "outputs": [
    {
     "name": "stdout",
     "output_type": "stream",
     "text": [
      "Number of Galaxies in snap_074 21473\n",
      "BoxSize:  25.0\n",
      "redshift:  0.4658364469731915\n"
     ]
    }
   ],
   "source": [
    "\n",
    "print('Number of Galaxies in snap_074', len(gals_074))\n",
    "\n",
    "cat_074 = dir_+'/groups_074.hdf5'\n",
    "# open file\n",
    "f = h5py.File(cat_074, 'r')\n",
    "\n",
    "# read different attributes of the header\n",
    "boxSize_074 = f['Header'].attrs[u'BoxSize']/1e3 #Mpc/h\n",
    "redshift_074 = f['Header'].attrs[u'Redshift']\n",
    "print('BoxSize: ', boxSize_074)\n",
    "print('redshift: ', redshift_074)"
   ]
  },
  {
   "cell_type": "code",
   "execution_count": 5,
   "metadata": {},
   "outputs": [
    {
     "name": "stdout",
     "output_type": "stream",
     "text": [
      "468\n"
     ]
    }
   ],
   "source": [
    "# Filter galaxies to only include those with 100 or more star particles\n",
    "## NEED TO ADD FILTER TO GET RID OF ANY GALAXIES WITH LESS THAN 100 star Particles!! This is the resolution limit!!\n",
    "# Chris: when you load your galaxies in could you do a filter for those with at least 100 star particles? that's the resolution limit\n",
    "gals_074 = [gal for gal in gals_074 if len(gal.stars.ages) >= 100]  # this shouldnt be here?! donesnt make sense\n",
    "# Filter galaxies to only include those with 100 or more star particles\n",
    "gals_074 = [gal for gal in gals_074 if gal.stars.nstars >= 100]\n",
    "print(len(gals_074))\n",
    "gals_074 = [gal for gal in gals_074 if gal.gas.nparticles >= 100]\n"
   ]
  },
  {
   "cell_type": "code",
   "execution_count": 6,
   "metadata": {},
   "outputs": [],
   "source": [
    "incident = IncidentEmission(grid)\n",
    "little_h =  0.6711\n",
    "\n",
    "spec_list = []\n",
    "# Lets work with z=0 so gals_025\n",
    "for i in gals_074:\n",
    "    gal = i\n",
    "    # get_spectra_incident An Sed object containing the stellar spectra\n",
    "    spec = gal.stars.get_spectra(incident)\n",
    "    spec.get_fnu0()\n",
    "    spec_list.append(spec)\n"
   ]
  },
  {
   "cell_type": "code",
   "execution_count": 7,
   "metadata": {},
   "outputs": [
    {
     "data": {
      "text/plain": [
       "<synthesizer.sed.Sed at 0x7f50b22ec790>"
      ]
     },
     "execution_count": 7,
     "metadata": {},
     "output_type": "execute_result"
    }
   ],
   "source": [
    "# combine\n",
    "seds = combine_list_of_seds(spec_list)\n",
    "seds"
   ]
  },
  {
   "cell_type": "code",
   "execution_count": 8,
   "metadata": {},
   "outputs": [
    {
     "data": {
      "text/plain": [
       "unyt_array([[7.02376299e+24, 7.92477891e+24, 8.50330408e+24, ...,\n",
       "        3.21780296e+27, 2.35816621e+27, 1.80091284e+27],\n",
       "       [5.83779739e+22, 6.49977257e+22, 6.98259114e+22, ...,\n",
       "        7.43484366e+25, 5.44914486e+25, 4.16176295e+25],\n",
       "       [1.14867789e+22, 1.33895813e+22, 1.48043182e+22, ...,\n",
       "        1.95614665e+25, 1.43305065e+25, 1.09408026e+25],\n",
       "       ...,\n",
       "       [8.64539258e+20, 1.12194289e+21, 1.35483639e+21, ...,\n",
       "        7.18659986e+24, 5.26866081e+24, 4.02486050e+24],\n",
       "       [1.21481614e+21, 1.49790887e+21, 1.73786378e+21, ...,\n",
       "        1.01825207e+25, 7.46757997e+24, 5.70688586e+24],\n",
       "       [2.29796931e+21, 2.80575332e+21, 3.22590455e+21, ...,\n",
       "        6.93229572e+24, 5.07793332e+24, 3.87639986e+24]], 'erg/(Hz*s)')"
      ]
     },
     "execution_count": 8,
     "metadata": {},
     "output_type": "execute_result"
    }
   ],
   "source": [
    "seds.lnu  # get luminosity\n",
    "# A typical value for the spectral luminosity density of a galaxy is around 28 erg/(Hz*s)"
   ]
  },
  {
   "cell_type": "code",
   "execution_count": 9,
   "metadata": {},
   "outputs": [],
   "source": [
    "# Need to use the grid lam, dont need to define wavelengths here: see codes here: http://svo2.cab.inta-csic.es/theory/fps/index.php?id=Swift/UVOT.UVM2&&mode=browse&gname=Swift&gname2=UVOT#filter\n",
    "# need to use transmission NOT area\n",
    "# Get for XMM\n",
    "fil_uvm2_XMM = Filter(\"XMM/OM.UVM2_filter\", new_lam=grid.lam)\n",
    "\n",
    "# now get for UVOT\n",
    "fil_uvm2_UVOT = Filter(\"Swift/UVOT.UVM2_fil\", new_lam=grid.lam) # changed from new_lam=lams_uvot to grid.lam and get 0 transmission, but warning sign is back\n",
    "\n",
    "# what is a top hat filter?\n",
    "filt1 = Filter(\"top_hat/filter.1\", lam_min=1400, lam_max=1600, new_lam=grid.lam)\n",
    "\n",
    "# 0 = TopHat, 1 = XMM, 2= Swift\n",
    "filt_lst = [filt1, fil_uvm2_XMM, fil_uvm2_UVOT]\n",
    "\n",
    "# get filters in combined array to apply to all galaxies\n",
    "combined_filters = FilterCollection(\n",
    "    filters=filt_lst, new_lam=grid.lam\n",
    ")\n"
   ]
  },
  {
   "cell_type": "code",
   "execution_count": 10,
   "metadata": {},
   "outputs": [
    {
     "data": {
      "text/plain": [
       "{'top_hat/filter.1': <synthesizer.filters.Filter at 0x7f50b21975b0>,\n",
       " 'XMM/OM.UVM2_filter': <synthesizer.filters.Filter at 0x7f50b22ec550>,\n",
       " 'Swift/UVOT.UVM2_fil': <synthesizer.filters.Filter at 0x7f50b21974c0>}"
      ]
     },
     "execution_count": 10,
     "metadata": {},
     "output_type": "execute_result"
    }
   ],
   "source": [
    "combined_filters.filters"
   ]
  },
  {
   "cell_type": "code",
   "execution_count": 11,
   "metadata": {},
   "outputs": [],
   "source": [
    "seds.photo_lnu"
   ]
  },
  {
   "cell_type": "code",
   "execution_count": 12,
   "metadata": {},
   "outputs": [
    {
     "name": "stdout",
     "output_type": "stream",
     "text": [
      "--------------------------------------------------------------\n",
      "|                  PHOTOMETRY (LUMINOSITY)                   |\n",
      "|--------------------------------------|---------------------|\n",
      "|  top_hat/filter.1 (λ = 1.50e+03 Å)   | 1.23e+31 erg/(Hz*s) |\n",
      "|--------------------------------------|---------------------|\n",
      "| XMM/OM.UVM2_filter (λ = 2.28e+03 Å)  | 1.19e+31 erg/(Hz*s) |\n",
      "|--------------------------------------|---------------------|\n",
      "| Swift/UVOT.UVM2_fil (λ = 2.25e+03 Å) | 1.19e+31 erg/(Hz*s) |\n",
      "--------------------------------------------------------------\n",
      "\n"
     ]
    }
   ],
   "source": [
    "phot = seds.get_photo_lnu(combined_filters, verbose=True) \n",
    "print(phot)\n",
    "# phot_mags = [lnu_to_absolute_mag(spec.photo_lnu[f] for f in combined_filters]"
   ]
  },
  {
   "cell_type": "code",
   "execution_count": 13,
   "metadata": {},
   "outputs": [],
   "source": [
    "abs_mags = [lnu_to_absolute_mag(phot[f]) for f in combined_filters.filters]\n",
    "#print(abs_mags)\n"
   ]
  },
  {
   "cell_type": "markdown",
   "metadata": {},
   "source": [
    "# check \n",
    "from astropy.cosmology import Planck18    # You can choose other cosmologies if needed\n",
    "\n",
    "def apparent_magnitude_from_absolute(redshift, absolute_magnitude):\n",
    "    # Get the luminosity distance for the given redshift\n",
    "    # Distnaces are in parsecs\n",
    "    d_L_pc = Planck18.luminosity_distance(redshift).to('pc').value\n",
    "    \n",
    "    # Calculate the apparent magnitude using the distance modulus formula\n",
    "    apparent_mag = absolute_magnitude - 5 + (5 * np.log10(d_L_pc))\n",
    "    \n",
    "    return apparent_mag\n",
    "\n",
    "ap_test = apparent_magnitude_from_absolute(redshift_074, abs_mags)\n",
    "ap_test[1] # 1 is XMM-OM\n"
   ]
  },
  {
   "cell_type": "markdown",
   "metadata": {},
   "source": [
    "Absolute magnitude is defined to be the apparent magnitude an object would have if it were located at a distance of 10 parsecs.\n",
    "In astronomy, absolute magnitude (M) is a measure of the luminosity of a celestial object on an inverse logarithmic astronomical magnitude scale."
   ]
  },
  {
   "cell_type": "code",
   "execution_count": 14,
   "metadata": {},
   "outputs": [],
   "source": [
    "abs_mag_th = abs_mags[0]"
   ]
  },
  {
   "cell_type": "code",
   "execution_count": 15,
   "metadata": {},
   "outputs": [
    {
     "name": "stdout",
     "output_type": "stream",
     "text": [
      "162822.66444696585\n"
     ]
    }
   ],
   "source": [
    "# next steps, get luminosity function for these magnitudes\n",
    "# co-moving volume: BoxSize_025 and redshift:\n",
    "little_h =  0.6711\n",
    "Vphys = (boxSize_074/little_h )**3\n",
    "Vcom = Vphys * ((1+redshift_074)**3)\n",
    "print(Vcom)\n"
   ]
  },
  {
   "cell_type": "code",
   "execution_count": 16,
   "metadata": {},
   "outputs": [],
   "source": [
    "# Alternative method for LF:\n",
    "# try this method again, but using AB mag instead of mass, and suply your own bins (up to -17, say)\n",
    "def calc_df(ab_mag, volume, massBinLimits):\n",
    "\n",
    "# OG:        hist, dummy = np.histogram(np.log10(mstar), bins = massBinLimits)\n",
    "        hist, dummy = np.histogram(ab_mag, bins = massBinLimits)\n",
    "        hist = np.float64(hist)\n",
    "        phi = (hist / volume) / (massBinLimits[1] - massBinLimits[0])\n",
    "\n",
    "        phi_sigma = (np.sqrt(hist) / volume) /\\\n",
    "                    (massBinLimits[1] - massBinLimits[0]) # Poisson errors\n",
    "\n",
    "        return phi, phi_sigma, hist"
   ]
  },
  {
   "cell_type": "code",
   "execution_count": 17,
   "metadata": {},
   "outputs": [],
   "source": [
    "# Define the bin edges for AB magnitudes\n",
    "# Here, let's define bins from -25 to -17 in steps of 0.5 magnitude\n",
    "massBinLimits = np.arange(-22, -16, 0.5)\n",
    "\n",
    "phi, phi_sigma, hist = calc_df(abs_mag_th, Vcom, massBinLimits)"
   ]
  },
  {
   "cell_type": "code",
   "execution_count": 18,
   "metadata": {},
   "outputs": [
    {
     "data": {
      "image/png": "[encoded data removed]",
      "text/plain": [
       "<Figure size 640x480 with 1 Axes>"
      ]
     },
     "metadata": {},
     "output_type": "display_data"
    }
   ],
   "source": [
    "\n",
    "label_025 = 'z = ', redshift_074\n",
    "label_th = 'Tophat'\n",
    "\n",
    "# Plot the luminosity function\n",
    "plt.errorbar(massBinLimits[:-1], phi, yerr=phi_sigma, fmt='o', color='blue', label=label_th)\n",
    "\n",
    "plt.xlabel('Absolute Magnitude (AB)')\n",
    "plt.ylabel('Number Density (Mpc^-3 mag^-1)')\n",
    "plt.yscale('log')\n",
    "plt.legend(loc='lower right')\n",
    "\n",
    "\n",
    "plt.title('Luminosity Function Top Hat filter')\n",
    "plt.grid(True)\n",
    "plt.show()"
   ]
  },
  {
   "cell_type": "code",
   "execution_count": null,
   "metadata": {},
   "outputs": [],
   "source": []
  },
  {
   "cell_type": "code",
   "execution_count": null,
   "metadata": {},
   "outputs": [],
   "source": []
  }
 ],
 "metadata": {
  "kernelspec": {
   "display_name": "Python 3 (ipykernel)",
   "language": "python",
   "name": "python3"
  },
  "language_info": {
   "codemirror_mode": {
    "name": "ipython",
    "version": 3
   },
   "file_extension": ".py",
   "mimetype": "text/x-python",
   "name": "python",
   "nbconvert_exporter": "python",
   "pygments_lexer": "ipython3",
   "version": "3.9.15"
  }
 },
 "nbformat": 4,
 "nbformat_minor": 4
}
