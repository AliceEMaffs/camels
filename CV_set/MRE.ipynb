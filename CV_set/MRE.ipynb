{
 "cells": [
  {
   "cell_type": "code",
   "execution_count": 7,
   "id": "6c4215a6-41da-4694-a614-2b43a666c90b",
   "metadata": {},
   "outputs": [
    {
     "name": "stdout",
     "output_type": "stream",
     "text": [
      "370\n"
     ]
    },
    {
     "data": {
      "text/plain": [
       "array([ -3.48814625,  -3.5912223 ,  -3.65771917, ..., -10.48283535,\n",
       "       -10.1445652 ,  -9.85118686])"
      ]
     },
     "execution_count": 7,
     "metadata": {},
     "output_type": "execute_result"
    }
   ],
   "source": [
    "import time\n",
    "import numpy as np\n",
    "import h5py\n",
    "import hdf5plugin\n",
    "import pandas as pd\n",
    "import matplotlib as mpl\n",
    "import matplotlib.colors as cm\n",
    "import matplotlib.pyplot as plt\n",
    "import matplotlib.gridspec as gridspec\n",
    "from unyt import yr, Myr, kpc, arcsec, nJy, Mpc, Msun, erg, s, Hz, kelvin\n",
    "from astropy.cosmology import Planck18 as cosmo\n",
    "from scipy import signal\n",
    "from synthesizer.emission_models.attenuation import PowerLaw\n",
    "from synthesizer.filters import UVJ\n",
    "from synthesizer.grid import Grid\n",
    "from synthesizer.load_data.load_camels import load_CAMELS_IllustrisTNG\n",
    "from synthesizer.sed import Sed\n",
    "from synthesizer.parametric import SFH, ZDist\n",
    "from synthesizer.particle.stars import sample_sfhz\n",
    "from synthesizer.parametric import Stars as ParametricStars\n",
    "from synthesizer.particle.particles import CoordinateGenerator\n",
    "from synthesizer.filters import Filter, FilterCollection\n",
    "from synthesizer.sed import combine_list_of_seds\n",
    "from synthesizer.kernel_functions import Kernel\n",
    "from synthesizer.conversions import lnu_to_absolute_mag\n",
    "from synthesizer.emission_models.attenuation import PowerLaw\n",
    "from synthesizer.emission_models.dust.emission import Blackbody, Greybody\n",
    "from synthesizer.emission_models import (\n",
    "    EmissionModel,\n",
    "    AttenuatedEmission,\n",
    "    BimodalPacmanEmission,\n",
    "    DustEmission,\n",
    "    EmissionModel,\n",
    "    UnifiedAGN,\n",
    "    CharlotFall2000,\n",
    "    IncidentEmission,\n",
    "    NebularEmission,\n",
    "    ReprocessedEmission,\n",
    "    StellarEmissionModel,\n",
    ")\n",
    "from synthesizer.conversions import lnu_to_absolute_mag, fnu_to_apparent_mag, fnu_to_lnu\n",
    "grid_name = \"bc03_chabrier03-0.1,100.hdf5\"\n",
    "grid_dir = \"/home/jovyan/\"\n",
    "grid = Grid(grid_name, grid_dir=grid_dir, read_lines=False)\n",
    "CV_X = 'CV_0'\n",
    "dir_ = '/home/jovyan/Data/Sims/IllustrisTNG/CV/' + CV_X\n",
    "gals_074 = load_CAMELS_IllustrisTNG(\n",
    "    dir_,\n",
    "    snap_name='snapshot_074.hdf5', \n",
    "    group_name='groups_074.hdf5',\n",
    ")\n",
    "gals_074 = [gal for gal in gals_074 if len(gal.stars.ages) >= 100]  \n",
    "# Filter galaxies to only include those with 100 or more star particles\n",
    "gals_074 = [gal for gal in gals_074 if gal.stars.nstars >= 100]\n",
    "print(len(gals_074))\n",
    "gals_074 = [gal for gal in gals_074 if gal.gas.nparticles >= 100]\n"
   ]
  },
  {
   "cell_type": "code",
   "execution_count": 8,
   "id": "543379ce-2d25-48ef-a65c-803654d664b2",
   "metadata": {},
   "outputs": [],
   "source": [
    "\n",
    "# get sprectra, incident model atm\n",
    "incident = IncidentEmission(grid)\n",
    "little_h =  0.6711\n",
    "spec_list = []\n"
   ]
  },
  {
   "cell_type": "code",
   "execution_count": 9,
   "id": "28df678a-22dc-4d3d-a96d-a2e28a82f242",
   "metadata": {},
   "outputs": [],
   "source": [
    "# Lets work with z=0 so gals_025\n",
    "for i in gals_074:\n",
    "    gal = i\n",
    "    # get_spectra_incident An Sed object containing the stellar spectra\n",
    "    spec = gal.stars.get_spectra(incident)\n",
    "    spec.get_fnu0()\n",
    "    spec_list.append(spec)\n"
   ]
  },
  {
   "cell_type": "code",
   "execution_count": 10,
   "id": "a6eea5be-bf75-468d-bb1a-9a5a21ad3c79",
   "metadata": {},
   "outputs": [
    {
     "data": {
      "text/plain": [
       "unyt_array([1.07936779e+22, 1.18686104e+22, 1.26182353e+22, ...,\n",
       "       6.77711873e+24, 4.96291724e+24, 3.78778832e+24], 'erg/(Hz*s)')"
      ]
     },
     "execution_count": 10,
     "metadata": {},
     "output_type": "execute_result"
    }
   ],
   "source": [
    "# combine\n",
    "seds = combine_list_of_seds(spec_list)\n",
    "seds\n",
    "spec.lnu  # get luminosity\n"
   ]
  },
  {
   "cell_type": "code",
   "execution_count": 11,
   "id": "99eb418c-dffa-4261-a6ca-e9ff51ef88d4",
   "metadata": {},
   "outputs": [
    {
     "data": {
      "text/plain": [
       "array([ -3.48814625,  -3.5912223 ,  -3.65771917, ..., -10.48283535,\n",
       "       -10.1445652 ,  -9.85118686])"
      ]
     },
     "execution_count": 11,
     "metadata": {},
     "output_type": "execute_result"
    }
   ],
   "source": [
    "filt1 = Filter(\"top_hat/filter.1\", lam_min=1400, lam_max=1600, new_lam=grid.lam)\n",
    "filt_lst = [filt1]#, fil_uvm2_XMM, fil_uvm2_UVOT]\n",
    "combined_filters = FilterCollection(\n",
    "    filters=filt_lst, new_lam=grid.lam\n",
    ")\n",
    "spec.get_photo_lnu(combined_filters, verbose=True) \n",
    "\n",
    "abs_mag = lnu_to_absolute_mag(spec.lnu)\n",
    "abs_mag"
   ]
  },
  {
   "cell_type": "code",
   "execution_count": null,
   "id": "ad85ac02-7f38-4ca2-b154-23476fed9775",
   "metadata": {},
   "outputs": [],
   "source": []
  }
 ],
 "metadata": {
  "kernelspec": {
   "display_name": "Python 3 (ipykernel)",
   "language": "python",
   "name": "python3"
  },
  "language_info": {
   "codemirror_mode": {
    "name": "ipython",
    "version": 3
   },
   "file_extension": ".py",
   "mimetype": "text/x-python",
   "name": "python",
   "nbconvert_exporter": "python",
   "pygments_lexer": "ipython3",
   "version": "3.9.15"
  }
 },
 "nbformat": 4,
 "nbformat_minor": 5
}
