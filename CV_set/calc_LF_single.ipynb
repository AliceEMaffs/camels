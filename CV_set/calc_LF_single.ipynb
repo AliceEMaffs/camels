{
 "cells": [
  {
   "cell_type": "code",
   "execution_count": 1,
   "id": "b786f44c",
   "metadata": {},
   "outputs": [],
   "source": [
    "import time\n",
    "import numpy as np\n",
    "import h5py\n",
    "import hdf5plugin\n",
    "import pandas as pd\n",
    "import matplotlib as mpl\n",
    "import matplotlib.colors as cm\n",
    "import matplotlib.pyplot as plt\n",
    "import matplotlib.gridspec as gridspec\n",
    "from unyt import yr, Myr, kpc, arcsec, nJy, Mpc, Msun, erg, s, Hz, kelvin\n",
    "from astropy.cosmology import Planck18 as cosmo\n",
    "from scipy import signal\n",
    "import os \n",
    "import csv\n",
    "import resource\n",
    "import pickle\n",
    "import shutil\n",
    "import json\n",
    "\n",
    "from synthesizer.emission_models.attenuation import PowerLaw\n",
    "from synthesizer.filters import UVJ\n",
    "from synthesizer.grid import Grid\n",
    "from synthesizer.load_data.load_camels import load_CAMELS_IllustrisTNG\n",
    "from synthesizer.sed import Sed\n",
    "from synthesizer.parametric import SFH, ZDist\n",
    "from synthesizer.particle.stars import sample_sfhz\n",
    "from synthesizer.parametric import Stars as ParametricStars\n",
    "from synthesizer.particle.particles import CoordinateGenerator\n",
    "from synthesizer.filters import Filter, FilterCollection\n",
    "from synthesizer.sed import combine_list_of_seds\n",
    "from synthesizer.kernel_functions import Kernel\n",
    "from synthesizer.conversions import lnu_to_absolute_mag\n",
    "from synthesizer.emission_models.attenuation import PowerLaw\n",
    "from synthesizer.emission_models.dust.emission import Blackbody, Greybody\n",
    "from synthesizer.emission_models import (\n",
    "    EmissionModel,\n",
    "    AttenuatedEmission,\n",
    "    BimodalPacmanEmission,\n",
    "    DustEmission,\n",
    "    EmissionModel,\n",
    "    UnifiedAGN,\n",
    "    CharlotFall2000,\n",
    "    IncidentEmission,\n",
    "    NebularEmission,\n",
    "    ReprocessedEmission,\n",
    "    StellarEmissionModel,\n",
    ")"
   ]
  },
  {
   "cell_type": "code",
   "execution_count": 2,
   "id": "632796b2",
   "metadata": {},
   "outputs": [],
   "source": [
    "def calc_lf(ab_mag, volume, magBinLimits):\n",
    "    try:\n",
    "        # Histogram of the AB magnitudes within the supplied bins\n",
    "        hist, bin_edges = np.histogram(ab_mag, bins=magBinLimits)\n",
    "        hist = np.float64(hist)\n",
    "        \n",
    "        # Calculate the bin widths (necessary if bins are not uniform)\n",
    "        bin_widths = np.diff(bin_edges)\n",
    "        \n",
    "        # Luminosity function (phi): number density per unit volume per bin width\n",
    "        phi = (hist / volume) / bin_widths\n",
    "        \n",
    "        # Poisson errors (standard deviation)\n",
    "        phi_sigma = (np.sqrt(hist) / volume) / bin_widths  # Poisson errors\n",
    "        \n",
    "        return phi, phi_sigma, hist\n",
    "    except Exception as e:\n",
    "        print(f\"Error in calc_lf: {e}\")\n",
    "        return None, None, None\n",
    "\n",
    "    \n",
    "# Alternative method for LF:\n",
    "# try this method again, but using AB mag instead of mass, and suply your own bins (up to -17, say)\n",
    "def calc_lf_binlims(ab_mag, volume, massBinLimits):\n",
    "    try:\n",
    "        # OG: hist, dummy = np.histogram(np.log10(mstar), bins = massBinLimits)\n",
    "        hist, dummy = np.histogram(ab_mag, bins = massBinLimits)\n",
    "        hist = np.float64(hist)\n",
    "        phi = (hist / volume) / (massBinLimits[1] - massBinLimits[0])\n",
    "        phi_sigma = (np.sqrt(hist) / volume) /\\\n",
    "                    (massBinLimits[1] - massBinLimits[0]) # Poisson errors\n",
    "        return phi, phi_sigma, hist\n",
    "    except Exception as e:\n",
    "        print(f\"Error in calc_lf: {e}\")\n",
    "        return None, None, None\n"
   ]
  },
  {
   "cell_type": "code",
   "execution_count": 3,
   "id": "8f7e557a",
   "metadata": {},
   "outputs": [],
   "source": [
    "# Define directories to process\n",
    "CV_X ='CV_0'\n",
    "\n",
    "# Initialize grid\n",
    "grid_name = \"bc03_chabrier03-0.1,100.hdf5\"\n",
    "grid_dir = \"/home/jovyan/\"\n",
    "grid = Grid(grid_name, grid_dir=grid_dir, read_lines=False)\n",
    "\n",
    "# Define the directory where the text files will be saved\n",
    "output_dir = \"/home/jovyan/camels/CV_set/CV_outputs/LFs/\"\n"
   ]
  },
  {
   "cell_type": "code",
   "execution_count": 4,
   "id": "2d5a231d-2b30-4ae6-ba8f-2e1dda53a45e",
   "metadata": {},
   "outputs": [
    {
     "data": {
      "text/plain": [
       "'CV_9'"
      ]
     },
     "execution_count": 4,
     "metadata": {},
     "output_type": "execute_result"
    }
   ],
   "source": [
    "CV_X"
   ]
  },
  {
   "cell_type": "code",
   "execution_count": 5,
   "id": "9093f63b-fd65-4335-8db2-d5fab65c39a2",
   "metadata": {},
   "outputs": [],
   "source": [
    "incident = IncidentEmission(grid)\n",
    "little_h =  0.6711\n"
   ]
  },
  {
   "cell_type": "code",
   "execution_count": 6,
   "id": "bde062f8",
   "metadata": {},
   "outputs": [
    {
     "name": "stderr",
     "output_type": "stream",
     "text": [
      "/srv/conda/envs/notebook/lib/python3.9/site-packages/unyt/array.py:1949: RuntimeWarning: invalid value encountered in divide\n",
      "  out_arr = func(\n"
     ]
    },
    {
     "ename": "KeyboardInterrupt",
     "evalue": "",
     "output_type": "error",
     "traceback": [
      "\u001b[0;31m---------------------------------------------------------------------------\u001b[0m",
      "\u001b[0;31mKeyboardInterrupt\u001b[0m                         Traceback (most recent call last)",
      "Cell \u001b[0;32mIn[4], line 8\u001b[0m\n\u001b[1;32m      6\u001b[0m \u001b[38;5;66;03m# Get grid for all galaxies\u001b[39;00m\n\u001b[1;32m      7\u001b[0m dir_ \u001b[38;5;241m=\u001b[39m \u001b[38;5;124m'\u001b[39m\u001b[38;5;124m/home/jovyan/Data/Sims/IllustrisTNG/LH/\u001b[39m\u001b[38;5;124m'\u001b[39m \u001b[38;5;241m+\u001b[39m LH_X\n\u001b[0;32m----> 8\u001b[0m gals_074 \u001b[38;5;241m=\u001b[39m \u001b[43mload_CAMELS_IllustrisTNG\u001b[49m\u001b[43m(\u001b[49m\n\u001b[1;32m      9\u001b[0m \u001b[43m    \u001b[49m\u001b[43mdir_\u001b[49m\u001b[43m,\u001b[49m\n\u001b[1;32m     10\u001b[0m \u001b[43m    \u001b[49m\u001b[43msnap_name\u001b[49m\u001b[38;5;241;43m=\u001b[39;49m\u001b[38;5;124;43m'\u001b[39;49m\u001b[38;5;124;43msnapshot_074.hdf5\u001b[39;49m\u001b[38;5;124;43m'\u001b[39;49m\u001b[43m,\u001b[49m\u001b[43m \u001b[49m\n\u001b[1;32m     11\u001b[0m \u001b[43m    \u001b[49m\u001b[43mfof_name\u001b[49m\u001b[38;5;241;43m=\u001b[39;49m\u001b[38;5;124;43m'\u001b[39;49m\u001b[38;5;124;43mgroups_074.hdf5\u001b[39;49m\u001b[38;5;124;43m'\u001b[39;49m\u001b[43m,\u001b[49m\n\u001b[1;32m     12\u001b[0m \u001b[43m\u001b[49m\u001b[43m)\u001b[49m\n\u001b[1;32m     14\u001b[0m \u001b[38;5;66;03m# Check if stars and gas data is valid\u001b[39;00m\n\u001b[1;32m     15\u001b[0m \u001b[38;5;28;01mif\u001b[39;00m \u001b[38;5;28many\u001b[39m(gal\u001b[38;5;241m.\u001b[39mstars \u001b[38;5;129;01mis\u001b[39;00m \u001b[38;5;28;01mNone\u001b[39;00m \u001b[38;5;129;01mor\u001b[39;00m gal\u001b[38;5;241m.\u001b[39mgas \u001b[38;5;129;01mis\u001b[39;00m \u001b[38;5;28;01mNone\u001b[39;00m \u001b[38;5;28;01mfor\u001b[39;00m gal \u001b[38;5;129;01min\u001b[39;00m gals_074):\n",
      "File \u001b[0;32m/srv/conda/envs/notebook/lib/python3.9/site-packages/synthesizer/load_data/load_camels.py:228\u001b[0m, in \u001b[0;36mload_CAMELS_IllustrisTNG\u001b[0;34m(_dir, snap_name, fof_name, fof_dir, verbose, dtm, physical)\u001b[0m\n\u001b[1;32m    225\u001b[0m _ages \u001b[38;5;241m=\u001b[39m cosmo\u001b[38;5;241m.\u001b[39mage(\u001b[38;5;241m1.0\u001b[39m \u001b[38;5;241m/\u001b[39m form_time \u001b[38;5;241m-\u001b[39m \u001b[38;5;241m1\u001b[39m)\n\u001b[1;32m    226\u001b[0m ages \u001b[38;5;241m=\u001b[39m (universe_age \u001b[38;5;241m-\u001b[39m _ages)\u001b[38;5;241m.\u001b[39mvalue \u001b[38;5;241m*\u001b[39m \u001b[38;5;241m1e9\u001b[39m  \u001b[38;5;66;03m# yr\u001b[39;00m\n\u001b[0;32m--> 228\u001b[0m \u001b[38;5;28;01mreturn\u001b[39;00m \u001b[43m_load_CAMELS\u001b[49m\u001b[43m(\u001b[49m\n\u001b[1;32m    229\u001b[0m \u001b[43m    \u001b[49m\u001b[43mlens\u001b[49m\u001b[38;5;241;43m=\u001b[39;49m\u001b[43mlens\u001b[49m\u001b[43m,\u001b[49m\n\u001b[1;32m    230\u001b[0m \u001b[43m    \u001b[49m\u001b[43mimasses\u001b[49m\u001b[38;5;241;43m=\u001b[39;49m\u001b[43mimasses\u001b[49m\u001b[43m,\u001b[49m\n\u001b[1;32m    231\u001b[0m \u001b[43m    \u001b[49m\u001b[43mages\u001b[49m\u001b[38;5;241;43m=\u001b[39;49m\u001b[43mages\u001b[49m\u001b[43m,\u001b[49m\n\u001b[1;32m    232\u001b[0m \u001b[43m    \u001b[49m\u001b[43mmetallicities\u001b[49m\u001b[38;5;241;43m=\u001b[39;49m\u001b[43mmetallicity\u001b[49m\u001b[43m,\u001b[49m\n\u001b[1;32m    233\u001b[0m \u001b[43m    \u001b[49m\u001b[43ms_oxygen\u001b[49m\u001b[38;5;241;43m=\u001b[39;49m\u001b[43ms_oxygen\u001b[49m\u001b[43m,\u001b[49m\n\u001b[1;32m    234\u001b[0m \u001b[43m    \u001b[49m\u001b[43ms_hydrogen\u001b[49m\u001b[38;5;241;43m=\u001b[39;49m\u001b[43ms_hydrogen\u001b[49m\u001b[43m,\u001b[49m\n\u001b[1;32m    235\u001b[0m \u001b[43m    \u001b[49m\u001b[43ms_hsml\u001b[49m\u001b[38;5;241;43m=\u001b[39;49m\u001b[43mhsml\u001b[49m\u001b[43m,\u001b[49m\n\u001b[1;32m    236\u001b[0m \u001b[43m    \u001b[49m\u001b[43mcoods\u001b[49m\u001b[38;5;241;43m=\u001b[39;49m\u001b[43mcoods\u001b[49m\u001b[43m,\u001b[49m\n\u001b[1;32m    237\u001b[0m \u001b[43m    \u001b[49m\u001b[43mmasses\u001b[49m\u001b[38;5;241;43m=\u001b[39;49m\u001b[43mmasses\u001b[49m\u001b[43m,\u001b[49m\n\u001b[1;32m    238\u001b[0m \u001b[43m    \u001b[49m\u001b[43mg_coods\u001b[49m\u001b[38;5;241;43m=\u001b[39;49m\u001b[43mg_coods\u001b[49m\u001b[43m,\u001b[49m\n\u001b[1;32m    239\u001b[0m \u001b[43m    \u001b[49m\u001b[43mg_masses\u001b[49m\u001b[38;5;241;43m=\u001b[39;49m\u001b[43mg_masses\u001b[49m\u001b[43m,\u001b[49m\n\u001b[1;32m    240\u001b[0m \u001b[43m    \u001b[49m\u001b[43mg_metallicities\u001b[49m\u001b[38;5;241;43m=\u001b[39;49m\u001b[43mg_metals\u001b[49m\u001b[43m,\u001b[49m\n\u001b[1;32m    241\u001b[0m \u001b[43m    \u001b[49m\u001b[43mg_hsml\u001b[49m\u001b[38;5;241;43m=\u001b[39;49m\u001b[43mg_hsml\u001b[49m\u001b[43m,\u001b[49m\n\u001b[1;32m    242\u001b[0m \u001b[43m    \u001b[49m\u001b[43mstar_forming\u001b[49m\u001b[38;5;241;43m=\u001b[39;49m\u001b[43mstar_forming\u001b[49m\u001b[43m,\u001b[49m\n\u001b[1;32m    243\u001b[0m \u001b[43m    \u001b[49m\u001b[43mredshift\u001b[49m\u001b[38;5;241;43m=\u001b[39;49m\u001b[43mredshift\u001b[49m\u001b[43m,\u001b[49m\n\u001b[1;32m    244\u001b[0m \u001b[43m    \u001b[49m\u001b[43mcentre\u001b[49m\u001b[38;5;241;43m=\u001b[39;49m\u001b[43mpos\u001b[49m\u001b[43m,\u001b[49m\n\u001b[1;32m    245\u001b[0m \u001b[43m    \u001b[49m\u001b[43mdtm\u001b[49m\u001b[38;5;241;43m=\u001b[39;49m\u001b[43mdtm\u001b[49m\u001b[43m,\u001b[49m\n\u001b[1;32m    246\u001b[0m \u001b[43m\u001b[49m\u001b[43m)\u001b[49m\n",
      "File \u001b[0;32m/srv/conda/envs/notebook/lib/python3.9/site-packages/synthesizer/load_data/load_camels.py:90\u001b[0m, in \u001b[0;36m_load_CAMELS\u001b[0;34m(lens, imasses, ages, metallicities, s_oxygen, s_hydrogen, coods, masses, g_coods, g_masses, g_metallicities, g_hsml, star_forming, redshift, centre, s_hsml, dtm)\u001b[0m\n\u001b[1;32m     87\u001b[0m     \u001b[38;5;28;01melse\u001b[39;00m:\n\u001b[1;32m     88\u001b[0m         smoothing_lengths \u001b[38;5;241m=\u001b[39m s_hsml[b:e] \u001b[38;5;241m*\u001b[39m kpc\n\u001b[0;32m---> 90\u001b[0m     \u001b[43mgalaxies\u001b[49m\u001b[43m[\u001b[49m\u001b[43mi\u001b[49m\u001b[43m]\u001b[49m\u001b[38;5;241;43m.\u001b[39;49m\u001b[43mload_stars\u001b[49m\u001b[43m(\u001b[49m\n\u001b[1;32m     91\u001b[0m \u001b[43m        \u001b[49m\u001b[43minitial_masses\u001b[49m\u001b[38;5;241;43m=\u001b[39;49m\u001b[43mimasses\u001b[49m\u001b[43m[\u001b[49m\u001b[43mb\u001b[49m\u001b[43m:\u001b[49m\u001b[43me\u001b[49m\u001b[43m]\u001b[49m\u001b[43m \u001b[49m\u001b[38;5;241;43m*\u001b[39;49m\u001b[43m \u001b[49m\u001b[43mMsun\u001b[49m\u001b[43m,\u001b[49m\n\u001b[1;32m     92\u001b[0m \u001b[43m        \u001b[49m\u001b[43mages\u001b[49m\u001b[38;5;241;43m=\u001b[39;49m\u001b[43mages\u001b[49m\u001b[43m[\u001b[49m\u001b[43mb\u001b[49m\u001b[43m:\u001b[49m\u001b[43me\u001b[49m\u001b[43m]\u001b[49m\u001b[43m \u001b[49m\u001b[38;5;241;43m*\u001b[39;49m\u001b[43m \u001b[49m\u001b[43myr\u001b[49m\u001b[43m,\u001b[49m\n\u001b[1;32m     93\u001b[0m \u001b[43m        \u001b[49m\u001b[43mmetallicities\u001b[49m\u001b[38;5;241;43m=\u001b[39;49m\u001b[43mmetallicities\u001b[49m\u001b[43m[\u001b[49m\u001b[43mb\u001b[49m\u001b[43m:\u001b[49m\u001b[43me\u001b[49m\u001b[43m]\u001b[49m\u001b[43m,\u001b[49m\n\u001b[1;32m     94\u001b[0m \u001b[43m        \u001b[49m\u001b[43ms_oxygen\u001b[49m\u001b[38;5;241;43m=\u001b[39;49m\u001b[43ms_oxygen\u001b[49m\u001b[43m[\u001b[49m\u001b[43mb\u001b[49m\u001b[43m:\u001b[49m\u001b[43me\u001b[49m\u001b[43m]\u001b[49m\u001b[43m,\u001b[49m\n\u001b[1;32m     95\u001b[0m \u001b[43m        \u001b[49m\u001b[43ms_hydrogen\u001b[49m\u001b[38;5;241;43m=\u001b[39;49m\u001b[43ms_hydrogen\u001b[49m\u001b[43m[\u001b[49m\u001b[43mb\u001b[49m\u001b[43m:\u001b[49m\u001b[43me\u001b[49m\u001b[43m]\u001b[49m\u001b[43m,\u001b[49m\n\u001b[1;32m     96\u001b[0m \u001b[43m        \u001b[49m\u001b[43mcoordinates\u001b[49m\u001b[38;5;241;43m=\u001b[39;49m\u001b[43mcoods\u001b[49m\u001b[43m[\u001b[49m\u001b[43mb\u001b[49m\u001b[43m:\u001b[49m\u001b[43me\u001b[49m\u001b[43m,\u001b[49m\u001b[43m \u001b[49m\u001b[43m:\u001b[49m\u001b[43m]\u001b[49m\u001b[43m \u001b[49m\u001b[38;5;241;43m*\u001b[39;49m\u001b[43m \u001b[49m\u001b[43mkpc\u001b[49m\u001b[43m,\u001b[49m\n\u001b[1;32m     97\u001b[0m \u001b[43m        \u001b[49m\u001b[43mcurrent_masses\u001b[49m\u001b[38;5;241;43m=\u001b[39;49m\u001b[43mmasses\u001b[49m\u001b[43m[\u001b[49m\u001b[43mb\u001b[49m\u001b[43m:\u001b[49m\u001b[43me\u001b[49m\u001b[43m]\u001b[49m\u001b[43m \u001b[49m\u001b[38;5;241;43m*\u001b[39;49m\u001b[43m \u001b[49m\u001b[43mMsun\u001b[49m\u001b[43m,\u001b[49m\n\u001b[1;32m     98\u001b[0m \u001b[43m        \u001b[49m\u001b[43msmoothing_lengths\u001b[49m\u001b[38;5;241;43m=\u001b[39;49m\u001b[43msmoothing_lengths\u001b[49m\u001b[43m,\u001b[49m\n\u001b[1;32m     99\u001b[0m \u001b[43m    \u001b[49m\u001b[43m)\u001b[49m\n\u001b[1;32m    101\u001b[0m begin, end \u001b[38;5;241m=\u001b[39m get_len(lens[:, \u001b[38;5;241m0\u001b[39m])\n\u001b[1;32m    102\u001b[0m \u001b[38;5;28;01mfor\u001b[39;00m i, (b, e) \u001b[38;5;129;01min\u001b[39;00m \u001b[38;5;28menumerate\u001b[39m(\u001b[38;5;28mzip\u001b[39m(begin, end)):\n",
      "File \u001b[0;32m/srv/conda/envs/notebook/lib/python3.9/site-packages/synthesizer/particle/galaxy.py:250\u001b[0m, in \u001b[0;36mGalaxy.load_stars\u001b[0;34m(self, initial_masses, ages, metallicities, stars, **kwargs)\u001b[0m\n\u001b[1;32m    247\u001b[0m         \u001b[38;5;28;01mreturn\u001b[39;00m \u001b[38;5;28;01mNone\u001b[39;00m\n\u001b[1;32m    248\u001b[0m     \u001b[38;5;28;01melse\u001b[39;00m:\n\u001b[1;32m    249\u001b[0m         \u001b[38;5;66;03m# Create a new Stars object from particle arrays\u001b[39;00m\n\u001b[0;32m--> 250\u001b[0m         \u001b[38;5;28mself\u001b[39m\u001b[38;5;241m.\u001b[39mstars \u001b[38;5;241m=\u001b[39m \u001b[43mStars\u001b[49m\u001b[43m(\u001b[49m\n\u001b[1;32m    251\u001b[0m \u001b[43m            \u001b[49m\u001b[43minitial_masses\u001b[49m\u001b[43m,\u001b[49m\u001b[43m \u001b[49m\u001b[43mages\u001b[49m\u001b[43m,\u001b[49m\u001b[43m \u001b[49m\u001b[43mmetallicities\u001b[49m\u001b[43m,\u001b[49m\u001b[43m \u001b[49m\u001b[38;5;241;43m*\u001b[39;49m\u001b[38;5;241;43m*\u001b[39;49m\u001b[43mkwargs\u001b[49m\n\u001b[1;32m    252\u001b[0m \u001b[43m        \u001b[49m\u001b[43m)\u001b[49m\n\u001b[1;32m    254\u001b[0m \u001b[38;5;28mself\u001b[39m\u001b[38;5;241m.\u001b[39mcalculate_integrated_stellar_properties()\n\u001b[1;32m    256\u001b[0m \u001b[38;5;66;03m# Assign additional galaxy-level properties\u001b[39;00m\n",
      "File \u001b[0;32m/srv/conda/envs/notebook/lib/python3.9/site-packages/synthesizer/particle/stars.py:170\u001b[0m, in \u001b[0;36mStars.__init__\u001b[0;34m(self, initial_masses, ages, metallicities, redshift, tau_v, alpha_enhancement, coordinates, velocities, current_masses, smoothing_lengths, s_oxygen, s_hydrogen, softening_length, centre)\u001b[0m\n\u001b[1;32m    130\u001b[0m \u001b[38;5;250m\u001b[39m\u001b[38;5;124;03m\"\"\"\u001b[39;00m\n\u001b[1;32m    131\u001b[0m \u001b[38;5;124;03mIntialise the Stars instance. The first 3 arguments are always\u001b[39;00m\n\u001b[1;32m    132\u001b[0m \u001b[38;5;124;03mrequired. All other arguments are optional attributes applicable\u001b[39;00m\n\u001b[0;32m   (...)\u001b[0m\n\u001b[1;32m    166\u001b[0m \u001b[38;5;124;03m        a number of way (e.g. centre of mass)\u001b[39;00m\n\u001b[1;32m    167\u001b[0m \u001b[38;5;124;03m\"\"\"\u001b[39;00m\n\u001b[1;32m    169\u001b[0m \u001b[38;5;66;03m# Instantiate parents\u001b[39;00m\n\u001b[0;32m--> 170\u001b[0m \u001b[43mParticles\u001b[49m\u001b[38;5;241;43m.\u001b[39;49m\u001b[38;5;21;43m__init__\u001b[39;49m\u001b[43m(\u001b[49m\n\u001b[1;32m    171\u001b[0m \u001b[43m    \u001b[49m\u001b[38;5;28;43mself\u001b[39;49m\u001b[43m,\u001b[49m\n\u001b[1;32m    172\u001b[0m \u001b[43m    \u001b[49m\u001b[43mcoordinates\u001b[49m\u001b[38;5;241;43m=\u001b[39;49m\u001b[43mcoordinates\u001b[49m\u001b[43m,\u001b[49m\n\u001b[1;32m    173\u001b[0m \u001b[43m    \u001b[49m\u001b[43mvelocities\u001b[49m\u001b[38;5;241;43m=\u001b[39;49m\u001b[43mvelocities\u001b[49m\u001b[43m,\u001b[49m\n\u001b[1;32m    174\u001b[0m \u001b[43m    \u001b[49m\u001b[43mmasses\u001b[49m\u001b[38;5;241;43m=\u001b[39;49m\u001b[43mcurrent_masses\u001b[49m\u001b[43m,\u001b[49m\n\u001b[1;32m    175\u001b[0m \u001b[43m    \u001b[49m\u001b[43mredshift\u001b[49m\u001b[38;5;241;43m=\u001b[39;49m\u001b[43mredshift\u001b[49m\u001b[43m,\u001b[49m\n\u001b[1;32m    176\u001b[0m \u001b[43m    \u001b[49m\u001b[43msoftening_length\u001b[49m\u001b[38;5;241;43m=\u001b[39;49m\u001b[43msoftening_length\u001b[49m\u001b[43m,\u001b[49m\n\u001b[1;32m    177\u001b[0m \u001b[43m    \u001b[49m\u001b[43mnparticles\u001b[49m\u001b[38;5;241;43m=\u001b[39;49m\u001b[38;5;28;43mlen\u001b[39;49m\u001b[43m(\u001b[49m\u001b[43minitial_masses\u001b[49m\u001b[43m)\u001b[49m\u001b[43m,\u001b[49m\n\u001b[1;32m    178\u001b[0m \u001b[43m    \u001b[49m\u001b[43mcentre\u001b[49m\u001b[38;5;241;43m=\u001b[39;49m\u001b[43mcentre\u001b[49m\u001b[43m,\u001b[49m\n\u001b[1;32m    179\u001b[0m \u001b[43m\u001b[49m\u001b[43m)\u001b[49m\n\u001b[1;32m    180\u001b[0m StarsComponent\u001b[38;5;241m.\u001b[39m\u001b[38;5;21m__init__\u001b[39m(\u001b[38;5;28mself\u001b[39m, ages, metallicities)\n\u001b[1;32m    182\u001b[0m \u001b[38;5;66;03m# Ensure initial masses is an accepted type to avoid\u001b[39;00m\n\u001b[1;32m    183\u001b[0m \u001b[38;5;66;03m# issues when masking\u001b[39;00m\n",
      "File \u001b[0;32m/srv/conda/envs/notebook/lib/python3.9/site-packages/synthesizer/particle/particles.py:90\u001b[0m, in \u001b[0;36mParticles.__init__\u001b[0;34m(self, coordinates, velocities, masses, redshift, softening_length, nparticles, centre)\u001b[0m\n\u001b[1;32m     87\u001b[0m \u001b[38;5;28mself\u001b[39m\u001b[38;5;241m.\u001b[39msoftening_lengths \u001b[38;5;241m=\u001b[39m softening_length\n\u001b[1;32m     89\u001b[0m \u001b[38;5;66;03m# Set the particle masses\u001b[39;00m\n\u001b[0;32m---> 90\u001b[0m \u001b[38;5;28;43mself\u001b[39;49m\u001b[38;5;241;43m.\u001b[39;49m\u001b[43mmasses\u001b[49m \u001b[38;5;241m=\u001b[39m masses\n\u001b[1;32m     92\u001b[0m \u001b[38;5;66;03m# Set the redshift of the particles\u001b[39;00m\n\u001b[1;32m     93\u001b[0m \u001b[38;5;28mself\u001b[39m\u001b[38;5;241m.\u001b[39mredshift \u001b[38;5;241m=\u001b[39m redshift\n",
      "File \u001b[0;32m/srv/conda/envs/notebook/lib/python3.9/site-packages/synthesizer/units.py:466\u001b[0m, in \u001b[0;36mQuantity.__set__\u001b[0;34m(self, obj, value)\u001b[0m\n\u001b[1;32m    461\u001b[0m \u001b[38;5;28;01mif\u001b[39;00m \u001b[38;5;28misinstance\u001b[39m(value, (unyt_quantity, unyt_array)):\n\u001b[1;32m    462\u001b[0m     \u001b[38;5;28;01mif\u001b[39;00m (\n\u001b[1;32m    463\u001b[0m         value\u001b[38;5;241m.\u001b[39munits \u001b[38;5;241m!=\u001b[39m \u001b[38;5;28mgetattr\u001b[39m(\u001b[38;5;28mself\u001b[39m\u001b[38;5;241m.\u001b[39munits, \u001b[38;5;28mself\u001b[39m\u001b[38;5;241m.\u001b[39mpublic_name)\n\u001b[1;32m    464\u001b[0m         \u001b[38;5;129;01mand\u001b[39;00m value\u001b[38;5;241m.\u001b[39munits \u001b[38;5;241m!=\u001b[39m dimensionless\n\u001b[1;32m    465\u001b[0m     ):\n\u001b[0;32m--> 466\u001b[0m         value \u001b[38;5;241m=\u001b[39m \u001b[43mvalue\u001b[49m\u001b[38;5;241;43m.\u001b[39;49m\u001b[43mto\u001b[49m\u001b[43m(\u001b[49m\u001b[38;5;28;43mgetattr\u001b[39;49m\u001b[43m(\u001b[49m\u001b[38;5;28;43mself\u001b[39;49m\u001b[38;5;241;43m.\u001b[39;49m\u001b[43munits\u001b[49m\u001b[43m,\u001b[49m\u001b[43m \u001b[49m\u001b[38;5;28;43mself\u001b[39;49m\u001b[38;5;241;43m.\u001b[39;49m\u001b[43mpublic_name\u001b[49m\u001b[43m)\u001b[49m\u001b[43m)\u001b[49m\u001b[38;5;241m.\u001b[39mvalue\n\u001b[1;32m    467\u001b[0m     \u001b[38;5;28;01melse\u001b[39;00m:\n\u001b[1;32m    468\u001b[0m         value \u001b[38;5;241m=\u001b[39m value\u001b[38;5;241m.\u001b[39mvalue\n",
      "File \u001b[0;32m/srv/conda/envs/notebook/lib/python3.9/site-packages/unyt/array.py:960\u001b[0m, in \u001b[0;36munyt_array.to\u001b[0;34m(self, units, equivalence, **kwargs)\u001b[0m\n\u001b[1;32m    918\u001b[0m \u001b[38;5;28;01mdef\u001b[39;00m \u001b[38;5;21mto\u001b[39m(\u001b[38;5;28mself\u001b[39m, units, equivalence\u001b[38;5;241m=\u001b[39m\u001b[38;5;28;01mNone\u001b[39;00m, \u001b[38;5;241m*\u001b[39m\u001b[38;5;241m*\u001b[39mkwargs):\n\u001b[1;32m    919\u001b[0m \u001b[38;5;250m    \u001b[39m\u001b[38;5;124;03m\"\"\"\u001b[39;00m\n\u001b[1;32m    920\u001b[0m \u001b[38;5;124;03m    Creates a copy of this array with the data converted to the\u001b[39;00m\n\u001b[1;32m    921\u001b[0m \u001b[38;5;124;03m    supplied units, and returns it.\u001b[39;00m\n\u001b[0;32m   (...)\u001b[0m\n\u001b[1;32m    958\u001b[0m \u001b[38;5;124;03m    898755178736817.6 J\u001b[39;00m\n\u001b[1;32m    959\u001b[0m \u001b[38;5;124;03m    \"\"\"\u001b[39;00m\n\u001b[0;32m--> 960\u001b[0m     \u001b[38;5;28;01mreturn\u001b[39;00m \u001b[38;5;28;43mself\u001b[39;49m\u001b[38;5;241;43m.\u001b[39;49m\u001b[43min_units\u001b[49m\u001b[43m(\u001b[49m\u001b[43munits\u001b[49m\u001b[43m,\u001b[49m\u001b[43m \u001b[49m\u001b[43mequivalence\u001b[49m\u001b[38;5;241;43m=\u001b[39;49m\u001b[43mequivalence\u001b[49m\u001b[43m,\u001b[49m\u001b[43m \u001b[49m\u001b[38;5;241;43m*\u001b[39;49m\u001b[38;5;241;43m*\u001b[39;49m\u001b[43mkwargs\u001b[49m\u001b[43m)\u001b[49m\n",
      "File \u001b[0;32m/srv/conda/envs/notebook/lib/python3.9/site-packages/unyt/array.py:876\u001b[0m, in \u001b[0;36munyt_array.in_units\u001b[0;34m(self, units, equivalence, **kwargs)\u001b[0m\n\u001b[1;32m    841\u001b[0m \u001b[38;5;28;01mdef\u001b[39;00m \u001b[38;5;21min_units\u001b[39m(\u001b[38;5;28mself\u001b[39m, units, equivalence\u001b[38;5;241m=\u001b[39m\u001b[38;5;28;01mNone\u001b[39;00m, \u001b[38;5;241m*\u001b[39m\u001b[38;5;241m*\u001b[39mkwargs):\n\u001b[1;32m    842\u001b[0m \u001b[38;5;250m    \u001b[39m\u001b[38;5;124;03m\"\"\"\u001b[39;00m\n\u001b[1;32m    843\u001b[0m \u001b[38;5;124;03m    Creates a copy of this array with the data converted to the\u001b[39;00m\n\u001b[1;32m    844\u001b[0m \u001b[38;5;124;03m    supplied units, and returns it.\u001b[39;00m\n\u001b[0;32m   (...)\u001b[0m\n\u001b[1;32m    874\u001b[0m \u001b[38;5;124;03m    898755178736817.6 J\u001b[39;00m\n\u001b[1;32m    875\u001b[0m \u001b[38;5;124;03m    \"\"\"\u001b[39;00m\n\u001b[0;32m--> 876\u001b[0m     units \u001b[38;5;241m=\u001b[39m \u001b[43m_sanitize_units_convert\u001b[49m\u001b[43m(\u001b[49m\u001b[43munits\u001b[49m\u001b[43m,\u001b[49m\u001b[43m \u001b[49m\u001b[38;5;28;43mself\u001b[39;49m\u001b[38;5;241;43m.\u001b[39;49m\u001b[43munits\u001b[49m\u001b[38;5;241;43m.\u001b[39;49m\u001b[43mregistry\u001b[49m\u001b[43m)\u001b[49m\n\u001b[1;32m    877\u001b[0m     \u001b[38;5;28;01mif\u001b[39;00m equivalence \u001b[38;5;129;01mis\u001b[39;00m \u001b[38;5;28;01mNone\u001b[39;00m:\n\u001b[1;32m    878\u001b[0m         conv_data \u001b[38;5;241m=\u001b[39m _check_em_conversion(\n\u001b[1;32m    879\u001b[0m             \u001b[38;5;28mself\u001b[39m\u001b[38;5;241m.\u001b[39munits, units, registry\u001b[38;5;241m=\u001b[39m\u001b[38;5;28mself\u001b[39m\u001b[38;5;241m.\u001b[39munits\u001b[38;5;241m.\u001b[39mregistry\n\u001b[1;32m    880\u001b[0m         )\n",
      "File \u001b[0;32m/srv/conda/envs/notebook/lib/python3.9/site-packages/unyt/array.py:312\u001b[0m, in \u001b[0;36m_sanitize_units_convert\u001b[0;34m(possible_units, registry)\u001b[0m\n\u001b[1;32m    309\u001b[0m     \u001b[38;5;28;01mreturn\u001b[39;00m possible_units\n\u001b[1;32m    311\u001b[0m \u001b[38;5;66;03m# let Unit() try to parse this if it's not already a Unit\u001b[39;00m\n\u001b[0;32m--> 312\u001b[0m unit \u001b[38;5;241m=\u001b[39m \u001b[43mUnit\u001b[49m\u001b[43m(\u001b[49m\u001b[43mpossible_units\u001b[49m\u001b[43m,\u001b[49m\u001b[43m \u001b[49m\u001b[43mregistry\u001b[49m\u001b[38;5;241;43m=\u001b[39;49m\u001b[43mregistry\u001b[49m\u001b[43m)\u001b[49m\n\u001b[1;32m    314\u001b[0m \u001b[38;5;28;01mreturn\u001b[39;00m unit\n",
      "File \u001b[0;32m/srv/conda/envs/notebook/lib/python3.9/site-packages/unyt/unit_object.py:197\u001b[0m, in \u001b[0;36mUnit.__new__\u001b[0;34m(cls, unit_expr, base_value, base_offset, dimensions, registry, latex_repr)\u001b[0m\n\u001b[1;32m    194\u001b[0m     unit_expr \u001b[38;5;241m=\u001b[39m unit_expr\u001b[38;5;241m.\u001b[39mexpr\n\u001b[1;32m    195\u001b[0m \u001b[38;5;28;01melif\u001b[39;00m \u001b[38;5;28mhasattr\u001b[39m(unit_expr, \u001b[38;5;124m\"\u001b[39m\u001b[38;5;124munits\u001b[39m\u001b[38;5;124m\"\u001b[39m) \u001b[38;5;129;01mand\u001b[39;00m \u001b[38;5;28mhasattr\u001b[39m(unit_expr, \u001b[38;5;124m\"\u001b[39m\u001b[38;5;124mvalue\u001b[39m\u001b[38;5;124m\"\u001b[39m):\n\u001b[1;32m    196\u001b[0m     \u001b[38;5;66;03m# something that looks like a unyt_array, grab the unit and value\u001b[39;00m\n\u001b[0;32m--> 197\u001b[0m     \u001b[38;5;28;01mif\u001b[39;00m \u001b[43munit_expr\u001b[49m\u001b[38;5;241;43m.\u001b[39;49m\u001b[43mshape\u001b[49m \u001b[38;5;241m!=\u001b[39m ():\n\u001b[1;32m    198\u001b[0m         \u001b[38;5;28;01mraise\u001b[39;00m UnitParseError(\n\u001b[1;32m    199\u001b[0m             \u001b[38;5;124m\"\u001b[39m\u001b[38;5;124mCannot create a unit from a non-scalar unyt_array, \u001b[39m\u001b[38;5;124m\"\u001b[39m\n\u001b[1;32m    200\u001b[0m             \u001b[38;5;124mf\u001b[39m\u001b[38;5;124m\"\u001b[39m\u001b[38;5;124mreceived: \u001b[39m\u001b[38;5;132;01m{\u001b[39;00munit_expr\u001b[38;5;132;01m}\u001b[39;00m\u001b[38;5;124m\"\u001b[39m\n\u001b[1;32m    201\u001b[0m         )\n\u001b[1;32m    202\u001b[0m     value \u001b[38;5;241m=\u001b[39m unit_expr\u001b[38;5;241m.\u001b[39mvalue\n",
      "\u001b[0;31mKeyboardInterrupt\u001b[0m: "
     ]
    }
   ],
   "source": [
    "\n",
    "# Get grid for all galaxies\n",
    "dir_ = '/home/jovyan/Data/Sims/IllustrisTNG/CV/' + CV_X\n",
    "gals_074 = load_CAMELS_IllustrisTNG(\n",
    "    dir_,\n",
    "    snap_name='snapshot_074.hdf5', \n",
    "    group_name='groups_074.hdf5',\n",
    ")\n"
   ]
  },
  {
   "cell_type": "code",
   "execution_count": 7,
   "id": "595fd2cc-b2e7-44bf-9ad7-c292c50fee2a",
   "metadata": {},
   "outputs": [],
   "source": [
    "\n",
    "cat_074 = dir_+'/groups_074.hdf5'\n",
    "# Open file\n",
    "f_h5py = h5py.File(cat_074, 'r')\n",
    "\n",
    "# Read different attributes of the header\n",
    "boxSize_074 = f_h5py['Header'].attrs[u'BoxSize']/1e3 # Mpc/h\n",
    "redshift_074 = f_h5py['Header'].attrs[u'Redshift']\n",
    "\n",
    "# Filter galaxies to only include those with 100 or more star particles\n",
    "gals_074 = [gal for gal in gals_074 if len(gal.stars.ages) >= 100]\n",
    "\n",
    "spec_list = []\n"
   ]
  },
  {
   "cell_type": "code",
   "execution_count": 8,
   "id": "fa004dfb-a465-4838-bc87-7ac39c9cf857",
   "metadata": {},
   "outputs": [],
   "source": [
    "# Lets work with z=0.475 so gals_p10\n",
    "for i in gals_074:\n",
    "    gal = i\n",
    "    # To get a spectra we just call the `get_spectra` method on the stars with\n",
    "    # whatever emission model we want to use, here the incident model.\n",
    "    spec = gal.stars.get_spectra(incident)\n",
    "    spec.get_fnu0()\n",
    "    spec_list.append(spec)\n",
    "\n",
    "# Combine spectra\n",
    "seds = combine_list_of_seds(spec_list)\n"
   ]
  },
  {
   "cell_type": "code",
   "execution_count": 9,
   "id": "c8dcb2ee-f8ea-453d-9a51-ac0045aa624d",
   "metadata": {},
   "outputs": [
    {
     "data": {
      "text/plain": [
       "<synthesizer.photometry.PhotometryCollection at 0x7f6f10094d60>"
      ]
     },
     "execution_count": 9,
     "metadata": {},
     "output_type": "execute_result"
    }
   ],
   "source": [
    "\n",
    "# filters:\n",
    "# Need to use the grid lam, dont need to define wavelengths here: see codes here: http://svo2.cab.inta-csic.es/theory/fps/index.php?id=Swift/UVOT.UVM2&&mode=browse&gname=Swift&gname2=UVOT#filter\n",
    "# need to use transmission NOT area\n",
    "# Get for XMM\n",
    "#fil_uvm2_XMM = Filter(\"XMM/OM.UVM2_filter\", new_lam=grid.lam)\n",
    "\n",
    "# now get for UVOT\n",
    "#fil_uvm2_UVOT = Filter(\"Swift/UVOT.UVM2_fil\", new_lam=grid.lam) # changed from new_lam=lams_uvot to grid.lam and get 0 transmission, but warning sign is back\n",
    "\n",
    "# tophat filter\n",
    "filt1 = Filter(\"top_hat/filter.1\", lam_min=1400, lam_max=1600, new_lam=grid.lam)\n",
    "\n",
    "# 0 = TopHat, 1 = XMM, 2= Swift\n",
    "filt_lst = [filt1]#, fil_uvm2_XMM, fil_uvm2_UVOT]\n",
    "\n",
    "# get filters in combined array to apply to all galaxies\n",
    "combined_filters = FilterCollection(\n",
    "    filters=filt_lst, new_lam=grid.lam\n",
    ")\n",
    "\n",
    "seds.lnu  # rest frame lumd\n",
    "seds.get_photo_lnu(combined_filters, verbose=True) \n",
    "#Calculate broadband luminosities using a FilterCollection object   \n"
   ]
  },
  {
   "cell_type": "code",
   "execution_count": 10,
   "id": "e88c91d1-6a3e-4285-9042-26ab20428d39",
   "metadata": {},
   "outputs": [],
   "source": [
    "# conversion is done using:\n",
    "#    M = -2.5 * log10(L_nu / dist_mod / (erg / s / Hz)) - 48.6\n",
    "abs_mag = lnu_to_absolute_mag(seds.lnu)\n",
    "abs_mag_th = abs_mag[0]\n",
    "\n",
    "# Calculate luminosity function\n",
    "Vphys = (boxSize_074 / little_h) ** 3\n",
    "Vcom = Vphys * ((1 + redshift_074) ** 3)\n",
    "\n",
    "massBinLimits = np.arange(-22, -16, 0.5)\n",
    "phi, phi_sigma, hist = calc_lf(abs_mag_th, Vcom, massBinLimits)\n",
    "\n",
    "if phi is None or phi_sigma is None or hist is None:\n",
    "    raise ValueError(\"Error in luminosity function calculation\")\n",
    "\n",
    "massBinLimits = massBinLimits[:-1]\n",
    "\n"
   ]
  },
  {
   "cell_type": "code",
   "execution_count": 13,
   "id": "07838b98-e22d-4bee-8ea5-5b8a7d6676a1",
   "metadata": {},
   "outputs": [],
   "source": [
    "def calc_df(mstar, volume, massBinLimits):\n",
    "\n",
    "    hist, dummy = np.histogram(np.log10(mstar), bins = massBinLimits)\n",
    "    hist = np.float64(hist)\n",
    "    phi = (hist / volume) / (massBinLimits[1] - massBinLimits[0])\n",
    "\n",
    "    phi_sigma = (np.sqrt(hist) / volume) /\\\n",
    "                (massBinLimits[1] - massBinLimits[0]) # Poisson errors\n",
    "\n",
    "    return phi, phi_sigma, hist"
   ]
  },
  {
   "cell_type": "code",
   "execution_count": 17,
   "id": "a54785a9-80e8-48c8-ac49-6147a3ed145e",
   "metadata": {},
   "outputs": [
    {
     "data": {
      "text/plain": [
       "array([ -6.6132277 ,  -6.87912992,  -7.07309104, ..., -16.29808687,\n",
       "       -15.96188641, -15.67023313])"
      ]
     },
     "execution_count": 17,
     "metadata": {},
     "output_type": "execute_result"
    }
   ],
   "source": [
    "abs_mag_th"
   ]
  },
  {
   "cell_type": "code",
   "execution_count": 14,
   "id": "77071e95-91f9-4238-a352-7a44beaa2029",
   "metadata": {},
   "outputs": [
    {
     "name": "stderr",
     "output_type": "stream",
     "text": [
      "/tmp/ipykernel_5620/2517102769.py:3: RuntimeWarning: invalid value encountered in log10\n",
      "  hist, dummy = np.histogram(np.log10(mstar), bins = massBinLimits)\n"
     ]
    }
   ],
   "source": [
    "massBinLimits = np.arange(-22, -16, 0.5)\n",
    "phi, phi_sigma, hist = calc_df(abs_mag_th, Vcom, massBinLimits)\n",
    "\n",
    "if phi is None or phi_sigma is None or hist is None:\n",
    "    raise ValueError(\"Error in luminosity function calculation\")\n",
    "\n",
    "massBinLimits = massBinLimits[:-1]\n"
   ]
  },
  {
   "cell_type": "code",
   "execution_count": 15,
   "id": "3ec8df00-0952-459b-b5cd-259eb46a0f66",
   "metadata": {},
   "outputs": [
    {
     "name": "stdout",
     "output_type": "stream",
     "text": [
      "Written out: /home/jovyan/camels/CV_set/CV_outputs/LFs/CV_9.txt\n"
     ]
    }
   ],
   "source": [
    "# Define output file path\n",
    "output_file = f\"{output_dir}{CV_X}.txt\"\n",
    "\n",
    "# Write the data to the text file\n",
    "with open(output_file, 'w') as txtfile:\n",
    "    # Write phi values\n",
    "    txtfile.write(\"phi\\n\")\n",
    "    for value in phi:\n",
    "        txtfile.write(f\"{value}\\n\")\n",
    "\n",
    "    # Write phi_sigma values\n",
    "    txtfile.write(\"phi_sigma\\n\")\n",
    "    for value in phi_sigma:\n",
    "        txtfile.write(f\"{value}\\n\")\n",
    "\n",
    "    # Write hist values\n",
    "    txtfile.write(\"hist\\n\")\n",
    "    for value in hist:\n",
    "        txtfile.write(f\"{value}\\n\")\n",
    "\n",
    "    # Write massBinLimits values\n",
    "    txtfile.write(\"massBinLimits\\n\")\n",
    "    for value in massBinLimits:\n",
    "        txtfile.write(f\"{value}\\n\")\n",
    "\n",
    "print(f'Written out: {output_file}')\n"
   ]
  },
  {
   "cell_type": "code",
   "execution_count": 16,
   "id": "a6a5d234",
   "metadata": {},
   "outputs": [
    {
     "name": "stderr",
     "output_type": "stream",
     "text": [
      "/tmp/ipykernel_5620/3801573500.py:9: UserWarning: Data has no positive values, and therefore cannot be log-scaled.\n",
      "  plt.yscale('log')\n"
     ]
    },
    {
     "data": {
      "image/png": "[encoded data removed]",
      "text/plain": [
       "<Figure size 640x480 with 1 Axes>"
      ]
     },
     "metadata": {},
     "output_type": "display_data"
    }
   ],
   "source": [
    "# will do latest LH_ set in loop as a test\n",
    "label_z = 'z = 0.46'\n",
    "\n",
    "\n",
    "# Plot the luminosity function\n",
    "plt.errorbar(massBinLimits, phi, yerr=phi_sigma, fmt='o', color='blue',label=label_z)\n",
    "plt.xlabel('Absolute Magnitude (AB)')\n",
    "plt.ylabel('Number Density (Mpc^-3 mag^-1)')\n",
    "plt.yscale('log')\n",
    "\n",
    "plt.title('Luminosity Function XMM-OM filter')\n",
    "plt.grid(True)\n",
    "plt.show()"
   ]
  },
  {
   "cell_type": "code",
   "execution_count": null,
   "id": "33c7327d-82f3-4ae4-a26b-558417b80ac9",
   "metadata": {},
   "outputs": [],
   "source": []
  }
 ],
 "metadata": {
  "kernelspec": {
   "display_name": "Python 3 (ipykernel)",
   "language": "python",
   "name": "python3"
  },
  "language_info": {
   "codemirror_mode": {
    "name": "ipython",
    "version": 3
   },
   "file_extension": ".py",
   "mimetype": "text/x-python",
   "name": "python",
   "nbconvert_exporter": "python",
   "pygments_lexer": "ipython3",
   "version": "3.9.15"
  }
 },
 "nbformat": 4,
 "nbformat_minor": 5
}
