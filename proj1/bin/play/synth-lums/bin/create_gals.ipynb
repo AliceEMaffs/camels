{
 "cells": [
  {
   "cell_type": "code",
   "execution_count": 14,
   "metadata": {},
   "outputs": [],
   "source": [
    "import numpy as np\n",
    "from unyt import Myr\n",
    "\n",
    "from synthesizer.grid import Grid\n",
    "from synthesizer.parametric import SFH, ZDist\n",
    "from synthesizer.particle.stars import sample_sfhz\n",
    "from synthesizer.parametric import Stars as ParametricStars\n",
    "from synthesizer.particle.particles import CoordinateGenerator\n"
   ]
  },
  {
   "cell_type": "markdown",
   "metadata": {},
   "source": [
    "Working with Galaxy objects\n",
    "Synthesizer contains two types of galaxy:\n",
    "\n",
    "A particle Galaxy for working with galaxies comprised of individual stars, gas and/or black holes (synthesizer.particle.galaxy.Galaxy).\n",
    "\n",
    "A parametric Galaxy for working with parametric models described by SFZH and (when necessary) morphologies (synthesizer.parametric.galaxy.Galaxy).\n",
    "\n",
    "As such instantiating and working with Galaxys has the potential to lead to confusion. To simplify things for the user we provide a galaxy “factory function” which will always return the correct galaxy based on the arguments passed by the user while raising errors or warnings for incompatible combinations.\n",
    "\n",
    "Below we set up the stellar populations we will need to demonstrate the use Galaxys and the factory function. A description of the significance of the below operations can be found elsewhere in the documentation.\n",
    "\n"
   ]
  },
  {
   "cell_type": "code",
   "execution_count": 15,
   "metadata": {},
   "outputs": [],
   "source": [
    "# Define the grid\n",
    "grid_name = \"bc03_chabrier03-0.1,100.hdf5\"\n",
    "grid_dir = \"../../synthesizer/data/grids/\"\n",
    "grid = Grid(grid_name, grid_dir=grid_dir,read_lines=False)\n"
   ]
  },
  {
   "cell_type": "code",
   "execution_count": 16,
   "metadata": {},
   "outputs": [
    {
     "data": {
      "text/plain": [
       "<synthesizer.parametric.metal_dist.DeltaConstant at 0x15b140700>"
      ]
     },
     "execution_count": 16,
     "metadata": {},
     "output_type": "execute_result"
    }
   ],
   "source": [
    "\n",
    "# Define the metallicity history\n",
    "zh = ZDist.DeltaConstant(metallicity=0.01)\n",
    "zh \n"
   ]
  },
  {
   "cell_type": "code",
   "execution_count": 17,
   "metadata": {},
   "outputs": [
    {
     "data": {
      "text/plain": [
       "<synthesizer.parametric.sf_hist.Constant at 0x15b140370>"
      ]
     },
     "execution_count": 17,
     "metadata": {},
     "output_type": "execute_result"
    }
   ],
   "source": [
    "\n",
    "# Define the star formation history\n",
    "sfh_p = {\"duration\": 100 * Myr}\n",
    "sfh = SFH.Constant(duration=100 * Myr)\n",
    "sfh"
   ]
  },
  {
   "cell_type": "code",
   "execution_count": 18,
   "metadata": {},
   "outputs": [
    {
     "data": {
      "text/plain": [
       "<synthesizer.parametric.stars.Stars at 0x15b140d60>"
      ]
     },
     "execution_count": 18,
     "metadata": {},
     "output_type": "execute_result"
    }
   ],
   "source": [
    "\n",
    "\n",
    "# Initialise the parametric Stars object\n",
    "param_stars = ParametricStars(\n",
    "    grid.log10age,\n",
    "    grid.metallicity,\n",
    "    sf_hist=sfh,\n",
    "    metal_dist=zh,\n",
    "    initial_mass=10**9,\n",
    ")\n",
    "param_stars"
   ]
  },
  {
   "cell_type": "code",
   "execution_count": 19,
   "metadata": {},
   "outputs": [
    {
     "data": {
      "text/plain": [
       "<synthesizer.particle.stars.Stars at 0x15aec23a0>"
      ]
     },
     "execution_count": 19,
     "metadata": {},
     "output_type": "execute_result"
    }
   ],
   "source": [
    "\n",
    "# Define the number of stellar particles we want\n",
    "n = 10000\n",
    "\n",
    "# Sample the parametric SFZH, producing a particle Stars object\n",
    "# we will also pass some keyword arguments for some example attributes\n",
    "part_stars = sample_sfhz(\n",
    "    sfzh=param_stars.sfzh,\n",
    "    log10ages=param_stars.log10ages,\n",
    "    log10metallicities=param_stars.log10metallicities,\n",
    "    nstar=n,\n",
    "    current_masses=np.full(n, 10**8.7 / n),\n",
    "    redshift=1,\n",
    "    initial_mass=10**6,\n",
    ")\n",
    "part_stars"
   ]
  },
  {
   "cell_type": "code",
   "execution_count": 20,
   "metadata": {},
   "outputs": [
    {
     "name": "stdout",
     "output_type": "stream",
     "text": [
      "<class 'synthesizer.parametric.stars.Stars'>\n",
      "<class 'synthesizer.particle.stars.Stars'>\n"
     ]
    }
   ],
   "source": [
    "# Show what we've got out\n",
    "print(type(param_stars))\n",
    "print(type(part_stars))"
   ]
  },
  {
   "cell_type": "markdown",
   "metadata": {},
   "source": [
    "Creating Galaxy Objects\n",
    "Now that we have the building blocks of both a particle and parametric galaxy we can import the factory function and get our galaxies.\n",
    "\n",
    "To do so we simply pass the factory function the arguments for the desired type of Galaxy. These are Stars, Gas, and BlackHoles objects from the particle and parametric modules respectively. In Synthesizer these different objects are called “components”.\n",
    "\n",
    "Note that both a particle and parametric Galaxy can be intialised with any combination of Stars, Gas, or BlackHoles. Each is a keyword argument which default to None."
   ]
  },
  {
   "cell_type": "code",
   "execution_count": 25,
   "metadata": {},
   "outputs": [],
   "source": [
    "from synthesizer import galaxy\n"
   ]
  },
  {
   "cell_type": "code",
   "execution_count": 26,
   "metadata": {},
   "outputs": [
    {
     "name": "stdout",
     "output_type": "stream",
     "text": [
      "<class 'synthesizer.particle.galaxy.Galaxy'>\n"
     ]
    }
   ],
   "source": [
    "\n",
    "# Get a particle galaxy\n",
    "part_gal = galaxy(stars=part_stars, gas=None, black_holes=None, redshift=1)\n",
    "print(type(part_gal))\n"
   ]
  },
  {
   "cell_type": "code",
   "execution_count": 27,
   "metadata": {},
   "outputs": [
    {
     "name": "stdout",
     "output_type": "stream",
     "text": [
      "<class 'synthesizer.parametric.galaxy.Galaxy'>\n"
     ]
    }
   ],
   "source": [
    "\n",
    "# Get a parametric galaxy\n",
    "param_gal = galaxy(stars=param_stars, redshift=1)\n",
    "print(type(param_gal))\n"
   ]
  },
  {
   "cell_type": "markdown",
   "metadata": {},
   "source": [
    "Of course you are free to avoid this abstraction and explictly instantiate the desired Galaxy.\n"
   ]
  },
  {
   "cell_type": "code",
   "execution_count": 28,
   "metadata": {},
   "outputs": [],
   "source": [
    "from synthesizer.particle import Galaxy\n",
    "\n",
    "# Get a particle galaxy\n",
    "part_gal = Galaxy(stars=part_stars, gas=None, black_holes=None, redshift=1)"
   ]
  },
  {
   "cell_type": "markdown",
   "metadata": {},
   "source": [
    "Once a galaxy has been created there are numerous methods for creating and plotting different types of spectra (e.g. CAMELS example), making images or maps (e.g. imaging docs), or computing properties.\n",
    "\n",
    "see > https://flaresimulations.github.io/synthesizer/imaging/particle_imaging.html\n",
    "\n"
   ]
  },
  {
   "cell_type": "code",
   "execution_count": null,
   "metadata": {},
   "outputs": [],
   "source": []
  }
 ],
 "metadata": {
  "kernelspec": {
   "display_name": "allyenv",
   "language": "python",
   "name": "python3"
  },
  "language_info": {
   "codemirror_mode": {
    "name": "ipython",
    "version": 3
   },
   "file_extension": ".py",
   "mimetype": "text/x-python",
   "name": "python",
   "nbconvert_exporter": "python",
   "pygments_lexer": "ipython3",
   "version": "3.9.15"
  }
 },
 "nbformat": 4,
 "nbformat_minor": 2
}
