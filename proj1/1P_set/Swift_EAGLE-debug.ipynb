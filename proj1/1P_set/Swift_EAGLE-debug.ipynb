{
 "cells": [
  {
   "cell_type": "code",
   "execution_count": 1,
   "id": "ae8252d3-0189-44f4-9303-487e33fd6745",
   "metadata": {},
   "outputs": [
    {
     "name": "stderr",
     "output_type": "stream",
     "text": [
      "/home/jovyan/camels/proj1/1P_set/../camels.py:8: FutureWarning: The filters module has been moved to the instruments module. Please update your imports synthesizer.filters -> synthesizer.instruments\n",
      "  from synthesizer.filters import Filter, FilterCollection\n"
     ]
    }
   ],
   "source": [
    "import h5py\n",
    "import sys\n",
    "import os\n",
    "sys.path.append(\"/home/jovyan/camels/proj1/\")\n",
    "\n",
    "from setup_params import get_photometry, get_luminosity_function, get_colour_distribution, get_available_snapshots#, get_colour_dir_name, get_magnitude_mask # get_safe_name\n",
    "from variables_config import get_config\n"
   ]
  },
  {
   "cell_type": "code",
   "execution_count": 12,
   "id": "98cf9864-0533-428e-b013-7844b6281476",
   "metadata": {},
   "outputs": [
    {
     "data": {
      "text/plain": [
       "[]"
      ]
     },
     "execution_count": 12,
     "metadata": {},
     "output_type": "execute_result"
    }
   ],
   "source": [
    "get_available_snapshots(photo_dir=\"/home/jovyan/Data/Photometry/Swift-EAGLE/L25n256/LH\", model='Swift-EAGLE', sim_name='LH_0')\n",
    "\n"
   ]
  },
  {
   "cell_type": "code",
   "execution_count": null,
   "id": "502a98bd-cb56-4cce-a805-f38b3fb3bbb3",
   "metadata": {},
   "outputs": [],
   "source": [
    "def explore_swift_eagle_files(input_dir):\n",
    "    \"\"\"\n",
    "    Explore the structure of Swift-EAGLE HDF5 files to identify available data.\n",
    "    \n",
    "    Args:\n",
    "        input_dir: Directory containing the HDF5 files\n",
    "    \"\"\"\n",
    "    # Find all Swift-EAGLE photometry files\n",
    "    photo_files = [f for f in os.listdir(input_dir) if f.endswith('_photometry.hdf5') and 'Swift-EAGLE' in f]\n",
    "    \n",
    "    if not photo_files:\n",
    "        print(f\"No Swift-EAGLE photometry files found in {input_dir}\")\n",
    "        return\n",
    "    \n",
    "    print(f\"Found {len(photo_files)} Swift-EAGLE photometry files\")\n",
    "    \n",
    "    for filename in photo_files:\n",
    "        file_path = os.path.join(input_dir, filename)\n",
    "        print(f\"\\nExploring {filename}:\")\n",
    "        \n",
    "        try:\n",
    "            with h5py.File(file_path, 'r') as f:\n",
    "                # Get top-level keys (snapshots)\n",
    "                top_keys = list(f.keys())\n",
    "                print(f\"Available snapshots: {top_keys}\")\n",
    "                \n",
    "                # For each snapshot, explore further\n",
    "                for snap_key in top_keys:\n",
    "                    print(f\"\\n  Snapshot: {snap_key}\")\n",
    "                    \n",
    "                    # Check for BC03 or other SPS models\n",
    "                    snap_keys = list(f[snap_key].keys())\n",
    "                    print(f\"  Available groups: {snap_keys}\")\n",
    "                    \n",
    "                    # If BC03 exists, check its structure\n",
    "                    if \"BC03\" in snap_keys:\n",
    "                        bc03_keys = list(f[f\"{snap_key}/BC03\"].keys())\n",
    "                        print(f\"  BC03 contains: {bc03_keys}\")\n",
    "                        \n",
    "                        # Check photometry structure if it exists\n",
    "                        if \"photometry\" in bc03_keys:\n",
    "                            photo_keys = list(f[f\"{snap_key}/BC03/photometry\"].keys())\n",
    "                            print(f\"  Photometry contains: {photo_keys}\")\n",
    "                            \n",
    "                            # Check for luminosity\n",
    "                            if \"luminosity\" in photo_keys:\n",
    "                                lum_keys = list(f[f\"{snap_key}/BC03/photometry/luminosity\"].keys())\n",
    "                                print(f\"  Luminosity contains: {lum_keys}\")\n",
    "                                \n",
    "                                # Check for attenuated/intrinsic\n",
    "                                for spec_type in [\"attenuated\", \"intrinsic\"]:\n",
    "                                    if spec_type in lum_keys:\n",
    "                                        spec_path = f\"{snap_key}/BC03/photometry/luminosity/{spec_type}\"\n",
    "                                        filters = list(f[spec_path].keys())\n",
    "                                        print(f\"  {spec_type.capitalize()} filters: {filters}\")\n",
    "        \n",
    "        except Exception as e:\n",
    "            print(f\"Error exploring {filename}: {str(e)}\")\n",
    "            import traceback\n",
    "            traceback.print_exc()\n",
    "\n",
    "if __name__ == \"__main__\":\n",
    "    simulations = [\"Swift-EAGLE\"] # \"SIMBA\", \"IllustrisTNG\", \"Astrid\", \n",
    "    datasets = [\"1P\"]#\"CV\"]#,\n",
    "    \n",
    "    for simulation in simulations:\n",
    "        for dataset in datasets:\n",
    "            config = get_config(dataset=dataset, simulation=simulation)\n",
    "            print(f\"\\nProcessing {dataset} {simulation}\")\n",
    "\n",
    "            input_dir = config[\"input_dir\"]\n",
    "            print(\"dir: \", input_dir)\n",
    "            explore_swift_eagle_files(input_dir)\n",
    "\n"
   ]
  },
  {
   "cell_type": "code",
   "execution_count": null,
   "id": "c6fd7ae0-fb19-4008-bb9f-fe5a6b68b426",
   "metadata": {},
   "outputs": [],
   "source": []
  },
  {
   "cell_type": "code",
   "execution_count": null,
   "id": "2e82ef21-6241-4885-aef9-be1d23c6efaa",
   "metadata": {},
   "outputs": [],
   "source": []
  }
 ],
 "metadata": {
  "kernelspec": {
   "display_name": "Python (camels)",
   "language": "python",
   "name": "camels"
  },
  "language_info": {
   "codemirror_mode": {
    "name": "ipython",
    "version": 3
   },
   "file_extension": ".py",
   "mimetype": "text/x-python",
   "name": "python",
   "nbconvert_exporter": "python",
   "pygments_lexer": "ipython3",
   "version": "3.9.15"
  }
 },
 "nbformat": 4,
 "nbformat_minor": 5
}
