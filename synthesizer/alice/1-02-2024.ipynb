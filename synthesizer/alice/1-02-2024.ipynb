{
 "cells": [
  {
   "cell_type": "code",
   "execution_count": 3,
   "id": "9a77d3d0-652e-45cd-8de2-bbcf9aaa455f",
   "metadata": {
    "tags": []
   },
   "outputs": [
    {
     "name": "stdout",
     "output_type": "stream",
     "text": [
      "/home/jovyan/camels/myenvpython310/bin/python\n"
     ]
    }
   ],
   "source": [
    "import sys\n",
    "print(sys.executable)"
   ]
  },
  {
   "cell_type": "code",
   "execution_count": 7,
   "id": "e0f22957",
   "metadata": {},
   "outputs": [
    {
     "ename": "ModuleNotFoundError",
     "evalue": "No module named 'synthesizer.grid'",
     "output_type": "error",
     "traceback": [
      "\u001b[0;31m---------------------------------------------------------------------------\u001b[0m",
      "\u001b[0;31mModuleNotFoundError\u001b[0m                       Traceback (most recent call last)",
      "Cell \u001b[0;32mIn[7], line 1\u001b[0m\n\u001b[0;32m----> 1\u001b[0m \u001b[38;5;28;01mfrom\u001b[39;00m \u001b[38;5;21;01msynthesizer\u001b[39;00m\u001b[38;5;21;01m.\u001b[39;00m\u001b[38;5;21;01mgrid\u001b[39;00m \u001b[38;5;28;01mimport\u001b[39;00m Grid\n",
      "\u001b[0;31mModuleNotFoundError\u001b[0m: No module named 'synthesizer.grid'"
     ]
    }
   ],
   "source": [
    "from synthesizer.grid import Grid"
   ]
  },
  {
   "cell_type": "markdown",
   "id": "272d8cde",
   "metadata": {},
   "source": [
    "!pip install synthesizer\n"
   ]
  },
  {
   "cell_type": "code",
   "execution_count": 2,
   "id": "26db5c1d",
   "metadata": {
    "tags": []
   },
   "outputs": [
    {
     "name": "stdout",
     "output_type": "stream",
     "text": [
      "Name: synthesizer\r\n",
      "Version: 0.2.0\r\n",
      "Summary: A simple virtual analog synthesizer.\r\n",
      "Home-page: https://github.com/yuma-m/synthesizer\r\n",
      "Author: Yuma Mihira\r\n",
      "Author-email: info@yurax2.com\r\n",
      "License: GPLv3\r\n",
      "Location: /srv/conda/envs/notebook/lib/python3.9/site-packages\r\n",
      "Requires: enum34, numpy, scipy\r\n",
      "Required-by: \r\n"
     ]
    }
   ],
   "source": [
    "!pip show synthesizer\n"
   ]
  },
  {
   "cell_type": "code",
   "execution_count": 3,
   "id": "2acf0d22",
   "metadata": {
    "tags": []
   },
   "outputs": [
    {
     "ename": "ModuleNotFoundError",
     "evalue": "No module named 'synthesizer.grid'",
     "output_type": "error",
     "traceback": [
      "\u001b[0;31m---------------------------------------------------------------------------\u001b[0m",
      "\u001b[0;31mModuleNotFoundError\u001b[0m                       Traceback (most recent call last)",
      "Cell \u001b[0;32mIn[3], line 1\u001b[0m\n\u001b[0;32m----> 1\u001b[0m \u001b[38;5;28;01mfrom\u001b[39;00m \u001b[38;5;21;01msynthesizer\u001b[39;00m\u001b[38;5;21;01m.\u001b[39;00m\u001b[38;5;21;01mgrid\u001b[39;00m \u001b[38;5;28;01mimport\u001b[39;00m Grid\n\u001b[1;32m      2\u001b[0m \u001b[38;5;28;01mfrom\u001b[39;00m \u001b[38;5;21;01msynthesizer\u001b[39;00m\u001b[38;5;21;01m.\u001b[39;00m\u001b[38;5;21;01mparticle\u001b[39;00m \u001b[38;5;28;01mimport\u001b[39;00m Stars \u001b[38;5;28;01mas\u001b[39;00m ParticleStars\n\u001b[1;32m      3\u001b[0m \u001b[38;5;28;01mfrom\u001b[39;00m \u001b[38;5;21;01msynthesizer\u001b[39;00m\u001b[38;5;21;01m.\u001b[39;00m\u001b[38;5;21;01mparametric\u001b[39;00m \u001b[38;5;28;01mimport\u001b[39;00m Stars \u001b[38;5;28;01mas\u001b[39;00m ParametricStars\n",
      "\u001b[0;31mModuleNotFoundError\u001b[0m: No module named 'synthesizer.grid'"
     ]
    }
   ],
   "source": [
    "\n",
    "from synthesizer.grid import Grid\n",
    "from synthesizer.particle import Stars as ParticleStars\n",
    "from synthesizer.parametric import Stars as ParametricStars\n"
   ]
  },
  {
   "cell_type": "code",
   "execution_count": null,
   "id": "06ceea86",
   "metadata": {},
   "outputs": [],
   "source": []
  }
 ],
 "metadata": {
  "kernelspec": {
   "display_name": "Python 3.10 (myenvpython310)",
   "language": "python",
   "name": "myenvpython310"
  },
  "language_info": {
   "codemirror_mode": {
    "name": "ipython",
    "version": 3
   },
   "file_extension": ".py",
   "mimetype": "text/x-python",
   "name": "python",
   "nbconvert_exporter": "python",
   "pygments_lexer": "ipython3",
   "version": "3.10.13"
  }
 },
 "nbformat": 4,
 "nbformat_minor": 5
}
