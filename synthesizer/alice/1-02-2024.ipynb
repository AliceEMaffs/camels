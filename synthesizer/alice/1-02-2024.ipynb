{
 "cells": [
  {
   "cell_type": "code",
   "execution_count": 1,
   "id": "9a77d3d0-652e-45cd-8de2-bbcf9aaa455f",
   "metadata": {},
   "outputs": [
    {
     "data": {
      "text/plain": [
       "'3.9.15 | packaged by conda-forge | (main, Nov 22 2022, 15:55:03) \\n[GCC 10.4.0]'"
      ]
     },
     "execution_count": 1,
     "metadata": {},
     "output_type": "execute_result"
    }
   ],
   "source": [
    "import sys\n",
    "sys.version"
   ]
  },
  {
   "cell_type": "code",
   "execution_count": 2,
   "id": "02dcc17a",
   "metadata": {},
   "outputs": [
    {
     "name": "stdout",
     "output_type": "stream",
     "text": [
      "Collecting synthesizer\n",
      "  Downloading synthesizer-0.2.0.tar.gz (5.4 kB)\n",
      "  Preparing metadata (setup.py) ... \u001b[?25ldone\n",
      "\u001b[?25hCollecting enum34>=1.1.6 (from synthesizer)\n",
      "  Downloading enum34-1.1.10-py3-none-any.whl (11 kB)\n",
      "Requirement already satisfied: numpy>=1.13.3 in /srv/conda/envs/notebook/lib/python3.9/site-packages (from synthesizer) (1.26.3)\n",
      "Requirement already satisfied: scipy>=0.19.1 in /srv/conda/envs/notebook/lib/python3.9/site-packages (from synthesizer) (1.12.0)\n",
      "Building wheels for collected packages: synthesizer\n",
      "  Building wheel for synthesizer (setup.py) ... \u001b[?25ldone\n",
      "\u001b[?25h  Created wheel for synthesizer: filename=synthesizer-0.2.0-py2.py3-none-any.whl size=5878 sha256=d3179b58690032aebe9d69d943e0c4b14fc365ffc14ba5f9a853bb837d0f8be1\n",
      "  Stored in directory: /home/jovyan/.cache/pip/wheels/54/4c/0b/e71e73323e91261cc59e3ac58cead00eea9eeb9a42d9862cba\n",
      "Successfully built synthesizer\n",
      "Installing collected packages: enum34, synthesizer\n",
      "Successfully installed enum34-1.1.10 synthesizer-0.2.0\n"
     ]
    }
   ],
   "source": [
    "!pip install synthesizer\n"
   ]
  },
  {
   "cell_type": "code",
   "execution_count": null,
   "id": "e71c5c52",
   "metadata": {},
   "outputs": [],
   "source": []
  },
  {
   "cell_type": "code",
   "execution_count": 3,
   "id": "1fec6673",
   "metadata": {},
   "outputs": [
    {
     "name": "stdout",
     "output_type": "stream",
     "text": [
      "Name: synthesizer\r\n",
      "Version: 0.2.0\r\n",
      "Summary: A simple virtual analog synthesizer.\r\n",
      "Home-page: https://github.com/yuma-m/synthesizer\r\n",
      "Author: Yuma Mihira\r\n",
      "Author-email: info@yurax2.com\r\n",
      "License: GPLv3\r\n",
      "Location: /srv/conda/envs/notebook/lib/python3.9/site-packages\r\n",
      "Requires: enum34, numpy, scipy\r\n",
      "Required-by: \r\n"
     ]
    }
   ],
   "source": [
    "!pip show synthesizer\n"
   ]
  },
  {
   "cell_type": "code",
   "execution_count": 5,
   "id": "d7675ea5",
   "metadata": {},
   "outputs": [],
   "source": []
  },
  {
   "cell_type": "code",
   "execution_count": 10,
   "id": "83910a9f",
   "metadata": {},
   "outputs": [
    {
     "ename": "ModuleNotFoundError",
     "evalue": "No module named 'synthesizer.grid'",
     "output_type": "error",
     "traceback": [
      "\u001b[0;31m---------------------------------------------------------------------------\u001b[0m",
      "\u001b[0;31mModuleNotFoundError\u001b[0m                       Traceback (most recent call last)",
      "Cell \u001b[0;32mIn[10], line 1\u001b[0m\n\u001b[0;32m----> 1\u001b[0m \u001b[38;5;28;01mfrom\u001b[39;00m \u001b[38;5;21;01msynthesizer\u001b[39;00m\u001b[38;5;21;01m.\u001b[39;00m\u001b[38;5;21;01mgrid\u001b[39;00m \u001b[38;5;28;01mimport\u001b[39;00m Grid\n\u001b[1;32m      2\u001b[0m \u001b[38;5;28;01mfrom\u001b[39;00m \u001b[38;5;21;01msynthesizer\u001b[39;00m\u001b[38;5;21;01m.\u001b[39;00m\u001b[38;5;21;01mparticle\u001b[39;00m \u001b[38;5;28;01mimport\u001b[39;00m Stars \u001b[38;5;28;01mas\u001b[39;00m ParticleStars\n\u001b[1;32m      3\u001b[0m \u001b[38;5;28;01mfrom\u001b[39;00m \u001b[38;5;21;01msynthesizer\u001b[39;00m\u001b[38;5;21;01m.\u001b[39;00m\u001b[38;5;21;01mparametric\u001b[39;00m \u001b[38;5;28;01mimport\u001b[39;00m Stars \u001b[38;5;28;01mas\u001b[39;00m ParametricStars\n",
      "\u001b[0;31mModuleNotFoundError\u001b[0m: No module named 'synthesizer.grid'"
     ]
    }
   ],
   "source": [
    "\n",
    "from synthesizer.grid import Grid\n",
    "from synthesizer.particle import Stars as ParticleStars\n",
    "from synthesizer.parametric import Stars as ParametricStars\n"
   ]
  },
  {
   "cell_type": "code",
   "execution_count": null,
   "id": "78b5881a",
   "metadata": {},
   "outputs": [],
   "source": []
  }
 ],
 "metadata": {
  "kernelspec": {
   "display_name": "Python 3 (ipykernel)",
   "language": "python",
   "name": "python3"
  },
  "language_info": {
   "codemirror_mode": {
    "name": "ipython",
    "version": 3
   },
   "file_extension": ".py",
   "mimetype": "text/x-python",
   "name": "python",
   "nbconvert_exporter": "python",
   "pygments_lexer": "ipython3",
   "version": "3.9.15"
  }
 },
 "nbformat": 4,
 "nbformat_minor": 5
}
