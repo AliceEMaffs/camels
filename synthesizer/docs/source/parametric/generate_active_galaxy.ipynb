{
 "cells": [
  {
   "attachments": {},
   "cell_type": "markdown",
   "id": "ba211680-a2c0-4f33-a431-4ff581c251b5",
   "metadata": {},
   "source": [
    "# Generate composite galaxy\n",
    "\n",
    "Finall, in this example we're going to demonstrate how to make a composite galaxy, including with imaging. For more information on defining parametric morphology see the Imaging examples."
   ]
  },
  {
   "cell_type": "code",
   "execution_count": null,
   "id": "2a773383-be4c-49d8-9baf-a04d84dba68b",
   "metadata": {},
   "outputs": [],
   "source": [
    "from unyt import yr, Myr, kpc, mas, Msun, Angstrom, deg, K\n",
    "import matplotlib.pyplot as plt\n",
    "import numpy as np\n",
    "\n",
    "from synthesizer.grid import Grid\n",
    "from synthesizer.dust.attenuation import PowerLaw\n",
    "from synthesizer.dust.emission import Greybody\n",
    "from synthesizer.parametric.morphology import Sersic2D, PointSource\n",
    "from synthesizer.parametric import SFH, ZDist, Stars\n",
    "from synthesizer.parametric.galaxy import Galaxy\n",
    "from synthesizer.blackhole_emission_models import UnifiedAGN\n",
    "from synthesizer.parametric import BlackHole\n",
    "from synthesizer.sed import plot_spectra\n",
    "from synthesizer.filters import UVJ"
   ]
  },
  {
   "attachments": {},
   "cell_type": "markdown",
   "id": "903fea3f",
   "metadata": {},
   "source": [
    "Let's begin by defining the geometry of the images:"
   ]
  },
  {
   "cell_type": "code",
   "execution_count": null,
   "id": "fa6d1c47-e456-43c4-ae77-e3c8811b636d",
   "metadata": {},
   "outputs": [],
   "source": [
    "# Define geometry of the images\n",
    "resolution = 0.01 * kpc  # resolution in kpc\n",
    "npix = 301\n",
    "fov = resolution * npix"
   ]
  },
  {
   "attachments": {},
   "cell_type": "markdown",
   "id": "aa60e956",
   "metadata": {},
   "source": [
    "Define the `grid_dir`:"
   ]
  },
  {
   "cell_type": "code",
   "execution_count": null,
   "id": "7e358ca5",
   "metadata": {},
   "outputs": [],
   "source": [
    "grid_dir = \"../../../tests/test_grid\""
   ]
  },
  {
   "attachments": {},
   "cell_type": "markdown",
   "id": "86aca282",
   "metadata": {},
   "source": [
    "### Diffuse ISM dust\n",
    "\n",
    "Later on we're going to apply \"diffuse\" (ISM) dust attenuation to both the stars and blackholes so let's define these now. Note, these could be different for each component."
   ]
  },
  {
   "cell_type": "code",
   "execution_count": null,
   "id": "a4a3d684",
   "metadata": {},
   "outputs": [],
   "source": [
    "tau_v = 0.5\n",
    "# dust curve slope\n",
    "alpha = -1.0\n",
    "dust_curve = PowerLaw(slope=alpha)\n",
    "dust_emission_model = Greybody(30 * K, 1.2)"
   ]
  },
  {
   "attachments": {},
   "cell_type": "markdown",
   "id": "86fd926d-fe81-4b44-9b18-56b0e05f2fc7",
   "metadata": {},
   "source": [
    "## The Stars\n",
    "\n",
    "Let's first build the stellar component of our galaxy, including setting the morphology so we can make an image later."
   ]
  },
  {
   "attachments": {},
   "cell_type": "markdown",
   "id": "89ccc344",
   "metadata": {},
   "source": [
    "First define the grid. We need this to create our star formation and metal enrichment history."
   ]
  },
  {
   "cell_type": "code",
   "execution_count": null,
   "id": "3ae48d36",
   "metadata": {},
   "outputs": [],
   "source": [
    "grid_name = \"test_grid\"\n",
    "grid = Grid(grid_name, grid_dir=grid_dir)"
   ]
  },
  {
   "attachments": {},
   "cell_type": "markdown",
   "id": "884544c5",
   "metadata": {},
   "source": [
    "Let's define our star formation and metal enrichment history:"
   ]
  },
  {
   "cell_type": "code",
   "execution_count": null,
   "id": "93205536-a548-474c-a898-77b6c5b5d121",
   "metadata": {},
   "outputs": [],
   "source": [
    "stellar_mass = 10**14\n",
    "sfh = SFH.Constant(duration=100 * Myr)\n",
    "metal_dist = ZDist.Normal(mean=0.01, sigma=0.05)"
   ]
  },
  {
   "attachments": {},
   "cell_type": "markdown",
   "id": "868f01f9",
   "metadata": {},
   "source": [
    "Next, let's define the morphology:"
   ]
  },
  {
   "cell_type": "code",
   "execution_count": null,
   "id": "d9ccb893-b4e6-40cc-9559-48aaed45bf6f",
   "metadata": {},
   "outputs": [],
   "source": [
    "morph = Sersic2D(\n",
    "    r_eff=1.0 * kpc, sersic_index=1.0, ellipticity=0.5, theta=35.0\n",
    ")"
   ]
  },
  {
   "attachments": {},
   "cell_type": "markdown",
   "id": "3acd583f",
   "metadata": {},
   "source": [
    "Now let's initialise our stars object:"
   ]
  },
  {
   "cell_type": "code",
   "execution_count": null,
   "id": "5472bae9",
   "metadata": {},
   "outputs": [],
   "source": [
    "# Get the 2D star formation and metal enrichment history for the given SPS grid. This is (age, Z).\n",
    "stars = Stars(\n",
    "    grid.log10age,\n",
    "    grid.metallicity,\n",
    "    sf_hist=sfh,\n",
    "    metal_dist=metal_dist,\n",
    "    initial_mass=stellar_mass,\n",
    "    morphology=morph,\n",
    ")"
   ]
  },
  {
   "attachments": {},
   "cell_type": "markdown",
   "id": "2139bf48",
   "metadata": {},
   "source": [
    "Now generate the stellar spectra:"
   ]
  },
  {
   "cell_type": "code",
   "execution_count": null,
   "id": "cbdb421a",
   "metadata": {},
   "outputs": [],
   "source": [
    "stars.get_spectra_pacman(\n",
    "    grid, tau_v=tau_v, alpha=alpha, dust_emission_model=dust_emission_model\n",
    ")"
   ]
  },
  {
   "attachments": {},
   "cell_type": "markdown",
   "id": "c5dae235",
   "metadata": {},
   "source": [
    "## The blackholes"
   ]
  },
  {
   "attachments": {},
   "cell_type": "markdown",
   "id": "03a8d537",
   "metadata": {},
   "source": [
    "Let's define the properties of our blackholes. We don't need to define the morphology since blackholes automatically assume a `PointSource` geometry."
   ]
  },
  {
   "cell_type": "code",
   "execution_count": null,
   "id": "3908a4b6-7d7b-486c-972f-6ba9524be96e",
   "metadata": {},
   "outputs": [],
   "source": [
    "black_hole = BlackHole(\n",
    "    mass=10**6.5 * Msun,\n",
    "    inclination=60 * deg,\n",
    "    accretion_rate=0.5 * Msun / yr,\n",
    "    metallicity=0.01,\n",
    ")"
   ]
  },
  {
   "attachments": {},
   "cell_type": "markdown",
   "id": "5fe09c51",
   "metadata": {},
   "source": [
    "Next, let's define the emission model and generate the spectra."
   ]
  },
  {
   "cell_type": "code",
   "execution_count": null,
   "id": "0bea91e3",
   "metadata": {},
   "outputs": [],
   "source": [
    "emission_model = UnifiedAGN(\n",
    "    disc_model=\"test_grid_agn\", photoionisation_model=\"\", grid_dir=grid_dir\n",
    ")\n",
    "\n",
    "# Get the spectra assuming this emission model\n",
    "spectra = black_hole.get_spectra_attenuated(\n",
    "    emission_model,\n",
    "    tau_v=tau_v,\n",
    "    dust_curve=dust_curve,\n",
    "    dust_emission_model=dust_emission_model,\n",
    ")"
   ]
  },
  {
   "attachments": {},
   "cell_type": "markdown",
   "id": "bc6a6b46",
   "metadata": {},
   "source": [
    "## The Galaxy"
   ]
  },
  {
   "attachments": {},
   "cell_type": "markdown",
   "id": "5e835351-ed22-41d7-9c97-ea2824ec10eb",
   "metadata": {},
   "source": [
    "Now that we have our components we can pass them to create an instance of a `Galaxy`."
   ]
  },
  {
   "cell_type": "code",
   "execution_count": null,
   "id": "4df2837c-42be-40f2-b14e-17ec4e440a91",
   "metadata": {},
   "outputs": [],
   "source": [
    "# Initialise Galaxy object\n",
    "galaxy = Galaxy(stars=stars, black_holes=black_hole)\n",
    "print(galaxy)"
   ]
  },
  {
   "cell_type": "markdown",
   "metadata": {},
   "source": [
    "Now we have a galaxy with spectra isolated to the components. To get the combined \"total\", \"emergent\", and \"intrinsic\" spectra from all components we can call the `galaxy.get_spectra_combined`."
   ]
  },
  {
   "cell_type": "code",
   "execution_count": null,
   "metadata": {},
   "outputs": [],
   "source": [
    "galaxy.get_spectra_combined()"
   ]
  },
  {
   "attachments": {},
   "cell_type": "markdown",
   "id": "14650033",
   "metadata": {},
   "source": [
    "### Spectra"
   ]
  },
  {
   "attachments": {},
   "cell_type": "markdown",
   "id": "4373f52a",
   "metadata": {},
   "source": [
    "We can use the `plot_spectra` function to make a quick spectrum of the galaxy. "
   ]
  },
  {
   "cell_type": "code",
   "execution_count": null,
   "id": "064cb20a",
   "metadata": {},
   "outputs": [],
   "source": [
    "fig, ax = galaxy.plot_spectra(\n",
    "    combined_spectra=True,\n",
    "    stellar_spectra=True,\n",
    "    black_hole_spectra=True,\n",
    "    quantity_to_plot=\"luminosity\",\n",
    "    figsize=(10, 6),\n",
    ")"
   ]
  },
  {
   "attachments": {},
   "cell_type": "markdown",
   "id": "b7c90101",
   "metadata": {},
   "source": [
    "### Images"
   ]
  },
  {
   "attachments": {},
   "cell_type": "markdown",
   "id": "e898e354",
   "metadata": {},
   "source": [
    "To make iamges we need filters to define the photometry. For details see the [filter](../filters.ipynb) and [imaging](../imaging/imaging.rst) docs."
   ]
  },
  {
   "cell_type": "code",
   "execution_count": null,
   "id": "dd0a9b76",
   "metadata": {},
   "outputs": [],
   "source": [
    "filters = UVJ(new_lam=grid.lam)"
   ]
  },
  {
   "attachments": {},
   "cell_type": "markdown",
   "id": "b0667dcf",
   "metadata": {},
   "source": [
    "With the spectra and filters made we can make images of each component and combine them."
   ]
  },
  {
   "cell_type": "code",
   "execution_count": null,
   "id": "3d55eef8",
   "metadata": {},
   "outputs": [],
   "source": [
    "# Make images\n",
    "img = galaxy.make_images(\n",
    "    resolution=resolution,\n",
    "    filters=filters,\n",
    "    stellar_spectra_type=\"incident\",\n",
    "    blackhole_spectra_type=\"total\",\n",
    "    fov=fov,\n",
    ")\n",
    "\n",
    "# Make and plot an rgb image\n",
    "img.make_rgb_image(rgb_filters={\"R\": \"J\", \"G\": \"V\", \"B\": \"U\"})\n",
    "fig, ax, _ = img.plot_rgb_image(show=True)"
   ]
  }
 ],
 "metadata": {
  "kernelspec": {
   "display_name": "venv",
   "language": "python",
   "name": "python3"
  },
  "language_info": {
   "codemirror_mode": {
    "name": "ipython",
    "version": 3
   },
   "file_extension": ".py",
   "mimetype": "text/x-python",
   "name": "python",
   "nbconvert_exporter": "python",
   "pygments_lexer": "ipython3",
   "version": "3.10.13"
  },
  "vscode": {
   "interpreter": {
    "hash": "3fbdfee1eda89f517d14c65aaeb395605ea48cc827c54c8ae1828e532ec42817"
   }
  }
 },
 "nbformat": 4,
 "nbformat_minor": 5
}
