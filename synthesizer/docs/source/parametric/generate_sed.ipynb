{
 "cells": [
  {
   "attachments": {},
   "cell_type": "markdown",
   "metadata": {},
   "source": [
    "# Generating Rest Frame SEDs from a Parametric Galaxy\n",
    "\n",
    "Building on the `make_sfzh` documents we can now see how to generate a galaxy and produce its rest-frame spectral energy distribution.\n"
   ]
  },
  {
   "cell_type": "code",
   "execution_count": null,
   "metadata": {},
   "outputs": [],
   "source": [
    "import matplotlib.pyplot as plt\n",
    "from synthesizer.filters import FilterCollection\n",
    "from synthesizer.grid import Grid\n",
    "from synthesizer.parametric import SFH, Stars, ZDist\n",
    "from synthesizer.parametric.galaxy import Galaxy\n",
    "from synthesizer.sed import plot_spectra_as_rainbow\n",
    "from unyt import Angstrom, Msun, Myr"
   ]
  },
  {
   "attachments": {},
   "cell_type": "markdown",
   "metadata": {},
   "source": [
    "We begin by initialising a `Grid`:"
   ]
  },
  {
   "cell_type": "code",
   "execution_count": null,
   "metadata": {},
   "outputs": [],
   "source": [
    "grid_name = \"test_grid\"\n",
    "grid_dir = \"../../../tests/test_grid/\"\n",
    "grid = Grid(grid_name, grid_dir=grid_dir)"
   ]
  },
  {
   "attachments": {},
   "cell_type": "markdown",
   "metadata": {},
   "source": [
    "Next we can define the star formation and metal enrichment history:"
   ]
  },
  {
   "cell_type": "code",
   "execution_count": null,
   "metadata": {},
   "outputs": [],
   "source": [
    "# Define the functional form of the star formation and\n",
    "# metal enrichment histories\n",
    "\n",
    "# Constant star formation\n",
    "sfh = SFH.Constant(duration=100 * Myr)\n",
    "\n",
    "# Constant metallicity\n",
    "metal_dist = ZDist.DeltaConstant(log10metallicity=-2.0)\n",
    "\n",
    "print(sfh)  # print sfh summary\n",
    "\n",
    "# Get the 2D star formation and metal enrichment history for\n",
    "# the given SPS grid. This is (age, Z).\n",
    "stars = Stars(\n",
    "    grid.log10age,\n",
    "    grid.metallicity,\n",
    "    sf_hist=sfh,\n",
    "    metal_dist=metal_dist,\n",
    "    initial_mass=10**8,\n",
    ")\n",
    "print(stars)"
   ]
  },
  {
   "attachments": {},
   "cell_type": "markdown",
   "metadata": {},
   "source": [
    "Create a `Galaxy` object using this SZFH:"
   ]
  },
  {
   "cell_type": "code",
   "execution_count": null,
   "metadata": {},
   "outputs": [],
   "source": [
    "galaxy = Galaxy(stars)"
   ]
  },
  {
   "attachments": {},
   "cell_type": "markdown",
   "metadata": {},
   "source": [
    "When combined with a `Grid` we can now generate the spectral energy distribution of a galaxy. There are a range of options available to us here, most depending on whether we include nebular emission and/or dust."
   ]
  },
  {
   "attachments": {},
   "cell_type": "markdown",
   "metadata": {},
   "source": [
    "Let's star with just the pure stellar spectra. As you can see there is also a method on `Galaxy` objects that allows us to quickly plot spectra."
   ]
  },
  {
   "cell_type": "code",
   "execution_count": null,
   "metadata": {},
   "outputs": [],
   "source": [
    "galaxy.stars.get_spectra_incident(grid)\n",
    "galaxy.stars.plot_spectra()"
   ]
  },
  {
   "attachments": {},
   "cell_type": "markdown",
   "metadata": {},
   "source": [
    "However, in most cases we might like to access spectra directly. Spectra are stored within each `Galaxy` in the `spectra` dictionary."
   ]
  },
  {
   "cell_type": "code",
   "execution_count": null,
   "metadata": {},
   "outputs": [],
   "source": [
    "sed = galaxy.stars.spectra[\"incident\"]"
   ]
  },
  {
   "attachments": {},
   "cell_type": "markdown",
   "metadata": {},
   "source": [
    "Spectra are stored in `Sed` objects. There is a separate tutorial on these but the contain the spectra, wavelength grid, and have access to a range of other methods, e.g. for caclulating broadband photometry."
   ]
  },
  {
   "cell_type": "code",
   "execution_count": null,
   "metadata": {},
   "outputs": [],
   "source": [
    "print(sed)"
   ]
  },
  {
   "cell_type": "code",
   "execution_count": null,
   "metadata": {},
   "outputs": [],
   "source": [
    "plt.loglog(sed.lam, sed.lnu)\n",
    "plt.show()"
   ]
  },
  {
   "cell_type": "code",
   "execution_count": null,
   "metadata": {},
   "outputs": [],
   "source": [
    "fig, ax = plot_spectra_as_rainbow(sed)\n",
    "plt.show()"
   ]
  },
  {
   "attachments": {},
   "cell_type": "markdown",
   "metadata": {},
   "source": [
    "Next, we can generate spectra including nebular emission. In the parlance of `synthesizer` these are reprocessed spectra. This introduces a new free parameter, the Lyman-continuum escape fraction, `fesc`."
   ]
  },
  {
   "cell_type": "code",
   "execution_count": null,
   "metadata": {},
   "outputs": [],
   "source": [
    "galaxy.stars.get_spectra_reprocessed(grid, fesc=0.5)\n",
    "galaxy.stars.plot_spectra()"
   ]
  },
  {
   "attachments": {},
   "cell_type": "markdown",
   "metadata": {},
   "source": [
    "`get_spectra_reprocessed()` actually generates more than just the reprocessed spectra, if also generates the `incident`, `transmitted`, `nebular`, and `intrinsic` `spectra`. If `fesc>0` it also generates `escaped`. The definitions of all of these are described in the spectra docs."
   ]
  },
  {
   "attachments": {},
   "cell_type": "markdown",
   "metadata": {},
   "source": [
    "At anytime we can get a list of the spectra associated with a galaxy using:"
   ]
  },
  {
   "cell_type": "code",
   "execution_count": null,
   "metadata": {},
   "outputs": [],
   "source": [
    "print(galaxy.stars.spectra.keys())"
   ]
  },
  {
   "cell_type": "code",
   "execution_count": null,
   "metadata": {},
   "outputs": [],
   "source": [
    "fig, ax = plot_spectra_as_rainbow(galaxy.stars.spectra[\"intrinsic\"])\n",
    "plt.show()\n",
    "\n",
    "fig, ax = plot_spectra_as_rainbow(\n",
    "    galaxy.stars.spectra[\"intrinsic\"], logged=True\n",
    ")\n",
    "plt.show()"
   ]
  },
  {
   "attachments": {},
   "cell_type": "markdown",
   "metadata": {},
   "source": [
    "`get_spectra_reprocessed()` also includes a parameter allowing us to suppress Lyman-alpha emission, the Lyman-alpha escape fraction `fesc_LyA`."
   ]
  },
  {
   "cell_type": "code",
   "execution_count": null,
   "metadata": {},
   "outputs": [],
   "source": [
    "galaxy.spectra = {}  # reset spectra\n",
    "galaxy.stars.get_spectra_reprocessed(grid, fesc=0.5, fesc_LyA=0.0)\n",
    "galaxy.stars.plot_spectra()"
   ]
  },
  {
   "attachments": {},
   "cell_type": "markdown",
   "metadata": {},
   "source": [
    "Dust attenuation in `synthesizer` is implemented via the flexible **Pacman** model. This model has a few features:\n",
    "\n",
    "- In this model the parameter `fesc` denotes the fraction of light that entirely escapes a galaxy with no reprocessing by gas or dust.\n",
    "- Like the `get_spectra_reprocessed()` you can also set the Lyman-alpha escape fraction `fesc_LyA` here. \n",
    "- It is possible to calculate spectra for both a young and old component each with different dust attenuation. \n",
    "- Various different dust attenuation (and emission) are provided. By default we use a simple power-law. \n",
    "- For dust attenuation the required free parameter here is `tau_v` the attenuation at 5500A. If an array is provided."
   ]
  },
  {
   "attachments": {},
   "cell_type": "markdown",
   "metadata": {},
   "source": [
    "First, let's add dust attenuation using a simple screen model with a V-band optical depth `tau_v=0.5` and a power-law attenuation curve with `alpha=-1`."
   ]
  },
  {
   "cell_type": "code",
   "execution_count": null,
   "metadata": {},
   "outputs": [],
   "source": [
    "galaxy.spectra = {}  # reset spectra\n",
    "galaxy.stars.get_spectra_pacman(grid, tau_v=0.5, alpha=-1)\n",
    "galaxy.stars.plot_spectra(\n",
    "    spectra_to_plot=[\"intrinsic\", \"attenuated\", \"emergent\"]\n",
    ")"
   ]
  },
  {
   "attachments": {},
   "cell_type": "markdown",
   "metadata": {},
   "source": [
    "Next, let's allow `fesc` to vary. In the pacman model the fraction of light escaping reprocessing by gas also escape dust attenuation. "
   ]
  },
  {
   "cell_type": "code",
   "execution_count": null,
   "metadata": {},
   "outputs": [],
   "source": [
    "galaxy.spectra = {}  # reset spectra\n",
    "galaxy.stars.get_spectra_pacman(grid, tau_v=0.5, alpha=-1, fesc=0.5)\n",
    "galaxy.stars.plot_spectra(\n",
    "    spectra_to_plot=[\"intrinsic\", \"attenuated\", \"emergent\"]\n",
    ")"
   ]
  },
  {
   "attachments": {},
   "cell_type": "markdown",
   "metadata": {},
   "source": [
    "Note, that despite the same `tau_v` the actual attenuation is much less. Fortunately if we want to know the true attenuation there is a method `A()` on Galaxy for that which take the wavelength."
   ]
  },
  {
   "cell_type": "code",
   "execution_count": null,
   "metadata": {},
   "outputs": [],
   "source": [
    "# FIX COMING SOON\n",
    "# galaxy.A(5500*Angstrom)"
   ]
  },
  {
   "attachments": {},
   "cell_type": "markdown",
   "metadata": {},
   "source": [
    "`get_spectra_pacman()` can also implement dust attenuation separately for both young and old components (where the threshold is set by `young_old_thresh` which is log10(threshold/yr)). In this case it is also necessary to provide `tau_v` and `alpha` as pairs of values describing the ISM and birth-cloud components. Note, young stellar populations feel attenuation from both the ISM and birth-cloud components."
   ]
  },
  {
   "cell_type": "code",
   "execution_count": null,
   "metadata": {},
   "outputs": [],
   "source": [
    "galaxy.spectra = {}  # reset spectra\n",
    "tau_v_ISM = 0.5  # ISM component of dust attenuation\n",
    "tau_v_BC = 0.5  # birth-cloud componest of dust attenuation\n",
    "tau_v = [tau_v_ISM, tau_v_BC]\n",
    "alpha = [-0.7, -1.3]\n",
    "galaxy.stars.get_spectra_pacman(\n",
    "    grid, tau_v=tau_v, alpha=alpha, young_old_thresh=10 * Myr\n",
    ")\n",
    "galaxy.stars.plot_spectra(\n",
    "    spectra_to_plot=[\"emergent\", \"young_emergent\", \"old_emergent\"]\n",
    ")"
   ]
  },
  {
   "attachments": {},
   "cell_type": "markdown",
   "metadata": {},
   "source": [
    "For users more familiar with the Charlot and Fall (2000) two component dust model `synthesizer` also includes a `get_spectra_CharlotFall()` method, which is really a wrapper around the more generic `get_spectra_pacman()` method. The difference is that `fesc` is implicitly assumed to `0.0` and there is a more familiar way of setting the parameters."
   ]
  },
  {
   "cell_type": "code",
   "execution_count": null,
   "metadata": {},
   "outputs": [],
   "source": [
    "galaxy.stars.get_spectra_CharlotFall(\n",
    "    grid, tau_v_ISM=0.5, tau_v_BC=0.5, alpha_ISM=-0.7, alpha_BC=-1.3\n",
    ")\n",
    "galaxy.stars.plot_spectra(\n",
    "    spectra_to_plot=[\"emergent\", \"young_emergent\", \"old_emergent\"],\n",
    "    quantity_to_plot=\"luminosity\",\n",
    ")"
   ]
  },
  {
   "attachments": {},
   "cell_type": "markdown",
   "metadata": {},
   "source": [
    "Here we also demonstrate that the luminosity can be plotted instead of the spectral luminosity density by passing `quantity_to_plot=\"luminosity\"` to the `plot_spectra` method. In fact, any quantity stored on an `Sed` can be passed to this argument to plot the respective quantity. These options include \"lnu\", \"luminosity\" or \"llam\" for rest frame spectra or \"fnu\", \"flam\" or \"flux\" for observed spectra.\n",
    "\n",
    "### Dust emission\n",
    "\n",
    "`synthesizer` can also be used to model emission through a simple energy balance approach. To do this we can supply a method that calculates an attenuated spectrum a `synthesizer.dust.emission.DustEmission` object. `synthesizer` has several built-in and these are described in **insert referenc**."
   ]
  },
  {
   "cell_type": "code",
   "execution_count": null,
   "metadata": {},
   "outputs": [],
   "source": [
    "from synthesizer.dust.emission import Greybody, IR_templates\n",
    "from unyt import K"
   ]
  },
  {
   "attachments": {},
   "cell_type": "markdown",
   "metadata": {},
   "source": [
    "If we provide a single attenuation (and curve) we need to only provide a single dust_emission model:"
   ]
  },
  {
   "cell_type": "code",
   "execution_count": null,
   "metadata": {},
   "outputs": [],
   "source": [
    "# initialise a greybody dust emission model\n",
    "dust_emission_model = Greybody(30 * K, 1.2)\n",
    "\n",
    "galaxy.spectra = {}  # reset spectra\n",
    "galaxy.stars.get_spectra_pacman(\n",
    "    grid, tau_v=0.5, alpha=-1, dust_emission_model=dust_emission_model\n",
    ")\n",
    "galaxy.stars.plot_spectra(spectra_to_plot=[\"emergent\", \"dust\", \"total\"])\n",
    "\n",
    "print(\n",
    "    \"Dust luminosity =\",\n",
    "    galaxy.stars.spectra[\"total\"].measure_window_luminosity(\n",
    "        window=[1e4 * Angstrom, 1e7 * Angstrom]\n",
    "    ),\n",
    ")"
   ]
  },
  {
   "attachments": {},
   "cell_type": "markdown",
   "metadata": {},
   "source": [
    "We can also specificy different dust emission models for the birth cloud and ISM (diffuse) dust separately:"
   ]
  },
  {
   "cell_type": "code",
   "execution_count": null,
   "metadata": {},
   "outputs": [],
   "source": [
    "galaxy.spectra = {}  # reset spectra\n",
    "tau_v_ISM = 0.5  # ISM component of dust attenuation\n",
    "tau_v_BC = 0.5  # birth-cloud componest of dust attenuation\n",
    "tau_v = [tau_v_ISM, tau_v_BC]\n",
    "alpha = [-0.7, -1.3]\n",
    "dust_emission_ISM = Greybody(20 * K, 1.2)\n",
    "dust_emission_BC = Greybody(50 * K, 1.2)\n",
    "dust_emission_model = [dust_emission_ISM, dust_emission_BC]\n",
    "\n",
    "galaxy.stars.get_spectra_pacman(\n",
    "    grid,\n",
    "    tau_v=tau_v,\n",
    "    alpha=alpha,\n",
    "    young_old_thresh=10 * Myr,\n",
    "    dust_emission_model=dust_emission_model,\n",
    ")\n",
    "\n",
    "\n",
    "galaxy.stars.plot_spectra(\n",
    "    spectra_to_plot=[\n",
    "        \"old_dust\",\n",
    "        \"young_dust_BC\",\n",
    "        \"young_dust_ISM\",\n",
    "        \"young_dust\",\n",
    "        \"dust\",\n",
    "    ]\n",
    ")\n",
    "galaxy.stars.plot_spectra(\n",
    "    spectra_to_plot=[\"old_total\", \"young_total\", \"total\"]\n",
    ")\n",
    "plt.xlim(1e4, 5e7)\n",
    "\n",
    "print(\n",
    "    \"Dust luminosity =\",\n",
    "    galaxy.stars.spectra[\"total\"].measure_window_luminosity(\n",
    "        window=[1e4 * Angstrom, 1e7 * Angstrom]\n",
    "    ),\n",
    ")"
   ]
  },
  {
   "cell_type": "markdown",
   "metadata": {},
   "source": [
    "#### We can instead specify IR template spectra as well"
   ]
  },
  {
   "cell_type": "code",
   "execution_count": null,
   "metadata": {},
   "outputs": [],
   "source": [
    "galaxy.spectra = {}  # reset spectra\n",
    "grid_name_ir = \"MW3.1\"\n",
    "grid_dir_ir = \"../../../tests/test_grid/\"\n",
    "grid_ir = Grid(\n",
    "    grid_name_ir, grid_dir=grid_dir_ir, read_spectra=True, read_lines=False\n",
    ")"
   ]
  },
  {
   "cell_type": "code",
   "execution_count": null,
   "metadata": {},
   "outputs": [],
   "source": [
    "tau_v_ISM = 0.5  # ISM component of dust attenuation\n",
    "tau_v_BC = 0.5  # birth-cloud componest of dust attenuation\n",
    "tau_v = [tau_v_ISM, tau_v_BC]\n",
    "alpha = [-0.7, -1.3]\n",
    "mdust = 5e9 * Msun\n",
    "dust_emission_model = IR_templates(grid_ir, mdust=mdust, gamma=0.05)\n",
    "\n",
    "galaxy.stars.get_spectra_pacman(\n",
    "    grid,\n",
    "    tau_v=tau_v,\n",
    "    alpha=alpha,\n",
    "    young_old_thresh=1e7 * Myr,\n",
    "    dust_emission_model=dust_emission_model,\n",
    ")\n",
    "\n",
    "\n",
    "galaxy.stars.plot_spectra(spectra_to_plot=[\"old_dust\", \"young_dust\", \"dust\"])\n",
    "galaxy.stars.plot_spectra(\n",
    "    spectra_to_plot=[\"old_total\", \"young_total\", \"total\"]\n",
    ")\n",
    "plt.xlim(1e4, 5e7)\n",
    "\n",
    "print(\n",
    "    \"Dust luminosity =\",\n",
    "    galaxy.stars.spectra[\"total\"].measure_window_luminosity(\n",
    "        window=[1e4 * Angstrom, 1e7 * Angstrom]\n",
    "    ),\n",
    ")"
   ]
  },
  {
   "attachments": {},
   "cell_type": "markdown",
   "metadata": {},
   "source": [
    "### Galaxy summary"
   ]
  },
  {
   "attachments": {},
   "cell_type": "markdown",
   "metadata": {},
   "source": [
    "Like other objects in `synthesizer` we can also get a useful summary of the `Galaxy` object just using the `print` function:"
   ]
  },
  {
   "cell_type": "code",
   "execution_count": null,
   "metadata": {},
   "outputs": [],
   "source": [
    "print(galaxy)"
   ]
  },
  {
   "attachments": {},
   "cell_type": "markdown",
   "metadata": {},
   "source": [
    "We can also extract an spectra and generate broadband photometry. See the `Sed` and `Filter` tutorials:"
   ]
  },
  {
   "cell_type": "code",
   "execution_count": null,
   "metadata": {},
   "outputs": [],
   "source": [
    "sed = galaxy.stars.spectra[\"emergent\"]\n",
    "\n",
    "tophats = {\n",
    "    \"U\": {\"lam_eff\": 3650, \"lam_fwhm\": 660},\n",
    "    \"V\": {\"lam_eff\": 5510, \"lam_fwhm\": 880},\n",
    "    \"J\": {\"lam_eff\": 12200, \"lam_fwhm\": 2130},\n",
    "}\n",
    "fc = FilterCollection(tophat_dict=tophats, new_lam=grid.lam)\n",
    "bb_lnu = sed.get_photo_luminosities(fc)\n",
    "\n",
    "print(bb_lnu)\n",
    "\n",
    "# Plot the photometry\n",
    "fig, ax = bb_lnu.plot_photometry(show=True)"
   ]
  }
 ],
 "metadata": {
  "kernelspec": {
   "display_name": "venv",
   "language": "python",
   "name": "python3"
  },
  "language_info": {
   "codemirror_mode": {
    "name": "ipython",
    "version": 3
   },
   "file_extension": ".py",
   "mimetype": "text/x-python",
   "name": "python",
   "nbconvert_exporter": "python",
   "pygments_lexer": "ipython3"
  },
  "vscode": {
   "interpreter": {
    "hash": "3fbdfee1eda89f517d14c65aaeb395605ea48cc827c54c8ae1828e532ec42817"
   }
  }
 },
 "nbformat": 4,
 "nbformat_minor": 4
}
