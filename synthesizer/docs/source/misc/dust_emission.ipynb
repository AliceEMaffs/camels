{
 "cells": [
  {
   "attachments": {},
   "cell_type": "markdown",
   "metadata": {},
   "source": [
    "# Dust emission\n",
    "\n",
    "`Synthesizer` has the capability of creating a dust emission spectrum using a simple energy balance approach. "
   ]
  },
  {
   "attachments": {},
   "cell_type": "markdown",
   "metadata": {},
   "source": [
    "## Emission models\n",
    "\n",
    "`Synthesizer` contains a handful of dust emission models (and will be extended with more)."
   ]
  },
  {
   "cell_type": "code",
   "execution_count": null,
   "metadata": {},
   "outputs": [],
   "source": [
    "import matplotlib.pyplot as plt\n",
    "import numpy as np\n",
    "from synthesizer.dust.emission import (\n",
    "    Blackbody,\n",
    "    Casey12,\n",
    "    Greybody,\n",
    "    IR_templates,\n",
    ")\n",
    "from unyt import Angstrom, K, Lsun, Msun"
   ]
  },
  {
   "attachments": {},
   "cell_type": "markdown",
   "metadata": {},
   "source": [
    "Define a wavelength grid:"
   ]
  },
  {
   "cell_type": "code",
   "execution_count": null,
   "metadata": {},
   "outputs": [],
   "source": [
    "lam = 10 ** (np.arange(3.0, 8.0, 0.01)) * Angstrom"
   ]
  },
  {
   "attachments": {},
   "cell_type": "markdown",
   "metadata": {},
   "source": [
    "### Blackbody\n",
    "\n",
    "First let's explore simple blackbody models. By default a dust emission model provides a normalised spectrum."
   ]
  },
  {
   "cell_type": "code",
   "execution_count": null,
   "metadata": {},
   "outputs": [],
   "source": [
    "for T in [10, 25, 50, 100, 1000]:\n",
    "    model = Blackbody(T * K)\n",
    "    sed = model.get_spectra(lam)\n",
    "    plt.plot(np.log10(sed.lam), sed.luminosity, label=f\"{T} K\")\n",
    "\n",
    "plt.legend()\n",
    "plt.show()"
   ]
  },
  {
   "cell_type": "code",
   "execution_count": null,
   "metadata": {},
   "outputs": [],
   "source": [
    "for T in [10, 25, 50, 100]:\n",
    "    model = Greybody(T * K, 1.6)\n",
    "    sed = model.get_spectra(lam)\n",
    "    plt.plot(np.log10(sed.lam), sed.luminosity, label=f\"{T} K\")\n",
    "\n",
    "plt.legend()\n",
    "plt.show()"
   ]
  },
  {
   "cell_type": "code",
   "execution_count": null,
   "metadata": {},
   "outputs": [],
   "source": [
    "for T in [10, 25, 50, 100]:\n",
    "    model = Casey12(T * K, 1.6, 2.0)\n",
    "    sed = model.get_spectra(lam)\n",
    "    plt.plot(np.log10(sed.lam), sed.luminosity, label=f\"{T} K\")\n",
    "\n",
    "plt.legend()\n",
    "plt.show()"
   ]
  },
  {
   "cell_type": "markdown",
   "metadata": {},
   "source": [
    "### IR Templates - Draine & Li 2007 dust models"
   ]
  },
  {
   "cell_type": "markdown",
   "metadata": {},
   "source": [
    "Begin by reading in the DL07 grids, which have been created by downlaoding the ASCII DL07 files and running \n",
    "\"from synthesizer.utils import process_dl07_to_hdf5\"\n",
    "\"process_dl07_to_hdf5()\""
   ]
  },
  {
   "cell_type": "code",
   "execution_count": null,
   "metadata": {},
   "outputs": [],
   "source": [
    "from synthesizer.grid import Grid\n",
    "\n",
    "grid_name = \"MW3.1\"\n",
    "grid_dir = \"../../../tests/test_grid/\"\n",
    "grid = Grid(grid_name, grid_dir=grid_dir, read_spectra=True, read_lines=False)"
   ]
  },
  {
   "cell_type": "code",
   "execution_count": null,
   "metadata": {},
   "outputs": [],
   "source": [
    "print(grid.axes)"
   ]
  },
  {
   "cell_type": "markdown",
   "metadata": {},
   "source": [
    "Keeping dust luminosity same while varying dust mass"
   ]
  },
  {
   "cell_type": "code",
   "execution_count": null,
   "metadata": {},
   "outputs": [],
   "source": [
    "for mdust in [1e7, 1e8, 5e8, 1e9, 5e9]:\n",
    "    model = IR_templates(\n",
    "        grid, mdust=mdust * Msun, ldust=1e11 * Lsun, verbose=False\n",
    "    )\n",
    "    sed = model.get_spectra(lam)\n",
    "    plt.plot(\n",
    "        np.log10(sed.lam),\n",
    "        np.log10(sed.luminosity),\n",
    "        label=\"{:.1e} Msun, <U>={}\".format(mdust, model.u_avg),\n",
    "    )\n",
    "\n",
    "plt.xlabel(\"log10(lam/AA)\")\n",
    "plt.ylabel(\"log10(lnu/(erg/s))\")\n",
    "plt.ylim(40, 44)\n",
    "plt.legend()\n",
    "plt.show()"
   ]
  }
 ],
 "metadata": {
  "language_info": {
   "name": "python"
  }
 },
 "nbformat": 4,
 "nbformat_minor": 4
}
