{
 "cells": [
  {
   "attachments": {},
   "cell_type": "markdown",
   "id": "659dcb3a-891b-4271-9073-d02efbeb14d5",
   "metadata": {},
   "source": [
    "# Grids\n",
    "\n",
    "This example allows us to explore a HDF5 grid file, and load the corresponding Grid object. We first load some common modules."
   ]
  },
  {
   "cell_type": "code",
   "execution_count": null,
   "id": "79c4459f-4b18-43dd-922f-f20ad58bbfd6",
   "metadata": {},
   "outputs": [],
   "source": [
    "import matplotlib.pyplot as plt\n",
    "import numpy as np"
   ]
  },
  {
   "cell_type": "markdown",
   "id": "f77a08bf-109c-4b51-97dc-6c2fc200c6a1",
   "metadata": {},
   "source": [
    "We can then import the `Grid` object from synthesizer."
   ]
  },
  {
   "cell_type": "code",
   "execution_count": null,
   "id": "d4c139d9-a589-425f-9a69-736b82f96e65",
   "metadata": {},
   "outputs": [],
   "source": [
    "from synthesizer.grid import Grid"
   ]
  },
  {
   "cell_type": "markdown",
   "id": "0d593e25-4783-4c38-b346-4c30d07d7482",
   "metadata": {},
   "source": [
    "This object takes the location of the grids on your system (`grid_dir`) and the name of the grid you wish to load `grid_name`). here we load a simple test grid provided with the module (hence the relative path)."
   ]
  },
  {
   "cell_type": "code",
   "execution_count": null,
   "id": "8a9b1038-a78b-4c5d-8d04-c6f0cebda0a9",
   "metadata": {},
   "outputs": [],
   "source": [
    "grid_dir = \"../../../tests/test_grid\"\n",
    "grid_name = \"test_grid\"\n",
    "\n",
    "grid = Grid(grid_name, grid_dir=grid_dir)\n",
    "print(grid)"
   ]
  },
  {
   "cell_type": "markdown",
   "id": "4e761cc1",
   "metadata": {},
   "source": [
    "A `Grid` can also take various arguments to limit the size of the grid by isolating the `Grid` to a region of interest. This is particularly useful when making a large number of spectra from a high resolution `Grid` where the memory footprint can become large.\n",
    "\n",
    "### Passing a wavelength array\n",
    "\n",
    "If you only care about a grid of specific wavelength values you can pass this array and the `Grid` will automatically be interpolated onto the new wavelength array using `spectres`."
   ]
  },
  {
   "cell_type": "code",
   "execution_count": null,
   "id": "d9006245",
   "metadata": {},
   "outputs": [],
   "source": [
    "# Define a new set of wavelengths\n",
    "new_lams = np.logspace(2, 5, 1000)\n",
    "\n",
    "# Create a new grid\n",
    "grid = Grid(grid_name, grid_dir=grid_dir, new_lam=new_lams)\n",
    "print(grid.shape)"
   ]
  },
  {
   "cell_type": "markdown",
   "id": "67d20f67",
   "metadata": {},
   "source": [
    "# Passing wavelength limits\n",
    "\n",
    "If you don't want to modify the underlying grid resolution but only care about a specific wavelength range you can pass limits to truncate the grid at."
   ]
  },
  {
   "cell_type": "code",
   "execution_count": null,
   "id": "30039ef3",
   "metadata": {},
   "outputs": [],
   "source": [
    "# Create a new grid\n",
    "grid = Grid(grid_name, grid_dir=grid_dir, lam_lims=(10**3, 10**4))\n",
    "print(grid.shape)"
   ]
  },
  {
   "cell_type": "markdown",
   "id": "ab95e88f",
   "metadata": {},
   "source": [
    "You can also pass a `FilterCollection` to isolate the grid to the filter curves you care about. For more details see the the [filter docs](../filters.ipynb)."
   ]
  },
  {
   "cell_type": "markdown",
   "id": "ae701e97-14bb-4abc-95ad-782751c5259f",
   "metadata": {},
   "source": [
    "## Plot a single grid point\n",
    "\n",
    "We can plot the spectra at the location of a single point in our grid. First, we choose some age and metallicity"
   ]
  },
  {
   "cell_type": "code",
   "execution_count": null,
   "id": "decbb271-c6e2-4e72-b992-b6e5bbb7d039",
   "metadata": {},
   "outputs": [],
   "source": [
    "# Return to the unmodified grid\n",
    "grid = Grid(grid_name, grid_dir=grid_dir)\n",
    "\n",
    "log10age = 6.0  # log10(age/yr)\n",
    "Z = 0.01  # metallicity"
   ]
  },
  {
   "cell_type": "markdown",
   "id": "0e51fb94-f892-4d56-9424-5432709fa937",
   "metadata": {},
   "source": [
    "We then get the index location of that grid point for this age and metallicity"
   ]
  },
  {
   "cell_type": "code",
   "execution_count": null,
   "id": "b95a6646-917b-431e-b2d1-72d08dee0f9d",
   "metadata": {},
   "outputs": [],
   "source": [
    "grid_point = grid.get_grid_point((log10age, Z))"
   ]
  },
  {
   "cell_type": "markdown",
   "id": "8704a652-2145-4d24-af2a-b81e23853daf",
   "metadata": {},
   "source": [
    "We can then loop over the available spectra (contained in `grid.spec_names`) and plot"
   ]
  },
  {
   "cell_type": "code",
   "execution_count": null,
   "id": "423dea3a-1a67-4f21-b26c-99008ebb8860",
   "metadata": {},
   "outputs": [],
   "source": [
    "for spectra_id in grid.available_spectra:\n",
    "    # get Sed object\n",
    "    sed = grid.get_spectra(grid_point, spectra_id=spectra_id)\n",
    "    plt.plot(\n",
    "        np.log10(sed.lam), np.log10(sed.lnu), lw=1, alpha=0.8, label=spectra_id\n",
    "    )\n",
    "\n",
    "plt.legend(fontsize=8, labelspacing=0.0)\n",
    "plt.xlabel(r\"$\\rm log_{10}(\\lambda/\\AA)$\")\n",
    "plt.ylabel(r\"$\\rm log_{10}(L_{\\nu}/erg\\ s^{-1}\\ Hz^{-1} M_{\\odot}^{-1})$\")"
   ]
  },
  {
   "cell_type": "markdown",
   "id": "7a1625be-deef-4730-bf48-a30422507224",
   "metadata": {},
   "source": [
    "## Plot ionising luminosities\n",
    "\n",
    "We can also plot properties over the entire age and metallicity grid, such as the ionising luminosity. \n",
    "\n",
    "In the examples below we plot ionising luminosities for HI and HeII"
   ]
  },
  {
   "cell_type": "code",
   "execution_count": null,
   "id": "eb8088ad-e7ef-4600-941d-0c8b01c59a5d",
   "metadata": {},
   "outputs": [],
   "source": [
    "fig, ax = grid.plot_specific_ionising_lum(ion=\"HI\")"
   ]
  },
  {
   "cell_type": "code",
   "execution_count": null,
   "id": "3ac8ca54-9707-4125-9715-d878a0ed5e27",
   "metadata": {},
   "outputs": [],
   "source": [
    "fig, ax = grid.plot_specific_ionising_lum(ion=\"HeII\")"
   ]
  },
  {
   "cell_type": "markdown",
   "id": "5df5b437-a1d1-4c86-98fc-c1d63e22bc81",
   "metadata": {},
   "source": [
    "## 3D grids\n",
    "\n",
    "This functionality is currently in development - come back soon!"
   ]
  },
  {
   "cell_type": "code",
   "execution_count": null,
   "id": "d3c28490-b793-4a8e-a33e-426fd3609fa8",
   "metadata": {},
   "outputs": [],
   "source": [
    "# grid_name = 'test_grid3D'\n",
    "\n",
    "# grid = Grid(grid_name, grid_dir=grid_dir)\n",
    "# print(grid)"
   ]
  },
  {
   "cell_type": "markdown",
   "id": "c3c32247-626e-48ce-b51a-7a1f3174bdc8",
   "metadata": {},
   "source": [
    "## Resampling Grids\n",
    "\n",
    "If you want to resample a grid after istantiation you can apply the `intrep_spectra` method."
   ]
  },
  {
   "cell_type": "code",
   "execution_count": null,
   "id": "fa0f7d5d",
   "metadata": {},
   "outputs": [],
   "source": [
    "# Define a new set of wavelengths\n",
    "new_lams = np.logspace(2, 5, 10000)\n",
    "\n",
    "print(\"The old grid had dimensions:\", grid.spectra[\"incident\"].shape)\n",
    "\n",
    "# Get the grid interpolated onto the new wavelength array\n",
    "grid.interp_spectra(new_lam=new_lams)\n",
    "\n",
    "print(\"The interpolated grid has dimensions:\", grid.spectra[\"incident\"].shape)"
   ]
  },
  {
   "cell_type": "markdown",
   "id": "e094b8c5",
   "metadata": {},
   "source": [
    "Note that this will overwrite the spectra and wavelengths read from the file. To get them back a separate `Grid` can be instatiated without the modified wavelength array."
   ]
  },
  {
   "cell_type": "markdown",
   "id": "10bbb357",
   "metadata": {},
   "source": [
    "## Converting a `Grid` into an `Sed`\n",
    "\n",
    "Any of the spectra arrays stored within a `Grid` can be returned as `Sed` objects (see the `Sed` [docs](../sed.ipynb)). This enables all of the analysis methods provide on an Sed to be used on the whole spectra grid. To do this we simply call `get_sed` with the spectra type we want to extract and then use any of the included methods."
   ]
  },
  {
   "cell_type": "code",
   "execution_count": null,
   "id": "2ef7ddad",
   "metadata": {},
   "outputs": [],
   "source": [
    "# Get the sed object\n",
    "sed = grid.get_sed(spectra_type=\"incident\")\n",
    "\n",
    "# Measure the balmer break for all spectra in the grid (limiting the output)\n",
    "sed.measure_balmer_break()[5:10, 5:10]"
   ]
  },
  {
   "cell_type": "markdown",
   "id": "4c159d2a",
   "metadata": {},
   "source": [
    "## Unifying a `Grid` with a `FilterCollection`\n",
    "\n",
    "It's important when working with a `Grid` and any `Filter` objects (see the filter [docs](../filters.ipynb)) to have a single wavelength array shared between the two to ensure filter transmission curves are applied correctly. Additionally, when focused on photometry in certain filters focus a `Grid`'s spectral range to that of the filters in question can drastically reduce the memory footprint of a calculation. \n",
    "\n",
    "To ensure the former and enable the latter a `Grid` provides the `unify_with_filters` method. This method will take a `FilterCollection` as an arguement and interpolate the `Grid` spectra onto the filters' wavelength array. You can also initialise a `Grid` by passing the filter collection via the `filters` keyword argument at instantiation.\n",
    "\n",
    "We demonstrate this below using a set of `UVJ` filters. "
   ]
  },
  {
   "cell_type": "code",
   "execution_count": null,
   "id": "8ab7e7b1",
   "metadata": {},
   "outputs": [],
   "source": [
    "from synthesizer.filters import UVJ\n",
    "\n",
    "# Get the filter collection\n",
    "fc = UVJ()\n",
    "\n",
    "print(\"Shape before:\", grid.spectra[\"incident\"].shape)\n",
    "\n",
    "# Unify the grid with this filter collection\n",
    "grid.unify_with_filters(fc)\n",
    "\n",
    "print(\"Shape after:\", grid.spectra[\"incident\"].shape)\n",
    "\n",
    "# Or you can get the grid interpolated onto the filter wavelength\n",
    "# at the point of initialisation\n",
    "grid = Grid(grid_name, grid_dir=grid_dir, filters=fc)"
   ]
  }
 ],
 "metadata": {
  "kernelspec": {
   "display_name": "synthesizer-env",
   "language": "python",
   "name": "python3"
  },
  "language_info": {
   "codemirror_mode": {
    "name": "ipython",
    "version": 3
   },
   "file_extension": ".py",
   "mimetype": "text/x-python",
   "name": "python",
   "nbconvert_exporter": "python",
   "pygments_lexer": "ipython3"
  }
 },
 "nbformat": 4,
 "nbformat_minor": 5
}
