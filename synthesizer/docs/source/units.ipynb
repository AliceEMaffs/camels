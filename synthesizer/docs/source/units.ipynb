{
 "cells": [
  {
   "cell_type": "markdown",
   "id": "73abe856",
   "metadata": {},
   "source": [
    "# Units\n",
    "\n",
    "In ***Synthesizer*** all quantities a user interacts with (that are not dimensionless) have units associated to them to avoid confusion. We implement this functionality with the ***unyt*** package. \n",
    "\n",
    "When interfacing with ***Synthesizer*** objects and methods a user should provide quantites with units attached to them. This can be easily achieved with the ***unyt*** package."
   ]
  },
  {
   "cell_type": "code",
   "execution_count": null,
   "id": "6e7269d6",
   "metadata": {},
   "outputs": [],
   "source": [
    "from unyt import Mpc\n",
    "\n",
    "\n",
    "# Define a variable with units\n",
    "x = 1 * Mpc\n",
    "\n",
    "print(x)\n",
    "print(\"x is now a unyt_quantity: type(x)=\", type(x))"
   ]
  },
  {
   "cell_type": "markdown",
   "id": "7fd94ede",
   "metadata": {},
   "source": [
    "All unit functionality in ***Synthesizer*** is house in the `units` module. In this module we have defined a dictionary containing the default units of all attributes throughout ***Synthesizer***."
   ]
  },
  {
   "cell_type": "code",
   "execution_count": null,
   "id": "7dcfa700",
   "metadata": {},
   "outputs": [],
   "source": [
    "from synthesizer.units import default_units\n",
    "\n",
    "\n",
    "print(default_units)"
   ]
  },
  {
   "cell_type": "markdown",
   "id": "5a671fb3",
   "metadata": {},
   "source": [
    "As you can see, most units are defined symbollically, however, you may notice units such as `Msun` (the default used for masses) is defined as a compound unit in terms of `kg`s. Shortly we will cover working with the quantities returned by ***Synthesizer*** and how compound units work in practice.\n",
    "\n",
    "## The `Units` object\n",
    "\n",
    "The unit system is defined by the `Units` object. This object contains a collection of attributes defining the units associated to each quantity throughout ***Synthesizer*** which is not dimensionless. Importantly, `Units` is a `Singleton` object. This means there can only ever be one instance of `Units`, if a second is instantiated then the first is returned. This ensures that the unit system remains consistent when running ***Synthesizer***."
   ]
  },
  {
   "cell_type": "code",
   "execution_count": null,
   "id": "cc9bbeda",
   "metadata": {},
   "outputs": [],
   "source": [
    "from synthesizer.units import Units\n",
    "\n",
    "# Define multiple Units instances\n",
    "units1 = Units()\n",
    "units2 = Units()\n",
    "\n",
    "print(\"Both units instances are the same object:\", units1 is units2)"
   ]
  },
  {
   "cell_type": "markdown",
   "id": "15300808",
   "metadata": {},
   "source": [
    "You can take a look at the unit system by printing the instance of `Units`."
   ]
  },
  {
   "cell_type": "code",
   "execution_count": null,
   "id": "861b8c98",
   "metadata": {},
   "outputs": [],
   "source": [
    "print(units1)"
   ]
  },
  {
   "cell_type": "markdown",
   "id": "6abbd577",
   "metadata": {},
   "source": [
    "## Modifying the default unit system\n",
    "\n",
    "If the default unit system works for your needs then you don't need to do anything. You will never interact with the `Units` object and all quantites will have the default units associated to them automatically. However, if you need to change one or more of the units used you can import `Units` and instantiate it with a dictionary of the modified quantities.\n"
   ]
  },
  {
   "cell_type": "code",
   "execution_count": null,
   "id": "3ad7727b",
   "metadata": {},
   "outputs": [],
   "source": [
    "from unyt import kpc, Myr\n",
    "\n",
    "\n",
    "# Make the dictionary containing the units we want to change\n",
    "new_units = {\n",
    "    \"coordinates\": kpc,\n",
    "    \"smoothing_lengths\": kpc,\n",
    "    \"softening_length\": kpc,\n",
    "    \"ages\": Myr,\n",
    "}\n",
    "\n",
    "# Set up the modified unit system\n",
    "units = Units(new_units)\n",
    "\n",
    "print()\n",
    "print(units)"
   ]
  },
  {
   "cell_type": "markdown",
   "id": "b2216885",
   "metadata": {},
   "source": [
    "Something has gone wrong... but recall that the unit system will return the original if one exists, so actually this should be completely expected.\n",
    "\n",
    "This issue highlights the need to set up `Units` **before** doing anything else. If any computations have been done the `Units` instance will exist and will not be modifiable after the fact. However, should you fall in this trap the code will warn you as above, no hidden gotchas here!\n",
    "\n",
    "Now, lets go against the advise above and use the **highly inadviasble** force argument to get a new Unit system but note, **in a real use case forcing a modified unit system WILL NOT convert existing quantities to the new unit system**."
   ]
  },
  {
   "cell_type": "code",
   "execution_count": null,
   "id": "1b2ce6f0",
   "metadata": {},
   "outputs": [],
   "source": [
    "# Set up the modified unit system\n",
    "units = Units(new_units, force=True)\n",
    "\n",
    "print()\n",
    "print(units)"
   ]
  },
  {
   "cell_type": "markdown",
   "id": "66d9fba2",
   "metadata": {},
   "source": [
    "## Working with `Quantity`s\n",
    "\n",
    "As previously mentioned, there is no need to work with the `Units` object itself beyond intially defining a modified unit system. Beyond this all unit operations are handled \"behind the scenes\". This hidden functionality is enabled by the `Qunatity` object. \n",
    "\n",
    "All attributes on ***Synthesizer*** objects which carry units are in fact `Quantity`s. `Quantitiy`s carry a reference to the global unit system and extract the appropriate units depending on the name of the variable storing the `Quantity`. As such a user will never instantiate a quantity themselves but there usage is important. \n",
    "\n",
    "The one simple thing to keep in mind is how to return the value with or without units. This is achieved by the application or omission of a leading underscore to a variable name. \n",
    "\n",
    "Lets create an `Sed` which has a wavelength array stored under `lam`. Note that since we are not explictly passing units the default unit system is assumed."
   ]
  },
  {
   "cell_type": "code",
   "execution_count": null,
   "id": "90d3dee4",
   "metadata": {},
   "outputs": [],
   "source": [
    "import numpy as np\n",
    "from synthesizer.sed import Sed\n",
    "\n",
    "\n",
    "# Make an sed with arbitrary arguments\n",
    "sed = Sed(lam=np.linspace(10, 1000, 10), lnu=np.ones(10))"
   ]
  },
  {
   "cell_type": "markdown",
   "id": "56379b6a",
   "metadata": {},
   "source": [
    "We can access this attribute with units as you would expect to access any attribute."
   ]
  },
  {
   "cell_type": "code",
   "execution_count": null,
   "id": "5428bafb",
   "metadata": {},
   "outputs": [],
   "source": [
    "print(sed.lam)"
   ]
  },
  {
   "cell_type": "markdown",
   "id": "67d252c4",
   "metadata": {},
   "source": [
    "Or we can append a leading underscore and return it without units."
   ]
  },
  {
   "cell_type": "code",
   "execution_count": null,
   "id": "bede4ad7",
   "metadata": {},
   "outputs": [],
   "source": [
    "print(sed._lam)"
   ]
  },
  {
   "cell_type": "markdown",
   "id": "f2c13e38",
   "metadata": {},
   "source": [
    "In the case of compound units this is marginly messier. Lets demonstrate with some `Stars`."
   ]
  },
  {
   "cell_type": "code",
   "execution_count": null,
   "id": "f486e240",
   "metadata": {},
   "outputs": [],
   "source": [
    "from synthesizer.particle.stars import Stars\n",
    "\n",
    "\n",
    "# Create a dummy Stars object\n",
    "stars = Stars(\n",
    "    initial_masses=np.random.rand(10),\n",
    "    ages=np.ones(10),\n",
    "    metallicities=np.ones(10),\n",
    ")"
   ]
  },
  {
   "cell_type": "markdown",
   "id": "68c42568",
   "metadata": {},
   "source": [
    "If we print the `initial_masses` with units we get the compound version in `kg`."
   ]
  },
  {
   "cell_type": "code",
   "execution_count": null,
   "id": "0bbebc98",
   "metadata": {},
   "outputs": [],
   "source": [
    "print(stars.initial_masses)"
   ]
  },
  {
   "cell_type": "markdown",
   "id": "69fb800d",
   "metadata": {},
   "source": [
    "However, if we extract the values alone we get the values we expect in $M_\\odot$."
   ]
  },
  {
   "cell_type": "code",
   "execution_count": null,
   "id": "84df0365",
   "metadata": {},
   "outputs": [],
   "source": [
    "print(stars._initial_masses)"
   ]
  },
  {
   "cell_type": "markdown",
   "id": "6c5a4386",
   "metadata": {},
   "source": [
    "Its worth keeping this in mind whenever extracting masses from ***Synthesizer*** objects.\n",
    "\n",
    "### Automatic unit conversion\n",
    "\n",
    "Finally lets utilise some automatic unit conversion. If we have a mixture of properties to input to a ***Synthesizer*** object, all with different units to the global unit system, we don't have to convert them all before inputting them. As long as we pass them to ***Synthesizer*** with ***unyt*** units attached, the conversion will be handled automatically. Here we use a Stars object again to demonstrate."
   ]
  },
  {
   "cell_type": "code",
   "execution_count": null,
   "id": "3276790f",
   "metadata": {},
   "outputs": [],
   "source": [
    "from unyt import Mpc, g, m\n",
    "\n",
    "\n",
    "# Create a dummy Stars object\n",
    "stars = Stars(\n",
    "    initial_masses=np.random.rand(10) * 10**34.0 * g,\n",
    "    ages=np.ones(10) * Myr,\n",
    "    metallicities=np.ones(10),\n",
    "    coordinates=np.random.rand(10, 3) * Mpc,\n",
    "    smoothing_lengths=np.random.rand(10) * 10**22.0 * m,\n",
    ")\n",
    "\n",
    "print(\n",
    "    \"stars.initial_masses[0]=\",\n",
    "    stars.initial_masses[0],\n",
    "    \"=\",\n",
    "    stars._initial_masses[0],\n",
    "    \"Msun\",\n",
    ")\n",
    "print(\"stars.ages[0]=\", stars.ages[0])\n",
    "print(\"stars.coordinates[0]=\", stars.coordinates[0])\n",
    "print(\"stars.smoothing_lengths[0]=\", stars.smoothing_lengths[0])"
   ]
  }
 ],
 "metadata": {
  "language_info": {
   "name": "python"
  }
 },
 "nbformat": 4,
 "nbformat_minor": 5
}
