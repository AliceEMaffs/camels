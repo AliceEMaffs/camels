{
 "cells": [
  {
   "attachments": {},
   "cell_type": "markdown",
   "metadata": {},
   "source": [
    "# Abundances\n",
    "\n",
    "`synthesizer` can be used to generate abundance patterns, in total and for gas and dust individually, for a given metallicity, alpha ehancement, and arbitrary element scalings.\n",
    "\n",
    "At present this functionality is only utilised when creating cloudy input scripts. These scripts are used to calculate nebular line and continuum emission for a given incident spectral energy distribution and gas abundance pattern."
   ]
  },
  {
   "cell_type": "code",
   "execution_count": null,
   "metadata": {},
   "outputs": [],
   "source": [
    "import matplotlib.pyplot as plt\n",
    "import numpy as np\n",
    "from synthesizer.abundances import (\n",
    "    Abundances,\n",
    "    abundance_scalings,\n",
    "    depletion_models,\n",
    "    plot_abundance_pattern,\n",
    "    plot_multiple_abundance_patterns,\n",
    "    reference_abundance_patterns,\n",
    ")"
   ]
  },
  {
   "attachments": {},
   "cell_type": "markdown",
   "metadata": {},
   "source": [
    "by default initialising `Abundances` creates a solar abundance pattern with no depletion. The default solar abundance pattern is Asplund et al. (2009), though this can be changed if desired. "
   ]
  },
  {
   "cell_type": "code",
   "execution_count": null,
   "metadata": {},
   "outputs": [],
   "source": [
    "a0 = Abundances()\n",
    "\n",
    "isinstance(Abundances, type)"
   ]
  },
  {
   "attachments": {},
   "cell_type": "markdown",
   "metadata": {},
   "source": [
    "like most `synthesizer` objects we can explore the important attributes of an object by using `print()`:"
   ]
  },
  {
   "cell_type": "code",
   "execution_count": null,
   "metadata": {},
   "outputs": [],
   "source": [
    "print(a0)"
   ]
  },
  {
   "attachments": {},
   "cell_type": "markdown",
   "metadata": {},
   "source": [
    "You can access the logarithmic abundances ($\\log_{10}(N_X/N_H)$) of an element like this:"
   ]
  },
  {
   "cell_type": "code",
   "execution_count": null,
   "metadata": {},
   "outputs": [],
   "source": [
    "print(f\"log10(O/H): {a0.total['O']:.2f}\")\n",
    "print(f\"log10(O/H): {a0['O']:.2f}\")"
   ]
  },
  {
   "attachments": {},
   "cell_type": "markdown",
   "metadata": {},
   "source": [
    "### Solar abundance pattern\n",
    "\n",
    "As noted, there are several reference abundance patterns built into `synthesizer`. These can be accessed from `synthesizer.abundances.reference_abundance_patterns`:"
   ]
  },
  {
   "cell_type": "code",
   "execution_count": null,
   "metadata": {},
   "outputs": [],
   "source": [
    "reference_abundance_patterns.available_patterns"
   ]
  },
  {
   "cell_type": "code",
   "execution_count": null,
   "metadata": {},
   "outputs": [],
   "source": [
    "reference = reference_abundance_patterns.Asplund2009()\n",
    "reference.ads\n",
    "reference.abundance"
   ]
  },
  {
   "cell_type": "code",
   "execution_count": null,
   "metadata": {},
   "outputs": [],
   "source": [
    "a1 = Abundances(reference=reference_abundance_patterns.Gutkin2016)\n",
    "print(a1)"
   ]
  },
  {
   "attachments": {},
   "cell_type": "markdown",
   "metadata": {},
   "source": [
    "Solar abundance classes can also be called using a string representation of the name."
   ]
  },
  {
   "cell_type": "code",
   "execution_count": null,
   "metadata": {},
   "outputs": [],
   "source": [
    "a1 = Abundances(reference=\"Gutkin2016\")\n",
    "print(a1)"
   ]
  },
  {
   "attachments": {},
   "cell_type": "markdown",
   "metadata": {},
   "source": [
    "### Metallicity\n",
    "\n",
    "We can specify a different metallicity. By default abundances are scaled from the Solar abundances provided through an optional argument (default Asplund et a. 2009). However, as we will see later, it is possible to set a different $\\alpha$-enhancement or set arbitrary element scalings."
   ]
  },
  {
   "cell_type": "code",
   "execution_count": null,
   "metadata": {},
   "outputs": [],
   "source": [
    "a2 = Abundances(metallicity=0.01)\n",
    "print(a2)"
   ]
  },
  {
   "attachments": {},
   "cell_type": "markdown",
   "metadata": {},
   "source": [
    "## $\\alpha$-enhancement\n",
    "\n",
    "We can also generate abundance patterns assuming different $\\alpha$-enhancements. In this case it is necessary to re-scale the non-$\\alpha$ elements to recover the input metallicity."
   ]
  },
  {
   "cell_type": "code",
   "execution_count": null,
   "metadata": {},
   "outputs": [],
   "source": [
    "a3 = Abundances(alpha=0.6)\n",
    "print(a3)"
   ]
  },
  {
   "attachments": {},
   "cell_type": "markdown",
   "metadata": {},
   "source": [
    "We can print a relative solar abundance like this:"
   ]
  },
  {
   "cell_type": "code",
   "execution_count": null,
   "metadata": {},
   "outputs": [],
   "source": [
    "print(f\"[O/Fe] = {a3.reference_relative_abundance('O', ref_element='Fe'):.2f}\")\n",
    "print(f\"[O/Fe] = {a3['[O/Fe]']:.2f}\")\n",
    "print(f\"[B/Fe] = {a3['[B/Fe]']:.2f}\")"
   ]
  },
  {
   "attachments": {},
   "cell_type": "markdown",
   "metadata": {},
   "source": [
    "That, is, as expected given that we set $\\alpha=0.6$."
   ]
  },
  {
   "attachments": {},
   "cell_type": "markdown",
   "metadata": {},
   "source": [
    "### Depletion\n",
    "\n",
    "To account for metals being locked up in dust, we can also specify a depletion pattern. It is possible to either provide a dictionary of values or specify one of the in-built patterns. "
   ]
  },
  {
   "cell_type": "code",
   "execution_count": null,
   "metadata": {},
   "outputs": [],
   "source": [
    "# assume 99% of Carbon and Iron are depleted on to dust\n",
    "depletion = {\"C\": 0.99, \"Fe\": 0.99}\n",
    "\n",
    "# calculate the abundance patterns, now included gas and dust separately\n",
    "a4 = Abundances(metallicity=0.01, depletion=depletion)\n",
    "print(a4)"
   ]
  },
  {
   "cell_type": "code",
   "execution_count": null,
   "metadata": {},
   "outputs": [],
   "source": [
    "a5 = Abundances(\n",
    "    metallicity=0.0156,\n",
    "    reference=reference_abundance_patterns.Gutkin2016,\n",
    "    depletion_model=depletion_models.Gutkin2016,\n",
    ")\n",
    "print(a5)"
   ]
  },
  {
   "cell_type": "code",
   "execution_count": null,
   "metadata": {},
   "outputs": [],
   "source": [
    "a6 = Abundances(\n",
    "    metallicity=0.0156,\n",
    "    reference=reference_abundance_patterns.Gutkin2016,\n",
    "    depletion_model=depletion_models.CloudyClassic,\n",
    ")\n",
    "print(a6)"
   ]
  },
  {
   "cell_type": "code",
   "execution_count": null,
   "metadata": {},
   "outputs": [],
   "source": [
    "a7 = Abundances(\n",
    "    metallicity=0.0156,\n",
    "    reference=reference_abundance_patterns.Gutkin2016,\n",
    "    depletion_model=depletion_models.Jenkins2009_Gunasekera2021,\n",
    ")\n",
    "print(a7)"
   ]
  },
  {
   "attachments": {},
   "cell_type": "markdown",
   "metadata": {},
   "source": [
    "When specifying an in-built pattern it's also possible to specify an optional scaling parameter depending on the particular model.\n",
    "\n",
    "Below we explore the effect of $F_{*}$ on the depletion factors for N, O, and S. "
   ]
  },
  {
   "cell_type": "code",
   "execution_count": null,
   "metadata": {},
   "outputs": [],
   "source": [
    "for element in [\"N\", \"O\", \"S\"]:\n",
    "    print(element, \"-\" * 5)\n",
    "    for fstar in [0.0, 0.5, 1.0]:\n",
    "        depletion = depletion_models.Jenkins2009_Gunasekera2021(\n",
    "            fstar\n",
    "        ).depletion[element]\n",
    "        print(f\"{fstar} {depletion:.2f} {np.log10(depletion):.2f}\")"
   ]
  },
  {
   "attachments": {},
   "cell_type": "markdown",
   "metadata": {},
   "source": [
    "Next, we explore the effect of $F_{*}$ on the dust mass fraction and dust-to-metal ratio ($\\xi_{d}$):"
   ]
  },
  {
   "cell_type": "code",
   "execution_count": null,
   "metadata": {},
   "outputs": [],
   "source": [
    "print(\"F_*\", \"dust_abundance\", \"dust_mass_fraction\", \"dust_to_metal_ratio\")\n",
    "for fstar in [0.0, 0.1, 0.25, 0.5, 1.0]:\n",
    "    a = Abundances(\n",
    "        metallicity=0.0156,\n",
    "        reference=reference_abundance_patterns.Gutkin2016,\n",
    "        depletion_model=depletion_models.Jenkins2009_Gunasekera2021,\n",
    "        depletion_scale=fstar,\n",
    "    )\n",
    "    print(\n",
    "        fstar,\n",
    "        f\"{a.dust_abundance:.2g}\",\n",
    "        f\"{a.dust_mass_fraction:.2g}\",\n",
    "        f\"{a.dust_to_metal_ratio:.2g}\",\n",
    "    )"
   ]
  },
  {
   "attachments": {},
   "cell_type": "markdown",
   "metadata": {},
   "source": [
    "We can also adjust the depletion scale in place and recalculate the dust mass:"
   ]
  },
  {
   "cell_type": "code",
   "execution_count": null,
   "metadata": {},
   "outputs": [],
   "source": [
    "a = Abundances(\n",
    "    metallicity=0.0156,\n",
    "    reference=reference_abundance_patterns.Gutkin2016,\n",
    "    depletion_model=depletion_models.Jenkins2009_Gunasekera2021,\n",
    "    depletion_scale=0.5,\n",
    ")\n",
    "\n",
    "print(f\"{a.dust_abundance:.2g}\")\n",
    "\n",
    "a.add_depletion(\n",
    "    depletion_model=\"Jenkins2009_Gunasekera2021\", depletion_scale=1.0\n",
    ")\n",
    "\n",
    "print(f\"{a.dust_abundance:.2g}\")\n",
    "\n",
    "a.add_depletion(\n",
    "    depletion_model=\"Jenkins2009_Gunasekera2021\", depletion_scale=0.5\n",
    ")\n",
    "\n",
    "print(f\"{a.dust_abundance:.2g}\")"
   ]
  },
  {
   "cell_type": "code",
   "execution_count": null,
   "metadata": {},
   "outputs": [],
   "source": [
    "# define default model\n",
    "a = Abundances(\n",
    "    metallicity=0.0156,\n",
    "    reference=reference_abundance_patterns.Gutkin2016,\n",
    "    depletion_model=depletion_models.Jenkins2009_Gunasekera2021,\n",
    "    depletion_scale=0.5,\n",
    ")\n",
    "\n",
    "\n",
    "default_dust_mass_fraction = a.dust_mass_fraction\n",
    "\n",
    "# vary fstar and recalaculate the dust_mass_fraction\n",
    "for fstar in [0.0, 0.1, 0.25, 0.5, 1.0]:\n",
    "    # recalcualte for different fstar\n",
    "    a.add_depletion(\n",
    "        depletion_model=\"Jenkins2009_Gunasekera2021\", depletion_scale=fstar\n",
    "    )\n",
    "\n",
    "    dust_mass_fraction = a.dust_mass_fraction\n",
    "\n",
    "    print(\n",
    "        f\"\"\"{fstar} {default_dust_mass_fraction:.4f} {dust_mass_fraction:.4f}\n",
    "        {dust_mass_fraction/default_dust_mass_fraction:.2f}\"\"\"\n",
    "    )"
   ]
  },
  {
   "attachments": {},
   "cell_type": "markdown",
   "metadata": {},
   "source": [
    "When the depletion is applied the total, gas, and dust abundance patterns are provided e.g."
   ]
  },
  {
   "cell_type": "code",
   "execution_count": null,
   "metadata": {},
   "outputs": [],
   "source": [
    "print(f'log10(C_total/H) : {a7.total[\"C\"]:.2f}')\n",
    "print(f'log10(C_gas/H) : {a7.gas[\"C\"]:.2f}')\n",
    "print(f'log10(C_dust/H) : {a7.dust[\"C\"]:.2f}')"
   ]
  },
  {
   "attachments": {},
   "cell_type": "markdown",
   "metadata": {},
   "source": [
    "### Arbitrary element scaling\n",
    "\n",
    "We can also change the abundance of any specific element (or set of elements), with the abundances of other elements rescaled self-consistently to yield the correct metallicity. \n",
    "\n",
    "If the abundance is a float it is the logarithmic abundance ($\\log_{10}(X/H)$) while if it is a string it is one of the in-built functions that scale the abundance with metallicity (e.g. the model proposed by Dopita et al. 2006). Note, combining this with a non-zero `alpha` can lead to a mild inconsistency."
   ]
  },
  {
   "attachments": {},
   "cell_type": "markdown",
   "metadata": {},
   "source": [
    "Using a float for the absolute abundance (relative to H):"
   ]
  },
  {
   "cell_type": "code",
   "execution_count": null,
   "metadata": {},
   "outputs": [],
   "source": [
    "a8 = Abundances(metallicity=0.0134, abundances={\"nitrogen\": -4.5})\n",
    "print(a8)"
   ]
  },
  {
   "attachments": {},
   "cell_type": "markdown",
   "metadata": {},
   "source": [
    "Providing an abundance relative to another element:"
   ]
  },
  {
   "cell_type": "code",
   "execution_count": null,
   "metadata": {},
   "outputs": [],
   "source": [
    "a9a = Abundances(metallicity=0.0134, abundances={\"nitrogen_to_oxygen\": -0.4})\n",
    "print(a9a)\n",
    "\n",
    "# same as above but less PEP8 compliant\n",
    "a9b = Abundances(metallicity=0.0134, abundances={\"N/O\": -0.4})\n",
    "print(a9b)"
   ]
  },
  {
   "attachments": {},
   "cell_type": "markdown",
   "metadata": {},
   "source": [
    "Alternatively, we can use a built-in function for particular set of elements or for all elements available. For example, here we use the Dopita (2006) scaling relation to adjust Nitrogen."
   ]
  },
  {
   "cell_type": "code",
   "execution_count": null,
   "metadata": {},
   "outputs": [],
   "source": [
    "a10 = Abundances(metallicity=0.0134, abundances={\"nitrogen\": \"Dopita2006\"})\n",
    "print(a10)"
   ]
  },
  {
   "attachments": {},
   "cell_type": "markdown",
   "metadata": {},
   "source": [
    "We can also use a model to set all scalings for all available elements."
   ]
  },
  {
   "cell_type": "code",
   "execution_count": null,
   "metadata": {},
   "outputs": [],
   "source": [
    "a11 = Abundances(metallicity=0.015, abundances=\"GalacticConcordance\")\n",
    "print(a11)"
   ]
  },
  {
   "attachments": {},
   "cell_type": "markdown",
   "metadata": {},
   "source": [
    "##### Scaling models\n",
    "\n",
    "Let's look in a bit more detail at some of the available scaling relationships."
   ]
  },
  {
   "attachments": {},
   "cell_type": "markdown",
   "metadata": {},
   "source": [
    "We can also access the scaling functions directly:"
   ]
  },
  {
   "cell_type": "code",
   "execution_count": null,
   "metadata": {},
   "outputs": [],
   "source": [
    "abundance_scalings.available_scalings"
   ]
  },
  {
   "cell_type": "code",
   "execution_count": null,
   "metadata": {},
   "outputs": [],
   "source": [
    "abundance_scalings.GalacticConcordance().available_elements"
   ]
  },
  {
   "cell_type": "code",
   "execution_count": null,
   "metadata": {},
   "outputs": [],
   "source": [
    "abundance_scalings.GalacticConcordance().nitrogen(0.016)"
   ]
  },
  {
   "attachments": {},
   "cell_type": "markdown",
   "metadata": {},
   "source": [
    "These functions also include useful meta data:"
   ]
  },
  {
   "cell_type": "code",
   "execution_count": null,
   "metadata": {},
   "outputs": [],
   "source": [
    "print(abundance_scalings.GalacticConcordance().ads)\n",
    "print(abundance_scalings.GalacticConcordance().doi)"
   ]
  },
  {
   "attachments": {},
   "cell_type": "markdown",
   "metadata": {},
   "source": [
    "Let's dig a little deeper and make a plot of X/O vs. O/H for one of these scalings. "
   ]
  },
  {
   "cell_type": "code",
   "execution_count": null,
   "metadata": {},
   "outputs": [],
   "source": [
    "scaling_study_name = \"GalacticConcordance\"\n",
    "\n",
    "# create an array of metallicities equally space in log-space\n",
    "log10metallicities = np.arange(-4.0, -1.5, 0.1)\n",
    "metallicities = 10**log10metallicities\n",
    "\n",
    "# the reference oxygen abundance for GalacticConcordance, i.e. [O/H]\n",
    "reference_oxygen_abundance = -3.24\n",
    "reference_metallicity = 0.015\n",
    "\n",
    "# (O/H), assumed to scale linearly with metallicity\n",
    "oxygen_abundance = reference_oxygen_abundance + np.log10(\n",
    "    metallicities / reference_metallicity\n",
    ")\n",
    "\n",
    "scaling_study = getattr(abundance_scalings, scaling_study_name)()\n",
    "\n",
    "for element, element_name in zip(\n",
    "    scaling_study.available_elements, scaling_study.available_elements_names\n",
    "):\n",
    "    scaling = getattr(scaling_study, element_name)\n",
    "\n",
    "    abundances = np.array(\n",
    "        [scaling(metallicity) for metallicity in metallicities]\n",
    "    )\n",
    "\n",
    "    # log10(N/O) = log10(N/H) - log10(O/H)\n",
    "    x_to_oxygen_ratios = abundances - oxygen_abundance\n",
    "\n",
    "    plt.plot(oxygen_abundance + 12.0, x_to_oxygen_ratios, label=element)\n",
    "\n",
    "plt.plot(\n",
    "    [reference_oxygen_abundance + 12] * 2, [-6.0, -0.0], alpha=0.2, lw=2, c=\"k\"\n",
    ")\n",
    "\n",
    "plt.ylabel(r\"$\\log_{10}(X/O)$\")\n",
    "plt.xlabel(r\"$\\log_{10}(O/H)+12$\")\n",
    "plt.legend()\n",
    "plt.show()"
   ]
  },
  {
   "attachments": {},
   "cell_type": "markdown",
   "metadata": {},
   "source": [
    "## Plots"
   ]
  },
  {
   "attachments": {},
   "cell_type": "markdown",
   "metadata": {},
   "source": [
    "There are also a helper functions for plotting one or more abundance patterns, here we plot two abundance patterns with different alpha abundances:"
   ]
  },
  {
   "cell_type": "code",
   "execution_count": null,
   "metadata": {},
   "outputs": [],
   "source": [
    "plot_multiple_abundance_patterns(\n",
    "    [a2, a3],\n",
    "    labels=[r\"Z=0.01\", r\"Z=0.01; \\alpha = 0.6\"],\n",
    "    show=True,\n",
    "    ylim=[-7.0, -3.0],\n",
    ")"
   ]
  },
  {
   "attachments": {},
   "cell_type": "markdown",
   "metadata": {},
   "source": [
    "We can plot the abundance pattern of each component:"
   ]
  },
  {
   "cell_type": "code",
   "execution_count": null,
   "metadata": {},
   "outputs": [],
   "source": [
    "plot_abundance_pattern(\n",
    "    a7, show=True, ylim=[-7.0, -3.0], components=[\"total\", \"gas\", \"dust\"]\n",
    ")"
   ]
  }
 ],
 "metadata": {
  "kernelspec": {
   "display_name": "venv",
   "language": "python",
   "name": "python3"
  },
  "language_info": {
   "codemirror_mode": {
    "name": "ipython",
    "version": 3
   },
   "file_extension": ".py",
   "mimetype": "text/x-python",
   "name": "python",
   "nbconvert_exporter": "python",
   "pygments_lexer": "ipython3"
  },
  "vscode": {
   "interpreter": {
    "hash": "3fbdfee1eda89f517d14c65aaeb395605ea48cc827c54c8ae1828e532ec42817"
   }
  }
 },
 "nbformat": 4,
 "nbformat_minor": 2
}
