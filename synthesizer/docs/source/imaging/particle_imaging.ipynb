{
 "cells": [
  {
   "cell_type": "markdown",
   "id": "947397f6",
   "metadata": {},
   "source": [
    "# Creating Images From Galaxy Particle distributions\n",
    "\n",
    "In this example we show how to create various different types of images from stellar particles. For this purpose we utilise the parametric SFZH functionality to create fake galaxies, derive their spectra from the SPS grid and then make images using the Sythensizer Imaging submodule.\n",
    "\n",
    "## The setup"
   ]
  },
  {
   "cell_type": "code",
   "execution_count": null,
   "id": "46dcb7d5",
   "metadata": {},
   "outputs": [],
   "source": [
    "import os\n",
    "import time\n",
    "import numpy as np\n",
    "import matplotlib as mpl\n",
    "import matplotlib.colors as cm\n",
    "import matplotlib.pyplot as plt\n",
    "import matplotlib.gridspec as gridspec\n",
    "from unyt import yr, Myr, kpc, arcsec, nJy, Mpc, Msun\n",
    "from astropy.cosmology import Planck18 as cosmo\n",
    "from scipy import signal\n",
    "\n",
    "from synthesizer.grid import Grid\n",
    "from synthesizer.filters import FilterCollection as Filters\n",
    "from synthesizer.load_data.load_camels import load_CAMELS_IllustrisTNG\n",
    "from synthesizer.kernel_functions import Kernel"
   ]
  },
  {
   "cell_type": "markdown",
   "id": "aced8bcb",
   "metadata": {},
   "source": [
    "First port of call is initilaising the SPS grid. Here we use the test grid."
   ]
  },
  {
   "cell_type": "code",
   "execution_count": null,
   "id": "869a6043",
   "metadata": {},
   "outputs": [],
   "source": [
    "# Define the grid\n",
    "grid_name = \"test_grid\"\n",
    "grid_dir = \"../../../tests/test_grid/\"\n",
    "grid = Grid(grid_name, grid_dir=grid_dir, new_lam=np.logspace(2, 5, 600))"
   ]
  },
  {
   "cell_type": "markdown",
   "id": "eff77b0a",
   "metadata": {},
   "source": [
    "For demonstration purposes we will just load one of the CAMELS galaxies from the test data. To see how to intialise your own galaxies see [the particle galaxy docs](../galaxies/galaxy_obj.ipynb)."
   ]
  },
  {
   "cell_type": "code",
   "execution_count": null,
   "id": "c52d3ab9",
   "metadata": {},
   "outputs": [],
   "source": [
    "galaxy_start = time.time()\n",
    "\n",
    "# Create galaxy object\n",
    "gal = load_CAMELS_IllustrisTNG(\n",
    "    \"../../../tests/data/\",\n",
    "    snap_name=\"camels_snap.hdf5\",\n",
    "    fof_name=\"camels_subhalo.hdf5\",\n",
    "    physical=True,\n",
    ")[1]\n",
    "\n",
    "print(\"Galaxy created, took:\", time.time() - galaxy_start)\n",
    "\n",
    "print(f\"Galaxy has {gal.stars.nstars} stellar particles\")\n",
    "print(f\"Galaxy gas {gal.gas.nparticles} gas particles\")"
   ]
  },
  {
   "cell_type": "markdown",
   "id": "3f970eff",
   "metadata": {},
   "source": [
    "### Getting the spectra\n",
    "\n",
    "To make an image we need to map the stellar particle properties onto the SPS grid defined in the `grid` object. To do this we use the galaxy's in built `generate_particle_spectra` method and create `\"total\"` SEDs with both stellar and nebular contributions. This returns an SED object containing lots of helper methods for working with spectra. \n",
    "\n",
    "Here we will use `get_fnu` to convert the rest frame SED into an observed SED which takes into account the previously set redshift stored on the `stars` object. By passing `igm=None` we assume the default `igm` contribution (`Inoue14`). This can be changed to `False` for no IGM or to another IGM model defined in `synthesizer.igm`.\n"
   ]
  },
  {
   "cell_type": "code",
   "execution_count": null,
   "id": "4c67b061",
   "metadata": {},
   "outputs": [],
   "source": [
    "spectra_start = time.time()\n",
    "\n",
    "# Calculate the stellar rest frame SEDs for all particles in erg / s / Hz\n",
    "sed = gal.stars.get_particle_spectra_incident(grid)\n",
    "\n",
    "# Calculate the observed SED in nJy\n",
    "sed.get_fnu(cosmo, gal.redshift, igm=None)\n",
    "\n",
    "print(\"Spectra created, took:\", time.time() - spectra_start)"
   ]
  },
  {
   "cell_type": "markdown",
   "id": "804df9f6",
   "metadata": {},
   "source": [
    "### Defining filters\n",
    "\n",
    "Before making photometric images we need to define a set of filters we want images for. This can be done in a number of ways using a `FilterCollection` object. There are a number of different ways to create filters (see the filter example). Here we will get Webb filters from the SVO database."
   ]
  },
  {
   "cell_type": "code",
   "execution_count": null,
   "id": "65ae407d",
   "metadata": {},
   "outputs": [],
   "source": [
    "filter_start = time.time()\n",
    "\n",
    "# Define filter list\n",
    "filter_codes = [\n",
    "    \"JWST/NIRCam.F090W\",\n",
    "    \"JWST/NIRCam.F150W\",\n",
    "    \"JWST/NIRCam.F200W\",\n",
    "]\n",
    "\n",
    "# Set up filter object\n",
    "filters = Filters(filter_codes, new_lam=grid.lam)\n",
    "\n",
    "print(\"Filters created, took:\", time.time() - filter_start)"
   ]
  },
  {
   "cell_type": "markdown",
   "id": "e6fefc73",
   "metadata": {},
   "source": [
    "## Imaging\n",
    "\n",
    "Before we make any images we need to define the resolution of our images and the FOV (or width) of the images. We do this with associated units to enable the code to internally transform all quantites to a consistent unit system. We take the units of the resolution as the unit system to which all quantities should be transformed. Here we will use kpc for all spatial quantities but this is not necessary, these units can be a mixture units with the same dimension (e.g. *physical* Mpc, kpc and pc, or arcseconds and degrees) or a mixture of angular and cartesian units (but note that angular coordinates require a redshift to be defined even when making rest frame images to enable the transformation to a consistent unit system)."
   ]
  },
  {
   "cell_type": "code",
   "execution_count": null,
   "id": "01abb509",
   "metadata": {},
   "outputs": [],
   "source": [
    "# Define the width of the image\n",
    "width = 30 * kpc\n",
    "\n",
    "# Define image resolution (here we arbitrarily set it to 100 pixels along an axis)\n",
    "resolution = width / 200\n",
    "\n",
    "print(\n",
    "    \"Image width is %.2f kpc with %.2f kpc resolution\"\n",
    "    % (width.value, resolution.value)\n",
    ")"
   ]
  },
  {
   "cell_type": "markdown",
   "id": "8db93b4f",
   "metadata": {},
   "source": [
    "### Stellar mass maps\n",
    "\n",
    "The base imaging classes in Synthesizer are designed to allow multiple different use cases including spectral data cubes, photometry in multiple bands, and images of arbitrary properties. Before we venture into photometry lets make a stellar mass histogram by passing the stellar masses in as `pixel_values`."
   ]
  },
  {
   "cell_type": "code",
   "execution_count": null,
   "id": "8218d6f6",
   "metadata": {},
   "outputs": [],
   "source": [
    "img_start = time.time()\n",
    "\n",
    "# Get the image\n",
    "mass_hist_img = gal.make_images(\n",
    "    resolution,\n",
    "    fov=width,\n",
    "    img_type=\"hist\",\n",
    "    pixel_values=gal.stars._current_masses,\n",
    ")\n",
    "\n",
    "print(\"Histogram image took:\", time.time() - img_start)"
   ]
  },
  {
   "cell_type": "markdown",
   "id": "edae37c4",
   "metadata": {},
   "source": [
    "When making a singular image from an array passed to `pixel_values` the resultant image is stored in `Image.img`. Lets plot the resulting stellar mass histogram."
   ]
  },
  {
   "cell_type": "code",
   "execution_count": null,
   "id": "47c4981b",
   "metadata": {},
   "outputs": [],
   "source": [
    "# Plot what we've made\n",
    "fig = plt.figure()\n",
    "ax = fig.add_subplot(111)\n",
    "ax.imshow(mass_hist_img.img)\n",
    "ax.axis(False)\n",
    "plt.show()\n",
    "plt.close(fig)"
   ]
  },
  {
   "cell_type": "markdown",
   "id": "8cd1073a",
   "metadata": {},
   "source": [
    "However, stellar particles in SPH simulations are not point sources. In fact we defined the smoothing lengths that describes each stellar particle's SPH kernel above when we made the `Stars`. If we pass `\"smoothed\"` instead of `\"hist\"` to `img_type` we can make use of these smoothing lengths and make an image of the stellar distribution correctly smoothed of the SPH kernels.\n",
    "\n",
    "To do so we first need to get an SPH kernel from `synthesizer.kernel_functions` and pass that to `make_images` in addition to the previous properties."
   ]
  },
  {
   "cell_type": "code",
   "execution_count": null,
   "id": "82d5dcb3",
   "metadata": {},
   "outputs": [],
   "source": [
    "# Get the SPH kernel\n",
    "sph_kernel = Kernel()\n",
    "kernel_data = sph_kernel.get_kernel()\n",
    "\n",
    "img_start = time.time()\n",
    "\n",
    "# Get the image\n",
    "mass_smooth_img = gal.make_images(\n",
    "    resolution,\n",
    "    fov=width,\n",
    "    img_type=\"smoothed\",\n",
    "    pixel_values=gal.stars._current_masses,\n",
    "    kernel=kernel_data,\n",
    "    kernel_threshold=1,\n",
    ")\n",
    "\n",
    "print(\"Smoothed image took:\", time.time() - img_start)"
   ]
  },
  {
   "cell_type": "markdown",
   "id": "13d47689",
   "metadata": {},
   "source": [
    "We also provide helper functions for making plots from the computed image arrays. In the simplest use case the user only has to state the type of image they'd like to plot: `\"standard\"` for the images we've made here, and `\"psf\"` for images with PSFs and `\"noise\"` for images including nosie, both of which we will cover shortly. The user can also optionally state the colormap to use, provide a normalisation range for the image/images and provide a function to scale the pixel values but we will ignore those here."
   ]
  },
  {
   "cell_type": "code",
   "execution_count": null,
   "id": "43201780",
   "metadata": {},
   "outputs": [],
   "source": [
    "# Plot what we've made\n",
    "fig, ax = mass_smooth_img.plot_image(\n",
    "    img_type=\"standard\", show=True, cmap=\"plasma\"\n",
    ")\n",
    "plt.close(fig)"
   ]
  },
  {
   "cell_type": "markdown",
   "id": "1e424d79",
   "metadata": {},
   "source": [
    "### Photometric imaging\n",
    "\n",
    "What we really want is observed photometric images in the filters we defined earlier. Compared to the simple mass map we now need to provide a number of extra arguments: \n",
    "\n",
    "- `sed`: The `SED` object we created earlier containing the rest frame and observed SEDs and wavelength/frequency arrays.\n",
    "- `filters`: The `FilterCollection` we defined earlier with the bands we want images in.\n",
    "- `rest_frame`: A boolean flag for whether we want the rest frame or observed photometric images. Here we will make observed images.\n",
    "- `cosmo`: The astropy.cosmology object defining the employed cosmology.\n",
    "\n",
    "Internally a spectral data cube is made first and stored in the image at `Image.ifu_obj` (the data cube array itself being stored in `Image.ifu_obj.ifu`) which the filter curves are then convolved with to produce the photometric images in each band. This process is significantly more efficient than making images using the photometry of each particle, even when only using 2 filters. "
   ]
  },
  {
   "cell_type": "code",
   "execution_count": null,
   "id": "1bfa17c0",
   "metadata": {},
   "outputs": [],
   "source": [
    "img_start = time.time()\n",
    "\n",
    "# Get the image\n",
    "hist_img = gal.make_images(\n",
    "    resolution,\n",
    "    fov=width,\n",
    "    img_type=\"hist\",\n",
    "    stellar_spectra_type=\"incident\",\n",
    "    filters=filters,\n",
    "    rest_frame=False,\n",
    "    cosmo=cosmo,\n",
    ")\n",
    "\n",
    "# Get the image\n",
    "smooth_img = gal.make_images(\n",
    "    resolution,\n",
    "    fov=width,\n",
    "    img_type=\"smoothed\",\n",
    "    stellar_spectra_type=\"incident\",\n",
    "    filters=filters,\n",
    "    rest_frame=False,\n",
    "    cosmo=cosmo,\n",
    "    kernel=kernel_data,\n",
    "    kernel_threshold=1,\n",
    ")\n",
    "\n",
    "print(\"Images took:\", time.time() - img_start)"
   ]
  },
  {
   "cell_type": "markdown",
   "id": "80b2ce8c",
   "metadata": {},
   "source": [
    "When making images in multiple bands the image arrays themselves are stored in a dictionary of the form `{f.filter_code: img_array}`. Below we extract this dictionary and plot each of the images we have made."
   ]
  },
  {
   "cell_type": "code",
   "execution_count": null,
   "id": "238f5a6d",
   "metadata": {},
   "outputs": [],
   "source": [
    "hist_imgs = hist_img.imgs\n",
    "smooth_imgs = smooth_img.imgs\n",
    "\n",
    "# Lets set up a simple normalisation across all images\n",
    "vmax = 0\n",
    "for img in hist_imgs.values():\n",
    "    up = np.percentile(img, 99.5)\n",
    "    if up > vmax:\n",
    "        vmax = up\n",
    "for img in smooth_imgs.values():\n",
    "    up = np.percentile(img, 99.9)\n",
    "    if up > vmax:\n",
    "        vmax = up\n",
    "norm = cm.Normalize(vmin=0, vmax=vmax)\n",
    "\n",
    "# Set up plot\n",
    "fig = plt.figure(figsize=(4 * len(filters), 4 * 2))\n",
    "gs = gridspec.GridSpec(2, len(filters), hspace=0.0, wspace=0.0)\n",
    "\n",
    "# Create top row\n",
    "axes = []\n",
    "for i in range(len(filters)):\n",
    "    axes.append(fig.add_subplot(gs[0, i]))\n",
    "\n",
    "# Loop over images plotting them\n",
    "for ax, fcode in zip(axes, filter_codes):\n",
    "    ax.imshow(hist_imgs[fcode], norm=norm, cmap=\"Greys_r\")\n",
    "    ax.set_title(fcode)\n",
    "    ax.tick_params(\n",
    "        axis=\"both\",\n",
    "        which=\"both\",\n",
    "        left=False,\n",
    "        right=False,\n",
    "        labelleft=False,\n",
    "        labelright=False,\n",
    "        bottom=False,\n",
    "        top=False,\n",
    "        labelbottom=False,\n",
    "        labeltop=False,\n",
    "    )\n",
    "\n",
    "# Set y axis label on left most plot\n",
    "axes[0].set_ylabel(\"Histogram\")\n",
    "\n",
    "# Create bottom row\n",
    "axes = []\n",
    "for i in range(len(filters)):\n",
    "    axes.append(fig.add_subplot(gs[1, i]))\n",
    "\n",
    "# Loop over images plotting them\n",
    "for ax, fcode in zip(axes, filter_codes):\n",
    "    ax.imshow(smooth_imgs[fcode], norm=norm, cmap=\"Greys_r\")\n",
    "    ax.tick_params(\n",
    "        axis=\"both\",\n",
    "        which=\"both\",\n",
    "        left=False,\n",
    "        right=False,\n",
    "        labelleft=False,\n",
    "        labelright=False,\n",
    "        bottom=False,\n",
    "        top=False,\n",
    "        labelbottom=False,\n",
    "        labeltop=False,\n",
    "    )\n",
    "\n",
    "# Set y axis label on left most plot\n",
    "axes[0].set_ylabel(\"Smoothed\")\n",
    "\n",
    "# Plot the image\n",
    "plt.show()\n",
    "plt.close(fig)"
   ]
  },
  {
   "cell_type": "markdown",
   "id": "11a548ce",
   "metadata": {},
   "source": [
    "## Including a Point Spread Function (PSF)\n",
    "\n",
    "Of course, the smoothed distribution is only part of the story. To properly model observations by a particular observatory we need to take into account the smoothing due to the PSF of the telescope. \n",
    "\n",
    "We take the PSFs as arrays stored in a dictionary of the form `{f.filter_code: psf_array}`, where each filter has its own PSF array (optionally a single array can be passed and appliec to all filters). Here we will just create a fake gaussian PSF for all filters but PSFs can be sourced however the user wishes (for Webb we recommend the _webbpsf_ package) as long as a simple numpy array is passed within the psf dictionary for each filter.\n",
    "\n",
    "We also enable automatic super sampling of the image via the `psf_resample_factor` argument to improve the results of the convolution. The number of pixels along an axis will be increased by this factor prior to the intial image creation, the convolution is then applied at the super resolution and then all images are downsampled back to the native resolution.\n",
    "\n",
    "Note that a single call to `Galaxy.make_image` computes all types of images needed depending on the passed arguments, there is no need to create the image without the PSF first as we did above. Using the lower level interface each stage can be applied separately (see the images docs). The initial \"PSF-less\" image will be created at the super sampled resolution and then both `Image.imgs` and the PSF convolved images will be downsampled after convolution to the native pixel resolution. For finer control over resampling the user can use the base Image objects themselves."
   ]
  },
  {
   "cell_type": "code",
   "execution_count": null,
   "id": "ee4b5382",
   "metadata": {},
   "outputs": [],
   "source": [
    "# Create a fake PSF for each filter\n",
    "psf = np.outer(signal.windows.gaussian(50, 3), signal.windows.gaussian(50, 3))\n",
    "psfs = {f: psf for f in filters.filter_codes}\n",
    "\n",
    "img_start = time.time()\n",
    "\n",
    "# Get the image\n",
    "psf_img = gal.make_images(\n",
    "    resolution,\n",
    "    fov=width,\n",
    "    img_type=\"smoothed\",\n",
    "    stellar_spectra_type=\"incident\",\n",
    "    filters=filters,\n",
    "    rest_frame=False,\n",
    "    cosmo=cosmo,\n",
    "    psfs=psfs,\n",
    "    psf_resample_factor=2,\n",
    "    kernel=kernel_data,\n",
    "    kernel_threshold=1,\n",
    ")\n",
    "\n",
    "print(\"PSF images made, took:\", time.time() - img_start)"
   ]
  },
  {
   "cell_type": "markdown",
   "id": "fb121d1c",
   "metadata": {},
   "source": [
    "After convolution the results are stored in a dictionary, `Image.imgs_psf` (or `Image.img_psf` for singular images made from an array). Here we will use the plotting helper function to plot these images with some normalisation."
   ]
  },
  {
   "cell_type": "code",
   "execution_count": null,
   "id": "847dac1b",
   "metadata": {},
   "outputs": [],
   "source": [
    "psf_imgs = psf_img.imgs_psf\n",
    "\n",
    "# Lets set up a simple normalisation across all images\n",
    "vmax = 0\n",
    "for img in psf_imgs.values():\n",
    "    up = np.percentile(img, 99.9)\n",
    "    if up > vmax:\n",
    "        vmax = up\n",
    "\n",
    "# Get the plot\n",
    "fig, ax = psf_img.plot_image(img_type=\"psf\", show=True, vmin=0, vmax=vmax)\n",
    "plt.close(fig)"
   ]
  },
  {
   "cell_type": "markdown",
   "id": "583c16ea",
   "metadata": {},
   "source": [
    "## Including noise\n",
    "\n",
    "The final ingredient for a fully forward modelled synthetic image is a noise field. We enable a couple interfaces to implement these on the images: \n",
    "- A simple implementation via the `noises` argument. If this argument is passed to `Galaxy.make_image` then a noise field will be created centred on 0 with this standard deviation for each filer if `noises` is a dictionary. If `noises` is a single value it will be used for all filters.\n",
    "- A more sophisticated method where the noise is calculated using an aperture, a signal to noise ratio/s (SNR/s), and depths in each filter. The arguments are defined as follows:\n",
    "    - `aperture`: Either a single value or a dicitonary with a value per filter defining the radius of the aperture in which the noise is defined. This/these values are assumed to be in the image unit system defined by the resolution.\n",
    "    - `snrs`: Either a single value or a dicitonary with a value per filter defining the signal to noise ratio inside the aperture.\n",
    "    - `depths`: Either a single value or a dicitonary with a value and unit per filter defining the depth in each filter. Must be defined in the same units as the pixel values (erg / s / Hz for rest frame luminosity, nJy for flux images). There are helper functions in `synthesizer.utils` which enable easy switching between unit systems. \n",
    "    \n",
    "As with the PSF images this can all be handled in a single call to `Galaxy.make_image`. If PSFs have been provided the noise will be applied to the images with a PSF, otherwise the PSF-less images will be used.\n",
    "\n",
    "Below we demonstrate the the first simple approach using the `noises` argument. Images with noise are stored in a dictionary, `Image.imgs_noise` (or `Image.img_noise` for singular images made from an array). "
   ]
  },
  {
   "cell_type": "code",
   "execution_count": null,
   "id": "396666e3",
   "metadata": {},
   "outputs": [],
   "source": [
    "img_start = time.time()\n",
    "\n",
    "# Get the image\n",
    "simple_noise_img = gal.make_images(\n",
    "    resolution,\n",
    "    fov=width,\n",
    "    img_type=\"smoothed\",\n",
    "    stellar_spectra_type=\"incident\",\n",
    "    filters=filters,\n",
    "    rest_frame=False,\n",
    "    cosmo=cosmo,\n",
    "    psfs=psfs,\n",
    "    psf_resample_factor=2,\n",
    "    noises=100 * nJy,\n",
    "    kernel=kernel_data,\n",
    "    kernel_threshold=1,\n",
    ")\n",
    "\n",
    "print(\"Noisy images made, took:\", time.time() - img_start)\n",
    "\n",
    "simple_noise_imgs = simple_noise_img.imgs_noise\n",
    "\n",
    "# Lets set up a simple normalisation across all images\n",
    "vmax = 0\n",
    "for img in simple_noise_imgs.values():\n",
    "    up = np.percentile(img, 99.9)\n",
    "    if up > vmax:\n",
    "        vmax = up\n",
    "\n",
    "# Get the plot\n",
    "fig, ax = simple_noise_img.plot_image(\n",
    "    img_type=\"noise\", show=True, vmin=0, vmax=vmax\n",
    ")\n",
    "plt.close(fig)"
   ]
  },
  {
   "cell_type": "markdown",
   "id": "cd7d7b47",
   "metadata": {},
   "source": [
    "And here we define a toy set of `depths` with a fixed SNR and aperture size."
   ]
  },
  {
   "cell_type": "code",
   "execution_count": null,
   "id": "a25e8d30",
   "metadata": {},
   "outputs": [],
   "source": [
    "# Create the dictionary of depths\n",
    "depths = {f.filter_code: 100 * nJy for f in filters}\n",
    "\n",
    "img_start = time.time()\n",
    "\n",
    "# Get the image\n",
    "noise_img = gal.make_images(\n",
    "    resolution,\n",
    "    fov=width,\n",
    "    img_type=\"smoothed\",\n",
    "    stellar_spectra_type=\"incident\",\n",
    "    filters=filters,\n",
    "    rest_frame=False,\n",
    "    cosmo=cosmo,\n",
    "    psfs=psfs,\n",
    "    psf_resample_factor=2,\n",
    "    depths=depths,\n",
    "    snrs=5,\n",
    "    aperture=0.2,\n",
    "    kernel=kernel_data,\n",
    "    kernel_threshold=1,\n",
    ")\n",
    "\n",
    "print(\"Smoothed images made, took:\", time.time() - img_start)\n",
    "\n",
    "noise_imgs = noise_img.imgs_noise\n",
    "print([noise_imgs[f.filter_code].shape for f in filters])\n",
    "# Lets set up a simple normalisation across all images\n",
    "vmax = 0\n",
    "vmin = np.inf\n",
    "for img in noise_imgs.values():\n",
    "    up = np.percentile(img, 99.9)\n",
    "    low = -np.percentile(img, 32)\n",
    "    if up > vmax:\n",
    "        vmax = up\n",
    "    if low < vmin:\n",
    "        vmin = low\n",
    "\n",
    "# Get the plot\n",
    "fig, ax = simple_noise_img.plot_image(\n",
    "    img_type=\"noise\", show=True, vmin=vmin, vmax=vmax\n",
    ")\n",
    "plt.close(fig)"
   ]
  },
  {
   "cell_type": "markdown",
   "id": "5598bc9a",
   "metadata": {},
   "source": [
    "Finally we can use the RGB image method on the `Image` object to make quick RGB images by simply providing a dictionary detailing which filters we want in which bands, the type of image we want (once again `\"standard\"`, `\"psf\"`, or `\"noise\"`) and optional weights which we will ignore here."
   ]
  },
  {
   "cell_type": "code",
   "execution_count": null,
   "id": "f560d311",
   "metadata": {},
   "outputs": [],
   "source": [
    "# Create the rgb image from the psf image above example using our 3 filters\n",
    "rgb_img = noise_img.make_rgb_image(\n",
    "    rgb_filters={\n",
    "        \"R\": [\n",
    "            \"JWST/NIRCam.F200W\",\n",
    "        ],\n",
    "        \"G\": [\n",
    "            \"JWST/NIRCam.F150W\",\n",
    "        ],\n",
    "        \"B\": [\n",
    "            \"JWST/NIRCam.F090W\",\n",
    "        ],\n",
    "    },\n",
    "    img_type=\"noise\",\n",
    ")\n",
    "\n",
    "# Set up minima and maxima\n",
    "vmin = -np.percentile(rgb_img, 32)\n",
    "vmax = np.percentile(rgb_img, 99.9)\n",
    "norm = cm.Normalize(vmin=vmin, vmax=vmax, clip=True)\n",
    "print(\"Scaling to:\", vmin, \"->\", vmax)\n",
    "\n",
    "# Normalise the image.\n",
    "rgb_img = norm(rgb_img)\n",
    "\n",
    "print(rgb_img.shape)\n",
    "\n",
    "# Plot the image\n",
    "fig = plt.figure()\n",
    "ax = fig.add_subplot(111)\n",
    "ax.imshow(rgb_img, origin=\"lower\", interpolation=\"nearest\")\n",
    "ax.axis(\"off\")\n",
    "plt.show()\n",
    "plt.close(fig)"
   ]
  },
  {
   "cell_type": "markdown",
   "id": "1c871888",
   "metadata": {},
   "source": [
    "## Making property maps\n",
    "\n",
    "Synthesizer provides some helper methods for making commonly used maps. Below are examples showing their use. Some of these are summative (e.g. mass) while others are mass weighted averages (e.g. metallicity and age). \n",
    "\n",
    "To plot them we can use the `plot_map` helper functions which can optionally include a colorbar, unlike `plot_image`.\n",
    "\n",
    "### Mass maps"
   ]
  },
  {
   "cell_type": "code",
   "execution_count": null,
   "id": "318af4b4",
   "metadata": {},
   "outputs": [],
   "source": [
    "# Make the stellar mass map\n",
    "stellar_mass_map = gal.make_stellar_mass_map(\n",
    "    resolution=resolution,\n",
    "    fov=width,\n",
    "    img_type=\"smoothed\",\n",
    "    kernel=kernel_data,\n",
    "    kernel_threshold=1,\n",
    ")\n",
    "\n",
    "fig, ax = stellar_mass_map.plot_map(\n",
    "    show=True,\n",
    "    cmap=\"plasma\",\n",
    "    extent=[-15, 15, -15, 15],\n",
    "    cbar_label=\"$M_\\star/M_\\odot$\",\n",
    ")\n",
    "plt.close(fig)"
   ]
  },
  {
   "cell_type": "markdown",
   "id": "b0231d9b",
   "metadata": {},
   "source": [
    "### Metallicity maps\n",
    "\n",
    "For metallicity we can either plot the average metallicity in a pixel or the total metal mass in a pixel."
   ]
  },
  {
   "cell_type": "code",
   "execution_count": null,
   "id": "9bf09ae8",
   "metadata": {},
   "outputs": [],
   "source": [
    "# Make the average stellar metallicity map\n",
    "metallicity_map = gal.make_stellar_metallicity_map(\n",
    "    resolution=resolution,\n",
    "    fov=width,\n",
    "    img_type=\"smoothed\",\n",
    "    kernel=kernel_data,\n",
    "    kernel_threshold=1,\n",
    ")\n",
    "\n",
    "fig, ax = metallicity_map.plot_map(\n",
    "    show=True,\n",
    "    cmap=\"plasma\",\n",
    "    extent=[-15, 15, -15, 15],\n",
    "    cbar_label=r\"$\\langle Z \\rangle $\",\n",
    ")\n",
    "plt.close(fig)\n",
    "\n",
    "# Make the stellar metal mass map\n",
    "metal_map = gal.make_stellar_metal_mass_map(\n",
    "    resolution=resolution,\n",
    "    fov=width,\n",
    "    img_type=\"smoothed\",\n",
    "    kernel=kernel_data,\n",
    "    kernel_threshold=1,\n",
    ")\n",
    "\n",
    "fig, ax = metal_map.plot_map(\n",
    "    show=True,\n",
    "    cmap=\"plasma\",\n",
    "    extent=[-15, 15, -15, 15],\n",
    "    cbar_label=\"$M_Z/M_\\odot$\",\n",
    ")\n",
    "plt.close(fig)"
   ]
  },
  {
   "cell_type": "markdown",
   "id": "0affc68b",
   "metadata": {},
   "source": [
    "### Age maps\n",
    "\n",
    "We can plot the average age in a pixel. Note that we can provide a normalisation function to the plotting method to scale our colormap."
   ]
  },
  {
   "cell_type": "code",
   "execution_count": null,
   "id": "49593824",
   "metadata": {},
   "outputs": [],
   "source": [
    "from matplotlib.colors import LogNorm, Normalize\n",
    "\n",
    "\n",
    "# Make the stellar age map\n",
    "age_map = gal.make_stellar_age_map(\n",
    "    resolution=resolution,\n",
    "    fov=width,\n",
    "    img_type=\"smoothed\",\n",
    "    kernel=kernel_data,\n",
    "    kernel_threshold=1,\n",
    ")\n",
    "\n",
    "# Set up a normalisation\n",
    "norm = LogNorm(vmin=10**9, vmax=10**10.5, clip=True)\n",
    "\n",
    "fig, ax = age_map.plot_map(\n",
    "    show=True,\n",
    "    cmap=\"plasma\",\n",
    "    extent=[-15, 15, -15, 15],\n",
    "    cbar_label=r\"$\\langle \\mathrm{Age} / [\\mathrm{yr}] \\rangle$\",\n",
    "    norm=norm,\n",
    ")\n",
    "plt.close(fig)"
   ]
  },
  {
   "cell_type": "markdown",
   "id": "e4c94e3b",
   "metadata": {},
   "source": [
    "### SFR maps\n",
    "\n",
    "By taking all the recently formed stars (those younger than `age_bin`) we can plot SFR maps. By default `age_bin` is 100 Myrs.\n",
    "\n",
    "We can also pass `plot_map` a `tick_formatter` to format the color bar ticks however we desire."
   ]
  },
  {
   "cell_type": "code",
   "execution_count": null,
   "id": "a41816e8",
   "metadata": {},
   "outputs": [],
   "source": [
    "from matplotlib.ticker import FuncFormatter\n",
    "\n",
    "\n",
    "# Make the SFR map\n",
    "sfr_map = gal.make_sfr_map(\n",
    "    resolution=resolution,\n",
    "    fov=width,\n",
    "    img_type=\"smoothed\",\n",
    "    kernel=kernel_data,\n",
    "    kernel_threshold=1,\n",
    "    age_bin=100 * Myr,\n",
    ")\n",
    "\n",
    "# Set up a normalisation\n",
    "norm = Normalize(vmin=None, vmax=8.5 * 10**-6, clip=True)\n",
    "\n",
    "# Set up the tick formatter\n",
    "tick_formatter = FuncFormatter(lambda x, tick_pos: f\"{np.log10(x):.2f}\")\n",
    "\n",
    "fig, ax = sfr_map.plot_map(\n",
    "    show=True,\n",
    "    cmap=\"plasma\",\n",
    "    extent=[-15, 15, -15, 15],\n",
    "    cbar_label=\"$\\log_{10}(\\mathrm{SFR} / [M_\\odot/yr])$\",\n",
    "    norm=norm,\n",
    "    tick_formatter=tick_formatter,\n",
    ")\n",
    "plt.close(fig)"
   ]
  },
  {
   "cell_type": "markdown",
   "id": "81a6d6ae",
   "metadata": {},
   "source": [
    "### sSFR maps"
   ]
  },
  {
   "cell_type": "code",
   "execution_count": null,
   "id": "46c3f41a",
   "metadata": {},
   "outputs": [],
   "source": [
    "# Make the sSFR map\n",
    "ssfr_map = gal.make_ssfr_map(\n",
    "    resolution=resolution,\n",
    "    fov=width,\n",
    "    img_type=\"smoothed\",\n",
    "    kernel=kernel_data,\n",
    "    kernel_threshold=1,\n",
    ")\n",
    "\n",
    "# Set up a normalisation\n",
    "norm = Normalize(vmin=None, vmax=4.75 * 10**-15, clip=True)\n",
    "\n",
    "fig, ax = ssfr_map.plot_map(\n",
    "    show=True,\n",
    "    cmap=\"plasma\",\n",
    "    extent=[-15, 15, -15, 15],\n",
    "    cbar_label=\"$\\log_{10}(\\mathrm{SFR} / [M_\\odot/yr])$\",\n",
    "    norm=norm,\n",
    "    tick_formatter=tick_formatter,\n",
    ")\n",
    "plt.close(fig)"
   ]
  }
 ],
 "metadata": {
  "language_info": {
   "name": "python"
  }
 },
 "nbformat": 4,
 "nbformat_minor": 5
}
