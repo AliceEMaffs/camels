{
 "cells": [
  {
   "cell_type": "markdown",
   "metadata": {},
   "source": [
    "# Making maps\n",
    "\n",
    "We don't always want to make full collections of photometric images, often we just want a single map of properties of interest. Synthesizer provides some helper methods for making commonly used maps. Unlike the methods used to make collections of photometric images, these map making methods return individual `Image` objects. Like the `Galaxy.get_imgs_luminosity` and `Galaxy.get_imgs_flux` methods, these methods take an `img_type` argument which can either be `\"smoothed\"` or `\"hist\"`. Below are examples showing their use. \n",
    "\n",
    "Note that some of these are summative (e.g. mass) while others are mass weighted averages (e.g. metallicity and age). \n",
    "\n",
    "To plot them we can use the `plot_map` helper functions which can optionally include a colorbar, unlike `plot_image`.\n",
    "\n",
    "Here we demonstrate the usage of these map methods but to do so we need a galaxy to visualise. For this we will use another CAMELS galaxy.\n"
   ]
  },
  {
   "cell_type": "code",
   "execution_count": null,
   "metadata": {},
   "outputs": [],
   "source": [
    "import time\n",
    "\n",
    "import matplotlib.pyplot as plt\n",
    "import numpy as np\n",
    "from synthesizer.imaging import Image\n",
    "from synthesizer.kernel_functions import Kernel\n",
    "from synthesizer.load_data.load_camels import load_CAMELS_IllustrisTNG\n",
    "from unyt import Myr, kpc\n",
    "\n",
    "galaxy_start = time.time()\n",
    "\n",
    "# Create galaxy object\n",
    "gal = load_CAMELS_IllustrisTNG(\n",
    "    \"../../../tests/data/\",\n",
    "    snap_name=\"camels_snap.hdf5\",\n",
    "    fof_name=\"camels_subhalo.hdf5\",\n",
    "    physical=True,\n",
    ")[1]\n",
    "\n",
    "print(\"Galaxy created, took:\", time.time() - galaxy_start)\n",
    "\n",
    "print(f\"Galaxy has {gal.stars.nstars} stellar particles\")\n",
    "print(f\"Galaxy gas {gal.gas.nparticles} gas particles\")"
   ]
  },
  {
   "cell_type": "markdown",
   "metadata": {},
   "source": [
    "We also need to define a resolution and a FOV for the maps, and for the smoothed maps we will need a kernel to be defined."
   ]
  },
  {
   "cell_type": "code",
   "execution_count": null,
   "metadata": {},
   "outputs": [],
   "source": [
    "# Define the width of the image\n",
    "width = 30 * kpc\n",
    "\n",
    "# Define image resolution (here we arbitrarily set it to\n",
    "# 200 pixels along an axis)\n",
    "resolution = width / 200\n",
    "\n",
    "print(\n",
    "    \"Map width is %.2f kpc with %.2f kpc resolution\"\n",
    "    % (width.value, resolution.value)\n",
    ")\n",
    "\n",
    "# Get the SPH kernel\n",
    "sph_kernel = Kernel()\n",
    "kernel_data = sph_kernel.get_kernel()"
   ]
  },
  {
   "cell_type": "markdown",
   "metadata": {},
   "source": [
    "## Stellar Mass maps\n",
    "\n",
    "Note that gas maps are also available."
   ]
  },
  {
   "cell_type": "code",
   "execution_count": null,
   "metadata": {},
   "outputs": [],
   "source": [
    "# Make the stellar mass map\n",
    "stellar_mass_map = gal.get_map_stellar_mass(\n",
    "    resolution=resolution,\n",
    "    fov=width,\n",
    "    img_type=\"smoothed\",\n",
    "    kernel=kernel_data,\n",
    "    kernel_threshold=1,\n",
    ")\n",
    "\n",
    "fig, ax = stellar_mass_map.plot_map(\n",
    "    show=True,\n",
    "    cmap=\"plasma\",\n",
    "    extent=[-15, 15, -15, 15],\n",
    "    cbar_label=r\"$M_\\star/M_\\odot$\",\n",
    ")\n",
    "plt.close(fig)"
   ]
  },
  {
   "cell_type": "markdown",
   "metadata": {},
   "source": [
    "## Metallicity maps\n",
    "\n",
    "For metallicity we can either plot the average metallicity in a pixel or the total metal mass in a pixel."
   ]
  },
  {
   "cell_type": "code",
   "execution_count": null,
   "metadata": {},
   "outputs": [],
   "source": [
    "# Make the average stellar metallicity map\n",
    "metallicity_map = gal.get_map_stellar_metallicity(\n",
    "    resolution=resolution,\n",
    "    fov=width,\n",
    "    img_type=\"smoothed\",\n",
    "    kernel=kernel_data,\n",
    "    kernel_threshold=1,\n",
    ")\n",
    "\n",
    "fig, ax = metallicity_map.plot_map(\n",
    "    show=True,\n",
    "    cmap=\"plasma\",\n",
    "    extent=[-15, 15, -15, 15],\n",
    "    cbar_label=r\"$\\langle Z \\rangle $\",\n",
    ")\n",
    "plt.close(fig)\n",
    "\n",
    "# Make the stellar metal mass map\n",
    "metal_map = gal.get_map_stellar_metal_mass(\n",
    "    resolution=resolution,\n",
    "    fov=width,\n",
    "    img_type=\"smoothed\",\n",
    "    kernel=kernel_data,\n",
    "    kernel_threshold=1,\n",
    ")\n",
    "\n",
    "fig, ax = metal_map.plot_map(\n",
    "    show=True,\n",
    "    cmap=\"plasma\",\n",
    "    extent=[-15, 15, -15, 15],\n",
    "    cbar_label=r\"$M_Z/M_\\odot$\",\n",
    ")\n",
    "plt.close(fig)"
   ]
  },
  {
   "cell_type": "markdown",
   "metadata": {},
   "source": [
    "## Age maps\n",
    "\n",
    "We can plot the average age in a pixel. Note that we can provide a normalisation function to the plotting method to scale our colormap."
   ]
  },
  {
   "cell_type": "code",
   "execution_count": null,
   "metadata": {},
   "outputs": [],
   "source": [
    "from matplotlib.colors import LogNorm, Normalize\n",
    "\n",
    "# Make the stellar age map\n",
    "age_map = gal.get_map_stellar_age(\n",
    "    resolution=resolution,\n",
    "    fov=width,\n",
    "    img_type=\"smoothed\",\n",
    "    kernel=kernel_data,\n",
    "    kernel_threshold=1,\n",
    ")\n",
    "\n",
    "# Set up a normalisation\n",
    "norm = LogNorm(vmin=10**9, vmax=10**10.5, clip=True)\n",
    "\n",
    "fig, ax = age_map.plot_map(\n",
    "    show=True,\n",
    "    cmap=\"plasma\",\n",
    "    extent=[-15, 15, -15, 15],\n",
    "    cbar_label=r\"$\\langle \\mathrm{Age} / [\\mathrm{yr}] \\rangle$\",\n",
    "    norm=norm,\n",
    ")\n",
    "plt.close(fig)"
   ]
  },
  {
   "cell_type": "markdown",
   "metadata": {},
   "source": [
    "## SFR maps\n",
    "\n",
    "By taking all the recently formed stars (those younger than `age_bin`) we can plot SFR maps. By default `age_bin` is 100 Myrs. \n",
    "\n",
    "Note that for this example the SFR maps are not particuarly exciting since they are low mass quiescent galaxies.\n",
    "\n",
    "We can also pass `plot_map` a `tick_formatter` to format the color bar ticks however we desire."
   ]
  },
  {
   "cell_type": "code",
   "execution_count": null,
   "metadata": {},
   "outputs": [],
   "source": [
    "from matplotlib.ticker import FuncFormatter\n",
    "\n",
    "# Make the SFR map\n",
    "sfr_map = gal.get_map_sfr(\n",
    "    resolution=resolution,\n",
    "    fov=width,\n",
    "    img_type=\"smoothed\",\n",
    "    kernel=kernel_data,\n",
    "    kernel_threshold=1,\n",
    "    age_bin=100 * Myr,\n",
    ")\n",
    "\n",
    "# Set up a normalisation\n",
    "norm = Normalize(vmin=None, vmax=8.5 * 10**-6, clip=True)\n",
    "\n",
    "# Set up the tick formatter\n",
    "tick_formatter = FuncFormatter(lambda x, tick_pos: f\"{np.log10(x):.2f}\")\n",
    "\n",
    "fig, ax = sfr_map.plot_map(\n",
    "    show=True,\n",
    "    cmap=\"plasma\",\n",
    "    extent=[-15, 15, -15, 15],\n",
    "    cbar_label=r\"$\\log_{10}(\\mathrm{SFR} / [M_\\odot/yr])$\",\n",
    "    norm=norm,\n",
    "    tick_formatter=tick_formatter,\n",
    ")\n",
    "plt.close(fig)"
   ]
  },
  {
   "cell_type": "markdown",
   "metadata": {},
   "source": [
    "## sSFR maps"
   ]
  },
  {
   "cell_type": "code",
   "execution_count": null,
   "metadata": {},
   "outputs": [],
   "source": [
    "# Make the sSFR map\n",
    "ssfr_map = gal.get_map_ssfr(\n",
    "    resolution=resolution,\n",
    "    fov=width,\n",
    "    img_type=\"smoothed\",\n",
    "    kernel=kernel_data,\n",
    "    kernel_threshold=1,\n",
    ")\n",
    "\n",
    "# Set up a normalisation\n",
    "norm = Normalize(vmin=None, vmax=4.75 * 10**-15, clip=True)\n",
    "\n",
    "fig, ax = ssfr_map.plot_map(\n",
    "    show=True,\n",
    "    cmap=\"plasma\",\n",
    "    extent=[-15, 15, -15, 15],\n",
    "    cbar_label=r\"$\\log_{10}(\\mathrm{SFR} / [M_\\odot/yr])$\",\n",
    "    norm=norm,\n",
    "    tick_formatter=tick_formatter,\n",
    ")\n",
    "plt.close(fig)"
   ]
  },
  {
   "cell_type": "markdown",
   "metadata": {},
   "source": [
    "## Making your own map\n",
    "\n",
    "We haven't made every concievable property or combination of properties into a map method. Should you want to make your own map this can be easily achieved using `Image` objects.\n",
    "\n",
    "First you need to instantiate an image to hold your map with the resolution and FOV."
   ]
  },
  {
   "cell_type": "code",
   "execution_count": null,
   "metadata": {},
   "outputs": [],
   "source": [
    "# Get the image instance\n",
    "img = Image(resolution, fov=width)"
   ]
  },
  {
   "cell_type": "markdown",
   "metadata": {},
   "source": [
    "With the image in hand you need only call the image creation method you want to use, `get_img_hist` for a histogram or `get_img_smoothed` for a smoothed image. These methods take a `signal` argument in addition to the `coordinates` (and `smoothing` lengths and kernel arguments in the smoothed case). This signal is the value that will be sorted/smoothed into pixels. You can pass any particle property for this signal, or indeed any combination of properties. \n",
    "\n",
    "For a weighted image you can define multiple images and then divided one by the other to remove the weighting. This is what is done inside the helper methods above.\n",
    "\n",
    "As an example, below we demonstrate making an `s_oxygen` map."
   ]
  },
  {
   "cell_type": "code",
   "execution_count": null,
   "metadata": {},
   "outputs": [],
   "source": [
    "# Get an image of the gas dust-to-metal ratio\n",
    "img.get_img_smoothed(\n",
    "    signal=gal.stars.s_oxygen,\n",
    "    coordinates=gal.stars.coordinates,\n",
    "    smoothing_lengths=gal.stars.smoothing_lengths,\n",
    "    kernel=kernel_data,\n",
    "    kernel_threshold=1,\n",
    ")\n",
    "\n",
    "fig, ax = img.plot_map(\n",
    "    show=True,\n",
    "    cmap=\"plasma\",\n",
    "    extent=[-15, 15, -15, 15],\n",
    "    cbar_label=\"O\",\n",
    ")"
   ]
  }
 ],
 "metadata": {
  "kernelspec": {
   "display_name": "synthesizer-env",
   "language": "python",
   "name": "python3"
  },
  "language_info": {
   "codemirror_mode": {
    "name": "ipython",
    "version": 3
   },
   "file_extension": ".py",
   "mimetype": "text/x-python",
   "name": "python",
   "nbconvert_exporter": "python",
   "pygments_lexer": "ipython3"
  }
 },
 "nbformat": 4,
 "nbformat_minor": 2
}
