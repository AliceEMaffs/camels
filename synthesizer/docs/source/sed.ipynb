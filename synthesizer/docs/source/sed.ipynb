{
 "cells": [
  {
   "attachments": {},
   "cell_type": "markdown",
   "id": "00db497b-9cf9-4547-ae44-4d80f30eb8a1",
   "metadata": {},
   "source": [
    "# The Sed object\n",
    "\n",
    "This example demonstrates the various methods associated with the `Sed` class.\n",
    "\n",
    "`Sed` objects can be extracted directly from `Grid` objects or created by `Galaxy` objects. See tutorials on those objects for more information."
   ]
  },
  {
   "cell_type": "code",
   "execution_count": null,
   "id": "7158257d-8bab-4c83-bac6-38aa83def3bf",
   "metadata": {},
   "outputs": [],
   "source": [
    "import numpy as np\n",
    "import matplotlib.pyplot as plt\n",
    "import matplotlib as mpl\n",
    "import matplotlib.pyplot as plt\n",
    "import matplotlib.cm as cm\n",
    "import os\n",
    "from unyt import Angstrom, Hz, um, eV\n",
    "from synthesizer.grid import Grid, get_available_lines\n",
    "from synthesizer.sed import Sed\n",
    "from synthesizer.filters import FilterCollection\n",
    "from synthesizer.igm import Madau96"
   ]
  },
  {
   "attachments": {},
   "cell_type": "markdown",
   "id": "3436e527",
   "metadata": {},
   "source": [
    "Let's begin by initialising a grid:"
   ]
  },
  {
   "cell_type": "code",
   "execution_count": null,
   "id": "dc8b164f-3d98-456f-8e21-b0d72d7a7ff8",
   "metadata": {},
   "outputs": [],
   "source": [
    "grid_dir = \"../../tests/test_grid/\"\n",
    "grid_name = \"test_grid\"\n",
    "grid = Grid(grid_name, grid_dir=grid_dir)"
   ]
  },
  {
   "attachments": {},
   "cell_type": "markdown",
   "id": "dcb82045",
   "metadata": {},
   "source": [
    "Next, let's define a target log10age and metallicity and use the built-in `Grid` method to get the grid point and then extract the spectrum for that grid point."
   ]
  },
  {
   "cell_type": "code",
   "execution_count": null,
   "id": "35ad7190",
   "metadata": {},
   "outputs": [],
   "source": [
    "log10age = 6.0  # log10(age/yr)\n",
    "metallicity = 0.01\n",
    "spectra_id = \"incident\"\n",
    "grid_point = grid.get_grid_point((log10age, metallicity))\n",
    "sed = grid.get_spectra(grid_point, spectra_id=spectra_id)\n",
    "sed.lnu *= 1e8  # make the SED bigger"
   ]
  },
  {
   "attachments": {},
   "cell_type": "markdown",
   "id": "c94c977f",
   "metadata": {},
   "source": [
    "Like other `synthesizer` objects, we get some basic information about the `Sed` object by using the `print` command:"
   ]
  },
  {
   "cell_type": "code",
   "execution_count": null,
   "id": "2b4b4452",
   "metadata": {},
   "outputs": [],
   "source": [
    "print(sed)"
   ]
  },
  {
   "attachments": {},
   "cell_type": "markdown",
   "id": "b21fb144",
   "metadata": {},
   "source": [
    "`Sed` objects contain a wavelength grid and luminosity in the `lam` and `lnu` attributes. Both come with units making them easy to convert:"
   ]
  },
  {
   "cell_type": "code",
   "execution_count": null,
   "id": "e2616d77",
   "metadata": {},
   "outputs": [],
   "source": [
    "print(sed.lam)\n",
    "print(sed.lnu)"
   ]
  },
  {
   "attachments": {},
   "cell_type": "markdown",
   "id": "4e274835",
   "metadata": {},
   "source": [
    "These also have more descriptive aliases:"
   ]
  },
  {
   "cell_type": "code",
   "execution_count": null,
   "id": "ef68fa8f",
   "metadata": {},
   "outputs": [],
   "source": [
    "print(sed.wavelength)\n",
    "print(sed.luminosity_nu)"
   ]
  },
  {
   "attachments": {},
   "cell_type": "markdown",
   "id": "363f3759",
   "metadata": {},
   "source": [
    "Thus we can easily make a plot:"
   ]
  },
  {
   "cell_type": "code",
   "execution_count": null,
   "id": "8c7e91fb",
   "metadata": {},
   "outputs": [],
   "source": [
    "plt.plot(np.log10(sed.lam), np.log10(sed.lnu))\n",
    "plt.show()"
   ]
  },
  {
   "attachments": {},
   "cell_type": "markdown",
   "id": "d51886ec",
   "metadata": {},
   "source": [
    "We can also get the luminosity ($L$) or spectral luminosity density per $\\AA$ ($L_{\\lambda}$): "
   ]
  },
  {
   "cell_type": "code",
   "execution_count": null,
   "id": "ffa42ddc",
   "metadata": {},
   "outputs": [],
   "source": [
    "print(sed.luminosity)\n",
    "print(sed.llam)"
   ]
  },
  {
   "attachments": {},
   "cell_type": "markdown",
   "id": "56dd48dc",
   "metadata": {},
   "source": [
    "### Scaling `Sed`s\n",
    "\n",
    "`Sed` objects can be easily scaled via the `*` operator. For example,"
   ]
  },
  {
   "cell_type": "code",
   "execution_count": null,
   "id": "14fd5ac1",
   "metadata": {},
   "outputs": [],
   "source": [
    "sed3 = sed * 10\n",
    "sed4 = 10 * sed\n",
    "\n",
    "plt.plot(np.log10(sed.lam), np.log10(sed.lnu))\n",
    "plt.plot(np.log10(sed3.lam), np.log10(sed3.lnu))\n",
    "plt.plot(np.log10(sed4.lam), np.log10(sed4.lnu))\n",
    "plt.show()"
   ]
  },
  {
   "attachments": {},
   "cell_type": "markdown",
   "id": "de31579b",
   "metadata": {},
   "source": [
    "### Methods"
   ]
  },
  {
   "attachments": {},
   "cell_type": "markdown",
   "id": "623b5609",
   "metadata": {},
   "source": [
    "#### get_bolometric_luminosity()\n",
    "\n",
    "This method allows us to calculate the bolometric luminosity of the sed. "
   ]
  },
  {
   "cell_type": "code",
   "execution_count": null,
   "id": "c3f35ac3",
   "metadata": {},
   "outputs": [],
   "source": [
    "sed.measure_bolometric_luminosity()"
   ]
  },
  {
   "attachments": {},
   "cell_type": "markdown",
   "id": "1ad27966",
   "metadata": {},
   "source": [
    "By default the above simply sums up the spectrum. However, we can also integrate the spectrum instead:"
   ]
  },
  {
   "cell_type": "code",
   "execution_count": null,
   "id": "f6d6be8d",
   "metadata": {},
   "outputs": [],
   "source": [
    "sed.measure_bolometric_luminosity(method=\"quad\")"
   ]
  },
  {
   "attachments": {},
   "cell_type": "markdown",
   "id": "c3e4ef3c",
   "metadata": {},
   "source": [
    "Under-the-hood the above uses a function to get the luminosity at a particular frequency or wavelength:"
   ]
  },
  {
   "cell_type": "code",
   "execution_count": null,
   "id": "55afce8a",
   "metadata": {},
   "outputs": [],
   "source": [
    "sed.get_lnu_at_lam(1500 * Angstrom)"
   ]
  },
  {
   "cell_type": "code",
   "execution_count": null,
   "id": "f6ba4b1d",
   "metadata": {},
   "outputs": [],
   "source": [
    "sed.get_lnu_at_nu(1e14 * Hz)"
   ]
  },
  {
   "cell_type": "code",
   "execution_count": null,
   "id": "b009326a",
   "metadata": {},
   "outputs": [],
   "source": [
    "sed.measure_window_luminosity((1400.0 * Angstrom, 1600.0 * Angstrom))"
   ]
  },
  {
   "cell_type": "code",
   "execution_count": null,
   "id": "6716e968",
   "metadata": {},
   "outputs": [],
   "source": [
    "sed.measure_window_luminosity((0.14 * um, 0.16 * um))"
   ]
  },
  {
   "cell_type": "code",
   "execution_count": null,
   "id": "6f76d8e1",
   "metadata": {},
   "outputs": [],
   "source": [
    "sed.measure_window_lnu((1400.0 * Angstrom, 1600.0 * Angstrom))"
   ]
  },
  {
   "cell_type": "code",
   "execution_count": null,
   "id": "1c460d65",
   "metadata": {},
   "outputs": [],
   "source": [
    "sed.measure_window_lnu(\n",
    "    (1400.0 * Angstrom, 1600.0 * Angstrom), method=\"average\"\n",
    ")"
   ]
  },
  {
   "cell_type": "code",
   "execution_count": null,
   "id": "029d4f71",
   "metadata": {},
   "outputs": [],
   "source": [
    "sed.measure_window_lnu((1400, 1600) * Angstrom, method=\"quad\")"
   ]
  },
  {
   "attachments": {},
   "cell_type": "markdown",
   "id": "a3e8482a",
   "metadata": {},
   "source": [
    "We can also measure a spectral break by providing two windows, e.g."
   ]
  },
  {
   "cell_type": "code",
   "execution_count": null,
   "id": "1abf4968",
   "metadata": {},
   "outputs": [],
   "source": [
    "sed.measure_break((3400, 3600) * Angstrom, (4150, 4250) * Angstrom)"
   ]
  },
  {
   "attachments": {},
   "cell_type": "markdown",
   "id": "d0accf42",
   "metadata": {},
   "source": [
    "There are also a few in-built break methods, e.g. `measure_Balmer_break()`"
   ]
  },
  {
   "cell_type": "code",
   "execution_count": null,
   "id": "2df698f8",
   "metadata": {},
   "outputs": [],
   "source": [
    "sed.measure_balmer_break()"
   ]
  },
  {
   "cell_type": "code",
   "execution_count": null,
   "id": "38913adc",
   "metadata": {},
   "outputs": [],
   "source": [
    "sed.measure_d4000()"
   ]
  },
  {
   "attachments": {},
   "cell_type": "markdown",
   "id": "45c97d43",
   "metadata": {},
   "source": [
    "We can also measure absorption line indices:"
   ]
  },
  {
   "cell_type": "code",
   "execution_count": null,
   "id": "8a50ffc3",
   "metadata": {},
   "outputs": [],
   "source": [
    "sed.measure_index(\n",
    "    (1500, 1600) * Angstrom, (1400, 1500) * Angstrom, (1600, 1700) * Angstrom\n",
    ")"
   ]
  },
  {
   "attachments": {},
   "cell_type": "markdown",
   "id": "eb48725a",
   "metadata": {},
   "source": [
    "We can also measure the UV spectral slope $\\beta$:"
   ]
  },
  {
   "cell_type": "code",
   "execution_count": null,
   "id": "1734a1ed",
   "metadata": {},
   "outputs": [],
   "source": [
    "sed.measure_beta()"
   ]
  },
  {
   "attachments": {},
   "cell_type": "markdown",
   "id": "099b456e",
   "metadata": {},
   "source": [
    "By default this uses a single window and fits the spectrum by a power-law. However, we can also specify two windows as below, in which case the luminosity in each window is calcualted and used to infer a slope:"
   ]
  },
  {
   "cell_type": "code",
   "execution_count": null,
   "id": "21456b92",
   "metadata": {},
   "outputs": [],
   "source": [
    "sed.measure_beta(window=(1250, 1750, 2250, 2750))"
   ]
  },
  {
   "cell_type": "markdown",
   "id": "914b8124",
   "metadata": {},
   "source": [
    "We can also measure ionising photon production rates for a particular ionisation energy:"
   ]
  },
  {
   "cell_type": "code",
   "execution_count": null,
   "id": "aba2653e",
   "metadata": {},
   "outputs": [],
   "source": [
    "sed.calculate_ionising_photon_production_rate(\n",
    "    ionisation_energy=13.6 * eV, limit=1000\n",
    ")"
   ]
  },
  {
   "attachments": {},
   "cell_type": "markdown",
   "id": "69f1be0c",
   "metadata": {},
   "source": [
    "## Observed frame SED\n",
    "\n",
    "To do this we need to provide a cosmology, using an `astropy.cosmology` object, a redshift $z$, and optionally an IGM absorption model."
   ]
  },
  {
   "cell_type": "code",
   "execution_count": null,
   "id": "45dea364",
   "metadata": {},
   "outputs": [],
   "source": [
    "from astropy.cosmology import Planck18 as cosmo\n",
    "\n",
    "z = 10.0  # redshift\n",
    "sed.get_fnu(cosmo, z, igm=Madau96)  # generate observed frame spectra"
   ]
  },
  {
   "attachments": {},
   "cell_type": "markdown",
   "id": "b8b6b6fc",
   "metadata": {},
   "source": [
    "## Photometry\n",
    "\n",
    "Once we have computed the observed frame SED there is a method on an `Sed` object that allows us to calculate observed photometry (the same is of course true for rest frame photometry). However, first we need to instantiate a `FilterCollection` object."
   ]
  },
  {
   "cell_type": "code",
   "execution_count": null,
   "id": "e81e62ce",
   "metadata": {},
   "outputs": [],
   "source": [
    "filter_codes = [\n",
    "    f\"JWST/NIRCam.{f}\"\n",
    "    for f in [\n",
    "        \"F070W\",\n",
    "        \"F090W\",\n",
    "        \"F115W\",\n",
    "        \"F150W\",\n",
    "        \"F200W\",\n",
    "        \"F277W\",\n",
    "        \"F356W\",\n",
    "        \"F444W\",\n",
    "    ]\n",
    "]  # define a list of filter codes\n",
    "fc = FilterCollection(filter_codes, new_lam=grid.lam)"
   ]
  },
  {
   "cell_type": "code",
   "execution_count": null,
   "id": "0405a1ad",
   "metadata": {},
   "outputs": [],
   "source": [
    "# Measure observed photometry\n",
    "fluxes = sed.get_photo_fluxes(fc)\n",
    "print(fluxes)"
   ]
  },
  {
   "attachments": {},
   "cell_type": "markdown",
   "id": "38f72dcd",
   "metadata": {},
   "source": [
    "## Multiple SEDs"
   ]
  },
  {
   "attachments": {},
   "cell_type": "markdown",
   "id": "04676ea4",
   "metadata": {},
   "source": [
    "The `Sed` object can actually hold an array of seds and the methods should all work fine."
   ]
  },
  {
   "attachments": {},
   "cell_type": "markdown",
   "id": "d23f5a95",
   "metadata": {},
   "source": [
    "Let's create an `Sed` object with two seds:"
   ]
  },
  {
   "cell_type": "code",
   "execution_count": null,
   "id": "6089f86d",
   "metadata": {},
   "outputs": [],
   "source": [
    "sed2 = Sed(sed.lam, np.array([sed.lnu, sed.lnu * 2]))"
   ]
  },
  {
   "cell_type": "code",
   "execution_count": null,
   "id": "d842fe4d",
   "metadata": {},
   "outputs": [],
   "source": [
    "sed2.measure_window_lnu((1400, 1600) * Angstrom)"
   ]
  },
  {
   "cell_type": "code",
   "execution_count": null,
   "id": "97808856",
   "metadata": {},
   "outputs": [],
   "source": [
    "sed2.measure_window_lnu((1400, 1600) * Angstrom, method=\"average\")"
   ]
  },
  {
   "cell_type": "code",
   "execution_count": null,
   "id": "addd3b8f",
   "metadata": {},
   "outputs": [],
   "source": [
    "sed2.measure_beta()"
   ]
  },
  {
   "cell_type": "code",
   "execution_count": null,
   "id": "c4e3645c",
   "metadata": {},
   "outputs": [],
   "source": [
    "sed2.measure_beta(window=(1250, 1750, 2250, 2750))"
   ]
  },
  {
   "cell_type": "code",
   "execution_count": null,
   "id": "f5f8deed",
   "metadata": {},
   "outputs": [],
   "source": [
    "sed2.measure_balmer_break()"
   ]
  },
  {
   "cell_type": "code",
   "execution_count": null,
   "id": "2994d5fe",
   "metadata": {},
   "outputs": [],
   "source": [
    "sed2.measure_index(\n",
    "    (1500, 1600) * Angstrom, (1400, 1500) * Angstrom, (1600, 1700) * Angstrom\n",
    ")"
   ]
  },
  {
   "cell_type": "markdown",
   "id": "fa44a901",
   "metadata": {},
   "source": [
    "### Combining SEDs\n",
    "\n",
    "`Sed`s can be combined either via concatenation to produce a single `Sed` holding multiple spectra from the combined `Sed`s, or by addition to add the spectra contained in two `Sed`s. \n",
    "\n",
    "To concatenate spectra we can use `Sed.concat()`."
   ]
  },
  {
   "cell_type": "code",
   "execution_count": null,
   "id": "35011a0b",
   "metadata": {},
   "outputs": [],
   "source": [
    "print(\"Shapes before:\", sed._lnu.shape, sed2._lnu.shape)\n",
    "sed3 = sed2.concat(sed)\n",
    "print(\"Combined shape:\", sed3._lnu.shape)"
   ]
  },
  {
   "cell_type": "markdown",
   "id": "376e890e",
   "metadata": {},
   "source": [
    "`Sed.concat` can take an arbitrary number of `Sed` objects to combine."
   ]
  },
  {
   "cell_type": "code",
   "execution_count": null,
   "id": "c29f5bca",
   "metadata": {},
   "outputs": [],
   "source": [
    "sed4 = sed2.concat(sed, sed2, sed3)\n",
    "print(\"Combined shape:\", sed4._lnu.shape)"
   ]
  },
  {
   "cell_type": "markdown",
   "id": "282390b5",
   "metadata": {},
   "source": [
    "If we want to add the spectra of 2 `Sed` objects we simply apply the `+` operator. However, unlike `concat`, this will only work for `Sed`s with identical shapes."
   ]
  },
  {
   "cell_type": "code",
   "execution_count": null,
   "id": "e68ce49b",
   "metadata": {},
   "outputs": [],
   "source": [
    "sed5 = sed + sed\n",
    "plt.plot(np.log10(sed.lam), np.log10(sed.lnu), label=\"sed\")\n",
    "plt.plot(np.log10(sed5.lam), np.log10(sed5.lnu), label=\"sed5\")\n",
    "plt.ylim(26, 30)\n",
    "plt.xlim(2, 5)\n",
    "plt.xlabel(r\"$\\rm log_{10}(\\lambda/\\AA)$\")\n",
    "plt.ylabel(r\"$\\rm log_{10}(L_{\\nu}/erg\\ s^{-1}\\ Hz^{-1} M_{\\odot}^{-1})$\")\n",
    "plt.legend()\n",
    "plt.show()\n",
    "plt.close()"
   ]
  },
  {
   "attachments": {},
   "cell_type": "markdown",
   "id": "55d3b546",
   "metadata": {},
   "source": [
    "## Resampling SEDs\n",
    "\n",
    "The `Sed` includes a method to resample an sed, e.g. to lower-resolution or to match observations."
   ]
  },
  {
   "cell_type": "code",
   "execution_count": null,
   "id": "b2c47c14",
   "metadata": {},
   "outputs": [],
   "source": [
    "sed6 = sed.get_resampled_sed(5)\n",
    "plt.plot(np.log10(sed.lam), np.log10(sed.lnu), label=\"Original\")\n",
    "plt.plot(np.log10(sed6.lam), np.log10(sed6.lnu), label=\"Resampled\")\n",
    "plt.xlim(2.2, 3.5)\n",
    "plt.ylim(27.0, 29.5)\n",
    "plt.xlabel(r\"$\\rm log_{10}(\\lambda/\\AA)$\")\n",
    "plt.ylabel(r\"$\\rm log_{10}(L_{\\nu}/erg\\ s^{-1}\\ Hz^{-1} M_{\\odot}^{-1})$\")\n",
    "plt.legend()\n",
    "plt.show()\n",
    "plt.close()"
   ]
  },
  {
   "cell_type": "code",
   "execution_count": null,
   "id": "6928e926",
   "metadata": {},
   "outputs": [],
   "source": [
    "print(\n",
    "    sed.measure_bolometric_luminosity() / sed3.measure_bolometric_luminosity()\n",
    ")"
   ]
  },
  {
   "cell_type": "markdown",
   "id": "8ff799a0",
   "metadata": {},
   "source": [
    "## Applying attenuation\n",
    "\n",
    "To apply attenuation to an `Sed` you can use the `apply_attenuation` method and pass the optical depth. An instance of a dust curve can also be provided but this defaults to a power law with slope = 1 (`synthesizer.dust.attenuation.PowerLaw(slope=1)`)."
   ]
  },
  {
   "cell_type": "code",
   "execution_count": null,
   "id": "39e0e53c",
   "metadata": {},
   "outputs": [],
   "source": [
    "sed4_att = sed4.apply_attenuation(tau_v=0.7)\n",
    "\n",
    "plt.plot(np.log10(sed4.lam), np.log10(sed4.lnu[0, :]), label=\"Incident\")\n",
    "plt.plot(\n",
    "    np.log10(sed4_att.lam), np.log10(sed4_att.lnu[0, :]), label=\"Attenuated\"\n",
    ")\n",
    "plt.xlim(2.2, 3.5)\n",
    "plt.ylim(26.0, 30.0)\n",
    "plt.xlabel(r\"$\\rm log_{10}(\\lambda/\\AA)$\")\n",
    "plt.ylabel(r\"$\\rm log_{10}(L_{\\nu}/erg\\ s^{-1}\\ Hz^{-1} M_{\\odot}^{-1})$\")\n",
    "plt.legend()\n",
    "plt.show()\n",
    "plt.close()"
   ]
  },
  {
   "cell_type": "markdown",
   "id": "669314bc",
   "metadata": {},
   "source": [
    "The only other argument `apply_attenuation` can take is a mask for applying attenuation to speicifc spectra in an `Sed` with multiple spectra (like an `Sed` containing the spectra for multiple particles for instance.)"
   ]
  },
  {
   "cell_type": "code",
   "execution_count": null,
   "id": "0b944d48",
   "metadata": {},
   "outputs": [],
   "source": [
    "sed7_att = sed4.apply_attenuation(\n",
    "    tau_v=0.7, mask=np.array([1, 0, 0, 0, 0, 0, 0, 0], dtype=bool)\n",
    ")\n",
    "\n",
    "plt.plot(np.log10(sed7_att.lam), np.log10(sed4.lnu[1, :]), label=\"Incident\")\n",
    "plt.plot(\n",
    "    np.log10(sed7_att.lam), np.log10(sed7_att.lnu[0, :]), label=\"Attenuated\"\n",
    ")\n",
    "plt.xlim(2.2, 3.5)\n",
    "plt.ylim(26.0, 30.0)\n",
    "plt.xlabel(r\"$\\rm log_{10}(\\lambda/\\AA)$\")\n",
    "plt.ylabel(r\"$\\rm log_{10}(L_{\\nu}/erg\\ s^{-1}\\ Hz^{-1} M_{\\odot}^{-1})$\")\n",
    "plt.legend()\n",
    "plt.show()\n",
    "plt.close()"
   ]
  },
  {
   "cell_type": "markdown",
   "metadata": {},
   "source": [
    "## Calculating transmission\n",
    "\n",
    "If you have an attenuated SED, a natural quantity to calculate is the extinction of that spectra ($A$). This can be done either at the wavelengths of the `Sed`, an arbitrary wavelength/wavelength array, or at commonly used values (1500 and 5500 angstrom) using functions available in the `sed` module. Note that these functions return the extinction/attenuation in magnitudes. Below is a demonstration."
   ]
  },
  {
   "cell_type": "code",
   "execution_count": null,
   "metadata": {},
   "outputs": [],
   "source": [
    "from unyt import um, angstrom\n",
    "from synthesizer.sed import (\n",
    "    get_attenuation,\n",
    "    get_attenuation_at_lam,\n",
    "    get_attenuation_at_1500,\n",
    "    get_attenuation_at_5500,\n",
    ")\n",
    "\n",
    "# Get an intrinsic spectra\n",
    "grid_point = grid.get_grid_point((7, 0.01))\n",
    "int_sed = grid.get_spectra(grid_point, spectra_id=\"incident\")\n",
    "\n",
    "# Get the attenuated spectra\n",
    "att_sed = int_sed.apply_attenuation(tau_v=0.7)\n",
    "\n",
    "# Get attenuation at sed.lam\n",
    "attenuation = get_attenuation(int_sed, att_sed)\n",
    "print(attenuation[~np.isnan(attenuation)])\n",
    "\n",
    "# Get attenuation at 5 microns\n",
    "att_at_5 = get_attenuation_at_lam(5 * um, int_sed, att_sed)\n",
    "print(att_at_5)\n",
    "\n",
    "# Get attenuation at an arbitrary range of wavelengths\n",
    "att_at_range = get_attenuation_at_lam(\n",
    "    np.linspace(5000, 10000, 5) * angstrom, int_sed, att_sed\n",
    ")\n",
    "print(att_at_range)\n",
    "\n",
    "# Get attenuation at 1500 angstrom\n",
    "att_at_1500 = get_attenuation_at_1500(int_sed, att_sed)\n",
    "print(att_at_1500)\n",
    "\n",
    "# Get attenuation at 5500 angstrom\n",
    "att_at_5500 = get_attenuation_at_5500(int_sed, att_sed)\n",
    "print(att_at_5500)"
   ]
  }
 ],
 "metadata": {
  "kernelspec": {
   "display_name": "venv",
   "language": "python",
   "name": "python3"
  },
  "language_info": {
   "codemirror_mode": {
    "name": "ipython",
    "version": 3
   },
   "file_extension": ".py",
   "mimetype": "text/x-python",
   "name": "python",
   "nbconvert_exporter": "python",
   "pygments_lexer": "ipython3",
   "version": "3.10.13"
  },
  "vscode": {
   "interpreter": {
    "hash": "3fbdfee1eda89f517d14c65aaeb395605ea48cc827c54c8ae1828e532ec42817"
   }
  }
 },
 "nbformat": 4,
 "nbformat_minor": 5
}
