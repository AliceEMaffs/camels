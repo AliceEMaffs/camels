{
 "cells": [
  {
   "cell_type": "markdown",
   "id": "659dcb3a-891b-4271-9073-d02efbeb14d5",
   "metadata": {},
   "source": [
    "# Blackholes\n",
    "\n",
    "Synthesizer has a collection of routines allowing us to also model the spectral energy distributions of black holes (i.e. AGN) and combine their emission with the emission of others galaxy components (i.e. stellar emission).\n",
    "\n",
    "## Particle blackholes"
   ]
  },
  {
   "cell_type": "code",
   "execution_count": null,
   "id": "d2d7676a",
   "metadata": {},
   "outputs": [],
   "source": [
    "import numpy as np\n",
    "import matplotlib.pyplot as plt\n",
    "from unyt import Msun, yr, Angstrom\n",
    "\n",
    "from synthesizer.blackhole_emission_models import UnifiedAGN\n",
    "from synthesizer.particle import BlackHoles\n",
    "from synthesizer.particle import Gas\n",
    "from synthesizer import galaxy\n",
    "\n",
    "# Set a random number seed to ensure consistent results\n",
    "np.random.seed(42)"
   ]
  },
  {
   "attachments": {},
   "cell_type": "markdown",
   "id": "8327fd4d",
   "metadata": {},
   "source": [
    "### Creating Particle Blackholes\n",
    "\n",
    "Before generating some simple observational quantities from physical properties we first need to create a `BlackHoles` object. This object can be found in `synthesizer/particle/blackholes.py`. \n",
    "\n",
    "Lets create an instance of `BlackHoles` containing 4 fake black holes. To do so we can provide a number of optional keyword arguments but for now lets just provide their masses, metallicities, coordinates and accretion rates (the parameters required for spectra calculation). Note that `masses` and `accretion_rates` are positional arguments and must therefore always be provided for `particle.BlackHoles`, while `parametric.BlackHole`s have more flexibility (see the parametric black hole [docs](parametric_blackholes.ipynb))."
   ]
  },
  {
   "cell_type": "code",
   "execution_count": null,
   "id": "79c4459f-4b18-43dd-922f-f20ad58bbfd6",
   "metadata": {
    "tags": []
   },
   "outputs": [],
   "source": [
    "# Make fake properties\n",
    "n = 4\n",
    "masses = 10 ** np.random.uniform(low=7, high=9, size=n)  # Msun\n",
    "coordinates = np.random.normal(0, 1.5, (n, 3))  # cMpc\n",
    "accretion_rates = 10 ** np.random.uniform(\n",
    "    low=-2, high=1, size=n\n",
    ")  # Msun  # Msun / yr\n",
    "metallicities = np.full(n, 0.01)\n",
    "\n",
    "# And get the black holes object\n",
    "bh = BlackHoles(\n",
    "    masses=masses,\n",
    "    coordinates=coordinates,\n",
    "    accretion_rates=accretion_rates,\n",
    "    metallicities=metallicities,\n",
    ")"
   ]
  },
  {
   "attachments": {},
   "cell_type": "markdown",
   "id": "155a2514",
   "metadata": {},
   "source": [
    "For some emission models we require an inclination. This could, in principle be calculated from the simulation and passed at instantiation, but for now we can use an in-built method to generate random inclinations."
   ]
  },
  {
   "cell_type": "code",
   "execution_count": null,
   "id": "ed4a9c3b",
   "metadata": {},
   "outputs": [],
   "source": [
    "bh.calculate_random_inclination()\n",
    "print(bh.inclination)"
   ]
  },
  {
   "attachments": {},
   "cell_type": "markdown",
   "id": "33201117",
   "metadata": {},
   "source": [
    "#### Blackhole properties"
   ]
  },
  {
   "attachments": {},
   "cell_type": "markdown",
   "id": "84687e7f",
   "metadata": {},
   "source": [
    "On initialisation a handful of properties are automatically calculated if there prerequists are provided. For example, with `masses` and `accretion_rates` `bolometric_luminosities` ($ L_{\\rm \\bullet, bol} = \\epsilon_{r}\\dot{M}_{\\bullet}c^{2} $) are automatically calcualted. Note that the radiative efficency (`epsilon`) defaults to 0.1 but can be passed as an array with a value for each particle. "
   ]
  },
  {
   "cell_type": "code",
   "execution_count": null,
   "id": "75ff6769",
   "metadata": {},
   "outputs": [],
   "source": [
    "bh.bolometric_luminosities"
   ]
  },
  {
   "cell_type": "markdown",
   "metadata": {},
   "source": [
    "Here are some more examples of calculated properties."
   ]
  },
  {
   "cell_type": "code",
   "execution_count": null,
   "id": "8e5a8bd4",
   "metadata": {},
   "outputs": [],
   "source": [
    "print(bh.eddington_ratio)\n",
    "print(bh.accretion_rate_eddington)\n",
    "print(bh.eddington_luminosity)"
   ]
  },
  {
   "cell_type": "markdown",
   "metadata": {},
   "source": [
    "As with most Synthesizer objects a summary of the object can be printed using `print`."
   ]
  },
  {
   "cell_type": "code",
   "execution_count": null,
   "id": "0d17f748",
   "metadata": {},
   "outputs": [],
   "source": [
    "print(bh)"
   ]
  },
  {
   "attachments": {},
   "cell_type": "markdown",
   "id": "da03d340",
   "metadata": {},
   "source": [
    "### Blackhole spectra and lines\n",
    "\n",
    "Blackhole spectra (and lines) can be generated by combining the `BlackHoles` object with an emission model. An emission model translates the physical properties of the blackhole(s) (e.g. `mass`, `accretion_rate`, etc.) to an spectral energy distribution. These models are described in more detail in the [associated workbook](emission_models.ipynb)."
   ]
  },
  {
   "cell_type": "code",
   "execution_count": null,
   "id": "e54b40c9",
   "metadata": {},
   "outputs": [],
   "source": [
    "# Define the emission model\n",
    "grid_dir = \"../../../tests/test_grid/\"\n",
    "emission_model = UnifiedAGN(\n",
    "    disc_model=\"test_grid_agn\", photoionisation_model=\"\", grid_dir=grid_dir\n",
    ")"
   ]
  },
  {
   "cell_type": "markdown",
   "metadata": {},
   "source": [
    "To generate spectra we then simply call the `get_intrinsic_spectra` method which will return us an `Sed` object (see the `Sed` [docs](../sed.ipynb)) containing the intrinsic integrated spectra and will also store all the spectra that went into its creation in a `spectra` dictionary on the `BlackHoles` object."
   ]
  },
  {
   "cell_type": "code",
   "execution_count": null,
   "metadata": {},
   "outputs": [],
   "source": [
    "# Generate the integrated spectra\n",
    "spectra = bh.get_spectra_intrinsic(\n",
    "    emission_model, verbose=True, grid_assignment_method=\"ngp\"\n",
    ")"
   ]
  },
  {
   "attachments": {},
   "cell_type": "markdown",
   "id": "68a89924",
   "metadata": {},
   "source": [
    "Note that we can also include the effects of diffuse dust attenuation and emission. For details see the parametric black hole [docs](parametric_blackholes.ipynb).\n",
    "\n",
    "We can now examine a single component, in this case the total intrinsic emission, using the `plot_spectra` helper method."
   ]
  },
  {
   "cell_type": "code",
   "execution_count": null,
   "id": "d0d1746f",
   "metadata": {},
   "outputs": [],
   "source": [
    "fig, ax = bh.plot_spectra(\n",
    "    show=True,\n",
    "    spectra_to_plot=[\n",
    "        \"intrinsic\",\n",
    "    ],\n",
    "    quantity_to_plot=\"luminosity\",\n",
    ")"
   ]
  },
  {
   "cell_type": "markdown",
   "metadata": {},
   "source": [
    "In addition to integrated spectra we can get a spectra per particle by calling the `get_particle_spectra_intrinsic` method. This will produce a 2D `Sed` containing the intrinsic spectra for each particle and store all created spectra in the `particle_spectra` dictionary on the `BlackHoles` object."
   ]
  },
  {
   "cell_type": "code",
   "execution_count": null,
   "metadata": {},
   "outputs": [],
   "source": [
    "# Generate the particle spectra\n",
    "spectra = bh.get_particle_spectra_intrinsic(\n",
    "    emission_model, verbose=True, grid_assignment_method=\"ngp\"\n",
    ")\n",
    "\n",
    "sed = bh.particle_spectra[\"intrinsic\"]\n",
    "\n",
    "print(sed)\n",
    "\n",
    "plt.plot(np.log10(sed.lam), np.log10(sed.luminosity.T))\n",
    "plt.ylim(\n",
    "    np.max(np.log10(sed.luminosity)) - 8,\n",
    "    np.max(np.log10(sed.luminosity)) + 0.2,\n",
    ")\n",
    "plt.xlim([2, 6])\n",
    "plt.show()"
   ]
  },
  {
   "cell_type": "markdown",
   "id": "2f86e685",
   "metadata": {},
   "source": [
    "#### Calculating black hole metallicity\n",
    "\n",
    "If we want to calculate emission from the black hole we will need to know the metallicity of the emission regions surrounding the black hole. Above we could have passed an array of metallicities at instantiation but most of the time we will not know ahead of time what these values should be. Instead we can use the gas surrounding the black hole to calculate what this metallicity is. To do this we need to first create a `Galaxy` with both a `Gas` component and `BlackHoles`, again using fake data."
   ]
  },
  {
   "cell_type": "code",
   "execution_count": null,
   "id": "e384907e",
   "metadata": {},
   "outputs": [],
   "source": [
    "# Make fake gas properties\n",
    "ngas = 200\n",
    "ms = np.full(ngas, 10**6.5)  # Msun\n",
    "pos = np.random.normal(0, 1.5, (ngas, 3))  # cMpc\n",
    "hsml = np.full(ngas, 0.75)  # cMpc\n",
    "metals = np.full(ngas, 0.01)\n",
    "\n",
    "# And make the gas object\n",
    "gas = Gas(\n",
    "    masses=ms, metallicities=metals, coordinates=pos, smoothing_lengths=hsml\n",
    ")\n",
    "\n",
    "# And now create the galaxy\n",
    "galaxy = galaxy(stars=None, gas=gas, black_holes=bh)"
   ]
  },
  {
   "cell_type": "markdown",
   "id": "02dc7334",
   "metadata": {},
   "source": [
    "Now we have the galaxy we can use `galaxy.calculate_black_hole_metallicity()` to calculate the black holes' metallicity. This method will find all gas particles with smoothing lengths that intersect the black hole and calculate the mass weighted average of their metallicity. If a black hole does not find any gas neighbours then a default metallicity is set instead, by default this is solar metallicity (0.012) but can be overwritten by passing a new `default_metallicity` as shown below."
   ]
  },
  {
   "cell_type": "code",
   "execution_count": null,
   "id": "42abc9ec",
   "metadata": {},
   "outputs": [],
   "source": [
    "galaxy.calculate_black_hole_metallicity(default_metallicity=0.07)\n",
    "print(\"Z_BH =\", galaxy.black_holes.metallicities)"
   ]
  }
 ],
 "metadata": {
  "kernelspec": {
   "display_name": "Python 3 (ipykernel)",
   "language": "python",
   "name": "python3"
  },
  "language_info": {
   "codemirror_mode": {
    "name": "ipython",
    "version": 3
   },
   "file_extension": ".py",
   "mimetype": "text/x-python",
   "name": "python",
   "nbconvert_exporter": "python",
   "pygments_lexer": "ipython3",
   "version": "3.10.4"
  },
  "vscode": {
   "interpreter": {
    "hash": "3fbdfee1eda89f517d14c65aaeb395605ea48cc827c54c8ae1828e532ec42817"
   }
  }
 },
 "nbformat": 4,
 "nbformat_minor": 5
}
