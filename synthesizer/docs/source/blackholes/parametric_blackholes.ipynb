{
 "cells": [
  {
   "attachments": {},
   "cell_type": "markdown",
   "metadata": {},
   "source": [
    "# Parametric Blackholes\n",
    "\n",
    "If you are only interested in exploring the parameter space of AGN emission without simulation data to forward model you can use a `parametric.BlackHole`. Unlike stellar emission the division between a `particle` and a `parametric` `BlackHoles`/`BlackHole` object is much more blurry. However, there are some specific differences to keep in mind:\n",
    "\n",
    "- A `parametric.BlackHole` can only ever describe a singular black hole. \n",
    "\n",
    "- A `parametric.BlackHole`'s \"position\" (i.e. if making an image) is described by a `PointSource` morphology object rather than coordinates.\n",
    "\n",
    "- A `parametric.BlackHole` exists in isolation, i.e. it does not interface directly with other parametric components.\n",
    "\n",
    "See the particle black hole [docs](particle_blackholes.ipynb) for more information."
   ]
  },
  {
   "cell_type": "code",
   "execution_count": null,
   "metadata": {},
   "outputs": [],
   "source": [
    "import numpy as np\n",
    "from synthesizer.blackhole_emission_models import UnifiedAGN\n",
    "from synthesizer.dust.attenuation import PowerLaw\n",
    "from synthesizer.dust.emission import Greybody\n",
    "from synthesizer.parametric import BlackHole\n",
    "from unyt import K, Msun, deg, yr\n",
    "\n",
    "# Set a random number seed to ensure consistent results\n",
    "np.random.seed(42)"
   ]
  },
  {
   "attachments": {},
   "cell_type": "markdown",
   "metadata": {},
   "source": [
    "First we need to initialise our `BlackHole` object with the parameters that will be needed to compute spectra."
   ]
  },
  {
   "cell_type": "code",
   "execution_count": null,
   "metadata": {},
   "outputs": [],
   "source": [
    "blackhole = BlackHole(\n",
    "    mass=1e8 * Msun,\n",
    "    inclination=60 * deg,\n",
    "    accretion_rate=1 * Msun / yr,\n",
    "    metallicity=0.01,\n",
    ")"
   ]
  },
  {
   "attachments": {},
   "cell_type": "markdown",
   "metadata": {},
   "source": [
    "Like other `synthesizer` objects we can get more information using the `print` command."
   ]
  },
  {
   "cell_type": "code",
   "execution_count": null,
   "metadata": {},
   "outputs": [],
   "source": [
    "print(blackhole)"
   ]
  },
  {
   "attachments": {},
   "cell_type": "markdown",
   "metadata": {},
   "source": [
    "### Generating spectral energy distribution"
   ]
  },
  {
   "attachments": {},
   "cell_type": "markdown",
   "metadata": {},
   "source": [
    "We can generate spectra by passing a blackhole emission model (e.g. the `UnifiedAGN` model described in [emission_models](emission_models.ipynb)) to the spectra creation method (`get_intinsic_spectra`)."
   ]
  },
  {
   "cell_type": "code",
   "execution_count": null,
   "metadata": {},
   "outputs": [],
   "source": [
    "# define the emission model\n",
    "grid_dir = \"../../../tests/test_grid/\"\n",
    "emission_model = UnifiedAGN(\n",
    "    disc_model=\"test_grid_agn\", photoionisation_model=\"\", grid_dir=grid_dir\n",
    ")\n",
    "\n",
    "# get the spectra assuming this emission model\n",
    "spectra = blackhole.get_spectra_intrinsic(\n",
    "    emission_model, grid_assignment_method=\"ngp\"\n",
    ")\n",
    "print(spectra)"
   ]
  },
  {
   "cell_type": "markdown",
   "metadata": {},
   "source": [
    "We can plot the resulting spectra using the `plot_spectra` method."
   ]
  },
  {
   "cell_type": "code",
   "execution_count": null,
   "metadata": {},
   "outputs": [],
   "source": [
    "fig, ax = blackhole.plot_spectra(\n",
    "    show=True, ylimits=(10**27.5, 10**34.0), figsize=(6, 4)\n",
    ")"
   ]
  },
  {
   "attachments": {},
   "cell_type": "markdown",
   "metadata": {},
   "source": [
    "## Including dust attenuation\n",
    "\n",
    "We can also include attenuation and emission from diffuse dust along the line of sight. To do so we simply provide a `dust_cruve` and `dust_emission_model` to `get_spectra_attenuated`. This same process can be used on `particle.BlackHoles` too."
   ]
  },
  {
   "cell_type": "code",
   "execution_count": null,
   "metadata": {},
   "outputs": [],
   "source": [
    "tau_v = 0.5\n",
    "dust_curve = PowerLaw(slope=-1.0)\n",
    "dust_emission_model = Greybody(30 * K, 1.2)\n",
    "\n",
    "# get the spectra assuming this emission model\n",
    "spectra = blackhole.get_spectra_attenuated(\n",
    "    emission_model,\n",
    "    tau_v=tau_v,\n",
    "    dust_curve=dust_curve,\n",
    "    dust_emission_model=dust_emission_model,\n",
    ")\n",
    "\n",
    "fig, ax = blackhole.plot_spectra(quantity_to_plot=\"luminosity\", figsize=(6, 6))"
   ]
  }
 ],
 "metadata": {
  "kernelspec": {
   "display_name": "venv",
   "language": "python",
   "name": "python3"
  },
  "language_info": {
   "codemirror_mode": {
    "name": "ipython",
    "version": 3
   },
   "file_extension": ".py",
   "mimetype": "text/x-python",
   "name": "python",
   "nbconvert_exporter": "python",
   "pygments_lexer": "ipython3"
  },
  "vscode": {
   "interpreter": {
    "hash": "3fbdfee1eda89f517d14c65aaeb395605ea48cc827c54c8ae1828e532ec42817"
   }
  }
 },
 "nbformat": 4,
 "nbformat_minor": 2
}
