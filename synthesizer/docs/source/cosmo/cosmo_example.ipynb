{
 "cells": [
  {
   "cell_type": "markdown",
   "id": "f9d73831-4920-4462-90e2-caab9ae7c34d",
   "metadata": {},
   "source": [
    "# Camels example\n",
    "\n",
    "Use test cosmological simulation data (from the [CAMELS simulations](https://www.camel-simulations.org/)) to generate spectra and calculate photometry."
   ]
  },
  {
   "cell_type": "code",
   "execution_count": null,
   "id": "2179ce23-c3c1-4008-a806-2be2fe8d19b2",
   "metadata": {},
   "outputs": [],
   "source": [
    "import numpy as np\n",
    "import matplotlib.pyplot as plt\n",
    "from unyt import Myr\n",
    "\n",
    "from synthesizer.grid import Grid\n",
    "from synthesizer.load_data.load_camels import load_CAMELS_IllustrisTNG\n",
    "from synthesizer.sed import Sed\n",
    "from synthesizer.filters import UVJ"
   ]
  },
  {
   "cell_type": "code",
   "execution_count": null,
   "id": "60763fdf-10e7-4bbf-bb57-9e032ef8ca2f",
   "metadata": {},
   "outputs": [],
   "source": [
    "grid_dir = \"../../../tests/test_grid\"\n",
    "grid_name = \"test_grid\"\n",
    "grid = Grid(grid_name, grid_dir=grid_dir)"
   ]
  },
  {
   "cell_type": "markdown",
   "id": "27119c75-164e-4899-9cd5-db99e0491c56",
   "metadata": {},
   "source": [
    "We then need to load our galaxy data. There are custom data loading script for different simulation codes in `synthesizer.load_data`. For CAMELS-IllutrisTNG there is the `load_CAMELS_IllutrisTNG` method\n",
    "\n",
    "If your simulation does not have its own front end, please use the templates in `synthesizer/load_data.py` to create your own."
   ]
  },
  {
   "cell_type": "code",
   "execution_count": null,
   "id": "257b1b5b-02e1-41ce-a0e2-fc48a60acab6",
   "metadata": {},
   "outputs": [],
   "source": [
    "gals = load_CAMELS_IllustrisTNG(\n",
    "    \"../../../tests/data/\",\n",
    "    snap_name=\"camels_snap.hdf5\",\n",
    "    fof_name=\"camels_subhalo.hdf5\",\n",
    ")\n",
    "\n",
    "len(gals)"
   ]
  },
  {
   "cell_type": "markdown",
   "id": "2692f1ca-5f2a-4ce6-9af4-4f4d44793a8e",
   "metadata": {},
   "source": [
    "this creates `gals`, which is a list containing a `synthesizer.Galaxy` object for each structure in the subfind file. These `Galaxy` objects contain lots of useful methods for acting on galaxies, in addition to the component parts of a galaxy. These components include `Stars`, `Gas`, and `BlackHoles`. To generate the intrinsic spectrum of the stellar component we can do the following."
   ]
  },
  {
   "cell_type": "code",
   "execution_count": null,
   "id": "ed9663c1-6eda-47ff-879e-ea919b27e2c3",
   "metadata": {},
   "outputs": [],
   "source": [
    "g = gals[1]\n",
    "spec = g.stars.get_spectra_incident(grid)"
   ]
  },
  {
   "cell_type": "markdown",
   "id": "0c292bd5-1106-4a4f-9f41-3762d16b56ac",
   "metadata": {},
   "source": [
    "Here we grab a single galaxy, and call `stars.get_spectra_incident`, providing our grid object as the first argument. This returns the spectra as an `Sed` object (see the [SED docs](../sed.ipynb)).\n",
    "\n",
    "To access the luminosity and wavelength for `_spec` we can now do"
   ]
  },
  {
   "cell_type": "code",
   "execution_count": null,
   "id": "f86ee0c4-1576-4aca-8b5e-a0b6a02c281f",
   "metadata": {},
   "outputs": [],
   "source": [
    "spec.lam[:10], spec.lnu[:10]"
   ]
  },
  {
   "cell_type": "markdown",
   "id": "189ac1f4-cb45-4308-9bce-3afb64628c76",
   "metadata": {},
   "source": [
    "Notice that these are unyt arrays with associated units. To plot the spectra manually we can do the following."
   ]
  },
  {
   "cell_type": "code",
   "execution_count": null,
   "id": "fd24ef34-11a5-46ea-9a8b-e08f4db59dfc",
   "metadata": {},
   "outputs": [],
   "source": [
    "plt.loglog(spec.lam, spec.lnu)\n",
    "plt.xlabel(\"$\\lambda \\,/\\, \\\\AA$\")\n",
    "plt.ylabel(\"$L_{\\\\nu} \\,/\\, \\mathrm{erg \\; s^{-1} \\; Hz^{-1}}$\")"
   ]
  },
  {
   "cell_type": "markdown",
   "id": "13b752db-15e1-4e43-8fc2-c51fcf24d260",
   "metadata": {},
   "source": [
    "However, we can also use the `stars.plot_spectra` method in the stars object (and, indeed, all other components) to plot all of the spectra associated with a galaxy at once."
   ]
  },
  {
   "cell_type": "code",
   "execution_count": null,
   "id": "a7403cf9-d47d-40db-84aa-a7cec988907c",
   "metadata": {},
   "outputs": [],
   "source": [
    "g.stars.plot_spectra()\n",
    "plt.show()"
   ]
  },
  {
   "cell_type": "markdown",
   "id": "6ee17154-ba95-49b3-b640-9beadfcffe89",
   "metadata": {},
   "source": [
    "Why might you want to create an `Sed` object? This class contains a lot of useful functionality for working with SED's. For example, we can calculate the broadband luminosities.\n",
    "\n",
    "First, get rest frame 'flux' from the `Sed`."
   ]
  },
  {
   "cell_type": "code",
   "execution_count": null,
   "id": "3ca8c05b-3225-47cc-af55-5c17362fb709",
   "metadata": {},
   "outputs": [],
   "source": [
    "spec.get_fnu0()"
   ]
  },
  {
   "cell_type": "markdown",
   "id": "7ce7efa9-4645-49cc-902d-c5a323bafb85",
   "metadata": {},
   "source": [
    "To get broadband luminosity we first need to define a filter collection object (UVJ default)."
   ]
  },
  {
   "cell_type": "code",
   "execution_count": null,
   "id": "5f8b0be1-4211-42d6-87f2-2657c36a86a0",
   "metadata": {},
   "outputs": [],
   "source": [
    "fc = UVJ(new_lam=grid.lam)"
   ]
  },
  {
   "cell_type": "markdown",
   "metadata": {},
   "source": [
    "And then we can apply it using the `Sed` helper function."
   ]
  },
  {
   "cell_type": "code",
   "execution_count": null,
   "metadata": {},
   "outputs": [],
   "source": [
    "_UVJ = spec.get_photo_fluxes(fc)\n",
    "print(_UVJ)"
   ]
  },
  {
   "cell_type": "markdown",
   "id": "66cad23c-6bcf-4d51-95f1-991500757210",
   "metadata": {},
   "source": [
    "## Young and old stellar populations\n",
    "\n",
    "We restrict the age of star particles used for calculating the spectra. The age is specified by the `young` and `old` parameters; these default to `None`, but if set to a value of age (in units of Myrs) they will filter the star particles above or below this value. If both `young` and `old` are set, the code will raise an error."
   ]
  },
  {
   "cell_type": "code",
   "execution_count": null,
   "id": "bd93ce3f-047e-46d4-9f97-501ae5e5ccbc",
   "metadata": {},
   "outputs": [],
   "source": [
    "young_spec = g.stars.get_spectra_incident(grid, young=100 * Myr)\n",
    "old_spec = g.stars.get_spectra_incident(grid, old=100 * Myr)\n",
    "\n",
    "plt.loglog(young_spec.lam, young_spec.lnu, label=\"young\")\n",
    "plt.loglog(old_spec.lam, old_spec.lnu, label=\"old\")\n",
    "plt.legend()\n",
    "plt.xlabel(\"$\\lambda \\,/\\, \\\\AA$\")\n",
    "plt.ylabel(\"$L_{\\\\nu} \\,/\\, \\mathrm{erg \\; s^{-1} \\; Hz^{-1}}$\")"
   ]
  },
  {
   "cell_type": "markdown",
   "id": "a6c72d4c-ba70-4e4e-b999-6d77e63e0f79",
   "metadata": {},
   "source": [
    "## Nebular emission\n",
    "\n",
    "If our grid file has been post-processed with CLOUDY we can produce the nebular emission for our camels galaxies. `get_spectra_nebular` produces the pure nebular emission"
   ]
  },
  {
   "cell_type": "code",
   "execution_count": null,
   "id": "2f71c532-42c7-4515-b08e-33238946b08c",
   "metadata": {},
   "outputs": [],
   "source": [
    "spec = g.stars.get_spectra_nebular(grid)\n",
    "fig, ax = g.stars.plot_spectra()\n",
    "plt.show()"
   ]
  },
  {
   "attachments": {},
   "cell_type": "markdown",
   "id": "bb462bc7-82ad-41f6-9fb3-99576c57305f",
   "metadata": {},
   "source": [
    "`get_spectra_reprocessed` calculates the gas reprocessed spectra, which we refer to as the *reprocessed* spectra, assuming some escape fraction `fesc`. The combination of the  *reprocessed* and  *escaped* spectra is the *intrinsic* spectra. "
   ]
  },
  {
   "cell_type": "code",
   "execution_count": null,
   "id": "f37ae827-3383-486c-a12c-9f8c5e01cae4",
   "metadata": {},
   "outputs": [],
   "source": [
    "spec = g.stars.get_spectra_reprocessed(grid, fesc=0.1)\n",
    "fig, ax = g.stars.plot_spectra()\n",
    "plt.show()"
   ]
  },
  {
   "cell_type": "markdown",
   "id": "88c3e098-a60d-43d7-b406-2ec90227b47c",
   "metadata": {},
   "source": [
    "## Dust attenuation\n",
    "\n",
    "We can apply a range of different dust models to our intrinsic spectra. `get_spectra_screen` applies a simple dust screen to all stellar particles, assuming a V band optical depth $\\tau_V$"
   ]
  },
  {
   "cell_type": "code",
   "execution_count": null,
   "id": "7532ff8b-fd16-43bc-9722-95662a3174b1",
   "metadata": {},
   "outputs": [],
   "source": [
    "spec = g.stars.get_spectra_screen(grid, tau_v=0.33)\n",
    "fig, ax = g.stars.plot_spectra(spectra_to_plot=[\"intrinsic\", \"emergent\"])\n",
    "plt.show()"
   ]
  },
  {
   "cell_type": "markdown",
   "id": "9bb5e078-4003-47c4-a6ad-ca2ea5f8a272",
   "metadata": {},
   "source": [
    "`get_spectra_CharlotFall` applies the [Charlot & Fall+00](https://ui.adsabs.harvard.edu/abs/2000ApJ...539..718C/abstract) two component dust screen model, with V band attenuation for young and old populations defined by the $\\tau_V^{BC}$ and $\\tau_V^{ISM}$"
   ]
  },
  {
   "cell_type": "code",
   "execution_count": null,
   "id": "d7c05e29-920d-4059-9082-93f33e036ed4",
   "metadata": {},
   "outputs": [],
   "source": [
    "spec = g.stars.get_spectra_CharlotFall(grid, tau_v_ISM=0.33, tau_v_BC=0.67)\n",
    "fig, ax = g.stars.plot_spectra(spectra_to_plot=[\"intrinsic\", \"emergent\"])\n",
    "plt.show()"
   ]
  },
  {
   "cell_type": "markdown",
   "id": "51f36a5e-e724-4410-aeb4-19672edcfbb8",
   "metadata": {},
   "source": [
    "### Multiple galaxies \n",
    "If we want to create spectra for multiple galaxies we can use a list comprehension. Here we grab the luminosity `lnu` of each galaxy into a list, and combine into a single sed object afterwards using the grid wavelength."
   ]
  },
  {
   "cell_type": "code",
   "execution_count": null,
   "id": "d1548ddc-8056-4ca4-a91c-08563ae664a0",
   "metadata": {},
   "outputs": [],
   "source": [
    "specs = np.vstack([g.stars.get_spectra_incident(grid).lnu for g in gals])\n",
    "specs = Sed(lam=grid.lam, lnu=specs)"
   ]
  },
  {
   "cell_type": "markdown",
   "id": "d9463d3b-af92-496d-a2a1-1b3db5c6375c",
   "metadata": {},
   "source": [
    "Importantly here, we don't create an SED object for each galaxy spectra. We instead create the 2D array of spectra, and then create an `Sed` object for the whole collection."
   ]
  },
  {
   "cell_type": "code",
   "execution_count": null,
   "id": "e5a328c7-29f0-4f2b-b28b-a24f5d0b9e6e",
   "metadata": {},
   "outputs": [],
   "source": [
    "fig, ax = plt.subplots(1, 1)\n",
    "ax.loglog(grid.lam, specs.lnu.T)\n",
    "ax.set_ylim(\n",
    "    1e22,\n",
    ")\n",
    "ax.set_xlim(1e2, 2e4)\n",
    "ax.set_xlabel(\"$\\lambda \\,/\\, \\\\AA$\")\n",
    "ax.set_ylabel(\"$L_{\\\\nu} \\,/\\, \\mathrm{erg \\; s^{-1} \\; Hz^{-1}}$\")"
   ]
  },
  {
   "cell_type": "markdown",
   "id": "3b71daa5-01aa-417b-ab69-d2fba513214d",
   "metadata": {},
   "source": [
    "### Calculate broadband luminosities\n",
    "\n",
    "We can then use the `Sed` methods on the whole collection. This is much faster than calling the method for each spectra individually, since we can take advantage of vectorisation. For example, we can calculate UVJ colours of all the selected galaxies in just a couple of lines.\n",
    "\n",
    "First get rest frame 'flux'"
   ]
  },
  {
   "cell_type": "code",
   "execution_count": null,
   "id": "fe5d7e32-edef-40e6-81fc-3e9c45da2b7e",
   "metadata": {},
   "outputs": [],
   "source": [
    "spec.get_fnu0()"
   ]
  },
  {
   "cell_type": "markdown",
   "id": "6831868c-56d2-4b66-b77f-d1a31abadd88",
   "metadata": {},
   "source": [
    "Define a filter collection object (UVJ default) and calculate the photometry."
   ]
  },
  {
   "cell_type": "code",
   "execution_count": null,
   "id": "73d594c2-880d-4566-b7ba-70e566c79145",
   "metadata": {},
   "outputs": [],
   "source": [
    "fc = UVJ(new_lam=grid.lam)\n",
    "\n",
    "_UVJ = spec.get_photo_fluxes(fc)\n",
    "print(_UVJ)"
   ]
  },
  {
   "cell_type": "markdown",
   "id": "cc54f3fb-66b3-40b2-9cb1-41ad3935f856",
   "metadata": {},
   "source": [
    "Do for multiple, plot UVJ diagram, coloured by $M_{\\star}$"
   ]
  },
  {
   "cell_type": "code",
   "execution_count": null,
   "id": "665db5c1-ae17-4a52-ba44-9fc7c6be6012",
   "metadata": {},
   "outputs": [],
   "source": [
    "mstar = np.log10(\n",
    "    np.array([np.sum(g.stars.initial_masses) for g in gals]) * 1e10\n",
    ")"
   ]
  },
  {
   "cell_type": "code",
   "execution_count": null,
   "id": "e7bfdb47-4a37-47e8-b570-8d633b4d2095",
   "metadata": {},
   "outputs": [],
   "source": [
    "specs.get_fnu0()\n",
    "_UVJ = specs.get_photo_fluxes(fc)\n",
    "\n",
    "UV = _UVJ[\"U\"] / _UVJ[\"V\"]\n",
    "VJ = _UVJ[\"V\"] / _UVJ[\"J\"]\n",
    "\n",
    "plt.scatter(VJ, UV, c=mstar, s=40)\n",
    "plt.xlabel(\"VJ\")\n",
    "plt.ylabel(\"UV\")\n",
    "plt.colorbar(label=\"$\\mathrm{log_{10}} \\, M_{\\star} \\,/\\, \\mathrm{M_{\\odot}}$\")"
   ]
  }
 ],
 "metadata": {
  "kernelspec": {
   "display_name": "synthesizer-env",
   "language": "python",
   "name": "python3"
  },
  "language_info": {
   "codemirror_mode": {
    "name": "ipython",
    "version": 3
   },
   "file_extension": ".py",
   "mimetype": "text/x-python",
   "name": "python",
   "nbconvert_exporter": "python",
   "pygments_lexer": "ipython3",
   "version": "3.10.4"
  }
 },
 "nbformat": 4,
 "nbformat_minor": 5
}
