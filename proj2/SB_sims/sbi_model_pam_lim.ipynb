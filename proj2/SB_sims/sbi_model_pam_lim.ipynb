{
 "cells": [
  {
   "cell_type": "code",
   "execution_count": 1,
   "metadata": {},
   "outputs": [
    {
     "name": "stdout",
     "output_type": "stream",
     "text": [
      "Saving model in  /disk/xray15/aem2/data/28pams/IllustrisTNG/SB/models/lf_only/\n",
      "Saving plots in  /disk/xray15/aem2/plots/28pams/IllustrisTNG/SB/test/sbi_plots/lfs_only/\n"
     ]
    }
   ],
   "source": [
    "\n",
    "import pandas as pd\n",
    "import numpy as np\n",
    "import sys\n",
    "from sklearn.model_selection import train_test_split\n",
    "import GPUtil\n",
    "import itertools\n",
    "import pickle\n",
    "from datetime import datetime\n",
    "import os\n",
    "from pathlib import Path\n",
    "import matplotlib.pyplot as plt\n",
    "import matplotlib.colors as mcolors\n",
    "import torch\n",
    "import torch.nn as nn\n",
    "from sklearn.preprocessing import Normalizer\n",
    "import joblib\n",
    "import ili  # Import ili for the SBI functionality\n",
    "from ili.dataloaders import NumpyLoader\n",
    "from ili.inference import InferenceRunner\n",
    "from ili.validation.metrics import PosteriorCoverage, PlotSinglePosterior\n",
    "\n",
    "from sbi.utils.user_input_checks import process_prior\n",
    "\n",
    "sys.path.append(\"/disk/xray15/aem2/camels/proj2\")\n",
    "from setup_params_1P import plot_uvlf, plot_colour\n",
    "from setup_params_SB import *\n",
    "# from setup_params import *\n",
    "from priors_SB import initialise_priors_SB28\n",
    "from variables_config_28 import uvlf_limits, n_bins_lf, colour_limits, n_bins_colour\n",
    "# parameters\n",
    "device = \"cuda\" if torch.cuda.is_available() else \"cpu\"\n",
    "model = \"IllustrisTNG\"\n",
    "spec_type = \"attenuated\"\n",
    "sps = \"BC03\"\n",
    "snap = [\"044\"]\n",
    "bands = \"all\" # or just GALEX?\n",
    "\n",
    "colours = False  \n",
    "luminosity_functions = True\n",
    "name = f\"{model}_{bands}_{sps}_{spec_type}_{n_bins_lf}_{n_bins_colour}\"\n",
    "\n",
    "cam = camels(model=model, sim_set='SB28')\n",
    "\n",
    "if colours and not luminosity_functions:\n",
    "    model_out_dir = \"/disk/xray15/aem2/data/28pams/IllustrisTNG/SB/models/colours_only/\"\n",
    "    plots_out_dir = \"/disk/xray15/aem2/plots/28pams/IllustrisTNG/SB/test/sbi_plots/colours_only/\"\n",
    "    \n",
    "elif luminosity_functions and not colours:\n",
    "    model_out_dir = \"/disk/xray15/aem2/data/28pams/IllustrisTNG/SB/models/lf_only/\"\n",
    "    plots_out_dir = \"/disk/xray15/aem2/plots/28pams/IllustrisTNG/SB/test/sbi_plots/lfs_only/\"\n",
    "\n",
    "elif colours and luminosity_functions:\n",
    "    model_out_dir = \"/disk/xray15/aem2/data/28pams/IllustrisTNG/SB/models/colours_lfs/\"\n",
    "    plots_out_dir = \"/disk/xray15/aem2/plots/28pams/IllustrisTNG/SB/test/sbi_plots/colours_lfs/\"\n",
    "\n",
    "else:\n",
    "    raise ValueError(\"At least one of colours or luminosity_functions must be True\")\n",
    "\n",
    "print(\"Saving model in \", model_out_dir)\n",
    "print(\"Saving plots in \", plots_out_dir)\n",
    "\n"
   ]
  },
  {
   "cell_type": "code",
   "execution_count": 2,
   "metadata": {},
   "outputs": [
    {
     "name": "stdout",
     "output_type": "stream",
     "text": [
      "(-25, -14)\n"
     ]
    }
   ],
   "source": [
    "print(uvlf_limits)"
   ]
  },
  {
   "cell_type": "code",
   "execution_count": 3,
   "metadata": {},
   "outputs": [
    {
     "name": "stdout",
     "output_type": "stream",
     "text": [
      "          #Name    Omega0    sigma8  WindEnergyIn1e51erg  RadioFeedbackFactor  \\\n",
      "0        SB28_0  0.352541  0.694742              3.85743             1.519210   \n",
      "1        SB28_1  0.172430  0.830154              1.03554             0.797734   \n",
      "2        SB28_2  0.234683  0.705844              9.61416             3.380650   \n",
      "3        SB28_3  0.440288  0.969259              2.14363             0.488165   \n",
      "4        SB28_4  0.457152  0.786733              1.38466             0.325727   \n",
      "...         ...       ...       ...                  ...                  ...   \n",
      "2043  SB28_2043  0.457334  0.970226              8.89733             0.607197   \n",
      "2044  SB28_2044  0.440496  0.786137              5.34131             0.880840   \n",
      "2045  SB28_2045  0.234475  0.938760              1.49723             1.873430   \n",
      "2046  SB28_2046  0.172613  0.612888             13.31250             0.363806   \n",
      "2047  SB28_2047  0.352358  0.862216              3.09935             3.331570   \n",
      "\n",
      "      VariableWindVelFactor  RadioFeedbackReiorientationFactor  OmegaBaryon  \\\n",
      "0                   9.09267                            14.2845     0.049404   \n",
      "1                   6.95693                            38.2374     0.031199   \n",
      "2                   3.77681                            24.6592     0.042995   \n",
      "3                  11.49660                            10.9550     0.062295   \n",
      "4                  13.19410                            17.1439     0.044425   \n",
      "...                     ...                                ...          ...   \n",
      "2043                3.75653                            39.5139     0.046041   \n",
      "2044                5.04789                            21.6844     0.063161   \n",
      "2045               13.26680                            13.5869     0.042461   \n",
      "2046                8.64069                            17.7159     0.029257   \n",
      "2047                5.64656                            33.6239     0.051052   \n",
      "\n",
      "      HubbleParam       n_s  ...  WindEnergyReductionExponent  WindDumpFactor  \\\n",
      "0        0.498145  0.795765  ...                      1.61148        0.435971   \n",
      "1        0.683693  1.142160  ...                      2.08951        0.612056   \n",
      "2        0.849506  0.923545  ...                      1.33988        0.878906   \n",
      "3        0.638970  0.964648  ...                      2.86478        0.253435   \n",
      "4        0.773770  0.900256  ...                      2.59030        0.944457   \n",
      "...           ...       ...  ...                          ...             ...   \n",
      "2043     0.513293  0.828903  ...                      1.88784        0.725070   \n",
      "2044     0.748997  1.143290  ...                      1.66098        0.472330   \n",
      "2045     0.534548  0.796116  ...                      2.13803        0.698393   \n",
      "2046     0.600362  0.965127  ...                      1.38572        0.818457   \n",
      "2047     0.789823  0.924799  ...                      2.90964        0.242951   \n",
      "\n",
      "      SeedBlackHoleMass  BlackHoleAccretionFactor  BlackHoleEddingtonFactor  \\\n",
      "0              0.000069                  1.111740                  2.613460   \n",
      "1              0.000094                  0.889955                  0.302262   \n",
      "2              0.000153                  0.364219                  8.235920   \n",
      "3              0.000041                  2.775960                  0.950425   \n",
      "4              0.000049                  0.286789                  1.121900   \n",
      "...                 ...                       ...                       ...   \n",
      "2043           0.000054                  0.327481                  4.790910   \n",
      "2044           0.000038                  2.229260                  0.222157   \n",
      "2045           0.000174                  0.453541                  1.920250   \n",
      "2046           0.000090                  0.718570                  0.698528   \n",
      "2047           0.000070                  1.376900                  6.051620   \n",
      "\n",
      "      BlackHoleFeedbackFactor  BlackHoleRadiativeEfficiency  QuasarThreshold  \\\n",
      "0                    0.039463                      0.225386         0.000269   \n",
      "1                    0.151352                      0.086231         0.022802   \n",
      "2                    0.099772                      0.648096         0.001458   \n",
      "3                    0.349945                      0.126670         0.004242   \n",
      "4                    0.032352                      0.460414         0.007438   \n",
      "...                       ...                           ...              ...   \n",
      "2043                 0.033553                      0.481742         0.001252   \n",
      "2044                 0.397001                      0.109068         0.000416   \n",
      "2045                 0.087029                      0.682619         0.006263   \n",
      "2046                 0.158683                      0.083655         0.000071   \n",
      "2047                 0.038037                      0.256220         0.036493   \n",
      "\n",
      "      QuasarThresholdPower   seed  \n",
      "0                 0.514648  20000  \n",
      "1                 2.620780  20001  \n",
      "2                 3.389560  20002  \n",
      "3                 1.494400  20003  \n",
      "4                 2.299550  20004  \n",
      "...                    ...    ...  \n",
      "2043              2.191720  22043  \n",
      "2044              1.012360  22044  \n",
      "2045              3.117210  22045  \n",
      "2046              2.887940  22046  \n",
      "2047              0.994068  22047  \n",
      "\n",
      "[2048 rows x 30 columns]\n"
     ]
    }
   ],
   "source": [
    "\n",
    "# parameter info file (df_info) is used for defining priors\n",
    "# the actual parameter values come from the camels class which reads CosmoAstroSeed_IllustrisTNG_L25n256_SB28.txt\n",
    "\n",
    "#  parameters defined here: /disk/xray15/aem2/data/28pams/IllustrisTNG/SB/CosmoAstroSeed_IllustrisTNG_L25n256_SB28.txt which is used for theta\n",
    "df_pars = pd.read_csv('/disk/xray15/aem2/data/28pams/IllustrisTNG/SB/CosmoAstroSeed_IllustrisTNG_L25n256_SB28.txt', delim_whitespace=True)\n",
    "print(df_pars)\n"
   ]
  },
  {
   "cell_type": "code",
   "execution_count": 4,
   "metadata": {},
   "outputs": [
    {
     "data": {
      "text/html": [
       "<div>\n",
       "<style scoped>\n",
       "    .dataframe tbody tr th:only-of-type {\n",
       "        vertical-align: middle;\n",
       "    }\n",
       "\n",
       "    .dataframe tbody tr th {\n",
       "        vertical-align: top;\n",
       "    }\n",
       "\n",
       "    .dataframe thead th {\n",
       "        text-align: right;\n",
       "    }\n",
       "</style>\n",
       "<table border=\"1\" class=\"dataframe\">\n",
       "  <thead>\n",
       "    <tr style=\"text-align: right;\">\n",
       "      <th></th>\n",
       "      <th>#Name</th>\n",
       "      <th>Omega0</th>\n",
       "      <th>sigma8</th>\n",
       "      <th>WindEnergyIn1e51erg</th>\n",
       "      <th>RadioFeedbackFactor</th>\n",
       "      <th>VariableWindVelFactor</th>\n",
       "      <th>RadioFeedbackReiorientationFactor</th>\n",
       "      <th>OmegaBaryon</th>\n",
       "      <th>HubbleParam</th>\n",
       "      <th>n_s</th>\n",
       "      <th>...</th>\n",
       "      <th>WindEnergyReductionExponent</th>\n",
       "      <th>WindDumpFactor</th>\n",
       "      <th>SeedBlackHoleMass</th>\n",
       "      <th>BlackHoleAccretionFactor</th>\n",
       "      <th>BlackHoleEddingtonFactor</th>\n",
       "      <th>BlackHoleFeedbackFactor</th>\n",
       "      <th>BlackHoleRadiativeEfficiency</th>\n",
       "      <th>QuasarThreshold</th>\n",
       "      <th>QuasarThresholdPower</th>\n",
       "      <th>seed</th>\n",
       "    </tr>\n",
       "  </thead>\n",
       "  <tbody>\n",
       "    <tr>\n",
       "      <th>0</th>\n",
       "      <td>SB28_0</td>\n",
       "      <td>0.352541</td>\n",
       "      <td>0.694742</td>\n",
       "      <td>3.85743</td>\n",
       "      <td>1.519210</td>\n",
       "      <td>9.09267</td>\n",
       "      <td>14.2845</td>\n",
       "      <td>0.049404</td>\n",
       "      <td>0.498145</td>\n",
       "      <td>0.795765</td>\n",
       "      <td>...</td>\n",
       "      <td>1.61148</td>\n",
       "      <td>0.435971</td>\n",
       "      <td>0.000069</td>\n",
       "      <td>1.111740</td>\n",
       "      <td>2.613460</td>\n",
       "      <td>0.039463</td>\n",
       "      <td>0.225386</td>\n",
       "      <td>0.000269</td>\n",
       "      <td>0.514648</td>\n",
       "      <td>20000</td>\n",
       "    </tr>\n",
       "    <tr>\n",
       "      <th>1</th>\n",
       "      <td>SB28_1</td>\n",
       "      <td>0.172430</td>\n",
       "      <td>0.830154</td>\n",
       "      <td>1.03554</td>\n",
       "      <td>0.797734</td>\n",
       "      <td>6.95693</td>\n",
       "      <td>38.2374</td>\n",
       "      <td>0.031199</td>\n",
       "      <td>0.683693</td>\n",
       "      <td>1.142160</td>\n",
       "      <td>...</td>\n",
       "      <td>2.08951</td>\n",
       "      <td>0.612056</td>\n",
       "      <td>0.000094</td>\n",
       "      <td>0.889955</td>\n",
       "      <td>0.302262</td>\n",
       "      <td>0.151352</td>\n",
       "      <td>0.086231</td>\n",
       "      <td>0.022802</td>\n",
       "      <td>2.620780</td>\n",
       "      <td>20001</td>\n",
       "    </tr>\n",
       "    <tr>\n",
       "      <th>2</th>\n",
       "      <td>SB28_2</td>\n",
       "      <td>0.234683</td>\n",
       "      <td>0.705844</td>\n",
       "      <td>9.61416</td>\n",
       "      <td>3.380650</td>\n",
       "      <td>3.77681</td>\n",
       "      <td>24.6592</td>\n",
       "      <td>0.042995</td>\n",
       "      <td>0.849506</td>\n",
       "      <td>0.923545</td>\n",
       "      <td>...</td>\n",
       "      <td>1.33988</td>\n",
       "      <td>0.878906</td>\n",
       "      <td>0.000153</td>\n",
       "      <td>0.364219</td>\n",
       "      <td>8.235920</td>\n",
       "      <td>0.099772</td>\n",
       "      <td>0.648096</td>\n",
       "      <td>0.001458</td>\n",
       "      <td>3.389560</td>\n",
       "      <td>20002</td>\n",
       "    </tr>\n",
       "    <tr>\n",
       "      <th>3</th>\n",
       "      <td>SB28_3</td>\n",
       "      <td>0.440288</td>\n",
       "      <td>0.969259</td>\n",
       "      <td>2.14363</td>\n",
       "      <td>0.488165</td>\n",
       "      <td>11.49660</td>\n",
       "      <td>10.9550</td>\n",
       "      <td>0.062295</td>\n",
       "      <td>0.638970</td>\n",
       "      <td>0.964648</td>\n",
       "      <td>...</td>\n",
       "      <td>2.86478</td>\n",
       "      <td>0.253435</td>\n",
       "      <td>0.000041</td>\n",
       "      <td>2.775960</td>\n",
       "      <td>0.950425</td>\n",
       "      <td>0.349945</td>\n",
       "      <td>0.126670</td>\n",
       "      <td>0.004242</td>\n",
       "      <td>1.494400</td>\n",
       "      <td>20003</td>\n",
       "    </tr>\n",
       "    <tr>\n",
       "      <th>4</th>\n",
       "      <td>SB28_4</td>\n",
       "      <td>0.457152</td>\n",
       "      <td>0.786733</td>\n",
       "      <td>1.38466</td>\n",
       "      <td>0.325727</td>\n",
       "      <td>13.19410</td>\n",
       "      <td>17.1439</td>\n",
       "      <td>0.044425</td>\n",
       "      <td>0.773770</td>\n",
       "      <td>0.900256</td>\n",
       "      <td>...</td>\n",
       "      <td>2.59030</td>\n",
       "      <td>0.944457</td>\n",
       "      <td>0.000049</td>\n",
       "      <td>0.286789</td>\n",
       "      <td>1.121900</td>\n",
       "      <td>0.032352</td>\n",
       "      <td>0.460414</td>\n",
       "      <td>0.007438</td>\n",
       "      <td>2.299550</td>\n",
       "      <td>20004</td>\n",
       "    </tr>\n",
       "    <tr>\n",
       "      <th>...</th>\n",
       "      <td>...</td>\n",
       "      <td>...</td>\n",
       "      <td>...</td>\n",
       "      <td>...</td>\n",
       "      <td>...</td>\n",
       "      <td>...</td>\n",
       "      <td>...</td>\n",
       "      <td>...</td>\n",
       "      <td>...</td>\n",
       "      <td>...</td>\n",
       "      <td>...</td>\n",
       "      <td>...</td>\n",
       "      <td>...</td>\n",
       "      <td>...</td>\n",
       "      <td>...</td>\n",
       "      <td>...</td>\n",
       "      <td>...</td>\n",
       "      <td>...</td>\n",
       "      <td>...</td>\n",
       "      <td>...</td>\n",
       "      <td>...</td>\n",
       "    </tr>\n",
       "    <tr>\n",
       "      <th>2043</th>\n",
       "      <td>SB28_2043</td>\n",
       "      <td>0.457334</td>\n",
       "      <td>0.970226</td>\n",
       "      <td>8.89733</td>\n",
       "      <td>0.607197</td>\n",
       "      <td>3.75653</td>\n",
       "      <td>39.5139</td>\n",
       "      <td>0.046041</td>\n",
       "      <td>0.513293</td>\n",
       "      <td>0.828903</td>\n",
       "      <td>...</td>\n",
       "      <td>1.88784</td>\n",
       "      <td>0.725070</td>\n",
       "      <td>0.000054</td>\n",
       "      <td>0.327481</td>\n",
       "      <td>4.790910</td>\n",
       "      <td>0.033553</td>\n",
       "      <td>0.481742</td>\n",
       "      <td>0.001252</td>\n",
       "      <td>2.191720</td>\n",
       "      <td>22043</td>\n",
       "    </tr>\n",
       "    <tr>\n",
       "      <th>2044</th>\n",
       "      <td>SB28_2044</td>\n",
       "      <td>0.440496</td>\n",
       "      <td>0.786137</td>\n",
       "      <td>5.34131</td>\n",
       "      <td>0.880840</td>\n",
       "      <td>5.04789</td>\n",
       "      <td>21.6844</td>\n",
       "      <td>0.063161</td>\n",
       "      <td>0.748997</td>\n",
       "      <td>1.143290</td>\n",
       "      <td>...</td>\n",
       "      <td>1.66098</td>\n",
       "      <td>0.472330</td>\n",
       "      <td>0.000038</td>\n",
       "      <td>2.229260</td>\n",
       "      <td>0.222157</td>\n",
       "      <td>0.397001</td>\n",
       "      <td>0.109068</td>\n",
       "      <td>0.000416</td>\n",
       "      <td>1.012360</td>\n",
       "      <td>22044</td>\n",
       "    </tr>\n",
       "    <tr>\n",
       "      <th>2045</th>\n",
       "      <td>SB28_2045</td>\n",
       "      <td>0.234475</td>\n",
       "      <td>0.938760</td>\n",
       "      <td>1.49723</td>\n",
       "      <td>1.873430</td>\n",
       "      <td>13.26680</td>\n",
       "      <td>13.5869</td>\n",
       "      <td>0.042461</td>\n",
       "      <td>0.534548</td>\n",
       "      <td>0.796116</td>\n",
       "      <td>...</td>\n",
       "      <td>2.13803</td>\n",
       "      <td>0.698393</td>\n",
       "      <td>0.000174</td>\n",
       "      <td>0.453541</td>\n",
       "      <td>1.920250</td>\n",
       "      <td>0.087029</td>\n",
       "      <td>0.682619</td>\n",
       "      <td>0.006263</td>\n",
       "      <td>3.117210</td>\n",
       "      <td>22045</td>\n",
       "    </tr>\n",
       "    <tr>\n",
       "      <th>2046</th>\n",
       "      <td>SB28_2046</td>\n",
       "      <td>0.172613</td>\n",
       "      <td>0.612888</td>\n",
       "      <td>13.31250</td>\n",
       "      <td>0.363806</td>\n",
       "      <td>8.64069</td>\n",
       "      <td>17.7159</td>\n",
       "      <td>0.029257</td>\n",
       "      <td>0.600362</td>\n",
       "      <td>0.965127</td>\n",
       "      <td>...</td>\n",
       "      <td>1.38572</td>\n",
       "      <td>0.818457</td>\n",
       "      <td>0.000090</td>\n",
       "      <td>0.718570</td>\n",
       "      <td>0.698528</td>\n",
       "      <td>0.158683</td>\n",
       "      <td>0.083655</td>\n",
       "      <td>0.000071</td>\n",
       "      <td>2.887940</td>\n",
       "      <td>22046</td>\n",
       "    </tr>\n",
       "    <tr>\n",
       "      <th>2047</th>\n",
       "      <td>SB28_2047</td>\n",
       "      <td>0.352358</td>\n",
       "      <td>0.862216</td>\n",
       "      <td>3.09935</td>\n",
       "      <td>3.331570</td>\n",
       "      <td>5.64656</td>\n",
       "      <td>33.6239</td>\n",
       "      <td>0.051052</td>\n",
       "      <td>0.789823</td>\n",
       "      <td>0.924799</td>\n",
       "      <td>...</td>\n",
       "      <td>2.90964</td>\n",
       "      <td>0.242951</td>\n",
       "      <td>0.000070</td>\n",
       "      <td>1.376900</td>\n",
       "      <td>6.051620</td>\n",
       "      <td>0.038037</td>\n",
       "      <td>0.256220</td>\n",
       "      <td>0.036493</td>\n",
       "      <td>0.994068</td>\n",
       "      <td>22047</td>\n",
       "    </tr>\n",
       "  </tbody>\n",
       "</table>\n",
       "<p>2048 rows × 30 columns</p>\n",
       "</div>"
      ],
      "text/plain": [
       "          #Name    Omega0    sigma8  WindEnergyIn1e51erg  RadioFeedbackFactor  \\\n",
       "0        SB28_0  0.352541  0.694742              3.85743             1.519210   \n",
       "1        SB28_1  0.172430  0.830154              1.03554             0.797734   \n",
       "2        SB28_2  0.234683  0.705844              9.61416             3.380650   \n",
       "3        SB28_3  0.440288  0.969259              2.14363             0.488165   \n",
       "4        SB28_4  0.457152  0.786733              1.38466             0.325727   \n",
       "...         ...       ...       ...                  ...                  ...   \n",
       "2043  SB28_2043  0.457334  0.970226              8.89733             0.607197   \n",
       "2044  SB28_2044  0.440496  0.786137              5.34131             0.880840   \n",
       "2045  SB28_2045  0.234475  0.938760              1.49723             1.873430   \n",
       "2046  SB28_2046  0.172613  0.612888             13.31250             0.363806   \n",
       "2047  SB28_2047  0.352358  0.862216              3.09935             3.331570   \n",
       "\n",
       "      VariableWindVelFactor  RadioFeedbackReiorientationFactor  OmegaBaryon  \\\n",
       "0                   9.09267                            14.2845     0.049404   \n",
       "1                   6.95693                            38.2374     0.031199   \n",
       "2                   3.77681                            24.6592     0.042995   \n",
       "3                  11.49660                            10.9550     0.062295   \n",
       "4                  13.19410                            17.1439     0.044425   \n",
       "...                     ...                                ...          ...   \n",
       "2043                3.75653                            39.5139     0.046041   \n",
       "2044                5.04789                            21.6844     0.063161   \n",
       "2045               13.26680                            13.5869     0.042461   \n",
       "2046                8.64069                            17.7159     0.029257   \n",
       "2047                5.64656                            33.6239     0.051052   \n",
       "\n",
       "      HubbleParam       n_s  ...  WindEnergyReductionExponent  WindDumpFactor  \\\n",
       "0        0.498145  0.795765  ...                      1.61148        0.435971   \n",
       "1        0.683693  1.142160  ...                      2.08951        0.612056   \n",
       "2        0.849506  0.923545  ...                      1.33988        0.878906   \n",
       "3        0.638970  0.964648  ...                      2.86478        0.253435   \n",
       "4        0.773770  0.900256  ...                      2.59030        0.944457   \n",
       "...           ...       ...  ...                          ...             ...   \n",
       "2043     0.513293  0.828903  ...                      1.88784        0.725070   \n",
       "2044     0.748997  1.143290  ...                      1.66098        0.472330   \n",
       "2045     0.534548  0.796116  ...                      2.13803        0.698393   \n",
       "2046     0.600362  0.965127  ...                      1.38572        0.818457   \n",
       "2047     0.789823  0.924799  ...                      2.90964        0.242951   \n",
       "\n",
       "      SeedBlackHoleMass  BlackHoleAccretionFactor  BlackHoleEddingtonFactor  \\\n",
       "0              0.000069                  1.111740                  2.613460   \n",
       "1              0.000094                  0.889955                  0.302262   \n",
       "2              0.000153                  0.364219                  8.235920   \n",
       "3              0.000041                  2.775960                  0.950425   \n",
       "4              0.000049                  0.286789                  1.121900   \n",
       "...                 ...                       ...                       ...   \n",
       "2043           0.000054                  0.327481                  4.790910   \n",
       "2044           0.000038                  2.229260                  0.222157   \n",
       "2045           0.000174                  0.453541                  1.920250   \n",
       "2046           0.000090                  0.718570                  0.698528   \n",
       "2047           0.000070                  1.376900                  6.051620   \n",
       "\n",
       "      BlackHoleFeedbackFactor  BlackHoleRadiativeEfficiency  QuasarThreshold  \\\n",
       "0                    0.039463                      0.225386         0.000269   \n",
       "1                    0.151352                      0.086231         0.022802   \n",
       "2                    0.099772                      0.648096         0.001458   \n",
       "3                    0.349945                      0.126670         0.004242   \n",
       "4                    0.032352                      0.460414         0.007438   \n",
       "...                       ...                           ...              ...   \n",
       "2043                 0.033553                      0.481742         0.001252   \n",
       "2044                 0.397001                      0.109068         0.000416   \n",
       "2045                 0.087029                      0.682619         0.006263   \n",
       "2046                 0.158683                      0.083655         0.000071   \n",
       "2047                 0.038037                      0.256220         0.036493   \n",
       "\n",
       "      QuasarThresholdPower   seed  \n",
       "0                 0.514648  20000  \n",
       "1                 2.620780  20001  \n",
       "2                 3.389560  20002  \n",
       "3                 1.494400  20003  \n",
       "4                 2.299550  20004  \n",
       "...                    ...    ...  \n",
       "2043              2.191720  22043  \n",
       "2044              1.012360  22044  \n",
       "2045              3.117210  22045  \n",
       "2046              2.887940  22046  \n",
       "2047              0.994068  22047  \n",
       "\n",
       "[2048 rows x 30 columns]"
      ]
     },
     "execution_count": 4,
     "metadata": {},
     "output_type": "execute_result"
    }
   ],
   "source": [
    "df_pars"
   ]
  },
  {
   "cell_type": "code",
   "execution_count": 5,
   "metadata": {},
   "outputs": [
    {
     "data": {
      "text/plain": [
       "6"
      ]
     },
     "execution_count": 5,
     "metadata": {},
     "output_type": "execute_result"
    }
   ],
   "source": [
    "no_pams = 6\n",
    "end_of_pams = no_pams + 1 \n",
    "param_names = df_pars.columns[1:end_of_pams].tolist()  # Excluding 'name' column\n",
    "param_length = len(param_names)\n",
    "\n",
    "\n",
    "param_length\n"
   ]
  },
  {
   "cell_type": "code",
   "execution_count": 6,
   "metadata": {},
   "outputs": [
    {
     "data": {
      "image/png": "[encoded data removed]",
      "text/plain": [
       "<Figure size 1500x1000 with 6 Axes>"
      ]
     },
     "metadata": {},
     "output_type": "display_data"
    }
   ],
   "source": [
    "theta_lst = df_pars.iloc[:, 1:end_of_pams].to_numpy()  # excluding 'name' column and 'seed' column\n",
    "\n",
    "fig, axes = plt.subplots(2, 3, figsize=(15, 10))\n",
    "axes = axes.flatten()\n",
    "\n",
    "for i, param_name in enumerate(param_names):\n",
    "    axes[i].hist(theta_lst[:, i], bins=50)\n",
    "    axes[i].set_title(param_name)\n",
    "    axes[i].set_xlabel('Value')\n",
    "    axes[i].set_ylabel('Count')\n",
    "\n",
    "plt.tight_layout()\n",
    "plt.show()\n"
   ]
  },
  {
   "cell_type": "code",
   "execution_count": 7,
   "metadata": {},
   "outputs": [
    {
     "name": "stdout",
     "output_type": "stream",
     "text": [
      "                            ParamName  AbsMaxDiff  LogFlag  FiducialVal  \\\n",
      "0                              Omega0        0.20        0      0.30000   \n",
      "1                              sigma8        0.20        0      0.80000   \n",
      "2                 WindEnergyIn1e51erg        4.00        1      3.60000   \n",
      "3                 RadioFeedbackFactor        4.00        1      1.00000   \n",
      "4               VariableWindVelFactor        2.00        1      7.40000   \n",
      "5   RadioFeedbackReiorientationFactor        2.00        1     20.00000   \n",
      "6                         OmegaBaryon        0.02        0      0.04900   \n",
      "7                         HubbleParam        0.20        0      0.67110   \n",
      "8                                 n_s        0.20        0      0.96240   \n",
      "9                     MaxSfrTimescale        2.00        1      2.27000   \n",
      "10                 FactorForSofterEQS        3.00        1      0.30000   \n",
      "11                           IMFslope        0.50        0     -2.30000   \n",
      "12                  SNII_MinMass_Msun        4.00        0      8.00000   \n",
      "13                ThermalWindFraction        4.00        1      0.10000   \n",
      "14           VariableWindSpecMomentum     2000.00        0      0.00000   \n",
      "15              WindFreeTravelDensFac       10.00        1      0.05000   \n",
      "16                         MinWindVel      200.00        0    350.00000   \n",
      "17          WindEnergyReductionFactor        4.00        1      0.25000   \n",
      "18     WindEnergyReductionMetallicity        4.00        1      0.00200   \n",
      "19        WindEnergyReductionExponent        1.00        0      2.00000   \n",
      "20                     WindDumpFactor        0.40        0      0.60000   \n",
      "21                  SeedBlackHoleMass        3.16        1      0.00008   \n",
      "22           BlackHoleAccretionFactor        4.00        1      1.00000   \n",
      "23           BlackHoleEddingtonFactor       10.00        1      1.00000   \n",
      "24            BlackHoleFeedbackFactor        4.00        1      0.10000   \n",
      "25       BlackHoleRadiativeEfficiency        4.00        1      0.20000   \n",
      "26                    QuasarThreshold       31.60        1      0.00200   \n",
      "27               QuasarThresholdPower        2.00        0      2.00000   \n",
      "\n",
      "        MinVal       MaxVal                                        Description  \n",
      "0     0.100000     0.500000                                        OmegaMatter  \n",
      "1     0.600000     1.000000                                             sigma8  \n",
      "2     0.900000    14.400000                       ASN1 - galactic winds energy  \n",
      "3     0.250000     4.000000                 AAGN1 - AGN FB kinetic mode energy  \n",
      "4     3.700000    14.800000                        ASN2 - galactic winds speed  \n",
      "5    10.000000    40.000000             AAGN2 - AGN FB kinetic mode burstiness  \n",
      "6     0.029000     0.069000                                        OmegaBaryon  \n",
      "7     0.471100     0.871100                                   Hubble parameter  \n",
      "8     0.762400     1.162400                      power spectrum spectral index  \n",
      "9     1.135000     4.540000                          gas consumption timescale  \n",
      "10    0.100000     0.900000                     softening factor for SH03 eEOS  \n",
      "11   -2.800000    -1.800000                              IMF slope above 1Msun  \n",
      "12    4.000000    12.000000                  minimum stellar mass that goes SN  \n",
      "13    0.025000     0.400000  fraction of wind energy injected thermally (ve...  \n",
      "14    0.000000  4000.000000              wind momentum per unit star-formation  \n",
      "15    0.005000     0.500000                         density of wind recoupling  \n",
      "16  150.000000   550.000000                                   wind speed floor  \n",
      "17    0.062500     1.000000  magnitude of wind energy dependence on metalli...  \n",
      "18    0.000500     0.008000            metallicity at which wind energy pivots  \n",
      "19    1.000000     3.000000  sharpness of wind energy dependence on metalli...  \n",
      "20    0.200000     1.000000                   (1 minus metal loading of winds)  \n",
      "21    0.000025     0.000253                                       seed BH mass  \n",
      "22    0.250000     4.000000                              Bondi rate multiplier  \n",
      "23    0.100000    10.000000  Eddington rate multiplier for the BH accretion...  \n",
      "24    0.025000     0.400000            high-accretion mode feedback efficiency  \n",
      "25    0.050000     0.800000                            BH radiative efficiency  \n",
      "26    0.000063     0.063200  Eddington ratio for transition between BH feed...  \n",
      "27    0.000000     4.000000  power-law in Weinberger+ 2017 eq.5 - steepness...  \n"
     ]
    }
   ],
   "source": [
    "\n",
    "\n",
    "# prior values come from this:\n",
    "df_info = pd.read_csv(\"/disk/xray15/aem2/data/28pams/Info_IllustrisTNG_L25n256_28params.txt\")\n",
    "print(df_info)\n"
   ]
  },
  {
   "cell_type": "code",
   "execution_count": 8,
   "metadata": {},
   "outputs": [
    {
     "data": {
      "text/html": [
       "<div>\n",
       "<style scoped>\n",
       "    .dataframe tbody tr th:only-of-type {\n",
       "        vertical-align: middle;\n",
       "    }\n",
       "\n",
       "    .dataframe tbody tr th {\n",
       "        vertical-align: top;\n",
       "    }\n",
       "\n",
       "    .dataframe thead th {\n",
       "        text-align: right;\n",
       "    }\n",
       "</style>\n",
       "<table border=\"1\" class=\"dataframe\">\n",
       "  <thead>\n",
       "    <tr style=\"text-align: right;\">\n",
       "      <th></th>\n",
       "      <th>ParamName</th>\n",
       "      <th>AbsMaxDiff</th>\n",
       "      <th>LogFlag</th>\n",
       "      <th>FiducialVal</th>\n",
       "      <th>MinVal</th>\n",
       "      <th>MaxVal</th>\n",
       "      <th>Description</th>\n",
       "    </tr>\n",
       "  </thead>\n",
       "  <tbody>\n",
       "    <tr>\n",
       "      <th>0</th>\n",
       "      <td>Omega0</td>\n",
       "      <td>0.2</td>\n",
       "      <td>0</td>\n",
       "      <td>0.3</td>\n",
       "      <td>0.10</td>\n",
       "      <td>0.5</td>\n",
       "      <td>OmegaMatter</td>\n",
       "    </tr>\n",
       "    <tr>\n",
       "      <th>1</th>\n",
       "      <td>sigma8</td>\n",
       "      <td>0.2</td>\n",
       "      <td>0</td>\n",
       "      <td>0.8</td>\n",
       "      <td>0.60</td>\n",
       "      <td>1.0</td>\n",
       "      <td>sigma8</td>\n",
       "    </tr>\n",
       "    <tr>\n",
       "      <th>2</th>\n",
       "      <td>WindEnergyIn1e51erg</td>\n",
       "      <td>4.0</td>\n",
       "      <td>1</td>\n",
       "      <td>3.6</td>\n",
       "      <td>0.90</td>\n",
       "      <td>14.4</td>\n",
       "      <td>ASN1 - galactic winds energy</td>\n",
       "    </tr>\n",
       "    <tr>\n",
       "      <th>3</th>\n",
       "      <td>RadioFeedbackFactor</td>\n",
       "      <td>4.0</td>\n",
       "      <td>1</td>\n",
       "      <td>1.0</td>\n",
       "      <td>0.25</td>\n",
       "      <td>4.0</td>\n",
       "      <td>AAGN1 - AGN FB kinetic mode energy</td>\n",
       "    </tr>\n",
       "    <tr>\n",
       "      <th>4</th>\n",
       "      <td>VariableWindVelFactor</td>\n",
       "      <td>2.0</td>\n",
       "      <td>1</td>\n",
       "      <td>7.4</td>\n",
       "      <td>3.70</td>\n",
       "      <td>14.8</td>\n",
       "      <td>ASN2 - galactic winds speed</td>\n",
       "    </tr>\n",
       "    <tr>\n",
       "      <th>5</th>\n",
       "      <td>RadioFeedbackReiorientationFactor</td>\n",
       "      <td>2.0</td>\n",
       "      <td>1</td>\n",
       "      <td>20.0</td>\n",
       "      <td>10.00</td>\n",
       "      <td>40.0</td>\n",
       "      <td>AAGN2 - AGN FB kinetic mode burstiness</td>\n",
       "    </tr>\n",
       "  </tbody>\n",
       "</table>\n",
       "</div>"
      ],
      "text/plain": [
       "                           ParamName  AbsMaxDiff  LogFlag  FiducialVal  \\\n",
       "0                             Omega0         0.2        0          0.3   \n",
       "1                             sigma8         0.2        0          0.8   \n",
       "2                WindEnergyIn1e51erg         4.0        1          3.6   \n",
       "3                RadioFeedbackFactor         4.0        1          1.0   \n",
       "4              VariableWindVelFactor         2.0        1          7.4   \n",
       "5  RadioFeedbackReiorientationFactor         2.0        1         20.0   \n",
       "\n",
       "   MinVal  MaxVal                             Description  \n",
       "0    0.10     0.5                             OmegaMatter  \n",
       "1    0.60     1.0                                  sigma8  \n",
       "2    0.90    14.4            ASN1 - galactic winds energy  \n",
       "3    0.25     4.0      AAGN1 - AGN FB kinetic mode energy  \n",
       "4    3.70    14.8             ASN2 - galactic winds speed  \n",
       "5   10.00    40.0  AAGN2 - AGN FB kinetic mode burstiness  "
      ]
     },
     "execution_count": 8,
     "metadata": {},
     "output_type": "execute_result"
    }
   ],
   "source": [
    "df_info6 = df_info[0:6]\n",
    "df_info6"
   ]
  },
  {
   "cell_type": "code",
   "execution_count": 9,
   "metadata": {},
   "outputs": [
    {
     "name": "stdout",
     "output_type": "stream",
     "text": [
      "torch.Size([2048, 6]) (2048, 24)\n"
     ]
    }
   ],
   "source": [
    "# overwrite theta with the real theta\n",
    "if __name__ == \"__main__\":\n",
    "    theta, x = get_theta_x_SB(\n",
    "        luminosity_functions=luminosity_functions,\n",
    "        colours=colours,\n",
    "        uvlf_limits=uvlf_limits,\n",
    "        colour_limits=colour_limits,\n",
    "        n_bins_lf=n_bins_lf,\n",
    "        n_bins_colour=n_bins_colour\n",
    "    )\n",
    "    print(theta.shape, x.shape)\n",
    "    "
   ]
  },
  {
   "cell_type": "code",
   "execution_count": 10,
   "metadata": {},
   "outputs": [
    {
     "data": {
      "text/plain": [
       "numpy.ndarray"
      ]
     },
     "execution_count": 10,
     "metadata": {},
     "output_type": "execute_result"
    }
   ],
   "source": [
    "type(x)"
   ]
  },
  {
   "cell_type": "code",
   "execution_count": 11,
   "metadata": {},
   "outputs": [
    {
     "data": {
      "text/plain": [
       "torch.Tensor"
      ]
     },
     "execution_count": 11,
     "metadata": {},
     "output_type": "execute_result"
    }
   ],
   "source": [
    "type(theta)"
   ]
  },
  {
   "cell_type": "code",
   "execution_count": 12,
   "metadata": {},
   "outputs": [
    {
     "name": "stdout",
     "output_type": "stream",
     "text": [
      "processing Omega0:\n",
      "processing Omega0 is linear with min 0.1 and max 0.5:\n",
      "processing sigma8:\n",
      "processing sigma8 is linear with min 0.6 and max 1.0:\n",
      "processing WindEnergyIn1e51erg:\n",
      "processing WindEnergyIn1e51erg is logarithmic with min 0.9 and max 14.4:\n",
      "processing RadioFeedbackFactor:\n",
      "processing RadioFeedbackFactor is logarithmic with min 0.25 and max 4.0:\n",
      "processing VariableWindVelFactor:\n",
      "processing VariableWindVelFactor is logarithmic with min 3.7 and max 14.8:\n",
      "processing RadioFeedbackReiorientationFactor:\n",
      "processing RadioFeedbackReiorientationFactor is logarithmic with min 10.0 and max 40.0:\n"
     ]
    },
    {
     "name": "stderr",
     "output_type": "stream",
     "text": [
      "/disk/xray15/aem2/envs/camels/lib/python3.8/site-packages/sbi/utils/user_input_checks.py:76: UserWarning: Prior was provided as a sequence of 6 priors. They will be\n",
      "            interpreted as independent of each other and matched in order to the\n",
      "            components of the parameter.\n",
      "  warnings.warn(\n",
      "/disk/xray15/aem2/envs/camels/lib/python3.8/site-packages/sbi/utils/torchutils.py:27: UserWarning: GPU was selected as a device for training the neural network. Note that we expect no significant speed ups in training for the default architectures we provide. Using the GPU will be effective only for large neural networks with operations that are fast on the GPU, e.g., for a CNN or RNN `embedding_net`.\n",
      "  warnings.warn(\n",
      "/disk/xray15/aem2/envs/camels/lib/python3.8/site-packages/sbi/utils/user_input_checks.py:209: UserWarning: Casting 1D Uniform prior to BoxUniform to match sbi batch requirements.\n",
      "  warnings.warn(\n"
     ]
    }
   ],
   "source": [
    "\n",
    "# get the priors and data\n",
    "prior = initialise_priors_SB28(\n",
    "    df=df_info6, \n",
    "    device=device,\n",
    "    astro=True,\n",
    "    dust=False  # no dust for testing. set to False to only get the 28 model parameters.\n",
    "    # with dust = True, prior has 32 dimensions (28 parameters + 4 dust parameters) \n",
    ")\n"
   ]
  },
  {
   "cell_type": "code",
   "execution_count": 13,
   "metadata": {},
   "outputs": [
    {
     "data": {
      "image/png": "[encoded data removed]",
      "text/plain": [
       "<Figure size 1000x600 with 1 Axes>"
      ]
     },
     "metadata": {},
     "output_type": "display_data"
    }
   ],
   "source": [
    "if colours:\n",
    "    fig = plot_colour(x)\n",
    "    plt.savefig('/disk/xray15/aem2/plots/28pams/IllustrisTNG/SB/test/colours_test/colour_check.png')\n",
    "    plt.show()\n",
    "\n",
    "if luminosity_functions:\n",
    "    fig = plot_uvlf(x)\n",
    "    plt.savefig('/disk/xray15/aem2/plots/28pams/IllustrisTNG/SB/test/LFs_test/uvlf_check.png')\n",
    "    plt.show()\n"
   ]
  },
  {
   "cell_type": "code",
   "execution_count": 14,
   "metadata": {},
   "outputs": [
    {
     "name": "stdout",
     "output_type": "stream",
     "text": [
      "Theta shape: torch.Size([2048, 6])\n",
      "X shape: (2048, 24)\n"
     ]
    }
   ],
   "source": [
    "\n",
    "# process the data\n",
    "x_all = np.array([np.hstack(_x) for _x in x])\n",
    "\n",
    "print(\"Theta shape:\", theta.shape)\n",
    "print(\"X shape:\", x_all.shape)\n",
    "# If using only luminosity functions (LFs):\n",
    "\n",
    "# 2 GALEX filters (FUV, NUV)\n",
    "# Each filter gets n_bins_lf (12) bins\n",
    "# 2 filters * 12 bins = 24 features\n",
    "\n",
    "# If also using colors:\n",
    "\n",
    "# 1 color (FUV-NUV)\n",
    "# Gets n_bins_colour (12) bins\n",
    "# Total would be 24 + 12 = 36 features"
   ]
  },
  {
   "cell_type": "code",
   "execution_count": 15,
   "metadata": {},
   "outputs": [
    {
     "name": "stdout",
     "output_type": "stream",
     "text": [
      "Data shape before processing: (2048, 24)\n",
      "Number of NaN values: 0\n",
      "Number of infinite values: 0\n"
     ]
    }
   ],
   "source": [
    "\n",
    "print(\"Data shape before processing:\", x_all.shape)\n",
    "print(\"Number of NaN values:\", np.isnan(x_all).sum())\n",
    "print(\"Number of infinite values:\", np.isinf(x_all).sum())\n",
    "\n"
   ]
  },
  {
   "cell_type": "code",
   "execution_count": 16,
   "metadata": {},
   "outputs": [
    {
     "name": "stdout",
     "output_type": "stream",
     "text": [
      "Total simulations: 2048\n",
      "Test set size: 203\n",
      "Training set size: 1845\n",
      "Test fraction: 0.099\n"
     ]
    }
   ],
   "source": [
    "\n",
    "# make test mask\n",
    "test_mask = create_test_mask() # 10% testing\n",
    "train_mask = ~test_mask # 90% for training\n",
    "\n",
    "\n",
    "# split data\n",
    "x_train=x_all[train_mask]\n",
    "theta_train=theta[train_mask]\n",
    "\n",
    "x_test = x_all[test_mask]\n",
    "theta_test = theta[test_mask]\n"
   ]
  },
  {
   "cell_type": "code",
   "execution_count": 17,
   "metadata": {},
   "outputs": [
    {
     "name": "stdout",
     "output_type": "stream",
     "text": [
      "Theta shape: torch.Size([2048, 6])\n",
      "X shape: (2048, 24)\n"
     ]
    }
   ],
   "source": [
    "\n",
    "print(\"Theta shape:\", theta.shape)\n",
    "print(\"X shape:\", x_all.shape)"
   ]
  },
  {
   "cell_type": "code",
   "execution_count": 18,
   "metadata": {},
   "outputs": [
    {
     "data": {
      "text/plain": [
       "array([[-5.97412043, -5.97412043, -5.97412043, ..., -2.91979489,\n",
       "        -2.95139388, -2.99442851],\n",
       "       [-5.98385276, -5.98385276, -4.67566975, ..., -2.65863641,\n",
       "        -2.74625082, -2.74625082],\n",
       "       [-5.99830007, -5.99830007, -5.99830007, ..., -2.19566281,\n",
       "        -2.16916472, -2.14933047],\n",
       "       ...,\n",
       "       [-5.96031554, -5.96031554, -5.96031554, ..., -2.6187649 ,\n",
       "        -2.69339852, -2.63034677],\n",
       "       [-5.95975161, -5.95975161, -5.95975161, ..., -3.52954171,\n",
       "        -3.5617264 , -3.5617264 ],\n",
       "       [-5.99219938, -5.99219938, -5.99219938, ..., -2.35138729,\n",
       "        -2.38341368, -2.48533805]])"
      ]
     },
     "execution_count": 18,
     "metadata": {},
     "output_type": "execute_result"
    }
   ],
   "source": [
    "x_train"
   ]
  },
  {
   "cell_type": "code",
   "execution_count": 19,
   "metadata": {},
   "outputs": [
    {
     "data": {
      "text/plain": [
       "tensor([[ 0.3525,  0.6947,  3.8574,  1.5192,  9.0927, 14.2845],\n",
       "        [ 0.2347,  0.7058,  9.6142,  3.3807,  3.7768, 24.6592],\n",
       "        [ 0.4403,  0.9693,  2.1436,  0.4882, 11.4966, 10.9550],\n",
       "        ...,\n",
       "        [ 0.2345,  0.9388,  1.4972,  1.8734, 13.2668, 13.5869],\n",
       "        [ 0.1726,  0.6129, 13.3125,  0.3638,  8.6407, 17.7159],\n",
       "        [ 0.3524,  0.8622,  3.0993,  3.3316,  5.6466, 33.6239]],\n",
       "       device='cuda:0')"
      ]
     },
     "execution_count": 19,
     "metadata": {},
     "output_type": "execute_result"
    }
   ],
   "source": [
    "theta_train"
   ]
  },
  {
   "cell_type": "code",
   "execution_count": 20,
   "metadata": {},
   "outputs": [
    {
     "name": "stdout",
     "output_type": "stream",
     "text": [
      "Prior samples shape: torch.Size([1000, 6])\n"
     ]
    },
    {
     "data": {
      "image/png": "[encoded data removed]",
      "text/plain": [
       "<Figure size 1500x1000 with 6 Axes>"
      ]
     },
     "metadata": {},
     "output_type": "display_data"
    },
    {
     "name": "stdout",
     "output_type": "stream",
     "text": [
      "\n",
      "Parameter ranges:\n",
      "\n",
      "Omega0:\n",
      "Data range: [0.100, 0.500]\n",
      "Prior range: [0.100, 0.500]\n",
      "\n",
      "sigma8:\n",
      "Data range: [0.600, 1.000]\n",
      "Prior range: [0.600, 0.998]\n",
      "\n",
      "WindEnergyIn1e51erg:\n",
      "Data range: [0.900, 14.397]\n",
      "Prior range: [0.902, 14.362]\n",
      "\n",
      "RadioFeedbackFactor:\n",
      "Data range: [0.250, 3.997]\n",
      "Prior range: [0.250, 3.999]\n",
      "\n",
      "VariableWindVelFactor:\n",
      "Data range: [3.702, 14.791]\n",
      "Prior range: [3.704, 14.778]\n",
      "\n",
      "RadioFeedbackReiorientationFactor:\n",
      "Data range: [10.001, 39.982]\n",
      "Prior range: [10.003, 39.999]\n"
     ]
    }
   ],
   "source": [
    "# Add this after your prior definition\n",
    "# Test prior sampling\n",
    "n_samples = 1000\n",
    "prior_samples = prior.sample((n_samples,))\n",
    "print(\"Prior samples shape:\", prior_samples.shape)\n",
    "\n",
    "# Plot histograms of prior samples vs actual parameter values\n",
    "fig, axes = plt.subplots(2, 3, figsize=(15, 10))\n",
    "axes = axes.flatten()\n",
    "\n",
    "prior_samples_np = prior_samples.cpu().numpy()\n",
    "\n",
    "for i, param_name in enumerate(param_names):\n",
    "    # Plot histogram of actual parameter values\n",
    "    axes[i].hist(theta_lst[:, i], bins=50, alpha=0.5, label='Data', density=True)\n",
    "    # Plot histogram of prior samples \n",
    "    axes[i].hist(prior_samples_np[:, i], bins=50, alpha=0.5, label='Prior', density=True)\n",
    "    axes[i].set_title(param_name)\n",
    "    axes[i].set_xlabel('Value')\n",
    "    axes[i].set_ylabel('Density')\n",
    "    axes[i].legend()\n",
    "\n",
    "plt.tight_layout()\n",
    "plt.show()\n",
    "\n",
    "# Print ranges\n",
    "print(\"\\nParameter ranges:\")\n",
    "for i, param_name in enumerate(param_names):\n",
    "    data_min = theta_lst[:, i].min()\n",
    "    data_max = theta_lst[:, i].max()\n",
    "    prior_min = prior_samples_np[:, i].min()\n",
    "    prior_max = prior_samples_np[:, i].max()\n",
    "    print(f\"\\n{param_name}:\")\n",
    "    print(f\"Data range: [{data_min:.3f}, {data_max:.3f}]\")\n",
    "    print(f\"Prior range: [{prior_min:.3f}, {prior_max:.3f}]\")"
   ]
  },
  {
   "cell_type": "code",
   "execution_count": 21,
   "metadata": {},
   "outputs": [],
   "source": [
    "train_args = {\n",
    "    \"training_batch_size\": 16,     # Slightly reduced\n",
    "    \"learning_rate\": 1e-4,        # Original learning rate for fewer parameters\n",
    "    \"stop_after_epochs\": 20,      # More patience\n",
    "    \"clip_max_norm\": 2,        # Tight gradient control\n",
    "     \"validation_fraction\": 0.1,    # More validation data\n",
    "    \"max_num_epochs\": 200,       # Allow longer training\n",
    "    \"show_train_summary\": True\n",
    "}\n",
    "\n",
    "# Slightly increased capacity for better learning of core parameters\n",
    "hidden_features = 30\n",
    "num_transforms = 2\n",
    "num_nets = 1\n",
    "\n",
    "# refer back to training args in file name\n",
    "model_params = f\"batch{train_args['training_batch_size']}_\" \\\n",
    "               f\"lr{train_args['learning_rate']:.0e}_\" \\\n",
    "               f\"epochs{train_args['stop_after_epochs']}_\" \\\n",
    "               f\"val{train_args['validation_fraction']}_\" \\\n",
    "               f\"hidden{hidden_features}_\" \\\n",
    "               f\"transforms{num_transforms}\"\n",
    "\n",
    "# Create neural networks\n",
    "nets = [ili.utils.load_nde_sbi(\n",
    "    engine=\"NPE\",\n",
    "    model=\"nsf\",\n",
    "    hidden_features=hidden_features,\n",
    "    num_transforms=num_transforms,\n",
    ") for _ in range(num_nets)]\n",
    "\n",
    "# Modify loader to use core parameters\n",
    "loader = NumpyLoader(\n",
    "    x=x_train,\n",
    "    theta=theta_train\n",
    ")\n",
    "\n",
    "# Update model output directory for phase 1\n",
    "# model_out_dir_phase1 = os.path.join(model_out_dir, \"phase1_core\")\n",
    "# os.makedirs(model_out_dir_phase1, exist_ok=True)\n",
    "\n",
    "# Create inference runner with core parameters\n",
    "runner = InferenceRunner.load(\n",
    "    backend=\"sbi\",\n",
    "    engine=\"NPE\",\n",
    "    prior=prior,\n",
    "    nets=nets,\n",
    "    device=device,\n",
    "    train_args=train_args,\n",
    "    proposal=None,\n",
    "    out_dir=model_out_dir,\n",
    "    # name=name + \"_phase1_core\"\n",
    ")\n",
    "\n"
   ]
  },
  {
   "cell_type": "code",
   "execution_count": 22,
   "metadata": {},
   "outputs": [
    {
     "name": "stderr",
     "output_type": "stream",
     "text": [
      "INFO:root:MODEL INFERENCE CLASS: NPE\n",
      "INFO:root:Training model 1 / 1.\n"
     ]
    },
    {
     "name": "stdout",
     "output_type": "stream",
     "text": [
      " Training neural network. Epochs trained: 80"
     ]
    },
    {
     "name": "stderr",
     "output_type": "stream",
     "text": [
      "/disk/xray15/aem2/envs/camels/lib/python3.8/site-packages/sbi/utils/posterior_ensemble.py:142: UserWarning: To copy construct from a tensor, it is recommended to use sourceTensor.clone().detach() or sourceTensor.clone().detach().requires_grad_(True), rather than torch.tensor(sourceTensor).\n",
      "  self._weights = torch.tensor(weights) / sum(weights)\n",
      "INFO:root:It took 144.1266269683838 seconds to train models.\n",
      "INFO:root:Saving model to /disk/xray15/aem2/data/28pams/IllustrisTNG/SB/models/lf_only\n"
     ]
    },
    {
     "name": "stdout",
     "output_type": "stream",
     "text": [
      " Neural network successfully converged after 81 epochs.\n",
      "        -------------------------\n",
      "        ||||| ROUND 1 STATS |||||:\n",
      "        -------------------------\n",
      "        Epochs trained: 81\n",
      "        Best validation performance: -6.7829\n",
      "        -------------------------\n",
      "        \n"
     ]
    }
   ],
   "source": [
    "# After training, update plotting to show only core parameters\n",
    "posterior_ensemble, summaries = runner(loader=loader)\n"
   ]
  },
  {
   "cell_type": "code",
   "execution_count": 23,
   "metadata": {},
   "outputs": [
    {
     "data": {
      "text/plain": [
       "NeuralPosteriorEnsemble sampler for potential_fn=<EnsemblePotential>"
      ]
     },
     "execution_count": 23,
     "metadata": {},
     "output_type": "execute_result"
    }
   ],
   "source": [
    "posterior_ensemble"
   ]
  },
  {
   "cell_type": "code",
   "execution_count": 24,
   "metadata": {},
   "outputs": [
    {
     "data": {
      "text/plain": [
       "[{'epochs_trained': [0, 81],\n",
       "  'best_validation_log_prob': [-inf, -6.782888715917414],\n",
       "  'validation_log_probs': [-8.799958055669611,\n",
       "   -8.609834497625178,\n",
       "   -8.482989701357754,\n",
       "   -8.297716357491232,\n",
       "   -8.143420522863215,\n",
       "   -8.003717942671342,\n",
       "   -7.729853066531095,\n",
       "   -7.6495866775512695,\n",
       "   -7.538926514712247,\n",
       "   -7.424950903112238,\n",
       "   -7.4372407306324355,\n",
       "   -7.323163292624733,\n",
       "   -7.291099808432839,\n",
       "   -7.325599366968328,\n",
       "   -7.286582643335516,\n",
       "   -7.244507269425825,\n",
       "   -7.153770706870339,\n",
       "   -7.101902268149636,\n",
       "   -7.1480253826488145,\n",
       "   -7.164776065132835,\n",
       "   -7.105547991665927,\n",
       "   -7.045093926516446,\n",
       "   -7.107037327506325,\n",
       "   -7.098034338517622,\n",
       "   -7.016411564566872,\n",
       "   -7.035804185000333,\n",
       "   -7.073658076199618,\n",
       "   -7.026979923248291,\n",
       "   -6.99713286486539,\n",
       "   -6.949559558521617,\n",
       "   -6.968015107241544,\n",
       "   -6.9362005753950635,\n",
       "   -6.979847041043368,\n",
       "   -6.960421865636652,\n",
       "   -6.958252863450483,\n",
       "   -6.962656497955322,\n",
       "   -6.983067599209872,\n",
       "   -6.93046370419589,\n",
       "   -6.951994028958407,\n",
       "   -6.887304999611595,\n",
       "   -6.90243031761863,\n",
       "   -6.913952697407115,\n",
       "   -6.917916558005593,\n",
       "   -6.9297778389670635,\n",
       "   -6.838243571194735,\n",
       "   -6.860377571799538,\n",
       "   -6.895281488245184,\n",
       "   -6.844539859078147,\n",
       "   -6.864772146398371,\n",
       "   -6.883803454312411,\n",
       "   -6.8857527646151455,\n",
       "   -6.895574829795144,\n",
       "   -6.795001116665927,\n",
       "   -6.866785482926802,\n",
       "   -6.8822503089904785,\n",
       "   -6.861189452084628,\n",
       "   -6.886030500585383,\n",
       "   -6.8845086097717285,\n",
       "   -6.865544882687655,\n",
       "   -6.842057574879039,\n",
       "   -6.782888715917414,\n",
       "   -6.940956505862149,\n",
       "   -6.872718507593328,\n",
       "   -6.891481659629128,\n",
       "   -6.836992480538108,\n",
       "   -6.890350688587535,\n",
       "   -6.8557799512689765,\n",
       "   -6.8952130837873975,\n",
       "   -6.8750436089255595,\n",
       "   -6.844663533297452,\n",
       "   -6.805511127818715,\n",
       "   -6.820655345916748,\n",
       "   -6.882710673592308,\n",
       "   -6.842752543362704,\n",
       "   -6.850229566747492,\n",
       "   -6.835827003825795,\n",
       "   -6.918484731154009,\n",
       "   -6.854141928932884,\n",
       "   -6.860105687921697,\n",
       "   -6.900137251073664,\n",
       "   -6.88646767356179],\n",
       "  'training_log_probs': [-8.857626202037034,\n",
       "   -8.695085233855016,\n",
       "   -8.533320950072946,\n",
       "   -8.367063485302971,\n",
       "   -8.189783415748078,\n",
       "   -8.009129505713009,\n",
       "   -7.830338579937092,\n",
       "   -7.655835429441582,\n",
       "   -7.507333107364988,\n",
       "   -7.392718125315546,\n",
       "   -7.308363895971798,\n",
       "   -7.242682669926616,\n",
       "   -7.184540868962853,\n",
       "   -7.134559788750213,\n",
       "   -7.085113617980364,\n",
       "   -7.055793919609588,\n",
       "   -7.018626051041687,\n",
       "   -6.986143885306942,\n",
       "   -6.962500229622554,\n",
       "   -6.941170572077186,\n",
       "   -6.912029266357422,\n",
       "   -6.887425501369735,\n",
       "   -6.872757138557804,\n",
       "   -6.849270913207415,\n",
       "   -6.8312837822923385,\n",
       "   -6.8094847179153595,\n",
       "   -6.786753821141511,\n",
       "   -6.7882111280867194,\n",
       "   -6.763485834436509,\n",
       "   -6.752864166370873,\n",
       "   -6.73773733157556,\n",
       "   -6.7339829148598085,\n",
       "   -6.711231361315089,\n",
       "   -6.697956700926846,\n",
       "   -6.691426184570905,\n",
       "   -6.676596368400796,\n",
       "   -6.672641027320936,\n",
       "   -6.666998710447145,\n",
       "   -6.650888947607244,\n",
       "   -6.647986162056044,\n",
       "   -6.631215252922576,\n",
       "   -6.626581080908914,\n",
       "   -6.619161022519602,\n",
       "   -6.618425762769088,\n",
       "   -6.610532371743211,\n",
       "   -6.601049335257521,\n",
       "   -6.5959263866387525,\n",
       "   -6.585569303012589,\n",
       "   -6.591480583820529,\n",
       "   -6.572166049364701,\n",
       "   -6.578417166922856,\n",
       "   -6.570011768526244,\n",
       "   -6.56472912112486,\n",
       "   -6.550997521113423,\n",
       "   -6.5461116253751,\n",
       "   -6.550884756069739,\n",
       "   -6.535360058534493,\n",
       "   -6.5431452630793006,\n",
       "   -6.52766041153843,\n",
       "   -6.514237005733749,\n",
       "   -6.529501336292156,\n",
       "   -6.5092928154954635,\n",
       "   -6.515731978184968,\n",
       "   -6.497182679407805,\n",
       "   -6.500216146117276,\n",
       "   -6.500866167753646,\n",
       "   -6.494237899780273,\n",
       "   -6.493575980362383,\n",
       "   -6.490995351550649,\n",
       "   -6.472461228231782,\n",
       "   -6.473606794783213,\n",
       "   -6.465512053480426,\n",
       "   -6.46838464551759,\n",
       "   -6.463812647513973,\n",
       "   -6.455006455912174,\n",
       "   -6.453617970920304,\n",
       "   -6.453130134101053,\n",
       "   -6.454962998917959,\n",
       "   -6.445436056377818,\n",
       "   -6.434223077829602,\n",
       "   -6.438236731927372],\n",
       "  'epoch_durations_sec': [1.9728643894195557,\n",
       "   1.8401801586151123,\n",
       "   1.8359618186950684,\n",
       "   1.8383870124816895,\n",
       "   1.8305370807647705,\n",
       "   1.8299994468688965,\n",
       "   1.831789493560791,\n",
       "   1.8291127681732178,\n",
       "   1.8420665264129639,\n",
       "   1.841865062713623,\n",
       "   1.8312840461730957,\n",
       "   1.8279914855957031,\n",
       "   1.828162431716919,\n",
       "   1.8106064796447754,\n",
       "   1.808945894241333,\n",
       "   1.7473065853118896,\n",
       "   1.71858811378479,\n",
       "   1.716496229171753,\n",
       "   1.717954397201538,\n",
       "   1.7181880474090576,\n",
       "   1.716399908065796,\n",
       "   1.7172772884368896,\n",
       "   1.7195308208465576,\n",
       "   1.7207820415496826,\n",
       "   1.7203269004821777,\n",
       "   1.844367504119873,\n",
       "   1.8433036804199219,\n",
       "   1.8512654304504395,\n",
       "   1.836024522781372,\n",
       "   1.8340344429016113,\n",
       "   1.832859754562378,\n",
       "   1.8344335556030273,\n",
       "   1.8311824798583984,\n",
       "   1.8351266384124756,\n",
       "   1.8360586166381836,\n",
       "   1.828010082244873,\n",
       "   1.8285243511199951,\n",
       "   1.825685739517212,\n",
       "   1.8100073337554932,\n",
       "   1.8230993747711182,\n",
       "   1.7659952640533447,\n",
       "   1.7196712493896484,\n",
       "   1.7169764041900635,\n",
       "   1.718247890472412,\n",
       "   1.7189466953277588,\n",
       "   1.7193927764892578,\n",
       "   1.7174429893493652,\n",
       "   1.718846082687378,\n",
       "   1.719226360321045,\n",
       "   1.7206156253814697,\n",
       "   1.7175004482269287,\n",
       "   1.7175381183624268,\n",
       "   1.7199294567108154,\n",
       "   1.7220499515533447,\n",
       "   1.7198975086212158,\n",
       "   1.727567434310913,\n",
       "   1.7254576683044434,\n",
       "   1.7194781303405762,\n",
       "   1.7224280834197998,\n",
       "   1.7260429859161377,\n",
       "   1.7245266437530518,\n",
       "   1.7190852165222168,\n",
       "   1.7237474918365479,\n",
       "   1.721435546875,\n",
       "   1.7230424880981445,\n",
       "   1.722722053527832,\n",
       "   1.7257914543151855,\n",
       "   1.7311508655548096,\n",
       "   1.7283830642700195,\n",
       "   1.7277047634124756,\n",
       "   1.730238676071167,\n",
       "   1.731306791305542,\n",
       "   1.7315537929534912,\n",
       "   1.727935552597046,\n",
       "   1.7303965091705322,\n",
       "   1.7320873737335205,\n",
       "   1.7312932014465332,\n",
       "   1.7313172817230225,\n",
       "   1.7301604747772217,\n",
       "   1.7308390140533447,\n",
       "   1.7301602363586426]}]"
      ]
     },
     "execution_count": 24,
     "metadata": {},
     "output_type": "execute_result"
    }
   ],
   "source": [
    "summaries"
   ]
  },
  {
   "cell_type": "code",
   "execution_count": 25,
   "metadata": {},
   "outputs": [
    {
     "data": {
      "image/png": "[encoded data removed]",
      "text/plain": [
       "<Figure size 1500x500 with 2 Axes>"
      ]
     },
     "metadata": {},
     "output_type": "display_data"
    }
   ],
   "source": [
    "def plot_training_diagnostics(summaries):\n",
    "    \"\"\"Plot training diagnostics without empty subplots\"\"\"\n",
    "    fig, (ax1, ax2) = plt.subplots(1, 2, figsize=(15, 5))  # Changed to 1 row, 2 columns\n",
    "    \n",
    "    # Loss curves\n",
    "    train_losses = summaries[0]['training_log_probs']\n",
    "    val_losses = summaries[0]['validation_log_probs']\n",
    "    epochs = range(len(train_losses))\n",
    "    \n",
    "    ax1.plot(epochs, train_losses, '-', label='Training', color='blue')\n",
    "    ax1.plot(epochs, val_losses, '--', label='Validation', color='red')\n",
    "    ax1.set_xlabel('Epoch')\n",
    "    ax1.set_ylabel('Log probability')\n",
    "    ax1.set_title('Training and Validation Loss')\n",
    "    ax1.legend()\n",
    "    ax1.grid(True, alpha=0.3)\n",
    "    \n",
    "    # Overfitting gap\n",
    "    gap = np.array(train_losses) - np.array(val_losses)\n",
    "    ax2.plot(epochs, gap, '-', color='purple')\n",
    "    ax2.set_xlabel('Epoch')\n",
    "    ax2.set_ylabel('Loss difference')\n",
    "    ax2.set_title('Overfitting Gap')\n",
    "    ax2.axhline(y=0, color='gray', linestyle='--', alpha=0.3)\n",
    "    ax2.grid(True, alpha=0.3)\n",
    "    \n",
    "    plt.tight_layout()\n",
    "    return fig\n",
    "\n",
    "# Use the function\n",
    "fig = plot_training_diagnostics(summaries)\n",
    "plt.savefig(os.path.join(plots_out_dir, f'loss_overfitting_{model_params}.png'))\n",
    "plt.show()\n",
    "plt.close()"
   ]
  },
  {
   "cell_type": "code",
   "execution_count": 26,
   "metadata": {},
   "outputs": [
    {
     "data": {
      "text/plain": [
       "<matplotlib.legend.Legend at 0x7f069385fe20>"
      ]
     },
     "execution_count": 26,
     "metadata": {},
     "output_type": "execute_result"
    },
    {
     "data": {
      "image/png": "[encoded data removed]",
      "text/plain": [
       "<Figure size 600x400 with 1 Axes>"
      ]
     },
     "metadata": {},
     "output_type": "display_data"
    }
   ],
   "source": [
    "# plot train/validation loss\n",
    "fig, ax = plt.subplots(1, 1, figsize=(6,4))\n",
    "c = list(mcolors.TABLEAU_COLORS)\n",
    "for i, m in enumerate(summaries):\n",
    "    ax.plot(m['training_log_probs'], ls='-', label=f\"{i}_train\", c=c[i])\n",
    "    ax.plot(m['validation_log_probs'], ls='--', label=f\"{i}_val\", c=c[i])\n",
    "ax.set_xlim(0)\n",
    "ax.set_xlabel('Epoch')\n",
    "ax.set_ylabel('Log probability')\n",
    "ax.legend()"
   ]
  },
  {
   "cell_type": "markdown",
   "metadata": {},
   "source": [
    "### Drawing samples from the entire test set to look at overall performance of the model"
   ]
  },
  {
   "cell_type": "code",
   "execution_count": 27,
   "metadata": {},
   "outputs": [
    {
     "name": "stderr",
     "output_type": "stream",
     "text": [
      "/tmp/ipykernel_1403762/2311844343.py:3: UserWarning: To copy construct from a tensor, it is recommended to use sourceTensor.clone().detach() or sourceTensor.clone().detach().requires_grad_(True), rather than torch.tensor(sourceTensor).\n",
      "  theta_train = torch.tensor(theta_train, dtype=torch.float32, device=device)\n",
      "/tmp/ipykernel_1403762/2311844343.py:4: UserWarning: To copy construct from a tensor, it is recommended to use sourceTensor.clone().detach() or sourceTensor.clone().detach().requires_grad_(True), rather than torch.tensor(sourceTensor).\n",
      "  theta_test = torch.tensor(theta_test, dtype=torch.float32, device=device)\n"
     ]
    }
   ],
   "source": [
    "x_train = torch.tensor(x_train, dtype=torch.float32, device=device)\n",
    "x_test = torch.tensor(x_test, dtype=torch.float32, device=device)\n",
    "theta_train = torch.tensor(theta_train, dtype=torch.float32, device=device)\n",
    "theta_test = torch.tensor(theta_test, dtype=torch.float32, device=device)"
   ]
  },
  {
   "cell_type": "code",
   "execution_count": 28,
   "metadata": {},
   "outputs": [
    {
     "data": {
      "text/plain": [
       "torch.Tensor"
      ]
     },
     "execution_count": 28,
     "metadata": {},
     "output_type": "execute_result"
    }
   ],
   "source": [
    "type(theta_test)\n",
    "type(x_test)"
   ]
  },
  {
   "cell_type": "code",
   "execution_count": 29,
   "metadata": {},
   "outputs": [
    {
     "data": {
      "application/vnd.jupyter.widget-view+json": {
       "model_id": "a5cc4f28398244d28e3545442cf70495",
       "version_major": 2,
       "version_minor": 0
      },
      "text/plain": [
       "Drawing 1000 posterior samples:   0%|          | 0/1000 [00:00<?, ?it/s]"
      ]
     },
     "metadata": {},
     "output_type": "display_data"
    },
    {
     "data": {
      "application/vnd.jupyter.widget-view+json": {
       "model_id": "4a7b5f317d1f46d1b787315c34abbe7c",
       "version_major": 2,
       "version_minor": 0
      },
      "text/plain": [
       "Drawing 1000 posterior samples:   0%|          | 0/1000 [00:00<?, ?it/s]"
      ]
     },
     "metadata": {},
     "output_type": "display_data"
    },
    {
     "data": {
      "application/vnd.jupyter.widget-view+json": {
       "model_id": "fad8d7bb9d674fc6aad82329f9ec1c22",
       "version_major": 2,
       "version_minor": 0
      },
      "text/plain": [
       "Drawing 1000 posterior samples:   0%|          | 0/1000 [00:00<?, ?it/s]"
      ]
     },
     "metadata": {},
     "output_type": "display_data"
    },
    {
     "data": {
      "application/vnd.jupyter.widget-view+json": {
       "model_id": "2b7be2ca95db495aa9ada25055819990",
       "version_major": 2,
       "version_minor": 0
      },
      "text/plain": [
       "Drawing 1000 posterior samples:   0%|          | 0/1000 [00:00<?, ?it/s]"
      ]
     },
     "metadata": {},
     "output_type": "display_data"
    },
    {
     "data": {
      "application/vnd.jupyter.widget-view+json": {
       "model_id": "57bc2f151d5b4acbab8d712e4e32c8fd",
       "version_major": 2,
       "version_minor": 0
      },
      "text/plain": [
       "Drawing 1000 posterior samples:   0%|          | 0/1000 [00:00<?, ?it/s]"
      ]
     },
     "metadata": {},
     "output_type": "display_data"
    },
    {
     "data": {
      "application/vnd.jupyter.widget-view+json": {
       "model_id": "3a8b74a1ea47410fb74b699eb33d53b8",
       "version_major": 2,
       "version_minor": 0
      },
      "text/plain": [
       "Drawing 1000 posterior samples:   0%|          | 0/1000 [00:00<?, ?it/s]"
      ]
     },
     "metadata": {},
     "output_type": "display_data"
    },
    {
     "data": {
      "application/vnd.jupyter.widget-view+json": {
       "model_id": "015b5a9bc75d4c45b21edee63677c776",
       "version_major": 2,
       "version_minor": 0
      },
      "text/plain": [
       "Drawing 1000 posterior samples:   0%|          | 0/1000 [00:00<?, ?it/s]"
      ]
     },
     "metadata": {},
     "output_type": "display_data"
    },
    {
     "data": {
      "application/vnd.jupyter.widget-view+json": {
       "model_id": "adfbfd4fa2544255aad8bbed153efa07",
       "version_major": 2,
       "version_minor": 0
      },
      "text/plain": [
       "Drawing 1000 posterior samples:   0%|          | 0/1000 [00:00<?, ?it/s]"
      ]
     },
     "metadata": {},
     "output_type": "display_data"
    },
    {
     "data": {
      "application/vnd.jupyter.widget-view+json": {
       "model_id": "77643d645948466c8b4f8b7c48c850e8",
       "version_major": 2,
       "version_minor": 0
      },
      "text/plain": [
       "Drawing 1000 posterior samples:   0%|          | 0/1000 [00:00<?, ?it/s]"
      ]
     },
     "metadata": {},
     "output_type": "display_data"
    },
    {
     "data": {
      "application/vnd.jupyter.widget-view+json": {
       "model_id": "229fb13fb6114e208d014f80c6bc178e",
       "version_major": 2,
       "version_minor": 0
      },
      "text/plain": [
       "Drawing 1000 posterior samples:   0%|          | 0/1000 [00:00<?, ?it/s]"
      ]
     },
     "metadata": {},
     "output_type": "display_data"
    },
    {
     "data": {
      "application/vnd.jupyter.widget-view+json": {
       "model_id": "c8582ea325ff44418158f785c18c1136",
       "version_major": 2,
       "version_minor": 0
      },
      "text/plain": [
       "Drawing 1000 posterior samples:   0%|          | 0/1000 [00:00<?, ?it/s]"
      ]
     },
     "metadata": {},
     "output_type": "display_data"
    },
    {
     "data": {
      "application/vnd.jupyter.widget-view+json": {
       "model_id": "cac6cf9be14e445da8d8edc1fd81c3bf",
       "version_major": 2,
       "version_minor": 0
      },
      "text/plain": [
       "Drawing 1000 posterior samples:   0%|          | 0/1000 [00:00<?, ?it/s]"
      ]
     },
     "metadata": {},
     "output_type": "display_data"
    },
    {
     "data": {
      "application/vnd.jupyter.widget-view+json": {
       "model_id": "f951d90799bb4ee3a4bb37ccab4a4bde",
       "version_major": 2,
       "version_minor": 0
      },
      "text/plain": [
       "Drawing 1000 posterior samples:   0%|          | 0/1000 [00:00<?, ?it/s]"
      ]
     },
     "metadata": {},
     "output_type": "display_data"
    },
    {
     "data": {
      "application/vnd.jupyter.widget-view+json": {
       "model_id": "e24eb377f5524726a9babd85bce7c562",
       "version_major": 2,
       "version_minor": 0
      },
      "text/plain": [
       "Drawing 1000 posterior samples:   0%|          | 0/1000 [00:00<?, ?it/s]"
      ]
     },
     "metadata": {},
     "output_type": "display_data"
    },
    {
     "data": {
      "application/vnd.jupyter.widget-view+json": {
       "model_id": "71f7393d9f7e4ad68f03b99b14303317",
       "version_major": 2,
       "version_minor": 0
      },
      "text/plain": [
       "Drawing 1000 posterior samples:   0%|          | 0/1000 [00:00<?, ?it/s]"
      ]
     },
     "metadata": {},
     "output_type": "display_data"
    },
    {
     "data": {
      "application/vnd.jupyter.widget-view+json": {
       "model_id": "0e8c7f0880d547b6bd3b227848f467c6",
       "version_major": 2,
       "version_minor": 0
      },
      "text/plain": [
       "Drawing 1000 posterior samples:   0%|          | 0/1000 [00:00<?, ?it/s]"
      ]
     },
     "metadata": {},
     "output_type": "display_data"
    },
    {
     "data": {
      "application/vnd.jupyter.widget-view+json": {
       "model_id": "ea81694840674de7930bd588c4a2dd72",
       "version_major": 2,
       "version_minor": 0
      },
      "text/plain": [
       "Drawing 1000 posterior samples:   0%|          | 0/1000 [00:00<?, ?it/s]"
      ]
     },
     "metadata": {},
     "output_type": "display_data"
    },
    {
     "data": {
      "application/vnd.jupyter.widget-view+json": {
       "model_id": "af7f39fa067043f4ba9399e85f7d64ac",
       "version_major": 2,
       "version_minor": 0
      },
      "text/plain": [
       "Drawing 1000 posterior samples:   0%|          | 0/1000 [00:00<?, ?it/s]"
      ]
     },
     "metadata": {},
     "output_type": "display_data"
    },
    {
     "data": {
      "application/vnd.jupyter.widget-view+json": {
       "model_id": "2f153a567325469f8d383070e089e486",
       "version_major": 2,
       "version_minor": 0
      },
      "text/plain": [
       "Drawing 1000 posterior samples:   0%|          | 0/1000 [00:00<?, ?it/s]"
      ]
     },
     "metadata": {},
     "output_type": "display_data"
    },
    {
     "data": {
      "application/vnd.jupyter.widget-view+json": {
       "model_id": "b2aead714f8d474ebc405da3a40661e7",
       "version_major": 2,
       "version_minor": 0
      },
      "text/plain": [
       "Drawing 1000 posterior samples:   0%|          | 0/1000 [00:00<?, ?it/s]"
      ]
     },
     "metadata": {},
     "output_type": "display_data"
    },
    {
     "data": {
      "application/vnd.jupyter.widget-view+json": {
       "model_id": "443ade356de447b7b3d5235def04931b",
       "version_major": 2,
       "version_minor": 0
      },
      "text/plain": [
       "Drawing 1000 posterior samples:   0%|          | 0/1000 [00:00<?, ?it/s]"
      ]
     },
     "metadata": {},
     "output_type": "display_data"
    },
    {
     "data": {
      "application/vnd.jupyter.widget-view+json": {
       "model_id": "696d6d2db0ad4aa2aef7866b8c2360a8",
       "version_major": 2,
       "version_minor": 0
      },
      "text/plain": [
       "Drawing 1000 posterior samples:   0%|          | 0/1000 [00:00<?, ?it/s]"
      ]
     },
     "metadata": {},
     "output_type": "display_data"
    },
    {
     "data": {
      "application/vnd.jupyter.widget-view+json": {
       "model_id": "c2278f91228a4a19baaa903df18104d6",
       "version_major": 2,
       "version_minor": 0
      },
      "text/plain": [
       "Drawing 1000 posterior samples:   0%|          | 0/1000 [00:00<?, ?it/s]"
      ]
     },
     "metadata": {},
     "output_type": "display_data"
    },
    {
     "data": {
      "application/vnd.jupyter.widget-view+json": {
       "model_id": "6d1464bf6ac74341b7de98e6b6a76c9f",
       "version_major": 2,
       "version_minor": 0
      },
      "text/plain": [
       "Drawing 1000 posterior samples:   0%|          | 0/1000 [00:00<?, ?it/s]"
      ]
     },
     "metadata": {},
     "output_type": "display_data"
    },
    {
     "data": {
      "application/vnd.jupyter.widget-view+json": {
       "model_id": "58cc8bf3cead4e72955b710d40abc63b",
       "version_major": 2,
       "version_minor": 0
      },
      "text/plain": [
       "Drawing 1000 posterior samples:   0%|          | 0/1000 [00:00<?, ?it/s]"
      ]
     },
     "metadata": {},
     "output_type": "display_data"
    },
    {
     "data": {
      "application/vnd.jupyter.widget-view+json": {
       "model_id": "a79caa563c184282a8a4946be0bd73b6",
       "version_major": 2,
       "version_minor": 0
      },
      "text/plain": [
       "Drawing 1000 posterior samples:   0%|          | 0/1000 [00:00<?, ?it/s]"
      ]
     },
     "metadata": {},
     "output_type": "display_data"
    },
    {
     "data": {
      "application/vnd.jupyter.widget-view+json": {
       "model_id": "5f3f8937be3a4017a86426656ac7e38e",
       "version_major": 2,
       "version_minor": 0
      },
      "text/plain": [
       "Drawing 1000 posterior samples:   0%|          | 0/1000 [00:00<?, ?it/s]"
      ]
     },
     "metadata": {},
     "output_type": "display_data"
    },
    {
     "data": {
      "application/vnd.jupyter.widget-view+json": {
       "model_id": "85ec62daad8b4ca6941e20beb3e047b2",
       "version_major": 2,
       "version_minor": 0
      },
      "text/plain": [
       "Drawing 1000 posterior samples:   0%|          | 0/1000 [00:00<?, ?it/s]"
      ]
     },
     "metadata": {},
     "output_type": "display_data"
    },
    {
     "data": {
      "application/vnd.jupyter.widget-view+json": {
       "model_id": "205e7d4e96a24608a70a0823d31e7e59",
       "version_major": 2,
       "version_minor": 0
      },
      "text/plain": [
       "Drawing 1000 posterior samples:   0%|          | 0/1000 [00:00<?, ?it/s]"
      ]
     },
     "metadata": {},
     "output_type": "display_data"
    },
    {
     "data": {
      "application/vnd.jupyter.widget-view+json": {
       "model_id": "35d4de42ee9b40ac8c9261022e61ae75",
       "version_major": 2,
       "version_minor": 0
      },
      "text/plain": [
       "Drawing 1000 posterior samples:   0%|          | 0/1000 [00:00<?, ?it/s]"
      ]
     },
     "metadata": {},
     "output_type": "display_data"
    },
    {
     "data": {
      "application/vnd.jupyter.widget-view+json": {
       "model_id": "da4f7d38a87d4702aacf675b7af56ebd",
       "version_major": 2,
       "version_minor": 0
      },
      "text/plain": [
       "Drawing 1000 posterior samples:   0%|          | 0/1000 [00:00<?, ?it/s]"
      ]
     },
     "metadata": {},
     "output_type": "display_data"
    },
    {
     "data": {
      "application/vnd.jupyter.widget-view+json": {
       "model_id": "0fd3ad22b4ef47349860bbfd10d688e7",
       "version_major": 2,
       "version_minor": 0
      },
      "text/plain": [
       "Drawing 1000 posterior samples:   0%|          | 0/1000 [00:00<?, ?it/s]"
      ]
     },
     "metadata": {},
     "output_type": "display_data"
    },
    {
     "data": {
      "application/vnd.jupyter.widget-view+json": {
       "model_id": "80c4b1657702416383b93db3df67efb3",
       "version_major": 2,
       "version_minor": 0
      },
      "text/plain": [
       "Drawing 1000 posterior samples:   0%|          | 0/1000 [00:00<?, ?it/s]"
      ]
     },
     "metadata": {},
     "output_type": "display_data"
    },
    {
     "data": {
      "application/vnd.jupyter.widget-view+json": {
       "model_id": "f51eab5f9a3b438c814ec68e22e48357",
       "version_major": 2,
       "version_minor": 0
      },
      "text/plain": [
       "Drawing 1000 posterior samples:   0%|          | 0/1000 [00:00<?, ?it/s]"
      ]
     },
     "metadata": {},
     "output_type": "display_data"
    },
    {
     "data": {
      "application/vnd.jupyter.widget-view+json": {
       "model_id": "0f8d744ca34c4a3abdb0d4fc6f7c3fb1",
       "version_major": 2,
       "version_minor": 0
      },
      "text/plain": [
       "Drawing 1000 posterior samples:   0%|          | 0/1000 [00:00<?, ?it/s]"
      ]
     },
     "metadata": {},
     "output_type": "display_data"
    },
    {
     "data": {
      "application/vnd.jupyter.widget-view+json": {
       "model_id": "25ca798ae38843beadd2858b4e1815b3",
       "version_major": 2,
       "version_minor": 0
      },
      "text/plain": [
       "Drawing 1000 posterior samples:   0%|          | 0/1000 [00:00<?, ?it/s]"
      ]
     },
     "metadata": {},
     "output_type": "display_data"
    },
    {
     "data": {
      "application/vnd.jupyter.widget-view+json": {
       "model_id": "6042c22467994bfebd709e5e7a80b345",
       "version_major": 2,
       "version_minor": 0
      },
      "text/plain": [
       "Drawing 1000 posterior samples:   0%|          | 0/1000 [00:00<?, ?it/s]"
      ]
     },
     "metadata": {},
     "output_type": "display_data"
    },
    {
     "data": {
      "application/vnd.jupyter.widget-view+json": {
       "model_id": "3fdcb3188d5642fdba92e57b347f7732",
       "version_major": 2,
       "version_minor": 0
      },
      "text/plain": [
       "Drawing 1000 posterior samples:   0%|          | 0/1000 [00:00<?, ?it/s]"
      ]
     },
     "metadata": {},
     "output_type": "display_data"
    },
    {
     "data": {
      "application/vnd.jupyter.widget-view+json": {
       "model_id": "fbdc08fcd233477aaea6c50a4461d74c",
       "version_major": 2,
       "version_minor": 0
      },
      "text/plain": [
       "Drawing 1000 posterior samples:   0%|          | 0/1000 [00:00<?, ?it/s]"
      ]
     },
     "metadata": {},
     "output_type": "display_data"
    },
    {
     "data": {
      "application/vnd.jupyter.widget-view+json": {
       "model_id": "08a024ca107d4591be0381192618ed12",
       "version_major": 2,
       "version_minor": 0
      },
      "text/plain": [
       "Drawing 1000 posterior samples:   0%|          | 0/1000 [00:00<?, ?it/s]"
      ]
     },
     "metadata": {},
     "output_type": "display_data"
    },
    {
     "data": {
      "application/vnd.jupyter.widget-view+json": {
       "model_id": "096de39e8317468e81c054045dac81c2",
       "version_major": 2,
       "version_minor": 0
      },
      "text/plain": [
       "Drawing 1000 posterior samples:   0%|          | 0/1000 [00:00<?, ?it/s]"
      ]
     },
     "metadata": {},
     "output_type": "display_data"
    },
    {
     "data": {
      "application/vnd.jupyter.widget-view+json": {
       "model_id": "3096e37626cf43d889bc2c5dade0a126",
       "version_major": 2,
       "version_minor": 0
      },
      "text/plain": [
       "Drawing 1000 posterior samples:   0%|          | 0/1000 [00:00<?, ?it/s]"
      ]
     },
     "metadata": {},
     "output_type": "display_data"
    },
    {
     "data": {
      "application/vnd.jupyter.widget-view+json": {
       "model_id": "22018dfcb19f44efad14d964a0906f75",
       "version_major": 2,
       "version_minor": 0
      },
      "text/plain": [
       "Drawing 1000 posterior samples:   0%|          | 0/1000 [00:00<?, ?it/s]"
      ]
     },
     "metadata": {},
     "output_type": "display_data"
    },
    {
     "data": {
      "application/vnd.jupyter.widget-view+json": {
       "model_id": "49375bc63dd2436d94322548e8c171a5",
       "version_major": 2,
       "version_minor": 0
      },
      "text/plain": [
       "Drawing 1000 posterior samples:   0%|          | 0/1000 [00:00<?, ?it/s]"
      ]
     },
     "metadata": {},
     "output_type": "display_data"
    },
    {
     "data": {
      "application/vnd.jupyter.widget-view+json": {
       "model_id": "e97020466edb411a8ebe279614efcfb4",
       "version_major": 2,
       "version_minor": 0
      },
      "text/plain": [
       "Drawing 1000 posterior samples:   0%|          | 0/1000 [00:00<?, ?it/s]"
      ]
     },
     "metadata": {},
     "output_type": "display_data"
    },
    {
     "data": {
      "application/vnd.jupyter.widget-view+json": {
       "model_id": "7ceaf1117456434d9b069c059a97b14f",
       "version_major": 2,
       "version_minor": 0
      },
      "text/plain": [
       "Drawing 1000 posterior samples:   0%|          | 0/1000 [00:00<?, ?it/s]"
      ]
     },
     "metadata": {},
     "output_type": "display_data"
    },
    {
     "data": {
      "application/vnd.jupyter.widget-view+json": {
       "model_id": "78dde37d28ae4c3c8222d2d98b80bc53",
       "version_major": 2,
       "version_minor": 0
      },
      "text/plain": [
       "Drawing 1000 posterior samples:   0%|          | 0/1000 [00:00<?, ?it/s]"
      ]
     },
     "metadata": {},
     "output_type": "display_data"
    },
    {
     "data": {
      "application/vnd.jupyter.widget-view+json": {
       "model_id": "c843171ed9b14600bf88610401f10632",
       "version_major": 2,
       "version_minor": 0
      },
      "text/plain": [
       "Drawing 1000 posterior samples:   0%|          | 0/1000 [00:00<?, ?it/s]"
      ]
     },
     "metadata": {},
     "output_type": "display_data"
    },
    {
     "data": {
      "application/vnd.jupyter.widget-view+json": {
       "model_id": "c3ce56160776452a8bca59ff34562a1c",
       "version_major": 2,
       "version_minor": 0
      },
      "text/plain": [
       "Drawing 1000 posterior samples:   0%|          | 0/1000 [00:00<?, ?it/s]"
      ]
     },
     "metadata": {},
     "output_type": "display_data"
    },
    {
     "data": {
      "application/vnd.jupyter.widget-view+json": {
       "model_id": "09fb9c4f6c4c414e9cfc231ae623ad06",
       "version_major": 2,
       "version_minor": 0
      },
      "text/plain": [
       "Drawing 1000 posterior samples:   0%|          | 0/1000 [00:00<?, ?it/s]"
      ]
     },
     "metadata": {},
     "output_type": "display_data"
    },
    {
     "data": {
      "application/vnd.jupyter.widget-view+json": {
       "model_id": "14725f264f0f48818dc5967512bcb99d",
       "version_major": 2,
       "version_minor": 0
      },
      "text/plain": [
       "Drawing 1000 posterior samples:   0%|          | 0/1000 [00:00<?, ?it/s]"
      ]
     },
     "metadata": {},
     "output_type": "display_data"
    },
    {
     "data": {
      "application/vnd.jupyter.widget-view+json": {
       "model_id": "1a053fb7afa0487ebdea0152de5c3ca5",
       "version_major": 2,
       "version_minor": 0
      },
      "text/plain": [
       "Drawing 1000 posterior samples:   0%|          | 0/1000 [00:00<?, ?it/s]"
      ]
     },
     "metadata": {},
     "output_type": "display_data"
    },
    {
     "data": {
      "application/vnd.jupyter.widget-view+json": {
       "model_id": "3e94a984594446cf9fa46eb5995c8ba8",
       "version_major": 2,
       "version_minor": 0
      },
      "text/plain": [
       "Drawing 1000 posterior samples:   0%|          | 0/1000 [00:00<?, ?it/s]"
      ]
     },
     "metadata": {},
     "output_type": "display_data"
    },
    {
     "data": {
      "application/vnd.jupyter.widget-view+json": {
       "model_id": "fc528fbc7ad8410c831d0f3537f7d660",
       "version_major": 2,
       "version_minor": 0
      },
      "text/plain": [
       "Drawing 1000 posterior samples:   0%|          | 0/1000 [00:00<?, ?it/s]"
      ]
     },
     "metadata": {},
     "output_type": "display_data"
    },
    {
     "data": {
      "application/vnd.jupyter.widget-view+json": {
       "model_id": "ac84516891944b0698d58e124400059c",
       "version_major": 2,
       "version_minor": 0
      },
      "text/plain": [
       "Drawing 1000 posterior samples:   0%|          | 0/1000 [00:00<?, ?it/s]"
      ]
     },
     "metadata": {},
     "output_type": "display_data"
    },
    {
     "data": {
      "application/vnd.jupyter.widget-view+json": {
       "model_id": "9823d0f1cf4547158d5cb754e6249716",
       "version_major": 2,
       "version_minor": 0
      },
      "text/plain": [
       "Drawing 1000 posterior samples:   0%|          | 0/1000 [00:00<?, ?it/s]"
      ]
     },
     "metadata": {},
     "output_type": "display_data"
    },
    {
     "data": {
      "application/vnd.jupyter.widget-view+json": {
       "model_id": "45686b47f7624f55a1886d720654b138",
       "version_major": 2,
       "version_minor": 0
      },
      "text/plain": [
       "Drawing 1000 posterior samples:   0%|          | 0/1000 [00:00<?, ?it/s]"
      ]
     },
     "metadata": {},
     "output_type": "display_data"
    },
    {
     "data": {
      "application/vnd.jupyter.widget-view+json": {
       "model_id": "e566dc1606fa49d39ea86f03e2749282",
       "version_major": 2,
       "version_minor": 0
      },
      "text/plain": [
       "Drawing 1000 posterior samples:   0%|          | 0/1000 [00:00<?, ?it/s]"
      ]
     },
     "metadata": {},
     "output_type": "display_data"
    },
    {
     "data": {
      "application/vnd.jupyter.widget-view+json": {
       "model_id": "dc1565289ef84ceab0f6318a3b279476",
       "version_major": 2,
       "version_minor": 0
      },
      "text/plain": [
       "Drawing 1000 posterior samples:   0%|          | 0/1000 [00:00<?, ?it/s]"
      ]
     },
     "metadata": {},
     "output_type": "display_data"
    },
    {
     "data": {
      "application/vnd.jupyter.widget-view+json": {
       "model_id": "7fe183601afe45caa31a1ba63fdbaaa9",
       "version_major": 2,
       "version_minor": 0
      },
      "text/plain": [
       "Drawing 1000 posterior samples:   0%|          | 0/1000 [00:00<?, ?it/s]"
      ]
     },
     "metadata": {},
     "output_type": "display_data"
    },
    {
     "data": {
      "application/vnd.jupyter.widget-view+json": {
       "model_id": "b8efd5d79ada4eada632222845fee300",
       "version_major": 2,
       "version_minor": 0
      },
      "text/plain": [
       "Drawing 1000 posterior samples:   0%|          | 0/1000 [00:00<?, ?it/s]"
      ]
     },
     "metadata": {},
     "output_type": "display_data"
    },
    {
     "data": {
      "application/vnd.jupyter.widget-view+json": {
       "model_id": "4572cfb9d1414095aeed758c5eb070c6",
       "version_major": 2,
       "version_minor": 0
      },
      "text/plain": [
       "Drawing 1000 posterior samples:   0%|          | 0/1000 [00:00<?, ?it/s]"
      ]
     },
     "metadata": {},
     "output_type": "display_data"
    },
    {
     "data": {
      "application/vnd.jupyter.widget-view+json": {
       "model_id": "0c5a58628e8340909cea509746053b8e",
       "version_major": 2,
       "version_minor": 0
      },
      "text/plain": [
       "Drawing 1000 posterior samples:   0%|          | 0/1000 [00:00<?, ?it/s]"
      ]
     },
     "metadata": {},
     "output_type": "display_data"
    },
    {
     "data": {
      "application/vnd.jupyter.widget-view+json": {
       "model_id": "7764a8a8f0024fff92807a47c2cd865a",
       "version_major": 2,
       "version_minor": 0
      },
      "text/plain": [
       "Drawing 1000 posterior samples:   0%|          | 0/1000 [00:00<?, ?it/s]"
      ]
     },
     "metadata": {},
     "output_type": "display_data"
    },
    {
     "data": {
      "application/vnd.jupyter.widget-view+json": {
       "model_id": "eb448d7e00dd4767968288b12e9f49ed",
       "version_major": 2,
       "version_minor": 0
      },
      "text/plain": [
       "Drawing 1000 posterior samples:   0%|          | 0/1000 [00:00<?, ?it/s]"
      ]
     },
     "metadata": {},
     "output_type": "display_data"
    },
    {
     "data": {
      "application/vnd.jupyter.widget-view+json": {
       "model_id": "769e784aa65a4b9b8df30c2308ba4e96",
       "version_major": 2,
       "version_minor": 0
      },
      "text/plain": [
       "Drawing 1000 posterior samples:   0%|          | 0/1000 [00:00<?, ?it/s]"
      ]
     },
     "metadata": {},
     "output_type": "display_data"
    },
    {
     "data": {
      "application/vnd.jupyter.widget-view+json": {
       "model_id": "4c0ec65b35cb4064b4f85843ddf3df5c",
       "version_major": 2,
       "version_minor": 0
      },
      "text/plain": [
       "Drawing 1000 posterior samples:   0%|          | 0/1000 [00:00<?, ?it/s]"
      ]
     },
     "metadata": {},
     "output_type": "display_data"
    },
    {
     "data": {
      "application/vnd.jupyter.widget-view+json": {
       "model_id": "9bb4376837484104a56448b3e9dfca10",
       "version_major": 2,
       "version_minor": 0
      },
      "text/plain": [
       "Drawing 1000 posterior samples:   0%|          | 0/1000 [00:00<?, ?it/s]"
      ]
     },
     "metadata": {},
     "output_type": "display_data"
    },
    {
     "data": {
      "application/vnd.jupyter.widget-view+json": {
       "model_id": "b3d5c03ab46b4b4d85e36bfcc214c203",
       "version_major": 2,
       "version_minor": 0
      },
      "text/plain": [
       "Drawing 1000 posterior samples:   0%|          | 0/1000 [00:00<?, ?it/s]"
      ]
     },
     "metadata": {},
     "output_type": "display_data"
    },
    {
     "data": {
      "application/vnd.jupyter.widget-view+json": {
       "model_id": "4f6426afd49d433f9e9d73c325c15c05",
       "version_major": 2,
       "version_minor": 0
      },
      "text/plain": [
       "Drawing 1000 posterior samples:   0%|          | 0/1000 [00:00<?, ?it/s]"
      ]
     },
     "metadata": {},
     "output_type": "display_data"
    },
    {
     "data": {
      "application/vnd.jupyter.widget-view+json": {
       "model_id": "72ecf98e8a74433a937f97d889899220",
       "version_major": 2,
       "version_minor": 0
      },
      "text/plain": [
       "Drawing 1000 posterior samples:   0%|          | 0/1000 [00:00<?, ?it/s]"
      ]
     },
     "metadata": {},
     "output_type": "display_data"
    },
    {
     "data": {
      "application/vnd.jupyter.widget-view+json": {
       "model_id": "0e1bc97d0cdc4f1b9284671c608b52f4",
       "version_major": 2,
       "version_minor": 0
      },
      "text/plain": [
       "Drawing 1000 posterior samples:   0%|          | 0/1000 [00:00<?, ?it/s]"
      ]
     },
     "metadata": {},
     "output_type": "display_data"
    },
    {
     "data": {
      "application/vnd.jupyter.widget-view+json": {
       "model_id": "feb24d8463b44dd0a987c4468111ae29",
       "version_major": 2,
       "version_minor": 0
      },
      "text/plain": [
       "Drawing 1000 posterior samples:   0%|          | 0/1000 [00:00<?, ?it/s]"
      ]
     },
     "metadata": {},
     "output_type": "display_data"
    },
    {
     "data": {
      "application/vnd.jupyter.widget-view+json": {
       "model_id": "e6c55bf70f76423fac0035e6d30b79bf",
       "version_major": 2,
       "version_minor": 0
      },
      "text/plain": [
       "Drawing 1000 posterior samples:   0%|          | 0/1000 [00:00<?, ?it/s]"
      ]
     },
     "metadata": {},
     "output_type": "display_data"
    },
    {
     "data": {
      "application/vnd.jupyter.widget-view+json": {
       "model_id": "1c19516693fb45689bcc7aa77c856c39",
       "version_major": 2,
       "version_minor": 0
      },
      "text/plain": [
       "Drawing 1000 posterior samples:   0%|          | 0/1000 [00:00<?, ?it/s]"
      ]
     },
     "metadata": {},
     "output_type": "display_data"
    },
    {
     "data": {
      "application/vnd.jupyter.widget-view+json": {
       "model_id": "f68c9d54927f41e1a0f2deaf08f7b95c",
       "version_major": 2,
       "version_minor": 0
      },
      "text/plain": [
       "Drawing 1000 posterior samples:   0%|          | 0/1000 [00:00<?, ?it/s]"
      ]
     },
     "metadata": {},
     "output_type": "display_data"
    },
    {
     "data": {
      "application/vnd.jupyter.widget-view+json": {
       "model_id": "2b76e77417d846a09f87680b03fe9435",
       "version_major": 2,
       "version_minor": 0
      },
      "text/plain": [
       "Drawing 1000 posterior samples:   0%|          | 0/1000 [00:00<?, ?it/s]"
      ]
     },
     "metadata": {},
     "output_type": "display_data"
    },
    {
     "data": {
      "application/vnd.jupyter.widget-view+json": {
       "model_id": "a114b28fee3d4a988be6494a5675cef7",
       "version_major": 2,
       "version_minor": 0
      },
      "text/plain": [
       "Drawing 1000 posterior samples:   0%|          | 0/1000 [00:00<?, ?it/s]"
      ]
     },
     "metadata": {},
     "output_type": "display_data"
    },
    {
     "data": {
      "application/vnd.jupyter.widget-view+json": {
       "model_id": "e8347f537b614bf482462a5264cbc675",
       "version_major": 2,
       "version_minor": 0
      },
      "text/plain": [
       "Drawing 1000 posterior samples:   0%|          | 0/1000 [00:00<?, ?it/s]"
      ]
     },
     "metadata": {},
     "output_type": "display_data"
    },
    {
     "data": {
      "application/vnd.jupyter.widget-view+json": {
       "model_id": "44ed570a30444a0b947810060da8b3c7",
       "version_major": 2,
       "version_minor": 0
      },
      "text/plain": [
       "Drawing 1000 posterior samples:   0%|          | 0/1000 [00:00<?, ?it/s]"
      ]
     },
     "metadata": {},
     "output_type": "display_data"
    },
    {
     "data": {
      "application/vnd.jupyter.widget-view+json": {
       "model_id": "7e8b8ac04b0c42cdae88dc558bf06bf1",
       "version_major": 2,
       "version_minor": 0
      },
      "text/plain": [
       "Drawing 1000 posterior samples:   0%|          | 0/1000 [00:00<?, ?it/s]"
      ]
     },
     "metadata": {},
     "output_type": "display_data"
    },
    {
     "data": {
      "application/vnd.jupyter.widget-view+json": {
       "model_id": "ad66761d8fa84943b23e70c1bb877d5f",
       "version_major": 2,
       "version_minor": 0
      },
      "text/plain": [
       "Drawing 1000 posterior samples:   0%|          | 0/1000 [00:00<?, ?it/s]"
      ]
     },
     "metadata": {},
     "output_type": "display_data"
    },
    {
     "data": {
      "application/vnd.jupyter.widget-view+json": {
       "model_id": "f2b20ada9ea246bc9f5c19b1516ed839",
       "version_major": 2,
       "version_minor": 0
      },
      "text/plain": [
       "Drawing 1000 posterior samples:   0%|          | 0/1000 [00:00<?, ?it/s]"
      ]
     },
     "metadata": {},
     "output_type": "display_data"
    },
    {
     "data": {
      "application/vnd.jupyter.widget-view+json": {
       "model_id": "38382570abf4415f9b989ba92c3d9f94",
       "version_major": 2,
       "version_minor": 0
      },
      "text/plain": [
       "Drawing 1000 posterior samples:   0%|          | 0/1000 [00:00<?, ?it/s]"
      ]
     },
     "metadata": {},
     "output_type": "display_data"
    },
    {
     "data": {
      "application/vnd.jupyter.widget-view+json": {
       "model_id": "d321bef935fa437dbd70a5de5e0e0de5",
       "version_major": 2,
       "version_minor": 0
      },
      "text/plain": [
       "Drawing 1000 posterior samples:   0%|          | 0/1000 [00:00<?, ?it/s]"
      ]
     },
     "metadata": {},
     "output_type": "display_data"
    },
    {
     "data": {
      "application/vnd.jupyter.widget-view+json": {
       "model_id": "738d36f82c374a6b8805aa01799faef6",
       "version_major": 2,
       "version_minor": 0
      },
      "text/plain": [
       "Drawing 1000 posterior samples:   0%|          | 0/1000 [00:00<?, ?it/s]"
      ]
     },
     "metadata": {},
     "output_type": "display_data"
    },
    {
     "data": {
      "application/vnd.jupyter.widget-view+json": {
       "model_id": "77cab7d1ef6149c9bf479dd92885d626",
       "version_major": 2,
       "version_minor": 0
      },
      "text/plain": [
       "Drawing 1000 posterior samples:   0%|          | 0/1000 [00:00<?, ?it/s]"
      ]
     },
     "metadata": {},
     "output_type": "display_data"
    },
    {
     "data": {
      "application/vnd.jupyter.widget-view+json": {
       "model_id": "214e46d2c28b4b779c1a54988c17d9a1",
       "version_major": 2,
       "version_minor": 0
      },
      "text/plain": [
       "Drawing 1000 posterior samples:   0%|          | 0/1000 [00:00<?, ?it/s]"
      ]
     },
     "metadata": {},
     "output_type": "display_data"
    },
    {
     "data": {
      "application/vnd.jupyter.widget-view+json": {
       "model_id": "248c67a666f74b1f8917ae8eb0075443",
       "version_major": 2,
       "version_minor": 0
      },
      "text/plain": [
       "Drawing 1000 posterior samples:   0%|          | 0/1000 [00:00<?, ?it/s]"
      ]
     },
     "metadata": {},
     "output_type": "display_data"
    },
    {
     "data": {
      "application/vnd.jupyter.widget-view+json": {
       "model_id": "c344026e0e2c46cf9a022311389342b4",
       "version_major": 2,
       "version_minor": 0
      },
      "text/plain": [
       "Drawing 1000 posterior samples:   0%|          | 0/1000 [00:00<?, ?it/s]"
      ]
     },
     "metadata": {},
     "output_type": "display_data"
    },
    {
     "data": {
      "application/vnd.jupyter.widget-view+json": {
       "model_id": "dfdfaa4f9cdb4835b68b1059d9d84e0e",
       "version_major": 2,
       "version_minor": 0
      },
      "text/plain": [
       "Drawing 1000 posterior samples:   0%|          | 0/1000 [00:00<?, ?it/s]"
      ]
     },
     "metadata": {},
     "output_type": "display_data"
    },
    {
     "data": {
      "application/vnd.jupyter.widget-view+json": {
       "model_id": "bb97fc8aba324b8685c5d42bfed226ff",
       "version_major": 2,
       "version_minor": 0
      },
      "text/plain": [
       "Drawing 1000 posterior samples:   0%|          | 0/1000 [00:00<?, ?it/s]"
      ]
     },
     "metadata": {},
     "output_type": "display_data"
    },
    {
     "data": {
      "application/vnd.jupyter.widget-view+json": {
       "model_id": "7c860324e52247379004cc9cc0b5031c",
       "version_major": 2,
       "version_minor": 0
      },
      "text/plain": [
       "Drawing 1000 posterior samples:   0%|          | 0/1000 [00:00<?, ?it/s]"
      ]
     },
     "metadata": {},
     "output_type": "display_data"
    },
    {
     "data": {
      "application/vnd.jupyter.widget-view+json": {
       "model_id": "6b6a621974754b9d970e336da70318b3",
       "version_major": 2,
       "version_minor": 0
      },
      "text/plain": [
       "Drawing 1000 posterior samples:   0%|          | 0/1000 [00:00<?, ?it/s]"
      ]
     },
     "metadata": {},
     "output_type": "display_data"
    },
    {
     "data": {
      "application/vnd.jupyter.widget-view+json": {
       "model_id": "d6df3f5e9e854160aa0bcd4408039369",
       "version_major": 2,
       "version_minor": 0
      },
      "text/plain": [
       "Drawing 1000 posterior samples:   0%|          | 0/1000 [00:00<?, ?it/s]"
      ]
     },
     "metadata": {},
     "output_type": "display_data"
    },
    {
     "data": {
      "application/vnd.jupyter.widget-view+json": {
       "model_id": "a113f51db2954f658f37299ca72a5088",
       "version_major": 2,
       "version_minor": 0
      },
      "text/plain": [
       "Drawing 1000 posterior samples:   0%|          | 0/1000 [00:00<?, ?it/s]"
      ]
     },
     "metadata": {},
     "output_type": "display_data"
    },
    {
     "data": {
      "application/vnd.jupyter.widget-view+json": {
       "model_id": "6fc453de0d154dfa8822e9f237c4acaf",
       "version_major": 2,
       "version_minor": 0
      },
      "text/plain": [
       "Drawing 1000 posterior samples:   0%|          | 0/1000 [00:00<?, ?it/s]"
      ]
     },
     "metadata": {},
     "output_type": "display_data"
    },
    {
     "data": {
      "application/vnd.jupyter.widget-view+json": {
       "model_id": "b01fe90851e549c1bd329b2ab42ad05d",
       "version_major": 2,
       "version_minor": 0
      },
      "text/plain": [
       "Drawing 1000 posterior samples:   0%|          | 0/1000 [00:00<?, ?it/s]"
      ]
     },
     "metadata": {},
     "output_type": "display_data"
    },
    {
     "data": {
      "application/vnd.jupyter.widget-view+json": {
       "model_id": "09c62d3bb48b48c083bdc0a1ae4380c0",
       "version_major": 2,
       "version_minor": 0
      },
      "text/plain": [
       "Drawing 1000 posterior samples:   0%|          | 0/1000 [00:00<?, ?it/s]"
      ]
     },
     "metadata": {},
     "output_type": "display_data"
    },
    {
     "data": {
      "application/vnd.jupyter.widget-view+json": {
       "model_id": "187304e5256c4247a333855edcbec083",
       "version_major": 2,
       "version_minor": 0
      },
      "text/plain": [
       "Drawing 1000 posterior samples:   0%|          | 0/1000 [00:00<?, ?it/s]"
      ]
     },
     "metadata": {},
     "output_type": "display_data"
    },
    {
     "data": {
      "application/vnd.jupyter.widget-view+json": {
       "model_id": "7fbacc86bb954d77be92be0f21d6176a",
       "version_major": 2,
       "version_minor": 0
      },
      "text/plain": [
       "Drawing 1000 posterior samples:   0%|          | 0/1000 [00:00<?, ?it/s]"
      ]
     },
     "metadata": {},
     "output_type": "display_data"
    },
    {
     "data": {
      "application/vnd.jupyter.widget-view+json": {
       "model_id": "94b30a6b0676416e9442a0a6a1e19d0e",
       "version_major": 2,
       "version_minor": 0
      },
      "text/plain": [
       "Drawing 1000 posterior samples:   0%|          | 0/1000 [00:00<?, ?it/s]"
      ]
     },
     "metadata": {},
     "output_type": "display_data"
    },
    {
     "data": {
      "application/vnd.jupyter.widget-view+json": {
       "model_id": "92f9cf95ae1a4c5698ce8211e557e918",
       "version_major": 2,
       "version_minor": 0
      },
      "text/plain": [
       "Drawing 1000 posterior samples:   0%|          | 0/1000 [00:00<?, ?it/s]"
      ]
     },
     "metadata": {},
     "output_type": "display_data"
    },
    {
     "data": {
      "application/vnd.jupyter.widget-view+json": {
       "model_id": "9511371d03c446dca95272aaeed1ff02",
       "version_major": 2,
       "version_minor": 0
      },
      "text/plain": [
       "Drawing 1000 posterior samples:   0%|          | 0/1000 [00:00<?, ?it/s]"
      ]
     },
     "metadata": {},
     "output_type": "display_data"
    },
    {
     "data": {
      "application/vnd.jupyter.widget-view+json": {
       "model_id": "c7fe3587028e4f5481ae9382014d1f9e",
       "version_major": 2,
       "version_minor": 0
      },
      "text/plain": [
       "Drawing 1000 posterior samples:   0%|          | 0/1000 [00:00<?, ?it/s]"
      ]
     },
     "metadata": {},
     "output_type": "display_data"
    },
    {
     "data": {
      "application/vnd.jupyter.widget-view+json": {
       "model_id": "2cd11d2794f84ef88fa88f765f43a3c1",
       "version_major": 2,
       "version_minor": 0
      },
      "text/plain": [
       "Drawing 1000 posterior samples:   0%|          | 0/1000 [00:00<?, ?it/s]"
      ]
     },
     "metadata": {},
     "output_type": "display_data"
    },
    {
     "data": {
      "application/vnd.jupyter.widget-view+json": {
       "model_id": "9acc9aa5bfd34cea8883922cc533bf30",
       "version_major": 2,
       "version_minor": 0
      },
      "text/plain": [
       "Drawing 1000 posterior samples:   0%|          | 0/1000 [00:00<?, ?it/s]"
      ]
     },
     "metadata": {},
     "output_type": "display_data"
    },
    {
     "data": {
      "application/vnd.jupyter.widget-view+json": {
       "model_id": "68b815cd90c84a899708a3f8f53290d0",
       "version_major": 2,
       "version_minor": 0
      },
      "text/plain": [
       "Drawing 1000 posterior samples:   0%|          | 0/1000 [00:00<?, ?it/s]"
      ]
     },
     "metadata": {},
     "output_type": "display_data"
    },
    {
     "data": {
      "application/vnd.jupyter.widget-view+json": {
       "model_id": "81891579e9ce42f8bc5cb957cae79cd8",
       "version_major": 2,
       "version_minor": 0
      },
      "text/plain": [
       "Drawing 1000 posterior samples:   0%|          | 0/1000 [00:00<?, ?it/s]"
      ]
     },
     "metadata": {},
     "output_type": "display_data"
    },
    {
     "data": {
      "application/vnd.jupyter.widget-view+json": {
       "model_id": "31375647dd1b494692b21bc5f08a677a",
       "version_major": 2,
       "version_minor": 0
      },
      "text/plain": [
       "Drawing 1000 posterior samples:   0%|          | 0/1000 [00:00<?, ?it/s]"
      ]
     },
     "metadata": {},
     "output_type": "display_data"
    },
    {
     "data": {
      "application/vnd.jupyter.widget-view+json": {
       "model_id": "b86bd463d4a341d08e48cd1b602574a9",
       "version_major": 2,
       "version_minor": 0
      },
      "text/plain": [
       "Drawing 1000 posterior samples:   0%|          | 0/1000 [00:00<?, ?it/s]"
      ]
     },
     "metadata": {},
     "output_type": "display_data"
    },
    {
     "data": {
      "application/vnd.jupyter.widget-view+json": {
       "model_id": "4c1bdf89d44d46ea81c3b59881a91037",
       "version_major": 2,
       "version_minor": 0
      },
      "text/plain": [
       "Drawing 1000 posterior samples:   0%|          | 0/1000 [00:00<?, ?it/s]"
      ]
     },
     "metadata": {},
     "output_type": "display_data"
    },
    {
     "data": {
      "application/vnd.jupyter.widget-view+json": {
       "model_id": "31319fbe5d574494b5a982b2bb736317",
       "version_major": 2,
       "version_minor": 0
      },
      "text/plain": [
       "Drawing 1000 posterior samples:   0%|          | 0/1000 [00:00<?, ?it/s]"
      ]
     },
     "metadata": {},
     "output_type": "display_data"
    },
    {
     "data": {
      "application/vnd.jupyter.widget-view+json": {
       "model_id": "3e36c7b32ba145b0b8b804dbe27e57a6",
       "version_major": 2,
       "version_minor": 0
      },
      "text/plain": [
       "Drawing 1000 posterior samples:   0%|          | 0/1000 [00:00<?, ?it/s]"
      ]
     },
     "metadata": {},
     "output_type": "display_data"
    },
    {
     "data": {
      "application/vnd.jupyter.widget-view+json": {
       "model_id": "60bd0cf1db394b81b650ae8b984c0439",
       "version_major": 2,
       "version_minor": 0
      },
      "text/plain": [
       "Drawing 1000 posterior samples:   0%|          | 0/1000 [00:00<?, ?it/s]"
      ]
     },
     "metadata": {},
     "output_type": "display_data"
    },
    {
     "data": {
      "application/vnd.jupyter.widget-view+json": {
       "model_id": "bfa34960861a44e7ade1013a191a693f",
       "version_major": 2,
       "version_minor": 0
      },
      "text/plain": [
       "Drawing 1000 posterior samples:   0%|          | 0/1000 [00:00<?, ?it/s]"
      ]
     },
     "metadata": {},
     "output_type": "display_data"
    },
    {
     "data": {
      "application/vnd.jupyter.widget-view+json": {
       "model_id": "769897fc1b0c4504ac2b2d3eaf020af1",
       "version_major": 2,
       "version_minor": 0
      },
      "text/plain": [
       "Drawing 1000 posterior samples:   0%|          | 0/1000 [00:00<?, ?it/s]"
      ]
     },
     "metadata": {},
     "output_type": "display_data"
    },
    {
     "data": {
      "application/vnd.jupyter.widget-view+json": {
       "model_id": "531418afcf314975a82d746e1e137ebc",
       "version_major": 2,
       "version_minor": 0
      },
      "text/plain": [
       "Drawing 1000 posterior samples:   0%|          | 0/1000 [00:00<?, ?it/s]"
      ]
     },
     "metadata": {},
     "output_type": "display_data"
    },
    {
     "data": {
      "application/vnd.jupyter.widget-view+json": {
       "model_id": "ed777b9e36ab491d8765dfee2f25b4ec",
       "version_major": 2,
       "version_minor": 0
      },
      "text/plain": [
       "Drawing 1000 posterior samples:   0%|          | 0/1000 [00:00<?, ?it/s]"
      ]
     },
     "metadata": {},
     "output_type": "display_data"
    },
    {
     "data": {
      "application/vnd.jupyter.widget-view+json": {
       "model_id": "04804534c09e4235ba3e14ddd16c1d40",
       "version_major": 2,
       "version_minor": 0
      },
      "text/plain": [
       "Drawing 1000 posterior samples:   0%|          | 0/1000 [00:00<?, ?it/s]"
      ]
     },
     "metadata": {},
     "output_type": "display_data"
    },
    {
     "data": {
      "application/vnd.jupyter.widget-view+json": {
       "model_id": "3e2ef02772cb44a2888e8430afb20381",
       "version_major": 2,
       "version_minor": 0
      },
      "text/plain": [
       "Drawing 1000 posterior samples:   0%|          | 0/1000 [00:00<?, ?it/s]"
      ]
     },
     "metadata": {},
     "output_type": "display_data"
    },
    {
     "data": {
      "application/vnd.jupyter.widget-view+json": {
       "model_id": "3d567c87c5e742b5a389f2e807cbfeed",
       "version_major": 2,
       "version_minor": 0
      },
      "text/plain": [
       "Drawing 1000 posterior samples:   0%|          | 0/1000 [00:00<?, ?it/s]"
      ]
     },
     "metadata": {},
     "output_type": "display_data"
    },
    {
     "data": {
      "application/vnd.jupyter.widget-view+json": {
       "model_id": "d37713771594427fb782fa9cb2cb68f6",
       "version_major": 2,
       "version_minor": 0
      },
      "text/plain": [
       "Drawing 1000 posterior samples:   0%|          | 0/1000 [00:00<?, ?it/s]"
      ]
     },
     "metadata": {},
     "output_type": "display_data"
    },
    {
     "data": {
      "application/vnd.jupyter.widget-view+json": {
       "model_id": "f8eb090f1c6043299cacbbb51439fe25",
       "version_major": 2,
       "version_minor": 0
      },
      "text/plain": [
       "Drawing 1000 posterior samples:   0%|          | 0/1000 [00:00<?, ?it/s]"
      ]
     },
     "metadata": {},
     "output_type": "display_data"
    },
    {
     "data": {
      "application/vnd.jupyter.widget-view+json": {
       "model_id": "10726c3ad4f54a7d913f457c4dab5ae9",
       "version_major": 2,
       "version_minor": 0
      },
      "text/plain": [
       "Drawing 1000 posterior samples:   0%|          | 0/1000 [00:00<?, ?it/s]"
      ]
     },
     "metadata": {},
     "output_type": "display_data"
    },
    {
     "data": {
      "application/vnd.jupyter.widget-view+json": {
       "model_id": "51e1ebc2fae94943baa8862c437c46a8",
       "version_major": 2,
       "version_minor": 0
      },
      "text/plain": [
       "Drawing 1000 posterior samples:   0%|          | 0/1000 [00:00<?, ?it/s]"
      ]
     },
     "metadata": {},
     "output_type": "display_data"
    },
    {
     "data": {
      "application/vnd.jupyter.widget-view+json": {
       "model_id": "01b91e4422ad433fbd412b9f5e47795f",
       "version_major": 2,
       "version_minor": 0
      },
      "text/plain": [
       "Drawing 1000 posterior samples:   0%|          | 0/1000 [00:00<?, ?it/s]"
      ]
     },
     "metadata": {},
     "output_type": "display_data"
    },
    {
     "data": {
      "application/vnd.jupyter.widget-view+json": {
       "model_id": "b1fc0ac141ad429d91481251d3bccafc",
       "version_major": 2,
       "version_minor": 0
      },
      "text/plain": [
       "Drawing 1000 posterior samples:   0%|          | 0/1000 [00:00<?, ?it/s]"
      ]
     },
     "metadata": {},
     "output_type": "display_data"
    },
    {
     "data": {
      "application/vnd.jupyter.widget-view+json": {
       "model_id": "020f094676a545068c5cfef756c24e19",
       "version_major": 2,
       "version_minor": 0
      },
      "text/plain": [
       "Drawing 1000 posterior samples:   0%|          | 0/1000 [00:00<?, ?it/s]"
      ]
     },
     "metadata": {},
     "output_type": "display_data"
    },
    {
     "data": {
      "application/vnd.jupyter.widget-view+json": {
       "model_id": "1f51269f0e4c4d7f9c2a5b522b31c8ed",
       "version_major": 2,
       "version_minor": 0
      },
      "text/plain": [
       "Drawing 1000 posterior samples:   0%|          | 0/1000 [00:00<?, ?it/s]"
      ]
     },
     "metadata": {},
     "output_type": "display_data"
    },
    {
     "data": {
      "application/vnd.jupyter.widget-view+json": {
       "model_id": "f269a28101aa496f9e1b4170e28c22b1",
       "version_major": 2,
       "version_minor": 0
      },
      "text/plain": [
       "Drawing 1000 posterior samples:   0%|          | 0/1000 [00:00<?, ?it/s]"
      ]
     },
     "metadata": {},
     "output_type": "display_data"
    },
    {
     "data": {
      "application/vnd.jupyter.widget-view+json": {
       "model_id": "0ca43f8c9c154ac1a6eb1f5cd032dab2",
       "version_major": 2,
       "version_minor": 0
      },
      "text/plain": [
       "Drawing 1000 posterior samples:   0%|          | 0/1000 [00:00<?, ?it/s]"
      ]
     },
     "metadata": {},
     "output_type": "display_data"
    },
    {
     "data": {
      "application/vnd.jupyter.widget-view+json": {
       "model_id": "5a1128aa3e894d58bef9e789de47094a",
       "version_major": 2,
       "version_minor": 0
      },
      "text/plain": [
       "Drawing 1000 posterior samples:   0%|          | 0/1000 [00:00<?, ?it/s]"
      ]
     },
     "metadata": {},
     "output_type": "display_data"
    },
    {
     "data": {
      "application/vnd.jupyter.widget-view+json": {
       "model_id": "634e0afae07a492fac8c4f499b25198b",
       "version_major": 2,
       "version_minor": 0
      },
      "text/plain": [
       "Drawing 1000 posterior samples:   0%|          | 0/1000 [00:00<?, ?it/s]"
      ]
     },
     "metadata": {},
     "output_type": "display_data"
    },
    {
     "data": {
      "application/vnd.jupyter.widget-view+json": {
       "model_id": "c6074220b24e41ea9bba2526e9133ac3",
       "version_major": 2,
       "version_minor": 0
      },
      "text/plain": [
       "Drawing 1000 posterior samples:   0%|          | 0/1000 [00:00<?, ?it/s]"
      ]
     },
     "metadata": {},
     "output_type": "display_data"
    },
    {
     "data": {
      "application/vnd.jupyter.widget-view+json": {
       "model_id": "b84539dde2e14409a798c4910d3bf686",
       "version_major": 2,
       "version_minor": 0
      },
      "text/plain": [
       "Drawing 1000 posterior samples:   0%|          | 0/1000 [00:00<?, ?it/s]"
      ]
     },
     "metadata": {},
     "output_type": "display_data"
    },
    {
     "data": {
      "application/vnd.jupyter.widget-view+json": {
       "model_id": "b6473e6fbfe5462bb4d1ffe8e35311d9",
       "version_major": 2,
       "version_minor": 0
      },
      "text/plain": [
       "Drawing 1000 posterior samples:   0%|          | 0/1000 [00:00<?, ?it/s]"
      ]
     },
     "metadata": {},
     "output_type": "display_data"
    },
    {
     "data": {
      "application/vnd.jupyter.widget-view+json": {
       "model_id": "8fa016a50fef4ae38cfcd6a38cbed894",
       "version_major": 2,
       "version_minor": 0
      },
      "text/plain": [
       "Drawing 1000 posterior samples:   0%|          | 0/1000 [00:00<?, ?it/s]"
      ]
     },
     "metadata": {},
     "output_type": "display_data"
    },
    {
     "data": {
      "application/vnd.jupyter.widget-view+json": {
       "model_id": "0d3f747ac7bc4fa1b3243e24b4a32af8",
       "version_major": 2,
       "version_minor": 0
      },
      "text/plain": [
       "Drawing 1000 posterior samples:   0%|          | 0/1000 [00:00<?, ?it/s]"
      ]
     },
     "metadata": {},
     "output_type": "display_data"
    },
    {
     "data": {
      "application/vnd.jupyter.widget-view+json": {
       "model_id": "e39f04a9000b49768fd1bb54c7b4a15e",
       "version_major": 2,
       "version_minor": 0
      },
      "text/plain": [
       "Drawing 1000 posterior samples:   0%|          | 0/1000 [00:00<?, ?it/s]"
      ]
     },
     "metadata": {},
     "output_type": "display_data"
    },
    {
     "data": {
      "application/vnd.jupyter.widget-view+json": {
       "model_id": "b6c6551136c84573ac64ad6ea111470d",
       "version_major": 2,
       "version_minor": 0
      },
      "text/plain": [
       "Drawing 1000 posterior samples:   0%|          | 0/1000 [00:00<?, ?it/s]"
      ]
     },
     "metadata": {},
     "output_type": "display_data"
    },
    {
     "data": {
      "application/vnd.jupyter.widget-view+json": {
       "model_id": "2f9575ccb8414fafaf393148c2c7babc",
       "version_major": 2,
       "version_minor": 0
      },
      "text/plain": [
       "Drawing 1000 posterior samples:   0%|          | 0/1000 [00:00<?, ?it/s]"
      ]
     },
     "metadata": {},
     "output_type": "display_data"
    },
    {
     "data": {
      "application/vnd.jupyter.widget-view+json": {
       "model_id": "da1f240aa2da470bbcef5aa5862f5d66",
       "version_major": 2,
       "version_minor": 0
      },
      "text/plain": [
       "Drawing 1000 posterior samples:   0%|          | 0/1000 [00:00<?, ?it/s]"
      ]
     },
     "metadata": {},
     "output_type": "display_data"
    },
    {
     "data": {
      "application/vnd.jupyter.widget-view+json": {
       "model_id": "c4db722c5d8647b988586c9f7dd1f36a",
       "version_major": 2,
       "version_minor": 0
      },
      "text/plain": [
       "Drawing 1000 posterior samples:   0%|          | 0/1000 [00:00<?, ?it/s]"
      ]
     },
     "metadata": {},
     "output_type": "display_data"
    },
    {
     "data": {
      "application/vnd.jupyter.widget-view+json": {
       "model_id": "d8433a6a72eb48288eed9acad0d0d1ad",
       "version_major": 2,
       "version_minor": 0
      },
      "text/plain": [
       "Drawing 1000 posterior samples:   0%|          | 0/1000 [00:00<?, ?it/s]"
      ]
     },
     "metadata": {},
     "output_type": "display_data"
    },
    {
     "data": {
      "application/vnd.jupyter.widget-view+json": {
       "model_id": "2c5d5e308e6f466b885aa25d3add9b6f",
       "version_major": 2,
       "version_minor": 0
      },
      "text/plain": [
       "Drawing 1000 posterior samples:   0%|          | 0/1000 [00:00<?, ?it/s]"
      ]
     },
     "metadata": {},
     "output_type": "display_data"
    },
    {
     "data": {
      "application/vnd.jupyter.widget-view+json": {
       "model_id": "00f17e257af246e4aa223031651a0b69",
       "version_major": 2,
       "version_minor": 0
      },
      "text/plain": [
       "Drawing 1000 posterior samples:   0%|          | 0/1000 [00:00<?, ?it/s]"
      ]
     },
     "metadata": {},
     "output_type": "display_data"
    },
    {
     "data": {
      "application/vnd.jupyter.widget-view+json": {
       "model_id": "af85029876bb489cb1303029ab9098a3",
       "version_major": 2,
       "version_minor": 0
      },
      "text/plain": [
       "Drawing 1000 posterior samples:   0%|          | 0/1000 [00:00<?, ?it/s]"
      ]
     },
     "metadata": {},
     "output_type": "display_data"
    },
    {
     "data": {
      "application/vnd.jupyter.widget-view+json": {
       "model_id": "903fbf05c05941478f263cb6c93631da",
       "version_major": 2,
       "version_minor": 0
      },
      "text/plain": [
       "Drawing 1000 posterior samples:   0%|          | 0/1000 [00:00<?, ?it/s]"
      ]
     },
     "metadata": {},
     "output_type": "display_data"
    },
    {
     "data": {
      "application/vnd.jupyter.widget-view+json": {
       "model_id": "0e7dcab879e044ada8bdb7864ef3ed03",
       "version_major": 2,
       "version_minor": 0
      },
      "text/plain": [
       "Drawing 1000 posterior samples:   0%|          | 0/1000 [00:00<?, ?it/s]"
      ]
     },
     "metadata": {},
     "output_type": "display_data"
    },
    {
     "data": {
      "application/vnd.jupyter.widget-view+json": {
       "model_id": "facd13009ba0437f89332c86504d2c9a",
       "version_major": 2,
       "version_minor": 0
      },
      "text/plain": [
       "Drawing 1000 posterior samples:   0%|          | 0/1000 [00:00<?, ?it/s]"
      ]
     },
     "metadata": {},
     "output_type": "display_data"
    },
    {
     "data": {
      "application/vnd.jupyter.widget-view+json": {
       "model_id": "ab314b6421634e9d9158177693d00171",
       "version_major": 2,
       "version_minor": 0
      },
      "text/plain": [
       "Drawing 1000 posterior samples:   0%|          | 0/1000 [00:00<?, ?it/s]"
      ]
     },
     "metadata": {},
     "output_type": "display_data"
    },
    {
     "data": {
      "application/vnd.jupyter.widget-view+json": {
       "model_id": "b7a232bd43984489be7bc32e21ab7762",
       "version_major": 2,
       "version_minor": 0
      },
      "text/plain": [
       "Drawing 1000 posterior samples:   0%|          | 0/1000 [00:00<?, ?it/s]"
      ]
     },
     "metadata": {},
     "output_type": "display_data"
    },
    {
     "data": {
      "application/vnd.jupyter.widget-view+json": {
       "model_id": "4fa01f873eb5424caec6b243a763a40e",
       "version_major": 2,
       "version_minor": 0
      },
      "text/plain": [
       "Drawing 1000 posterior samples:   0%|          | 0/1000 [00:00<?, ?it/s]"
      ]
     },
     "metadata": {},
     "output_type": "display_data"
    },
    {
     "data": {
      "application/vnd.jupyter.widget-view+json": {
       "model_id": "dfdd59adc8504f8c918c0e8891300974",
       "version_major": 2,
       "version_minor": 0
      },
      "text/plain": [
       "Drawing 1000 posterior samples:   0%|          | 0/1000 [00:00<?, ?it/s]"
      ]
     },
     "metadata": {},
     "output_type": "display_data"
    },
    {
     "data": {
      "application/vnd.jupyter.widget-view+json": {
       "model_id": "f6a6bcf849d748ec9f76f2c68d4cba3a",
       "version_major": 2,
       "version_minor": 0
      },
      "text/plain": [
       "Drawing 1000 posterior samples:   0%|          | 0/1000 [00:00<?, ?it/s]"
      ]
     },
     "metadata": {},
     "output_type": "display_data"
    },
    {
     "data": {
      "application/vnd.jupyter.widget-view+json": {
       "model_id": "088398cc9c37422d913ae55c5a83aeaa",
       "version_major": 2,
       "version_minor": 0
      },
      "text/plain": [
       "Drawing 1000 posterior samples:   0%|          | 0/1000 [00:00<?, ?it/s]"
      ]
     },
     "metadata": {},
     "output_type": "display_data"
    },
    {
     "data": {
      "application/vnd.jupyter.widget-view+json": {
       "model_id": "b6f7065bf023457fb8c336e88d17cd8a",
       "version_major": 2,
       "version_minor": 0
      },
      "text/plain": [
       "Drawing 1000 posterior samples:   0%|          | 0/1000 [00:00<?, ?it/s]"
      ]
     },
     "metadata": {},
     "output_type": "display_data"
    },
    {
     "data": {
      "application/vnd.jupyter.widget-view+json": {
       "model_id": "2008d0c0299e4646abe8f2256365e514",
       "version_major": 2,
       "version_minor": 0
      },
      "text/plain": [
       "Drawing 1000 posterior samples:   0%|          | 0/1000 [00:00<?, ?it/s]"
      ]
     },
     "metadata": {},
     "output_type": "display_data"
    },
    {
     "data": {
      "application/vnd.jupyter.widget-view+json": {
       "model_id": "481497366c4a4bbebaad42c684ea075f",
       "version_major": 2,
       "version_minor": 0
      },
      "text/plain": [
       "Drawing 1000 posterior samples:   0%|          | 0/1000 [00:00<?, ?it/s]"
      ]
     },
     "metadata": {},
     "output_type": "display_data"
    },
    {
     "data": {
      "application/vnd.jupyter.widget-view+json": {
       "model_id": "c1461667771e47859727ba756c2c6b5c",
       "version_major": 2,
       "version_minor": 0
      },
      "text/plain": [
       "Drawing 1000 posterior samples:   0%|          | 0/1000 [00:00<?, ?it/s]"
      ]
     },
     "metadata": {},
     "output_type": "display_data"
    },
    {
     "data": {
      "application/vnd.jupyter.widget-view+json": {
       "model_id": "5be77418b65c49cdb0123d4f28d5690a",
       "version_major": 2,
       "version_minor": 0
      },
      "text/plain": [
       "Drawing 1000 posterior samples:   0%|          | 0/1000 [00:00<?, ?it/s]"
      ]
     },
     "metadata": {},
     "output_type": "display_data"
    },
    {
     "data": {
      "application/vnd.jupyter.widget-view+json": {
       "model_id": "f0ef589524fa4cf798c5e6dbfb0d6b72",
       "version_major": 2,
       "version_minor": 0
      },
      "text/plain": [
       "Drawing 1000 posterior samples:   0%|          | 0/1000 [00:00<?, ?it/s]"
      ]
     },
     "metadata": {},
     "output_type": "display_data"
    },
    {
     "data": {
      "application/vnd.jupyter.widget-view+json": {
       "model_id": "4cefadb395374d978ee1f841c2e27721",
       "version_major": 2,
       "version_minor": 0
      },
      "text/plain": [
       "Drawing 1000 posterior samples:   0%|          | 0/1000 [00:00<?, ?it/s]"
      ]
     },
     "metadata": {},
     "output_type": "display_data"
    },
    {
     "data": {
      "application/vnd.jupyter.widget-view+json": {
       "model_id": "11211dffcb8240709e95ba1c11d0a895",
       "version_major": 2,
       "version_minor": 0
      },
      "text/plain": [
       "Drawing 1000 posterior samples:   0%|          | 0/1000 [00:00<?, ?it/s]"
      ]
     },
     "metadata": {},
     "output_type": "display_data"
    },
    {
     "data": {
      "application/vnd.jupyter.widget-view+json": {
       "model_id": "c02698fad35f4f159c9f19b68a5b50c7",
       "version_major": 2,
       "version_minor": 0
      },
      "text/plain": [
       "Drawing 1000 posterior samples:   0%|          | 0/1000 [00:00<?, ?it/s]"
      ]
     },
     "metadata": {},
     "output_type": "display_data"
    },
    {
     "data": {
      "application/vnd.jupyter.widget-view+json": {
       "model_id": "2e7889543bcb483ebc1f724cbf75d15e",
       "version_major": 2,
       "version_minor": 0
      },
      "text/plain": [
       "Drawing 1000 posterior samples:   0%|          | 0/1000 [00:00<?, ?it/s]"
      ]
     },
     "metadata": {},
     "output_type": "display_data"
    },
    {
     "data": {
      "application/vnd.jupyter.widget-view+json": {
       "model_id": "70d0398a6ef948cabdd0ec133afa51bd",
       "version_major": 2,
       "version_minor": 0
      },
      "text/plain": [
       "Drawing 1000 posterior samples:   0%|          | 0/1000 [00:00<?, ?it/s]"
      ]
     },
     "metadata": {},
     "output_type": "display_data"
    },
    {
     "data": {
      "application/vnd.jupyter.widget-view+json": {
       "model_id": "7e5793547f60477589e25c7cb3792e9b",
       "version_major": 2,
       "version_minor": 0
      },
      "text/plain": [
       "Drawing 1000 posterior samples:   0%|          | 0/1000 [00:00<?, ?it/s]"
      ]
     },
     "metadata": {},
     "output_type": "display_data"
    },
    {
     "data": {
      "application/vnd.jupyter.widget-view+json": {
       "model_id": "876a2d5c786d4dde87eff26ac5c7d26c",
       "version_major": 2,
       "version_minor": 0
      },
      "text/plain": [
       "Drawing 1000 posterior samples:   0%|          | 0/1000 [00:00<?, ?it/s]"
      ]
     },
     "metadata": {},
     "output_type": "display_data"
    },
    {
     "data": {
      "application/vnd.jupyter.widget-view+json": {
       "model_id": "6c337d7e9ec14808b6340f8f95c31bf6",
       "version_major": 2,
       "version_minor": 0
      },
      "text/plain": [
       "Drawing 1000 posterior samples:   0%|          | 0/1000 [00:00<?, ?it/s]"
      ]
     },
     "metadata": {},
     "output_type": "display_data"
    },
    {
     "data": {
      "application/vnd.jupyter.widget-view+json": {
       "model_id": "6de1a23f951f4b948cc5b2e5776efff1",
       "version_major": 2,
       "version_minor": 0
      },
      "text/plain": [
       "Drawing 1000 posterior samples:   0%|          | 0/1000 [00:00<?, ?it/s]"
      ]
     },
     "metadata": {},
     "output_type": "display_data"
    },
    {
     "data": {
      "application/vnd.jupyter.widget-view+json": {
       "model_id": "797813801a23410daf38495fad202251",
       "version_major": 2,
       "version_minor": 0
      },
      "text/plain": [
       "Drawing 1000 posterior samples:   0%|          | 0/1000 [00:00<?, ?it/s]"
      ]
     },
     "metadata": {},
     "output_type": "display_data"
    },
    {
     "data": {
      "application/vnd.jupyter.widget-view+json": {
       "model_id": "bc2a045dd76940ddbf31da89557418f0",
       "version_major": 2,
       "version_minor": 0
      },
      "text/plain": [
       "Drawing 1000 posterior samples:   0%|          | 0/1000 [00:00<?, ?it/s]"
      ]
     },
     "metadata": {},
     "output_type": "display_data"
    },
    {
     "data": {
      "application/vnd.jupyter.widget-view+json": {
       "model_id": "dce30685c1bc4f01933903fbd4efea2a",
       "version_major": 2,
       "version_minor": 0
      },
      "text/plain": [
       "Drawing 1000 posterior samples:   0%|          | 0/1000 [00:00<?, ?it/s]"
      ]
     },
     "metadata": {},
     "output_type": "display_data"
    },
    {
     "data": {
      "application/vnd.jupyter.widget-view+json": {
       "model_id": "7828db2a279840bba1f5000604ac9c83",
       "version_major": 2,
       "version_minor": 0
      },
      "text/plain": [
       "Drawing 1000 posterior samples:   0%|          | 0/1000 [00:00<?, ?it/s]"
      ]
     },
     "metadata": {},
     "output_type": "display_data"
    },
    {
     "data": {
      "application/vnd.jupyter.widget-view+json": {
       "model_id": "43179bba913742698378e9f01ca7679d",
       "version_major": 2,
       "version_minor": 0
      },
      "text/plain": [
       "Drawing 1000 posterior samples:   0%|          | 0/1000 [00:00<?, ?it/s]"
      ]
     },
     "metadata": {},
     "output_type": "display_data"
    },
    {
     "data": {
      "application/vnd.jupyter.widget-view+json": {
       "model_id": "cc04140605b54fcf8e867a0fd7ef87ce",
       "version_major": 2,
       "version_minor": 0
      },
      "text/plain": [
       "Drawing 1000 posterior samples:   0%|          | 0/1000 [00:00<?, ?it/s]"
      ]
     },
     "metadata": {},
     "output_type": "display_data"
    },
    {
     "data": {
      "application/vnd.jupyter.widget-view+json": {
       "model_id": "8560f292b01c4b2e8eba1cf2945c980d",
       "version_major": 2,
       "version_minor": 0
      },
      "text/plain": [
       "Drawing 1000 posterior samples:   0%|          | 0/1000 [00:00<?, ?it/s]"
      ]
     },
     "metadata": {},
     "output_type": "display_data"
    },
    {
     "data": {
      "application/vnd.jupyter.widget-view+json": {
       "model_id": "a7c529e73a334fcaaae0ea2639e46bb2",
       "version_major": 2,
       "version_minor": 0
      },
      "text/plain": [
       "Drawing 1000 posterior samples:   0%|          | 0/1000 [00:00<?, ?it/s]"
      ]
     },
     "metadata": {},
     "output_type": "display_data"
    },
    {
     "data": {
      "application/vnd.jupyter.widget-view+json": {
       "model_id": "cdbb5f3ac34945488185497b2f4d79a6",
       "version_major": 2,
       "version_minor": 0
      },
      "text/plain": [
       "Drawing 1000 posterior samples:   0%|          | 0/1000 [00:00<?, ?it/s]"
      ]
     },
     "metadata": {},
     "output_type": "display_data"
    },
    {
     "data": {
      "application/vnd.jupyter.widget-view+json": {
       "model_id": "0704e6fdaefe4e6385ed24b0d9dc41e2",
       "version_major": 2,
       "version_minor": 0
      },
      "text/plain": [
       "Drawing 1000 posterior samples:   0%|          | 0/1000 [00:00<?, ?it/s]"
      ]
     },
     "metadata": {},
     "output_type": "display_data"
    },
    {
     "data": {
      "application/vnd.jupyter.widget-view+json": {
       "model_id": "b796a39a75ea4d9d86dcd3ddfc726197",
       "version_major": 2,
       "version_minor": 0
      },
      "text/plain": [
       "Drawing 1000 posterior samples:   0%|          | 0/1000 [00:00<?, ?it/s]"
      ]
     },
     "metadata": {},
     "output_type": "display_data"
    },
    {
     "data": {
      "application/vnd.jupyter.widget-view+json": {
       "model_id": "796bb419f1844ed69719871e4b411b48",
       "version_major": 2,
       "version_minor": 0
      },
      "text/plain": [
       "Drawing 1000 posterior samples:   0%|          | 0/1000 [00:00<?, ?it/s]"
      ]
     },
     "metadata": {},
     "output_type": "display_data"
    },
    {
     "data": {
      "application/vnd.jupyter.widget-view+json": {
       "model_id": "16c598e1a32f44d7b159aa41f1a97eb8",
       "version_major": 2,
       "version_minor": 0
      },
      "text/plain": [
       "Drawing 1000 posterior samples:   0%|          | 0/1000 [00:00<?, ?it/s]"
      ]
     },
     "metadata": {},
     "output_type": "display_data"
    },
    {
     "data": {
      "application/vnd.jupyter.widget-view+json": {
       "model_id": "ac12a230bebb4caa9e345efb0302ab43",
       "version_major": 2,
       "version_minor": 0
      },
      "text/plain": [
       "Drawing 1000 posterior samples:   0%|          | 0/1000 [00:00<?, ?it/s]"
      ]
     },
     "metadata": {},
     "output_type": "display_data"
    },
    {
     "data": {
      "application/vnd.jupyter.widget-view+json": {
       "model_id": "0af769b8e55643629570571fc69e61aa",
       "version_major": 2,
       "version_minor": 0
      },
      "text/plain": [
       "Drawing 1000 posterior samples:   0%|          | 0/1000 [00:00<?, ?it/s]"
      ]
     },
     "metadata": {},
     "output_type": "display_data"
    },
    {
     "data": {
      "application/vnd.jupyter.widget-view+json": {
       "model_id": "da39a4c4d9a84444a8e8bb371f85f5ff",
       "version_major": 2,
       "version_minor": 0
      },
      "text/plain": [
       "Drawing 1000 posterior samples:   0%|          | 0/1000 [00:00<?, ?it/s]"
      ]
     },
     "metadata": {},
     "output_type": "display_data"
    },
    {
     "data": {
      "application/vnd.jupyter.widget-view+json": {
       "model_id": "4aaec476cea94a64ab1a49e57685fff3",
       "version_major": 2,
       "version_minor": 0
      },
      "text/plain": [
       "Drawing 1000 posterior samples:   0%|          | 0/1000 [00:00<?, ?it/s]"
      ]
     },
     "metadata": {},
     "output_type": "display_data"
    },
    {
     "data": {
      "application/vnd.jupyter.widget-view+json": {
       "model_id": "391dab0da3b44932bf14cdfbee36d1dc",
       "version_major": 2,
       "version_minor": 0
      },
      "text/plain": [
       "Drawing 1000 posterior samples:   0%|          | 0/1000 [00:00<?, ?it/s]"
      ]
     },
     "metadata": {},
     "output_type": "display_data"
    },
    {
     "data": {
      "application/vnd.jupyter.widget-view+json": {
       "model_id": "4e8059189b4749fc9b68fbcc64b42212",
       "version_major": 2,
       "version_minor": 0
      },
      "text/plain": [
       "Drawing 1000 posterior samples:   0%|          | 0/1000 [00:00<?, ?it/s]"
      ]
     },
     "metadata": {},
     "output_type": "display_data"
    },
    {
     "data": {
      "application/vnd.jupyter.widget-view+json": {
       "model_id": "615de87a3fb8484e87dde48cfa6ac556",
       "version_major": 2,
       "version_minor": 0
      },
      "text/plain": [
       "Drawing 1000 posterior samples:   0%|          | 0/1000 [00:00<?, ?it/s]"
      ]
     },
     "metadata": {},
     "output_type": "display_data"
    },
    {
     "data": {
      "application/vnd.jupyter.widget-view+json": {
       "model_id": "f1bb586d8a5449bfbd89086bf6d8fd32",
       "version_major": 2,
       "version_minor": 0
      },
      "text/plain": [
       "Drawing 1000 posterior samples:   0%|          | 0/1000 [00:00<?, ?it/s]"
      ]
     },
     "metadata": {},
     "output_type": "display_data"
    },
    {
     "data": {
      "application/vnd.jupyter.widget-view+json": {
       "model_id": "198363193a3543f7818003f528499b5d",
       "version_major": 2,
       "version_minor": 0
      },
      "text/plain": [
       "Drawing 1000 posterior samples:   0%|          | 0/1000 [00:00<?, ?it/s]"
      ]
     },
     "metadata": {},
     "output_type": "display_data"
    },
    {
     "data": {
      "application/vnd.jupyter.widget-view+json": {
       "model_id": "961c38b288894886b0a882aaa07b3207",
       "version_major": 2,
       "version_minor": 0
      },
      "text/plain": [
       "Drawing 1000 posterior samples:   0%|          | 0/1000 [00:00<?, ?it/s]"
      ]
     },
     "metadata": {},
     "output_type": "display_data"
    },
    {
     "data": {
      "application/vnd.jupyter.widget-view+json": {
       "model_id": "8051c7c39f8447ab936b7e6e54f3b4e5",
       "version_major": 2,
       "version_minor": 0
      },
      "text/plain": [
       "Drawing 1000 posterior samples:   0%|          | 0/1000 [00:00<?, ?it/s]"
      ]
     },
     "metadata": {},
     "output_type": "display_data"
    },
    {
     "data": {
      "application/vnd.jupyter.widget-view+json": {
       "model_id": "97fdc806671e4c87adc3742c583193ad",
       "version_major": 2,
       "version_minor": 0
      },
      "text/plain": [
       "Drawing 1000 posterior samples:   0%|          | 0/1000 [00:00<?, ?it/s]"
      ]
     },
     "metadata": {},
     "output_type": "display_data"
    },
    {
     "data": {
      "application/vnd.jupyter.widget-view+json": {
       "model_id": "113dfeac93a04824b2733a66473f91f0",
       "version_major": 2,
       "version_minor": 0
      },
      "text/plain": [
       "Drawing 1000 posterior samples:   0%|          | 0/1000 [00:00<?, ?it/s]"
      ]
     },
     "metadata": {},
     "output_type": "display_data"
    },
    {
     "data": {
      "application/vnd.jupyter.widget-view+json": {
       "model_id": "734d1887a0f941e8b5a7c3f4ab5ae1ba",
       "version_major": 2,
       "version_minor": 0
      },
      "text/plain": [
       "Drawing 1000 posterior samples:   0%|          | 0/1000 [00:00<?, ?it/s]"
      ]
     },
     "metadata": {},
     "output_type": "display_data"
    },
    {
     "data": {
      "application/vnd.jupyter.widget-view+json": {
       "model_id": "df5384b444a1459ab860d8a71c57d3d8",
       "version_major": 2,
       "version_minor": 0
      },
      "text/plain": [
       "Drawing 1000 posterior samples:   0%|          | 0/1000 [00:00<?, ?it/s]"
      ]
     },
     "metadata": {},
     "output_type": "display_data"
    },
    {
     "data": {
      "application/vnd.jupyter.widget-view+json": {
       "model_id": "c00a3e96584148b797cd64b001b784d4",
       "version_major": 2,
       "version_minor": 0
      },
      "text/plain": [
       "Drawing 1000 posterior samples:   0%|          | 0/1000 [00:00<?, ?it/s]"
      ]
     },
     "metadata": {},
     "output_type": "display_data"
    },
    {
     "data": {
      "application/vnd.jupyter.widget-view+json": {
       "model_id": "9ab23ee997f5494f8bdfdc6c08fe5a67",
       "version_major": 2,
       "version_minor": 0
      },
      "text/plain": [
       "Drawing 1000 posterior samples:   0%|          | 0/1000 [00:00<?, ?it/s]"
      ]
     },
     "metadata": {},
     "output_type": "display_data"
    },
    {
     "data": {
      "application/vnd.jupyter.widget-view+json": {
       "model_id": "8da8f1ec10434cd69f7fe273310da267",
       "version_major": 2,
       "version_minor": 0
      },
      "text/plain": [
       "Drawing 1000 posterior samples:   0%|          | 0/1000 [00:00<?, ?it/s]"
      ]
     },
     "metadata": {},
     "output_type": "display_data"
    }
   ],
   "source": [
    "\n",
    "# Number of samples to draw from posterior\n",
    "n_samples = 1000\n",
    "\n",
    "# Storage for predictions\n",
    "all_samples = []\n",
    "all_means = []\n",
    "all_stds = []\n",
    "\n",
    "# Suppress the deprecation warning\n",
    "import warnings\n",
    "warnings.filterwarnings('ignore', category=UserWarning, module='nflows.transforms.lu')\n",
    "\n",
    "# Generate posterior samples for each test point\n",
    "for i in range(len(x_test)):\n",
    "    # Get samples from the posterior\n",
    "    with torch.no_grad():  # Add this for efficiency\n",
    "        samples = posterior_ensemble.sample(\n",
    "            (n_samples,), \n",
    "            x=x_test[i].reshape(1, -1)\n",
    "        ).cpu().numpy()\n",
    "    \n",
    "    # Calculate mean and std of samples\n",
    "    mean = samples.mean(axis=0)\n",
    "    std = samples.std(axis=0)\n",
    "    \n",
    "    all_samples.append(samples)\n",
    "    all_means.append(mean)\n",
    "    all_stds.append(std)\n",
    "\n",
    "all_samples = np.array(all_samples)\n",
    "all_means = np.array(all_means)\n",
    "all_stds = np.array(all_stds)"
   ]
  },
  {
   "cell_type": "code",
   "execution_count": 30,
   "metadata": {},
   "outputs": [
    {
     "data": {
      "image/png": "[encoded data removed]",
      "text/plain": [
       "<Figure size 1500x1000 with 6 Axes>"
      ]
     },
     "metadata": {},
     "output_type": "display_data"
    }
   ],
   "source": [
    "fig, axes = plt.subplots(2, 3, figsize=(15, 10))\n",
    "axes = axes.flatten()\n",
    "\n",
    "fontsize = 10\n",
    "\n",
    "for i, (param_name, ax) in enumerate(zip(param_names, axes)):\n",
    "    # True vs predicted with error bars\n",
    "    ax.errorbar(\n",
    "        theta_test[:, i].cpu().numpy(),\n",
    "        all_means[:, i],\n",
    "        yerr=all_stds[:, i],\n",
    "        fmt='.',\n",
    "        color='k',\n",
    "        ecolor='blue',\n",
    "        capsize=0,\n",
    "        elinewidth=0.8,  \n",
    "        alpha=0.3,       \n",
    "        markersize=5    \n",
    "    )\n",
    "    \n",
    "    # Add true line\n",
    "    lims = [\n",
    "        min(theta_test[:, i].cpu().numpy().min(), all_means[:, i].min()),\n",
    "        max(theta_test[:, i].cpu().numpy().max(), all_means[:, i].max())\n",
    "    ]\n",
    "    ax.plot(lims, lims, '--', color='black', alpha=0.5, linewidth=1)\n",
    "    \n",
    "    # Calculate metrics\n",
    "    rmse = np.sqrt(np.mean((theta_test[:, i].cpu().numpy() - all_means[:, i])**2))\n",
    "    r2 = np.corrcoef(theta_test[:, i].cpu().numpy(), all_means[:, i])[0, 1]**2\n",
    "    chi2 = np.mean(((theta_test[:, i].cpu().numpy() - all_means[:, i])**2) / (all_stds[:, i]**2))\n",
    "    \n",
    "    # Add metrics box\n",
    "    stats_text = f'RMSE = {rmse:.2f}\\nR² = {r2:.2f}\\nχ² = {chi2:.2f}'\n",
    "    ax.text(0.05, 0.95, stats_text,\n",
    "            transform=ax.transAxes,\n",
    "            bbox=dict(facecolor='white', alpha=0.8),\n",
    "            verticalalignment='top',\n",
    "            fontsize=fontsize-1)\n",
    "    \n",
    "    ax.set_title(param_name, fontsize=fontsize)\n",
    "    ax.set_xlabel('True', fontsize=fontsize-1)\n",
    "    ax.set_ylabel('Inferred', fontsize=fontsize-1)\n",
    "    ax.tick_params(labelsize=fontsize-2)\n",
    "    ax.margins(x=0.05, y=0.05)\n",
    "\n",
    "plt.tight_layout()\n",
    "plt.savefig(plots_out_dir, dpi=300, bbox_inches='tight')\n",
    "plt.show()"
   ]
  },
  {
   "cell_type": "code",
   "execution_count": 31,
   "metadata": {},
   "outputs": [
    {
     "name": "stderr",
     "output_type": "stream",
     "text": [
      "100%|██████████| 203/203 [00:02<00:00, 71.60it/s]\n",
      "100%|██████████| 100/100 [00:07<00:00, 12.73it/s]\n"
     ]
    },
    {
     "data": {
      "image/png": "[encoded data removed]",
      "text/plain": [
       "<Figure size 400x400 with 1 Axes>"
      ]
     },
     "metadata": {},
     "output_type": "display_data"
    }
   ],
   "source": [
    "config_str = (f\"batch{train_args['training_batch_size']}_\"\n",
    "             f\"lr{train_args['learning_rate']}_\"\n",
    "             f\"epochs{train_args['stop_after_epochs']}_\"\n",
    "             f\"h{hidden_features}_t{num_transforms}\")\n",
    "\n",
    "# coverage plots\n",
    "metric = PosteriorCoverage(\n",
    "    num_samples=int(4e3),\n",
    "    sample_method='direct',\n",
    "    labels=cam.labels,\n",
    "    plot_list=[\"tarp\"], # \"coverage\", \"histogram\", \"predictions\", \n",
    "    out_dir=plots_out_dir,\n",
    ")\n",
    "\n",
    "# Generate plots\n",
    "figs = metric(\n",
    "    posterior=posterior_ensemble,\n",
    "    x=x_test.cpu(),\n",
    "    theta=theta_test.cpu(),\n",
    "    signature=f\"coverage_{name}_{config_str}_\"  # Add config to filename\n",
    ")\n",
    "\n",
    "config_text = (\n",
    "    f\"Training Config:\\n\"\n",
    "    f\"Batch Size: {train_args['training_batch_size']}\\n\"\n",
    "    f\"Learning Rate: {train_args['learning_rate']}\\n\"\n",
    "    f\"Epochs: {train_args['stop_after_epochs']}\\n\"\n",
    "    f\"Hidden Features: {hidden_features}\\n\"\n",
    "    f\"Num Transforms: {num_transforms}\"\n",
    ")\n",
    "\n",
    "# Process each figure\n",
    "for i, fig in enumerate(figs):\n",
    "    plt.figure(fig.number)  # Activate the figure\n",
    "    plt.figtext(0.02, 0.98, config_text,\n",
    "                fontsize=8,\n",
    "                bbox=dict(facecolor='white', alpha=0.8, edgecolor='gray'),\n",
    "                verticalalignment='top')\n",
    "    \n",
    "    # Save each figure with type indicator\n",
    "    plot_types = [\"tarp\"] #\"coverage\", \"histogram\", \"predictions\",\n",
    "    plt.savefig(os.path.join(plots_out_dir, \n",
    "                f'metric_{plot_types[i]}_{name}_{config_str}.png'), \n",
    "                dpi=300, bbox_inches='tight')\n",
    "    plt.show()\n",
    "    plt.close()"
   ]
  },
  {
   "cell_type": "code",
   "execution_count": 55,
   "metadata": {},
   "outputs": [],
   "source": []
  },
  {
   "cell_type": "code",
   "execution_count": 32,
   "metadata": {},
   "outputs": [
    {
     "name": "stdout",
     "output_type": "stream",
     "text": [
      " hidden_features  num_transforms  num_nets  batch_size  learning_rate  epochs  composite_score  val_loss  avg_rmse  avg_r2\n",
      "              30               2         1          16          0.000      20            9.324    -6.886     2.578   0.140\n"
     ]
    }
   ],
   "source": [
    "def get_performance_metric(summaries, posterior):\n",
    "    # Get validation loss at convergence\n",
    "    final_val_loss = summaries[0]['validation_log_probs'][-1]\n",
    "    \n",
    "    # Get average RMSE across parameters\n",
    "    rmse_vals = [\n",
    "        np.sqrt(np.mean((theta_test[:, i].cpu().numpy() - all_means[:, i])**2))\n",
    "        for i in range(len(param_names))\n",
    "    ]\n",
    "    avg_rmse = np.mean(rmse_vals)\n",
    "    \n",
    "    # Get average R² across parameters  \n",
    "    r2_vals = [\n",
    "        np.corrcoef(theta_test[:, i].cpu().numpy(), all_means[:, i])[0, 1]**2 \n",
    "        for i in range(len(param_names))\n",
    "    ]\n",
    "    avg_r2 = np.mean(r2_vals)\n",
    "\n",
    "    # Composite score (lower is better)\n",
    "    # Weighting validation loss more heavily since it's key for convergence\n",
    "    composite_score = -final_val_loss + avg_rmse - avg_r2\n",
    "\n",
    "    return {\n",
    "        'composite_score': composite_score,\n",
    "        'val_loss': final_val_loss,\n",
    "        'avg_rmse': avg_rmse,\n",
    "        'avg_r2': avg_r2\n",
    "    }\n",
    "\n",
    "results = {\n",
    "    'architecture': {\n",
    "        'hidden_features': hidden_features,\n",
    "        'num_transforms': num_transforms,\n",
    "        'num_nets': num_nets\n",
    "    },\n",
    "    'training': {\n",
    "        'batch_size': train_args['training_batch_size'],\n",
    "        'learning_rate': train_args['learning_rate'],\n",
    "        'epochs': train_args['stop_after_epochs']\n",
    "    },\n",
    "    'performance': get_performance_metric(summaries, posterior_ensemble)\n",
    "}\n",
    "\n",
    "# Flatten the nested dictionary into a single level\n",
    "flat_results = {\n",
    "   'hidden_features': results['architecture']['hidden_features'],\n",
    "   'num_transforms': results['architecture']['num_transforms'], \n",
    "   'num_nets': results['architecture']['num_nets'],\n",
    "   'batch_size': results['training']['batch_size'],\n",
    "   'learning_rate': results['training']['learning_rate'],\n",
    "   'epochs': results['training']['epochs'],\n",
    "   'composite_score': results['performance']['composite_score'],\n",
    "   'val_loss': results['performance']['val_loss'],\n",
    "   'avg_rmse': results['performance']['avg_rmse'], \n",
    "   'avg_r2': results['performance']['avg_r2']\n",
    "}\n",
    "\n",
    "# Create DataFrame with single row\n",
    "df = pd.DataFrame([flat_results])\n",
    "\n",
    "# Improve formatting\n",
    "pd.set_option('display.float_format', lambda x: '%.3f' % x)\n",
    "print(df.to_string(index=False))"
   ]
  },
  {
   "cell_type": "code",
   "execution_count": 33,
   "metadata": {},
   "outputs": [],
   "source": [
    "import os\n",
    "\n",
    "def save_results(results):\n",
    "   flat_results = {\n",
    "       'hidden_features': results['architecture']['hidden_features'],\n",
    "       'num_transforms': results['architecture']['num_transforms'], \n",
    "       'num_nets': results['architecture']['num_nets'],\n",
    "       'batch_size': results['training']['batch_size'],\n",
    "       'learning_rate': results['training']['learning_rate'],\n",
    "       'epochs': results['training']['epochs'],\n",
    "       'composite_score': results['performance']['composite_score'],\n",
    "       'val_loss': results['performance']['val_loss'],\n",
    "       'avg_rmse': results['performance']['avg_rmse'],\n",
    "       'avg_r2': results['performance']['avg_r2']\n",
    "   }\n",
    "   \n",
    "   df_row = pd.DataFrame([flat_results])\n",
    "   \n",
    "   if os.path.exists('sbi_results.csv'):\n",
    "       df_row.to_csv('sbi_results.csv', mode='a', header=False, index=False)\n",
    "   else:\n",
    "       df_row.to_csv('sbi_results.csv', index=False)\n",
    "       \n",
    "save_results(results)"
   ]
  },
  {
   "cell_type": "markdown",
   "metadata": {},
   "source": [
    "The composite score weights validation loss more heavily since it's crucial for the model's predictive performance. Lower composite scores indicate better overall performance."
   ]
  },
  {
   "cell_type": "markdown",
   "metadata": {},
   "source": []
  },
  {
   "cell_type": "markdown",
   "metadata": {},
   "source": []
  },
  {
   "cell_type": "markdown",
   "metadata": {},
   "source": []
  }
 ],
 "metadata": {
  "kernelspec": {
   "display_name": "Python (camels)",
   "language": "python",
   "name": "camels"
  },
  "language_info": {
   "codemirror_mode": {
    "name": "ipython",
    "version": 3
   },
   "file_extension": ".py",
   "mimetype": "text/x-python",
   "name": "python",
   "nbconvert_exporter": "python",
   "pygments_lexer": "ipython3",
   "version": "3.8.20"
  }
 },
 "nbformat": 4,
 "nbformat_minor": 2
}
