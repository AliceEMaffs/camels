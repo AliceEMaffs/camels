{
 "cells": [
  {
   "cell_type": "code",
   "execution_count": 1,
   "metadata": {},
   "outputs": [
    {
     "name": "stderr",
     "output_type": "stream",
     "text": [
      "/disk/xray15/aem2/envs/camels/lib/python3.8/site-packages/tqdm/auto.py:21: TqdmWarning: IProgress not found. Please update jupyter and ipywidgets. See https://ipywidgets.readthedocs.io/en/stable/user_install.html\n",
      "  from .autonotebook import tqdm as notebook_tqdm\n"
     ]
    },
    {
     "name": "stdout",
     "output_type": "stream",
     "text": [
      "Saving model in  /disk/xray15/aem2/data/28pams/IllustrisTNG/SB/models/lf_only/\n",
      "Saving plots in  /disk/xray15/aem2/plots/28pams/IllustrisTNG/SB/test/sbi_plots/lfs_only/\n"
     ]
    }
   ],
   "source": [
    "# Key Concepts\n",
    "'''\n",
    "1. Forward problem: θ → x (simulation)\n",
    "2. Inverse problem: x → θ (what we're solving)\n",
    "3. Posterior: P(θ|x) probability distribution over parameters\n",
    "4. Prior: Initial assumptions about parameter ranges\n",
    "'''\n",
    "import pandas as pd\n",
    "import numpy as np\n",
    "import sys\n",
    "\n",
    "# seaparate into train and test set.\n",
    "from sklearn.model_selection import train_test_split\n",
    "\n",
    "import matplotlib.pyplot as plt\n",
    "import matplotlib.colors as mcolors\n",
    "import torch\n",
    "#from torch.distributions import Uniform, ExpTransform, TransformedDistribution #, AffineTransform\n",
    "import torch.nn as nn\n",
    "from sklearn.preprocessing import Normalizer\n",
    "import joblib\n",
    "import os \n",
    "import ili\n",
    "from ili.dataloaders import NumpyLoader\n",
    "from ili.inference import InferenceRunner\n",
    "from ili.validation.metrics import PosteriorCoverage#, PlotSinglePosterior\n",
    "\n",
    "from sbi.utils.user_input_checks import process_prior\n",
    "\n",
    "sys.path.append(\"/disk/xray15/aem2/camels/proj2\")\n",
    "from setup_params_1P import plot_uvlf, plot_colour\n",
    "from setup_params_SB import *\n",
    "from priors_SB import initialise_priors_SB28\n",
    "\n",
    "from variables_config_28 import uvlf_limits, n_bins_lf, colour_limits, n_bins_colour\n",
    "# parameters\n",
    "device = \"cuda\" if torch.cuda.is_available() else \"cpu\"\n",
    "model = \"IllustrisTNG\"\n",
    "spec_type = \"attenuated\"\n",
    "sps = \"BC03\"\n",
    "snap = [\"044\"]\n",
    "bands = \"all\" # or just GALEX?\n",
    "\n",
    "# lets try UVLF and colours this time.\n",
    "colours = False  \n",
    "luminosity_functions = True\n",
    "name = f\"{model}_{bands}_{sps}_{spec_type}_{n_bins_lf}_{n_bins_colour}\"\n",
    "\n",
    "# initialize CAMELS and load parameter info using camels.py\n",
    "cam = camels(model=model, sim_set='SB28')\n",
    "\n",
    "if colours and not luminosity_functions:\n",
    "    model_out_dir = \"/disk/xray15/aem2/data/28pams/IllustrisTNG/SB/models/colours_only/\"\n",
    "    plots_out_dir = \"/disk/xray15/aem2/plots/28pams/IllustrisTNG/SB/test/sbi_plots/colours_only/\"\n",
    "    \n",
    "elif luminosity_functions and not colours:\n",
    "    model_out_dir = \"/disk/xray15/aem2/data/28pams/IllustrisTNG/SB/models/lf_only/\"\n",
    "    plots_out_dir = \"/disk/xray15/aem2/plots/28pams/IllustrisTNG/SB/test/sbi_plots/lfs_only/\"\n",
    "\n",
    "elif colours and luminosity_functions:\n",
    "    model_out_dir = \"/disk/xray15/aem2/data/28pams/IllustrisTNG/SB/models/colours_lfs/\"\n",
    "    plots_out_dir = \"/disk/xray15/aem2/plots/28pams/IllustrisTNG/SB/test/sbi_plots/colours_lfs/\"\n",
    "\n",
    "# You might want to add an else for safety:\n",
    "else:\n",
    "    raise ValueError(\"At least one of colours or luminosity_functions must be True\")\n",
    "\n",
    "print(\"Saving model in \", model_out_dir)\n",
    "print(\"Saving plots in \", plots_out_dir)\n"
   ]
  },
  {
   "cell_type": "code",
   "execution_count": 2,
   "metadata": {},
   "outputs": [
    {
     "name": "stdout",
     "output_type": "stream",
     "text": [
      "          #Name    Omega0    sigma8  WindEnergyIn1e51erg  RadioFeedbackFactor  \\\n",
      "0        SB28_0  0.352541  0.694742              3.85743             1.519210   \n",
      "1        SB28_1  0.172430  0.830154              1.03554             0.797734   \n",
      "2        SB28_2  0.234683  0.705844              9.61416             3.380650   \n",
      "3        SB28_3  0.440288  0.969259              2.14363             0.488165   \n",
      "4        SB28_4  0.457152  0.786733              1.38466             0.325727   \n",
      "...         ...       ...       ...                  ...                  ...   \n",
      "2043  SB28_2043  0.457334  0.970226              8.89733             0.607197   \n",
      "2044  SB28_2044  0.440496  0.786137              5.34131             0.880840   \n",
      "2045  SB28_2045  0.234475  0.938760              1.49723             1.873430   \n",
      "2046  SB28_2046  0.172613  0.612888             13.31250             0.363806   \n",
      "2047  SB28_2047  0.352358  0.862216              3.09935             3.331570   \n",
      "\n",
      "      VariableWindVelFactor  RadioFeedbackReiorientationFactor  OmegaBaryon  \\\n",
      "0                   9.09267                            14.2845     0.049404   \n",
      "1                   6.95693                            38.2374     0.031199   \n",
      "2                   3.77681                            24.6592     0.042995   \n",
      "3                  11.49660                            10.9550     0.062295   \n",
      "4                  13.19410                            17.1439     0.044425   \n",
      "...                     ...                                ...          ...   \n",
      "2043                3.75653                            39.5139     0.046041   \n",
      "2044                5.04789                            21.6844     0.063161   \n",
      "2045               13.26680                            13.5869     0.042461   \n",
      "2046                8.64069                            17.7159     0.029257   \n",
      "2047                5.64656                            33.6239     0.051052   \n",
      "\n",
      "      HubbleParam       n_s  ...  WindEnergyReductionExponent  WindDumpFactor  \\\n",
      "0        0.498145  0.795765  ...                      1.61148        0.435971   \n",
      "1        0.683693  1.142160  ...                      2.08951        0.612056   \n",
      "2        0.849506  0.923545  ...                      1.33988        0.878906   \n",
      "3        0.638970  0.964648  ...                      2.86478        0.253435   \n",
      "4        0.773770  0.900256  ...                      2.59030        0.944457   \n",
      "...           ...       ...  ...                          ...             ...   \n",
      "2043     0.513293  0.828903  ...                      1.88784        0.725070   \n",
      "2044     0.748997  1.143290  ...                      1.66098        0.472330   \n",
      "2045     0.534548  0.796116  ...                      2.13803        0.698393   \n",
      "2046     0.600362  0.965127  ...                      1.38572        0.818457   \n",
      "2047     0.789823  0.924799  ...                      2.90964        0.242951   \n",
      "\n",
      "      SeedBlackHoleMass  BlackHoleAccretionFactor  BlackHoleEddingtonFactor  \\\n",
      "0              0.000069                  1.111740                  2.613460   \n",
      "1              0.000094                  0.889955                  0.302262   \n",
      "2              0.000153                  0.364219                  8.235920   \n",
      "3              0.000041                  2.775960                  0.950425   \n",
      "4              0.000049                  0.286789                  1.121900   \n",
      "...                 ...                       ...                       ...   \n",
      "2043           0.000054                  0.327481                  4.790910   \n",
      "2044           0.000038                  2.229260                  0.222157   \n",
      "2045           0.000174                  0.453541                  1.920250   \n",
      "2046           0.000090                  0.718570                  0.698528   \n",
      "2047           0.000070                  1.376900                  6.051620   \n",
      "\n",
      "      BlackHoleFeedbackFactor  BlackHoleRadiativeEfficiency  QuasarThreshold  \\\n",
      "0                    0.039463                      0.225386         0.000269   \n",
      "1                    0.151352                      0.086231         0.022802   \n",
      "2                    0.099772                      0.648096         0.001458   \n",
      "3                    0.349945                      0.126670         0.004242   \n",
      "4                    0.032352                      0.460414         0.007438   \n",
      "...                       ...                           ...              ...   \n",
      "2043                 0.033553                      0.481742         0.001252   \n",
      "2044                 0.397001                      0.109068         0.000416   \n",
      "2045                 0.087029                      0.682619         0.006263   \n",
      "2046                 0.158683                      0.083655         0.000071   \n",
      "2047                 0.038037                      0.256220         0.036493   \n",
      "\n",
      "      QuasarThresholdPower   seed  \n",
      "0                 0.514648  20000  \n",
      "1                 2.620780  20001  \n",
      "2                 3.389560  20002  \n",
      "3                 1.494400  20003  \n",
      "4                 2.299550  20004  \n",
      "...                    ...    ...  \n",
      "2043              2.191720  22043  \n",
      "2044              1.012360  22044  \n",
      "2045              3.117210  22045  \n",
      "2046              2.887940  22046  \n",
      "2047              0.994068  22047  \n",
      "\n",
      "[2048 rows x 30 columns]\n",
      "                            ParamName  AbsMaxDiff  LogFlag  FiducialVal  \\\n",
      "0                              Omega0        0.20        0      0.30000   \n",
      "1                              sigma8        0.20        0      0.80000   \n",
      "2                 WindEnergyIn1e51erg        4.00        1      3.60000   \n",
      "3                 RadioFeedbackFactor        4.00        1      1.00000   \n",
      "4               VariableWindVelFactor        2.00        1      7.40000   \n",
      "5   RadioFeedbackReiorientationFactor        2.00        1     20.00000   \n",
      "6                         OmegaBaryon        0.02        0      0.04900   \n",
      "7                         HubbleParam        0.20        0      0.67110   \n",
      "8                                 n_s        0.20        0      0.96240   \n",
      "9                     MaxSfrTimescale        2.00        1      2.27000   \n",
      "10                 FactorForSofterEQS        3.00        1      0.30000   \n",
      "11                           IMFslope        0.50        0     -2.30000   \n",
      "12                  SNII_MinMass_Msun        4.00        0      8.00000   \n",
      "13                ThermalWindFraction        4.00        1      0.10000   \n",
      "14           VariableWindSpecMomentum     2000.00        0      0.00000   \n",
      "15              WindFreeTravelDensFac       10.00        1      0.05000   \n",
      "16                         MinWindVel      200.00        0    350.00000   \n",
      "17          WindEnergyReductionFactor        4.00        1      0.25000   \n",
      "18     WindEnergyReductionMetallicity        4.00        1      0.00200   \n",
      "19        WindEnergyReductionExponent        1.00        0      2.00000   \n",
      "20                     WindDumpFactor        0.40        0      0.60000   \n",
      "21                  SeedBlackHoleMass        3.16        1      0.00008   \n",
      "22           BlackHoleAccretionFactor        4.00        1      1.00000   \n",
      "23           BlackHoleEddingtonFactor       10.00        1      1.00000   \n",
      "24            BlackHoleFeedbackFactor        4.00        1      0.10000   \n",
      "25       BlackHoleRadiativeEfficiency        4.00        1      0.20000   \n",
      "26                    QuasarThreshold       31.60        1      0.00200   \n",
      "27               QuasarThresholdPower        2.00        0      2.00000   \n",
      "\n",
      "        MinVal       MaxVal                                        Description  \n",
      "0     0.100000     0.500000                                        OmegaMatter  \n",
      "1     0.600000     1.000000                                             sigma8  \n",
      "2     0.900000    14.400000                       ASN1 - galactic winds energy  \n",
      "3     0.250000     4.000000                 AAGN1 - AGN FB kinetic mode energy  \n",
      "4     3.700000    14.800000                        ASN2 - galactic winds speed  \n",
      "5    10.000000    40.000000             AAGN2 - AGN FB kinetic mode burstiness  \n",
      "6     0.029000     0.069000                                        OmegaBaryon  \n",
      "7     0.471100     0.871100                                   Hubble parameter  \n",
      "8     0.762400     1.162400                      power spectrum spectral index  \n",
      "9     1.135000     4.540000                          gas consumption timescale  \n",
      "10    0.100000     0.900000                     softening factor for SH03 eEOS  \n",
      "11   -2.800000    -1.800000                              IMF slope above 1Msun  \n",
      "12    4.000000    12.000000                  minimum stellar mass that goes SN  \n",
      "13    0.025000     0.400000  fraction of wind energy injected thermally (ve...  \n",
      "14    0.000000  4000.000000              wind momentum per unit star-formation  \n",
      "15    0.005000     0.500000                         density of wind recoupling  \n",
      "16  150.000000   550.000000                                   wind speed floor  \n",
      "17    0.062500     1.000000  magnitude of wind energy dependence on metalli...  \n",
      "18    0.000500     0.008000            metallicity at which wind energy pivots  \n",
      "19    1.000000     3.000000  sharpness of wind energy dependence on metalli...  \n",
      "20    0.200000     1.000000                   (1 minus metal loading of winds)  \n",
      "21    0.000025     0.000253                                       seed BH mass  \n",
      "22    0.250000     4.000000                              Bondi rate multiplier  \n",
      "23    0.100000    10.000000  Eddington rate multiplier for the BH accretion...  \n",
      "24    0.025000     0.400000            high-accretion mode feedback efficiency  \n",
      "25    0.050000     0.800000                            BH radiative efficiency  \n",
      "26    0.000063     0.063200  Eddington ratio for transition between BH feed...  \n",
      "27    0.000000     4.000000  power-law in Weinberger+ 2017 eq.5 - steepness...  \n"
     ]
    }
   ],
   "source": [
    "# parameter info file (df_info) is used for defining priors\n",
    "# the actual parameter values come from the camels class which reads CosmoAstroSeed_IllustrisTNG_L25n256_SB28.txt\n",
    "\n",
    "#  parameters defined here: /disk/xray15/aem2/data/28pams/IllustrisTNG/SB/CosmoAstroSeed_IllustrisTNG_L25n256_SB28.txt which is used for theta\n",
    "df_pars = pd.read_csv('/disk/xray15/aem2/data/28pams/IllustrisTNG/SB/CosmoAstroSeed_IllustrisTNG_L25n256_SB28.txt', delim_whitespace=True)\n",
    "print(df_pars)\n",
    "\n",
    "\n",
    "# prior values come from this:\n",
    "df_info = pd.read_csv(\"/disk/xray15/aem2/data/28pams/Info_IllustrisTNG_L25n256_28params.txt\")\n",
    "print(df_info)\n",
    "\n"
   ]
  },
  {
   "cell_type": "code",
   "execution_count": 3,
   "metadata": {},
   "outputs": [
    {
     "name": "stdout",
     "output_type": "stream",
     "text": [
      "[[3.52541e-01 6.94742e-01 3.85743e+00 ... 2.25386e-01 2.69356e-04\n",
      "  5.14648e-01]\n",
      " [1.72430e-01 8.30154e-01 1.03554e+00 ... 8.62311e-02 2.28022e-02\n",
      "  2.62078e+00]\n",
      " [2.34683e-01 7.05844e-01 9.61416e+00 ... 6.48096e-01 1.45761e-03\n",
      "  3.38956e+00]\n",
      " ...\n",
      " [2.34475e-01 9.38760e-01 1.49723e+00 ... 6.82619e-01 6.26319e-03\n",
      "  3.11721e+00]\n",
      " [1.72613e-01 6.12888e-01 1.33125e+01 ... 8.36555e-02 7.09853e-05\n",
      "  2.88794e+00]\n",
      " [3.52358e-01 8.62216e-01 3.09935e+00 ... 2.56220e-01 3.64932e-02\n",
      "  9.94068e-01]]\n",
      "(2048, 28)\n"
     ]
    }
   ],
   "source": [
    "theta = df_pars.iloc[:, 1:29].to_numpy()  # excluding 'name' column and 'seed' column\n",
    "\n",
    "print(theta)\n",
    "print(theta.shape)"
   ]
  },
  {
   "cell_type": "code",
   "execution_count": 4,
   "metadata": {},
   "outputs": [
    {
     "name": "stdout",
     "output_type": "stream",
     "text": [
      "Column names:\n",
      "['#Name', 'Omega0', 'sigma8', 'WindEnergyIn1e51erg', 'RadioFeedbackFactor', 'VariableWindVelFactor', 'RadioFeedbackReiorientationFactor', 'OmegaBaryon', 'HubbleParam', 'n_s', 'MaxSfrTimescale', 'FactorForSofterEQS', 'IMFslope', 'SNII_MinMass_Msun', 'ThermalWindFraction', 'VariableWindSpecMomentum', 'WindFreeTravelDensFac', 'MinWindVel', 'WindEnergyReductionFactor', 'WindEnergyReductionMetallicity', 'WindEnergyReductionExponent', 'WindDumpFactor', 'SeedBlackHoleMass', 'BlackHoleAccretionFactor', 'BlackHoleEddingtonFactor', 'BlackHoleFeedbackFactor', 'BlackHoleRadiativeEfficiency', 'QuasarThreshold', 'QuasarThresholdPower', 'seed']\n"
     ]
    }
   ],
   "source": [
    "print(\"Column names:\")\n",
    "print(df_pars.columns.tolist())"
   ]
  },
  {
   "cell_type": "code",
   "execution_count": 5,
   "metadata": {},
   "outputs": [
    {
     "data": {
      "text/plain": [
       "(array([676., 348., 235., 178., 143., 121., 102.,  92.,  80.,  73.]),\n",
       " array([0.0250079 , 0.06248791, 0.09996792, 0.13744793, 0.17492794,\n",
       "        0.21240795, 0.24988796, 0.28736797, 0.32484798, 0.36232799,\n",
       "        0.399808  ]),\n",
       " <BarContainer object of 10 artists>)"
      ]
     },
     "execution_count": 5,
     "metadata": {},
     "output_type": "execute_result"
    },
    {
     "data": {
      "image/png": "[encoded data removed]",
      "text/plain": [
       "<Figure size 640x480 with 1 Axes>"
      ]
     },
     "metadata": {},
     "output_type": "display_data"
    }
   ],
   "source": [
    "# plot the first one (omega0) to see shape of prior:\n",
    "plt.hist(theta[:, 24])"
   ]
  },
  {
   "cell_type": "code",
   "execution_count": 6,
   "metadata": {},
   "outputs": [
    {
     "name": "stdout",
     "output_type": "stream",
     "text": [
      "torch.Size([2048, 28]) (2048, 36)\n"
     ]
    }
   ],
   "source": [
    "if __name__ == \"__main__\":\n",
    "    theta, x = get_theta_x_SB()\n",
    "    print(theta.shape, x.shape)"
   ]
  },
  {
   "cell_type": "code",
   "execution_count": 7,
   "metadata": {},
   "outputs": [],
   "source": [
    "if colours:\n",
    "    fig = plot_colour(x)\n",
    "    plt.savefig('/disk/xray15/aem2/plots/28pams/IllustrisTNG/SB/test/colours_test/colour_check.png')\n",
    "    plt.show()"
   ]
  },
  {
   "cell_type": "code",
   "execution_count": 8,
   "metadata": {},
   "outputs": [
    {
     "data": {
      "image/png": "[encoded data removed]",
      "text/plain": [
       "<Figure size 1000x600 with 1 Axes>"
      ]
     },
     "metadata": {},
     "output_type": "display_data"
    }
   ],
   "source": [
    "if luminosity_functions:\n",
    "    fig = plot_uvlf(x)\n",
    "    plt.savefig('/disk/xray15/aem2/plots/28pams/IllustrisTNG/SB/test/LFs_test/uvlf_check.png')\n",
    "    plt.show()"
   ]
  },
  {
   "cell_type": "code",
   "execution_count": 9,
   "metadata": {},
   "outputs": [
    {
     "name": "stdout",
     "output_type": "stream",
     "text": [
      "processing Omega0:\n",
      "processing Omega0 is linear with min 0.1 and max 0.5:\n",
      "processing sigma8:\n",
      "processing sigma8 is linear with min 0.6 and max 1.0:\n",
      "processing WindEnergyIn1e51erg:\n",
      "processing WindEnergyIn1e51erg is logarithmic with min 0.9 and max 14.4:\n",
      "processing RadioFeedbackFactor:\n",
      "processing RadioFeedbackFactor is logarithmic with min 0.25 and max 4.0:\n",
      "processing VariableWindVelFactor:\n",
      "processing VariableWindVelFactor is logarithmic with min 3.7 and max 14.8:\n",
      "processing RadioFeedbackReiorientationFactor:\n",
      "processing RadioFeedbackReiorientationFactor is logarithmic with min 10.0 and max 40.0:\n",
      "processing OmegaBaryon:\n",
      "processing OmegaBaryon is linear with min 0.029 and max 0.069:\n",
      "processing HubbleParam:\n",
      "processing HubbleParam is linear with min 0.4711 and max 0.8711:\n",
      "processing n_s:\n",
      "processing n_s is linear with min 0.7624 and max 1.1624:\n",
      "processing MaxSfrTimescale:\n",
      "processing MaxSfrTimescale is logarithmic with min 1.135 and max 4.54:\n",
      "processing FactorForSofterEQS:\n",
      "processing FactorForSofterEQS is logarithmic with min 0.1 and max 0.9:\n",
      "processing IMFslope:\n",
      "processing IMFslope is linear with min -2.8 and max -1.8:\n",
      "processing SNII_MinMass_Msun:\n",
      "processing SNII_MinMass_Msun is linear with min 4.0 and max 12.0:\n",
      "processing ThermalWindFraction:\n",
      "processing ThermalWindFraction is logarithmic with min 0.025 and max 0.4:\n",
      "processing VariableWindSpecMomentum:\n",
      "processing VariableWindSpecMomentum is linear with min 0.0 and max 4000.0:\n",
      "processing WindFreeTravelDensFac:\n",
      "processing WindFreeTravelDensFac is logarithmic with min 0.005 and max 0.5:\n",
      "processing MinWindVel:\n",
      "processing MinWindVel is linear with min 150.0 and max 550.0:\n",
      "processing WindEnergyReductionFactor:\n",
      "processing WindEnergyReductionFactor is logarithmic with min 0.0625 and max 1.0:\n",
      "processing WindEnergyReductionMetallicity:\n",
      "processing WindEnergyReductionMetallicity is logarithmic with min 0.0005 and max 0.008:\n",
      "processing WindEnergyReductionExponent:\n",
      "processing WindEnergyReductionExponent is linear with min 1.0 and max 3.0:\n",
      "processing WindDumpFactor:\n",
      "processing WindDumpFactor is linear with min 0.2 and max 1.0:\n",
      "processing SeedBlackHoleMass:\n",
      "processing SeedBlackHoleMass is logarithmic with min 2.5316e-05 and max 0.0002528:\n",
      "processing BlackHoleAccretionFactor:\n",
      "processing BlackHoleAccretionFactor is logarithmic with min 0.25 and max 4.0:\n",
      "processing BlackHoleEddingtonFactor:\n",
      "processing BlackHoleEddingtonFactor is logarithmic with min 0.1 and max 10.0:\n",
      "processing BlackHoleFeedbackFactor:\n",
      "processing BlackHoleFeedbackFactor is logarithmic with min 0.025 and max 0.4:\n",
      "processing BlackHoleRadiativeEfficiency:\n",
      "processing BlackHoleRadiativeEfficiency is logarithmic with min 0.05 and max 0.8:\n",
      "processing QuasarThreshold:\n",
      "processing QuasarThreshold is logarithmic with min 6.33e-05 and max 0.0632:\n",
      "processing QuasarThresholdPower:\n",
      "processing QuasarThresholdPower is linear with min 0.0 and max 4.0:\n",
      "Theta shape: torch.Size([2048, 28])\n",
      "X shape: torch.Size([2048, 36])\n"
     ]
    },
    {
     "name": "stderr",
     "output_type": "stream",
     "text": [
      "/disk/xray15/aem2/envs/camels/lib/python3.8/site-packages/sbi/utils/user_input_checks.py:76: UserWarning: Prior was provided as a sequence of 28 priors. They will be\n",
      "            interpreted as independent of each other and matched in order to the\n",
      "            components of the parameter.\n",
      "  warnings.warn(\n",
      "/disk/xray15/aem2/envs/camels/lib/python3.8/site-packages/sbi/utils/torchutils.py:27: UserWarning: GPU was selected as a device for training the neural network. Note that we expect no significant speed ups in training for the default architectures we provide. Using the GPU will be effective only for large neural networks with operations that are fast on the GPU, e.g., for a CNN or RNN `embedding_net`.\n",
      "  warnings.warn(\n",
      "/disk/xray15/aem2/envs/camels/lib/python3.8/site-packages/sbi/utils/user_input_checks.py:209: UserWarning: Casting 1D Uniform prior to BoxUniform to match sbi batch requirements.\n",
      "  warnings.warn(\n"
     ]
    }
   ],
   "source": [
    "\n",
    "# get the priors and data\n",
    "prior = initialise_priors_SB28(\n",
    "    df=df_info, \n",
    "    device=device,\n",
    "    astro=True,\n",
    "    dust=False  # no dust for testing. set to False to only get the 28 model parameters.\n",
    "    # with dust = True, prior has 32 dimensions (28 parameters + 4 dust parameters) \n",
    ")\n",
    "\n",
    "# process the data\n",
    "x_all = np.array([np.hstack(_x) for _x in x])\n",
    "x_all = torch.tensor(x_all, dtype=torch.float32, device=device)\n",
    "\n",
    "print(\"Theta shape:\", theta.shape)\n",
    "print(\"X shape:\", x_all.shape)"
   ]
  },
  {
   "cell_type": "code",
   "execution_count": 10,
   "metadata": {},
   "outputs": [
    {
     "data": {
      "text/plain": [
       "tensor([[-5.9718e+00, -5.9718e+00, -5.9718e+00,  ...,  0.0000e+00,\n",
       "          0.0000e+00,  0.0000e+00],\n",
       "        [-5.9881e+00, -5.9881e+00, -5.9881e+00,  ...,  6.9378e-02,\n",
       "          3.5885e-02,  2.6316e-02],\n",
       "        [-5.9762e+00, -5.9762e+00, -5.9762e+00,  ...,  0.0000e+00,\n",
       "          0.0000e+00,  0.0000e+00],\n",
       "        ...,\n",
       "        [-5.9622e+00, -5.9622e+00, -5.9622e+00,  ...,  1.6349e-02,\n",
       "          8.1744e-03,  0.0000e+00],\n",
       "        [-5.9627e+00, -5.9627e+00, -5.9627e+00,  ...,  0.0000e+00,\n",
       "          0.0000e+00,  0.0000e+00],\n",
       "        [-5.9961e+00, -5.9961e+00, -5.9961e+00,  ...,  2.5126e-02,\n",
       "          2.0101e-02,  5.0251e-03]], device='cuda:0')"
      ]
     },
     "execution_count": 10,
     "metadata": {},
     "output_type": "execute_result"
    }
   ],
   "source": [
    "\n",
    "# Move data to GPU as early as possible\n",
    "x_all = x_all.to(device)\n",
    "x_all\n"
   ]
  },
  {
   "cell_type": "code",
   "execution_count": 11,
   "metadata": {},
   "outputs": [
    {
     "name": "stderr",
     "output_type": "stream",
     "text": [
      "/tmp/ipykernel_4159290/964306182.py:1: UserWarning: To copy construct from a tensor, it is recommended to use sourceTensor.clone().detach() or sourceTensor.clone().detach().requires_grad_(True), rather than torch.tensor(sourceTensor).\n",
      "  theta = torch.tensor(theta, dtype=torch.float32, device=device)\n"
     ]
    },
    {
     "data": {
      "text/plain": [
       "tensor([[3.5254e-01, 6.9474e-01, 3.8574e+00,  ..., 2.2539e-01, 2.6936e-04,\n",
       "         5.1465e-01],\n",
       "        [1.7243e-01, 8.3015e-01, 1.0355e+00,  ..., 8.6231e-02, 2.2802e-02,\n",
       "         2.6208e+00],\n",
       "        [2.3468e-01, 7.0584e-01, 9.6142e+00,  ..., 6.4810e-01, 1.4576e-03,\n",
       "         3.3896e+00],\n",
       "        ...,\n",
       "        [2.3448e-01, 9.3876e-01, 1.4972e+00,  ..., 6.8262e-01, 6.2632e-03,\n",
       "         3.1172e+00],\n",
       "        [1.7261e-01, 6.1289e-01, 1.3312e+01,  ..., 8.3655e-02, 7.0985e-05,\n",
       "         2.8879e+00],\n",
       "        [3.5236e-01, 8.6222e-01, 3.0993e+00,  ..., 2.5622e-01, 3.6493e-02,\n",
       "         9.9407e-01]], device='cuda:0')"
      ]
     },
     "execution_count": 11,
     "metadata": {},
     "output_type": "execute_result"
    }
   ],
   "source": [
    "theta = torch.tensor(theta, dtype=torch.float32, device=device)\n",
    "theta"
   ]
  },
  {
   "cell_type": "code",
   "execution_count": 12,
   "metadata": {},
   "outputs": [
    {
     "data": {
      "text/plain": [
       "array([[-5.9717813e+00, -5.9717813e+00, -5.9717813e+00, ...,\n",
       "         0.0000000e+00,  0.0000000e+00,  0.0000000e+00],\n",
       "       [-5.9881158e+00, -5.9881158e+00, -5.9881158e+00, ...,\n",
       "         6.9377989e-02,  3.5885166e-02,  2.6315790e-02],\n",
       "       [-5.9762177e+00, -5.9762177e+00, -5.9762177e+00, ...,\n",
       "         0.0000000e+00,  0.0000000e+00,  0.0000000e+00],\n",
       "       ...,\n",
       "       [-5.9622416e+00, -5.9622416e+00, -5.9622416e+00, ...,\n",
       "         1.6348774e-02,  8.1743868e-03,  0.0000000e+00],\n",
       "       [-5.9626508e+00, -5.9626508e+00, -5.9626508e+00, ...,\n",
       "         0.0000000e+00,  0.0000000e+00,  0.0000000e+00],\n",
       "       [-5.9960556e+00, -5.9960556e+00, -5.9960556e+00, ...,\n",
       "         2.5125628e-02,  2.0100502e-02,  5.0251256e-03]], dtype=float32)"
      ]
     },
     "execution_count": 12,
     "metadata": {},
     "output_type": "execute_result"
    }
   ],
   "source": [
    "# Handle NaN values and normalize while on GPU\n",
    "x_all_cpu = x_all.cpu().numpy()  # Only move to CPU when necessary for sklearn\n",
    "x_all_cpu\n"
   ]
  },
  {
   "cell_type": "code",
   "execution_count": 13,
   "metadata": {},
   "outputs": [
    {
     "name": "stdout",
     "output_type": "stream",
     "text": [
      "Data shape before processing: (2048, 36)\n",
      "Number of values: -225130.23\n",
      "Number of NaN values: 0\n",
      "Number of infinite values: 0\n"
     ]
    }
   ],
   "source": [
    "print(\"Data shape before processing:\", x_all_cpu.shape)\n",
    "print(\"Number of values:\",(x_all_cpu).sum())\n",
    "print(\"Number of NaN values:\", np.isnan(x_all_cpu).sum())\n",
    "print(\"Number of infinite values:\", np.isinf(x_all_cpu).sum())\n",
    "\n",
    "# how many nan values are there? if they are all nan something has gone horribly wrong.\n",
    "# this looks better - 18th Nov"
   ]
  },
  {
   "cell_type": "code",
   "execution_count": 14,
   "metadata": {},
   "outputs": [
    {
     "data": {
      "text/plain": [
       "array([[False, False, False, ..., False, False, False],\n",
       "       [False, False, False, ..., False, False, False],\n",
       "       [False, False, False, ..., False, False, False],\n",
       "       ...,\n",
       "       [False, False, False, ..., False, False, False],\n",
       "       [False, False, False, ..., False, False, False],\n",
       "       [False, False, False, ..., False, False, False]])"
      ]
     },
     "execution_count": 14,
     "metadata": {},
     "output_type": "execute_result"
    }
   ],
   "source": [
    "\n",
    "# get rid of NaN/inf values, replace with small random noise\n",
    "nan_mask = np.isnan(x_all_cpu) | np.isinf(x_all_cpu)\n",
    "nan_mask\n",
    "\n"
   ]
  },
  {
   "cell_type": "code",
   "execution_count": 15,
   "metadata": {},
   "outputs": [],
   "source": [
    "\n",
    "if nan_mask.any():\n",
    "    x_all_cpu[nan_mask] = np.random.rand(np.sum(nan_mask)) * 1e-10\n"
   ]
  },
  {
   "cell_type": "code",
   "execution_count": 16,
   "metadata": {},
   "outputs": [
    {
     "data": {
      "text/plain": [
       "array([[-5.9717813e+00, -5.9717813e+00, -5.9717813e+00, ...,\n",
       "         0.0000000e+00,  0.0000000e+00,  0.0000000e+00],\n",
       "       [-5.9881158e+00, -5.9881158e+00, -5.9881158e+00, ...,\n",
       "         6.9377989e-02,  3.5885166e-02,  2.6315790e-02],\n",
       "       [-5.9762177e+00, -5.9762177e+00, -5.9762177e+00, ...,\n",
       "         0.0000000e+00,  0.0000000e+00,  0.0000000e+00],\n",
       "       ...,\n",
       "       [-5.9622416e+00, -5.9622416e+00, -5.9622416e+00, ...,\n",
       "         1.6348774e-02,  8.1743868e-03,  0.0000000e+00],\n",
       "       [-5.9626508e+00, -5.9626508e+00, -5.9626508e+00, ...,\n",
       "         0.0000000e+00,  0.0000000e+00,  0.0000000e+00],\n",
       "       [-5.9960556e+00, -5.9960556e+00, -5.9960556e+00, ...,\n",
       "         2.5125628e-02,  2.0100502e-02,  5.0251256e-03]], dtype=float32)"
      ]
     },
     "execution_count": 16,
     "metadata": {},
     "output_type": "execute_result"
    }
   ],
   "source": [
    "x_all_cpu"
   ]
  },
  {
   "cell_type": "code",
   "execution_count": 17,
   "metadata": {},
   "outputs": [
    {
     "name": "stdout",
     "output_type": "stream",
     "text": [
      "Data shape before processing: (2048, 36)\n",
      "Number of NaN values: 0\n",
      "Number of infinite values: 0\n"
     ]
    }
   ],
   "source": [
    "print(\"Data shape before processing:\", x_all_cpu.shape)\n",
    "print(\"Number of NaN values:\", np.isnan(x_all_cpu).sum())\n",
    "print(\"Number of infinite values:\", np.isinf(x_all_cpu).sum())\n"
   ]
  },
  {
   "cell_type": "code",
   "execution_count": 18,
   "metadata": {},
   "outputs": [
    {
     "data": {
      "text/plain": [
       "tensor([[-2.3794e-01, -2.3794e-01, -2.3794e-01,  ...,  3.9845e-12,\n",
       "          3.9845e-12,  3.9845e-12],\n",
       "        [-2.4248e-01, -2.4248e-01, -2.4248e-01,  ...,  2.8094e-03,\n",
       "          1.4531e-03,  1.0656e-03],\n",
       "        [-2.5381e-01, -2.5381e-01, -2.5381e-01,  ...,  4.2469e-12,\n",
       "          4.2469e-12,  4.2469e-12],\n",
       "        ...,\n",
       "        [-2.4442e-01, -2.4442e-01, -2.4442e-01,  ...,  6.7022e-04,\n",
       "          3.3511e-04,  4.0995e-12],\n",
       "        [-2.1867e-01, -2.1867e-01, -2.1867e-01,  ...,  3.6673e-12,\n",
       "          3.6673e-12,  3.6673e-12],\n",
       "        [-2.3707e-01, -2.3707e-01, -2.3707e-01,  ...,  9.9339e-04,\n",
       "          7.9472e-04,  1.9868e-04]], device='cuda:0')"
      ]
     },
     "execution_count": 18,
     "metadata": {},
     "output_type": "execute_result"
    }
   ],
   "source": [
    "\n",
    "# Normalize\n",
    "'''\n",
    "With normalization:\n",
    "- All values brought to similar scale\n",
    "- Neural network can learn more effectively\n",
    "- No single bin dominates the learning\n",
    "'''\n",
    "\n",
    "norm = Normalizer()\n",
    "\n",
    "# Option: Add small constant before normalizing\n",
    "epsilon = 1e-10  # Small constant\n",
    "x_all_shifted = x_all_cpu + epsilon\n",
    "x_all_normalized = norm.fit_transform(x_all_shifted)\n",
    "x_all = torch.tensor(x_all_normalized, dtype=torch.float32, device=device)\n",
    "\n",
    "'''\n",
    "x_all_normalized = norm.fit_transform(x_all_cpu)\n",
    "x_all = torch.tensor(x_all_normalized, dtype=torch.float32, device=device)\n",
    "'''\n",
    "x_all"
   ]
  },
  {
   "cell_type": "code",
   "execution_count": 19,
   "metadata": {},
   "outputs": [
    {
     "name": "stdout",
     "output_type": "stream",
     "text": [
      "Normalization Statistics:\n",
      "Mean: -0.126946\n",
      "Std: 0.107993\n",
      "Min: -0.326723\n",
      "Max: 0.131679\n",
      "Zero elements: 0 out of 73728\n"
     ]
    }
   ],
   "source": [
    "# Add some diagnostics for the normalized data\n",
    "def analyze_normalization(x_all):\n",
    "    \"\"\"Analyze the normalized data distribution\"\"\"\n",
    "    x_numpy = x_all.cpu().numpy()\n",
    "    \n",
    "    print(\"Normalization Statistics:\")\n",
    "    print(f\"Mean: {np.mean(x_numpy):.6f}\")\n",
    "    print(f\"Std: {np.std(x_numpy):.6f}\")\n",
    "    print(f\"Min: {np.min(x_numpy):.6f}\")\n",
    "    print(f\"Max: {np.max(x_numpy):.6f}\")\n",
    "    print(f\"Zero elements: {np.sum(x_numpy == 0)} out of {x_numpy.size}\")\n",
    "    \n",
    "    # Plot distribution\n",
    "    plt.figure(figsize=(10, 5))\n",
    "    plt.hist(x_numpy.flatten(), bins=50, density=True)\n",
    "    plt.title('Distribution of Normalized Values')\n",
    "    plt.xlabel('Value')\n",
    "    plt.ylabel('Density')\n",
    "    plt.grid(True, alpha=0.3)\n",
    "    plt.savefig(os.path.join(plots_out_dir, 'normalization_distribution.png'))\n",
    "    plt.close()\n",
    "\n",
    "analyze_normalization(x_all)\n",
    "\n",
    "# zero elements might refer to:\n",
    "# empty magnitude bins (no galaxies in that magnitude range)\n",
    "# below detection limit regions\n",
    "# is actually normal for UVLFs"
   ]
  },
  {
   "cell_type": "code",
   "execution_count": null,
   "metadata": {},
   "outputs": [],
   "source": []
  },
  {
   "cell_type": "code",
   "execution_count": 20,
   "metadata": {},
   "outputs": [
    {
     "name": "stdout",
     "output_type": "stream",
     "text": [
      "Any NaN in normalized data: False\n",
      "Any inf in normalized data: False\n"
     ]
    }
   ],
   "source": [
    "\n",
    "# Save normalizer\n",
    "joblib.dump(norm, f'/disk/xray15/aem2/data/28pams/IllustrisTNG/SB/models/{name}_scaler.save')\n",
    "\n",
    "# Print final check\n",
    "print(\"Any NaN in normalized data:\", torch.isnan(x_all).any().item())\n",
    "print(\"Any inf in normalized data:\", torch.isinf(x_all).any().item())\n"
   ]
  },
  {
   "cell_type": "code",
   "execution_count": 21,
   "metadata": {},
   "outputs": [
    {
     "name": "stdout",
     "output_type": "stream",
     "text": [
      "Total simulations: 2048\n",
      "Test set size: 203\n",
      "Training set size: 1845\n",
      "Test fraction: 0.099\n"
     ]
    },
    {
     "data": {
      "text/plain": [
       "array([False,  True, False, ..., False, False, False])"
      ]
     },
     "execution_count": 21,
     "metadata": {},
     "output_type": "execute_result"
    }
   ],
   "source": [
    "\n",
    "# make test mask\n",
    "test_mask = create_test_mask() # 10% testing\n",
    "test_mask\n"
   ]
  },
  {
   "cell_type": "code",
   "execution_count": 22,
   "metadata": {},
   "outputs": [
    {
     "data": {
      "text/plain": [
       "array([ True, False,  True, ...,  True,  True,  True])"
      ]
     },
     "execution_count": 22,
     "metadata": {},
     "output_type": "execute_result"
    }
   ],
   "source": [
    "train_mask = ~test_mask # 90% for training\n",
    "train_mask\n"
   ]
  },
  {
   "cell_type": "code",
   "execution_count": 23,
   "metadata": {},
   "outputs": [
    {
     "name": "stderr",
     "output_type": "stream",
     "text": [
      "INFO:root:MODEL INFERENCE CLASS: NPE\n",
      "/disk/xray15/aem2/envs/camels/lib/python3.8/site-packages/sbi/utils/torchutils.py:27: UserWarning: GPU was selected as a device for training the neural network. Note that we expect no significant speed ups in training for the default architectures we provide. Using the GPU will be effective only for large neural networks with operations that are fast on the GPU, e.g., for a CNN or RNN `embedding_net`.\n",
      "  warnings.warn(\n",
      "INFO:root:Training model 1 / 1.\n"
     ]
    },
    {
     "ename": "RuntimeError",
     "evalue": "CUDA error: CUBLAS_STATUS_ALLOC_FAILED when calling `cublasCreate(handle)`",
     "output_type": "error",
     "traceback": [
      "\u001b[0;31m---------------------------------------------------------------------------\u001b[0m",
      "\u001b[0;31mRuntimeError\u001b[0m                              Traceback (most recent call last)",
      "Cell \u001b[0;32mIn[23], line 65\u001b[0m\n\u001b[1;32m     51\u001b[0m runner \u001b[38;5;241m=\u001b[39m InferenceRunner\u001b[38;5;241m.\u001b[39mload(\n\u001b[1;32m     52\u001b[0m     backend\u001b[38;5;241m=\u001b[39m\u001b[38;5;124m\"\u001b[39m\u001b[38;5;124msbi\u001b[39m\u001b[38;5;124m\"\u001b[39m,\n\u001b[1;32m     53\u001b[0m     engine\u001b[38;5;241m=\u001b[39m\u001b[38;5;124m\"\u001b[39m\u001b[38;5;124mNPE\u001b[39m\u001b[38;5;124m\"\u001b[39m,\n\u001b[0;32m   (...)\u001b[0m\n\u001b[1;32m     60\u001b[0m     name\u001b[38;5;241m=\u001b[39mname\n\u001b[1;32m     61\u001b[0m )\n\u001b[1;32m     63\u001b[0m \u001b[38;5;66;03m# Run training - 'learn the likelihood'\u001b[39;00m\n\u001b[1;32m     64\u001b[0m \u001b[38;5;66;03m# this is training the neural network which will act like our likelihood!\u001b[39;00m\n\u001b[0;32m---> 65\u001b[0m posterior_ensemble, summaries \u001b[38;5;241m=\u001b[39m \u001b[43mrunner\u001b[49m\u001b[43m(\u001b[49m\u001b[43mloader\u001b[49m\u001b[38;5;241;43m=\u001b[39;49m\u001b[43mloader\u001b[49m\u001b[43m)\u001b[49m\n\u001b[1;32m     67\u001b[0m \u001b[38;5;66;03m# process of training:\u001b[39;00m\n\u001b[1;32m     68\u001b[0m \u001b[38;5;124;03m'''\u001b[39;00m\n\u001b[1;32m     69\u001b[0m \u001b[38;5;124;03m- the neural network learns P(θ|x): probability of parameters given observations\u001b[39;00m\n\u001b[1;32m     70\u001b[0m \u001b[38;5;124;03m- uses training data to learn mapping from x → θ\u001b[39;00m\n\u001b[1;32m     71\u001b[0m \u001b[38;5;124;03m- then we validate on held-out portion of training data\u001b[39;00m\n\u001b[1;32m     72\u001b[0m \u001b[38;5;124;03m'''\u001b[39;00m\n",
      "File \u001b[0;32m/disk/xray15/aem2/envs/camels/src/ltu-ili/ili/inference/runner_sbi.py:301\u001b[0m, in \u001b[0;36mSBIRunner.__call__\u001b[0;34m(self, loader, seed)\u001b[0m\n\u001b[1;32m    299\u001b[0m \u001b[38;5;66;03m# train a single round of inference\u001b[39;00m\n\u001b[1;32m    300\u001b[0m t0 \u001b[38;5;241m=\u001b[39m time\u001b[38;5;241m.\u001b[39mtime()\n\u001b[0;32m--> 301\u001b[0m posterior_ensemble, summaries \u001b[38;5;241m=\u001b[39m \u001b[38;5;28;43mself\u001b[39;49m\u001b[38;5;241;43m.\u001b[39;49m\u001b[43m_train_round\u001b[49m\u001b[43m(\u001b[49m\n\u001b[1;32m    302\u001b[0m \u001b[43m    \u001b[49m\u001b[43mmodels\u001b[49m\u001b[38;5;241;43m=\u001b[39;49m\u001b[43mmodels\u001b[49m\u001b[43m,\u001b[49m\n\u001b[1;32m    303\u001b[0m \u001b[43m    \u001b[49m\u001b[43mx\u001b[49m\u001b[38;5;241;43m=\u001b[39;49m\u001b[43mx\u001b[49m\u001b[43m,\u001b[49m\n\u001b[1;32m    304\u001b[0m \u001b[43m    \u001b[49m\u001b[43mtheta\u001b[49m\u001b[38;5;241;43m=\u001b[39;49m\u001b[43mtheta\u001b[49m\u001b[43m,\u001b[49m\n\u001b[1;32m    305\u001b[0m \u001b[43m    \u001b[49m\u001b[43mproposal\u001b[49m\u001b[38;5;241;43m=\u001b[39;49m\u001b[38;5;28;43mself\u001b[39;49m\u001b[38;5;241;43m.\u001b[39;49m\u001b[43mproposal\u001b[49m\u001b[43m,\u001b[49m\n\u001b[1;32m    306\u001b[0m \u001b[43m\u001b[49m\u001b[43m)\u001b[49m\n\u001b[1;32m    307\u001b[0m logging\u001b[38;5;241m.\u001b[39minfo(\u001b[38;5;124mf\u001b[39m\u001b[38;5;124m\"\u001b[39m\u001b[38;5;124mIt took \u001b[39m\u001b[38;5;132;01m{\u001b[39;00mtime\u001b[38;5;241m.\u001b[39mtime()\u001b[38;5;250m \u001b[39m\u001b[38;5;241m-\u001b[39m\u001b[38;5;250m \u001b[39mt0\u001b[38;5;132;01m}\u001b[39;00m\u001b[38;5;124m seconds to train models.\u001b[39m\u001b[38;5;124m\"\u001b[39m)\n\u001b[1;32m    309\u001b[0m \u001b[38;5;66;03m# save if output path is specified\u001b[39;00m\n",
      "File \u001b[0;32m/disk/xray15/aem2/envs/camels/src/ltu-ili/ili/inference/runner_sbi.py:233\u001b[0m, in \u001b[0;36mSBIRunner._train_round\u001b[0;34m(self, models, x, theta, proposal)\u001b[0m\n\u001b[1;32m    231\u001b[0m \u001b[38;5;66;03m# train\u001b[39;00m\n\u001b[1;32m    232\u001b[0m \u001b[38;5;28;01mif\u001b[39;00m (\u001b[38;5;124m\"\u001b[39m\u001b[38;5;124mNPE\u001b[39m\u001b[38;5;124m\"\u001b[39m \u001b[38;5;129;01min\u001b[39;00m \u001b[38;5;28mself\u001b[39m\u001b[38;5;241m.\u001b[39mengine) \u001b[38;5;241m&\u001b[39m first_round:\n\u001b[0;32m--> 233\u001b[0m     \u001b[43mmodel\u001b[49m\u001b[38;5;241;43m.\u001b[39;49m\u001b[43mtrain\u001b[49m\u001b[43m(\u001b[49m\u001b[38;5;241;43m*\u001b[39;49m\u001b[38;5;241;43m*\u001b[39;49m\u001b[38;5;28;43mself\u001b[39;49m\u001b[38;5;241;43m.\u001b[39;49m\u001b[43mtrain_args\u001b[49m\u001b[43m,\u001b[49m\u001b[43m \u001b[49m\u001b[43mresume_training\u001b[49m\u001b[38;5;241;43m=\u001b[39;49m\u001b[38;5;28;43;01mTrue\u001b[39;49;00m\u001b[43m,\u001b[49m\n\u001b[1;32m    234\u001b[0m \u001b[43m                \u001b[49m\u001b[43mforce_first_round_loss\u001b[49m\u001b[38;5;241;43m=\u001b[39;49m\u001b[38;5;28;43;01mTrue\u001b[39;49;00m\u001b[43m)\u001b[49m\n\u001b[1;32m    235\u001b[0m \u001b[38;5;28;01melse\u001b[39;00m:\n\u001b[1;32m    236\u001b[0m     model\u001b[38;5;241m.\u001b[39mepoch, model\u001b[38;5;241m.\u001b[39m_val_log_prob \u001b[38;5;241m=\u001b[39m \u001b[38;5;241m0\u001b[39m, \u001b[38;5;28mfloat\u001b[39m(\u001b[38;5;124m\"\u001b[39m\u001b[38;5;124m-Inf\u001b[39m\u001b[38;5;124m\"\u001b[39m)\n",
      "File \u001b[0;32m/disk/xray15/aem2/envs/camels/lib/python3.8/site-packages/sbi/inference/snpe/snpe_c.py:180\u001b[0m, in \u001b[0;36mSNPE_C.train\u001b[0;34m(self, num_atoms, training_batch_size, learning_rate, validation_fraction, stop_after_epochs, max_num_epochs, clip_max_norm, calibration_kernel, resume_training, force_first_round_loss, discard_prior_samples, use_combined_loss, retrain_from_scratch, show_train_summary, dataloader_kwargs)\u001b[0m\n\u001b[1;32m    176\u001b[0m     \u001b[38;5;28;01mif\u001b[39;00m \u001b[38;5;28mself\u001b[39m\u001b[38;5;241m.\u001b[39muse_non_atomic_loss:\n\u001b[1;32m    177\u001b[0m         \u001b[38;5;66;03m# Take care of z-scoring, pre-compute and store prior terms.\u001b[39;00m\n\u001b[1;32m    178\u001b[0m         \u001b[38;5;28mself\u001b[39m\u001b[38;5;241m.\u001b[39m_set_state_for_mog_proposal()\n\u001b[0;32m--> 180\u001b[0m \u001b[38;5;28;01mreturn\u001b[39;00m \u001b[38;5;28;43msuper\u001b[39;49m\u001b[43m(\u001b[49m\u001b[43m)\u001b[49m\u001b[38;5;241;43m.\u001b[39;49m\u001b[43mtrain\u001b[49m\u001b[43m(\u001b[49m\u001b[38;5;241;43m*\u001b[39;49m\u001b[38;5;241;43m*\u001b[39;49m\u001b[43mkwargs\u001b[49m\u001b[43m)\u001b[49m\n",
      "File \u001b[0;32m/disk/xray15/aem2/envs/camels/lib/python3.8/site-packages/sbi/inference/snpe/snpe_base.py:356\u001b[0m, in \u001b[0;36mPosteriorEstimator.train\u001b[0;34m(self, training_batch_size, learning_rate, validation_fraction, stop_after_epochs, max_num_epochs, clip_max_norm, calibration_kernel, resume_training, force_first_round_loss, discard_prior_samples, retrain_from_scratch, show_train_summary, dataloader_kwargs)\u001b[0m\n\u001b[1;32m    349\u001b[0m \u001b[38;5;66;03m# Get batches on current device.\u001b[39;00m\n\u001b[1;32m    350\u001b[0m theta_batch, x_batch, masks_batch \u001b[38;5;241m=\u001b[39m (\n\u001b[1;32m    351\u001b[0m     batch[\u001b[38;5;241m0\u001b[39m]\u001b[38;5;241m.\u001b[39mto(\u001b[38;5;28mself\u001b[39m\u001b[38;5;241m.\u001b[39m_device),\n\u001b[1;32m    352\u001b[0m     batch[\u001b[38;5;241m1\u001b[39m]\u001b[38;5;241m.\u001b[39mto(\u001b[38;5;28mself\u001b[39m\u001b[38;5;241m.\u001b[39m_device),\n\u001b[1;32m    353\u001b[0m     batch[\u001b[38;5;241m2\u001b[39m]\u001b[38;5;241m.\u001b[39mto(\u001b[38;5;28mself\u001b[39m\u001b[38;5;241m.\u001b[39m_device),\n\u001b[1;32m    354\u001b[0m )\n\u001b[0;32m--> 356\u001b[0m train_losses \u001b[38;5;241m=\u001b[39m \u001b[38;5;28;43mself\u001b[39;49m\u001b[38;5;241;43m.\u001b[39;49m\u001b[43m_loss\u001b[49m\u001b[43m(\u001b[49m\n\u001b[1;32m    357\u001b[0m \u001b[43m    \u001b[49m\u001b[43mtheta_batch\u001b[49m\u001b[43m,\u001b[49m\n\u001b[1;32m    358\u001b[0m \u001b[43m    \u001b[49m\u001b[43mx_batch\u001b[49m\u001b[43m,\u001b[49m\n\u001b[1;32m    359\u001b[0m \u001b[43m    \u001b[49m\u001b[43mmasks_batch\u001b[49m\u001b[43m,\u001b[49m\n\u001b[1;32m    360\u001b[0m \u001b[43m    \u001b[49m\u001b[43mproposal\u001b[49m\u001b[43m,\u001b[49m\n\u001b[1;32m    361\u001b[0m \u001b[43m    \u001b[49m\u001b[43mcalibration_kernel\u001b[49m\u001b[43m,\u001b[49m\n\u001b[1;32m    362\u001b[0m \u001b[43m    \u001b[49m\u001b[43mforce_first_round_loss\u001b[49m\u001b[38;5;241;43m=\u001b[39;49m\u001b[43mforce_first_round_loss\u001b[49m\u001b[43m,\u001b[49m\n\u001b[1;32m    363\u001b[0m \u001b[43m\u001b[49m\u001b[43m)\u001b[49m\n\u001b[1;32m    364\u001b[0m train_loss \u001b[38;5;241m=\u001b[39m torch\u001b[38;5;241m.\u001b[39mmean(train_losses)\n\u001b[1;32m    365\u001b[0m train_log_probs_sum \u001b[38;5;241m-\u001b[39m\u001b[38;5;241m=\u001b[39m train_losses\u001b[38;5;241m.\u001b[39msum()\u001b[38;5;241m.\u001b[39mitem()\n",
      "File \u001b[0;32m/disk/xray15/aem2/envs/camels/lib/python3.8/site-packages/sbi/inference/snpe/snpe_base.py:577\u001b[0m, in \u001b[0;36mPosteriorEstimator._loss\u001b[0;34m(self, theta, x, masks, proposal, calibration_kernel, force_first_round_loss)\u001b[0m\n\u001b[1;32m    564\u001b[0m \u001b[38;5;250m\u001b[39m\u001b[38;5;124;03m\"\"\"Return loss with proposal correction (`round_>0`) or without it (`round_=0`).\u001b[39;00m\n\u001b[1;32m    565\u001b[0m \n\u001b[1;32m    566\u001b[0m \u001b[38;5;124;03mThe loss is the negative log prob. Irrespective of the round or SNPE method\u001b[39;00m\n\u001b[0;32m   (...)\u001b[0m\n\u001b[1;32m    573\u001b[0m \u001b[38;5;124;03m        distribution different from the prior.\u001b[39;00m\n\u001b[1;32m    574\u001b[0m \u001b[38;5;124;03m\"\"\"\u001b[39;00m\n\u001b[1;32m    575\u001b[0m \u001b[38;5;28;01mif\u001b[39;00m \u001b[38;5;28mself\u001b[39m\u001b[38;5;241m.\u001b[39m_round \u001b[38;5;241m==\u001b[39m \u001b[38;5;241m0\u001b[39m \u001b[38;5;129;01mor\u001b[39;00m force_first_round_loss:\n\u001b[1;32m    576\u001b[0m     \u001b[38;5;66;03m# Use posterior log prob (without proposal correction) for first round.\u001b[39;00m\n\u001b[0;32m--> 577\u001b[0m     log_prob \u001b[38;5;241m=\u001b[39m \u001b[38;5;28;43mself\u001b[39;49m\u001b[38;5;241;43m.\u001b[39;49m\u001b[43m_neural_net\u001b[49m\u001b[38;5;241;43m.\u001b[39;49m\u001b[43mlog_prob\u001b[49m\u001b[43m(\u001b[49m\u001b[43mtheta\u001b[49m\u001b[43m,\u001b[49m\u001b[43m \u001b[49m\u001b[43mx\u001b[49m\u001b[43m)\u001b[49m\n\u001b[1;32m    578\u001b[0m \u001b[38;5;28;01melse\u001b[39;00m:\n\u001b[1;32m    579\u001b[0m     log_prob \u001b[38;5;241m=\u001b[39m \u001b[38;5;28mself\u001b[39m\u001b[38;5;241m.\u001b[39m_log_prob_proposal_posterior(theta, x, masks, proposal)\n",
      "File \u001b[0;32m/disk/xray15/aem2/envs/camels/lib/python3.8/site-packages/nflows/distributions/base.py:40\u001b[0m, in \u001b[0;36mDistribution.log_prob\u001b[0;34m(self, inputs, context)\u001b[0m\n\u001b[1;32m     36\u001b[0m     \u001b[38;5;28;01mif\u001b[39;00m inputs\u001b[38;5;241m.\u001b[39mshape[\u001b[38;5;241m0\u001b[39m] \u001b[38;5;241m!=\u001b[39m context\u001b[38;5;241m.\u001b[39mshape[\u001b[38;5;241m0\u001b[39m]:\n\u001b[1;32m     37\u001b[0m         \u001b[38;5;28;01mraise\u001b[39;00m \u001b[38;5;167;01mValueError\u001b[39;00m(\n\u001b[1;32m     38\u001b[0m             \u001b[38;5;124m\"\u001b[39m\u001b[38;5;124mNumber of input items must be equal to number of context items.\u001b[39m\u001b[38;5;124m\"\u001b[39m\n\u001b[1;32m     39\u001b[0m         )\n\u001b[0;32m---> 40\u001b[0m \u001b[38;5;28;01mreturn\u001b[39;00m \u001b[38;5;28;43mself\u001b[39;49m\u001b[38;5;241;43m.\u001b[39;49m\u001b[43m_log_prob\u001b[49m\u001b[43m(\u001b[49m\u001b[43minputs\u001b[49m\u001b[43m,\u001b[49m\u001b[43m \u001b[49m\u001b[43mcontext\u001b[49m\u001b[43m)\u001b[49m\n",
      "File \u001b[0;32m/disk/xray15/aem2/envs/camels/lib/python3.8/site-packages/nflows/flows/base.py:39\u001b[0m, in \u001b[0;36mFlow._log_prob\u001b[0;34m(self, inputs, context)\u001b[0m\n\u001b[1;32m     37\u001b[0m \u001b[38;5;28;01mdef\u001b[39;00m \u001b[38;5;21m_log_prob\u001b[39m(\u001b[38;5;28mself\u001b[39m, inputs, context):\n\u001b[1;32m     38\u001b[0m     embedded_context \u001b[38;5;241m=\u001b[39m \u001b[38;5;28mself\u001b[39m\u001b[38;5;241m.\u001b[39m_embedding_net(context)\n\u001b[0;32m---> 39\u001b[0m     noise, logabsdet \u001b[38;5;241m=\u001b[39m \u001b[38;5;28;43mself\u001b[39;49m\u001b[38;5;241;43m.\u001b[39;49m\u001b[43m_transform\u001b[49m\u001b[43m(\u001b[49m\u001b[43minputs\u001b[49m\u001b[43m,\u001b[49m\u001b[43m \u001b[49m\u001b[43mcontext\u001b[49m\u001b[38;5;241;43m=\u001b[39;49m\u001b[43membedded_context\u001b[49m\u001b[43m)\u001b[49m\n\u001b[1;32m     40\u001b[0m     log_prob \u001b[38;5;241m=\u001b[39m \u001b[38;5;28mself\u001b[39m\u001b[38;5;241m.\u001b[39m_distribution\u001b[38;5;241m.\u001b[39mlog_prob(noise, context\u001b[38;5;241m=\u001b[39membedded_context)\n\u001b[1;32m     41\u001b[0m     \u001b[38;5;28;01mreturn\u001b[39;00m log_prob \u001b[38;5;241m+\u001b[39m logabsdet\n",
      "File \u001b[0;32m/disk/xray15/aem2/envs/camels/lib/python3.8/site-packages/torch/nn/modules/module.py:1532\u001b[0m, in \u001b[0;36mModule._wrapped_call_impl\u001b[0;34m(self, *args, **kwargs)\u001b[0m\n\u001b[1;32m   1530\u001b[0m     \u001b[38;5;28;01mreturn\u001b[39;00m \u001b[38;5;28mself\u001b[39m\u001b[38;5;241m.\u001b[39m_compiled_call_impl(\u001b[38;5;241m*\u001b[39margs, \u001b[38;5;241m*\u001b[39m\u001b[38;5;241m*\u001b[39mkwargs)  \u001b[38;5;66;03m# type: ignore[misc]\u001b[39;00m\n\u001b[1;32m   1531\u001b[0m \u001b[38;5;28;01melse\u001b[39;00m:\n\u001b[0;32m-> 1532\u001b[0m     \u001b[38;5;28;01mreturn\u001b[39;00m \u001b[38;5;28;43mself\u001b[39;49m\u001b[38;5;241;43m.\u001b[39;49m\u001b[43m_call_impl\u001b[49m\u001b[43m(\u001b[49m\u001b[38;5;241;43m*\u001b[39;49m\u001b[43margs\u001b[49m\u001b[43m,\u001b[49m\u001b[43m \u001b[49m\u001b[38;5;241;43m*\u001b[39;49m\u001b[38;5;241;43m*\u001b[39;49m\u001b[43mkwargs\u001b[49m\u001b[43m)\u001b[49m\n",
      "File \u001b[0;32m/disk/xray15/aem2/envs/camels/lib/python3.8/site-packages/torch/nn/modules/module.py:1541\u001b[0m, in \u001b[0;36mModule._call_impl\u001b[0;34m(self, *args, **kwargs)\u001b[0m\n\u001b[1;32m   1536\u001b[0m \u001b[38;5;66;03m# If we don't have any hooks, we want to skip the rest of the logic in\u001b[39;00m\n\u001b[1;32m   1537\u001b[0m \u001b[38;5;66;03m# this function, and just call forward.\u001b[39;00m\n\u001b[1;32m   1538\u001b[0m \u001b[38;5;28;01mif\u001b[39;00m \u001b[38;5;129;01mnot\u001b[39;00m (\u001b[38;5;28mself\u001b[39m\u001b[38;5;241m.\u001b[39m_backward_hooks \u001b[38;5;129;01mor\u001b[39;00m \u001b[38;5;28mself\u001b[39m\u001b[38;5;241m.\u001b[39m_backward_pre_hooks \u001b[38;5;129;01mor\u001b[39;00m \u001b[38;5;28mself\u001b[39m\u001b[38;5;241m.\u001b[39m_forward_hooks \u001b[38;5;129;01mor\u001b[39;00m \u001b[38;5;28mself\u001b[39m\u001b[38;5;241m.\u001b[39m_forward_pre_hooks\n\u001b[1;32m   1539\u001b[0m         \u001b[38;5;129;01mor\u001b[39;00m _global_backward_pre_hooks \u001b[38;5;129;01mor\u001b[39;00m _global_backward_hooks\n\u001b[1;32m   1540\u001b[0m         \u001b[38;5;129;01mor\u001b[39;00m _global_forward_hooks \u001b[38;5;129;01mor\u001b[39;00m _global_forward_pre_hooks):\n\u001b[0;32m-> 1541\u001b[0m     \u001b[38;5;28;01mreturn\u001b[39;00m \u001b[43mforward_call\u001b[49m\u001b[43m(\u001b[49m\u001b[38;5;241;43m*\u001b[39;49m\u001b[43margs\u001b[49m\u001b[43m,\u001b[49m\u001b[43m \u001b[49m\u001b[38;5;241;43m*\u001b[39;49m\u001b[38;5;241;43m*\u001b[39;49m\u001b[43mkwargs\u001b[49m\u001b[43m)\u001b[49m\n\u001b[1;32m   1543\u001b[0m \u001b[38;5;28;01mtry\u001b[39;00m:\n\u001b[1;32m   1544\u001b[0m     result \u001b[38;5;241m=\u001b[39m \u001b[38;5;28;01mNone\u001b[39;00m\n",
      "File \u001b[0;32m/disk/xray15/aem2/envs/camels/lib/python3.8/site-packages/nflows/transforms/base.py:56\u001b[0m, in \u001b[0;36mCompositeTransform.forward\u001b[0;34m(self, inputs, context)\u001b[0m\n\u001b[1;32m     54\u001b[0m \u001b[38;5;28;01mdef\u001b[39;00m \u001b[38;5;21mforward\u001b[39m(\u001b[38;5;28mself\u001b[39m, inputs, context\u001b[38;5;241m=\u001b[39m\u001b[38;5;28;01mNone\u001b[39;00m):\n\u001b[1;32m     55\u001b[0m     funcs \u001b[38;5;241m=\u001b[39m \u001b[38;5;28mself\u001b[39m\u001b[38;5;241m.\u001b[39m_transforms\n\u001b[0;32m---> 56\u001b[0m     \u001b[38;5;28;01mreturn\u001b[39;00m \u001b[38;5;28;43mself\u001b[39;49m\u001b[38;5;241;43m.\u001b[39;49m\u001b[43m_cascade\u001b[49m\u001b[43m(\u001b[49m\u001b[43minputs\u001b[49m\u001b[43m,\u001b[49m\u001b[43m \u001b[49m\u001b[43mfuncs\u001b[49m\u001b[43m,\u001b[49m\u001b[43m \u001b[49m\u001b[43mcontext\u001b[49m\u001b[43m)\u001b[49m\n",
      "File \u001b[0;32m/disk/xray15/aem2/envs/camels/lib/python3.8/site-packages/nflows/transforms/base.py:50\u001b[0m, in \u001b[0;36mCompositeTransform._cascade\u001b[0;34m(inputs, funcs, context)\u001b[0m\n\u001b[1;32m     48\u001b[0m total_logabsdet \u001b[38;5;241m=\u001b[39m inputs\u001b[38;5;241m.\u001b[39mnew_zeros(batch_size)\n\u001b[1;32m     49\u001b[0m \u001b[38;5;28;01mfor\u001b[39;00m func \u001b[38;5;129;01min\u001b[39;00m funcs:\n\u001b[0;32m---> 50\u001b[0m     outputs, logabsdet \u001b[38;5;241m=\u001b[39m \u001b[43mfunc\u001b[49m\u001b[43m(\u001b[49m\u001b[43moutputs\u001b[49m\u001b[43m,\u001b[49m\u001b[43m \u001b[49m\u001b[43mcontext\u001b[49m\u001b[43m)\u001b[49m\n\u001b[1;32m     51\u001b[0m     total_logabsdet \u001b[38;5;241m+\u001b[39m\u001b[38;5;241m=\u001b[39m logabsdet\n\u001b[1;32m     52\u001b[0m \u001b[38;5;28;01mreturn\u001b[39;00m outputs, total_logabsdet\n",
      "File \u001b[0;32m/disk/xray15/aem2/envs/camels/lib/python3.8/site-packages/torch/nn/modules/module.py:1532\u001b[0m, in \u001b[0;36mModule._wrapped_call_impl\u001b[0;34m(self, *args, **kwargs)\u001b[0m\n\u001b[1;32m   1530\u001b[0m     \u001b[38;5;28;01mreturn\u001b[39;00m \u001b[38;5;28mself\u001b[39m\u001b[38;5;241m.\u001b[39m_compiled_call_impl(\u001b[38;5;241m*\u001b[39margs, \u001b[38;5;241m*\u001b[39m\u001b[38;5;241m*\u001b[39mkwargs)  \u001b[38;5;66;03m# type: ignore[misc]\u001b[39;00m\n\u001b[1;32m   1531\u001b[0m \u001b[38;5;28;01melse\u001b[39;00m:\n\u001b[0;32m-> 1532\u001b[0m     \u001b[38;5;28;01mreturn\u001b[39;00m \u001b[38;5;28;43mself\u001b[39;49m\u001b[38;5;241;43m.\u001b[39;49m\u001b[43m_call_impl\u001b[49m\u001b[43m(\u001b[49m\u001b[38;5;241;43m*\u001b[39;49m\u001b[43margs\u001b[49m\u001b[43m,\u001b[49m\u001b[43m \u001b[49m\u001b[38;5;241;43m*\u001b[39;49m\u001b[38;5;241;43m*\u001b[39;49m\u001b[43mkwargs\u001b[49m\u001b[43m)\u001b[49m\n",
      "File \u001b[0;32m/disk/xray15/aem2/envs/camels/lib/python3.8/site-packages/torch/nn/modules/module.py:1541\u001b[0m, in \u001b[0;36mModule._call_impl\u001b[0;34m(self, *args, **kwargs)\u001b[0m\n\u001b[1;32m   1536\u001b[0m \u001b[38;5;66;03m# If we don't have any hooks, we want to skip the rest of the logic in\u001b[39;00m\n\u001b[1;32m   1537\u001b[0m \u001b[38;5;66;03m# this function, and just call forward.\u001b[39;00m\n\u001b[1;32m   1538\u001b[0m \u001b[38;5;28;01mif\u001b[39;00m \u001b[38;5;129;01mnot\u001b[39;00m (\u001b[38;5;28mself\u001b[39m\u001b[38;5;241m.\u001b[39m_backward_hooks \u001b[38;5;129;01mor\u001b[39;00m \u001b[38;5;28mself\u001b[39m\u001b[38;5;241m.\u001b[39m_backward_pre_hooks \u001b[38;5;129;01mor\u001b[39;00m \u001b[38;5;28mself\u001b[39m\u001b[38;5;241m.\u001b[39m_forward_hooks \u001b[38;5;129;01mor\u001b[39;00m \u001b[38;5;28mself\u001b[39m\u001b[38;5;241m.\u001b[39m_forward_pre_hooks\n\u001b[1;32m   1539\u001b[0m         \u001b[38;5;129;01mor\u001b[39;00m _global_backward_pre_hooks \u001b[38;5;129;01mor\u001b[39;00m _global_backward_hooks\n\u001b[1;32m   1540\u001b[0m         \u001b[38;5;129;01mor\u001b[39;00m _global_forward_hooks \u001b[38;5;129;01mor\u001b[39;00m _global_forward_pre_hooks):\n\u001b[0;32m-> 1541\u001b[0m     \u001b[38;5;28;01mreturn\u001b[39;00m \u001b[43mforward_call\u001b[49m\u001b[43m(\u001b[49m\u001b[38;5;241;43m*\u001b[39;49m\u001b[43margs\u001b[49m\u001b[43m,\u001b[49m\u001b[43m \u001b[49m\u001b[38;5;241;43m*\u001b[39;49m\u001b[38;5;241;43m*\u001b[39;49m\u001b[43mkwargs\u001b[49m\u001b[43m)\u001b[49m\n\u001b[1;32m   1543\u001b[0m \u001b[38;5;28;01mtry\u001b[39;00m:\n\u001b[1;32m   1544\u001b[0m     result \u001b[38;5;241m=\u001b[39m \u001b[38;5;28;01mNone\u001b[39;00m\n",
      "File \u001b[0;32m/disk/xray15/aem2/envs/camels/lib/python3.8/site-packages/nflows/transforms/coupling.py:83\u001b[0m, in \u001b[0;36mCouplingTransform.forward\u001b[0;34m(self, inputs, context)\u001b[0m\n\u001b[1;32m     80\u001b[0m identity_split \u001b[38;5;241m=\u001b[39m inputs[:, \u001b[38;5;28mself\u001b[39m\u001b[38;5;241m.\u001b[39midentity_features, \u001b[38;5;241m.\u001b[39m\u001b[38;5;241m.\u001b[39m\u001b[38;5;241m.\u001b[39m]\n\u001b[1;32m     81\u001b[0m transform_split \u001b[38;5;241m=\u001b[39m inputs[:, \u001b[38;5;28mself\u001b[39m\u001b[38;5;241m.\u001b[39mtransform_features, \u001b[38;5;241m.\u001b[39m\u001b[38;5;241m.\u001b[39m\u001b[38;5;241m.\u001b[39m]\n\u001b[0;32m---> 83\u001b[0m transform_params \u001b[38;5;241m=\u001b[39m \u001b[38;5;28;43mself\u001b[39;49m\u001b[38;5;241;43m.\u001b[39;49m\u001b[43mtransform_net\u001b[49m\u001b[43m(\u001b[49m\u001b[43midentity_split\u001b[49m\u001b[43m,\u001b[49m\u001b[43m \u001b[49m\u001b[43mcontext\u001b[49m\u001b[43m)\u001b[49m\n\u001b[1;32m     84\u001b[0m transform_split, logabsdet \u001b[38;5;241m=\u001b[39m \u001b[38;5;28mself\u001b[39m\u001b[38;5;241m.\u001b[39m_coupling_transform_forward(\n\u001b[1;32m     85\u001b[0m     inputs\u001b[38;5;241m=\u001b[39mtransform_split, transform_params\u001b[38;5;241m=\u001b[39mtransform_params\n\u001b[1;32m     86\u001b[0m )\n\u001b[1;32m     88\u001b[0m \u001b[38;5;28;01mif\u001b[39;00m \u001b[38;5;28mself\u001b[39m\u001b[38;5;241m.\u001b[39munconditional_transform \u001b[38;5;129;01mis\u001b[39;00m \u001b[38;5;129;01mnot\u001b[39;00m \u001b[38;5;28;01mNone\u001b[39;00m:\n",
      "File \u001b[0;32m/disk/xray15/aem2/envs/camels/lib/python3.8/site-packages/torch/nn/modules/module.py:1532\u001b[0m, in \u001b[0;36mModule._wrapped_call_impl\u001b[0;34m(self, *args, **kwargs)\u001b[0m\n\u001b[1;32m   1530\u001b[0m     \u001b[38;5;28;01mreturn\u001b[39;00m \u001b[38;5;28mself\u001b[39m\u001b[38;5;241m.\u001b[39m_compiled_call_impl(\u001b[38;5;241m*\u001b[39margs, \u001b[38;5;241m*\u001b[39m\u001b[38;5;241m*\u001b[39mkwargs)  \u001b[38;5;66;03m# type: ignore[misc]\u001b[39;00m\n\u001b[1;32m   1531\u001b[0m \u001b[38;5;28;01melse\u001b[39;00m:\n\u001b[0;32m-> 1532\u001b[0m     \u001b[38;5;28;01mreturn\u001b[39;00m \u001b[38;5;28;43mself\u001b[39;49m\u001b[38;5;241;43m.\u001b[39;49m\u001b[43m_call_impl\u001b[49m\u001b[43m(\u001b[49m\u001b[38;5;241;43m*\u001b[39;49m\u001b[43margs\u001b[49m\u001b[43m,\u001b[49m\u001b[43m \u001b[49m\u001b[38;5;241;43m*\u001b[39;49m\u001b[38;5;241;43m*\u001b[39;49m\u001b[43mkwargs\u001b[49m\u001b[43m)\u001b[49m\n",
      "File \u001b[0;32m/disk/xray15/aem2/envs/camels/lib/python3.8/site-packages/torch/nn/modules/module.py:1541\u001b[0m, in \u001b[0;36mModule._call_impl\u001b[0;34m(self, *args, **kwargs)\u001b[0m\n\u001b[1;32m   1536\u001b[0m \u001b[38;5;66;03m# If we don't have any hooks, we want to skip the rest of the logic in\u001b[39;00m\n\u001b[1;32m   1537\u001b[0m \u001b[38;5;66;03m# this function, and just call forward.\u001b[39;00m\n\u001b[1;32m   1538\u001b[0m \u001b[38;5;28;01mif\u001b[39;00m \u001b[38;5;129;01mnot\u001b[39;00m (\u001b[38;5;28mself\u001b[39m\u001b[38;5;241m.\u001b[39m_backward_hooks \u001b[38;5;129;01mor\u001b[39;00m \u001b[38;5;28mself\u001b[39m\u001b[38;5;241m.\u001b[39m_backward_pre_hooks \u001b[38;5;129;01mor\u001b[39;00m \u001b[38;5;28mself\u001b[39m\u001b[38;5;241m.\u001b[39m_forward_hooks \u001b[38;5;129;01mor\u001b[39;00m \u001b[38;5;28mself\u001b[39m\u001b[38;5;241m.\u001b[39m_forward_pre_hooks\n\u001b[1;32m   1539\u001b[0m         \u001b[38;5;129;01mor\u001b[39;00m _global_backward_pre_hooks \u001b[38;5;129;01mor\u001b[39;00m _global_backward_hooks\n\u001b[1;32m   1540\u001b[0m         \u001b[38;5;129;01mor\u001b[39;00m _global_forward_hooks \u001b[38;5;129;01mor\u001b[39;00m _global_forward_pre_hooks):\n\u001b[0;32m-> 1541\u001b[0m     \u001b[38;5;28;01mreturn\u001b[39;00m \u001b[43mforward_call\u001b[49m\u001b[43m(\u001b[49m\u001b[38;5;241;43m*\u001b[39;49m\u001b[43margs\u001b[49m\u001b[43m,\u001b[49m\u001b[43m \u001b[49m\u001b[38;5;241;43m*\u001b[39;49m\u001b[38;5;241;43m*\u001b[39;49m\u001b[43mkwargs\u001b[49m\u001b[43m)\u001b[49m\n\u001b[1;32m   1543\u001b[0m \u001b[38;5;28;01mtry\u001b[39;00m:\n\u001b[1;32m   1544\u001b[0m     result \u001b[38;5;241m=\u001b[39m \u001b[38;5;28;01mNone\u001b[39;00m\n",
      "File \u001b[0;32m/disk/xray15/aem2/envs/camels/lib/python3.8/site-packages/nflows/nn/nets/resnet.py:96\u001b[0m, in \u001b[0;36mResidualNet.forward\u001b[0;34m(self, inputs, context)\u001b[0m\n\u001b[1;32m     94\u001b[0m     temps \u001b[38;5;241m=\u001b[39m \u001b[38;5;28mself\u001b[39m\u001b[38;5;241m.\u001b[39minitial_layer(inputs)\n\u001b[1;32m     95\u001b[0m \u001b[38;5;28;01melse\u001b[39;00m:\n\u001b[0;32m---> 96\u001b[0m     temps \u001b[38;5;241m=\u001b[39m \u001b[38;5;28;43mself\u001b[39;49m\u001b[38;5;241;43m.\u001b[39;49m\u001b[43minitial_layer\u001b[49m\u001b[43m(\u001b[49m\u001b[43mtorch\u001b[49m\u001b[38;5;241;43m.\u001b[39;49m\u001b[43mcat\u001b[49m\u001b[43m(\u001b[49m\u001b[43m(\u001b[49m\u001b[43minputs\u001b[49m\u001b[43m,\u001b[49m\u001b[43m \u001b[49m\u001b[43mcontext\u001b[49m\u001b[43m)\u001b[49m\u001b[43m,\u001b[49m\u001b[43m \u001b[49m\u001b[43mdim\u001b[49m\u001b[38;5;241;43m=\u001b[39;49m\u001b[38;5;241;43m1\u001b[39;49m\u001b[43m)\u001b[49m\u001b[43m)\u001b[49m\n\u001b[1;32m     97\u001b[0m \u001b[38;5;28;01mfor\u001b[39;00m block \u001b[38;5;129;01min\u001b[39;00m \u001b[38;5;28mself\u001b[39m\u001b[38;5;241m.\u001b[39mblocks:\n\u001b[1;32m     98\u001b[0m     temps \u001b[38;5;241m=\u001b[39m block(temps, context\u001b[38;5;241m=\u001b[39mcontext)\n",
      "File \u001b[0;32m/disk/xray15/aem2/envs/camels/lib/python3.8/site-packages/torch/nn/modules/module.py:1532\u001b[0m, in \u001b[0;36mModule._wrapped_call_impl\u001b[0;34m(self, *args, **kwargs)\u001b[0m\n\u001b[1;32m   1530\u001b[0m     \u001b[38;5;28;01mreturn\u001b[39;00m \u001b[38;5;28mself\u001b[39m\u001b[38;5;241m.\u001b[39m_compiled_call_impl(\u001b[38;5;241m*\u001b[39margs, \u001b[38;5;241m*\u001b[39m\u001b[38;5;241m*\u001b[39mkwargs)  \u001b[38;5;66;03m# type: ignore[misc]\u001b[39;00m\n\u001b[1;32m   1531\u001b[0m \u001b[38;5;28;01melse\u001b[39;00m:\n\u001b[0;32m-> 1532\u001b[0m     \u001b[38;5;28;01mreturn\u001b[39;00m \u001b[38;5;28;43mself\u001b[39;49m\u001b[38;5;241;43m.\u001b[39;49m\u001b[43m_call_impl\u001b[49m\u001b[43m(\u001b[49m\u001b[38;5;241;43m*\u001b[39;49m\u001b[43margs\u001b[49m\u001b[43m,\u001b[49m\u001b[43m \u001b[49m\u001b[38;5;241;43m*\u001b[39;49m\u001b[38;5;241;43m*\u001b[39;49m\u001b[43mkwargs\u001b[49m\u001b[43m)\u001b[49m\n",
      "File \u001b[0;32m/disk/xray15/aem2/envs/camels/lib/python3.8/site-packages/torch/nn/modules/module.py:1541\u001b[0m, in \u001b[0;36mModule._call_impl\u001b[0;34m(self, *args, **kwargs)\u001b[0m\n\u001b[1;32m   1536\u001b[0m \u001b[38;5;66;03m# If we don't have any hooks, we want to skip the rest of the logic in\u001b[39;00m\n\u001b[1;32m   1537\u001b[0m \u001b[38;5;66;03m# this function, and just call forward.\u001b[39;00m\n\u001b[1;32m   1538\u001b[0m \u001b[38;5;28;01mif\u001b[39;00m \u001b[38;5;129;01mnot\u001b[39;00m (\u001b[38;5;28mself\u001b[39m\u001b[38;5;241m.\u001b[39m_backward_hooks \u001b[38;5;129;01mor\u001b[39;00m \u001b[38;5;28mself\u001b[39m\u001b[38;5;241m.\u001b[39m_backward_pre_hooks \u001b[38;5;129;01mor\u001b[39;00m \u001b[38;5;28mself\u001b[39m\u001b[38;5;241m.\u001b[39m_forward_hooks \u001b[38;5;129;01mor\u001b[39;00m \u001b[38;5;28mself\u001b[39m\u001b[38;5;241m.\u001b[39m_forward_pre_hooks\n\u001b[1;32m   1539\u001b[0m         \u001b[38;5;129;01mor\u001b[39;00m _global_backward_pre_hooks \u001b[38;5;129;01mor\u001b[39;00m _global_backward_hooks\n\u001b[1;32m   1540\u001b[0m         \u001b[38;5;129;01mor\u001b[39;00m _global_forward_hooks \u001b[38;5;129;01mor\u001b[39;00m _global_forward_pre_hooks):\n\u001b[0;32m-> 1541\u001b[0m     \u001b[38;5;28;01mreturn\u001b[39;00m \u001b[43mforward_call\u001b[49m\u001b[43m(\u001b[49m\u001b[38;5;241;43m*\u001b[39;49m\u001b[43margs\u001b[49m\u001b[43m,\u001b[49m\u001b[43m \u001b[49m\u001b[38;5;241;43m*\u001b[39;49m\u001b[38;5;241;43m*\u001b[39;49m\u001b[43mkwargs\u001b[49m\u001b[43m)\u001b[49m\n\u001b[1;32m   1543\u001b[0m \u001b[38;5;28;01mtry\u001b[39;00m:\n\u001b[1;32m   1544\u001b[0m     result \u001b[38;5;241m=\u001b[39m \u001b[38;5;28;01mNone\u001b[39;00m\n",
      "File \u001b[0;32m/disk/xray15/aem2/envs/camels/lib/python3.8/site-packages/torch/nn/modules/linear.py:116\u001b[0m, in \u001b[0;36mLinear.forward\u001b[0;34m(self, input)\u001b[0m\n\u001b[1;32m    115\u001b[0m \u001b[38;5;28;01mdef\u001b[39;00m \u001b[38;5;21mforward\u001b[39m(\u001b[38;5;28mself\u001b[39m, \u001b[38;5;28minput\u001b[39m: Tensor) \u001b[38;5;241m-\u001b[39m\u001b[38;5;241m>\u001b[39m Tensor:\n\u001b[0;32m--> 116\u001b[0m     \u001b[38;5;28;01mreturn\u001b[39;00m \u001b[43mF\u001b[49m\u001b[38;5;241;43m.\u001b[39;49m\u001b[43mlinear\u001b[49m\u001b[43m(\u001b[49m\u001b[38;5;28;43minput\u001b[39;49m\u001b[43m,\u001b[49m\u001b[43m \u001b[49m\u001b[38;5;28;43mself\u001b[39;49m\u001b[38;5;241;43m.\u001b[39;49m\u001b[43mweight\u001b[49m\u001b[43m,\u001b[49m\u001b[43m \u001b[49m\u001b[38;5;28;43mself\u001b[39;49m\u001b[38;5;241;43m.\u001b[39;49m\u001b[43mbias\u001b[49m\u001b[43m)\u001b[49m\n",
      "\u001b[0;31mRuntimeError\u001b[0m: CUDA error: CUBLAS_STATUS_ALLOC_FAILED when calling `cublasCreate(handle)`"
     ]
    }
   ],
   "source": [
    "# NPE: train a neural network to learn the mapping between the observed data and the posterior distribution of the parameters\n",
    "# Use simulation-based approaches (like the CAMELS simulations you mentioned) to generate many realizations of the observed data and the corresponding model parameters.\n",
    "# Train a neural network to take the observed data as input and output the parameters of the posterior distribution (e.g. mean, variance) for those parameters.\n",
    "# Once the neural network is trained, you can apply it to the actual observed data to obtain estimates of the posterior distributions of the model parameters.\n",
    "\n",
    "# Training arguments\n",
    "train_args = {\n",
    "    \"training_batch_size\": 32, # changed from 4 to 10 as dealing with more sims, want it to be faster for initial testing.\n",
    "    \"learning_rate\": 1e-4,\n",
    "    \"stop_after_epochs\": 50, # loss function. waits to see if things improve.\n",
    "    \"validation_fraction\": 0.1,  # creates another split within the training data for validation\n",
    "}\n",
    "\n",
    "# Configure network\n",
    "hidden_features = 20 #neurons\n",
    "num_transforms = 1 #layers\n",
    "\n",
    "\n",
    "nets = [ili.utils.load_nde_sbi(\n",
    "    engine=\"NPE\",\n",
    "    model=\"nsf\",\n",
    "    hidden_features=hidden_features,\n",
    "    num_transforms=num_transforms\n",
    ")]\n",
    "\n",
    "# do ensemble when optimsed first Network\n",
    "'''\n",
    "nets = [\n",
    "    ili.utils.load_nde_sbi(\n",
    "        engine=\"NPE\",# Neural Posterior Estimation\n",
    "        model=\"nsf\",# Neural Spline Flow\n",
    "        hidden_features=hidden_features,# Network width\n",
    "        num_transforms=num_transforms# Network depth\n",
    "    ) for _ in range(3) # for n NNs\n",
    "]\n",
    "'''\n",
    "\n",
    "# Data loader\n",
    "loader = NumpyLoader(\n",
    "\n",
    "    # x = x_all[train_mask]\n",
    "    # theta=theta[train_mask]\n",
    "    # clone - makes new memory allocation for this version of x/theta\n",
    "    # detach - doesnt affect computations on theta that were done previously (not to mess with test/train versions)\n",
    "    x=x_all[train_mask].clone().detach(),\n",
    "    theta=theta[train_mask].clone().detach()\n",
    ")\n",
    "\n",
    "\n",
    "# Runner setup with device specified here\n",
    "runner = InferenceRunner.load(\n",
    "    backend=\"sbi\",\n",
    "    engine=\"NPE\",\n",
    "    prior=prior,\n",
    "    nets= nets,\n",
    "    device=device,  # Device specified in runner, not network\n",
    "    train_args=train_args,\n",
    "    proposal=None,\n",
    "    out_dir=model_out_dir,\n",
    "    name=name\n",
    ")\n",
    "\n",
    "# Run training - 'learn the likelihood'\n",
    "# this is training the neural network which will act like our likelihood!\n",
    "posterior_ensemble, summaries = runner(loader=loader)\n",
    "\n",
    "# process of training:\n",
    "'''\n",
    "- the neural network learns P(θ|x): probability of parameters given observations\n",
    "- uses training data to learn mapping from x → θ\n",
    "- then we validate on held-out portion of training data\n",
    "'''\n"
   ]
  },
  {
   "cell_type": "code",
   "execution_count": null,
   "metadata": {},
   "outputs": [],
   "source": [
    "posterior_ensemble"
   ]
  },
  {
   "cell_type": "code",
   "execution_count": null,
   "metadata": {},
   "outputs": [],
   "source": [
    "summaries"
   ]
  },
  {
   "cell_type": "code",
   "execution_count": null,
   "metadata": {},
   "outputs": [],
   "source": [
    "print(\"training_batch_size\", train_args[ \"training_batch_size\"])\n",
    "print(\"learning_rate\", train_args[ \"learning_rate\"])\n",
    "print(\"stop_after_epochs\", train_args[ \"stop_after_epochs\"])\n",
    "print(\"validation_fraction\", train_args[ \"validation_fraction\"])\n",
    "print(\"hidden_features\", hidden_features)\n",
    "print(\"num_transforms\", num_transforms)\n"
   ]
  },
  {
   "cell_type": "code",
   "execution_count": null,
   "metadata": {},
   "outputs": [],
   "source": [
    "def plot_training_diagnostics(summaries):\n",
    "    \"\"\"Plot training diagnostics without empty subplots\"\"\"\n",
    "    fig, (ax1, ax2) = plt.subplots(1, 2, figsize=(15, 5))  # Changed to 1 row, 2 columns\n",
    "    \n",
    "    # Loss curves\n",
    "    train_losses = summaries[0]['training_log_probs']\n",
    "    val_losses = summaries[0]['validation_log_probs']\n",
    "    epochs = range(len(train_losses))\n",
    "    \n",
    "    ax1.plot(epochs, train_losses, '-', label='Training', color='blue')\n",
    "    ax1.plot(epochs, val_losses, '--', label='Validation', color='red')\n",
    "    ax1.set_xlabel('Epoch')\n",
    "    ax1.set_ylabel('Log probability')\n",
    "    ax1.set_title('Training and Validation Loss')\n",
    "    ax1.legend()\n",
    "    ax1.grid(True, alpha=0.3)\n",
    "    \n",
    "    # Overfitting gap\n",
    "    gap = np.array(train_losses) - np.array(val_losses)\n",
    "    ax2.plot(epochs, gap, '-', color='purple')\n",
    "    ax2.set_xlabel('Epoch')\n",
    "    ax2.set_ylabel('Loss difference')\n",
    "    ax2.set_title('Overfitting Gap')\n",
    "    ax2.axhline(y=0, color='gray', linestyle='--', alpha=0.3)\n",
    "    ax2.grid(True, alpha=0.3)\n",
    "    \n",
    "    plt.tight_layout()\n",
    "    return fig\n",
    "\n",
    "# Use the function\n",
    "fig = plot_training_diagnostics(summaries)\n",
    "plt.savefig(os.path.join(plots_out_dir, f'training_analysis_{name}.png'))\n",
    "plt.show()\n",
    "plt.close()"
   ]
  },
  {
   "cell_type": "code",
   "execution_count": null,
   "metadata": {},
   "outputs": [],
   "source": [
    "# plot train/validation loss\n",
    "fig, ax = plt.subplots(1, 1, figsize=(6,4))\n",
    "c = list(mcolors.TABLEAU_COLORS)\n",
    "for i, m in enumerate(summaries):\n",
    "    ax.plot(m['training_log_probs'], ls='-', label=f\"{i}_train\", c=c[i])\n",
    "    ax.plot(m['validation_log_probs'], ls='--', label=f\"{i}_val\", c=c[i])\n",
    "ax.set_xlim(0)\n",
    "ax.set_xlabel('Epoch')\n",
    "ax.set_ylabel('Log probability')\n",
    "ax.legend()"
   ]
  },
  {
   "cell_type": "code",
   "execution_count": null,
   "metadata": {},
   "outputs": [],
   "source": [
    "# will this work or do we have to use it explicitly?\n",
    "x_train=x_all[train_mask].clone().detach(),\n",
    "theta_train=theta[train_mask].clone().detach()\n"
   ]
  },
  {
   "cell_type": "code",
   "execution_count": null,
   "metadata": {},
   "outputs": [],
   "source": [
    "len(x_train[0])\n"
   ]
  },
  {
   "cell_type": "code",
   "execution_count": null,
   "metadata": {},
   "outputs": [],
   "source": [
    "# Now, SBIRunner returns a custom class instance to be able to pass signature strings\n",
    "# 1. prints our info on model configuration and architecture\n",
    "print(posterior_ensemble.signatures)\n",
    "\n",
    "\n",
    "# 2. choose a random input for training\n",
    "seed_in = 49\n",
    "np.random.seed(seed_in) # set seed for reproducability\n",
    "ind = np.random.randint(len(x_train[0])) # choose observation (random index from training data)\n",
    "\n",
    "# 3. generate posterior samples\n",
    "seed_samp = 32\n",
    "torch.manual_seed(seed_samp)# set seed for reproducability\n",
    "# then, for the chosen training sample (as chosen above in 2.)\n",
    "# generate 1000 samples from the posterior distribution using accept/reject sampling\n",
    "samples = posterior_ensemble.sample(\n",
    "    (1000,), \n",
    "    torch.Tensor(x_train[0][ind]).to(device))\n",
    "\n",
    "# 4. calculate the probability densities for each sample\n",
    "# i.e for each generated sample, calculate how likely it is using learned posterior distribution\n",
    "log_prob = posterior_ensemble.log_prob(\n",
    "    samples, # the generated samples from 3.\n",
    "    torch.Tensor(x_train[0][ind]).to(device) # the chosen observation from 2.\n",
    "    )\n",
    "\n",
    "# convert to numpy so can read easier.\n",
    "samples = samples.cpu().numpy()\n",
    "log_prob = log_prob.cpu().numpy()"
   ]
  },
  {
   "cell_type": "code",
   "execution_count": null,
   "metadata": {},
   "outputs": [],
   "source": [
    "from matplotlib.gridspec import GridSpec\n",
    "def plot_posterior_samples_grid(samples, log_prob, param_names, df_info, model_name, train_args):\n",
    "   n_params = len(param_names)\n",
    "   n_cols = 4\n",
    "   n_rows = (n_params + n_cols - 1) // n_cols\n",
    "   \n",
    "   fig = plt.figure(figsize=(20, 5*n_rows))\n",
    "   \n",
    "   # Add main title\n",
    "   fig.suptitle('Posterior Probability Distributions', fontsize=16, y=0.98)\n",
    "   \n",
    "   gs = GridSpec(n_rows, n_cols, figure=fig)\n",
    "   \n",
    "   # Model info text\n",
    "   model_info = (\n",
    "       f\"Model Config:\\n\"\n",
    "       f\"Name: {model_name}\\n\"\n",
    "       f\"Hidden Features: {hidden_features}\\n\"\n",
    "       f\"Num Transforms: {num_transforms}\\n\"\n",
    "       f\"\\nTraining Args:\\n\"\n",
    "       f\"Batch Size: {train_args['training_batch_size']}\\n\"\n",
    "       f\"Learning Rate: {train_args['learning_rate']}\\n\"\n",
    "       f\"Stop After Epochs: {train_args['stop_after_epochs']}\"\n",
    "   )\n",
    "   \n",
    "   fig.text(0.02, 0.96, model_info, \n",
    "            fontsize=8,\n",
    "            bbox=dict(facecolor='white', alpha=0.8, edgecolor='gray'),\n",
    "            verticalalignment='top')\n",
    "   \n",
    "   for i, name in enumerate(param_names):\n",
    "       row = i // n_cols\n",
    "       col = i % n_cols\n",
    "       \n",
    "       ax = fig.add_subplot(gs[row, col])\n",
    "       data = samples[:, i]\n",
    "       param_info = df_info[df_info['ParamName'] == name].iloc[0]\n",
    "       is_log = param_info['LogFlag'] == 1\n",
    "       \n",
    "       if is_log:\n",
    "           ax.hist(data, bins=50, density=True, alpha=0.6)\n",
    "           ax.set_xscale('log')\n",
    "           log_data = np.log10(data)\n",
    "           mean = np.mean(log_data)\n",
    "           std = np.std(log_data)\n",
    "           stats_text = f'Log10 Mean: {mean:.3f}\\nLog10 Std: {std:.3f}'\n",
    "           ax.set_xlabel('Parameter Value (log scale)', fontsize=8)\n",
    "       else:\n",
    "           ax.hist(data, bins=50, density=True, alpha=0.6)\n",
    "           mean = np.mean(data)\n",
    "           std = np.std(data)\n",
    "           stats_text = f'Mean: {mean:.3f}\\nStd: {std:.3f}'\n",
    "           ax.set_xlabel('Parameter Value', fontsize=8)\n",
    "       \n",
    "       ax.set_ylabel('Density', fontsize=8)\n",
    "       \n",
    "       ax.axvline(param_info['MinVal'], color='g', linestyle=':', alpha=0.5, label='Min')\n",
    "       ax.axvline(param_info['MaxVal'], color='g', linestyle=':', alpha=0.5, label='Max')\n",
    "       ax.axvline(param_info['FiducialVal'], color='r', linestyle='--', alpha=0.5, label='Fiducial')\n",
    "       \n",
    "       ax.text(0.02, 0.95, stats_text, transform=ax.transAxes, \n",
    "               verticalalignment='top', fontsize=8, \n",
    "               bbox=dict(facecolor='white', alpha=0.8))\n",
    "       \n",
    "       ax.set_title(f\"{name}\\n{param_info['Description']}\", fontsize=8, pad=5)\n",
    "       ax.tick_params(labelsize=8)\n",
    "       \n",
    "       if i == 0:\n",
    "           ax.legend(loc='upper right', fontsize=8)\n",
    "   \n",
    "   plt.tight_layout()\n",
    "   plt.subplots_adjust(top=0.93)  # Adjusted to make room for main title\n",
    "   return fig\n",
    "\n",
    "# Get all parameter names from df_info\n",
    "param_names = df_info['ParamName'].tolist()\n",
    "\n",
    "# Now try plotting again with the correct parameter names\n",
    "fig = plot_posterior_samples_grid(\n",
    "    samples, \n",
    "    log_prob, \n",
    "    param_names,  # Now contains all 28 parameter names correctly\n",
    "    df_info,\n",
    "    model_name=name,\n",
    "    train_args=train_args\n",
    ")\n",
    "\n",
    "# Save with model config in filename\n",
    "save_name = (f'parameter_posteriors_grid_{name}_'\n",
    "            f'h{hidden_features}_t{num_transforms}_'\n",
    "            f'b{train_args[\"training_batch_size\"]}_'\n",
    "            f'e{train_args[\"stop_after_epochs\"]}.png')\n",
    "\n",
    "os.makedirs(plots_out_dir, exist_ok=True)\n",
    "plt.savefig(os.path.join(plots_out_dir, save_name), \n",
    "            dpi=300, \n",
    "            bbox_inches='tight')"
   ]
  },
  {
   "cell_type": "code",
   "execution_count": null,
   "metadata": {},
   "outputs": [],
   "source": [
    "log_prob"
   ]
  },
  {
   "cell_type": "code",
   "execution_count": null,
   "metadata": {},
   "outputs": [],
   "source": [
    "\n",
    "# 6. Evaluation Metrics\n",
    "'''\n",
    "- Coverage: How often true parameters fall within predicted ranges:\n",
    "-- perfect diagonal line means perfect coverage\n",
    "-- points above diaganol means over-confident predictions\n",
    "-- points below diagonal means under-confident\n",
    "-- large deviations from the diaganol means poorly calibrated model\n",
    "\n",
    "- Histogram:\n",
    "-- uniform (straight) distributions of p-values means well-calibrated model\n",
    "-- u-shaped dist: under-confident model\n",
    "-- bell shaped: over confident model\n",
    "\n",
    "- Predictions: Compare model predictions with observations\n",
    "-- True values from your test set (these are your \"observations\")\n",
    "-- Model's predicted distributions for each parameter\n",
    "-- Predicted distributions centered on true values\n",
    "-- Error bar estimates that accurately capture the true values\n",
    "-- Scatter along diagonal: Good predictions\n",
    "-- Systematic offset: Bias in predictions\n",
    "-- Wide spread: High uncertainty\n",
    "-- Clustering in certain regions: Model performs better for some parameter ranges\n",
    "# The predictions are comparing:\n",
    "# The true parameter values used in your simulations (like Omega0, sigma8, etc.) vs\n",
    "# What your neural posterior estimation (NPE) model predicts these values should be\n",
    "# based on the observables (your luminosity functions and/or colors)\n",
    "\n",
    "- TARP: Total Absolute Relative Probability\n",
    "-- lower values indicate better calibration\n",
    "-- comparing across parameters can help identify which are harder to predict\n",
    "-- high TARP values suggest need for model improvement for those parameters\n",
    "\n",
    "'''\n",
    "\n",
    "# to help with labelling to keep track of training args and improvements to model\n",
    "# a configuration string for both filename and plot\n",
    "config_str = (f\"batch{train_args['training_batch_size']}_\"\n",
    "             f\"lr{train_args['learning_rate']}_\"\n",
    "             f\"epochs{train_args['stop_after_epochs']}_\"\n",
    "             f\"h{hidden_features}_t{num_transforms}\")\n",
    "\n",
    "# coverage plots\n",
    "metric = PosteriorCoverage(\n",
    "    num_samples=int(4e3),\n",
    "    sample_method='direct',\n",
    "    labels=cam.labels,\n",
    "    plot_list=[\"coverage\", \"histogram\", \"predictions\", \"tarp\"],\n",
    "    out_dir=plots_out_dir,\n",
    ")\n",
    "\n",
    "# Generate plots\n",
    "figs = metric(\n",
    "    posterior=posterior_ensemble,\n",
    "    x=x_all[test_mask].cpu(),\n",
    "    theta=theta[test_mask, :].cpu(),\n",
    "    signature=f\"coverage_{name}_{config_str}_\"  # Add config to filename\n",
    ")\n",
    "\n",
    "config_text = (\n",
    "    f\"Training Config:\\n\"\n",
    "    f\"Batch Size: {train_args['training_batch_size']}\\n\"\n",
    "    f\"Learning Rate: {train_args['learning_rate']}\\n\"\n",
    "    f\"Epochs: {train_args['stop_after_epochs']}\\n\"\n",
    "    f\"Hidden Features: {hidden_features}\\n\"\n",
    "    f\"Num Transforms: {num_transforms}\"\n",
    ")\n",
    "\n",
    "# Process each figure\n",
    "for i, fig in enumerate(figs):\n",
    "    plt.figure(fig.number)  # Activate the figure\n",
    "    plt.figtext(0.02, 0.98, config_text,\n",
    "                fontsize=8,\n",
    "                bbox=dict(facecolor='white', alpha=0.8, edgecolor='gray'),\n",
    "                verticalalignment='top')\n",
    "    \n",
    "    # Save each figure with type indicator\n",
    "    plot_types = [\"coverage\", \"histogram\", \"predictions\", \"tarp\"]\n",
    "    plt.savefig(os.path.join(plots_out_dir, \n",
    "                f'metric_{plot_types[i]}_{name}_{config_str}.png'), \n",
    "                dpi=300, bbox_inches='tight')\n",
    "    plt.show()\n",
    "    plt.close()"
   ]
  },
  {
   "cell_type": "code",
   "execution_count": null,
   "metadata": {},
   "outputs": [],
   "source": [
    "# First get the metrics as usual\n",
    "metric = PosteriorCoverage(\n",
    "    num_samples=int(4e3),\n",
    "    sample_method='direct',\n",
    "    labels=cam.labels,\n",
    "    plot_list=[\"predictions\"],  # Only need predictions\n",
    "    out_dir=plots_out_dir,\n",
    ")\n",
    "\n",
    "# Get the prediction data\n",
    "figs = metric(\n",
    "    posterior=posterior_ensemble,\n",
    "    x=x_all[test_mask].cpu(),\n",
    "    theta=theta[test_mask, :].cpu(),\n",
    "    signature=f\"predictions_{name}_\"\n",
    ")\n",
    "\n",
    "# Now plot each parameter's predictions separately\n",
    "def plot_individual_predictions(figs, cam_labels, config_text):\n",
    "    \"\"\"Plot true vs predicted values for each parameter separately\"\"\"\n",
    "    \n",
    "    for i, param_name in enumerate(cam_labels):\n",
    "        fig, ax = plt.subplots(figsize=(10, 8))\n",
    "        \n",
    "        # Copy the prediction plot for this parameter from the original figure\n",
    "        orig_ax = figs[0].axes[i]  # predictions are in first figure\n",
    "        \n",
    "        # Copy over the plot elements\n",
    "        for line in orig_ax.get_lines():\n",
    "            ax.plot(line.get_xdata(), line.get_ydata(), \n",
    "                   color=line.get_color(),\n",
    "                   linestyle=line.get_linestyle(),\n",
    "                   label=line.get_label())\n",
    "            \n",
    "        # Add labels and title\n",
    "        ax.set_xlabel('True Value')\n",
    "        ax.set_ylabel('Predicted Value')\n",
    "        ax.set_title(f'Predictions for {param_name}')\n",
    "        \n",
    "        # Add config info\n",
    "        ax.text(0.02, 0.98, config_text,\n",
    "                transform=ax.transAxes,\n",
    "                fontsize=8,\n",
    "                bbox=dict(facecolor='white', alpha=0.8, edgecolor='gray'),\n",
    "                verticalalignment='top')\n",
    "        \n",
    "        # Save individual plot\n",
    "        plt.savefig(os.path.join(plots_out_dir, \n",
    "                    f'prediction_{param_name}_{name}.png'),\n",
    "                    dpi=300, bbox_inches='tight')\n",
    "        plt.show()\n",
    "        plt.close()\n",
    "\n",
    "# Create the plots\n",
    "plot_individual_predictions(figs, cam.labels, config_text)"
   ]
  },
  {
   "cell_type": "code",
   "execution_count": null,
   "metadata": {},
   "outputs": [],
   "source": [
    "import matplotlib.pyplot as plt\n",
    "import numpy as np\n",
    "\n",
    "# Assuming you have:\n",
    "# true_values: shape (n_samples, 28)\n",
    "# predicted_means: shape (n_samples, 28)\n",
    "# predicted_stds: shape (n_samples, 28)\n",
    "# parameter_names: list of 28 parameter names\n",
    "\n",
    "fig, axes = plt.subplots(4, 7, figsize=(24, 14))\n",
    "axes = axes.flatten()\n",
    "\n",
    "for i in range(28):\n",
    "    ax = axes[i]\n",
    "    \n",
    "    # Plot error bars\n",
    "    ax.errorbar(true_values[:, i], predicted_means[:, i],\n",
    "               yerr=predicted_stds[:, i],\n",
    "               fmt='k.', alpha=0.5, capsize=2)\n",
    "    \n",
    "    # Add diagonal line\n",
    "    lims = [\n",
    "        min(ax.get_xlim()[0], ax.get_ylim()[0]),\n",
    "        max(ax.get_xlim()[1], ax.get_ylim()[1])\n",
    "    ]\n",
    "    ax.plot(lims, lims, 'k--', alpha=0.5)\n",
    "    \n",
    "    # Calculate metrics\n",
    "    rmse = np.sqrt(np.mean((true_values[:, i] - predicted_means[:, i])**2))\n",
    "    r2 = np.corrcoef(true_values[:, i], predicted_means[:, i])[0,1]**2\n",
    "    \n",
    "    # Add metrics box\n",
    "    ax.text(0.05, 0.95, f'RMSE = {rmse:.2f}\\nR² = {r2:.2f}',\n",
    "            transform=ax.transAxes, bbox=dict(facecolor='white'))\n",
    "    \n",
    "    ax.set_title(parameter_names[i])\n",
    "    ax.set_xlabel('True')\n",
    "    ax.set_ylabel('Inferred')\n",
    "\n",
    "plt.tight_layout()\n",
    "plt.show()"
   ]
  }
 ],
 "metadata": {
  "kernelspec": {
   "display_name": "camels",
   "language": "python",
   "name": "python3"
  },
  "language_info": {
   "codemirror_mode": {
    "name": "ipython",
    "version": 3
   },
   "file_extension": ".py",
   "mimetype": "text/x-python",
   "name": "python",
   "nbconvert_exporter": "python",
   "pygments_lexer": "ipython3",
   "version": "3.8.3"
  }
 },
 "nbformat": 4,
 "nbformat_minor": 2
}
