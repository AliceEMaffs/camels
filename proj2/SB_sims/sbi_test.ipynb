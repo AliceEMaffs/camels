{
 "cells": [
  {
   "cell_type": "code",
   "execution_count": 1,
   "metadata": {},
   "outputs": [
    {
     "name": "stderr",
     "output_type": "stream",
     "text": [
      "/disk/xray15/aem2/envs/camels/lib/python3.8/site-packages/tqdm/auto.py:21: TqdmWarning: IProgress not found. Please update jupyter and ipywidgets. See https://ipywidgets.readthedocs.io/en/stable/user_install.html\n",
      "  from .autonotebook import tqdm as notebook_tqdm\n"
     ]
    }
   ],
   "source": [
    "import pandas as pd\n",
    "import os\n",
    "import numpy as np\n",
    "import sys\n",
    "\n",
    "# seaparate into train and test set.\n",
    "from sklearn.model_selection import train_test_split\n",
    "\n",
    "import matplotlib as mpl\n",
    "import matplotlib.pyplot as plt\n",
    "import matplotlib.gridspec as gridspec\n",
    "import matplotlib.colors as mcolors\n",
    "import torch\n",
    "from torch.distributions import Uniform, ExpTransform, TransformedDistribution #, AffineTransform\n",
    "import torch.nn as nn\n",
    "from sklearn.preprocessing import Normalizer\n",
    "import joblib\n",
    "\n",
    "import ili\n",
    "from ili.dataloaders import NumpyLoader\n",
    "from ili.inference import InferenceRunner\n",
    "from ili.validation.metrics import PosteriorCoverage, PlotSinglePosterior\n",
    "\n",
    "from sbi.utils.user_input_checks import process_prior\n",
    "\n",
    "sys.path.append(\"/disk/xray15/aem2/camels/proj2\")\n",
    "from setup_params_alice import *\n",
    "from priors_SB import initialise_priors_SB28\n",
    "\n",
    "# Setup script\n",
    "# Setup parameters\n",
    "# parameters\n",
    "device = \"cuda\" if torch.cuda.is_available() else \"cpu\"\n",
    "model = \"IllustrisTNG\"\n",
    "spec_type = \"attenuated\"\n",
    "sps = \"BC03\"\n",
    "snap = [\"044\"]\n",
    "n_bins_lf = 12 \n",
    "n_bins_colour = 12\n",
    "bands = \"all\" # or just GALEX?\n",
    "colours = False \n",
    "luminosity_functions = True\n",
    "name = f\"{model}_{bands}_{sps}_{spec_type}_{n_bins_lf}_{n_bins_colour}\"\n",
    "\n",
    "# initialize CAMELS and load parameter info using camels.py\n",
    "cam = camels(model=model, sim_set='SB28')\n",
    "\n",
    "\n",
    "\n",
    "\n",
    "# note from Alice:\n",
    "# in Chris' code, I think he loads in photometry directly from CAMELS sims, gets galaxies then gets photometry for flux/lums\n",
    "# I only have flux lums so can not use his get_x / get_theta versions that rely on the camels method.\n",
    "\n"
   ]
  },
  {
   "cell_type": "code",
   "execution_count": 2,
   "metadata": {},
   "outputs": [
    {
     "name": "stdout",
     "output_type": "stream",
     "text": [
      "          #Name    Omega0    sigma8  WindEnergyIn1e51erg  RadioFeedbackFactor  \\\n",
      "0        SB28_0  0.352541  0.694742              3.85743             1.519210   \n",
      "1        SB28_1  0.172430  0.830154              1.03554             0.797734   \n",
      "2        SB28_2  0.234683  0.705844              9.61416             3.380650   \n",
      "3        SB28_3  0.440288  0.969259              2.14363             0.488165   \n",
      "4        SB28_4  0.457152  0.786733              1.38466             0.325727   \n",
      "...         ...       ...       ...                  ...                  ...   \n",
      "2043  SB28_2043  0.457334  0.970226              8.89733             0.607197   \n",
      "2044  SB28_2044  0.440496  0.786137              5.34131             0.880840   \n",
      "2045  SB28_2045  0.234475  0.938760              1.49723             1.873430   \n",
      "2046  SB28_2046  0.172613  0.612888             13.31250             0.363806   \n",
      "2047  SB28_2047  0.352358  0.862216              3.09935             3.331570   \n",
      "\n",
      "      VariableWindVelFactor  RadioFeedbackReiorientationFactor  OmegaBaryon  \\\n",
      "0                   9.09267                            14.2845     0.049404   \n",
      "1                   6.95693                            38.2374     0.031199   \n",
      "2                   3.77681                            24.6592     0.042995   \n",
      "3                  11.49660                            10.9550     0.062295   \n",
      "4                  13.19410                            17.1439     0.044425   \n",
      "...                     ...                                ...          ...   \n",
      "2043                3.75653                            39.5139     0.046041   \n",
      "2044                5.04789                            21.6844     0.063161   \n",
      "2045               13.26680                            13.5869     0.042461   \n",
      "2046                8.64069                            17.7159     0.029257   \n",
      "2047                5.64656                            33.6239     0.051052   \n",
      "\n",
      "      HubbleParam       n_s  ...  WindEnergyReductionExponent  WindDumpFactor  \\\n",
      "0        0.498145  0.795765  ...                      1.61148        0.435971   \n",
      "1        0.683693  1.142160  ...                      2.08951        0.612056   \n",
      "2        0.849506  0.923545  ...                      1.33988        0.878906   \n",
      "3        0.638970  0.964648  ...                      2.86478        0.253435   \n",
      "4        0.773770  0.900256  ...                      2.59030        0.944457   \n",
      "...           ...       ...  ...                          ...             ...   \n",
      "2043     0.513293  0.828903  ...                      1.88784        0.725070   \n",
      "2044     0.748997  1.143290  ...                      1.66098        0.472330   \n",
      "2045     0.534548  0.796116  ...                      2.13803        0.698393   \n",
      "2046     0.600362  0.965127  ...                      1.38572        0.818457   \n",
      "2047     0.789823  0.924799  ...                      2.90964        0.242951   \n",
      "\n",
      "      SeedBlackHoleMass  BlackHoleAccretionFactor  BlackHoleEddingtonFactor  \\\n",
      "0              0.000069                  1.111740                  2.613460   \n",
      "1              0.000094                  0.889955                  0.302262   \n",
      "2              0.000153                  0.364219                  8.235920   \n",
      "3              0.000041                  2.775960                  0.950425   \n",
      "4              0.000049                  0.286789                  1.121900   \n",
      "...                 ...                       ...                       ...   \n",
      "2043           0.000054                  0.327481                  4.790910   \n",
      "2044           0.000038                  2.229260                  0.222157   \n",
      "2045           0.000174                  0.453541                  1.920250   \n",
      "2046           0.000090                  0.718570                  0.698528   \n",
      "2047           0.000070                  1.376900                  6.051620   \n",
      "\n",
      "      BlackHoleFeedbackFactor  BlackHoleRadiativeEfficiency  QuasarThreshold  \\\n",
      "0                    0.039463                      0.225386         0.000269   \n",
      "1                    0.151352                      0.086231         0.022802   \n",
      "2                    0.099772                      0.648096         0.001458   \n",
      "3                    0.349945                      0.126670         0.004242   \n",
      "4                    0.032352                      0.460414         0.007438   \n",
      "...                       ...                           ...              ...   \n",
      "2043                 0.033553                      0.481742         0.001252   \n",
      "2044                 0.397001                      0.109068         0.000416   \n",
      "2045                 0.087029                      0.682619         0.006263   \n",
      "2046                 0.158683                      0.083655         0.000071   \n",
      "2047                 0.038037                      0.256220         0.036493   \n",
      "\n",
      "      QuasarThresholdPower   seed  \n",
      "0                 0.514648  20000  \n",
      "1                 2.620780  20001  \n",
      "2                 3.389560  20002  \n",
      "3                 1.494400  20003  \n",
      "4                 2.299550  20004  \n",
      "...                    ...    ...  \n",
      "2043              2.191720  22043  \n",
      "2044              1.012360  22044  \n",
      "2045              3.117210  22045  \n",
      "2046              2.887940  22046  \n",
      "2047              0.994068  22047  \n",
      "\n",
      "[2048 rows x 30 columns]\n",
      "                            ParamName  AbsMaxDiff  LogFlag  FiducialVal  \\\n",
      "0                              Omega0        0.20        0      0.30000   \n",
      "1                              sigma8        0.20        0      0.80000   \n",
      "2                 WindEnergyIn1e51erg        4.00        1      3.60000   \n",
      "3                 RadioFeedbackFactor        4.00        1      1.00000   \n",
      "4               VariableWindVelFactor        2.00        1      7.40000   \n",
      "5   RadioFeedbackReiorientationFactor        2.00        1     20.00000   \n",
      "6                         OmegaBaryon        0.02        0      0.04900   \n",
      "7                         HubbleParam        0.20        0      0.67110   \n",
      "8                                 n_s        0.20        0      0.96240   \n",
      "9                     MaxSfrTimescale        2.00        1      2.27000   \n",
      "10                 FactorForSofterEQS        3.00        1      0.30000   \n",
      "11                           IMFslope        0.50        0     -2.30000   \n",
      "12                  SNII_MinMass_Msun        4.00        0      8.00000   \n",
      "13                ThermalWindFraction        4.00        1      0.10000   \n",
      "14           VariableWindSpecMomentum     2000.00        0      0.00000   \n",
      "15              WindFreeTravelDensFac       10.00        1      0.05000   \n",
      "16                         MinWindVel      200.00        0    350.00000   \n",
      "17          WindEnergyReductionFactor        4.00        1      0.25000   \n",
      "18     WindEnergyReductionMetallicity        4.00        1      0.00200   \n",
      "19        WindEnergyReductionExponent        1.00        0      2.00000   \n",
      "20                     WindDumpFactor        0.40        0      0.60000   \n",
      "21                  SeedBlackHoleMass        3.16        1      0.00008   \n",
      "22           BlackHoleAccretionFactor        4.00        1      1.00000   \n",
      "23           BlackHoleEddingtonFactor       10.00        1      1.00000   \n",
      "24            BlackHoleFeedbackFactor        4.00        1      0.10000   \n",
      "25       BlackHoleRadiativeEfficiency        4.00        1      0.20000   \n",
      "26                    QuasarThreshold       31.60        1      0.00200   \n",
      "27               QuasarThresholdPower        2.00        0      2.00000   \n",
      "\n",
      "        MinVal       MaxVal                                        Description  \n",
      "0     0.100000     0.500000                                        OmegaMatter  \n",
      "1     0.600000     1.000000                                             sigma8  \n",
      "2     0.900000    14.400000                       ASN1 - galactic winds energy  \n",
      "3     0.250000     4.000000                 AAGN1 - AGN FB kinetic mode energy  \n",
      "4     3.700000    14.800000                        ASN2 - galactic winds speed  \n",
      "5    10.000000    40.000000             AAGN2 - AGN FB kinetic mode burstiness  \n",
      "6     0.029000     0.069000                                        OmegaBaryon  \n",
      "7     0.471100     0.871100                                   Hubble parameter  \n",
      "8     0.762400     1.162400                      power spectrum spectral index  \n",
      "9     1.135000     4.540000                          gas consumption timescale  \n",
      "10    0.100000     0.900000                     softening factor for SH03 eEOS  \n",
      "11   -2.800000    -1.800000                              IMF slope above 1Msun  \n",
      "12    4.000000    12.000000                  minimum stellar mass that goes SN  \n",
      "13    0.025000     0.400000  fraction of wind energy injected thermally (ve...  \n",
      "14    0.000000  4000.000000              wind momentum per unit star-formation  \n",
      "15    0.005000     0.500000                         density of wind recoupling  \n",
      "16  150.000000   550.000000                                   wind speed floor  \n",
      "17    0.062500     1.000000  magnitude of wind energy dependence on metalli...  \n",
      "18    0.000500     0.008000            metallicity at which wind energy pivots  \n",
      "19    1.000000     3.000000  sharpness of wind energy dependence on metalli...  \n",
      "20    0.200000     1.000000                   (1 minus metal loading of winds)  \n",
      "21    0.000025     0.000253                                       seed BH mass  \n",
      "22    0.250000     4.000000                              Bondi rate multiplier  \n",
      "23    0.100000    10.000000  Eddington rate multiplier for the BH accretion...  \n",
      "24    0.025000     0.400000            high-accretion mode feedback efficiency  \n",
      "25    0.050000     0.800000                            BH radiative efficiency  \n",
      "26    0.000063     0.063200  Eddington ratio for transition between BH feed...  \n",
      "27    0.000000     4.000000  power-law in Weinberger+ 2017 eq.5 - steepness...  \n"
     ]
    }
   ],
   "source": [
    "# The parameter info file (df_info) is used for defining priors\n",
    "# The actual parameter values come from the camels class which reads CosmoAstroSeed_IllustrisTNG_L25n256_SB28.txt\n",
    "\n",
    "#  parameters defined here: /disk/xray15/aem2/data/28pams/IllustrisTNG/SB/CosmoAstroSeed_IllustrisTNG_L25n256_SB28.txt which is used for theta\n",
    "df_pars = pd.read_csv('/disk/xray15/aem2/data/28pams/IllustrisTNG/SB/CosmoAstroSeed_IllustrisTNG_L25n256_SB28.txt', delim_whitespace=True)\n",
    "print(df_pars)\n",
    "\n",
    "\n",
    "# prior values come from this:\n",
    "df_info = pd.read_csv(\"/disk/xray15/aem2/data/28pams/Info_IllustrisTNG_L25n256_28params.txt\")\n",
    "print(df_info)\n",
    "\n"
   ]
  },
  {
   "cell_type": "code",
   "execution_count": 3,
   "metadata": {},
   "outputs": [
    {
     "name": "stdout",
     "output_type": "stream",
     "text": [
      "[[3.52541e-01 6.94742e-01 3.85743e+00 ... 2.25386e-01 2.69356e-04\n",
      "  5.14648e-01]\n",
      " [1.72430e-01 8.30154e-01 1.03554e+00 ... 8.62311e-02 2.28022e-02\n",
      "  2.62078e+00]\n",
      " [2.34683e-01 7.05844e-01 9.61416e+00 ... 6.48096e-01 1.45761e-03\n",
      "  3.38956e+00]\n",
      " ...\n",
      " [2.34475e-01 9.38760e-01 1.49723e+00 ... 6.82619e-01 6.26319e-03\n",
      "  3.11721e+00]\n",
      " [1.72613e-01 6.12888e-01 1.33125e+01 ... 8.36555e-02 7.09853e-05\n",
      "  2.88794e+00]\n",
      " [3.52358e-01 8.62216e-01 3.09935e+00 ... 2.56220e-01 3.64932e-02\n",
      "  9.94068e-01]]\n",
      "(2048, 28)\n"
     ]
    }
   ],
   "source": [
    "theta = df_pars.iloc[:, 1:29].to_numpy()  # excluding 'name' column and 'seed' column\n",
    "\n",
    "# Print the result\n",
    "print(theta)\n",
    "print(theta.shape)"
   ]
  },
  {
   "cell_type": "code",
   "execution_count": 4,
   "metadata": {},
   "outputs": [
    {
     "name": "stdout",
     "output_type": "stream",
     "text": [
      "Column names:\n",
      "['#Name', 'Omega0', 'sigma8', 'WindEnergyIn1e51erg', 'RadioFeedbackFactor', 'VariableWindVelFactor', 'RadioFeedbackReiorientationFactor', 'OmegaBaryon', 'HubbleParam', 'n_s', 'MaxSfrTimescale', 'FactorForSofterEQS', 'IMFslope', 'SNII_MinMass_Msun', 'ThermalWindFraction', 'VariableWindSpecMomentum', 'WindFreeTravelDensFac', 'MinWindVel', 'WindEnergyReductionFactor', 'WindEnergyReductionMetallicity', 'WindEnergyReductionExponent', 'WindDumpFactor', 'SeedBlackHoleMass', 'BlackHoleAccretionFactor', 'BlackHoleEddingtonFactor', 'BlackHoleFeedbackFactor', 'BlackHoleRadiativeEfficiency', 'QuasarThreshold', 'QuasarThresholdPower', 'seed']\n"
     ]
    }
   ],
   "source": [
    "# Print all column names\n",
    "print(\"Column names:\")\n",
    "print(df_pars.columns.tolist())"
   ]
  },
  {
   "cell_type": "code",
   "execution_count": 5,
   "metadata": {},
   "outputs": [
    {
     "data": {
      "text/plain": [
       "(array([676., 348., 235., 178., 143., 121., 102.,  92.,  80.,  73.]),\n",
       " array([0.0250079 , 0.06248791, 0.09996792, 0.13744793, 0.17492794,\n",
       "        0.21240795, 0.24988796, 0.28736797, 0.32484798, 0.36232799,\n",
       "        0.399808  ]),\n",
       " <BarContainer object of 10 artists>)"
      ]
     },
     "execution_count": 5,
     "metadata": {},
     "output_type": "execute_result"
    },
    {
     "data": {
      "image/png": "[encoded data removed]",
      "text/plain": [
       "<Figure size 640x480 with 1 Axes>"
      ]
     },
     "metadata": {},
     "output_type": "display_data"
    }
   ],
   "source": [
    "# plot the first one (omega0) to see shape of prior:\n",
    "plt.hist(theta[:, 24])"
   ]
  },
  {
   "cell_type": "code",
   "execution_count": 6,
   "metadata": {},
   "outputs": [
    {
     "name": "stderr",
     "output_type": "stream",
     "text": [
      "/disk/xray15/aem2/envs/camels/lib/python3.8/site-packages/numpy/lib/histograms.py:883: RuntimeWarning: invalid value encountered in divide\n",
      "  return n/db/n.sum(), bin_edges\n"
     ]
    },
    {
     "name": "stdout",
     "output_type": "stream",
     "text": [
      "torch.Size([2048, 28]) (2048, 36)\n"
     ]
    }
   ],
   "source": [
    "def calc_df(_x, volume, massBinLimits):\n",
    "    hist, _dummy = np.histogram(_x, bins=massBinLimits)\n",
    "    hist = np.float64(hist)\n",
    "    phi = (hist / volume) / (massBinLimits[1] - massBinLimits[0])\n",
    "\n",
    "    phi_sigma = (np.sqrt(hist) / volume) / (\n",
    "        massBinLimits[1] - massBinLimits[0]\n",
    "    )  # Poisson errors\n",
    "\n",
    "    return phi, phi_sigma, hist\n",
    "\n",
    "def get_luminosity_function(\n",
    "    photo,\n",
    "    filt,\n",
    "    lo_lim,\n",
    "    hi_lim,\n",
    "    n_bins=15,\n",
    "    mask=None,\n",
    "):\n",
    "    h = 0.6711\n",
    "    if mask is None:\n",
    "        mask = np.ones(len(photo[filt]), dtype=bool)\n",
    "\n",
    "    binLimits = np.linspace(lo_lim, hi_lim, n_bins)\n",
    "    phi, phi_sigma, hist = calc_df(photo[filt][mask], (25 / h) ** 3, binLimits)\n",
    "    phi[phi == 0.0] = 1e-6 + np.random.rand() * 1e-7\n",
    "    phi = np.log10(phi)\n",
    "    return phi, phi_sigma, hist, binLimits\n",
    "\n",
    "def get_photometry_SB(\n",
    "    sim_name=\"SB28_0\",\n",
    "    spec_type=\"attenuated\",\n",
    "    snap=\"044\",\n",
    "    sps=\"BC03\",\n",
    "    model=\"IllustrisTNG\",\n",
    "    photo_dir=\"/disk/xray15/aem2/data/28pams/IllustrisTNG/SB/photometry\",\n",
    "    filters=[\"GALEX FUV\", \"GALEX NUV\"],\n",
    "):\n",
    "    photo = {}\n",
    "    with h5py.File(f\"{photo_dir}/alice_galex.h5\", \"r\") as hf:\n",
    "        for filt in filters:\n",
    "            path = f\"{sim_name}/snap_{snap}/{sps}/photometry/luminosity/{spec_type}/{filt}\"\n",
    "            photo[filt] = hf[path][:]\n",
    "            # Note: Assuming data is already in desired format, remove conversion if not needed\n",
    "            # photo[filt] *= unyt_quantity.from_string(\"1 erg/s/Hz\")\n",
    "            # photo[filt] = lnu_to_absolute_mag(photo[filt])\n",
    "    return photo\n",
    "\n",
    "def get_theta_SB(model=\"IllustrisTNG\", device=\"cuda\"):\n",
    "    cam = camels(model=model, sim_set='SB28')\n",
    "    theta = np.array([\n",
    "        cam.params['Omega0'].values,              # Omega0\n",
    "        cam.params['sigma8'].values,              # sigma8\n",
    "        cam.params['WindEnergyIn1e51erg'].values, # Wind Energy in 1e51 erg\n",
    "        cam.params['RadioFeedbackFactor'].values,  # Radio Feedback Factor\n",
    "        cam.params['VariableWindVelFactor'].values, # Variable Wind Velocity Factor\n",
    "        cam.params['RadioFeedbackReiorientationFactor'].values, # Radio Feedback Reorientation Factor\n",
    "        cam.params['OmegaBaryon'].values,         # Omega Baryon\n",
    "        cam.params['HubbleParam'].values,         # Hubble Parameter\n",
    "        cam.params['n_s'].values,                 # n_s\n",
    "        cam.params['MaxSfrTimescale'].values,     # Max SFR Timescale\n",
    "        cam.params['FactorForSofterEQS'].values,  # Factor for Softer EQS\n",
    "        cam.params['IMFslope'].values,            # IMF slope\n",
    "        cam.params['SNII_MinMass_Msun'].values,   # SNII Minimum Mass (Msun)\n",
    "        cam.params['ThermalWindFraction'].values, # Thermal Wind Fraction\n",
    "        cam.params['VariableWindSpecMomentum'].values, # Variable Wind Specific Momentum\n",
    "        cam.params['WindFreeTravelDensFac'].values, # Wind Free Travel Density Factor\n",
    "        cam.params['MinWindVel'].values,          # Minimum Wind Velocity\n",
    "        cam.params['WindEnergyReductionFactor'].values, # Wind Energy Reduction Factor\n",
    "        cam.params['WindEnergyReductionMetallicity'].values, # Wind Energy Reduction Metallicity\n",
    "        cam.params['WindEnergyReductionExponent'].values, # Wind Energy Reduction Exponent\n",
    "        cam.params['WindDumpFactor'].values,      # Wind Dump Factor\n",
    "        cam.params['SeedBlackHoleMass'].values,   # Seed Black Hole Mass\n",
    "        cam.params['BlackHoleAccretionFactor'].values, # Black Hole Accretion Factor\n",
    "        cam.params['BlackHoleEddingtonFactor'].values, # Black Hole Eddington Factor\n",
    "        cam.params['BlackHoleFeedbackFactor'].values, # Black Hole Feedback Factor\n",
    "        cam.params['BlackHoleRadiativeEfficiency'].values, # Black Hole Radiative Efficiency\n",
    "        cam.params['QuasarThreshold'].values,     # Quasar Threshold\n",
    "        cam.params['QuasarThresholdPower'].values # Quasar Threshold Power\n",
    "    ]).T\n",
    "    \n",
    "    return torch.tensor(theta, dtype=torch.float32, device=device)\n",
    "    \n",
    "\n",
    "def get_x_SB(\n",
    "    spec_type=\"attenuated\",\n",
    "    snap=\"044\",\n",
    "    sps=\"BC03\",\n",
    "    luminosity_functions=True,\n",
    "    colours=True,\n",
    "    model=\"IllustrisTNG\",\n",
    "    photo_dir=\"/disk/xray15/aem2/data/28pams/IllustrisTNG/SB/photometry\",\n",
    "    n_bins_lf=13,\n",
    "    n_bins_colour=13,\n",
    "):\n",
    "    if isinstance(snap, str):\n",
    "        snap = [snap]\n",
    "\n",
    "    x = [[] for _ in range(2048)]  # For SB28 simulations\n",
    "\n",
    "    for SB28_ in range(2048):\n",
    "        try:\n",
    "            for snp in snap:\n",
    "                photo = get_photometry_SB(\n",
    "                    sim_name=f\"SB28_{SB28_}\",\n",
    "                    spec_type=spec_type,\n",
    "                    snap=snp,\n",
    "                    sps=sps,\n",
    "                    model=model,\n",
    "                    photo_dir=photo_dir,\n",
    "                )\n",
    "\n",
    "                if luminosity_functions:\n",
    "                    for filt, lo_lim, hi_lim in zip(\n",
    "                        [\"GALEX FUV\", \"GALEX NUV\"],\n",
    "                        [-20.5, -20.5],\n",
    "                        [-15, -15],\n",
    "                    ):\n",
    "                        phi = get_luminosity_function(\n",
    "                            photo, filt, lo_lim, hi_lim, n_bins=n_bins_lf\n",
    "                        )[0]\n",
    "                        x[SB28_].append(phi)\n",
    "\n",
    "                if colours:\n",
    "                    binLimsColour = np.linspace(-0.5, 3.5, n_bins_colour)\n",
    "                    color = photo[\"GALEX FUV\"] - photo[\"GALEX NUV\"]\n",
    "                    color_dist = np.histogram(color, binLimsColour, density=True)[0]\n",
    "                    x[SB28_].append(color_dist)\n",
    "        except Exception as e:\n",
    "            print(f\"Error processing simulation {SB28_}: {e}\")\n",
    "            x[SB28_] = None\n",
    "\n",
    "    # Remove any failed simulations\n",
    "    x = [xi for xi in x if xi is not None]\n",
    "    \n",
    "    return x\n",
    "\n",
    "\n",
    "def get_theta_x_SB(\n",
    "    spec_type=\"attenuated\",\n",
    "    snap=\"044\",\n",
    "    sps=\"BC03\",\n",
    "    model=\"IllustrisTNG\",\n",
    "    device=\"cuda\",\n",
    "    **kwargs,\n",
    "):\n",
    "    x = get_x_SB(spec_type=spec_type, snap=snap, sps=sps, model=model, **kwargs)\n",
    "    theta = get_theta_SB(model=model, device=device)\n",
    "    \n",
    "    # Convert x list to proper array format\n",
    "    x_array = np.array([np.hstack(_x) for _x in x])\n",
    "    return theta, x_array\n",
    "\n",
    "\n",
    "if __name__ == \"__main__\":\n",
    "    theta, x = get_theta_x_SB()\n",
    "    print(theta.shape, x.shape)\n"
   ]
  },
  {
   "cell_type": "code",
   "execution_count": 7,
   "metadata": {},
   "outputs": [
    {
     "name": "stdout",
     "output_type": "stream",
     "text": [
      "processing Omega0:\n",
      "processing Omega0 is linear with min 0.1 and max 0.5:\n",
      "processing sigma8:\n",
      "processing sigma8 is linear with min 0.6 and max 1.0:\n",
      "processing WindEnergyIn1e51erg:\n",
      "processing WindEnergyIn1e51erg is logarithmic with min 0.9 and max 14.4:\n",
      "processing RadioFeedbackFactor:\n",
      "processing RadioFeedbackFactor is logarithmic with min 0.25 and max 4.0:\n",
      "processing VariableWindVelFactor:\n",
      "processing VariableWindVelFactor is logarithmic with min 3.7 and max 14.8:\n",
      "processing RadioFeedbackReiorientationFactor:\n",
      "processing RadioFeedbackReiorientationFactor is logarithmic with min 10.0 and max 40.0:\n",
      "processing OmegaBaryon:\n",
      "processing OmegaBaryon is linear with min 0.029 and max 0.069:\n",
      "processing HubbleParam:\n",
      "processing HubbleParam is linear with min 0.4711 and max 0.8711:\n",
      "processing n_s:\n",
      "processing n_s is linear with min 0.7624 and max 1.1624:\n",
      "processing MaxSfrTimescale:\n",
      "processing MaxSfrTimescale is logarithmic with min 1.135 and max 4.54:\n",
      "processing FactorForSofterEQS:\n",
      "processing FactorForSofterEQS is logarithmic with min 0.1 and max 0.9:\n",
      "processing IMFslope:\n",
      "processing IMFslope is linear with min -2.8 and max -1.8:\n",
      "processing SNII_MinMass_Msun:\n",
      "processing SNII_MinMass_Msun is linear with min 4.0 and max 12.0:\n",
      "processing ThermalWindFraction:\n",
      "processing ThermalWindFraction is logarithmic with min 0.025 and max 0.4:\n",
      "processing VariableWindSpecMomentum:\n",
      "processing VariableWindSpecMomentum is linear with min 0.0 and max 4000.0:\n",
      "processing WindFreeTravelDensFac:\n",
      "processing WindFreeTravelDensFac is logarithmic with min 0.005 and max 0.5:\n",
      "processing MinWindVel:\n",
      "processing MinWindVel is linear with min 150.0 and max 550.0:\n",
      "processing WindEnergyReductionFactor:\n",
      "processing WindEnergyReductionFactor is logarithmic with min 0.0625 and max 1.0:\n",
      "processing WindEnergyReductionMetallicity:\n",
      "processing WindEnergyReductionMetallicity is logarithmic with min 0.0005 and max 0.008:\n",
      "processing WindEnergyReductionExponent:\n",
      "processing WindEnergyReductionExponent is linear with min 1.0 and max 3.0:\n",
      "processing WindDumpFactor:\n",
      "processing WindDumpFactor is linear with min 0.2 and max 1.0:\n",
      "processing SeedBlackHoleMass:\n",
      "processing SeedBlackHoleMass is logarithmic with min 2.5316e-05 and max 0.0002528:\n",
      "processing BlackHoleAccretionFactor:\n",
      "processing BlackHoleAccretionFactor is logarithmic with min 0.25 and max 4.0:\n",
      "processing BlackHoleEddingtonFactor:\n",
      "processing BlackHoleEddingtonFactor is logarithmic with min 0.1 and max 10.0:\n",
      "processing BlackHoleFeedbackFactor:\n",
      "processing BlackHoleFeedbackFactor is logarithmic with min 0.025 and max 0.4:\n",
      "processing BlackHoleRadiativeEfficiency:\n",
      "processing BlackHoleRadiativeEfficiency is logarithmic with min 0.05 and max 0.8:\n",
      "processing QuasarThreshold:\n",
      "processing QuasarThreshold is logarithmic with min 6.33e-05 and max 0.0632:\n",
      "processing QuasarThresholdPower:\n",
      "processing QuasarThresholdPower is linear with min 0.0 and max 4.0:\n"
     ]
    },
    {
     "name": "stderr",
     "output_type": "stream",
     "text": [
      "/disk/xray15/aem2/envs/camels/lib/python3.8/site-packages/sbi/utils/user_input_checks.py:76: UserWarning: Prior was provided as a sequence of 32 priors. They will be\n",
      "            interpreted as independent of each other and matched in order to the\n",
      "            components of the parameter.\n",
      "  warnings.warn(\n",
      "/disk/xray15/aem2/envs/camels/lib/python3.8/site-packages/sbi/utils/torchutils.py:27: UserWarning: GPU was selected as a device for training the neural network. Note that we expect no significant speed ups in training for the default architectures we provide. Using the GPU will be effective only for large neural networks with operations that are fast on the GPU, e.g., for a CNN or RNN `embedding_net`.\n",
      "  warnings.warn(\n",
      "/disk/xray15/aem2/envs/camels/lib/python3.8/site-packages/sbi/utils/user_input_checks.py:209: UserWarning: Casting 1D Uniform prior to BoxUniform to match sbi batch requirements.\n",
      "  warnings.warn(\n",
      "/disk/xray15/aem2/envs/camels/lib/python3.8/site-packages/numpy/lib/histograms.py:883: RuntimeWarning: invalid value encountered in divide\n",
      "  return n/db/n.sum(), bin_edges\n"
     ]
    },
    {
     "name": "stdout",
     "output_type": "stream",
     "text": [
      "Theta shape: torch.Size([2048, 28])\n",
      "X shape: torch.Size([2048, 33])\n"
     ]
    }
   ],
   "source": [
    "\n",
    "# get the priors and data\n",
    "prior = initialise_priors_SB28(df=df_info, device=device)\n",
    "theta, x = get_theta_x_SB(\n",
    "    spec_type=spec_type,\n",
    "    snap=snap,\n",
    "    sps=sps,\n",
    "    model=model,\n",
    "    device=device,\n",
    "    n_bins_lf=n_bins_lf,\n",
    "    n_bins_colour=n_bins_colour,\n",
    "    photo_dir=\"/disk/xray15/aem2/data/28pams/IllustrisTNG/SB/photometry\"\n",
    ")\n",
    "\n",
    "# process the data\n",
    "x_all = np.array([np.hstack(_x) for _x in x])\n",
    "x_all = torch.tensor(x_all, dtype=torch.float32, device=device)\n",
    "\n",
    "print(\"Theta shape:\", theta.shape)\n",
    "print(\"X shape:\", x_all.shape)"
   ]
  },
  {
   "cell_type": "code",
   "execution_count": 8,
   "metadata": {},
   "outputs": [],
   "source": [
    "\n",
    "def create_test_mask(n_sims=2048, test_fraction=0.1, random_seed=42):\n",
    "    \"\"\"\n",
    "    Create a test mask similar to the LH one but for 2048 simulations.\n",
    "    \n",
    "    Args:\n",
    "        n_sims: Number of simulations (2048 for SB28)\n",
    "        test_fraction: Fraction of simulations to use for testing (0.1 = 10%)\n",
    "        random_seed: Random seed for reproducibility\n",
    "    \n",
    "    Returns:\n",
    "        np.array: Boolean mask where True indicates test set\n",
    "    \"\"\"\n",
    "    np.random.seed(random_seed)\n",
    "    test_mask = np.random.rand(n_sims) > (1 - test_fraction)\n",
    "    \n",
    "    # Print some statistics\n",
    "    print(f\"Total simulations: {n_sims}\")\n",
    "    print(f\"Test set size: {test_mask.sum()}\")\n",
    "    print(f\"Training set size: {(~test_mask).sum()}\")\n",
    "    print(f\"Test fraction: {test_mask.sum() / n_sims:.3f}\")\n",
    "    \n",
    "    # Save the mask\n",
    "    save_path = \"/disk/xray15/aem2/data/28pams/IllustrisTNG/SB/test/test_mask_SB28.txt\"\n",
    "    np.savetxt(save_path, test_mask.astype(int), fmt='%i')\n",
    "    \n",
    "    return test_mask\n"
   ]
  },
  {
   "cell_type": "code",
   "execution_count": 9,
   "metadata": {},
   "outputs": [
    {
     "data": {
      "text/plain": [
       "tensor([[-5.9746, -5.9746, -5.9746,  ...,     nan,     nan,     nan],\n",
       "        [-5.9895, -5.9895, -5.9895,  ...,     nan,     nan,     nan],\n",
       "        [-5.9766, -5.9766, -5.9766,  ...,     nan,     nan,     nan],\n",
       "        ...,\n",
       "        [-5.9617, -5.9617, -5.9617,  ...,     nan,     nan,     nan],\n",
       "        [-5.9832, -5.9832, -5.9832,  ...,     nan,     nan,     nan],\n",
       "        [-5.9768, -5.9768, -5.9768,  ...,     nan,     nan,     nan]],\n",
       "       device='cuda:0')"
      ]
     },
     "execution_count": 9,
     "metadata": {},
     "output_type": "execute_result"
    }
   ],
   "source": [
    "\n",
    "# Move data to GPU as early as possible\n",
    "x_all = x_all.to(device)\n",
    "x_all\n"
   ]
  },
  {
   "cell_type": "code",
   "execution_count": 10,
   "metadata": {},
   "outputs": [
    {
     "name": "stderr",
     "output_type": "stream",
     "text": [
      "/tmp/ipykernel_2882910/964306182.py:1: UserWarning: To copy construct from a tensor, it is recommended to use sourceTensor.clone().detach() or sourceTensor.clone().detach().requires_grad_(True), rather than torch.tensor(sourceTensor).\n",
      "  theta = torch.tensor(theta, dtype=torch.float32, device=device)\n"
     ]
    },
    {
     "data": {
      "text/plain": [
       "tensor([[3.5254e-01, 6.9474e-01, 3.8574e+00,  ..., 2.2539e-01, 2.6936e-04,\n",
       "         5.1465e-01],\n",
       "        [1.7243e-01, 8.3015e-01, 1.0355e+00,  ..., 8.6231e-02, 2.2802e-02,\n",
       "         2.6208e+00],\n",
       "        [2.3468e-01, 7.0584e-01, 9.6142e+00,  ..., 6.4810e-01, 1.4576e-03,\n",
       "         3.3896e+00],\n",
       "        ...,\n",
       "        [2.3448e-01, 9.3876e-01, 1.4972e+00,  ..., 6.8262e-01, 6.2632e-03,\n",
       "         3.1172e+00],\n",
       "        [1.7261e-01, 6.1289e-01, 1.3312e+01,  ..., 8.3655e-02, 7.0985e-05,\n",
       "         2.8879e+00],\n",
       "        [3.5236e-01, 8.6222e-01, 3.0993e+00,  ..., 2.5622e-01, 3.6493e-02,\n",
       "         9.9407e-01]], device='cuda:0')"
      ]
     },
     "execution_count": 10,
     "metadata": {},
     "output_type": "execute_result"
    }
   ],
   "source": [
    "theta = torch.tensor(theta, dtype=torch.float32, device=device)\n",
    "theta"
   ]
  },
  {
   "cell_type": "code",
   "execution_count": 11,
   "metadata": {},
   "outputs": [
    {
     "data": {
      "text/plain": [
       "array([[-5.9746146, -5.9746146, -5.9746146, ...,        nan,        nan,\n",
       "               nan],\n",
       "       [-5.9895086, -5.9895086, -5.9895086, ...,        nan,        nan,\n",
       "               nan],\n",
       "       [-5.9765553, -5.9765553, -5.9765553, ...,        nan,        nan,\n",
       "               nan],\n",
       "       ...,\n",
       "       [-5.961686 , -5.961686 , -5.961686 , ...,        nan,        nan,\n",
       "               nan],\n",
       "       [-5.983155 , -5.983155 , -5.983155 , ...,        nan,        nan,\n",
       "               nan],\n",
       "       [-5.9768047, -5.9768047, -5.9768047, ...,        nan,        nan,\n",
       "               nan]], dtype=float32)"
      ]
     },
     "execution_count": 11,
     "metadata": {},
     "output_type": "execute_result"
    }
   ],
   "source": [
    "\n",
    "# Handle NaN values and normalize while on GPU\n",
    "x_all_cpu = x_all.cpu().numpy()  # Only move to CPU when necessary for sklearn\n",
    "x_all_cpu\n"
   ]
  },
  {
   "cell_type": "code",
   "execution_count": 12,
   "metadata": {},
   "outputs": [
    {
     "name": "stdout",
     "output_type": "stream",
     "text": [
      "Data shape before processing: (2048, 33)\n",
      "Number of NaN values: 22528\n",
      "Number of infinite values: 0\n"
     ]
    }
   ],
   "source": [
    "print(\"Data shape before processing:\", x_all_cpu.shape)\n",
    "print(\"Number of NaN values:\", np.isnan(x_all_cpu).sum())\n",
    "print(\"Number of infinite values:\", np.isinf(x_all_cpu).sum())\n"
   ]
  },
  {
   "cell_type": "code",
   "execution_count": 13,
   "metadata": {},
   "outputs": [
    {
     "data": {
      "text/plain": [
       "array([[False, False, False, ...,  True,  True,  True],\n",
       "       [False, False, False, ...,  True,  True,  True],\n",
       "       [False, False, False, ...,  True,  True,  True],\n",
       "       ...,\n",
       "       [False, False, False, ...,  True,  True,  True],\n",
       "       [False, False, False, ...,  True,  True,  True],\n",
       "       [False, False, False, ...,  True,  True,  True]])"
      ]
     },
     "execution_count": 13,
     "metadata": {},
     "output_type": "execute_result"
    }
   ],
   "source": [
    "\n",
    "# Replace NaN/inf values with small random noise\n",
    "nan_mask = np.isnan(x_all_cpu) | np.isinf(x_all_cpu)\n",
    "nan_mask\n",
    "\n"
   ]
  },
  {
   "cell_type": "code",
   "execution_count": 14,
   "metadata": {},
   "outputs": [],
   "source": [
    "\n",
    "if nan_mask.any():\n",
    "    x_all_cpu[nan_mask] = np.random.rand(np.sum(nan_mask)) * 1e-10\n"
   ]
  },
  {
   "cell_type": "code",
   "execution_count": 15,
   "metadata": {},
   "outputs": [
    {
     "data": {
      "text/plain": [
       "array([[-5.9746146e+00, -5.9746146e+00, -5.9746146e+00, ...,\n",
       "         2.8474277e-11,  4.1219680e-11,  3.4359290e-11],\n",
       "       [-5.9895086e+00, -5.9895086e+00, -5.9895086e+00, ...,\n",
       "         7.7192724e-11,  1.2184925e-13,  6.9775519e-11],\n",
       "       [-5.9765553e+00, -5.9765553e+00, -5.9765553e+00, ...,\n",
       "         6.1756857e-11,  2.6599755e-11,  7.6820550e-11],\n",
       "       ...,\n",
       "       [-5.9616861e+00, -5.9616861e+00, -5.9616861e+00, ...,\n",
       "         9.6711224e-12,  5.0778375e-11,  9.8895295e-11],\n",
       "       [-5.9831548e+00, -5.9831548e+00, -5.9831548e+00, ...,\n",
       "         2.0021346e-11,  1.4750040e-11,  2.4220289e-11],\n",
       "       [-5.9768047e+00, -5.9768047e+00, -5.9768047e+00, ...,\n",
       "         7.2613894e-11,  4.3789149e-11,  6.2824641e-11]], dtype=float32)"
      ]
     },
     "execution_count": 15,
     "metadata": {},
     "output_type": "execute_result"
    }
   ],
   "source": [
    "x_all_cpu"
   ]
  },
  {
   "cell_type": "code",
   "execution_count": 16,
   "metadata": {},
   "outputs": [
    {
     "name": "stdout",
     "output_type": "stream",
     "text": [
      "Data shape before processing: (2048, 33)\n",
      "Number of NaN values: 0\n",
      "Number of infinite values: 0\n"
     ]
    }
   ],
   "source": [
    "print(\"Data shape before processing:\", x_all_cpu.shape)\n",
    "print(\"Number of NaN values:\", np.isnan(x_all_cpu).sum())\n",
    "print(\"Number of infinite values:\", np.isinf(x_all_cpu).sum())\n"
   ]
  },
  {
   "cell_type": "code",
   "execution_count": 17,
   "metadata": {},
   "outputs": [
    {
     "data": {
      "text/plain": [
       "tensor([[-2.1297e-01, -2.1297e-01, -2.1297e-01,  ...,  1.0150e-12,\n",
       "          1.4693e-12,  1.2247e-12],\n",
       "        [-2.1304e-01, -2.1304e-01, -2.1304e-01,  ...,  2.7457e-12,\n",
       "          4.3340e-15,  2.4818e-12],\n",
       "        [-2.1343e-01, -2.1343e-01, -2.1343e-01,  ...,  2.2054e-12,\n",
       "          9.4991e-13,  2.7434e-12],\n",
       "        ...,\n",
       "        [-2.1320e-01, -2.1320e-01, -2.1320e-01,  ...,  3.4586e-13,\n",
       "          1.8159e-12,  3.5367e-12],\n",
       "        [-2.1292e-01, -2.1292e-01, -2.1292e-01,  ...,  7.1247e-13,\n",
       "          5.2489e-13,  8.6190e-13],\n",
       "        [-2.1284e-01, -2.1284e-01, -2.1284e-01,  ...,  2.5858e-12,\n",
       "          1.5594e-12,  2.2372e-12]], device='cuda:0')"
      ]
     },
     "execution_count": 17,
     "metadata": {},
     "output_type": "execute_result"
    }
   ],
   "source": [
    "\n",
    "# Normalize\n",
    "norm = Normalizer()\n",
    "x_all_normalized = norm.fit_transform(x_all_cpu)\n",
    "x_all = torch.tensor(x_all_normalized, dtype=torch.float32, device=device)\n",
    "x_all"
   ]
  },
  {
   "cell_type": "code",
   "execution_count": 18,
   "metadata": {},
   "outputs": [
    {
     "name": "stdout",
     "output_type": "stream",
     "text": [
      "Any NaN in normalized data: False\n",
      "Any inf in normalized data: False\n"
     ]
    }
   ],
   "source": [
    "\n",
    "# Save normalizer\n",
    "joblib.dump(norm, f'/disk/xray15/aem2/data/28pams/IllustrisTNG/SB/models/{name}_scaler.save')\n",
    "\n",
    "# Print final check\n",
    "print(\"Any NaN in normalized data:\", torch.isnan(x_all).any().item())\n",
    "print(\"Any inf in normalized data:\", torch.isinf(x_all).any().item())\n"
   ]
  },
  {
   "cell_type": "code",
   "execution_count": 19,
   "metadata": {},
   "outputs": [
    {
     "name": "stdout",
     "output_type": "stream",
     "text": [
      "Total simulations: 2048\n",
      "Test set size: 203\n",
      "Training set size: 1845\n",
      "Test fraction: 0.099\n"
     ]
    },
    {
     "data": {
      "text/plain": [
       "array([False,  True, False, ..., False, False, False])"
      ]
     },
     "execution_count": 19,
     "metadata": {},
     "output_type": "execute_result"
    }
   ],
   "source": [
    "\n",
    "\n",
    "# Load test mask\n",
    "test_mask = create_test_mask()\n",
    "test_mask\n"
   ]
  },
  {
   "cell_type": "markdown",
   "metadata": {},
   "source": [
    "# original\n",
    "\n",
    "hidden_features = 30\n",
    "num_transforms = 4\n",
    "nets = [\n",
    "    # ili.utils.load_nde_sbi(\n",
    "    #     engine=\"NLE\", model=\"maf\", hidden_features=50, num_transforms=5\n",
    "    # ),\n",
    "    ili.utils.load_nde_sbi(\n",
    "        engine=\"NPE\",\n",
    "        model=\"nsf\", hidden_features=hidden_features, num_transforms=num_transforms\n",
    "    ),\n",
    "    '''\n",
    "\n",
    "    ili.utils.load_nde_sbi(\n",
    "        engine=\"NPE\",\n",
    "        model=\"nsf\", hidden_features=hidden_features, num_transforms=num_transforms\n",
    "    ),\n",
    "    ili.utils.load_nde_sbi(\n",
    "        engine=\"NPE\",\n",
    "        model=\"nsf\", hidden_features=hidden_features, num_transforms=num_transforms\n",
    "    ),\n",
    "    # ili.utils.load_nde_sbi(\n",
    "    #     engine=\"NPE\",\n",
    "    #     model=\"nsf\", hidden_features=hidden_features, num_transforms=num_transforms\n",
    "    # ),\n",
    "    # ili.utils.load_nde_lampe(model=\"nsf\", device=device, hidden_features=20, num_transforms=2), \n",
    "    # ili.utils.load_nde_lampe(model=\"nsf\", device=device, hidden_features=20, num_transforms=2), \n",
    "    '''\n",
    "]\n",
    "print(nets)\n",
    "\n",
    "\n",
    "train_args = {\"training_batch_size\": 4, \"learning_rate\": 5e-4, 'stop_after_epochs': 20}\n",
    "print(train_args)\n",
    "\n",
    "\n",
    "loader = NumpyLoader(\n",
    "    x=x_all[~test_mask],\n",
    "    # theta=torch.tensor(theta[~test_mask], device=device)\n",
    "    theta=torch.tensor(theta[~test_mask, :], device=device)\n",
    ")\n",
    "print(loader)\n",
    "\n",
    "runner = InferenceRunner.load(\n",
    "    backend=\"sbi\",  #'sbi', # 'lampe',\n",
    "    engine=\"NPE\",\n",
    "    prior=prior,\n",
    "    nets=nets,\n",
    "    device=device,\n",
    "    train_args=train_args,\n",
    "    proposal=None,\n",
    "    # embedding_net=None,\n",
    "    out_dir=\"models/\",\n",
    "    name=name,\n",
    ")\n",
    "print(runner)\n",
    "\n",
    "posterior_ensemble, summaries = runner(loader=loader)\n",
    "print(posterior_ensemble)"
   ]
  },
  {
   "cell_type": "code",
   "execution_count": null,
   "metadata": {},
   "outputs": [
    {
     "name": "stderr",
     "output_type": "stream",
     "text": [
      "INFO:root:MODEL INFERENCE CLASS: NPE\n"
     ]
    },
    {
     "name": "stderr",
     "output_type": "stream",
     "text": [
      "/disk/xray15/aem2/envs/camels/lib/python3.8/site-packages/sbi/utils/torchutils.py:27: UserWarning: GPU was selected as a device for training the neural network. Note that we expect no significant speed ups in training for the default architectures we provide. Using the GPU will be effective only for large neural networks with operations that are fast on the GPU, e.g., for a CNN or RNN `embedding_net`.\n",
      "  warnings.warn(\n",
      "INFO:root:Training model 1 / 1.\n"
     ]
    },
    {
     "name": "stdout",
     "output_type": "stream",
     "text": [
      " Training neural network. Epochs trained: 2"
     ]
    }
   ],
   "source": [
    "# Configure network properly\n",
    "hidden_features = 30\n",
    "num_transforms = 4\n",
    "net = ili.utils.load_nde_sbi(\n",
    "    engine=\"NPE\",\n",
    "    model=\"nsf\",\n",
    "    hidden_features=hidden_features,\n",
    "    num_transforms=num_transforms,\n",
    "    # Remove device parameter as it's not allowed\n",
    ")\n",
    "\n",
    "# Training arguments\n",
    "train_args = {\n",
    "    \"training_batch_size\": 128,\n",
    "    \"learning_rate\": 1e-3,\n",
    "    \"stop_after_epochs\": 20\n",
    "}\n",
    "\n",
    "# Data loader\n",
    "loader = NumpyLoader(\n",
    "    x=x_all[~test_mask].clone().detach(),\n",
    "    theta=theta[~test_mask].clone().detach()\n",
    ")\n",
    "\n",
    "# Runner setup with device specified here\n",
    "runner = InferenceRunner.load(\n",
    "    backend=\"sbi\",\n",
    "    engine=\"NPE\",\n",
    "    prior=prior,\n",
    "    nets=[net],\n",
    "    device=device,  # Device specified in runner, not network\n",
    "    train_args=train_args,\n",
    "    proposal=None,\n",
    "    out_dir=\"/disk/xray15/aem2/data/28pams/IllustrisTNG/SB/models/\",\n",
    "    name=name\n",
    ")\n",
    "\n",
    "# Run training\n",
    "posterior_ensemble, summaries = runner(loader=loader)"
   ]
  },
  {
   "cell_type": "code",
   "execution_count": null,
   "metadata": {},
   "outputs": [],
   "source": []
  },
  {
   "cell_type": "code",
   "execution_count": null,
   "metadata": {},
   "outputs": [],
   "source": []
  },
  {
   "cell_type": "code",
   "execution_count": null,
   "metadata": {},
   "outputs": [],
   "source": [
    "summaries"
   ]
  },
  {
   "cell_type": "code",
   "execution_count": null,
   "metadata": {},
   "outputs": [],
   "source": [
    "\"\"\"\n",
    "Coverage plots for each model\n",
    "\"\"\"\n",
    "metric = PosteriorCoverage(\n",
    "    num_samples=int(4e3),\n",
    "    sample_method='direct',\n",
    "    # sample_method=\"slice_np_vectorized\",\n",
    "    # sample_params={'num_chains': 1},\n",
    "    # sample_method=\"vi\",\n",
    "    # sample_params={\"dist\": \"maf\", \"n_particles\": 32, \"learning_rate\": 1e-2},\n",
    "    labels=cam.labels,\n",
    "    plot_list=[\"coverage\", \"histogram\", \"predictions\", \"tarp\"],\n",
    "    out_dir=\"../plots/\",\n",
    ")\n",
    "metric"
   ]
  },
  {
   "cell_type": "code",
   "execution_count": null,
   "metadata": {},
   "outputs": [],
   "source": [
    "\n",
    "fig = metric(\n",
    "    posterior=posterior_ensemble,\n",
    "    x=x_all[test_mask].cpu(),\n",
    "    # theta=theta[test_mask].cpu(),\n",
    "    theta=theta[test_mask, :].cpu(),\n",
    "    signature=f\"coverage_{name}_\",\n",
    ")"
   ]
  }
 ],
 "metadata": {
  "kernelspec": {
   "display_name": "camels",
   "language": "python",
   "name": "python3"
  },
  "language_info": {
   "codemirror_mode": {
    "name": "ipython",
    "version": 3
   },
   "file_extension": ".py",
   "mimetype": "text/x-python",
   "name": "python",
   "nbconvert_exporter": "python",
   "pygments_lexer": "ipython3",
   "version": "3.8.3"
  }
 },
 "nbformat": 4,
 "nbformat_minor": 2
}
