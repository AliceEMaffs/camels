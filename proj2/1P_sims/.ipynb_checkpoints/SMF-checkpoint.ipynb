{
 "cells": [
  {
   "cell_type": "code",
   "execution_count": 1,
   "id": "f853c0ed",
   "metadata": {},
   "outputs": [],
   "source": [
    "# Minimal Reproducable Example to check errors\n",
    "import numpy as np\n",
    "import h5py\n",
    "import hdf5plugin\n",
    "import matplotlib.pyplot as plt\n",
    "from scipy import integrate\n"
   ]
  },
  {
   "cell_type": "markdown",
   "id": "8e31f4b5",
   "metadata": {},
   "source": [
    "def mass_function(mass, volume, bins, range=None, poisson_uncert=False,\n",
    "                  return_edges=False, **kwargs):\n",
    "\n",
    "    if \"normed\" in kwargs:\n",
    "        kwargs[\"normed\"] = False\n",
    "        log.warn(\"Turned off normed kwarg in mass_function()\")\n",
    "\n",
    "    if (range is not None and (bins in ['blocks',\n",
    "                                        'knuth', 'knuths',\n",
    "                                        'scott', 'scotts',\n",
    "                                        'freedman', 'freedmans'])):\n",
    "        mass = mass[(mass >= range[0]) & (mass <= range[1])]\n",
    "\n",
    "    if isinstance(bins, str):\n",
    "        log.info(\"Calculating bin widths using `%s' method...\" % bins)\n",
    "        if bins in ['blocks']:\n",
    "            bins = bayesian_blocks(mass)\n",
    "        elif bins in ['knuth', 'knuths']:\n",
    "            dm, bins = knuth_bin_width(mass, True)\n",
    "        elif bins in ['scott', 'scotts']:\n",
    "            dm, bins = scotts_bin_width(mass, True)\n",
    "        elif bins in ['freedman', 'freedmans']:\n",
    "            dm, bins = freedman_bin_width(mass, True)\n",
    "        else:\n",
    "            raise ValueError(\"unrecognized bin code: '%s'\" % bins)\n",
    "        log.info(\"...done\")\n",
    "\n",
    "    vals, edges = np.histogram(mass, bins, range, **kwargs)\n",
    "    width = edges[1]-edges[0]\n",
    "    radius = width/2.0\n",
    "    centers = edges[:-1]+radius\n",
    "    if poisson_uncert:\n",
    "        uncert = np.sqrt(vals.astype(float))\n",
    "\n",
    "    # This is the volume normalised part\n",
    "    vals = vals.astype(float) / (volume * width)\n",
    "\n",
    "    if not poisson_uncert:\n",
    "        mf = np.dstack((centers, vals)).squeeze()\n",
    "    else:\n",
    "        uncert /= (volume * width)\n",
    "        mf = np.dstack((centers, vals, uncert)).squeeze()\n",
    "\n",
    "    if not return_edges:\n",
    "        return mf\n",
    "    else:\n",
    "        return mf, edges"
   ]
  },
  {
   "cell_type": "markdown",
   "id": "6d59d08d",
   "metadata": {},
   "source": [
    "# Assuming they all have the same volume/boxsize"
   ]
  },
  {
   "cell_type": "code",
   "execution_count": 2,
   "id": "4508c8d0",
   "metadata": {},
   "outputs": [
    {
     "name": "stdout",
     "output_type": "stream",
     "text": [
      "Box size:                 25.00 Mpc/h\n",
      "snapshot redshift:        0.40\n"
     ]
    }
   ],
   "source": [
    "## CV_0/snap_026.hdf5\n",
    "# Need to use PartType4 Masses for STELLAR Mass, not Halo mass\n",
    "snap_stars  = '/home/jovyan/Data/Sims/IllustrisTNG/CV/CV_0/snap_026.hdf5'\n",
    "data = h5py.File(snap_stars, 'r')\n",
    "BoxSize      = data['Header'].attrs[u'BoxSize']/1e3    #size of the snapshot in comoving Mpc/h\n",
    "redshift026     = data['Header'].attrs[u'Redshift']       #reshift of the snapshot\n",
    "print('Box size:                 %.2f Mpc/h'%BoxSize)\n",
    "print('snapshot redshift:        %.2f'%redshift026)\n"
   ]
  },
  {
   "cell_type": "code",
   "execution_count": 3,
   "id": "110cb910",
   "metadata": {},
   "outputs": [
    {
     "name": "stdout",
     "output_type": "stream",
     "text": [
      "Volume 15625.00 Mpc^3\n"
     ]
    }
   ],
   "source": [
    "# Need to use comoving volume \n",
    "#𝑉com=𝑉phys(1+𝑧)3\n",
    "Vphys = BoxSize**3 \n",
    "Vcom = Vphys*(1+redshift026)**3 \n",
    "print('Volume %.2f Mpc^3'%Vphys)"
   ]
  },
  {
   "cell_type": "code",
   "execution_count": 4,
   "id": "ca0e4d24",
   "metadata": {},
   "outputs": [],
   "source": [
    "# Function for combining data"
   ]
  },
  {
   "cell_type": "markdown",
   "id": "a2ea1079",
   "metadata": {},
   "source": [
    "import os\n",
    "import numpy as np\n",
    "import h5py\n",
    "\n",
    "def combine_mass_data(filename, snap_file):\n",
    "    data_directory = '/home/jovyan/Data/Sims/IllustrisTNG/CV/'\n",
    "    \n",
    "    # Create an empty list to store mass arrays\n",
    "    mass_arrays_list = []\n",
    "\n",
    "    # Initialize redshift to None\n",
    "    redshift = None\n",
    "\n",
    "    # Iterate through directories and files\n",
    "    for folder_name in os.listdir(data_directory):\n",
    "        folder_path = os.path.join(data_directory, folder_name)\n",
    "\n",
    "        # Check if it's a directory and its name starts with \"CV_\"\n",
    "        if os.path.isdir(folder_path) and folder_name.startswith(\"CV_\"):\n",
    "            file_path = os.path.join(folder_path, filename)  # Use the provided filename\n",
    "\n",
    "            # Check if the file exists\n",
    "            if os.path.isfile(file_path):\n",
    "                with h5py.File(file_path, 'r') as hdf_file:\n",
    "                    # Read the mass data from the HDF5 file\n",
    "                    mass_data = hdf_file['Subhalo/SubhaloMassType'][:]\n",
    "                    \n",
    "                    # Read redshift from the snapshot file (assuming they are all the same)\n",
    "                    if redshift is None:\n",
    "                        snapshot_file = os.path.join(folder_path, snap_file)\n",
    "                        with h5py.File(snapshot_file, 'r') as snap_data:\n",
    "                            redshift = snap_data['Header'].attrs[u'Redshift']\n",
    "                    \n",
    "                    # Append the mass data array to the list\n",
    "                    # Multiply masses by 10^10 for solar masses\n",
    "                    mass\n",
    "                    mass_data = np.log(mass_data*1e10) # <<< BREAKS!!\n",
    "                    mass_arrays_list.append(mass_data)\n",
    "\n",
    "    # Combine the mass arrays into one NumPy array\n",
    "    combined_mass_array = np.concatenate(mass_arrays_list)\n",
    "    \n",
    "    # Remove 0 values from the combined array\n",
    "    non_zero_mass_array = combined_mass_array[combined_mass_array != 0]\n",
    "    \n",
    "    return non_zero_mass_array, redshift\n",
    "\n",
    "\n"
   ]
  },
  {
   "cell_type": "code",
   "execution_count": 5,
   "id": "d817ec32",
   "metadata": {},
   "outputs": [],
   "source": [
    "import os\n",
    "import numpy as np\n",
    "import h5py\n",
    "\n",
    "def combine_mass_data(filename, snap_file):\n",
    "    data_directory = '/home/jovyan/Data/Sims/IllustrisTNG/CV/'\n",
    "    \n",
    "    # Create an empty list to store mass arrays\n",
    "    mass_arrays_list = []\n",
    "\n",
    "    # Initialize redshift to None\n",
    "    redshift = None\n",
    "\n",
    "    # Iterate through directories and files\n",
    "    for folder_name in os.listdir(data_directory):\n",
    "        folder_path = os.path.join(data_directory, folder_name)\n",
    "\n",
    "        # Check if it's a directory and its name starts with \"CV_\"\n",
    "        if os.path.isdir(folder_path) and folder_name.startswith(\"CV_\"):\n",
    "            file_path = os.path.join(folder_path, filename)  # Use the provided filename\n",
    "\n",
    "            # Check if the file exists\n",
    "            if os.path.isfile(file_path):\n",
    "                with h5py.File(file_path, 'r') as hdf_file:\n",
    "                    # Read the mass data from the HDF5 file\n",
    "                    mass_data = hdf_file['Subhalo/SubhaloMassType'][:]\n",
    "                    \n",
    "                    # Remove 0 values from the mass data\n",
    "                    mass_data = mass_data[mass_data != 0]\n",
    "                    \n",
    "                    # Append the mass data array to the list\n",
    "                    # Multiply masses by 10^10 for solar masses\n",
    "                    mass_data = mass_data*1e10  # not logged\n",
    "                    mass_arrays_list.append(mass_data)\n",
    "                    \n",
    "                    # Read redshift from the snapshot file (assuming they are all the same)\n",
    "                    if redshift is None:\n",
    "                        snapshot_file = os.path.join(folder_path, snap_file)\n",
    "                        with h5py.File(snapshot_file, 'r') as snap_data:\n",
    "                            redshift = snap_data['Header'].attrs[u'Redshift']\n",
    "\n",
    "    # Combine the mass arrays into one NumPy array\n",
    "    combined_mass_array = np.concatenate(mass_arrays_list)\n",
    "    \n",
    "    return combined_mass_array, redshift\n"
   ]
  },
  {
   "cell_type": "code",
   "execution_count": 6,
   "id": "099db0f6",
   "metadata": {},
   "outputs": [
    {
     "name": "stdout",
     "output_type": "stream",
     "text": [
      "mass 033:  [1.2716822e+13 7.1810008e+13 6.4295463e+11 ... 1.6220157e+09 1.4273737e+09\n",
      " 1.6220157e+09]\n",
      "z 033: 0.000\n",
      "mass 026:  [9.2412188e+12 5.6585443e+13 5.6887155e+11 ... 1.4273737e+09 1.0610273e+07\n",
      " 1.7517769e+09]\n",
      "z 026: 0.397\n",
      "mass 013:  [3.0302675e+12 2.5306690e+13 4.2039493e+11 ... 1.4273737e+09 1.4273737e+09\n",
      " 1.6868964e+09]\n",
      "z 013: 1.601\n"
     ]
    }
   ],
   "source": [
    "mass_033, z_033 = combine_mass_data('fof_subhalo_tab_033.hdf5', 'snap_033.hdf5')\n",
    "mass_026, z_026 = combine_mass_data('fof_subhalo_tab_026.hdf5', 'snap_026.hdf5')\n",
    "mass_013, z_013 = combine_mass_data('fof_subhalo_tab_013.hdf5', 'snap_013.hdf5')\n",
    "\n",
    "print('mass 033: ', mass_033)\n",
    "print(\"z 033: %.3f\"%z_033)\n",
    "print('mass 026: ', mass_026)\n",
    "print(\"z 026: %.3f\"%z_026)\n",
    "print('mass 013: ', mass_013)\n",
    "print(\"z 013: %.3f\"%z_013)\n"
   ]
  },
  {
   "cell_type": "markdown",
   "id": "9b5d026c",
   "metadata": {},
   "source": [
    "mass_min, mass_max = mass_all026.min(), mass_all026.max()\n",
    "mass_range = [mass_min, mass_max]\n",
    "print('Mass Range: ',mass_range)"
   ]
  },
  {
   "cell_type": "code",
   "execution_count": 7,
   "id": "e47ddc25",
   "metadata": {},
   "outputs": [],
   "source": [
    "import numpy as np\n",
    "\n",
    "def calculate_stellar_mass_function(M, V, nbins):\n",
    "    \"\"\"\n",
    "    Calculate the stellar mass function.\n",
    "\n",
    "    Parameters:\n",
    "        logM (array): Array of logarithmic stellar masses.\n",
    "        V (float): Survey volume in Mpc^3.\n",
    "        nbins (int): Number of bins for the histogram.\n",
    "\n",
    "    Returns:\n",
    "        Max (array): Mass axis.\n",
    "        Phi (array): Normalized stellar mass function.\n",
    "    \"\"\"\n",
    "    logM = np.log10(M)  # Logarithmic stellar masses\n",
    "    Phi, edg = np.histogram(logM, bins=nbins)  # Unnormalized histogram and bin edges\n",
    "    dM = edg[1] - edg[0]  # Bin size\n",
    "    Max = edg[:-1] + dM / 2.0  # Mass axis\n",
    "    Phi = Phi / V / dM  # Normalize to volume and bin size\n",
    "\n",
    "    return Max, Phi\n"
   ]
  },
  {
   "cell_type": "code",
   "execution_count": 8,
   "id": "aabfad4d",
   "metadata": {},
   "outputs": [],
   "source": [
    "#V = Vcom          # Survey volume in Mpc^3\n",
    "nbins = 20         # Number of bins\n",
    "V = BoxSize**3     #Survey volume in Mpc3\n",
    "\n",
    "Max_033, Phi_033 = calculate_stellar_mass_function(mass_033, V, nbins)\n",
    "Max_026, Phi_026 = calculate_stellar_mass_function(mass_026, V, nbins)\n",
    "Max_013, Phi_013 = calculate_stellar_mass_function(mass_013, V, nbins)\n",
    "\n",
    "# Now you can plot Max and Phi or perform any other desired operations."
   ]
  },
  {
   "cell_type": "code",
   "execution_count": 16,
   "id": "342a7e78",
   "metadata": {
    "scrolled": true
   },
   "outputs": [
    {
     "data": {
      "text/plain": [
       "Text(0.5, 1.0, 'Stellar Mass Function')"
      ]
     },
     "execution_count": 16,
     "metadata": {},
     "output_type": "execute_result"
    },
    {
     "data": {
      "image/png": "[encoded data removed]",
      "text/plain": [
       "<Figure size 640x480 with 1 Axes>"
      ]
     },
     "metadata": {},
     "output_type": "display_data"
    }
   ],
   "source": [
    "label_033=\"SMF z = %.2f\"%z_033\n",
    "label_026=\"SMF z = %.2f\"%z_026\n",
    "label_013=\"SMF z = %.2f\"%z_013\n",
    "\n",
    "plt.clf()\n",
    "#plt.xlim(0, np.max(Max))  # Adjust the limits as needed\n",
    "#plt.yscale('log')\n",
    "#plt.xscale('log')\n",
    "\n",
    "plt.xlabel(r'Stellar Mass $log(M_\\star\\,/\\,M_\\odot)$')\n",
    "plt.ylabel(r'$log(\\Phi)\\,[\\mathrm{dex}^{-1}\\,\\mathrm{Mpc}^{-3}]$')\n",
    "plt.plot(Max_033, Phi_033, linestyle='-', marker='+', markersize=5, color=np.random.rand(3,), label=label_033)\n",
    "plt.plot(Max_026, Phi_026, linestyle='-', marker='o', markersize=5, color=np.random.rand(3,), label=label_026)\n",
    "plt.plot(Max_013, Phi_013, linestyle='-', marker='^', markersize=5, color=np.random.rand(3,), label=label_013)\n",
    "plt.legend(loc='upper right')  # Add a legend with label for the data\n",
    "\n",
    "plt.title('Stellar Mass Function')  # Add a title to the plot\n",
    "#plt.savefig('/Users/am/Documents/PhD/Main/CAMELS/SMF/plots/SMF_zs')"
   ]
  },
  {
   "cell_type": "code",
   "execution_count": null,
   "id": "7c9cf5f4",
   "metadata": {},
   "outputs": [],
   "source": []
  },
  {
   "cell_type": "code",
   "execution_count": null,
   "id": "4c71eee2",
   "metadata": {},
   "outputs": [],
   "source": []
  }
 ],
 "metadata": {
  "kernelspec": {
   "display_name": "Python 3 (ipykernel)",
   "language": "python",
   "name": "python3"
  },
  "language_info": {
   "codemirror_mode": {
    "name": "ipython",
    "version": 3
   },
   "file_extension": ".py",
   "mimetype": "text/x-python",
   "name": "python",
   "nbconvert_exporter": "python",
   "pygments_lexer": "ipython3",
   "version": "3.9.15"
  }
 },
 "nbformat": 4,
 "nbformat_minor": 5
}
