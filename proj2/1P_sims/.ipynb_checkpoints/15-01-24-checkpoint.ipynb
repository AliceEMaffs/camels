{
 "cells": [
  {
   "cell_type": "code",
   "execution_count": 1,
   "id": "83298bab-0bd0-4773-81ef-079dc4853418",
   "metadata": {
    "tags": []
   },
   "outputs": [],
   "source": [
    "import numpy as np\n",
    "import h5py"
   ]
  },
  {
   "cell_type": "code",
   "execution_count": 2,
   "id": "51edde9f",
   "metadata": {
    "tags": []
   },
   "outputs": [],
   "source": [
    "# stellar mass function\n",
    "# Subfind files contain subhalo (galaxy properties)\n",
    "# Mass of all Star particles associated with a subhalo is given by: SubHaloMassType\n",
    "# CV_25 for z=0.47, use file fof_subhalo_tab_025.hdf5\n",
    "# get the name of the snapshot and its corresponding Subfind catalog\n",
    "#f_snapshot = '/home/jovyan/Data/Sims/IllustrisTNG/CV/CV_25/snap_025.hdf5'\n",
    "#f_catalog  = '/home/jovyan/Data/FOF_Subfind/IllustrisTNG/CV/CV_25/fof_subhalo_tab_025.hdf5'\n",
    "# Lets do z=0 for now for reference to publication\n",
    "f_snapshot = '/home/jovyan/Data/Sims/IllustrisTNG/CV/CV_0/snap_033.hdf5'\n",
    "f_catalog  = '/home/jovyan/Data/FOF_Subfind/IllustrisTNG/CV/CV_0/fof_subhalo_tab_033.hdf5'"
   ]
  },
  {
   "cell_type": "code",
   "execution_count": 3,
   "id": "de8b0145-13f1-4818-a631-8cb2514a7b35",
   "metadata": {
    "tags": []
   },
   "outputs": [],
   "source": [
    "#f_snapshot = '/home/jovyan/Data/Sims/IllustrisTNG/CV/CV_0/snap_033.hdf5'\n",
    "#f_catalog  = '/home/jovyan/Data/FOF_Subfind/IllustrisTNG/CV/CV_0/fof_subhalo_tab_033.hdf5'"
   ]
  },
  {
   "cell_type": "code",
   "execution_count": 4,
   "id": "721c5ad9-acea-4f16-b986-e6ba574e9e26",
   "metadata": {
    "tags": []
   },
   "outputs": [
    {
     "name": "stdout",
     "output_type": "stream",
     "text": [
      "<KeysViewHDF5 ['Config', 'Group', 'Header', 'IDs', 'Parameters', 'Subhalo']>\n"
     ]
    }
   ],
   "source": [
    "f = h5py.File(f_catalog, 'r')\n",
    "print(f.keys())"
   ]
  },
  {
   "cell_type": "code",
   "execution_count": null,
   "id": "4fcf31fe-e9ba-48dd-8b4f-01e6cfc813a1",
   "metadata": {},
   "outputs": [],
   "source": [
    "# SubhaloMassType\tfloat32\tN,6\t1010𝑀⊙/ℎ\n",
    "# Total mass of all member particle/cells which are bound to this Subhalo, separated by type. \n",
    "# Particle/cells bound to subhaloes of this Subhalo are NOT accounted for. \n",
    "# Note: Wind phase cells are counted as gas (type 0) for SubhaloMassType."
   ]
  },
  {
   "cell_type": "code",
   "execution_count": 9,
   "id": "67f994de-effe-4163-9ec5-8f3d5153dfe5",
   "metadata": {
    "tags": []
   },
   "outputs": [],
   "source": [
    "import pandas as pd\n",
    "f['Subhalo'].keys()\n",
    "df = pd.DataFrame(f['Subhalo'].values())"
   ]
  },
  {
   "cell_type": "code",
   "execution_count": 16,
   "id": "47512e59-f333-4478-be9a-91916c96c3aa",
   "metadata": {
    "tags": []
   },
   "outputs": [],
   "source": [
    "df = pd.DataFrame(np.array(h5py.File(f_catalog)['Subhalo']['SubhaloMassType']))"
   ]
  },
  {
   "cell_type": "code",
   "execution_count": 24,
   "id": "3cda56f1-9e5e-4955-8e13-3a730325cf51",
   "metadata": {
    "tags": []
   },
   "outputs": [
    {
     "data": {
      "text/html": [
       "<div>\n",
       "<style scoped>\n",
       "    .dataframe tbody tr th:only-of-type {\n",
       "        vertical-align: middle;\n",
       "    }\n",
       "\n",
       "    .dataframe tbody tr th {\n",
       "        vertical-align: top;\n",
       "    }\n",
       "\n",
       "    .dataframe thead th {\n",
       "        text-align: right;\n",
       "    }\n",
       "</style>\n",
       "<table border=\"1\" class=\"dataframe\">\n",
       "  <thead>\n",
       "    <tr style=\"text-align: right;\">\n",
       "      <th></th>\n",
       "      <th>gas</th>\n",
       "      <th>dm</th>\n",
       "      <th>tracers</th>\n",
       "      <th>bhs</th>\n",
       "      <th>stars</th>\n",
       "      <th>BHs</th>\n",
       "    </tr>\n",
       "  </thead>\n",
       "  <tbody>\n",
       "    <tr>\n",
       "      <th>0</th>\n",
       "      <td>631.255737</td>\n",
       "      <td>4307.957031</td>\n",
       "      <td>0.0</td>\n",
       "      <td>0.0</td>\n",
       "      <td>42.678936</td>\n",
       "      <td>0.358929</td>\n",
       "    </tr>\n",
       "    <tr>\n",
       "      <th>1</th>\n",
       "      <td>0.984040</td>\n",
       "      <td>27.022781</td>\n",
       "      <td>0.0</td>\n",
       "      <td>0.0</td>\n",
       "      <td>2.398532</td>\n",
       "      <td>0.006129</td>\n",
       "    </tr>\n",
       "    <tr>\n",
       "      <th>2</th>\n",
       "      <td>0.676999</td>\n",
       "      <td>21.897211</td>\n",
       "      <td>0.0</td>\n",
       "      <td>0.0</td>\n",
       "      <td>1.551164</td>\n",
       "      <td>0.007869</td>\n",
       "    </tr>\n",
       "    <tr>\n",
       "      <th>3</th>\n",
       "      <td>0.672582</td>\n",
       "      <td>19.859961</td>\n",
       "      <td>0.0</td>\n",
       "      <td>0.0</td>\n",
       "      <td>1.581151</td>\n",
       "      <td>0.009738</td>\n",
       "    </tr>\n",
       "    <tr>\n",
       "      <th>4</th>\n",
       "      <td>1.391514</td>\n",
       "      <td>15.506470</td>\n",
       "      <td>0.0</td>\n",
       "      <td>0.0</td>\n",
       "      <td>0.151477</td>\n",
       "      <td>0.002269</td>\n",
       "    </tr>\n",
       "    <tr>\n",
       "      <th>...</th>\n",
       "      <td>...</td>\n",
       "      <td>...</td>\n",
       "      <td>...</td>\n",
       "      <td>...</td>\n",
       "      <td>...</td>\n",
       "      <td>...</td>\n",
       "    </tr>\n",
       "    <tr>\n",
       "      <th>17171</th>\n",
       "      <td>0.000000</td>\n",
       "      <td>0.175178</td>\n",
       "      <td>0.0</td>\n",
       "      <td>0.0</td>\n",
       "      <td>0.000000</td>\n",
       "      <td>0.000000</td>\n",
       "    </tr>\n",
       "    <tr>\n",
       "      <th>17172</th>\n",
       "      <td>0.000000</td>\n",
       "      <td>0.168690</td>\n",
       "      <td>0.0</td>\n",
       "      <td>0.0</td>\n",
       "      <td>0.000000</td>\n",
       "      <td>0.000000</td>\n",
       "    </tr>\n",
       "    <tr>\n",
       "      <th>17173</th>\n",
       "      <td>0.000000</td>\n",
       "      <td>0.162202</td>\n",
       "      <td>0.0</td>\n",
       "      <td>0.0</td>\n",
       "      <td>0.000000</td>\n",
       "      <td>0.000000</td>\n",
       "    </tr>\n",
       "    <tr>\n",
       "      <th>17174</th>\n",
       "      <td>0.000676</td>\n",
       "      <td>0.155714</td>\n",
       "      <td>0.0</td>\n",
       "      <td>0.0</td>\n",
       "      <td>0.000000</td>\n",
       "      <td>0.000000</td>\n",
       "    </tr>\n",
       "    <tr>\n",
       "      <th>17175</th>\n",
       "      <td>0.000000</td>\n",
       "      <td>0.175178</td>\n",
       "      <td>0.0</td>\n",
       "      <td>0.0</td>\n",
       "      <td>0.000000</td>\n",
       "      <td>0.000000</td>\n",
       "    </tr>\n",
       "  </tbody>\n",
       "</table>\n",
       "<p>17176 rows × 6 columns</p>\n",
       "</div>"
      ],
      "text/plain": [
       "              gas           dm  tracers  bhs      stars       BHs\n",
       "0      631.255737  4307.957031      0.0  0.0  42.678936  0.358929\n",
       "1        0.984040    27.022781      0.0  0.0   2.398532  0.006129\n",
       "2        0.676999    21.897211      0.0  0.0   1.551164  0.007869\n",
       "3        0.672582    19.859961      0.0  0.0   1.581151  0.009738\n",
       "4        1.391514    15.506470      0.0  0.0   0.151477  0.002269\n",
       "...           ...          ...      ...  ...        ...       ...\n",
       "17171    0.000000     0.175178      0.0  0.0   0.000000  0.000000\n",
       "17172    0.000000     0.168690      0.0  0.0   0.000000  0.000000\n",
       "17173    0.000000     0.162202      0.0  0.0   0.000000  0.000000\n",
       "17174    0.000676     0.155714      0.0  0.0   0.000000  0.000000\n",
       "17175    0.000000     0.175178      0.0  0.0   0.000000  0.000000\n",
       "\n",
       "[17176 rows x 6 columns]"
      ]
     },
     "execution_count": 24,
     "metadata": {},
     "output_type": "execute_result"
    }
   ],
   "source": [
    "df = df.rename(columns={0: \"gas\", 1: \"dm\", 2: \"tracers\", 3: \"bhs\", 4:\"stars\",5:\"BHs\"})\n",
    "df"
   ]
  },
  {
   "cell_type": "code",
   "execution_count": null,
   "id": "3b47b10d-2276-4556-9e31-aa0a0fe5ac62",
   "metadata": {
    "tags": []
   },
   "outputs": [],
   "source": [
    "starMass = f['Subhalo/SubhaloMassType'][:] # in 10^10𝑀⊙/ℎ\n",
    "# h = 0.6711, I think seed = 1 for this CV_0 subset. "
   ]
  },
  {
   "cell_type": "code",
   "execution_count": 28,
   "id": "e1b677f9-185c-482a-b15e-2ead2bf02d3f",
   "metadata": {
    "tags": []
   },
   "outputs": [
    {
     "data": {
      "text/plain": [
       "[<matplotlib.lines.Line2D at 0x7f18e3bbcac0>]"
      ]
     },
     "execution_count": 28,
     "metadata": {},
     "output_type": "execute_result"
    },
    {
     "data": {
      "image/png": "[encoded data removed]",
      "text/plain": [
       "<Figure size 640x480 with 1 Axes>"
      ]
     },
     "metadata": {},
     "output_type": "display_data"
    }
   ],
   "source": [
    "import matplotlib.pyplot as plt\n",
    "plt.plot(df['stars'])"
   ]
  },
  {
   "cell_type": "code",
   "execution_count": null,
   "id": "66459201-ec95-42a4-a29c-abbb4f2d87d9",
   "metadata": {
    "tags": []
   },
   "outputs": [],
   "source": [
    "starMass.shape\n",
    "# This must be the 6 mass types. \n",
    "#PartType0 (Gas)\n",
    "#PartType1 (DM)\n",
    "#PartType3 (Tracers)\n",
    "#PartType4 (Stars)\n",
    "#PartType5 (BHs)\n",
    "\n",
    "# so we want PartType4 so [] -lets just follow the tutorial before we move on.\n",
    "# I think there is a way to get the particle data (PartType4) with the associated halo/galaxy"
   ]
  },
  {
   "cell_type": "code",
   "execution_count": null,
   "id": "b7f1294b-2d64-47b4-adbc-b06cadbb8eb9",
   "metadata": {
    "tags": []
   },
   "outputs": [],
   "source": [
    "starMass"
   ]
  },
  {
   "cell_type": "code",
   "execution_count": null,
   "id": "359b7b5e-7149-4060-9c4f-76120201eb9a",
   "metadata": {
    "tags": []
   },
   "outputs": [],
   "source": [
    "# Now, lets read the positions, velocities, masses, and lenghts of the halos\n",
    "pos_h     = f['Group/GroupPos'][:]/1e3   #Mpc/h\n",
    "vel_h     = f['Group/GroupVel'][:]       #km/s\n",
    "SFR_h     = f['Group/GroupSFR'][:]       #Msun/yr\n",
    "mass_h    = f['Group/GroupMass'][:]*1e10 #Msun/h\n",
    "len_h     = f['Group/GroupLen'][:]       #the total number of particles in the halo (gas+dm+stars+black_holes)\n",
    "lentype_h = f['Group/GroupLenType'][:]   #the number of particles in a halo by particle type\n",
    "#f.close()"
   ]
  },
  {
   "cell_type": "code",
   "execution_count": null,
   "id": "20eba5a1-d8e9-4794-868c-0ad53d9015eb",
   "metadata": {
    "tags": []
   },
   "outputs": [],
   "source": [
    "# Lets print the position, velocity, mass and length of a given halo\n",
    "\n",
    "index = 167 #index of the halo\n",
    "print('position:',pos_h[index],'Mpc/h')\n",
    "print('velocity:',vel_h[index],'km/s')\n",
    "print('mass: %.3e Msun/h'%mass_h[index])\n",
    "print('total length:',len_h[index],'particles')\n",
    "print('number of particles by type:',lentype_h[index])\n"
   ]
  },
  {
   "cell_type": "code",
   "execution_count": null,
   "id": "b64754a4-037b-4c79-ae68-b92c649011ac",
   "metadata": {
    "tags": []
   },
   "outputs": [],
   "source": [
    "# Now imagine we want to select the star mass particles that belong to this halo. \n",
    "# For this, we need to know where the particles start in the list. \n",
    "# This can be done as follows:\n",
    "\n",
    "offset = np.sum(lentype_h[:index], axis=0) \n",
    "#this is the sum of the lengths of all FoF halos previous to the one we consider\n",
    "offset"
   ]
  },
  {
   "cell_type": "code",
   "execution_count": null,
   "id": "4ea5c4e8-6cad-49b0-89b0-bc5cdc519054",
   "metadata": {
    "tags": []
   },
   "outputs": [],
   "source": [
    "#We can now read the particles in the snapshot and identify the ones in this halo as\n",
    "\n",
    "f = h5py.File(f_snapshot, 'r')\n",
    "print(f.keys())\n",
    "# PartType4 is the one we want\n"
   ]
  },
  {
   "cell_type": "code",
   "execution_count": null,
   "id": "7d7963dc-18a8-4199-b4c1-04e59d476a1d",
   "metadata": {
    "tags": []
   },
   "outputs": [],
   "source": [
    "#Lets see what star mass properties do we have\n",
    "print(f['PartType4'].keys())\n",
    "\n"
   ]
  },
  {
   "cell_type": "code",
   "execution_count": null,
   "id": "9d9cf787-adf6-429f-9a81-34c97b1179d7",
   "metadata": {
    "tags": []
   },
   "outputs": [],
   "source": [
    "# The gas type properties would be PartType0\n",
    "print(f['PartType0'].keys())\n"
   ]
  },
  {
   "cell_type": "code",
   "execution_count": null,
   "id": "6d2fa858-0f31-4822-82c9-a0fcb0ba776c",
   "metadata": {
    "tags": []
   },
   "outputs": [],
   "source": [
    "# Now, lets read the positions, velocities, \n",
    "# and star formation rates of the gas particles in the above halo\n",
    "# the gas particles of this halos will start at offset[0] and will contain lentype_h[0] particles\n",
    "start = offset[0]\n",
    "end   = offset[0]+lentype_h[index,0]\n",
    "pos_gas = f['PartType0/Coordinates'][start:end]/1e3   #Mpc/h\n",
    "vel_gas = f['PartType0/Velocities'][start:end]        #km/s\n",
    "sfr_gas = f['PartType0/StarFormationRate'][start:end] #Msun/yr\n",
    "#f.close()\n",
    "\n",
    "\n",
    "#pos_dm = f['PartType1/Coordinates'][:]/1e3   #Mpc/h\n",
    "#vel_dm = f['PartType1/Velocities'][:]        #km/s"
   ]
  },
  {
   "cell_type": "code",
   "execution_count": null,
   "id": "b002e865-5511-477e-8536-318176fdd012",
   "metadata": {
    "tags": []
   },
   "outputs": [],
   "source": [
    "sfr_gas"
   ]
  },
  {
   "cell_type": "code",
   "execution_count": null,
   "id": "11c01521-9caf-4728-8fa5-80d7a9f8e027",
   "metadata": {
    "tags": []
   },
   "outputs": [],
   "source": [
    "vel_gas"
   ]
  },
  {
   "cell_type": "code",
   "execution_count": null,
   "id": "fa3f3558-3686-4bd8-9394-70418ff75fcb",
   "metadata": {
    "tags": []
   },
   "outputs": [],
   "source": [
    "pos_gas"
   ]
  },
  {
   "cell_type": "code",
   "execution_count": null,
   "id": "3e2e5647-6930-46cd-a017-f8a47e6b85ad",
   "metadata": {
    "tags": []
   },
   "outputs": [],
   "source": [
    "# test\n",
    "# similarly lets rad the initial mass, photometrics and masses and velocities of the halo\n",
    "start = offset[0]\n",
    "end   = offset[0]+lentype_h[index,0]\n",
    "iniMass_stars = f['PartType4/GFM_InitialMass'][:]\n",
    "phot_stars = f['PartType4/GFM_StellarPhotometrics'][:]\n",
    "mass_stars = f['PartType4/Masses'][:] #10^10𝑀⊙/ℎ\n",
    "vel_stars = f['PartType4/Velocities'][:]        #km/s\n"
   ]
  },
  {
   "cell_type": "code",
   "execution_count": null,
   "id": "612bb157-6205-4e7a-85ce-95022b227d35",
   "metadata": {
    "tags": []
   },
   "outputs": [],
   "source": [
    "vel_stars"
   ]
  },
  {
   "cell_type": "code",
   "execution_count": null,
   "id": "749545be-4500-4a91-9e71-b93b3af127bc",
   "metadata": {
    "tags": []
   },
   "outputs": [],
   "source": [
    "mass_stars"
   ]
  },
  {
   "cell_type": "code",
   "execution_count": null,
   "id": "857971c6-2caa-416a-98ec-99f4ea02a431",
   "metadata": {
    "tags": []
   },
   "outputs": [],
   "source": [
    "iniMass_stars"
   ]
  },
  {
   "cell_type": "code",
   "execution_count": null,
   "id": "7ec153e0-6470-49c5-bee8-b1527d841e52",
   "metadata": {
    "tags": []
   },
   "outputs": [],
   "source": [
    "phot_stars"
   ]
  },
  {
   "cell_type": "code",
   "execution_count": null,
   "id": "600a5d13-9e18-4ac7-a4e4-5e2fe4e8519d",
   "metadata": {
    "tags": []
   },
   "outputs": [],
   "source": [
    "#Lets check if the positions of the particles are around the center of the halo\n"
   ]
  },
  {
   "cell_type": "code",
   "execution_count": null,
   "id": "040d96d9-83ce-4c07-a98c-a0df81926562",
   "metadata": {
    "tags": []
   },
   "outputs": [],
   "source": [
    "import matplotlib.pyplot as plt\n",
    "from pylab import *\n",
    "fig = figure(figsize=(20,10))\n",
    "ax1 = fig.add_subplot(231)\n",
    "ax2 = fig.add_subplot(232)\n",
    "ax3 = fig.add_subplot(233)\n",
    "ax4 = fig.add_subplot(234)\n",
    "ax5 = fig.add_subplot(235)\n",
    "ax6 = fig.add_subplot(236)\n",
    "for ax in [ax1,ax2,ax3]:\n",
    "    ax.set_aspect('equal')\n",
    "    ax.set_xlim([0,25])\n",
    "    ax.set_ylim([0,25])\n",
    "ax1.scatter(pos_gas[:,0], pos_gas[:,1], s=0.1,c='r')\n",
    "ax2.scatter(pos_gas[:,0], pos_gas[:,2], s=0.1,c='r')\n",
    "ax3.scatter(pos_gas[:,1], pos_gas[:,2], s=0.1,c='r')\n",
    "ax1.scatter(pos_h[index,0], pos_h[index,1], s=10, c='b')\n",
    "ax2.scatter(pos_h[index,0], pos_h[index,2], s=10, c='b')\n",
    "ax3.scatter(pos_h[index,1], pos_h[index,2], s=10, c='b')\n",
    "# now make a zoom-in\n",
    "ax4.scatter(pos_gas[:,0], pos_gas[:,1], s=0.1,c='r')\n",
    "ax5.scatter(pos_gas[:,0], pos_gas[:,2], s=0.1,c='r')\n",
    "ax6.scatter(pos_gas[:,1], pos_gas[:,2], s=0.1,c='r')\n",
    "ax4.scatter(pos_h[index,0], pos_h[index,1], s=30, c='b')\n",
    "ax5.scatter(pos_h[index,0], pos_h[index,2], s=30, c='b')\n",
    "ax6.scatter(pos_h[index,1], pos_h[index,2], s=30, c='b')\n",
    "plt.show()"
   ]
  },
  {
   "cell_type": "code",
   "execution_count": null,
   "id": "70395c5d-9f4f-44dd-a03c-019817b978e9",
   "metadata": {
    "tags": []
   },
   "outputs": [],
   "source": [
    "SFR1 = np.sum(sfr_gas)\n",
    "print('SFR from the gas particles = %.3e Msun/yr'%SFR1)\n",
    "print('SFR of the FoF group = %.3e Msun/yr'%SFR_h[index])"
   ]
  },
  {
   "cell_type": "code",
   "execution_count": null,
   "id": "0e6e3d3a-ea92-491e-be89-fb4c8d68ec34",
   "metadata": {
    "tags": []
   },
   "outputs": [],
   "source": [
    "mass_stars"
   ]
  },
  {
   "cell_type": "code",
   "execution_count": null,
   "id": "e8462c1a-e7ee-4f13-bc24-51e06f5bd80c",
   "metadata": {
    "tags": []
   },
   "outputs": [],
   "source": [
    "def calc_df(mstar, volume, massBinLimits):\n",
    "\n",
    "    hist, dummy = np.histogram(np.log10(mstar), bins = massBinLimits)\n",
    "    hist = np.float64(hist)\n",
    "    phi = (hist / volume) / (massBinLimits[1] - massBinLimits[0])\n",
    "\n",
    "    # p = 0.95\n",
    "    # phi_sigma = np.array([scipy.stats.chi2.ppf((1.-p)/2.,2*hist)/2.,\n",
    "    #                       scipy.stats.chi2.ppf(p+(1.-p)/2.,2*(hist+1))/2.])\n",
    "\n",
    "    # phi_sigma = (phi_sigma / volume) / (massBinLimits[1] - massBinLimits[0])\n",
    "\n",
    "    phi_sigma = (np.sqrt(hist) / volume) /\\\n",
    "                (massBinLimits[1] - massBinLimits[0]) # Poisson errors\n",
    "\n",
    "    return phi, phi_sigma, hist"
   ]
  },
  {
   "cell_type": "code",
   "execution_count": null,
   "id": "8165349e-1df5-4c99-94d3-2ff56d660262",
   "metadata": {
    "tags": []
   },
   "outputs": [],
   "source": [
    "vol = 25\n",
    "\n",
    "# Assuming you want 10 equally spaced bins in log from 10^9 to 5 × 10^11\n",
    "BinLim = np.logspace(9, np.log10(5e11), 11)\n",
    "# The massBinLimits array will have 11 elements, defining the edges of 10 bins\n",
    "\n",
    "phi, phi_sigma, hist = calc_df(mass_stars, vol, BinLim)\n",
    "# The volume of the simulations is (25 h−1Mpc)3."
   ]
  },
  {
   "cell_type": "code",
   "execution_count": null,
   "id": "4f08276d-147b-40ea-a0d7-dcf918a64852",
   "metadata": {
    "tags": []
   },
   "outputs": [],
   "source": [
    "hist"
   ]
  },
  {
   "cell_type": "code",
   "execution_count": null,
   "id": "6dad2ebb-2b1a-440f-ad71-739dd5d022e6",
   "metadata": {
    "tags": []
   },
   "outputs": [],
   "source": [
    "phi"
   ]
  },
  {
   "cell_type": "code",
   "execution_count": null,
   "id": "75ce3b65-49bc-4505-a2df-bf1d29fa1eb8",
   "metadata": {
    "tags": []
   },
   "outputs": [],
   "source": [
    "phi_sigma"
   ]
  },
  {
   "cell_type": "code",
   "execution_count": null,
   "id": "3b026783-a266-46e7-8953-73b8aee6efae",
   "metadata": {},
   "outputs": [],
   "source": [
    "f.close()"
   ]
  }
 ],
 "metadata": {
  "kernelspec": {
   "display_name": "Python 3 (ipykernel)",
   "language": "python",
   "name": "python3"
  },
  "language_info": {
   "codemirror_mode": {
    "name": "ipython",
    "version": 3
   },
   "file_extension": ".py",
   "mimetype": "text/x-python",
   "name": "python",
   "nbconvert_exporter": "python",
   "pygments_lexer": "ipython3",
   "version": "3.9.15"
  }
 },
 "nbformat": 4,
 "nbformat_minor": 5
}
