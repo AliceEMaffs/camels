{
 "cells": [
  {
   "cell_type": "code",
   "execution_count": 1,
   "id": "d1ed6b0b",
   "metadata": {},
   "outputs": [],
   "source": [
    "# Minimal Reproducable Example to check errors\n",
    "import numpy as np\n",
    "import h5py\n",
    "import hdf5plugin\n",
    "import matplotlib.pyplot as plt"
   ]
  },
  {
   "cell_type": "code",
   "execution_count": 2,
   "id": "feb21be9",
   "metadata": {},
   "outputs": [],
   "source": [
    "def mass_function(mass, volume, bins, range=None, poisson_uncert=False,\n",
    "                  return_edges=False, **kwargs):\n",
    "\n",
    "    if \"normed\" in kwargs:\n",
    "        kwargs[\"normed\"] = False\n",
    "        log.warn(\"Turned off normed kwarg in mass_function()\")\n",
    "\n",
    "    if (range is not None and (bins in ['blocks',\n",
    "                                        'knuth', 'knuths',\n",
    "                                        'scott', 'scotts',\n",
    "                                        'freedman', 'freedmans'])):\n",
    "        mass = mass[(mass >= range[0]) & (mass <= range[1])]\n",
    "\n",
    "    if isinstance(bins, str):\n",
    "        log.info(\"Calculating bin widths using `%s' method...\" % bins)\n",
    "        if bins in ['blocks']:\n",
    "            bins = bayesian_blocks(mass)\n",
    "        elif bins in ['knuth', 'knuths']:\n",
    "            dm, bins = knuth_bin_width(mass, True)\n",
    "        elif bins in ['scott', 'scotts']:\n",
    "            dm, bins = scotts_bin_width(mass, True)\n",
    "        elif bins in ['freedman', 'freedmans']:\n",
    "            dm, bins = freedman_bin_width(mass, True)\n",
    "        else:\n",
    "            raise ValueError(\"unrecognized bin code: '%s'\" % bins)\n",
    "        log.info(\"...done\")\n",
    "\n",
    "    vals, edges = np.histogram(mass, bins, range, **kwargs)\n",
    "    width = edges[1]-edges[0]\n",
    "    radius = width/2.0\n",
    "    centers = edges[:-1]+radius\n",
    "    if poisson_uncert:\n",
    "        uncert = np.sqrt(vals.astype(float))\n",
    "\n",
    "    vals = vals.astype(float) / (volume * width)\n",
    "\n",
    "    if not poisson_uncert:\n",
    "        mf = np.dstack((centers, vals)).squeeze()\n",
    "    else:\n",
    "        uncert /= (volume * width)\n",
    "        mf = np.dstack((centers, vals, uncert)).squeeze()\n",
    "\n",
    "    if not return_edges:\n",
    "        return mf\n",
    "    else:\n",
    "        return mf, edges"
   ]
  },
  {
   "cell_type": "code",
   "execution_count": 3,
   "id": "6e659e91",
   "metadata": {},
   "outputs": [
    {
     "name": "stdout",
     "output_type": "stream",
     "text": [
      "Box size:                 25.00 Mpc/h\n",
      "snapshot redshift:        0.40\n"
     ]
    }
   ],
   "source": [
    "## CV_0/snap_026.hdf5\n",
    "# Need to use PartType4 Masses for STELLAR Mass, not Halo mass\n",
    "snap_stars  = '/home/jovyan/Data/Sims/IllustrisTNG/CV/CV_0/snap_026.hdf5'\n",
    "data = h5py.File(snap_stars, 'r')\n",
    "BoxSize      = data['Header'].attrs[u'BoxSize']/1e3    #size of the snapshot in comoving Mpc/h\n",
    "redshift     = data['Header'].attrs[u'Redshift']       #reshift of the snapshot\n",
    "print('Box size:                 %.2f Mpc/h'%BoxSize)\n",
    "print('snapshot redshift:        %.2f'%redshift)"
   ]
  },
  {
   "cell_type": "code",
   "execution_count": 4,
   "id": "48d0c8f4",
   "metadata": {},
   "outputs": [
    {
     "data": {
      "text/plain": [
       "<KeysViewHDF5 ['Config', 'Group', 'Header', 'IDs', 'Parameters', 'Subhalo']>"
      ]
     },
     "execution_count": 4,
     "metadata": {},
     "output_type": "execute_result"
    }
   ],
   "source": [
    "## GALAXIES IN HALOES SO NEED GALAXY STELLAR MASS\n",
    "# get the name of Subfind halo catalog\n",
    "subhalos  = '/home/jovyan/Data/FOF_Subfind/IllustrisTNG/CV/CV_0/fof_subhalo_tab_026.hdf5'\n",
    "# read halo catalogue\n",
    "subh = h5py.File(subhalos, 'r')\n",
    "subh.keys()"
   ]
  },
  {
   "cell_type": "code",
   "execution_count": 5,
   "id": "0ec77deb",
   "metadata": {},
   "outputs": [
    {
     "data": {
      "text/plain": [
       "<KeysViewHDF5 ['SubhaloBHMass', 'SubhaloBHMdot', 'SubhaloBfldDisk', 'SubhaloBfldHalo', 'SubhaloCM', 'SubhaloGasMetalFractions', 'SubhaloGasMetalFractionsHalfRad', 'SubhaloGasMetalFractionsMaxRad', 'SubhaloGasMetalFractionsSfr', 'SubhaloGasMetalFractionsSfrWeighted', 'SubhaloGasMetallicity', 'SubhaloGasMetallicityHalfRad', 'SubhaloGasMetallicityMaxRad', 'SubhaloGasMetallicitySfr', 'SubhaloGasMetallicitySfrWeighted', 'SubhaloGrNr', 'SubhaloHalfmassRad', 'SubhaloHalfmassRadType', 'SubhaloIDMostbound', 'SubhaloLen', 'SubhaloLenType', 'SubhaloMass', 'SubhaloMassInHalfRad', 'SubhaloMassInHalfRadType', 'SubhaloMassInMaxRad', 'SubhaloMassInMaxRadType', 'SubhaloMassInRad', 'SubhaloMassInRadType', 'SubhaloMassType', 'SubhaloParent', 'SubhaloPos', 'SubhaloSFR', 'SubhaloSFRinHalfRad', 'SubhaloSFRinMaxRad', 'SubhaloSFRinRad', 'SubhaloSpin', 'SubhaloStarMetalFractions', 'SubhaloStarMetalFractionsHalfRad', 'SubhaloStarMetalFractionsMaxRad', 'SubhaloStarMetallicity', 'SubhaloStarMetallicityHalfRad', 'SubhaloStarMetallicityMaxRad', 'SubhaloStellarPhotometrics', 'SubhaloStellarPhotometricsMassInRad', 'SubhaloStellarPhotometricsRad', 'SubhaloVel', 'SubhaloVelDisp', 'SubhaloVmax', 'SubhaloVmaxRad', 'SubhaloWindMass']>"
      ]
     },
     "execution_count": 5,
     "metadata": {},
     "output_type": "execute_result"
    }
   ],
   "source": [
    "subh['Subhalo'].keys()"
   ]
  },
  {
   "cell_type": "code",
   "execution_count": 6,
   "id": "e42570d6",
   "metadata": {},
   "outputs": [
    {
     "data": {
      "text/plain": [
       "array([[4.58408356e+02, 3.71254077e+03, 0.00000000e+00, 0.00000000e+00,\n",
       "        3.32005348e+01, 2.27090687e-01],\n",
       "       [1.55289415e-02, 1.25998182e+01, 0.00000000e+00, 0.00000000e+00,\n",
       "        7.13820601e+00, 5.18528186e-02],\n",
       "       [2.13028240e+00, 3.20769806e+01, 0.00000000e+00, 0.00000000e+00,\n",
       "        1.49825788e+00, 7.66853802e-03],\n",
       "       ...,\n",
       "       [0.00000000e+00, 1.62201568e-01, 0.00000000e+00, 0.00000000e+00,\n",
       "        0.00000000e+00, 0.00000000e+00],\n",
       "       [0.00000000e+00, 1.62201568e-01, 0.00000000e+00, 0.00000000e+00,\n",
       "        0.00000000e+00, 0.00000000e+00],\n",
       "       [0.00000000e+00, 1.68689638e-01, 0.00000000e+00, 0.00000000e+00,\n",
       "        0.00000000e+00, 0.00000000e+00]], dtype=float32)"
      ]
     },
     "execution_count": 6,
     "metadata": {},
     "output_type": "execute_result"
    }
   ],
   "source": [
    "# the mass of all star particles associated with a subhalo, is given by SubhaloMassType\n",
    "mass_sol = subh['Subhalo/SubhaloMassType'][:] # in 1e10𝑀⊙/ℎ\n",
    "mass_sol"
   ]
  },
  {
   "cell_type": "code",
   "execution_count": 7,
   "id": "c1570b6d",
   "metadata": {},
   "outputs": [],
   "source": [
    "# remove 0 values\n",
    "mass_sol_nonzero = mass_sol[mass_sol > 0]"
   ]
  },
  {
   "cell_type": "code",
   "execution_count": 8,
   "id": "e6e95a30",
   "metadata": {},
   "outputs": [
    {
     "data": {
      "text/plain": [
       "array([29.153612, 31.245323, 26.528418, ..., 21.206936, 21.206936,\n",
       "       21.246157], dtype=float32)"
      ]
     },
     "execution_count": 8,
     "metadata": {},
     "output_type": "execute_result"
    }
   ],
   "source": [
    "mass_sol = np.log(mass_sol_nonzero*1e10)\n",
    "mass_sol"
   ]
  },
  {
   "cell_type": "code",
   "execution_count": 9,
   "id": "7533b363",
   "metadata": {},
   "outputs": [
    {
     "name": "stdout",
     "output_type": "stream",
     "text": [
      "Volume 15625.00 Mpc^3\n",
      "SMF [[3.71255836e+01 2.68710850e-02]\n",
      " [1.11376404e+02 3.01680185e-05]\n",
      " [1.85627213e+02 7.75749047e-06]\n",
      " [2.59878021e+02 6.89554708e-06]\n",
      " [3.34128815e+02 3.44777354e-06]\n",
      " [4.08379639e+02 3.44777354e-06]\n",
      " [4.82630432e+02 2.58583016e-06]\n",
      " [5.56881287e+02 1.72388677e-06]\n",
      " [6.31132080e+02 0.00000000e+00]\n",
      " [7.05382935e+02 0.00000000e+00]\n",
      " [7.79633728e+02 8.61943385e-07]\n",
      " [8.53884521e+02 8.61943385e-07]\n",
      " [9.28135376e+02 0.00000000e+00]\n",
      " [1.00238617e+03 8.61943385e-07]\n",
      " [1.07663696e+03 0.00000000e+00]\n",
      " [1.15088770e+03 0.00000000e+00]\n",
      " [1.22513855e+03 1.72388677e-06]\n",
      " [1.29938940e+03 0.00000000e+00]\n",
      " [1.37364014e+03 0.00000000e+00]\n",
      " [1.44789099e+03 0.00000000e+00]\n",
      " [1.52214172e+03 8.61943385e-07]\n",
      " [1.59639258e+03 0.00000000e+00]\n",
      " [1.67064343e+03 0.00000000e+00]\n",
      " [1.74489417e+03 0.00000000e+00]\n",
      " [1.81914502e+03 0.00000000e+00]\n",
      " [1.89339587e+03 0.00000000e+00]\n",
      " [1.96764661e+03 0.00000000e+00]\n",
      " [2.04189746e+03 0.00000000e+00]\n",
      " [2.11614844e+03 0.00000000e+00]\n",
      " [2.19039917e+03 0.00000000e+00]\n",
      " [2.26464990e+03 0.00000000e+00]\n",
      " [2.33890088e+03 0.00000000e+00]\n",
      " [2.41315161e+03 0.00000000e+00]\n",
      " [2.48740234e+03 0.00000000e+00]\n",
      " [2.56165332e+03 0.00000000e+00]\n",
      " [2.63590405e+03 0.00000000e+00]\n",
      " [2.71015479e+03 0.00000000e+00]\n",
      " [2.78440576e+03 0.00000000e+00]\n",
      " [2.85865649e+03 0.00000000e+00]\n",
      " [2.93290723e+03 0.00000000e+00]\n",
      " [3.00715820e+03 0.00000000e+00]\n",
      " [3.08140894e+03 0.00000000e+00]\n",
      " [3.15565967e+03 0.00000000e+00]\n",
      " [3.22991064e+03 0.00000000e+00]\n",
      " [3.30416138e+03 0.00000000e+00]\n",
      " [3.37841211e+03 0.00000000e+00]\n",
      " [3.45266309e+03 0.00000000e+00]\n",
      " [3.52691382e+03 0.00000000e+00]\n",
      " [3.60116455e+03 0.00000000e+00]\n",
      " [3.67541553e+03 8.61943385e-07]]\n"
     ]
    }
   ],
   "source": [
    "# Plotting the volume normalised number of galaxies in bins of stellar mass\n",
    "\n",
    "V = BoxSize**3 \n",
    "print('Volume %.2f Mpc^3'%V)\n",
    "\n",
    "smf = mass_function(mass_sol_nonzero,V, bins=50,range=None)\n",
    "print('SMF',smf)"
   ]
  },
  {
   "cell_type": "code",
   "execution_count": 10,
   "id": "36212bbb",
   "metadata": {},
   "outputs": [
    {
     "data": {
      "text/plain": [
       "array([[3.71255836e+01, 2.68710850e-02],\n",
       "       [1.11376404e+02, 3.01680185e-05],\n",
       "       [1.85627213e+02, 7.75749047e-06],\n",
       "       [2.59878021e+02, 6.89554708e-06],\n",
       "       [3.34128815e+02, 3.44777354e-06],\n",
       "       [4.08379639e+02, 3.44777354e-06],\n",
       "       [4.82630432e+02, 2.58583016e-06],\n",
       "       [5.56881287e+02, 1.72388677e-06],\n",
       "       [7.79633728e+02, 8.61943385e-07],\n",
       "       [8.53884521e+02, 8.61943385e-07],\n",
       "       [1.00238617e+03, 8.61943385e-07],\n",
       "       [1.22513855e+03, 1.72388677e-06],\n",
       "       [1.52214172e+03, 8.61943385e-07],\n",
       "       [3.67541553e+03, 8.61943385e-07]])"
      ]
     },
     "execution_count": 10,
     "metadata": {},
     "output_type": "execute_result"
    }
   ],
   "source": [
    "# Filter out zero values from the SMF array\n",
    "smf_nonzero = smf[smf[:, 1] != 0.0]\n",
    "smf_nonzero\n"
   ]
  },
  {
   "cell_type": "markdown",
   "id": "5b5ff5b3",
   "metadata": {},
   "source": [
    "\n",
    "smf_normalized = smf_nonzero[:, 1] / V\n",
    "smf_normalized"
   ]
  },
  {
   "cell_type": "code",
   "execution_count": 11,
   "id": "9f049260",
   "metadata": {},
   "outputs": [
    {
     "name": "stderr",
     "output_type": "stream",
     "text": [
      "/tmp/ipykernel_4178/1255450415.py:8: RuntimeWarning: divide by zero encountered in log\n",
      "  y = np.log(smf[:,1])\n",
      "/tmp/ipykernel_4178/1255450415.py:20: UserWarning: Data has no positive values, and therefore cannot be log-scaled.\n",
      "  ax.set_yscale('log')  # Apply logarithmic scale to the y-axis as well\n"
     ]
    },
    {
     "data": {
      "image/png": "[encoded data removed]",
      "text/plain": [
       "<Figure size 640x480 with 1 Axes>"
      ]
     },
     "metadata": {},
     "output_type": "display_data"
    }
   ],
   "source": [
    "#print(plot_number)\n",
    "fig, ax = plt.subplots(1, 1)\n",
    "plt.title(\"Stellar Mass Function test\")\n",
    "plot_label = ('Stellar mass in $M_{\\odot}$')\n",
    "\n",
    "# x,y\n",
    "x = smf[:,0]\n",
    "y = np.log(smf[:,1])\n",
    "\n",
    "ax.plot(x,y, color=np.random.rand(3,), lw=2,\n",
    "            label=plot_label)\n",
    "\n",
    "# Set the axis labels.\n",
    "# Note the use of LaTeX here.\n",
    "ax.set_xlabel(r\"$\\log_{10}({\\rm M_{\\odot}})$\")\n",
    "ax.set_ylabel(r\"$\\log_{10}(\\phi / {\\rm Mpc^3})$\")\n",
    "\n",
    "# Apply logarithmic scale to both x and y axes\n",
    "ax.set_xscale('log')\n",
    "ax.set_yscale('log')  # Apply logarithmic scale to the y-axis as well\n",
    "\n",
    "# Add the legend\n",
    "#ax.legend(loc=\"upper right\")\n",
    "\n",
    "# Finally save the figure as a PDF\n",
    "plt.tight_layout()"
   ]
  },
  {
   "cell_type": "code",
   "execution_count": null,
   "id": "ad9e0c7f",
   "metadata": {},
   "outputs": [],
   "source": []
  },
  {
   "cell_type": "code",
   "execution_count": null,
   "id": "03c618df",
   "metadata": {},
   "outputs": [],
   "source": []
  }
 ],
 "metadata": {
  "kernelspec": {
   "display_name": "Python 3 (ipykernel)",
   "language": "python",
   "name": "python3"
  },
  "language_info": {
   "codemirror_mode": {
    "name": "ipython",
    "version": 3
   },
   "file_extension": ".py",
   "mimetype": "text/x-python",
   "name": "python",
   "nbconvert_exporter": "python",
   "pygments_lexer": "ipython3",
   "version": "3.9.15"
  }
 },
 "nbformat": 4,
 "nbformat_minor": 5
}
