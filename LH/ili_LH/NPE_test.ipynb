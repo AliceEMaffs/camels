{
 "cells": [
  {
   "cell_type": "markdown",
   "metadata": {},
   "source": [
    "# ltu-ili jupyter interface\n",
    "This is a tutorial for using the ltu-ili inference framework in a jupyter notebook. \n",
    "\n",
    "This notebook assumes you have installed the ltu-ili package from the installation instructions in [INSTALL.md](../INSTALL.md)."
   ]
  },
  {
   "cell_type": "code",
   "execution_count": 1,
   "metadata": {
    "ExecuteTime": {
     "end_time": "2023-11-03T19:04:52.441763Z",
     "start_time": "2023-11-03T19:04:52.395335Z"
    }
   },
   "outputs": [
    {
     "name": "stdout",
     "output_type": "stream",
     "text": [
      "Device: cuda\n"
     ]
    }
   ],
   "source": [
    "%load_ext autoreload\n",
    "%autoreload 2\n",
    "\n",
    "# ignore warnings for readability\n",
    "import warnings\n",
    "warnings.filterwarnings('ignore')\n",
    "\n",
    "import pandas as pd\n",
    "import os\n",
    "import numpy as np\n",
    "\n",
    "# seaparate into train and test set.\n",
    "from sklearn.model_selection import train_test_split\n",
    "\n",
    "import matplotlib as mpl\n",
    "import matplotlib.pyplot as plt\n",
    "import matplotlib.gridspec as gridspec\n",
    "import matplotlib.colors as mcolors\n",
    "import torch\n",
    "from torch.distributions import Uniform, ExpTransform, TransformedDistribution #, AffineTransform\n",
    "\n",
    "import torch.nn as nn\n",
    "\n",
    "import ili\n",
    "from ili.dataloaders import NumpyLoader\n",
    "from ili.inference import InferenceRunner\n",
    "from ili.validation.metrics import PosteriorCoverage, PlotSinglePosterior\n",
    "\n",
    "from sbi.utils.user_input_checks import process_prior\n",
    "\n",
    "device = 'cuda' if torch.cuda.is_available() else 'cpu'\n",
    "print('Device:', device)"
   ]
  },
  {
   "cell_type": "markdown",
   "metadata": {},
   "source": [
    "# Get theta"
   ]
  },
  {
   "cell_type": "code",
   "execution_count": 2,
   "metadata": {},
   "outputs": [
    {
     "data": {
      "text/html": [
       "<div>\n",
       "<style scoped>\n",
       "    .dataframe tbody tr th:only-of-type {\n",
       "        vertical-align: middle;\n",
       "    }\n",
       "\n",
       "    .dataframe tbody tr th {\n",
       "        vertical-align: top;\n",
       "    }\n",
       "\n",
       "    .dataframe thead th {\n",
       "        text-align: right;\n",
       "    }\n",
       "</style>\n",
       "<table border=\"1\" class=\"dataframe\">\n",
       "  <thead>\n",
       "    <tr style=\"text-align: right;\">\n",
       "      <th></th>\n",
       "      <th>#Name</th>\n",
       "      <th>Omega_m</th>\n",
       "      <th>sigma_8</th>\n",
       "      <th>A_SN1</th>\n",
       "      <th>A_AGN1</th>\n",
       "      <th>A_SN2</th>\n",
       "      <th>A_AGN2</th>\n",
       "      <th>seed</th>\n",
       "    </tr>\n",
       "  </thead>\n",
       "  <tbody>\n",
       "    <tr>\n",
       "      <th>0</th>\n",
       "      <td>LH_0</td>\n",
       "      <td>0.3090</td>\n",
       "      <td>0.9790</td>\n",
       "      <td>3.11234</td>\n",
       "      <td>1.12194</td>\n",
       "      <td>0.66850</td>\n",
       "      <td>0.53182</td>\n",
       "      <td>0</td>\n",
       "    </tr>\n",
       "    <tr>\n",
       "      <th>1</th>\n",
       "      <td>LH_1</td>\n",
       "      <td>0.3026</td>\n",
       "      <td>0.9394</td>\n",
       "      <td>3.42001</td>\n",
       "      <td>3.96137</td>\n",
       "      <td>1.03311</td>\n",
       "      <td>1.16070</td>\n",
       "      <td>1</td>\n",
       "    </tr>\n",
       "    <tr>\n",
       "      <th>2</th>\n",
       "      <td>LH_2</td>\n",
       "      <td>0.4282</td>\n",
       "      <td>0.7530</td>\n",
       "      <td>0.70613</td>\n",
       "      <td>0.37423</td>\n",
       "      <td>1.96292</td>\n",
       "      <td>0.62720</td>\n",
       "      <td>2</td>\n",
       "    </tr>\n",
       "    <tr>\n",
       "      <th>3</th>\n",
       "      <td>LH_3</td>\n",
       "      <td>0.1906</td>\n",
       "      <td>0.6286</td>\n",
       "      <td>1.60882</td>\n",
       "      <td>0.39887</td>\n",
       "      <td>0.86634</td>\n",
       "      <td>0.86634</td>\n",
       "      <td>3</td>\n",
       "    </tr>\n",
       "    <tr>\n",
       "      <th>4</th>\n",
       "      <td>LH_4</td>\n",
       "      <td>0.1382</td>\n",
       "      <td>0.6874</td>\n",
       "      <td>1.19914</td>\n",
       "      <td>0.27586</td>\n",
       "      <td>0.82188</td>\n",
       "      <td>0.91700</td>\n",
       "      <td>4</td>\n",
       "    </tr>\n",
       "    <tr>\n",
       "      <th>...</th>\n",
       "      <td>...</td>\n",
       "      <td>...</td>\n",
       "      <td>...</td>\n",
       "      <td>...</td>\n",
       "      <td>...</td>\n",
       "      <td>...</td>\n",
       "      <td>...</td>\n",
       "      <td>...</td>\n",
       "    </tr>\n",
       "    <tr>\n",
       "      <th>995</th>\n",
       "      <td>LH_995</td>\n",
       "      <td>0.1342</td>\n",
       "      <td>0.7202</td>\n",
       "      <td>0.48163</td>\n",
       "      <td>0.25174</td>\n",
       "      <td>1.74231</td>\n",
       "      <td>0.76684</td>\n",
       "      <td>995</td>\n",
       "    </tr>\n",
       "    <tr>\n",
       "      <th>996</th>\n",
       "      <td>LH_996</td>\n",
       "      <td>0.1854</td>\n",
       "      <td>0.7978</td>\n",
       "      <td>0.30566</td>\n",
       "      <td>1.79751</td>\n",
       "      <td>1.51887</td>\n",
       "      <td>0.53403</td>\n",
       "      <td>996</td>\n",
       "    </tr>\n",
       "    <tr>\n",
       "      <th>997</th>\n",
       "      <td>LH_997</td>\n",
       "      <td>0.1582</td>\n",
       "      <td>0.7854</td>\n",
       "      <td>0.93952</td>\n",
       "      <td>2.23148</td>\n",
       "      <td>1.85446</td>\n",
       "      <td>1.32961</td>\n",
       "      <td>997</td>\n",
       "    </tr>\n",
       "    <tr>\n",
       "      <th>998</th>\n",
       "      <td>LH_998</td>\n",
       "      <td>0.3854</td>\n",
       "      <td>0.9778</td>\n",
       "      <td>0.93692</td>\n",
       "      <td>0.42869</td>\n",
       "      <td>1.48761</td>\n",
       "      <td>1.32042</td>\n",
       "      <td>998</td>\n",
       "    </tr>\n",
       "    <tr>\n",
       "      <th>999</th>\n",
       "      <td>LH_999</td>\n",
       "      <td>0.4322</td>\n",
       "      <td>0.6142</td>\n",
       "      <td>1.28521</td>\n",
       "      <td>0.35799</td>\n",
       "      <td>1.15910</td>\n",
       "      <td>0.86754</td>\n",
       "      <td>999</td>\n",
       "    </tr>\n",
       "  </tbody>\n",
       "</table>\n",
       "<p>1000 rows × 8 columns</p>\n",
       "</div>"
      ],
      "text/plain": [
       "      #Name  Omega_m  sigma_8    A_SN1   A_AGN1    A_SN2   A_AGN2  seed\n",
       "0      LH_0   0.3090   0.9790  3.11234  1.12194  0.66850  0.53182     0\n",
       "1      LH_1   0.3026   0.9394  3.42001  3.96137  1.03311  1.16070     1\n",
       "2      LH_2   0.4282   0.7530  0.70613  0.37423  1.96292  0.62720     2\n",
       "3      LH_3   0.1906   0.6286  1.60882  0.39887  0.86634  0.86634     3\n",
       "4      LH_4   0.1382   0.6874  1.19914  0.27586  0.82188  0.91700     4\n",
       "..      ...      ...      ...      ...      ...      ...      ...   ...\n",
       "995  LH_995   0.1342   0.7202  0.48163  0.25174  1.74231  0.76684   995\n",
       "996  LH_996   0.1854   0.7978  0.30566  1.79751  1.51887  0.53403   996\n",
       "997  LH_997   0.1582   0.7854  0.93952  2.23148  1.85446  1.32961   997\n",
       "998  LH_998   0.3854   0.9778  0.93692  0.42869  1.48761  1.32042   998\n",
       "999  LH_999   0.4322   0.6142  1.28521  0.35799  1.15910  0.86754   999\n",
       "\n",
       "[1000 rows x 8 columns]"
      ]
     },
     "execution_count": 2,
     "metadata": {},
     "output_type": "execute_result"
    }
   ],
   "source": [
    "df_pars = pd.read_csv('/disk/xray15/aem2/camels/LH/CosmoAstroSeed_IllustrisTNG_L25n256_LH.txt', delim_whitespace=True)\n",
    "df_pars"
   ]
  },
  {
   "cell_type": "code",
   "execution_count": 3,
   "metadata": {},
   "outputs": [
    {
     "name": "stdout",
     "output_type": "stream",
     "text": [
      "[[0.309   0.979   3.11234 1.12194 0.6685  0.53182]\n",
      " [0.3026  0.9394  3.42001 3.96137 1.03311 1.1607 ]\n",
      " [0.4282  0.753   0.70613 0.37423 1.96292 0.6272 ]\n",
      " ...\n",
      " [0.1582  0.7854  0.93952 2.23148 1.85446 1.32961]\n",
      " [0.3854  0.9778  0.93692 0.42869 1.48761 1.32042]\n",
      " [0.4322  0.6142  1.28521 0.35799 1.1591  0.86754]]\n",
      "(1000, 6)\n"
     ]
    }
   ],
   "source": [
    "theta = df_pars[['Omega_m', 'sigma_8', 'A_SN1', 'A_AGN1', 'A_SN2', 'A_AGN2']].to_numpy()\n",
    "print(theta)\n",
    "print(theta.shape)"
   ]
  },
  {
   "cell_type": "markdown",
   "metadata": {},
   "source": [
    "# Get data (x)"
   ]
  },
  {
   "cell_type": "code",
   "execution_count": 4,
   "metadata": {},
   "outputs": [
    {
     "data": {
      "text/html": [
       "<div>\n",
       "<style scoped>\n",
       "    .dataframe tbody tr th:only-of-type {\n",
       "        vertical-align: middle;\n",
       "    }\n",
       "\n",
       "    .dataframe tbody tr th {\n",
       "        vertical-align: top;\n",
       "    }\n",
       "\n",
       "    .dataframe thead th {\n",
       "        text-align: right;\n",
       "    }\n",
       "</style>\n",
       "<table border=\"1\" class=\"dataframe\">\n",
       "  <thead>\n",
       "    <tr style=\"text-align: right;\">\n",
       "      <th></th>\n",
       "      <th>LH_X</th>\n",
       "      <th>phi</th>\n",
       "      <th>phi_sigma</th>\n",
       "      <th>hist</th>\n",
       "      <th>bins</th>\n",
       "    </tr>\n",
       "  </thead>\n",
       "  <tbody>\n",
       "    <tr>\n",
       "      <th>0</th>\n",
       "      <td>LH_0</td>\n",
       "      <td>[0.00015987453159307786, 0.0002213647360519539...</td>\n",
       "      <td>[4.434121702304844e-05, 5.217616865930228e-05,...</td>\n",
       "      <td>[13.0, 18.0, 23.0, 23.0, 24.0, 18.0, 15.0, 9.0...</td>\n",
       "      <td>[-22.0, -21.5, -21.0, -20.5, -20.0, -19.5, -19...</td>\n",
       "    </tr>\n",
       "    <tr>\n",
       "      <th>1</th>\n",
       "      <td>LH_1</td>\n",
       "      <td>[1.2298040891775219e-05, 1.2298040891775219e-0...</td>\n",
       "      <td>[1.2298040891775219e-05, 1.2298040891775219e-0...</td>\n",
       "      <td>[1.0, 1.0, 5.0, 7.0, 23.0, 13.0, 16.0, 9.0, 11...</td>\n",
       "      <td>[-22.0, -21.5, -21.0, -20.5, -20.0, -19.5, -19...</td>\n",
       "    </tr>\n",
       "    <tr>\n",
       "      <th>2</th>\n",
       "      <td>LH_2</td>\n",
       "      <td>[3.689412267532566e-05, 1.2298040891775219e-05...</td>\n",
       "      <td>[2.1300831658114343e-05, 1.2298040891775219e-0...</td>\n",
       "      <td>[3.0, 1.0, 1.0, 7.0, 17.0, 25.0, 22.0, 34.0, 3...</td>\n",
       "      <td>[-22.0, -21.5, -21.0, -20.5, -20.0, -19.5, -19...</td>\n",
       "    </tr>\n",
       "    <tr>\n",
       "      <th>3</th>\n",
       "      <td>LH_3</td>\n",
       "      <td>[2.4639824589630805e-05, 8.623938606370782e-05...</td>\n",
       "      <td>[1.7422987054574983e-05, 3.259542410620862e-05...</td>\n",
       "      <td>[2.0, 7.0, 9.0, 6.0, 14.0, 10.0, 7.0, 5.0, 8.0...</td>\n",
       "      <td>[-22.0, -21.5, -21.0, -20.5, -20.0, -19.5, -19...</td>\n",
       "    </tr>\n",
       "    <tr>\n",
       "      <th>4</th>\n",
       "      <td>LH_4</td>\n",
       "      <td>[0.0001229804089177522, 0.00014757649070130263...</td>\n",
       "      <td>[3.888981997589799e-05, 4.2601663316228686e-05...</td>\n",
       "      <td>[10.0, 12.0, 15.0, 13.0, 18.0, 8.0, 11.0, 5.0,...</td>\n",
       "      <td>[-22.0, -21.5, -21.0, -20.5, -20.0, -19.5, -19...</td>\n",
       "    </tr>\n",
       "    <tr>\n",
       "      <th>...</th>\n",
       "      <td>...</td>\n",
       "      <td>...</td>\n",
       "      <td>...</td>\n",
       "      <td>...</td>\n",
       "      <td>...</td>\n",
       "    </tr>\n",
       "    <tr>\n",
       "      <th>995</th>\n",
       "      <td>LH_995</td>\n",
       "      <td>[1.2319912294815403e-05, 7.391947376889241e-05...</td>\n",
       "      <td>[1.2319912294815403e-05, 3.0177498798138694e-0...</td>\n",
       "      <td>[1.0, 6.0, 10.0, 11.0, 25.0, 25.0, 21.0, 18.0,...</td>\n",
       "      <td>[-22.0, -21.5, -21.0, -20.5, -20.0, -19.5, -19...</td>\n",
       "    </tr>\n",
       "    <tr>\n",
       "      <th>996</th>\n",
       "      <td>LH_996</td>\n",
       "      <td>[1.2319912294815403e-05, 7.391947376889241e-05...</td>\n",
       "      <td>[1.2319912294815403e-05, 3.0177498798138694e-0...</td>\n",
       "      <td>[1.0, 6.0, 15.0, 38.0, 51.0, 47.0, 38.0, 43.0,...</td>\n",
       "      <td>[-22.0, -21.5, -21.0, -20.5, -20.0, -19.5, -19...</td>\n",
       "    </tr>\n",
       "    <tr>\n",
       "      <th>997</th>\n",
       "      <td>LH_997</td>\n",
       "      <td>[1.2319912294815403e-05, 0.0, 8.62393860637078...</td>\n",
       "      <td>[1.2319912294815403e-05, 0.0, 3.25954241062086...</td>\n",
       "      <td>[1.0, 0.0, 7.0, 11.0, 13.0, 15.0, 10.0, 18.0, ...</td>\n",
       "      <td>[-22.0, -21.5, -21.0, -20.5, -20.0, -19.5, -19...</td>\n",
       "    </tr>\n",
       "    <tr>\n",
       "      <th>998</th>\n",
       "      <td>LH_998</td>\n",
       "      <td>[0.0, 4.9192163567100876e-05, 9.83843271342017...</td>\n",
       "      <td>[0.0, 2.4596081783550438e-05, 3.47841124395348...</td>\n",
       "      <td>[0.0, 4.0, 8.0, 14.0, 21.0, 28.0, 24.0, 25.0, ...</td>\n",
       "      <td>[-22.0, -21.5, -21.0, -20.5, -20.0, -19.5, -19...</td>\n",
       "    </tr>\n",
       "    <tr>\n",
       "      <th>999</th>\n",
       "      <td>LH_999</td>\n",
       "      <td>[4.9192163567100876e-05, 3.689412267532566e-05...</td>\n",
       "      <td>[2.4596081783550438e-05, 2.1300831658114343e-0...</td>\n",
       "      <td>[4.0, 3.0, 9.0, 30.0, 29.0, 33.0, 18.0, 15.0, ...</td>\n",
       "      <td>[-22.0, -21.5, -21.0, -20.5, -20.0, -19.5, -19...</td>\n",
       "    </tr>\n",
       "  </tbody>\n",
       "</table>\n",
       "<p>1000 rows × 5 columns</p>\n",
       "</div>"
      ],
      "text/plain": [
       "       LH_X                                                phi  \\\n",
       "0      LH_0  [0.00015987453159307786, 0.0002213647360519539...   \n",
       "1      LH_1  [1.2298040891775219e-05, 1.2298040891775219e-0...   \n",
       "2      LH_2  [3.689412267532566e-05, 1.2298040891775219e-05...   \n",
       "3      LH_3  [2.4639824589630805e-05, 8.623938606370782e-05...   \n",
       "4      LH_4  [0.0001229804089177522, 0.00014757649070130263...   \n",
       "..      ...                                                ...   \n",
       "995  LH_995  [1.2319912294815403e-05, 7.391947376889241e-05...   \n",
       "996  LH_996  [1.2319912294815403e-05, 7.391947376889241e-05...   \n",
       "997  LH_997  [1.2319912294815403e-05, 0.0, 8.62393860637078...   \n",
       "998  LH_998  [0.0, 4.9192163567100876e-05, 9.83843271342017...   \n",
       "999  LH_999  [4.9192163567100876e-05, 3.689412267532566e-05...   \n",
       "\n",
       "                                             phi_sigma  \\\n",
       "0    [4.434121702304844e-05, 5.217616865930228e-05,...   \n",
       "1    [1.2298040891775219e-05, 1.2298040891775219e-0...   \n",
       "2    [2.1300831658114343e-05, 1.2298040891775219e-0...   \n",
       "3    [1.7422987054574983e-05, 3.259542410620862e-05...   \n",
       "4    [3.888981997589799e-05, 4.2601663316228686e-05...   \n",
       "..                                                 ...   \n",
       "995  [1.2319912294815403e-05, 3.0177498798138694e-0...   \n",
       "996  [1.2319912294815403e-05, 3.0177498798138694e-0...   \n",
       "997  [1.2319912294815403e-05, 0.0, 3.25954241062086...   \n",
       "998  [0.0, 2.4596081783550438e-05, 3.47841124395348...   \n",
       "999  [2.4596081783550438e-05, 2.1300831658114343e-0...   \n",
       "\n",
       "                                                  hist  \\\n",
       "0    [13.0, 18.0, 23.0, 23.0, 24.0, 18.0, 15.0, 9.0...   \n",
       "1    [1.0, 1.0, 5.0, 7.0, 23.0, 13.0, 16.0, 9.0, 11...   \n",
       "2    [3.0, 1.0, 1.0, 7.0, 17.0, 25.0, 22.0, 34.0, 3...   \n",
       "3    [2.0, 7.0, 9.0, 6.0, 14.0, 10.0, 7.0, 5.0, 8.0...   \n",
       "4    [10.0, 12.0, 15.0, 13.0, 18.0, 8.0, 11.0, 5.0,...   \n",
       "..                                                 ...   \n",
       "995  [1.0, 6.0, 10.0, 11.0, 25.0, 25.0, 21.0, 18.0,...   \n",
       "996  [1.0, 6.0, 15.0, 38.0, 51.0, 47.0, 38.0, 43.0,...   \n",
       "997  [1.0, 0.0, 7.0, 11.0, 13.0, 15.0, 10.0, 18.0, ...   \n",
       "998  [0.0, 4.0, 8.0, 14.0, 21.0, 28.0, 24.0, 25.0, ...   \n",
       "999  [4.0, 3.0, 9.0, 30.0, 29.0, 33.0, 18.0, 15.0, ...   \n",
       "\n",
       "                                                  bins  \n",
       "0    [-22.0, -21.5, -21.0, -20.5, -20.0, -19.5, -19...  \n",
       "1    [-22.0, -21.5, -21.0, -20.5, -20.0, -19.5, -19...  \n",
       "2    [-22.0, -21.5, -21.0, -20.5, -20.0, -19.5, -19...  \n",
       "3    [-22.0, -21.5, -21.0, -20.5, -20.0, -19.5, -19...  \n",
       "4    [-22.0, -21.5, -21.0, -20.5, -20.0, -19.5, -19...  \n",
       "..                                                 ...  \n",
       "995  [-22.0, -21.5, -21.0, -20.5, -20.0, -19.5, -19...  \n",
       "996  [-22.0, -21.5, -21.0, -20.5, -20.0, -19.5, -19...  \n",
       "997  [-22.0, -21.5, -21.0, -20.5, -20.0, -19.5, -19...  \n",
       "998  [-22.0, -21.5, -21.0, -20.5, -20.0, -19.5, -19...  \n",
       "999  [-22.0, -21.5, -21.0, -20.5, -20.0, -19.5, -19...  \n",
       "\n",
       "[1000 rows x 5 columns]"
      ]
     },
     "execution_count": 4,
     "metadata": {},
     "output_type": "execute_result"
    }
   ],
   "source": [
    "import os\n",
    "import pandas as pd\n",
    "\n",
    "# Define the directory containing the LH_X files\n",
    "directory = \"/disk/xray15/aem2/camels/LH/get_LF/output/\"\n",
    "\n",
    "# Get all files in the directory\n",
    "files = os.listdir(directory)\n",
    "\n",
    "# Filter out files that start with \"LH_\" and end with \".txt\"\n",
    "LH_X_files = [file for file in files if file.startswith(\"LH_\") and file.endswith(\".txt\")]\n",
    "\n",
    "# Initialize lists to store data\n",
    "phia = []\n",
    "phi_sigmaa = []\n",
    "hista = []\n",
    "binsa = []\n",
    "LH_X_values = []\n",
    "\n",
    "# Iterate over LH_X files\n",
    "for LH_X_file in LH_X_files:\n",
    "    # Define the file path\n",
    "    file_path = os.path.join(directory, LH_X_file)\n",
    "    \n",
    "    # Extract LH_X value from the file name (remove the \".txt\" extension)\n",
    "    LH_X = LH_X_file[:-4]\n",
    "    \n",
    "    # Initialize an empty dictionary to store variable names and their values\n",
    "    variable_data = {}\n",
    "\n",
    "    # Open the text file for reading\n",
    "    with open(file_path, 'r') as file:\n",
    "        # Initialize variables to store the current variable name and its values\n",
    "        current_variable_name = None\n",
    "        current_variable_values = []\n",
    "\n",
    "        # Iterate over each line in the file\n",
    "        for line in file:\n",
    "            # Remove leading and trailing whitespace from the line\n",
    "            line = line.strip()\n",
    "\n",
    "            # Check if the line is empty\n",
    "            if not line:\n",
    "                continue\n",
    "\n",
    "            # Check if the line is a variable name\n",
    "            if line in ['phi', 'phi_sigma', 'hist', 'massBinLimits']:\n",
    "                # If it's a new variable name, update the current variable name and reset the values list\n",
    "                if current_variable_name is not None:\n",
    "                    variable_data[current_variable_name] = current_variable_values\n",
    "                    current_variable_values = []\n",
    "\n",
    "                current_variable_name = line\n",
    "            else:\n",
    "                # If it's not a variable name, convert the value to float and append it to the values list\n",
    "                current_variable_values.append(float(line))\n",
    "\n",
    "        # Add the last variable data to the dictionary\n",
    "        if current_variable_name is not None:\n",
    "            variable_data[current_variable_name] = current_variable_values\n",
    "        \n",
    "        # Extract specific variables\n",
    "        phi = variable_data.get('phi')\n",
    "        phi_sigma = variable_data.get('phi_sigma')\n",
    "        hist = variable_data.get('hist')\n",
    "        bins = variable_data.get('massBinLimits')\n",
    "\n",
    "        phia.append(phi)\n",
    "        phi_sigmaa.append(phi_sigma)\n",
    "        hista.append(hist)\n",
    "        binsa.append(bins)\n",
    "        LH_X_values.append(LH_X)\n",
    "\n",
    "# Create a DataFrame from the lists\n",
    "df_x = pd.DataFrame({'LH_X': LH_X_values, 'phi': phia, 'phi_sigma': phi_sigmaa, 'hist': hista, 'bins': binsa})\n",
    "\n",
    "# Sort the DataFrame by the numerical value in the LH_X column\n",
    "df_x['LH_X_num'] = df_x['LH_X'].apply(lambda x: int(x.split('_')[1]))\n",
    "df_x = df_x.sort_values(by='LH_X_num').drop(columns='LH_X_num')\n",
    "\n",
    "# Reset index after sorting\n",
    "df_x = df_x.reset_index(drop=True)\n",
    "\n",
    "# Display the DataFrame\n",
    "df_x\n"
   ]
  },
  {
   "cell_type": "code",
   "execution_count": 5,
   "metadata": {},
   "outputs": [],
   "source": [
    "# transform x data into log space."
   ]
  },
  {
   "cell_type": "code",
   "execution_count": 6,
   "metadata": {},
   "outputs": [
    {
     "data": {
      "text/plain": [
       "0      [0.00015987453159307786, 0.0002213647360519539...\n",
       "1      [1.2298040891775219e-05, 1.2298040891775219e-0...\n",
       "2      [3.689412267532566e-05, 1.2298040891775219e-05...\n",
       "3      [2.4639824589630805e-05, 8.623938606370782e-05...\n",
       "4      [0.0001229804089177522, 0.00014757649070130263...\n",
       "                             ...                        \n",
       "995    [1.2319912294815403e-05, 7.391947376889241e-05...\n",
       "996    [1.2319912294815403e-05, 7.391947376889241e-05...\n",
       "997    [1.2319912294815403e-05, 0.0, 8.62393860637078...\n",
       "998    [0.0, 4.9192163567100876e-05, 9.83843271342017...\n",
       "999    [4.9192163567100876e-05, 3.689412267532566e-05...\n",
       "Name: phi, Length: 1000, dtype: object"
      ]
     },
     "execution_count": 6,
     "metadata": {},
     "output_type": "execute_result"
    }
   ],
   "source": [
    "df_x['phi']"
   ]
  },
  {
   "cell_type": "code",
   "execution_count": 7,
   "metadata": {},
   "outputs": [
    {
     "data": {
      "text/plain": [
       "pandas.core.series.Series"
      ]
     },
     "execution_count": 7,
     "metadata": {},
     "output_type": "execute_result"
    }
   ],
   "source": [
    "type(df_x['phi'])"
   ]
  },
  {
   "cell_type": "code",
   "execution_count": 8,
   "metadata": {},
   "outputs": [
    {
     "data": {
      "text/plain": [
       "0      [0.00015987453159307786, 0.0002213647360519539...\n",
       "1      [1.2298040891775219e-05, 1.2298040891775219e-0...\n",
       "2      [3.689412267532566e-05, 1.2298040891775219e-05...\n",
       "3      [2.4639824589630805e-05, 8.623938606370782e-05...\n",
       "4      [0.0001229804089177522, 0.00014757649070130263...\n",
       "                             ...                        \n",
       "995    [1.2319912294815403e-05, 7.391947376889241e-05...\n",
       "996    [1.2319912294815403e-05, 7.391947376889241e-05...\n",
       "997    [1.2319912294815403e-05, 1e-05, 8.623938606370...\n",
       "998    [1e-05, 4.9192163567100876e-05, 9.838432713420...\n",
       "999    [4.9192163567100876e-05, 3.689412267532566e-05...\n",
       "Name: phi_0s, Length: 1000, dtype: object"
      ]
     },
     "execution_count": 8,
     "metadata": {},
     "output_type": "execute_result"
    }
   ],
   "source": [
    "# clean up 0 values to avoid nan/-inf values when logging\n",
    "\n",
    "# Function to replace 0 or negative values with 1\n",
    "def replace_zeros(phi_list):\n",
    "    # set as 1e-5 for now:\n",
    "    return [1e-5 if x == 0 else x for x in phi_list]\n",
    "\n",
    "# Apply the function to each entry in the 'phi' column\n",
    "df_x['phi_0s'] = df_x['phi'].apply(replace_zeros)\n",
    "df_x['phi_0s']"
   ]
  },
  {
   "cell_type": "code",
   "execution_count": 9,
   "metadata": {},
   "outputs": [
    {
     "name": "stdout",
     "output_type": "stream",
     "text": [
      "[[-3.79622071 -3.65489156 -3.54843623 ... -3.91016407 -3.95592156\n",
      "  -4.00707408]\n",
      " [-4.91016407 -4.91016407 -4.21119406 ... -3.86877138 -3.83098282\n",
      "  -3.95592156]\n",
      " [-4.43304281 -4.91016407 -4.91016407 ... -3.31909946 -3.22892283\n",
      "  -3.30810408]\n",
      " ...\n",
      " [-4.90939238 -5.         -4.06429434 ... -3.7052724  -3.5669697\n",
      "  -3.8679997 ]\n",
      " [-5.         -4.30810408 -4.00707408 ... -3.51222406 -3.4788003\n",
      "  -3.4788003 ]\n",
      " [-4.30810408 -4.43304281 -3.95592156 ... -3.67971515 -3.60913407\n",
      "  -3.54843623]]\n"
     ]
    }
   ],
   "source": [
    "# convert pandas series to np.array\n",
    "x = np.log10((np.array(df_x['phi_0s'].tolist())))\n",
    "print(x)"
   ]
  },
  {
   "cell_type": "markdown",
   "metadata": {},
   "source": [
    "## Toy NPE\n",
    "This example attempts to infer 3 unknown parameters from a 20-dimensional 1D data vector using amortized posterior inference. We train the models from a simple synthetic catalog. This tutorial mirrors the same configuration as in [examples/toy_sbi.py](../examples/toy_sbi.py), but demonstrates how one would interact with the inference pipeline in a jupyter notebook."
   ]
  },
  {
   "cell_type": "code",
   "execution_count": 10,
   "metadata": {},
   "outputs": [
    {
     "data": {
      "text/plain": [
       "(array([100., 100., 100., 100., 100., 100., 100., 100., 100., 100.]),\n",
       " array([0.1002 , 0.14016, 0.18012, 0.22008, 0.26004, 0.3    , 0.33996,\n",
       "        0.37992, 0.41988, 0.45984, 0.4998 ]),\n",
       " <BarContainer object of 10 artists>)"
      ]
     },
     "execution_count": 10,
     "metadata": {},
     "output_type": "execute_result"
    },
    {
     "data": {
      "image/png": "[encoded data removed]",
      "text/plain": [
       "<Figure size 640x480 with 1 Axes>"
      ]
     },
     "metadata": {},
     "output_type": "display_data"
    }
   ],
   "source": [
    "# prior for omega m, between 0.1 and 0.5\n",
    "plt.hist(theta[:, 0])"
   ]
  },
  {
   "cell_type": "code",
   "execution_count": 11,
   "metadata": {},
   "outputs": [
    {
     "data": {
      "text/plain": [
       "(array([100., 100., 100., 100., 100., 100., 100., 100., 100., 100.]),\n",
       " array([0.6002 , 0.64016, 0.68012, 0.72008, 0.76004, 0.8    , 0.83996,\n",
       "        0.87992, 0.91988, 0.95984, 0.9998 ]),\n",
       " <BarContainer object of 10 artists>)"
      ]
     },
     "execution_count": 11,
     "metadata": {},
     "output_type": "execute_result"
    },
    {
     "data": {
      "image/png": "[encoded data removed]",
      "text/plain": [
       "<Figure size 640x480 with 1 Axes>"
      ]
     },
     "metadata": {},
     "output_type": "display_data"
    }
   ],
   "source": [
    "# prior for sigma_8, between 0.6 and 1\n",
    "plt.hist(theta[:, 1])"
   ]
  },
  {
   "cell_type": "code",
   "execution_count": 12,
   "metadata": {},
   "outputs": [
    {
     "data": {
      "text/plain": [
       "(array([330., 170., 114.,  87.,  70.,  59.,  50.,  45.,  39.,  36.]),\n",
       " array([0.25035 , 0.624761, 0.999172, 1.373583, 1.747994, 2.122405,\n",
       "        2.496816, 2.871227, 3.245638, 3.620049, 3.99446 ]),\n",
       " <BarContainer object of 10 artists>)"
      ]
     },
     "execution_count": 12,
     "metadata": {},
     "output_type": "execute_result"
    },
    {
     "data": {
      "image/png": "[encoded data removed]",
      "text/plain": [
       "<Figure size 640x480 with 1 Axes>"
      ]
     },
     "metadata": {},
     "output_type": "display_data"
    }
   ],
   "source": [
    "# prior for A_SN1, between 0.25 and 4\n",
    "plt.hist(theta[:, 2])"
   ]
  },
  {
   "cell_type": "code",
   "execution_count": 13,
   "metadata": {},
   "outputs": [
    {
     "data": {
      "text/plain": [
       "(array([330., 170., 114.,  87.,  70.,  59.,  50.,  45.,  39.,  36.]),\n",
       " array([0.25035 , 0.624761, 0.999172, 1.373583, 1.747994, 2.122405,\n",
       "        2.496816, 2.871227, 3.245638, 3.620049, 3.99446 ]),\n",
       " <BarContainer object of 10 artists>)"
      ]
     },
     "execution_count": 13,
     "metadata": {},
     "output_type": "execute_result"
    },
    {
     "data": {
      "image/png": "[encoded data removed]",
      "text/plain": [
       "<Figure size 640x480 with 1 Axes>"
      ]
     },
     "metadata": {},
     "output_type": "display_data"
    }
   ],
   "source": [
    "# prior for A_AGN1, between 0.25 and 4\n",
    "plt.hist(theta[:, 3])"
   ]
  },
  {
   "cell_type": "code",
   "execution_count": 14,
   "metadata": {},
   "outputs": [
    {
     "data": {
      "text/plain": [
       "(array([189., 150., 124., 106.,  92.,  81.,  74.,  66.,  61.,  57.]),\n",
       " array([0.50035 , 0.650176, 0.800002, 0.949828, 1.099654, 1.24948 ,\n",
       "        1.399306, 1.549132, 1.698958, 1.848784, 1.99861 ]),\n",
       " <BarContainer object of 10 artists>)"
      ]
     },
     "execution_count": 14,
     "metadata": {},
     "output_type": "execute_result"
    },
    {
     "data": {
      "image/png": "[encoded data removed]",
      "text/plain": [
       "<Figure size 640x480 with 1 Axes>"
      ]
     },
     "metadata": {},
     "output_type": "display_data"
    }
   ],
   "source": [
    "# prior for A_SN2, between 0.5 and 2\n",
    "plt.hist(theta[:, 4])"
   ]
  },
  {
   "cell_type": "code",
   "execution_count": 15,
   "metadata": {},
   "outputs": [
    {
     "data": {
      "text/plain": [
       "(array([189., 150., 124., 106.,  92.,  81.,  74.,  66.,  61.,  57.]),\n",
       " array([0.50035 , 0.650176, 0.800002, 0.949828, 1.099654, 1.24948 ,\n",
       "        1.399306, 1.549132, 1.698958, 1.848784, 1.99861 ]),\n",
       " <BarContainer object of 10 artists>)"
      ]
     },
     "execution_count": 15,
     "metadata": {},
     "output_type": "execute_result"
    },
    {
     "data": {
      "image/png": "[encoded data removed]",
      "text/plain": [
       "<Figure size 640x480 with 1 Axes>"
      ]
     },
     "metadata": {},
     "output_type": "display_data"
    }
   ],
   "source": [
    "# prior for A_AGN2, between 0.5 and 2\n",
    "plt.hist(theta[:, 5])"
   ]
  },
  {
   "cell_type": "code",
   "execution_count": 16,
   "metadata": {},
   "outputs": [
    {
     "name": "stdout",
     "output_type": "stream",
     "text": [
      "x: full data: (1000, 11)\n",
      "x: training set: (600, 11)\n",
      "x: validation set: (200, 11)\n",
      "x: testing set: (200, 11)\n",
      "theta: full data: (1000, 6)\n",
      "theta: training set: (600, 6)\n",
      "theta: validation set: (200, 6)\n",
      "theta: testing set: (200, 6)\n"
     ]
    }
   ],
   "source": [
    "from sklearn.model_selection import train_test_split\n",
    "\n",
    "# Assuming x and theta are your data arrays\n",
    "# First split: into train+validation and test sets\n",
    "# can stratify the sets you pick to train but in this case we are OK for now to make random selection (fixed random selection)\n",
    "x_temp, x_test, theta_temp, theta_test = train_test_split(x, theta, test_size=0.2, random_state=0)\n",
    "\n",
    "# Second split: into train and validation sets\n",
    "x_train, x_val, theta_train, theta_val = train_test_split(x_temp, theta_temp, test_size=0.25, random_state=0)  # 0.25 x 0.8 = 0.2\n",
    "\n",
    "print('x: full data:', x.shape)\n",
    "print('x: training set:', x_train.shape)\n",
    "print('x: validation set:', x_val.shape)\n",
    "print('x: testing set:', x_test.shape)\n",
    "\n",
    "print('theta: full data:', theta.shape)\n",
    "print('theta: training set:', theta_train.shape)\n",
    "print('theta: validation set:', theta_val.shape)\n",
    "print('theta: testing set:', theta_test.shape)\n"
   ]
  },
  {
   "cell_type": "code",
   "execution_count": 17,
   "metadata": {},
   "outputs": [
    {
     "data": {
      "text/plain": [
       "(array([255.,   0.,  72.,  41.,  73.,  53.,  51.,  30.,  19.,   6.]),\n",
       " array([-5.        , -4.83786852, -4.67573703, -4.51360555, -4.35147406,\n",
       "        -4.18934258, -4.02721109, -3.86507961, -3.70294812, -3.54081664,\n",
       "        -3.37868515]),\n",
       " <BarContainer object of 10 artists>)"
      ]
     },
     "execution_count": 17,
     "metadata": {},
     "output_type": "execute_result"
    },
    {
     "data": {
      "image/png": "[encoded data removed]",
      "text/plain": [
       "<Figure size 640x480 with 1 Axes>"
      ]
     },
     "metadata": {},
     "output_type": "display_data"
    }
   ],
   "source": [
    "# this is your posterior - predicted value of the luminosity function...?\n",
    "# maybe log it\n",
    "plt.hist(x_train[:, 0])\n"
   ]
  },
  {
   "cell_type": "code",
   "execution_count": 18,
   "metadata": {
    "ExecuteTime": {
     "end_time": "2023-11-03T19:04:56.177736Z",
     "start_time": "2023-11-03T19:04:55.959360Z"
    }
   },
   "outputs": [
    {
     "data": {
      "image/png": "[encoded data removed]",
      "text/plain": [
       "<Figure size 800x600 with 1 Axes>"
      ]
     },
     "metadata": {},
     "output_type": "display_data"
    }
   ],
   "source": [
    "# Plot some examples of the data\n",
    "fig, ax = plt.subplots(figsize=(8, 6))\n",
    "for i in range(6):\n",
    "    ind = np.random.randint(len(theta_train))\n",
    "    ax.plot(x_train[ind], alpha=0.5, label=f'({theta_train[ind, 0]:.2f}, {theta_train[ind, 1]:.2f}, {theta_train[ind, 2]:.2f},{theta_train[ind, 3]:.2f},{theta_train[ind, 4]:.2f},{theta_train[ind, 5]:.2f})')\n",
    "#ax.set_yscale('log')\n",
    "ax.legend(title='theta')\n",
    "ax.set_title('Data vectors x')\n",
    "plt.show()"
   ]
  },
  {
   "cell_type": "markdown",
   "metadata": {},
   "source": [
    "The SBIRunner object will handle all of the data normalization and model training for us. We just need to provide it with:\n",
    "- our parameter prior\n",
    "- our inference type (SNPE/SNLE/SNRE)\n",
    "- our desired neural network architecture\n",
    "- our training hyperparameters\n",
    "\n",
    "On the backend, it does a validation split among the provided training data, trains the neural networks with an Adam optimizer, and enforces an early stopping criterion to prevent overfitting. All the parameters of these processes can be independently configured."
   ]
  },
  {
   "cell_type": "code",
   "execution_count": 19,
   "metadata": {},
   "outputs": [],
   "source": [
    "def initialise_priors(device=\"cuda\", astro=True, dust=True):\n",
    "\n",
    "    combined_priors = []\n",
    "\n",
    "    if astro:\n",
    "        base_dist1 = Uniform(\n",
    "            torch.log(torch.tensor([0.25], device=device)),\n",
    "            torch.log(torch.tensor([4], device=device)),\n",
    "        )\n",
    "        base_dist2 = Uniform(\n",
    "            torch.log(torch.tensor([0.5], device=device)),\n",
    "            torch.log(torch.tensor([2], device=device)),\n",
    "        )\n",
    "        astro_prior1 = TransformedDistribution(base_dist1, ExpTransform())\n",
    "        astro_prior2 = TransformedDistribution(base_dist2, ExpTransform())\n",
    "        omega_prior = Uniform(\n",
    "            torch.tensor([0.1], device=device),\n",
    "            torch.tensor([0.5], device=device),\n",
    "        )\n",
    "        sigma8_prior = Uniform(\n",
    "            torch.tensor([0.6], device=device),\n",
    "            torch.tensor([1.0], device=device),\n",
    "        )\n",
    "        combined_priors += [\n",
    "            omega_prior,# prior for omega m, between 0.1 and 0.5: uniform\n",
    "            sigma8_prior,# prior for sigma_8, between 0.6 and 1: uniform\n",
    "            astro_prior1,# prior for A_SN1, between 0.25 and 4: exponential\n",
    "            astro_prior1,# prior for A_AGN1, between 0.25 and 4: exponential\n",
    "            astro_prior2,# prior for A_SN2, between 0.5 and 2: exponential\n",
    "            astro_prior2,# prior for A_AGN2, between 0.5 and 2: exponential\n",
    "        ]\n",
    "\n",
    "    prior = process_prior(combined_priors)\n",
    "\n",
    "    return prior[0]"
   ]
  },
  {
   "cell_type": "code",
   "execution_count": 20,
   "metadata": {},
   "outputs": [
    {
     "name": "stdout",
     "output_type": "stream",
     "text": [
      "MultipleIndependent()\n"
     ]
    }
   ],
   "source": [
    "prior = initialise_priors()\n",
    "print(prior)"
   ]
  },
  {
   "cell_type": "code",
   "execution_count": 21,
   "metadata": {},
   "outputs": [],
   "source": [
    "# make a dataloader\n",
    "loader = NumpyLoader(x=x_train, theta=theta_train)\n",
    "\n",
    "# instantiate your neural networks to be used as an ensemble\n",
    "# are the NN here setting our likelihoods?\n",
    "nets = [\n",
    "    ili.utils.load_nde_sbi(engine='NPE', model='maf', hidden_features=50, num_transforms=5),\n",
    "    ili.utils.load_nde_sbi(engine='NPE', model='mdn', hidden_features=50, num_components=6)\n",
    "]\n",
    "\n",
    "# hyperparameter search\n",
    "# for batch_size in [4, 8, 16, 32]:\n",
    "# for learning_rate in [1e-2, 1e-3, 1e-4]:\n",
    "# for hidden_features in [50, 100, 200]\n",
    "# for num_components in [6, 12, 18]\n",
    "\n",
    "# define training arguments\n",
    "train_args = {\n",
    "    'training_batch_size': 10, # batch_size\n",
    "    'learning_rate': 1e-4 # learning_rate\n",
    "}\n",
    "\n",
    "#             training_batch_size=50,\n",
    "#             learning_rate=5e-4,\n",
    "#             validation_fraction=0.1,\n",
    "#             stop_after_epochs=20,\n",
    "#             clip_max_norm=5,\n",
    "\n",
    "# initialize the trainer\n",
    "runner = InferenceRunner.load(\n",
    "    backend='sbi',\n",
    "    engine='NPE',\n",
    "    prior=prior,\n",
    "    nets=nets,\n",
    "    device=device,\n",
    "    embedding_net=None,\n",
    "    train_args=train_args,\n",
    "    proposal=None,\n",
    "    out_dir=None\n",
    ")\n",
    "\n",
    "# need to play with training arguments."
   ]
  },
  {
   "cell_type": "code",
   "execution_count": 22,
   "metadata": {
    "ExecuteTime": {
     "end_time": "2023-11-03T19:06:50.836068Z",
     "start_time": "2023-11-03T19:06:14.142618Z"
    }
   },
   "outputs": [
    {
     "name": "stderr",
     "output_type": "stream",
     "text": [
      "INFO:root:MODEL INFERENCE CLASS: NPE\n"
     ]
    },
    {
     "ename": "AssertionError",
     "evalue": "Prior device 'cpu' must match training device 'cuda:0'. When training on GPU make sure to pass a prior initialized on the GPU as well, e.g., prior = torch.distributions.Normal(torch.zeros(2, device='cuda'), scale=1.0)`.",
     "output_type": "error",
     "traceback": [
      "\u001b[0;31m---------------------------------------------------------------------------\u001b[0m",
      "\u001b[0;31mAssertionError\u001b[0m                            Traceback (most recent call last)",
      "Cell \u001b[0;32mIn[22], line 2\u001b[0m\n\u001b[1;32m      1\u001b[0m \u001b[38;5;66;03m# train the model\u001b[39;00m\n\u001b[0;32m----> 2\u001b[0m posterior_ensemble, summaries \u001b[38;5;241m=\u001b[39m \u001b[43mrunner\u001b[49m\u001b[43m(\u001b[49m\u001b[43mloader\u001b[49m\u001b[38;5;241;43m=\u001b[39;49m\u001b[43mloader\u001b[49m\u001b[43m,\u001b[49m\u001b[43m \u001b[49m\u001b[43mseed\u001b[49m\u001b[38;5;241;43m=\u001b[39;49m\u001b[38;5;241;43m1\u001b[39;49m\u001b[43m)\u001b[49m\n\u001b[1;32m      3\u001b[0m \u001b[38;5;66;03m# seed fixes the validation set \u001b[39;00m\n",
      "File \u001b[0;32m/disk/xray15/aem2/envs/camels/src/ltu-ili/ili/inference/runner_sbi.py:289\u001b[0m, in \u001b[0;36mSBIRunner.__call__\u001b[0;34m(self, loader, seed)\u001b[0m\n\u001b[1;32m    287\u001b[0m \u001b[38;5;66;03m# setup training engines for each model in the ensemble\u001b[39;00m\n\u001b[1;32m    288\u001b[0m logging\u001b[38;5;241m.\u001b[39minfo(\u001b[38;5;124mf\u001b[39m\u001b[38;5;124m\"\u001b[39m\u001b[38;5;124mMODEL INFERENCE CLASS: \u001b[39m\u001b[38;5;132;01m{\u001b[39;00m\u001b[38;5;28mself\u001b[39m\u001b[38;5;241m.\u001b[39mengine\u001b[38;5;132;01m}\u001b[39;00m\u001b[38;5;124m\"\u001b[39m)\n\u001b[0;32m--> 289\u001b[0m models \u001b[38;5;241m=\u001b[39m [\u001b[38;5;28mself\u001b[39m\u001b[38;5;241m.\u001b[39m_setup_engine(net) \u001b[38;5;28;01mfor\u001b[39;00m net \u001b[38;5;129;01min\u001b[39;00m \u001b[38;5;28mself\u001b[39m\u001b[38;5;241m.\u001b[39mnets]\n\u001b[1;32m    291\u001b[0m \u001b[38;5;66;03m# load single-round data\u001b[39;00m\n\u001b[1;32m    292\u001b[0m x \u001b[38;5;241m=\u001b[39m torch\u001b[38;5;241m.\u001b[39mTensor(loader\u001b[38;5;241m.\u001b[39mget_all_data())\u001b[38;5;241m.\u001b[39mto(\u001b[38;5;28mself\u001b[39m\u001b[38;5;241m.\u001b[39mdevice)\n",
      "File \u001b[0;32m/disk/xray15/aem2/envs/camels/src/ltu-ili/ili/inference/runner_sbi.py:289\u001b[0m, in \u001b[0;36m<listcomp>\u001b[0;34m(.0)\u001b[0m\n\u001b[1;32m    287\u001b[0m \u001b[38;5;66;03m# setup training engines for each model in the ensemble\u001b[39;00m\n\u001b[1;32m    288\u001b[0m logging\u001b[38;5;241m.\u001b[39minfo(\u001b[38;5;124mf\u001b[39m\u001b[38;5;124m\"\u001b[39m\u001b[38;5;124mMODEL INFERENCE CLASS: \u001b[39m\u001b[38;5;132;01m{\u001b[39;00m\u001b[38;5;28mself\u001b[39m\u001b[38;5;241m.\u001b[39mengine\u001b[38;5;132;01m}\u001b[39;00m\u001b[38;5;124m\"\u001b[39m)\n\u001b[0;32m--> 289\u001b[0m models \u001b[38;5;241m=\u001b[39m [\u001b[38;5;28;43mself\u001b[39;49m\u001b[38;5;241;43m.\u001b[39;49m\u001b[43m_setup_engine\u001b[49m\u001b[43m(\u001b[49m\u001b[43mnet\u001b[49m\u001b[43m)\u001b[49m \u001b[38;5;28;01mfor\u001b[39;00m net \u001b[38;5;129;01min\u001b[39;00m \u001b[38;5;28mself\u001b[39m\u001b[38;5;241m.\u001b[39mnets]\n\u001b[1;32m    291\u001b[0m \u001b[38;5;66;03m# load single-round data\u001b[39;00m\n\u001b[1;32m    292\u001b[0m x \u001b[38;5;241m=\u001b[39m torch\u001b[38;5;241m.\u001b[39mTensor(loader\u001b[38;5;241m.\u001b[39mget_all_data())\u001b[38;5;241m.\u001b[39mto(\u001b[38;5;28mself\u001b[39m\u001b[38;5;241m.\u001b[39mdevice)\n",
      "File \u001b[0;32m/disk/xray15/aem2/envs/camels/src/ltu-ili/ili/inference/runner_sbi.py:173\u001b[0m, in \u001b[0;36mSBIRunner._setup_engine\u001b[0;34m(self, net)\u001b[0m\n\u001b[1;32m    166\u001b[0m     \u001b[38;5;28;01mraise\u001b[39;00m \u001b[38;5;167;01mValueError\u001b[39;00m(\n\u001b[1;32m    167\u001b[0m         \u001b[38;5;124mf\u001b[39m\u001b[38;5;124m\"\u001b[39m\u001b[38;5;124mModel class \u001b[39m\u001b[38;5;132;01m{\u001b[39;00m\u001b[38;5;28mself\u001b[39m\u001b[38;5;241m.\u001b[39mengine\u001b[38;5;132;01m}\u001b[39;00m\u001b[38;5;124m not supported. \u001b[39m\u001b[38;5;124m\"\u001b[39m\n\u001b[1;32m    168\u001b[0m         \u001b[38;5;124m\"\u001b[39m\u001b[38;5;124mPlease choose one of NPE/NLE/NRE or SNPE/SNLE/SNRE or \u001b[39m\u001b[38;5;124m\"\u001b[39m\n\u001b[1;32m    169\u001b[0m         \u001b[38;5;124m\"\u001b[39m\u001b[38;5;124man inference class in sbi.inference.\u001b[39m\u001b[38;5;124m\"\u001b[39m\n\u001b[1;32m    170\u001b[0m     )\n\u001b[1;32m    172\u001b[0m \u001b[38;5;28;01mif\u001b[39;00m (\u001b[38;5;124m\"\u001b[39m\u001b[38;5;124mNPE\u001b[39m\u001b[38;5;124m\"\u001b[39m \u001b[38;5;129;01min\u001b[39;00m \u001b[38;5;28mself\u001b[39m\u001b[38;5;241m.\u001b[39mengine) \u001b[38;5;129;01mor\u001b[39;00m (\u001b[38;5;124m\"\u001b[39m\u001b[38;5;124mNLE\u001b[39m\u001b[38;5;124m\"\u001b[39m \u001b[38;5;129;01min\u001b[39;00m \u001b[38;5;28mself\u001b[39m\u001b[38;5;241m.\u001b[39mengine):\n\u001b[0;32m--> 173\u001b[0m     \u001b[38;5;28;01mreturn\u001b[39;00m \u001b[43minference_class\u001b[49m\u001b[43m(\u001b[49m\n\u001b[1;32m    174\u001b[0m \u001b[43m        \u001b[49m\u001b[43mprior\u001b[49m\u001b[38;5;241;43m=\u001b[39;49m\u001b[38;5;28;43mself\u001b[39;49m\u001b[38;5;241;43m.\u001b[39;49m\u001b[43mprior\u001b[49m\u001b[43m,\u001b[49m\n\u001b[1;32m    175\u001b[0m \u001b[43m        \u001b[49m\u001b[43mdensity_estimator\u001b[49m\u001b[38;5;241;43m=\u001b[39;49m\u001b[43mnet\u001b[49m\u001b[43m,\u001b[49m\n\u001b[1;32m    176\u001b[0m \u001b[43m        \u001b[49m\u001b[43mdevice\u001b[49m\u001b[38;5;241;43m=\u001b[39;49m\u001b[38;5;28;43mself\u001b[39;49m\u001b[38;5;241;43m.\u001b[39;49m\u001b[43mdevice\u001b[49m\u001b[43m,\u001b[49m\n\u001b[1;32m    177\u001b[0m \u001b[43m    \u001b[49m\u001b[43m)\u001b[49m\n\u001b[1;32m    178\u001b[0m \u001b[38;5;28;01melif\u001b[39;00m (\u001b[38;5;124m\"\u001b[39m\u001b[38;5;124mNRE\u001b[39m\u001b[38;5;124m\"\u001b[39m \u001b[38;5;129;01min\u001b[39;00m \u001b[38;5;28mself\u001b[39m\u001b[38;5;241m.\u001b[39mengine):\n\u001b[1;32m    179\u001b[0m     \u001b[38;5;28;01mreturn\u001b[39;00m inference_class(\n\u001b[1;32m    180\u001b[0m         prior\u001b[38;5;241m=\u001b[39m\u001b[38;5;28mself\u001b[39m\u001b[38;5;241m.\u001b[39mprior,\n\u001b[1;32m    181\u001b[0m         classifier\u001b[38;5;241m=\u001b[39mnet,\n\u001b[1;32m    182\u001b[0m         device\u001b[38;5;241m=\u001b[39m\u001b[38;5;28mself\u001b[39m\u001b[38;5;241m.\u001b[39mdevice,\n\u001b[1;32m    183\u001b[0m     )\n",
      "File \u001b[0;32m/disk/xray15/aem2/envs/camels/lib/python3.8/site-packages/sbi/inference/snpe/snpe_c.py:84\u001b[0m, in \u001b[0;36mSNPE_C.__init__\u001b[0;34m(self, prior, density_estimator, device, logging_level, summary_writer, show_progress_bars)\u001b[0m\n\u001b[1;32m     37\u001b[0m \u001b[38;5;250m\u001b[39m\u001b[38;5;124mr\u001b[39m\u001b[38;5;124;03m\"\"\"SNPE-C / APT [1].\u001b[39;00m\n\u001b[1;32m     38\u001b[0m \n\u001b[1;32m     39\u001b[0m \u001b[38;5;124;03m[1] _Automatic Posterior Transformation for Likelihood-free Inference_,\u001b[39;00m\n\u001b[0;32m   (...)\u001b[0m\n\u001b[1;32m     80\u001b[0m \u001b[38;5;124;03m    show_progress_bars: Whether to show a progressbar during training.\u001b[39;00m\n\u001b[1;32m     81\u001b[0m \u001b[38;5;124;03m\"\"\"\u001b[39;00m\n\u001b[1;32m     83\u001b[0m kwargs \u001b[38;5;241m=\u001b[39m del_entries(\u001b[38;5;28mlocals\u001b[39m(), entries\u001b[38;5;241m=\u001b[39m(\u001b[38;5;124m\"\u001b[39m\u001b[38;5;124mself\u001b[39m\u001b[38;5;124m\"\u001b[39m, \u001b[38;5;124m\"\u001b[39m\u001b[38;5;124m__class__\u001b[39m\u001b[38;5;124m\"\u001b[39m))\n\u001b[0;32m---> 84\u001b[0m \u001b[38;5;28;43msuper\u001b[39;49m\u001b[43m(\u001b[49m\u001b[43m)\u001b[49m\u001b[38;5;241;43m.\u001b[39;49m\u001b[38;5;21;43m__init__\u001b[39;49m\u001b[43m(\u001b[49m\u001b[38;5;241;43m*\u001b[39;49m\u001b[38;5;241;43m*\u001b[39;49m\u001b[43mkwargs\u001b[49m\u001b[43m)\u001b[49m\n",
      "File \u001b[0;32m/disk/xray15/aem2/envs/camels/lib/python3.8/site-packages/sbi/inference/snpe/snpe_base.py:64\u001b[0m, in \u001b[0;36mPosteriorEstimator.__init__\u001b[0;34m(self, prior, density_estimator, device, logging_level, summary_writer, show_progress_bars)\u001b[0m\n\u001b[1;32m     40\u001b[0m \u001b[38;5;28;01mdef\u001b[39;00m \u001b[38;5;21m__init__\u001b[39m(\n\u001b[1;32m     41\u001b[0m     \u001b[38;5;28mself\u001b[39m,\n\u001b[1;32m     42\u001b[0m     prior: Optional[Distribution] \u001b[38;5;241m=\u001b[39m \u001b[38;5;28;01mNone\u001b[39;00m,\n\u001b[0;32m   (...)\u001b[0m\n\u001b[1;32m     47\u001b[0m     show_progress_bars: \u001b[38;5;28mbool\u001b[39m \u001b[38;5;241m=\u001b[39m \u001b[38;5;28;01mTrue\u001b[39;00m,\n\u001b[1;32m     48\u001b[0m ):\n\u001b[1;32m     49\u001b[0m \u001b[38;5;250m    \u001b[39m\u001b[38;5;124;03m\"\"\"Base class for Sequential Neural Posterior Estimation methods.\u001b[39;00m\n\u001b[1;32m     50\u001b[0m \n\u001b[1;32m     51\u001b[0m \u001b[38;5;124;03m    Args:\u001b[39;00m\n\u001b[0;32m   (...)\u001b[0m\n\u001b[1;32m     61\u001b[0m \u001b[38;5;124;03m    See docstring of `NeuralInference` class for all other arguments.\u001b[39;00m\n\u001b[1;32m     62\u001b[0m \u001b[38;5;124;03m    \"\"\"\u001b[39;00m\n\u001b[0;32m---> 64\u001b[0m     \u001b[38;5;28;43msuper\u001b[39;49m\u001b[43m(\u001b[49m\u001b[43m)\u001b[49m\u001b[38;5;241;43m.\u001b[39;49m\u001b[38;5;21;43m__init__\u001b[39;49m\u001b[43m(\u001b[49m\n\u001b[1;32m     65\u001b[0m \u001b[43m        \u001b[49m\u001b[43mprior\u001b[49m\u001b[38;5;241;43m=\u001b[39;49m\u001b[43mprior\u001b[49m\u001b[43m,\u001b[49m\n\u001b[1;32m     66\u001b[0m \u001b[43m        \u001b[49m\u001b[43mdevice\u001b[49m\u001b[38;5;241;43m=\u001b[39;49m\u001b[43mdevice\u001b[49m\u001b[43m,\u001b[49m\n\u001b[1;32m     67\u001b[0m \u001b[43m        \u001b[49m\u001b[43mlogging_level\u001b[49m\u001b[38;5;241;43m=\u001b[39;49m\u001b[43mlogging_level\u001b[49m\u001b[43m,\u001b[49m\n\u001b[1;32m     68\u001b[0m \u001b[43m        \u001b[49m\u001b[43msummary_writer\u001b[49m\u001b[38;5;241;43m=\u001b[39;49m\u001b[43msummary_writer\u001b[49m\u001b[43m,\u001b[49m\n\u001b[1;32m     69\u001b[0m \u001b[43m        \u001b[49m\u001b[43mshow_progress_bars\u001b[49m\u001b[38;5;241;43m=\u001b[39;49m\u001b[43mshow_progress_bars\u001b[49m\u001b[43m,\u001b[49m\n\u001b[1;32m     70\u001b[0m \u001b[43m    \u001b[49m\u001b[43m)\u001b[49m\n\u001b[1;32m     72\u001b[0m     \u001b[38;5;66;03m# As detailed in the docstring, `density_estimator` is either a string or\u001b[39;00m\n\u001b[1;32m     73\u001b[0m     \u001b[38;5;66;03m# a callable. The function creating the neural network is attached to\u001b[39;00m\n\u001b[1;32m     74\u001b[0m     \u001b[38;5;66;03m# `_build_neural_net`. It will be called in the first round and receive\u001b[39;00m\n\u001b[1;32m     75\u001b[0m     \u001b[38;5;66;03m# thetas and xs as inputs, so that they can be used for shape inference and\u001b[39;00m\n\u001b[1;32m     76\u001b[0m     \u001b[38;5;66;03m# potentially for z-scoring.\u001b[39;00m\n\u001b[1;32m     77\u001b[0m     check_estimator_arg(density_estimator)\n",
      "File \u001b[0;32m/disk/xray15/aem2/envs/camels/lib/python3.8/site-packages/sbi/inference/base.py:113\u001b[0m, in \u001b[0;36mNeuralInference.__init__\u001b[0;34m(self, prior, device, logging_level, summary_writer, show_progress_bars)\u001b[0m\n\u001b[1;32m    111\u001b[0m \u001b[38;5;28mself\u001b[39m\u001b[38;5;241m.\u001b[39m_device \u001b[38;5;241m=\u001b[39m process_device(device)\n\u001b[1;32m    112\u001b[0m check_prior(prior)\n\u001b[0;32m--> 113\u001b[0m \u001b[43mcheck_if_prior_on_device\u001b[49m\u001b[43m(\u001b[49m\u001b[38;5;28;43mself\u001b[39;49m\u001b[38;5;241;43m.\u001b[39;49m\u001b[43m_device\u001b[49m\u001b[43m,\u001b[49m\u001b[43m \u001b[49m\u001b[43mprior\u001b[49m\u001b[43m)\u001b[49m\n\u001b[1;32m    114\u001b[0m \u001b[38;5;28mself\u001b[39m\u001b[38;5;241m.\u001b[39m_prior \u001b[38;5;241m=\u001b[39m prior\n\u001b[1;32m    116\u001b[0m \u001b[38;5;28mself\u001b[39m\u001b[38;5;241m.\u001b[39m_posterior \u001b[38;5;241m=\u001b[39m \u001b[38;5;28;01mNone\u001b[39;00m\n",
      "File \u001b[0;32m/disk/xray15/aem2/envs/camels/lib/python3.8/site-packages/sbi/utils/torchutils.py:67\u001b[0m, in \u001b[0;36mcheck_if_prior_on_device\u001b[0;34m(device, prior)\u001b[0m\n\u001b[1;32m     65\u001b[0m prior_device \u001b[38;5;241m=\u001b[39m prior\u001b[38;5;241m.\u001b[39msample((\u001b[38;5;241m1\u001b[39m,))\u001b[38;5;241m.\u001b[39mdevice\n\u001b[1;32m     66\u001b[0m training_device \u001b[38;5;241m=\u001b[39m torch\u001b[38;5;241m.\u001b[39mzeros(\u001b[38;5;241m1\u001b[39m, device\u001b[38;5;241m=\u001b[39mdevice)\u001b[38;5;241m.\u001b[39mdevice\n\u001b[0;32m---> 67\u001b[0m \u001b[38;5;28;01massert\u001b[39;00m prior_device \u001b[38;5;241m==\u001b[39m training_device, (\n\u001b[1;32m     68\u001b[0m     \u001b[38;5;124mf\u001b[39m\u001b[38;5;124m\"\u001b[39m\u001b[38;5;124mPrior device \u001b[39m\u001b[38;5;124m'\u001b[39m\u001b[38;5;132;01m{\u001b[39;00mprior_device\u001b[38;5;132;01m}\u001b[39;00m\u001b[38;5;124m'\u001b[39m\u001b[38;5;124m must match training device \u001b[39m\u001b[38;5;124m\"\u001b[39m\n\u001b[1;32m     69\u001b[0m     \u001b[38;5;124mf\u001b[39m\u001b[38;5;124m\"\u001b[39m\u001b[38;5;124m'\u001b[39m\u001b[38;5;132;01m{\u001b[39;00mtraining_device\u001b[38;5;132;01m}\u001b[39;00m\u001b[38;5;124m'\u001b[39m\u001b[38;5;124m. When training on GPU make sure to \u001b[39m\u001b[38;5;124m\"\u001b[39m\n\u001b[1;32m     70\u001b[0m     \u001b[38;5;124m\"\u001b[39m\u001b[38;5;124mpass a prior initialized on the GPU as well, e.g., \u001b[39m\u001b[38;5;124m\"\u001b[39m\n\u001b[1;32m     71\u001b[0m     \u001b[38;5;124m\"\u001b[39m\u001b[38;5;124mprior = torch.distributions.Normal\u001b[39m\u001b[38;5;124m\"\u001b[39m\n\u001b[1;32m     72\u001b[0m     \u001b[38;5;124m\"\u001b[39m\u001b[38;5;124m(torch.zeros(2, device=\u001b[39m\u001b[38;5;124m'\u001b[39m\u001b[38;5;124mcuda\u001b[39m\u001b[38;5;124m'\u001b[39m\u001b[38;5;124m), scale=1.0)`.\u001b[39m\u001b[38;5;124m\"\u001b[39m\n\u001b[1;32m     73\u001b[0m )\n",
      "\u001b[0;31mAssertionError\u001b[0m: Prior device 'cpu' must match training device 'cuda:0'. When training on GPU make sure to pass a prior initialized on the GPU as well, e.g., prior = torch.distributions.Normal(torch.zeros(2, device='cuda'), scale=1.0)`."
     ]
    }
   ],
   "source": [
    "# train the model\n",
    "posterior_ensemble, summaries = runner(loader=loader, seed=1)\n",
    "# seed fixes the validation set "
   ]
  },
  {
   "cell_type": "code",
   "execution_count": null,
   "metadata": {},
   "outputs": [],
   "source": [
    "posterior_ensemble"
   ]
  },
  {
   "cell_type": "code",
   "execution_count": null,
   "metadata": {},
   "outputs": [],
   "source": [
    "summaries"
   ]
  },
  {
   "cell_type": "markdown",
   "metadata": {},
   "source": [
    "Here, the output of the runner is a posterior model and a log of training statistics. The posterior model is a [NeuralPosteriorEnsemble](https://github.com/mackelab/sbi/blob/6c4fa7a6fd254d48d0c18640c832f2d80ab2257a/sbi/utils/posterior_ensemble.py#L19) model and automatically combines samples and probability densities from its component networks."
   ]
  },
  {
   "cell_type": "code",
   "execution_count": null,
   "metadata": {
    "ExecuteTime": {
     "end_time": "2023-11-03T19:06:52.252093Z",
     "start_time": "2023-11-03T19:06:52.042239Z"
    }
   },
   "outputs": [],
   "source": [
    "# plot train/validation loss\n",
    "fig, ax = plt.subplots(1, 1, figsize=(6,4))\n",
    "c = list(mcolors.TABLEAU_COLORS)\n",
    "for i, m in enumerate(summaries):\n",
    "    ax.plot(m['training_log_probs'], ls='-', label=f\"{i}_train\", c=c[i])\n",
    "    ax.plot(m['validation_log_probs'], ls='--', label=f\"{i}_val\", c=c[i])\n",
    "ax.set_xlim(0)\n",
    "ax.set_xlabel('Epoch')\n",
    "ax.set_ylabel('Log probability')\n",
    "ax.legend()"
   ]
  },
  {
   "cell_type": "code",
   "execution_count": null,
   "metadata": {},
   "outputs": [],
   "source": [
    "print(f\"Shape of theta: {theta_train.shape}\")\n",
    "print(f\"Shape of x: {x_train.shape}\")\n"
   ]
  },
  {
   "cell_type": "code",
   "execution_count": null,
   "metadata": {
    "ExecuteTime": {
     "end_time": "2023-11-03T19:06:54.953647Z",
     "start_time": "2023-11-03T19:06:54.836424Z"
    }
   },
   "outputs": [],
   "source": [
    "# Now, SBIRunner returns a custom class instance to be able to pass signature strings\n",
    "# This class has simply for attributes a NeuralPosteriorEstimate and a string list \n",
    "print(posterior_ensemble.signatures)\n",
    "\n",
    "# choose a random input\n",
    "seed_in = 49\n",
    "np.random.seed(seed_in)\n",
    "ind = np.random.randint(len(theta_train))\n",
    "\n",
    "# generate samples from the posterior using accept/reject sampling\n",
    "seed_samp = 32\n",
    "torch.manual_seed(seed_samp)\n",
    "samples = posterior_ensemble.sample((1000,), torch.Tensor(x_train[ind]).to(device))\n",
    "\n",
    "# calculate the log_prob for each sample\n",
    "log_prob = posterior_ensemble.log_prob(samples, torch.Tensor(x_train[ind]).to(device))\n",
    "\n",
    "samples = samples.cpu().numpy()\n",
    "log_prob = log_prob.cpu().numpy()"
   ]
  },
  {
   "cell_type": "code",
   "execution_count": null,
   "metadata": {},
   "outputs": [],
   "source": [
    "print(ind)"
   ]
  },
  {
   "cell_type": "code",
   "execution_count": null,
   "metadata": {},
   "outputs": [],
   "source": [
    "\n",
    "# samples is the posterior, P(theta_hat | y_i), conditioned on data y_i, generated from theta_i (prior)\n",
    "plt.hist(samples[:, 2])\n",
    "print('Prior:',theta[ind, 2])\n",
    "print('Histogram is Posterior:')"
   ]
  },
  {
   "cell_type": "code",
   "execution_count": null,
   "metadata": {},
   "outputs": [],
   "source": [
    "# Plot the posterior samples and the true value for all pairs of theta values\n",
    "fig, axs = plt.subplots(5, 5, figsize=(15, 15))\n",
    "fig.subplots_adjust(hspace=0.4, wspace=0.4)\n",
    "\n",
    "for i in range(5):\n",
    "    for j in range(5):\n",
    "        if i != j:\n",
    "            axs[i, j].plot(theta_train[ind, i], theta_train[ind, j], 'r+', markersize=10, label='true')\n",
    "            im = axs[i, j].scatter(samples[:, i], samples[:, j], c=log_prob, s=4, label='samples', cmap='viridis')\n",
    "            axs[i, j].set_xlabel(f'$\\\\theta_{i}$')\n",
    "            axs[i, j].set_ylabel(f'$\\\\theta_{j}$')\n",
    "            axs[i, j].legend()\n",
    "        else:\n",
    "            axs[i, j].axis('off')\n",
    "\n",
    "# Add a color bar for log probability\n",
    "cbar_ax = fig.add_axes([0.92, 0.15, 0.02, 0.7])\n",
    "fig.colorbar(im, cax=cbar_ax, label='log probability')\n",
    "\n",
    "plt.show()\n",
    "\n",
    "print('True values are marked with red pluses, and the pairs of theta values are plotted against each other.')\n"
   ]
  },
  {
   "cell_type": "code",
   "execution_count": null,
   "metadata": {},
   "outputs": [],
   "source": [
    "labels = ['$\\\\Omega_m$', '$\\\\sigma_8$', 'A_SN1', 'A_AGN1', 'A_SN2', 'A_AGN2']\n",
    "\n",
    "# use ltu-ili's built-in validation metrics to plot the posterior for this point\n",
    "metric = PlotSinglePosterior(\n",
    "    num_samples=1000, sample_method='direct', \n",
    "    labels=labels,\n",
    ")\n",
    "\n",
    "seed_in = 49\n",
    "np.random.seed(seed_in)\n",
    "ind_2 = np.random.randint(len(theta_test))\n",
    "\n",
    "\n",
    "fig = metric(\n",
    "    posterior=posterior_ensemble,\n",
    "    x_obs = x_test[ind_2], theta_fid=theta_test[ind_2]\n",
    ")\n",
    "# this is using [ind] from test set"
   ]
  },
  {
   "cell_type": "code",
   "execution_count": null,
   "metadata": {},
   "outputs": [],
   "source": [
    "print(ind_2)"
   ]
  },
  {
   "cell_type": "markdown",
   "metadata": {},
   "source": [
    "### Using the ensemble of trained posteriors models\n",
    "By default, running a SampleBasedMEtric with posterior from above will compute the metrics using the ensemble model. That is to say the ensemble is considered one model, with the weights of each posterior in the ensemble being the val_log_prob."
   ]
  },
  {
   "cell_type": "code",
   "execution_count": null,
   "metadata": {
    "ExecuteTime": {
     "end_time": "2023-11-03T19:08:03.949691Z",
     "start_time": "2023-11-03T19:07:59.103834Z"
    },
    "scrolled": false
   },
   "outputs": [],
   "source": [
    "# Drawing samples from the ensemble posterior\n",
    "labels = ['$\\\\Omega_m$', '$\\\\sigma_8$', 'A_SN1', 'A_AGN1', 'A_SN2', 'A_AGN2']\n",
    "\n",
    "metric = PosteriorCoverage(\n",
    "    num_samples=1000, sample_method='direct', \n",
    "    labels=labels,\n",
    "    plot_list = [\"coverage\", \"histogram\", \"predictions\", \"tarp\"],\n",
    "    out_dir=None\n",
    "    \n",
    ")\n",
    "\n",
    "fig = metric(\n",
    "    posterior=posterior_ensemble, # NeuralPosteriorEnsemble instance from sbi package\n",
    "    x=x_test, theta=theta_test\n",
    ")"
   ]
  },
  {
   "cell_type": "markdown",
   "metadata": {},
   "source": [
    "In the ensemble model, it looks like our posteriors are well-calibrated when evaluated on marginal distributions, but slightly negatively biased in the multivariate TARP coverage."
   ]
  },
  {
   "cell_type": "markdown",
   "metadata": {},
   "source": [
    "### Evaluating each trained posterior in the ensemble\n",
    "Below, we compute separately each SampleBasedMetric for every posterior in the ensemble."
   ]
  },
  {
   "cell_type": "code",
   "execution_count": null,
   "metadata": {
    "ExecuteTime": {
     "end_time": "2023-11-03T19:08:19.933411Z",
     "start_time": "2023-11-03T19:08:17.751688Z"
    }
   },
   "outputs": [],
   "source": [
    "# \"coverage\", \"histogram\", \"predictions\", \"tarp\"\n",
    "# Then for the MDN\n",
    "fig = metric(\n",
    "    posterior=posterior_ensemble.posteriors[1],\n",
    "    x=x_test, theta=theta_test\n",
    ")"
   ]
  },
  {
   "cell_type": "code",
   "execution_count": null,
   "metadata": {},
   "outputs": [],
   "source": [
    "# Then for the MAF\n",
    "fig = metric(\n",
    "    posterior=posterior_ensemble.posteriors[0],\n",
    "    x=x_test, theta=theta_test\n",
    ")"
   ]
  },
  {
   "cell_type": "markdown",
   "metadata": {},
   "source": [
    "From these results, we see that we are largely consistent and calibrated in the univariate coverage, with some slight negative bias shown in the multivariate coverage. It looks like the MAF model has slightly better constraints than the MDN model, while retaining the same calibration."
   ]
  }
 ],
 "metadata": {
  "kernelspec": {
   "display_name": "camels",
   "language": "python",
   "name": "camels"
  },
  "language_info": {
   "codemirror_mode": {
    "name": "ipython",
    "version": 3
   },
   "file_extension": ".py",
   "mimetype": "text/x-python",
   "name": "python",
   "nbconvert_exporter": "python",
   "pygments_lexer": "ipython3",
   "version": "3.8.3"
  },
  "toc": {
   "base_numbering": 1,
   "nav_menu": {},
   "number_sections": true,
   "sideBar": true,
   "skip_h1_title": false,
   "title_cell": "Table of Contents",
   "title_sidebar": "Contents",
   "toc_cell": false,
   "toc_position": {
    "height": "calc(100% - 180px)",
    "left": "10px",
    "top": "150px",
    "width": "165px"
   },
   "toc_section_display": true,
   "toc_window_display": true
  }
 },
 "nbformat": 4,
 "nbformat_minor": 4
}
