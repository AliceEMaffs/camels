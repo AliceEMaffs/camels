{
 "cells": [
  {
   "cell_type": "markdown",
   "metadata": {},
   "source": [
    "Absolute magnitude is defined to be the apparent magnitude an object would have if it were located at a distance of 10 parsecs.\n",
    "In astronomy, absolute magnitude (M) is a measure of the luminosity of a celestial object on an inverse logarithmic astronomical magnitude scale."
   ]
  },
  {
   "cell_type": "code",
   "execution_count": null,
   "metadata": {},
   "outputs": [],
   "source": [
    "import time\n",
    "import numpy as np\n",
    "import h5py\n",
    "import hdf5plugin\n",
    "import pandas as pd\n",
    "import os \n",
    "import csv\n",
    "import resource\n",
    "\n",
    "import matplotlib as mpl\n",
    "import matplotlib.colors as cm\n",
    "import matplotlib.pyplot as plt\n",
    "import matplotlib.gridspec as gridspec\n",
    "\n",
    "from unyt import yr, Myr, kpc, arcsec, nJy, Mpc, Msun, erg, s, Hz\n",
    "from astropy.cosmology import Planck18 as cosmo\n",
    "\n",
    "\n",
    "from synthesizer.grid import Grid\n",
    "from synthesizer.particle import Gas, Stars\n",
    "from synthesizer.filters import Filter, FilterCollection\n",
    "from synthesizer.sed import combine_list_of_seds\n",
    "from synthesizer.load_data.load_camels import load_CAMELS_IllustrisTNG\n",
    "from synthesizer.kernel_functions import Kernel\n",
    "from synthesizer.conversions import lnu_to_absolute_mag\n",
    "\n",
    "current_directory = os.getcwd()\n",
    "print(\"Current directory:\", current_directory)\n"
   ]
  },
  {
   "cell_type": "markdown",
   "metadata": {},
   "source": [
    "# Start the timer\n",
    "start_time = time.time()\n"
   ]
  },
  {
   "cell_type": "code",
   "execution_count": null,
   "metadata": {},
   "outputs": [],
   "source": [
    "\n",
    "# Alternative method for LF:\n",
    "# try this method again, but using AB mag instead of mass, and suply your own bins (up to -17, say)\n",
    "def calc_lf(ab_mag, volume, massBinLimits):\n",
    "# OG:        hist, dummy = np.histogram(np.log10(mstar), bins = massBinLimits)\n",
    "        hist, dummy = np.histogram(ab_mag, bins = massBinLimits)\n",
    "        hist = np.float64(hist)\n",
    "        phi = (hist / volume) / (massBinLimits[1] - massBinLimits[0])\n",
    "        phi_sigma = (np.sqrt(hist) / volume) /\\\n",
    "                    (massBinLimits[1] - massBinLimits[0]) # Poisson errors\n",
    "        return phi, phi_sigma, hist\n",
    "    "
   ]
  },
  {
   "cell_type": "markdown",
   "metadata": {},
   "source": [
    "\n",
    "phi_arr =[] #phi\n",
    "phi_sigma_arr =[] # phi_sigma\n",
    "hist_arr = [] # hist\n",
    "z_arr = [] #redshift_074, \n",
    "abs_mag_arr = [] #absolute mag (th filter)\n",
    "Vcom_arr = [] # comoving vol\n",
    "massBinLimits_arr = []\n"
   ]
  },
  {
   "cell_type": "markdown",
   "metadata": {},
   "source": [
    "len(phi_arr)"
   ]
  },
  {
   "cell_type": "code",
   "execution_count": null,
   "metadata": {},
   "outputs": [],
   "source": [
    "grid_name = \"bc03-2016-Miles_chabrier-0.1,100.hdf5\"\n",
    "grid_dir = \"/home/jovyan/\"\n",
    "\n",
    "# Create a new grid\n",
    "#grid = Grid(grid_name, grid_dir=grid_dir, read_lines=False)\n",
    "\n",
    "# instead of using a filter, which requires us to load in large SEDs first, pass the grid wavelength\n",
    "#filt1 = Filter(\"top_hat/filter.1\", lam_min=1400, lam_max=1600, new_lam=grid.lam)\n",
    "#filt_lst = [filt1]\n",
    "\n",
    "# Define a new set of wavelengths\n",
    "lims_lams=(1400, 1600)\n",
    "\n",
    "grid = Grid(grid_name, grid_dir=grid_dir, lam_lims=lims_lams, read_lines=False)\n",
    "print(grid.shape)\n",
    "print(grid)"
   ]
  },
  {
   "cell_type": "code",
   "execution_count": null,
   "metadata": {},
   "outputs": [],
   "source": [
    "# Define the directory where the text files will be saved\n",
    "output_dir = \"/home/jovyan/camels/LH/get_LF/output/\"\n"
   ]
  },
  {
   "cell_type": "code",
   "execution_count": null,
   "metadata": {},
   "outputs": [],
   "source": [
    "\n",
    "# get gals\n",
    "LH_X = 'LH_50'\n",
    "dir_ = '/home/jovyan/Data/Sims/IllustrisTNG/LH/' + LH_X\n",
    "gals_074 = load_CAMELS_IllustrisTNG(\n",
    "    dir_,\n",
    "    snap_name='snapshot_074.hdf5', \n",
    "    fof_name='groups_074.hdf5',\n",
    "    verbose=False,\n",
    ")"
   ]
  },
  {
   "cell_type": "markdown",
   "metadata": {},
   "source": [
    "LH_104 = 'LH_104'\n",
    "dir_ = '/home/jovyan/Data/Sims/IllustrisTNG/LH/' + LH_104\n",
    "gals_104 = load_CAMELS_IllustrisTNG(\n",
    "    dir_,\n",
    "    snap_name='snapshot_074.hdf5', \n",
    "    fof_name='groups_074.hdf5',\n",
    "    verbose=False,\n",
    ")"
   ]
  },
  {
   "cell_type": "markdown",
   "metadata": {},
   "source": [
    "\n",
    "for gal in gals_074:\n",
    "    print(f\"Galaxy has {gal.stars.nstars} stellar particles\")\n",
    "    print(f\"Galaxy gas {gal.gas.nparticles} gas particles\")\n"
   ]
  },
  {
   "cell_type": "markdown",
   "metadata": {},
   "source": [
    "gals_074"
   ]
  },
  {
   "cell_type": "code",
   "execution_count": null,
   "metadata": {},
   "outputs": [],
   "source": [
    "\n",
    "# Filter galaxies to only include those with 100 or more star particles\n",
    "gals_074 = [gal for gal in gals_074 if gal.stars.nstars >= 100]\n",
    "print(len(gals_074))\n",
    "gals_074 = [gal for gal in gals_074 if gal.gas.nparticles >= 100]\n"
   ]
  },
  {
   "cell_type": "code",
   "execution_count": null,
   "metadata": {},
   "outputs": [],
   "source": [
    "# -1.68397285e+02\n",
    "for gal in gals_074:\n",
    "    print(gal.stars.ages)"
   ]
  },
  {
   "cell_type": "code",
   "execution_count": null,
   "metadata": {},
   "outputs": [],
   "source": [
    "for gal in gals_104:\n",
    "    print(gal.stars.ages)"
   ]
  },
  {
   "cell_type": "code",
   "execution_count": null,
   "metadata": {},
   "outputs": [],
   "source": [
    "#gals_cp = [gal for gal in gals_cp if gal.stars.ages >= 0] # found some negative data in gal[276] for LH_50, try this to fix.\n",
    "\n",
    "\n",
    "\n",
    "# Assuming gals_cp is a list or array containing multiple galaxies\n",
    "for gal in gals_074:\n",
    "    # Access the Stars object for the current galaxy\n",
    "    stars = gal.stars\n",
    "    \n",
    "    # Access the relevant attributes\n",
    "    initial_masses = stars.initial_masses\n",
    "    ages = stars.ages\n",
    "    metallicities = stars.metallicities\n",
    "\n",
    "    # Create a mask for stars with non-negative initial_masses and positive ages\n",
    "    mask = (initial_masses >= 0) & (ages > 0)\n",
    "    \n",
    "    # Apply the mask to all relevant attributes\n",
    "    cleaned_initial_masses = initial_masses[mask]\n",
    "    cleaned_ages = ages[mask]\n",
    "    cleaned_metallicities = metallicities[mask]\n",
    "    \n",
    "    # Create a new Stars object with the cleaned data\n",
    "    cleaned_stars = Stars(initial_masses=cleaned_initial_masses, ages=cleaned_ages, metallicities=cleaned_metallicities)\n",
    "    \n",
    "    # Update the stars attribute of the current galaxy with the cleaned Stars object\n",
    "    gal.stars = cleaned_stars\n",
    "\n",
    "    # Optionally print the cleaned ages to verify\n",
    "    print(cleaned_stars.ages)\n",
    "\n"
   ]
  },
  {
   "cell_type": "markdown",
   "metadata": {},
   "source": [
    "#gals_074 = [gal for gal in gals_074 if gal.stars.ages >= 100] # found some negative data in gal[276] for LH_50, try this to fix.\n",
    "gals_test = [gal for gal in gals_074 if all(age >= 100 for age in gal.stars.ages)]\n"
   ]
  },
  {
   "cell_type": "code",
   "execution_count": null,
   "metadata": {},
   "outputs": [],
   "source": [
    "for gal in gals_074:\n",
    "    print(gal.stars.ages)"
   ]
  },
  {
   "cell_type": "code",
   "execution_count": null,
   "metadata": {},
   "outputs": [],
   "source": [
    "# debugging for negative values for each LH\n",
    "# Iterate through each galaxy in gals_074 with an index\n",
    "for index, gal in enumerate(gals_104):\n",
    "    # Access the ages array of the stars in the current galaxy\n",
    "    ages = gal.stars.ages\n",
    "    \n",
    "    # Find the negative values in the ages array\n",
    "    negative_ages = ages[ages < 0]\n",
    "    \n",
    "    # If there are any negative values, print them\n",
    "    if negative_ages.size > 0:\n",
    "        print(f\"Galaxy Index: {index}\")\n",
    "        print(\"Negative ages:\", negative_ages)\n"
   ]
  },
  {
   "cell_type": "code",
   "execution_count": null,
   "metadata": {},
   "outputs": [],
   "source": [
    "# Iterate through each galaxy in gals_074 with an index\n",
    "for index, gal in enumerate(gals_074):\n",
    "    # Access the ages array of the stars in the current galaxy\n",
    "    ages = gal.stars.ages\n",
    "    \n",
    "    # Find the negative values in the ages array\n",
    "    negative_ages = ages[ages < 0]\n",
    "    \n",
    "    # If there are any negative values, print them\n",
    "    if negative_ages.size > 0:\n",
    "        print(f\"Galaxy Index: {index}\")\n",
    "        print(\"Negative ages:\", negative_ages)\n"
   ]
  },
  {
   "cell_type": "markdown",
   "metadata": {},
   "source": [
    "gals_cp = gals_074 \n",
    "\n",
    "# Remove stars from each galaxy where the age is less than 100\n",
    "for gal in gals_cp:\n",
    "    obj = gal.stars.ages\n",
    "    #print(obj)\n",
    "    cleaned_obj = [arr[arr >= 0] for arr in obj]\n",
    "    gal.stars.ages = cleaned_obj\n",
    "    print(gal.stars.ages)\n",
    "    \n"
   ]
  },
  {
   "cell_type": "markdown",
   "metadata": {},
   "source": [
    "gals_test = [gal for gal in gals_074 if all(metallicities >=1e-6 for metallicities in gal.stars.metallicities)]\n",
    "\n",
    "# found some very small metalcities also (7.16442446e-06 to -10)\n",
    "#gals_074 = [gal for gal in gals_074 if gal.stars.metallicities >=1e-6]"
   ]
  },
  {
   "cell_type": "code",
   "execution_count": null,
   "metadata": {},
   "outputs": [],
   "source": [
    "for gal in gals_074:\n",
    "    print(gal.gas.nparticles)\n",
    "    print(gal.stars.nstars)"
   ]
  },
  {
   "cell_type": "code",
   "execution_count": null,
   "metadata": {},
   "outputs": [],
   "source": [
    "# Assuming your list of Galaxy objects is named 'gals_074'\n",
    "for index, galaxy in enumerate(gals_074):\n",
    "    print(\"Gal: [\", index , ']')"
   ]
  },
  {
   "cell_type": "code",
   "execution_count": null,
   "metadata": {},
   "outputs": [],
   "source": [
    "# try different method to get specs:\n",
    "#specs = np.vstack([g.stars.get_spectra_incident(grid).lnu for g in gals_074])\n",
    "#print(specs)"
   ]
  },
  {
   "cell_type": "code",
   "execution_count": null,
   "metadata": {},
   "outputs": [],
   "source": [
    "g = gals_074[276]\n",
    "print(g)"
   ]
  },
  {
   "cell_type": "code",
   "execution_count": null,
   "metadata": {},
   "outputs": [],
   "source": [
    "print(type(g))"
   ]
  },
  {
   "cell_type": "code",
   "execution_count": null,
   "metadata": {},
   "outputs": [],
   "source": [
    "print(g.stars.initial_masses)\n"
   ]
  },
  {
   "cell_type": "code",
   "execution_count": null,
   "metadata": {},
   "outputs": [],
   "source": [
    "print(g.stars.ages)\n"
   ]
  },
  {
   "cell_type": "code",
   "execution_count": null,
   "metadata": {},
   "outputs": [],
   "source": [
    "print(g.stars.metallicities)"
   ]
  },
  {
   "cell_type": "markdown",
   "metadata": {
    "scrolled": false
   },
   "source": [
    "\n",
    "for gal in gals_074:\n",
    "    print(f\"Galaxy has {gal.stars.nstars} stellar particles\")\n",
    "    print(f\"Galaxy gas {gal.gas.nparticles} gas particles\")\n"
   ]
  },
  {
   "cell_type": "code",
   "execution_count": null,
   "metadata": {},
   "outputs": [],
   "source": [
    "\n",
    "\n",
    "cat_074 = dir_+'/groups_074.hdf5'\n",
    "# open file\n",
    "f_h5py = h5py.File(cat_074, 'r')\n",
    "\n",
    "# read different attributes of the header\n",
    "boxSize_074 = f_h5py['Header'].attrs[u'BoxSize']/1e3 #Mpc/h\n",
    "redshift_074 = f_h5py['Header'].attrs[u'Redshift']\n"
   ]
  },
  {
   "cell_type": "markdown",
   "metadata": {},
   "source": [
    "# Get the number of star particles for each galaxy\n",
    "nstars_list = [gal.stars.nstars for gal in gals_074]\n",
    "# Get the number of gas particles for each galaxy\n",
    "ngas_list = [gal.gas.nparticles for gal in gals_074]\n",
    "\n",
    "# Calculate the minimum and maximum number of star particles\n",
    "min_nstars = min(nstars_list)\n",
    "max_nstars = max(nstars_list)\n",
    "\n",
    "# Calculate the minimum and maximum number of gas particles\n",
    "min_ngas = min(ngas_list)\n",
    "max_ngas = max(ngas_list)\n",
    "\n",
    "print(f\"Minimum number of star particles: {min_nstars}\")\n",
    "print(f\"Maximum number of star particles: {max_nstars}\")\n",
    "print(f\"Minimum number of gas particles: {min_ngas}\")\n",
    "print(f\"Maximum number of gas particles: {max_ngas}\")\n"
   ]
  },
  {
   "cell_type": "code",
   "execution_count": null,
   "metadata": {},
   "outputs": [],
   "source": [
    "\n",
    "spec_list = []\n",
    "for index, gal in enumerate(gals_074):\n",
    "    print(\"Gal: [\", index , ']')\n",
    "    print('in for loop')\n",
    "    # get_spectra_incident An Sed object containing the stellar spectra\n",
    "    spec = gal.stars.get_spectra_incident(grid)\n",
    "    print(spec)\n",
    "    print('got spectra, getting fnu')\n",
    "    spec.get_fnu0()\n",
    "    print('appending spec to list')\n",
    "    spec_list.append(spec)\n",
    "\n"
   ]
  },
  {
   "cell_type": "code",
   "execution_count": null,
   "metadata": {},
   "outputs": [],
   "source": [
    "filt1 = Filter(\"top_hat/filter.1\", lam_min=1400, lam_max=1600, new_lam=grid.lam)\n",
    "filt_lst = [filt1]\n",
    "# combine\n",
    "seds = combine_list_of_seds(spec_list)\n",
    "\n",
    "seds.lnu # rest frame lumd\n",
    "seds.get_photo_luminosities(filt_lst)\n",
    "seds.photo_luminosities.photo_luminosities\n",
    "abs_mag = lnu_to_absolute_mag(seds.photo_luminosities.photo_luminosities)\n",
    "abs_mag_th = abs_mag[0]\n"
   ]
  },
  {
   "cell_type": "code",
   "execution_count": null,
   "metadata": {},
   "outputs": [],
   "source": [
    "# next steps, get luminosity function for these magnitudes\n",
    "# co-moving volume: BoxSize_025 and redshift:\n",
    "little_h =  0.6711\n",
    "Vphys = (boxSize_074/little_h )**3\n",
    "Vcom = Vphys * ((1+redshift_074)**3)\n"
   ]
  },
  {
   "cell_type": "code",
   "execution_count": null,
   "metadata": {},
   "outputs": [],
   "source": [
    "\n",
    "massBinLimits = np.arange(-22, -16, 0.5)\n",
    "phi, phi_sigma, hist = calc_lf(abs_mag_th, Vcom, massBinLimits)\n",
    "# NOTE: 074 is the same redshift as CV_0/025\n",
    "massBinLimits = massBinLimits[:-1]\n"
   ]
  },
  {
   "cell_type": "code",
   "execution_count": null,
   "metadata": {},
   "outputs": [],
   "source": [
    "# actually need phi to be logged before we put it into the file:\n",
    "phi = np.log10(phi)"
   ]
  },
  {
   "cell_type": "code",
   "execution_count": null,
   "metadata": {},
   "outputs": [],
   "source": [
    "output_dir = \"/home/jovyan/camels/LH/get_LF/output/\"\n",
    "\n",
    "# Define output file path\n",
    "output_file = f\"{output_dir}{LH_X}_test.txt\"\n",
    "\n",
    "# Write the data to the text file line by line\n",
    "with open(output_file, 'w') as txtfile:\n",
    "    # Write phi values\n",
    "    txtfile.write(\"phi\\n\")\n",
    "    for value in phi:\n",
    "        txtfile.write(f\"{value}\\n\")\n",
    "\n",
    "    # Write phi_sigma values\n",
    "    txtfile.write(\"phi_sigma\\n\")\n",
    "    for value in phi_sigma:\n",
    "        txtfile.write(f\"{value}\\n\")\n",
    "\n",
    "    # Write hist values\n",
    "    txtfile.write(\"hist\\n\")\n",
    "    for value in hist:\n",
    "        txtfile.write(f\"{value}\\n\")\n",
    "\n",
    "    # Write massBinLimits values\n",
    "    txtfile.write(\"massBinLimits\\n\")\n",
    "    for value in massBinLimits:\n",
    "        txtfile.write(f\"{value}\\n\")\n",
    "\n",
    "\n",
    "print('Written out: /home/jovyan/camels/play/synth-play/LH/output/',LH_X)"
   ]
  },
  {
   "cell_type": "markdown",
   "metadata": {},
   "source": [
    "# Stop the timer\n",
    "end_time = time.time()\n",
    "\n",
    "# Calculate the elapsed time\n",
    "elapsed_time = end_time - start_time\n",
    "\n",
    "print(\"Elapsed time:\", elapsed_time, \"seconds\")"
   ]
  },
  {
   "cell_type": "code",
   "execution_count": null,
   "metadata": {},
   "outputs": [],
   "source": [
    "# Get memory usage in bytes\n",
    "memory_usage = resource.getrusage(resource.RUSAGE_SELF).ru_maxrss\n",
    "print(\"Memory usage end:\", memory_usage/1000000, \"GB\")\n"
   ]
  },
  {
   "cell_type": "code",
   "execution_count": null,
   "metadata": {},
   "outputs": [],
   "source": [
    "# will do latest LH_ set in loop as a test\n",
    "label_z = 'z = 0.46'\n",
    "\n",
    "\n",
    "# Plot the luminosity function\n",
    "plt.errorbar(massBinLimits, phi, yerr=phi_sigma, fmt='o', color='blue',label=label_z)\n",
    "plt.xlabel('Absolute Magnitude (AB)')\n",
    "plt.ylabel('Number Density (Mpc^-3 mag^-1)')\n",
    "plt.yscale('log')\n",
    "\n",
    "plt.title('Luminosity Function XMM-OM filter')\n",
    "plt.grid(True)\n",
    "plt.show()"
   ]
  },
  {
   "cell_type": "code",
   "execution_count": null,
   "metadata": {},
   "outputs": [],
   "source": []
  }
 ],
 "metadata": {
  "kernelspec": {
   "display_name": "Python 3 (ipykernel)",
   "language": "python",
   "name": "python3"
  },
  "language_info": {
   "codemirror_mode": {
    "name": "ipython",
    "version": 3
   },
   "file_extension": ".py",
   "mimetype": "text/x-python",
   "name": "python",
   "nbconvert_exporter": "python",
   "pygments_lexer": "ipython3",
   "version": "3.9.15"
  }
 },
 "nbformat": 4,
 "nbformat_minor": 2
}
