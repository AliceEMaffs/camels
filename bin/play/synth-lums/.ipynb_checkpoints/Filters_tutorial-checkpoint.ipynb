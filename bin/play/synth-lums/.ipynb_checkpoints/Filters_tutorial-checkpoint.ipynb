{
 "cells": [
  {
   "cell_type": "code",
   "execution_count": 1,
   "metadata": {},
   "outputs": [],
   "source": [
    "import numpy as np\n",
    "from synthesizer.filters import Filter, FilterCollection\n",
    "from synthesizer.exceptions import WavelengthOutOfRange, InconsistentWavelengths"
   ]
  },
  {
   "cell_type": "code",
   "execution_count": 2,
   "metadata": {},
   "outputs": [],
   "source": [
    "lams = np.linspace(2000, 55000, 1000)\n"
   ]
  },
  {
   "cell_type": "markdown",
   "metadata": {},
   "source": [
    "# Creating different types of Filter\n",
    "To define a generic Filter we need to define some arbitray transmission curve that maps onto our wavelength array.\n"
   ]
  },
  {
   "cell_type": "code",
   "execution_count": 3,
   "metadata": {},
   "outputs": [],
   "source": [
    "trans = np.zeros(lams.size)\n",
    "trans[int(lams.size / 4) : int(lams.size / 2)] = 1\n",
    "filt = Filter(\"generic/filter.1\", transmission=trans, new_lam=lams)"
   ]
  },
  {
   "cell_type": "markdown",
   "metadata": {},
   "source": [
    "To define a Top Hat Filter we need can define either the minimum and maximum wavelength of the transmission…\n",
    "\n"
   ]
  },
  {
   "cell_type": "code",
   "execution_count": 4,
   "metadata": {},
   "outputs": [],
   "source": [
    "filt1 = Filter(\"top_hat/filter.1\", lam_min=3000, lam_max=5500, new_lam=lams)\n"
   ]
  },
  {
   "cell_type": "markdown",
   "metadata": {},
   "source": [
    "or the effective wavelength of the transmission and its FWHM.\n",
    "\n"
   ]
  },
  {
   "cell_type": "code",
   "execution_count": 5,
   "metadata": {},
   "outputs": [],
   "source": [
    "filt2 = Filter(\"top_hat/filter.2\", lam_eff=7000, lam_fwhm=2000, new_lam=lams)\n",
    "\n"
   ]
  },
  {
   "cell_type": "markdown",
   "metadata": {},
   "source": [
    "To create a Filter from the SVO database we simply pass the corresponding SVO filter identifier when intialising the Filter.\n",
    "\n"
   ]
  },
  {
   "cell_type": "code",
   "execution_count": 6,
   "metadata": {},
   "outputs": [],
   "source": [
    "filt3 = Filter(\"JWST/NIRCam.F444W\", new_lam=lams)\n"
   ]
  },
  {
   "cell_type": "code",
   "execution_count": 7,
   "metadata": {},
   "outputs": [
    {
     "name": "stdout",
     "output_type": "stream",
     "text": [
      "Warning: Out of range transmission values found (min=0.0, max=8.244713635027166). Transmission will be clipped to [0-1]\n"
     ]
    }
   ],
   "source": [
    "fil_uvm2_XMM = Filter(\"XMM/OM.UVM2\", new_lam=lams)"
   ]
  },
  {
   "attachments": {
    "image.png": {
     "image/png": "[encoded data removed]"
    }
   },
   "cell_type": "markdown",
   "metadata": {},
   "source": [
    "lams is the wavelength grid\n",
    "Here's what each parameter in the np.linspace function means:\n",
    "\n",
    "2000: The starting point of the sequence.\n",
    "55000: The end point of the sequence.\n",
    "1000: The number of samples to generate, i.e., the length of the sequence.\n",
    "\n",
    "So, lams will be an array containing 1000 wavelengths, starting from 2000 and ending at 55000, with each wavelength being evenly spaced. \n",
    "For XMM OM - UVM2 we might want it to look more like this:\n",
    "\n",
    "![image.png](attachment:image.png)"
   ]
  },
  {
   "cell_type": "code",
   "execution_count": 8,
   "metadata": {},
   "outputs": [
    {
     "name": "stdout",
     "output_type": "stream",
     "text": [
      "Warning: Out of range transmission values found (min=0.06405312421962199, max=8.244969688660557). Transmission will be clipped to [0-1]\n"
     ]
    }
   ],
   "source": [
    "\n",
    "lams_xmm = np.linspace(1883.78, 2994.45, 1000) # using min and max values from wavelength given from SVO\n",
    "\n",
    "fil_uvm2_XMM = Filter(\"XMM/OM.UVM2\", new_lam=lams_xmm)"
   ]
  },
  {
   "cell_type": "markdown",
   "metadata": {},
   "source": [
    "For a set of SVO filters we must pass a list of filter codes to be extracted from the database.\n",
    "\n"
   ]
  },
  {
   "cell_type": "code",
   "execution_count": 9,
   "metadata": {},
   "outputs": [
    {
     "name": "stdout",
     "output_type": "stream",
     "text": [
      "Warning: Out of range transmission values found (min=0.06405312421962199, max=8.244969688660557). Transmission will be clipped to [0-1]\n"
     ]
    }
   ],
   "source": [
    "# filter_codes = [f\"JWST/NIRCam.{f}\" for f in [\"F070W\", \"F444W\"]]\n",
    "filter_codes = [\"XMM/OM.UVM2\"] \n",
    "svo_fil_xmm = FilterCollection(filter_codes=filter_codes, new_lam=lams_xmm)"
   ]
  },
  {
   "cell_type": "code",
   "execution_count": 10,
   "metadata": {},
   "outputs": [
    {
     "name": "stdout",
     "output_type": "stream",
     "text": [
      "Warning: Out of range transmission values found (min=0.12122962640000035, max=20.472158913665666). Transmission will be clipped to [0-1]\n",
      "Warning: Out of range transmission values found (min=0.1512396783999999, max=20.471441939891893). Transmission will be clipped to [0-1]\n"
     ]
    }
   ],
   "source": [
    "# now get for UVOT\n",
    "\n",
    "lams_uvot = np.linspace(1699.08, 2964.30, 1000) # using min and max values from wavelength given from SVO\n",
    "\n",
    "fil_uvm2_UVOT = Filter(\"Swift/UVOT.UVM2\", new_lam=lams_xmm)\n",
    "\n",
    "filter_codes = [\"Swift/UVOT.UVM2\"] \n",
    "svo_fil_uvot = FilterCollection(filter_codes=filter_codes, new_lam=lams_uvot)"
   ]
  },
  {
   "cell_type": "code",
   "execution_count": 11,
   "metadata": {},
   "outputs": [],
   "source": [
    "filt_lst = [fil_uvm2_UVOT, fil_uvm2_XMM]\n",
    "\n",
    "combined_filters = FilterCollection(\n",
    "    filters=filt_lst, new_lam=lams_xmm\n",
    ")"
   ]
  },
  {
   "cell_type": "code",
   "execution_count": 12,
   "metadata": {},
   "outputs": [
    {
     "name": "stdout",
     "output_type": "stream",
     "text": [
      "We have 2 filters\n"
     ]
    }
   ],
   "source": [
    "print(\"We have %d filters\" % len(combined_filters))\n"
   ]
  },
  {
   "cell_type": "markdown",
   "metadata": {},
   "source": [
    "One important thing to note when creating a FilterCollection is that all Filters in a FilterCollection will always be interpolated onto a common wavelength array. If a wavelength array has been passed to new_lam then all transmission curves will be interpolated on to it, otherwise, a common wavelength array is found including the wavelength arrays of all filters with any gaps filled with values at the minimum mean resolution of all filters. Any overlaping areas will adopt the wavelength array of the higher resolution filter."
   ]
  },
  {
   "cell_type": "markdown",
   "metadata": {},
   "source": [
    "# Working with a FilterCollection\n",
    "FilterCollections behave a bit like Python lists and a bit like Python dicts. As such you can treat them as you would either of these data structures. Additionally, some helpful Python operators have been overloaded to make working with FilterCollections easier."
   ]
  },
  {
   "cell_type": "markdown",
   "metadata": {},
   "source": []
  },
  {
   "cell_type": "code",
   "execution_count": 13,
   "metadata": {},
   "outputs": [
    {
     "name": "stdout",
     "output_type": "stream",
     "text": [
      "We have 2 filters\n"
     ]
    }
   ],
   "source": [
    "# you can get their length\n",
    "print(\"We have %d filters\" % len(combined_filters))\n"
   ]
  },
  {
   "cell_type": "code",
   "execution_count": 14,
   "metadata": {},
   "outputs": [
    {
     "name": "stdout",
     "output_type": "stream",
     "text": [
      "My Filters:\n",
      "Swift/UVOT.UVM2\n",
      "XMM/OM.UVM2\n"
     ]
    }
   ],
   "source": [
    "# Loop over them:\n",
    "print(\"My Filters:\")\n",
    "for f in combined_filters:\n",
    "    print(f.filter_code)\n",
    "\n"
   ]
  },
  {
   "cell_type": "code",
   "execution_count": 15,
   "metadata": {},
   "outputs": [],
   "source": [
    "# For a set of generic filters we must provide a dictionary of transmission curves where the key is the Filter’s filter code.\n",
    "\n",
    "generics = {\"generic_filter1\": trans, \"generic_filter2\": trans}\n",
    "generic_filters = FilterCollection(generic_dict=generics, new_lam=lams)\n",
    "generics = {\"generic_filter3\": trans}\n"
   ]
  },
  {
   "cell_type": "code",
   "execution_count": 16,
   "metadata": {},
   "outputs": [
    {
     "name": "stdout",
     "output_type": "stream",
     "text": [
      "This is the same filter collection!\n",
      "These are not the same filter collection!\n"
     ]
    }
   ],
   "source": [
    "# Compare FilterCollections:\n",
    "\n",
    "if combined_filters == combined_filters:\n",
    "    print(\"This is the same filter collection!\")\n",
    "if combined_filters != generic_filters:\n",
    "    print(\"These are not the same filter collection!\")"
   ]
  },
  {
   "cell_type": "code",
   "execution_count": 17,
   "metadata": {},
   "outputs": [
    {
     "name": "stdout",
     "output_type": "stream",
     "text": [
      "Swift/UVOT.UVM2\n"
     ]
    }
   ],
   "source": [
    "# Extract a specific filter by key:\n",
    "\n",
    "filt = combined_filters[\"Swift/UVOT.UVM2\"]\n",
    "print(filt.filter_code)"
   ]
  },
  {
   "cell_type": "code",
   "execution_count": 18,
   "metadata": {},
   "outputs": [
    {
     "name": "stdout",
     "output_type": "stream",
     "text": [
      "My combined Filters: ['Swift/UVOT.UVM2', 'XMM/OM.UVM2']\n"
     ]
    }
   ],
   "source": [
    "# And add Filters and FilterCollections:\n",
    "new_filters = combined_filters# + generic_filters\n",
    "print(\"My combined Filters:\", new_filters.filter_codes)\n",
    "\n"
   ]
  },
  {
   "cell_type": "markdown",
   "metadata": {},
   "source": [
    "# Helper methods\n",
    "We provide a number of helper methods and functions to make certain functionality quick and easy.\n",
    "\n",
    "You can easily plot the transmission curves.\n",
    "\n"
   ]
  },
  {
   "cell_type": "markdown",
   "metadata": {},
   "source": [
    "Note that adding Filters or FilterCollections to a FilterCollection will result in interpolation of the transmission curves onto the FilterCollection’s wavelength array. In the event the wavelength arrays differ, the wavelengths of the FilterCollection being added to are maintained and a warning is printed if this will truncate the transmission curve of the Filter being added. If the truncation results in 0 transmission then an error is raised."
   ]
  },
  {
   "cell_type": "code",
   "execution_count": 19,
   "metadata": {},
   "outputs": [
    {
     "data": {
      "image/png": "[encoded data removed]",
      "text/plain": [
       "<Figure size 500x350 with 1 Axes>"
      ]
     },
     "metadata": {},
     "output_type": "display_data"
    }
   ],
   "source": [
    "fig, ax = new_filters.plot_transmission_curves(show=True)\n"
   ]
  },
  {
   "cell_type": "code",
   "execution_count": 21,
   "metadata": {},
   "outputs": [
    {
     "data": {
      "image/png": "[encoded data removed]",
      "text/plain": [
       "<Figure size 500x350 with 1 Axes>"
      ]
     },
     "metadata": {},
     "output_type": "display_data"
    }
   ],
   "source": [
    "from synthesizer.filters import UVJ\n",
    "\n",
    "lams = np.linspace(2500, 15000, 1000)\n",
    "fc = UVJ(new_lam=lams)\n",
    "fig, ax = fc.plot_transmission_curves(show=True)"
   ]
  },
  {
   "cell_type": "markdown",
   "metadata": {},
   "source": [
    "Each individual Filter has a number of methods to calculate useful filter properties.\n",
    "\n"
   ]
  },
  {
   "cell_type": "code",
   "execution_count": 22,
   "metadata": {},
   "outputs": [
    {
     "name": "stdout",
     "output_type": "stream",
     "text": [
      "The pivot wavelength of Swift/UVOT.UVM2 is 2.25e+03 Å.\n",
      "The transmission at the pivot wavelength of Swift/UVOT.UVM2 is 1.86e+01.\n",
      "The mean wavelength of Swift/UVOT.UVM2 is 2.23e+03 Å.\n",
      "The bandwidth of Swift/UVOT.UVM2 is 1.94e+02 Å.\n",
      "The FWHM of Swift/UVOT.UVM2 is 4.57e+02 Å.\n",
      "The transmission peak of Swift/UVOT.UVM2 is 2.05e+01.\n",
      "The rectangular width of Swift/UVOT.UVM2 is 5.18e+02.\n",
      "The maximum wavelength with non-zero transmission of Swift/UVOT.UVM2 is 3.42e+03 Å.\n",
      "The minimum wavelength with non-zero transmission of Swift/UVOT.UVM2 is 1.60e+03 Å.\n",
      "The minimum and maximum wavelength (regardless of transmission) of Swift/UVOT.UVM2 is 1.60e+03 Å and 3427.496 Å:.2e.\n"
     ]
    }
   ],
   "source": [
    "print(f\"The pivot wavelength of {filt.filter_code} is {filt.pivwv():.2e}.\")\n",
    "print(\n",
    "    f\"The transmission at the pivot wavelength of {filt.filter_code} is {filt.pivT():.2e}.\"\n",
    ")\n",
    "print(f\"The mean wavelength of {filt.filter_code} is {filt.meanwv():.2e}.\")\n",
    "print(f\"The bandwidth of {filt.filter_code} is {filt.bandw():.2e}.\")\n",
    "print(f\"The FWHM of {filt.filter_code} is {filt.fwhm():.2e}.\")\n",
    "print(f\"The transmission peak of {filt.filter_code} is {filt.Tpeak():.2e}.\")\n",
    "print(f\"The rectangular width of {filt.filter_code} is {filt.rectw():.2e}.\")\n",
    "print(\n",
    "    f\"The maximum wavelength with non-zero transmission of {filt.filter_code} is {filt.max():.2e}.\"\n",
    ")\n",
    "print(\n",
    "    f\"The minimum wavelength with non-zero transmission of {filt.filter_code} is {filt.min():.2e}.\"\n",
    ")\n",
    "min_max = filt.mnmx()\n",
    "print(\n",
    "    f\"The minimum and maximum wavelength (regardless of transmission) of {filt.filter_code} is {min_max[0]:.2e} and {min_max[1]}:.2e.\"\n",
    ")"
   ]
  },
  {
   "cell_type": "markdown",
   "metadata": {},
   "source": [
    "# Saving and loading FilterCollections\n",
    "You may encounter situations where you want to save a FilterCollection. This can be particularly useful to avoid periods where the SVO database goes down or when using a single FilterCollection across a number of MPI ranks where the multiple SVO database calls can cause failures.\n",
    "\n",
    "To do this you can simply call the write_filters method, passing the path where you want to save the file. This will create a HDF5 file containing the attributes and datasets defining the FilterCollection.\n",
    "\n"
   ]
  },
  {
   "cell_type": "code",
   "execution_count": 23,
   "metadata": {},
   "outputs": [],
   "source": [
    "# Write out the filter collection to a file in the synthesizer root directory\n",
    "new_filters.write_filters(path=\"test_filter_collection.hdf5\")"
   ]
  },
  {
   "cell_type": "markdown",
   "metadata": {},
   "source": [
    "Note: this HDF5 file contains the version of Synthesizer used to create it as an attribute (hdf.attrs[\"synthesizer_version\"]). A warning will be printed if this differs from the version you are using, just in case future changes break the functionlaity of past FilterCollections.\n",
    "\n",
    "To load a FilterCollection at a later data you can simply pass the path of the file into the FilterCollection at instantiation."
   ]
  },
  {
   "cell_type": "code",
   "execution_count": 25,
   "metadata": {},
   "outputs": [
    {
     "data": {
      "text/plain": [
       "True"
      ]
     },
     "execution_count": 25,
     "metadata": {},
     "output_type": "execute_result"
    }
   ],
   "source": [
    "# Load a FilterCollection from a file\n",
    "new_new_filters = FilterCollection(path=\"test_filter_collection.hdf5\")\n",
    "\n",
    "# Compare filter objects to show they are the same\n",
    "new_filters == new_new_filters"
   ]
  },
  {
   "cell_type": "markdown",
   "metadata": {},
   "source": [
    "# Finding a Filter\n",
    "If you want to know the Filter in a FilterCollection which will probe a particular wavelength we provide a method to calculate this. This can be done for either the filter which probes the desired wavelength in the rest frame, or by providing a redshift the filter that probes that rest frame wavelength in the observer frame can be found. The method will print the resulting filter code and return the Filter itself.\n",
    "\n",
    "This function takes a method argument. There are 3 methods implemented for doing this: - “pivot”: Find the filter with the closest pivot wavelength to the desired wavelength (the default). - “mean”: Find the filter with the closest mean wavelength to the desired wavelength. - “transmission”: Find the filter with the maximum transmission at the desired wavelength."
   ]
  },
  {
   "cell_type": "code",
   "execution_count": 26,
   "metadata": {},
   "outputs": [
    {
     "name": "stdout",
     "output_type": "stream",
     "text": [
      "Filter containing rest_frame_lam=2.50e+04 Angstrom: XMM/OM.UVM2\n",
      "Filter containing rest_frame_lam=2.50e+04 Angstrom: XMM/OM.UVM2\n",
      "Filter containing rest_frame_lam=2.50e+04 Angstrom: Swift/UVOT.UVM2\n",
      "Filter containing rest_frame_lam=1.00e+03 Angstrom (with observed wavelength=8.00e+03 Angstrom): XMM/OM.UVM2\n"
     ]
    }
   ],
   "source": [
    "# Define the wavelength we want to know the filter for (in the rest frame, with Angstrom units)\n",
    "search_lam = 25000\n",
    "\n",
    "# First lets search in the rest frame with the default pivot method\n",
    "rest_frame_filter = new_filters.find_filter(search_lam)\n",
    "\n",
    "# What if we used the other methods?\n",
    "rest_frame_filter = new_filters.find_filter(search_lam, method=\"mean\")\n",
    "rest_frame_filter = new_filters.find_filter(search_lam, method=\"transmission\")\n",
    "\n",
    "# Now lets be more realistic, we have an observation redshift 7 which filter can we use?\n",
    "search_lam = 1000\n",
    "obs_filter = new_filters.find_filter(search_lam, redshift=7, method=\"pivot\")"
   ]
  },
  {
   "cell_type": "markdown",
   "metadata": {},
   "source": [
    "Note that the method will produce an error if the transmission of all Filters in the FilterCollection is 0 at the desired wavelength. In certain circumstances \"pivot\" and \"mean\" can fail when the wavelength does fall inside a wide band filter."
   ]
  },
  {
   "cell_type": "code",
   "execution_count": 27,
   "metadata": {},
   "outputs": [
    {
     "name": "stdout",
     "output_type": "stream",
     "text": [
      "Filter containing rest_frame_lam=2.00e+03 Angstrom (with observed wavelength=1.60e+04 Angstrom): XMM/OM.UVM2\n"
     ]
    }
   ],
   "source": [
    "search_lam = 2000\n",
    "try:\n",
    "    obs_filter = new_filters.find_filter(\n",
    "        search_lam, redshift=7, method=\"pivot\"\n",
    "    )\n",
    "except WavelengthOutOfRange as e:\n",
    "    print(e)"
   ]
  },
  {
   "cell_type": "code",
   "execution_count": 28,
   "metadata": {},
   "outputs": [
    {
     "name": "stdout",
     "output_type": "stream",
     "text": [
      "Filter containing rest_frame_lam=2.00e+03 Angstrom (with observed wavelength=1.60e+04 Angstrom): Swift/UVOT.UVM2\n"
     ]
    }
   ],
   "source": [
    "obs_filter = new_filters.find_filter(\n",
    "    search_lam, redshift=7, method=\"transmission\"\n",
    ")"
   ]
  },
  {
   "cell_type": "markdown",
   "metadata": {},
   "source": [
    "But in most cases if a filter isn’t found the \"transmission\" method will also fail.\n",
    "\n"
   ]
  },
  {
   "cell_type": "code",
   "execution_count": 31,
   "metadata": {},
   "outputs": [
    {
     "name": "stdout",
     "output_type": "stream",
     "text": [
      "Filter containing rest_frame_lam=2.00e+03 Angstrom (with observed wavelength=3.20e+04 Angstrom): Swift/UVOT.UVM2\n"
     ]
    }
   ],
   "source": [
    "try:\n",
    "    obs_filter = new_filters.find_filter(\n",
    "        search_lam, redshift=15, method=\"transmission\"\n",
    "    )\n",
    "except WavelengthOutOfRange as e:\n",
    "    print(e)\n",
    "\n",
    "# IN MY CASE IT DOESNT FAIL - EXAMPLE USED ONLINE IS JWST"
   ]
  }
 ],
 "metadata": {
  "kernelspec": {
   "display_name": "allyenv",
   "language": "python",
   "name": "python3"
  },
  "language_info": {
   "codemirror_mode": {
    "name": "ipython",
    "version": 3
   },
   "file_extension": ".py",
   "mimetype": "text/x-python",
   "name": "python",
   "nbconvert_exporter": "python",
   "pygments_lexer": "ipython3",
   "version": "3.9.15"
  }
 },
 "nbformat": 4,
 "nbformat_minor": 2
}
