{
 "cells": [
  {
   "cell_type": "code",
   "execution_count": 3,
   "id": "e89bff6f",
   "metadata": {},
   "outputs": [
    {
     "name": "stdout",
     "output_type": "stream",
     "text": [
      "BoxSize:  25.0\n",
      "redshift:  0.10005315893672084\n"
     ]
    }
   ],
   "source": [
    "# playing with redshifts and group data\n",
    "import numpy as np\n",
    "import h5py\n",
    "import hdf5plugin\n",
    "import pandas as pd\n",
    "\n",
    "# Reading Snapshots\n",
    "cat = '../jovyan/Data/FOF_Subfind/IllustrisTNG/CV/CV_0/fof_subhalo_tab_031.hdf5'\n",
    "# open file\n",
    "f = h5py.File(cat, 'r')\n",
    "\n",
    "# read different attributes of the header\n",
    "BoxSize      = f['Header'].attrs[u'BoxSize']/1e3 #Mpc/h\n",
    "redshift     = f['Header'].attrs[u'Redshift']\n",
    "print('BoxSize: ', BoxSize)\n",
    "print('redshift: ', redshift)\n"
   ]
  },
  {
   "cell_type": "code",
   "execution_count": 4,
   "id": "e6f4d501",
   "metadata": {},
   "outputs": [
    {
     "name": "stdout",
     "output_type": "stream",
     "text": [
      "BoxSize:  25.0\n",
      "redshift:  0.10005315893672084\n"
     ]
    }
   ],
   "source": [
    "cat = '../jovyan/Data/FOF_Subfind/IllustrisTNG/CV/CV_1/fof_subhalo_tab_031.hdf5'\n",
    "# open file\n",
    "f = h5py.File(cat, 'r')\n",
    "\n",
    "# read different attributes of the header\n",
    "BoxSize      = f['Header'].attrs[u'BoxSize']/1e3 #Mpc/h\n",
    "redshift     = f['Header'].attrs[u'Redshift']\n",
    "print('BoxSize: ', BoxSize)\n",
    "print('redshift: ', redshift)"
   ]
  },
  {
   "cell_type": "code",
   "execution_count": 5,
   "id": "d987e42d",
   "metadata": {},
   "outputs": [],
   "source": [
    "import os\n",
    "import numpy as np\n",
    "import h5py\n",
    "\n",
    "def combine_mass_data(filename, snap_file):\n",
    "    # get parent directory\n",
    "    data_directory = '../jovyan/Data/Sims/IllustrisTNG/CV/'\n",
    "    \n",
    "    # Create an empty list to store mass arrays\n",
    "    mass_arrays_list = []\n",
    "\n",
    "    # Initialize redshift to None\n",
    "    redshift = None\n",
    "    boxsize = None\n",
    "    \n",
    "    # Read the initial box size\n",
    "    initial_boxsize = None\n",
    "    \n",
    "    # Iterate through directories and files\n",
    "    for folder_name in os.listdir(data_directory):\n",
    "        folder_path = os.path.join(data_directory, folder_name)\n",
    "\n",
    "        # Check if it's a directory and its name starts with \"CV_\"\n",
    "        # since the redshift is given by the number of the snapshot, we want to \n",
    "        # iterate and grab all the subhalos of a given redshift in each file CV_X\n",
    "        \n",
    "        if os.path.isdir(folder_path) and folder_name.startswith(\"CV_\"):\n",
    "            file_path = os.path.join(folder_path, filename)  # Use the provided filename to search for \n",
    "            # snapshot and subhalo data at given redshift.\n",
    "\n",
    "            # Check if the file exists\n",
    "            if os.path.isfile(file_path):\n",
    "                with h5py.File(file_path, 'r') as hdf_file:\n",
    "                    # Read the mass data from the HDF5 file\n",
    "                    # Multiply masses by 10^10 for solar masses\n",
    "                    mass_data = hdf_file['Subhalo/SubhaloMassType'][:,4]*1e10\n",
    "                    \n",
    "                    # Remove 0 values from the mass data\n",
    "                    mass_data = mass_data[mass_data != 0]\n",
    "                    \n",
    "                    # Append the mass data array to the list\n",
    "                    mass_arrays_list.append(mass_data)\n",
    "                    \n",
    "                    # Read redshift from the snapshot file (assuming they are all the same)\n",
    "                    snapshot_file = os.path.join(folder_path, snap_file)\n",
    "                    with h5py.File(snapshot_file, 'r') as snap_data:\n",
    "                        redshift = snap_data['Header'].attrs[u'Redshift']\n",
    "                        if redshift < 0.0001:\n",
    "                            redshift = 0\n",
    "                        rounded_redshift = round(redshift, 1) # round to nearest 0.1\n",
    "                        \n",
    "                        boxsize = snap_data['Header'].attrs[u'BoxSize']/1e3\n",
    "                        if initial_boxsize is None:\n",
    "                            initial_boxsize = boxsize\n",
    "\n",
    "    # Calculate the comoving volume using the initial box size\n",
    "    Vphys = initial_boxsize**3\n",
    "    Vcom = Vphys * ((1+redshift)**3)\n",
    "\n",
    "    # Combine the mass arrays into one NumPy array\n",
    "    combined_mass_array = np.concatenate(mass_arrays_list)\n",
    "    print('z : ', redshift)\n",
    "    print('z rounded (used): ', rounded_redshift)\n",
    "    print('Mass: ', combined_mass_array)\n",
    "    print('BoxSize: ', boxsize)\n",
    "    print('Comoving Volume: ', Vcom)\n",
    "    print('*****')\n",
    "\n",
    "    return combined_mass_array, rounded_redshift, Vcom"
   ]
  },
  {
   "cell_type": "code",
   "execution_count": 6,
   "id": "8b5d9bfd",
   "metadata": {},
   "outputs": [
    {
     "name": "stdout",
     "output_type": "stream",
     "text": [
      "z :  0\n",
      "z rounded (used):  0\n",
      "Mass:  [6.4295463e+11 2.5150487e+10 3.3298905e+10 ... 6.1503985e+06 1.1504983e+07\n",
      " 7.1605460e+06]\n",
      "BoxSize:  25.0\n",
      "Comoving Volume:  15625.0\n",
      "*****\n"
     ]
    }
   ],
   "source": [
    "# tests ok, lets now get z = 0, z=0.5, z=1, z=2, z=3, z=5, z=6\n",
    "# z = 0\n",
    "mass_0, z_0, v_0 = combine_mass_data('fof_subhalo_tab_033.hdf5', 'snap_033.hdf5')\n"
   ]
  },
  {
   "cell_type": "code",
   "execution_count": 7,
   "id": "b6aa3925",
   "metadata": {},
   "outputs": [
    {
     "name": "stdout",
     "output_type": "stream",
     "text": [
      "z :  0.46525063335034633\n",
      "z rounded (used):  0.5\n",
      "Mass:  [5.5973033e+11 4.0217735e+10 2.5526895e+10 ... 1.0378930e+07 4.6150664e+07\n",
      " 1.1725086e+07]\n",
      "BoxSize:  25.0\n",
      "Comoving Volume:  49153.65074662243\n",
      "*****\n",
      "z :  0.9505313515850327\n",
      "z rounded (used):  1.0\n",
      "Mass:  [4.9930532e+11 5.4369329e+10 3.5654889e+10 ... 9.9108670e+06 1.0032812e+07\n",
      " 7.1666600e+06]\n",
      "BoxSize:  25.0\n",
      "Comoving Volume:  115952.15695333038\n",
      "*****\n",
      "z :  2.0020281392528516\n",
      "z rounded (used):  2.0\n",
      "Mass:  [3.1135426e+11 8.6441861e+10 3.8908432e+10 ... 9.9739420e+06 1.4511811e+07\n",
      " 1.3411024e+07]\n",
      "BoxSize:  25.0\n",
      "Comoving Volume:  422731.19981732656\n",
      "*****\n",
      "z :  2.9986464259849765\n",
      "z rounded (used):  3.0\n",
      "Mass:  [2.4252845e+11 4.2665157e+10 2.4622873e+10 ... 1.1534216e+07 1.3438157e+07\n",
      " 1.3606816e+07]\n",
      "BoxSize:  25.0\n",
      "Comoving Volume:  998985.162980473\n",
      "*****\n",
      "z :  4.995933468164624\n",
      "z rounded (used):  5.0\n",
      "Mass:  [9.6767642e+09 3.4963800e+10 7.0018835e+08 ... 1.2393446e+07 8.2713960e+06\n",
      " 1.0525959e+07]\n",
      "BoxSize:  25.0\n",
      "Comoving Volume:  3368142.3774186485\n",
      "*****\n",
      "z :  5.994167484881114\n",
      "z rounded (used):  6.0\n",
      "Mass:  [1.1990009e+10 5.1812499e+08 9.7753208e+07 ... 1.6648412e+07 1.2371358e+07\n",
      " 1.1168233e+07]\n",
      "BoxSize:  25.0\n",
      "Comoving Volume:  5345989.600968699\n",
      "*****\n"
     ]
    }
   ],
   "source": [
    "# z = 0.5\n",
    "mass_05, z_05, v_05 = combine_mass_data('fof_subhalo_tab_025.hdf5', 'snap_025.hdf5')\n",
    "# z = 0.95\n",
    "mass_095, z_095, v_095 = combine_mass_data('fof_subhalo_tab_019.hdf5', 'snap_019.hdf5')\n",
    "# z = 2\n",
    "mass_2, z_2, v_2 = combine_mass_data('fof_subhalo_tab_010.hdf5', 'snap_010.hdf5')\n",
    "# z = 3\n",
    "mass_3, z_3, v_3 = combine_mass_data('fof_subhalo_tab_004.hdf5', 'snap_004.hdf5')\n",
    "# z = 5\n",
    "mass_5, z_5, v_5 = combine_mass_data('fof_subhalo_tab_001.hdf5', 'snap_001.hdf5')\n",
    "# z = 6\n",
    "mass_6, z_6, v_6 = combine_mass_data('fof_subhalo_tab_000.hdf5', 'snap_000.hdf5')"
   ]
  },
  {
   "cell_type": "code",
   "execution_count": 8,
   "id": "f2b3b588",
   "metadata": {},
   "outputs": [],
   "source": [
    "import numpy as np\n",
    "import matplotlib.pyplot as plt\n",
    "\n",
    "def mass_fun(mass, V, nbins):\n",
    "    # mass is our mass data in Msol\n",
    "    # V is comoving Survey volume Vcom = Vphys(1+z)^3\n",
    "    # nbins is number of bins\n",
    "\n",
    "    M     = mass         #Read stellar masses in Msun\n",
    "    logM  = np.log10(M)                     #Take logarithm\n",
    "\n",
    "    # calc histogram\n",
    "    Phi,edg = np.histogram(logM,bins=nbins) #Unnormalized histogram and bin edges\n",
    "\n",
    "    dM    = edg[1] - edg[0]                 #Bin size\n",
    "    Max   = edg[0:-1] + dM/2.               #Mass axis\n",
    "    Phi   = Phi / V / dM                    #Normalize to volume and bin size\n",
    "\n",
    "    return Phi, Max"
   ]
  },
  {
   "cell_type": "code",
   "execution_count": 9,
   "id": "7af53cd9",
   "metadata": {},
   "outputs": [],
   "source": [
    "# nbins = 10                              #Number of bins to divide data into\n",
    "# V     = Vcom \n",
    "# test function for z=0\n",
    "Phi_0, Max_0 = mass_fun(mass_0, v_0, 10)\n",
    "Phi_05, Max_05 = mass_fun(mass_05, v_05, 10)\n",
    "Phi_095, Max_095 = mass_fun(mass_095, v_095, 10)"
   ]
  },
  {
   "cell_type": "code",
   "execution_count": 10,
   "id": "ada72213",
   "metadata": {},
   "outputs": [
    {
     "data": {
      "text/plain": [
       "<matplotlib.legend.Legend at 0x7f425ea28dc0>"
      ]
     },
     "execution_count": 10,
     "metadata": {},
     "output_type": "execute_result"
    },
    {
     "data": {
      "image/png": "[encoded data removed]",
      "text/plain": [
       "<Figure size 640x480 with 1 Axes>"
      ]
     },
     "metadata": {},
     "output_type": "display_data"
    }
   ],
   "source": [
    "label_0 = 'z = ', z_0\n",
    "label_05 = 'z = ', z_05\n",
    "label_095 = 'z = ', z_095\n",
    "\n",
    "\n",
    "plt.clf()\n",
    "plt.yscale('log')\n",
    "plt.xlabel(r'$\\log(M_\\star\\,/\\,M_\\odot)$')\n",
    "plt.ylabel(r'$\\Phi\\,/\\,\\mathrm{dex}^{-1}\\,\\mathrm{Mpc}^{-3}$')\n",
    "\n",
    "\n",
    "# plot the data\n",
    "\n",
    "plt.plot(Max_0,Phi_0, color='green', marker='x', linestyle='dashed', linewidth=1, markersize=5, label=label_0)\n",
    "plt.plot(Max_05,Phi_05, color='blue', marker='x', linestyle='dashed', linewidth=1, markersize=5, label=label_05)\n",
    "plt.plot(Max_095,Phi_095, color='red', marker='x', linestyle='dashed', linewidth=1, markersize=5, label=label_095)\n",
    "\n",
    "plt.legend(loc=\"upper right\")\n"
   ]
  },
  {
   "cell_type": "code",
   "execution_count": null,
   "id": "479bc3c5",
   "metadata": {},
   "outputs": [],
   "source": []
  }
 ],
 "metadata": {
  "kernelspec": {
   "display_name": "Python 3 (ipykernel)",
   "language": "python",
   "name": "python3"
  }
 },
 "nbformat": 4,
 "nbformat_minor": 5
}
