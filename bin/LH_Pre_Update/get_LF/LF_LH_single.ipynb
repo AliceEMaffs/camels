{
 "cells": [
  {
   "cell_type": "markdown",
   "metadata": {},
   "source": [
    "Absolute magnitude is defined to be the apparent magnitude an object would have if it were located at a distance of 10 parsecs.\n",
    "In astronomy, absolute magnitude (M) is a measure of the luminosity of a celestial object on an inverse logarithmic astronomical magnitude scale."
   ]
  },
  {
   "cell_type": "code",
   "execution_count": 54,
   "metadata": {},
   "outputs": [
    {
     "name": "stdout",
     "output_type": "stream",
     "text": [
      "Current directory: /home/jovyan/camels/LH_Pre_Update/get_LF\n"
     ]
    }
   ],
   "source": [
    "import time\n",
    "import numpy as np\n",
    "import h5py\n",
    "import hdf5plugin\n",
    "import pandas as pd\n",
    "import os \n",
    "import csv\n",
    "import resource\n",
    "\n",
    "import matplotlib as mpl\n",
    "import matplotlib.colors as cm\n",
    "import matplotlib.pyplot as plt\n",
    "import matplotlib.gridspec as gridspec\n",
    "\n",
    "from unyt import yr, Myr, kpc, arcsec, nJy, Mpc, Msun, erg, s, Hz, kelvin\n",
    "from astropy.cosmology import Planck18 as cosmo\n",
    "\n",
    "from synthesizer.emission_models import (\n",
    "    AttenuatedEmission,\n",
    "    CharlotFall2000,\n",
    "    EmissionModel,\n",
    "    BimodalPacmanEmission,\n",
    "    IncidentEmission,\n",
    "    NebularEmission,\n",
    "    ReprocessedEmission,\n",
    "    StellarEmissionModel,\n",
    ")\n",
    "from synthesizer.emission_models.dust.emission import Blackbody, Greybody\n",
    "from synthesizer.emission_models.attenuation import PowerLaw\n",
    "from synthesizer.filters import UVJ\n",
    "from synthesizer.grid import Grid\n",
    "from synthesizer.sed import Sed\n",
    "from synthesizer.particle import Gas, Stars\n",
    "from synthesizer.filters import Filter, FilterCollection\n",
    "from synthesizer.sed import combine_list_of_seds\n",
    "from synthesizer.load_data.load_camels import load_CAMELS_IllustrisTNG\n",
    "from synthesizer.kernel_functions import Kernel\n",
    "from synthesizer.conversions import lnu_to_absolute_mag\n",
    "\n",
    "current_directory = os.getcwd()\n",
    "print(\"Current directory:\", current_directory)\n"
   ]
  },
  {
   "cell_type": "markdown",
   "metadata": {},
   "source": [
    "# Start the timer\n",
    "start_time = time.time()\n"
   ]
  },
  {
   "cell_type": "code",
   "execution_count": 2,
   "metadata": {},
   "outputs": [],
   "source": [
    "\n",
    "# Alternative method for LF:\n",
    "# try this method again, but using AB mag instead of mass, and suply your own bins (up to -17, say)\n",
    "def calc_lf(ab_mag, volume, massBinLimits):\n",
    "# OG:        hist, dummy = np.histogram(np.log10(mstar), bins = massBinLimits)\n",
    "        hist, dummy = np.histogram(ab_mag, bins = massBinLimits)\n",
    "        hist = np.float64(hist)\n",
    "        phi = (hist / volume) / (massBinLimits[1] - massBinLimits[0])\n",
    "        phi_sigma = (np.sqrt(hist) / volume) /\\\n",
    "                    (massBinLimits[1] - massBinLimits[0]) # Poisson errors\n",
    "        return phi, phi_sigma, hist\n",
    "    "
   ]
  },
  {
   "cell_type": "markdown",
   "metadata": {},
   "source": [
    "\n",
    "phi_arr =[] #phi\n",
    "phi_sigma_arr =[] # phi_sigma\n",
    "hist_arr = [] # hist\n",
    "z_arr = [] #redshift_074, \n",
    "abs_mag_arr = [] #absolute mag (th filter)\n",
    "Vcom_arr = [] # comoving vol\n",
    "massBinLimits_arr = []\n"
   ]
  },
  {
   "cell_type": "markdown",
   "metadata": {},
   "source": [
    "len(phi_arr)"
   ]
  },
  {
   "cell_type": "code",
   "execution_count": 5,
   "metadata": {},
   "outputs": [
    {
     "name": "stdout",
     "output_type": "stream",
     "text": [
      "(221, 6, 22)\n"
     ]
    }
   ],
   "source": [
    "# get grid for all galaxies\n",
    "# gives grid of metalicity and age which is used to map on our camels galaxies\n",
    "grid_dir = \"/home/jovyan/\"\n",
    "#grid_name = \"bc03-2016-Miles_chabrier-0.1-100.hdf5\"\n",
    "grid_name = \"bc03_chabrier03-0.1,100.hdf5\"\n",
    "#grid_dir = \"/Users/am/Documents/CAMELS/data/grids\"\n",
    "\n",
    "# Create a new grid\n",
    "#grid = Grid(grid_name, grid_dir=grid_dir, read_lines=False)\n",
    "\n",
    "# instead of using a filter, which requires us to load in large SEDs first, pass the grid wavelength\n",
    "#filt1 = Filter(\"top_hat/filter.1\", lam_min=1400, lam_max=1600, new_lam=grid.lam)\n",
    "#filt_lst = [filt1]\n",
    "\n",
    "# Define a new set of wavelengths\n",
    "lims_lams=(1400, 1600)\n",
    "\n",
    "grid = Grid(grid_name, grid_dir=grid_dir, lam_lims=lims_lams, read_lines=False)\n",
    "print(grid.shape)\n"
   ]
  },
  {
   "cell_type": "code",
   "execution_count": 6,
   "metadata": {},
   "outputs": [],
   "source": [
    "# Define the directory where the text files will be saved\n",
    "output_dir = \"/home/jovyan/camels/LH/get_LF/output/\"\n"
   ]
  },
  {
   "cell_type": "code",
   "execution_count": 8,
   "metadata": {},
   "outputs": [
    {
     "name": "stderr",
     "output_type": "stream",
     "text": [
      "/srv/conda/envs/notebook/lib/python3.9/site-packages/unyt/array.py:1949: RuntimeWarning: invalid value encountered in divide\n",
      "  out_arr = func(\n"
     ]
    }
   ],
   "source": [
    "\n",
    "# get gals\n",
    "LH_X = 'LH_104'\n",
    "dir_ = '/home/jovyan/Data/Sims/IllustrisTNG/LH/' + LH_X\n",
    "gals_074 = load_CAMELS_IllustrisTNG(\n",
    "    dir_,\n",
    "    snap_name='snapshot_074.hdf5', \n",
    "    group_name='groups_074.hdf5',\n",
    "    verbose=False,\n",
    ")"
   ]
  },
  {
   "cell_type": "markdown",
   "metadata": {},
   "source": [
    "LH_104 = 'LH_104'\n",
    "dir_ = '/home/jovyan/Data/Sims/IllustrisTNG/LH/' + LH_104\n",
    "gals_104 = load_CAMELS_IllustrisTNG(\n",
    "    dir_,\n",
    "    snap_name='snapshot_074.hdf5', \n",
    "    fof_name='groups_074.hdf5',\n",
    "    verbose=False,\n",
    ")"
   ]
  },
  {
   "cell_type": "markdown",
   "metadata": {},
   "source": [
    "# this is long dont need to print this.\n",
    "for gal in gals_074:\n",
    "    print(f\"Galaxy has {gal.stars.nstars} stellar particles\")\n",
    "    print(f\"Galaxy has {gal.gas.nparticles} gas particles\")\n"
   ]
  },
  {
   "cell_type": "markdown",
   "metadata": {},
   "source": [
    "gals_074"
   ]
  },
  {
   "cell_type": "code",
   "execution_count": 16,
   "metadata": {},
   "outputs": [
    {
     "name": "stdout",
     "output_type": "stream",
     "text": [
      "139\n"
     ]
    }
   ],
   "source": [
    "\n",
    "# Filter galaxies to only include those with 100 or more star particles\n",
    "gals_074 = [gal for gal in gals_074 if gal.stars.nstars >= 100]\n",
    "print(len(gals_074))\n",
    "gals_074 = [gal for gal in gals_074 if gal.gas.nparticles >= 100]\n"
   ]
  },
  {
   "cell_type": "markdown",
   "metadata": {},
   "source": [
    "# -1.68397285e+02\n",
    "for gal in gals_074:\n",
    "    print(gal.stars.ages)"
   ]
  },
  {
   "cell_type": "markdown",
   "metadata": {},
   "source": [
    "# commented out to see if Chris fix and my environment are working:"
   ]
  },
  {
   "cell_type": "markdown",
   "metadata": {},
   "source": [
    "#gals_cp = [gal for gal in gals_cp if gal.stars.ages >= 0] # found some negative data in gal[276] for LH_50, try this to fix.\n",
    "\n",
    "\n",
    "\n",
    "# Assuming gals_cp is a list or array containing multiple galaxies\n",
    "for gal in gals_074:\n",
    "    # Access the Stars object for the current galaxy\n",
    "    stars = gal.stars\n",
    "    \n",
    "    # Access the relevant attributes\n",
    "    initial_masses = stars.initial_masses\n",
    "    ages = stars.ages\n",
    "    metallicities = stars.metallicities\n",
    "\n",
    "    # Create a mask for stars with non-negative initial_masses and positive ages\n",
    "    mask = (initial_masses >= 0) & (ages > 0)\n",
    "    \n",
    "    # Apply the mask to all relevant attributes\n",
    "    cleaned_initial_masses = initial_masses[mask]\n",
    "    cleaned_ages = ages[mask]\n",
    "    cleaned_metallicities = metallicities[mask]\n",
    "    \n",
    "    # Create a new Stars object with the cleaned data\n",
    "    cleaned_stars = Stars(initial_masses=cleaned_initial_masses, ages=cleaned_ages, metallicities=cleaned_metallicities)\n",
    "    \n",
    "    # Update the stars attribute of the current galaxy with the cleaned Stars object\n",
    "    gal.stars = cleaned_stars\n",
    "\n",
    "    # Optionally print the cleaned ages to verify\n",
    "    print(cleaned_stars.ages)\n",
    "\n"
   ]
  },
  {
   "cell_type": "markdown",
   "metadata": {},
   "source": [
    "#gals_074 = [gal for gal in gals_074 if gal.stars.ages >= 100] # found some negative data in gal[276] for LH_50, try this to fix.\n",
    "gals_test = [gal for gal in gals_074 if all(age >= 100 for age in gal.stars.ages)]\n"
   ]
  },
  {
   "cell_type": "markdown",
   "metadata": {},
   "source": [
    "for gal in gals_074:\n",
    "    print(gal.stars.ages)"
   ]
  },
  {
   "cell_type": "code",
   "execution_count": 9,
   "metadata": {},
   "outputs": [
    {
     "name": "stdout",
     "output_type": "stream",
     "text": [
      "Galaxy Index: 18\n",
      "Negative ages: [-168.39728545] yr\n",
      "Galaxy Index: 39\n",
      "Negative ages: [-168.39728545] yr\n",
      "Galaxy Index: 69\n",
      "Negative ages: [-168.39728545] yr\n",
      "Galaxy Index: 94\n",
      "Negative ages: [-168.39728545] yr\n"
     ]
    }
   ],
   "source": [
    "# Iterate through each galaxy in gals_074 with an index\n",
    "for index, gal in enumerate(gals_074):\n",
    "    # Access the ages array of the stars in the current galaxy\n",
    "    ages = gal.stars.ages\n",
    "    \n",
    "    # Find the negative values in the ages array\n",
    "    negative_ages = ages[ages < 0]\n",
    "    \n",
    "    # If there are any negative values, print them\n",
    "    if negative_ages.size > 0:\n",
    "        print(f\"Galaxy Index: {index}\")\n",
    "        print(\"Negative ages:\", negative_ages)\n"
   ]
  },
  {
   "cell_type": "markdown",
   "metadata": {},
   "source": [
    "gals_cp = gals_074 \n",
    "\n",
    "# Remove stars from each galaxy where the age is less than 100\n",
    "for gal in gals_cp:\n",
    "    obj = gal.stars.ages\n",
    "    #print(obj)\n",
    "    cleaned_obj = [arr[arr >= 0] for arr in obj]\n",
    "    gal.stars.ages = cleaned_obj\n",
    "    print(gal.stars.ages)\n",
    "    \n"
   ]
  },
  {
   "cell_type": "markdown",
   "metadata": {},
   "source": [
    "gals_test = [gal for gal in gals_074 if all(metallicities >=1e-6 for metallicities in gal.stars.metallicities)]\n",
    "\n",
    "# found some very small metalcities also (7.16442446e-06 to -10)\n",
    "#gals_074 = [gal for gal in gals_074 if gal.stars.metallicities >=1e-6]"
   ]
  },
  {
   "cell_type": "markdown",
   "metadata": {},
   "source": [
    "for gal in gals_074:\n",
    "    print(gal.gas.nparticles)\n",
    "    print(gal.stars.nstars)"
   ]
  },
  {
   "cell_type": "markdown",
   "metadata": {},
   "source": [
    "# Assuming your list of Galaxy objects is named 'gals_074'\n",
    "for index, galaxy in enumerate(gals_074):\n",
    "    print(\"Gal: [\", index , ']')"
   ]
  },
  {
   "cell_type": "code",
   "execution_count": 12,
   "metadata": {},
   "outputs": [],
   "source": [
    "# try different method to get specs:\n",
    "#specs = np.vstack([g.stars.get_spectra_incident(grid).lnu for g in gals_074])\n",
    "#print(specs)"
   ]
  },
  {
   "cell_type": "code",
   "execution_count": 19,
   "metadata": {},
   "outputs": [
    {
     "name": "stdout",
     "output_type": "stream",
     "text": [
      "+---------------------------------------------------------------------------------------------+\n",
      "|                                           GALAXY                                            |\n",
      "+-------------------------------+-------------------------------------------------------------+\n",
      "| Attribute                     | Value                                                       |\n",
      "+-------------------------------+-------------------------------------------------------------+\n",
      "| galaxy_type                   | 'Particle'                                                  |\n",
      "+-------------------------------+-------------------------------------------------------------+\n",
      "| stars                         | <synthesizer.particle.stars.Stars object at 0x7f4e13b02730> |\n",
      "+-------------------------------+-------------------------------------------------------------+\n",
      "| gas                           | <synthesizer.particle.gas.Gas object at 0x7f4decf2fa90>     |\n",
      "+-------------------------------+-------------------------------------------------------------+\n",
      "| redshift                      | 0.47                                                        |\n",
      "+-------------------------------+-------------------------------------------------------------+\n",
      "| name                          | 'particle galaxy'                                           |\n",
      "+-------------------------------+-------------------------------------------------------------+\n",
      "| sf_gas_metallicity            | 0.00e+00                                                    |\n",
      "+-------------------------------+-------------------------------------------------------------+\n",
      "| sf_gas_mass                   | 0.00e+00                                                    |\n",
      "+-------------------------------+-------------------------------------------------------------+\n",
      "| centre                        | [ 8312.929 12769.862 12756.366] kpc                         |\n",
      "+-------------------------------+-------------------------------------------------------------+\n",
      "| gas_mass                      | 19905196000.0 Msun                                          |\n",
      "+-------------------------------+-------------------------------------------------------------+\n",
      "| stellar_mass                  | 1600435000.0 Msun                                           |\n",
      "+-------------------------------+-------------------------------------------------------------+\n",
      "| stellar_mass_weighted_age     | 4085672981.457692 yr                                        |\n",
      "+-------------------------------+-------------------------------------------------------------+\n",
      "| mass_weighted_gas_metallicity | 0.00015687085 dimensionless                                 |\n",
      "+-------------------------------+-------------------------------------------------------------+\n"
     ]
    }
   ],
   "source": [
    "g = gals_074[137]\n",
    "print(g)"
   ]
  },
  {
   "cell_type": "code",
   "execution_count": 20,
   "metadata": {},
   "outputs": [
    {
     "name": "stdout",
     "output_type": "stream",
     "text": [
      "<class 'synthesizer.particle.galaxy.Galaxy'>\n"
     ]
    }
   ],
   "source": [
    "print(type(g))"
   ]
  },
  {
   "cell_type": "code",
   "execution_count": 21,
   "metadata": {},
   "outputs": [
    {
     "name": "stdout",
     "output_type": "stream",
     "text": [
      "[35784444. 10046882. 35729828. 24234642. 28452670. 26559054. 20050398.\n",
      " 28736250. 28479760. 31694732. 13933997. 25009610. 23550900. 16070881.\n",
      " 20925284. 21255214. 31317708. 20077630. 26360406. 20204594. 24747696.\n",
      " 24181034. 19314928. 23426320. 21775454. 31532226. 25994324. 24603788.\n",
      " 17130586. 24406598. 17439444. 26653368. 37304372. 30248602. 28654848.\n",
      " 22211396. 26582392. 31003906. 19641748. 26947720. 24179976. 21050012.\n",
      " 21305606. 32369742. 22641816. 34298952. 29898632. 15424778. 18634790.\n",
      " 20170590. 25213044. 14839478. 25185608. 19328002. 25405636. 18164074.\n",
      " 23087704. 31421402. 32947592. 30431308. 23710870. 27279966. 28912910.\n",
      " 19775624. 29653470. 27943758. 15706061. 28598480. 26599314. 30384394.\n",
      " 33439152. 26910966. 20623334. 35205424. 19659044. 24442396. 28492834.\n",
      " 23413170. 32271832. 32252990.  7430425. 35945540. 28166552. 18873400.\n",
      " 23230088. 32815802. 15253708. 28593720. 28720990. 36279220. 26684304.\n",
      " 19127744. 30529028. 25074568. 16075368. 10969922. 27358878. 16372039.\n",
      " 28395924. 20604810. 35173316. 12513755. 11391383.] Msun\n"
     ]
    }
   ],
   "source": [
    "print(g.stars.initial_masses)\n"
   ]
  },
  {
   "cell_type": "code",
   "execution_count": 22,
   "metadata": {},
   "outputs": [
    {
     "name": "stdout",
     "output_type": "stream",
     "text": [
      "[5.69026226e+09 4.55760002e+09 6.43790999e+09 7.26794471e+09\n",
      " 6.59842295e+09 6.76937803e+09 5.60865798e+09 1.14891045e+09\n",
      " 7.63309591e+09 7.62748846e+09 1.14664869e+09 7.35340190e+09\n",
      " 5.35798490e+09 5.35187499e+09 6.28714761e+09 2.47701809e+08\n",
      " 7.62523855e+09 5.88545611e+08 6.22016408e+09 5.08612888e+09\n",
      " 8.07918470e+09 1.44380431e+09 5.43801059e+09 6.84110691e+09\n",
      " 8.25466098e+09 6.86269690e+09 6.87340850e+09 4.57049319e+09\n",
      " 5.57287909e+09 1.50362149e+09 1.43501857e+09 6.62449646e+09\n",
      " 2.34304967e+09 4.40202696e+09 2.58243709e+09 4.99515911e+09\n",
      " 7.29363621e+09 4.39440267e+09 4.49260555e+09 5.65251660e+09\n",
      " 4.35610566e+09 5.64970373e+09 4.46259904e+09 6.52676787e+09\n",
      " 7.95471666e+08 1.25465072e+09 3.12921168e+08 5.70267058e+08\n",
      " 2.66562624e+07 5.38408317e+08 1.32897240e+09 4.82442741e+08\n",
      " 1.47011179e+09 4.87250580e+08 1.03749297e+09 4.58374148e+08\n",
      " 1.58904521e+09 5.23230749e+09 5.10408377e+09 3.24316638e+09\n",
      " 3.58397361e+09 2.54133135e+09 4.63262060e+09 5.41403325e+09\n",
      " 3.62364249e+09 1.88822285e+09 4.20787344e+09 3.87730151e+09\n",
      " 3.63680753e+09 7.37910357e+09 5.34115863e+09 5.79023358e+09\n",
      " 3.69135225e+09 6.72211627e+09 4.39058628e+09 3.36339831e+09\n",
      " 3.81810748e+09 7.41359019e+09 6.64830802e+09 6.26193312e+09\n",
      " 4.70466406e+09 7.45497272e+09 6.47638129e+09 6.54333563e+09\n",
      " 4.62535417e+09 2.89355277e+09 6.62848177e+09 1.91189783e+09\n",
      " 1.39097321e+09 3.76902191e+09 2.57987390e+09 1.57895033e+09\n",
      " 2.28205285e+09 1.91189783e+09 1.62069979e+09 9.87077347e+08\n",
      " 2.45324572e+09 2.08811403e+09 1.84768781e+09 9.30523233e+07\n",
      " 2.75718093e+09 5.03012931e+09 4.29032307e+09] yr\n"
     ]
    }
   ],
   "source": [
    "print(g.stars.ages)\n"
   ]
  },
  {
   "cell_type": "code",
   "execution_count": 23,
   "metadata": {},
   "outputs": [
    {
     "name": "stdout",
     "output_type": "stream",
     "text": [
      "[3.18072666e-03 5.57395723e-03 3.62171466e-03 3.33565357e-03\n",
      " 2.34390516e-03 3.39714182e-03 4.79144230e-03 2.15196540e-03\n",
      " 1.63525797e-03 1.72037701e-03 2.63621379e-03 3.37845157e-03\n",
      " 5.76980691e-03 5.33247460e-03 3.95644084e-03 3.90741788e-03\n",
      " 1.53119559e-03 4.36312007e-03 5.51010389e-03 5.77896647e-03\n",
      " 4.19687538e-04 1.61052449e-03 1.39559206e-05 2.59958756e-06\n",
      " 7.98888067e-10 1.57155027e-05 9.44466970e-04 4.50819614e-04\n",
      " 2.60537886e-03 1.38388551e-03 1.67325197e-03 1.90138852e-03\n",
      " 1.40516052e-03 5.01146133e-04 1.43561745e-03 1.43631805e-05\n",
      " 8.19841528e-10 1.20059948e-03 6.90769157e-05 2.72337911e-06\n",
      " 2.20863032e-03 2.72636044e-06 3.58425576e-04 1.64353033e-03\n",
      " 3.46188736e-03 2.25300761e-03 5.03063668e-03 4.10348177e-03\n",
      " 4.22061794e-03 4.05838201e-03 4.29489557e-03 4.55625961e-03\n",
      " 3.32188443e-03 4.20670956e-03 4.57713334e-03 5.25696576e-03\n",
      " 3.27596976e-03 2.59908265e-03 2.39696749e-03 3.14964424e-03\n",
      " 2.85351346e-03 3.66501277e-03 3.26114963e-03 4.19129909e-04\n",
      " 2.08370993e-03 3.43229622e-03 6.97175099e-04 1.12843025e-03\n",
      " 2.89205671e-03 4.34076734e-04 1.50065578e-03 1.19590911e-03\n",
      " 2.42055487e-03 7.19022122e-04 4.87796438e-04 2.95698992e-03\n",
      " 1.90165115e-03 8.03601963e-10 3.46835470e-04 2.61658803e-04\n",
      " 3.25157470e-03 8.00011835e-10 6.53071838e-05 1.19518595e-09\n",
      " 1.46852915e-06 5.37820393e-04 2.93528894e-03 7.34285126e-03\n",
      " 9.56666563e-03 5.38124098e-03 5.23204403e-03 1.02084968e-02\n",
      " 6.87374128e-03 7.29069812e-03 1.02127418e-02 9.30294767e-03\n",
      " 6.61302498e-03 6.83219545e-03 9.65315197e-03 6.00785576e-03\n",
      " 4.76062298e-03 2.52690096e-03 5.64176356e-03]\n"
     ]
    }
   ],
   "source": [
    "print(g.stars.metallicities)"
   ]
  },
  {
   "cell_type": "markdown",
   "metadata": {
    "scrolled": false
   },
   "source": [
    "\n",
    "for gal in gals_074:\n",
    "    print(f\"Galaxy has {gal.stars.nstars} stellar particles\")\n",
    "    print(f\"Galaxy gas {gal.gas.nparticles} gas particles\")\n"
   ]
  },
  {
   "cell_type": "code",
   "execution_count": 24,
   "metadata": {},
   "outputs": [],
   "source": [
    "\n",
    "\n",
    "cat_074 = dir_+'/groups_074.hdf5'\n",
    "# open file\n",
    "f_h5py = h5py.File(cat_074, 'r')\n",
    "\n",
    "# read different attributes of the header\n",
    "boxSize_074 = f_h5py['Header'].attrs[u'BoxSize']/1e3 #Mpc/h\n",
    "redshift_074 = f_h5py['Header'].attrs[u'Redshift']\n"
   ]
  },
  {
   "cell_type": "markdown",
   "metadata": {},
   "source": [
    "# Get the number of star particles for each galaxy\n",
    "nstars_list = [gal.stars.nstars for gal in gals_074]\n",
    "# Get the number of gas particles for each galaxy\n",
    "ngas_list = [gal.gas.nparticles for gal in gals_074]\n",
    "\n",
    "# Calculate the minimum and maximum number of star particles\n",
    "min_nstars = min(nstars_list)\n",
    "max_nstars = max(nstars_list)\n",
    "\n",
    "# Calculate the minimum and maximum number of gas particles\n",
    "min_ngas = min(ngas_list)\n",
    "max_ngas = max(ngas_list)\n",
    "\n",
    "print(f\"Minimum number of star particles: {min_nstars}\")\n",
    "print(f\"Maximum number of star particles: {max_nstars}\")\n",
    "print(f\"Minimum number of gas particles: {min_ngas}\")\n",
    "print(f\"Maximum number of gas particles: {max_ngas}\")\n"
   ]
  },
  {
   "cell_type": "code",
   "execution_count": 55,
   "metadata": {},
   "outputs": [
    {
     "ename": "InconsistentArguments",
     "evalue": "Must specify where to apply the dust curve. ",
     "output_type": "error",
     "traceback": [
      "\u001b[0;31m---------------------------------------------------------------------------\u001b[0m",
      "\u001b[0;31mInconsistentArguments\u001b[0m                     Traceback (most recent call last)",
      "Cell \u001b[0;32mIn[55], line 8\u001b[0m\n\u001b[1;32m      5\u001b[0m incident \u001b[38;5;241m=\u001b[39m IncidentEmission(grid)\n\u001b[1;32m      7\u001b[0m \u001b[38;5;66;03m# Get the stellar pacman model\u001b[39;00m\n\u001b[0;32m----> 8\u001b[0m pc_model \u001b[38;5;241m=\u001b[39m \u001b[43mBimodalPacmanEmission\u001b[49m\u001b[43m(\u001b[49m\n\u001b[1;32m      9\u001b[0m \u001b[43m    \u001b[49m\u001b[43mgrid\u001b[49m\u001b[38;5;241;43m=\u001b[39;49m\u001b[43mgrid\u001b[49m\u001b[43m,\u001b[49m\n\u001b[1;32m     10\u001b[0m \u001b[43m    \u001b[49m\u001b[43mtau_v_ism\u001b[49m\u001b[38;5;241;43m=\u001b[39;49m\u001b[38;5;241;43m1.0\u001b[39;49m\u001b[43m,\u001b[49m\n\u001b[1;32m     11\u001b[0m \u001b[43m    \u001b[49m\u001b[43mtau_v_birth\u001b[49m\u001b[38;5;241;43m=\u001b[39;49m\u001b[38;5;241;43m0.7\u001b[39;49m\u001b[43m,\u001b[49m\n\u001b[1;32m     12\u001b[0m \u001b[43m    \u001b[49m\u001b[43mdust_curve_ism\u001b[49m\u001b[38;5;241;43m=\u001b[39;49m\u001b[43mPowerLaw\u001b[49m\u001b[43m(\u001b[49m\u001b[43mslope\u001b[49m\u001b[38;5;241;43m=\u001b[39;49m\u001b[38;5;241;43m-\u001b[39;49m\u001b[38;5;241;43m1.3\u001b[39;49m\u001b[43m)\u001b[49m\u001b[43m,\u001b[49m\n\u001b[1;32m     13\u001b[0m \u001b[43m    \u001b[49m\u001b[43mdust_curve_birth\u001b[49m\u001b[38;5;241;43m=\u001b[39;49m\u001b[43mPowerLaw\u001b[49m\u001b[43m(\u001b[49m\u001b[43mslope\u001b[49m\u001b[38;5;241;43m=\u001b[39;49m\u001b[38;5;241;43m-\u001b[39;49m\u001b[38;5;241;43m0.7\u001b[39;49m\u001b[43m)\u001b[49m\u001b[43m,\u001b[49m\n\u001b[1;32m     14\u001b[0m \u001b[43m    \u001b[49m\u001b[43mdust_emission_ism\u001b[49m\u001b[38;5;241;43m=\u001b[39;49m\u001b[43mBlackbody\u001b[49m\u001b[43m(\u001b[49m\u001b[43mtemperature\u001b[49m\u001b[38;5;241;43m=\u001b[39;49m\u001b[38;5;241;43m100\u001b[39;49m\u001b[43m \u001b[49m\u001b[38;5;241;43m*\u001b[39;49m\u001b[43m \u001b[49m\u001b[43mkelvin\u001b[49m\u001b[43m)\u001b[49m\u001b[43m,\u001b[49m\n\u001b[1;32m     15\u001b[0m \u001b[43m    \u001b[49m\u001b[43mdust_emission_birth\u001b[49m\u001b[38;5;241;43m=\u001b[39;49m\u001b[43mBlackbody\u001b[49m\u001b[43m(\u001b[49m\u001b[43mtemperature\u001b[49m\u001b[38;5;241;43m=\u001b[39;49m\u001b[38;5;241;43m30\u001b[39;49m\u001b[43m \u001b[49m\u001b[38;5;241;43m*\u001b[39;49m\u001b[43m \u001b[49m\u001b[43mkelvin\u001b[49m\u001b[43m)\u001b[49m\u001b[43m,\u001b[49m\n\u001b[1;32m     16\u001b[0m \u001b[43m    \u001b[49m\u001b[43mfesc\u001b[49m\u001b[38;5;241;43m=\u001b[39;49m\u001b[38;5;241;43m0.2\u001b[39;49m\u001b[43m,\u001b[49m\n\u001b[1;32m     17\u001b[0m \u001b[43m    \u001b[49m\u001b[43mfesc_ly_alpha\u001b[49m\u001b[38;5;241;43m=\u001b[39;49m\u001b[38;5;241;43m0.9\u001b[39;49m\u001b[43m,\u001b[49m\n\u001b[1;32m     18\u001b[0m \u001b[43m    \u001b[49m\u001b[43mlabel\u001b[49m\u001b[38;5;241;43m=\u001b[39;49m\u001b[38;5;124;43m\"\u001b[39;49m\u001b[38;5;124;43mstellar_total\u001b[39;49m\u001b[38;5;124;43m\"\u001b[39;49m\u001b[43m,\u001b[49m\n\u001b[1;32m     19\u001b[0m \u001b[43m)\u001b[49m\n\u001b[1;32m     21\u001b[0m \u001b[38;5;66;03m# or do I want to use galaxy intrinsic model?\u001b[39;00m\n\u001b[1;32m     22\u001b[0m gal_intrinsic \u001b[38;5;241m=\u001b[39m EmissionModel(\n\u001b[1;32m     23\u001b[0m     label\u001b[38;5;241m=\u001b[39m\u001b[38;5;124m\"\u001b[39m\u001b[38;5;124mtotal_intrinsic\u001b[39m\u001b[38;5;124m\"\u001b[39m,\n\u001b[1;32m     24\u001b[0m     combine\u001b[38;5;241m=\u001b[39m(pc_model[\u001b[38;5;124m\"\u001b[39m\u001b[38;5;124mintrinsic\u001b[39m\u001b[38;5;124m\"\u001b[39m]),\n\u001b[1;32m     25\u001b[0m     emitter\u001b[38;5;241m=\u001b[39m\u001b[38;5;124m\"\u001b[39m\u001b[38;5;124mgalaxy\u001b[39m\u001b[38;5;124m\"\u001b[39m,\n\u001b[1;32m     26\u001b[0m )\n",
      "File \u001b[0;32m/srv/conda/envs/notebook/lib/python3.9/site-packages/synthesizer/emission_models/stellar/pacman_model.py:646\u001b[0m, in \u001b[0;36mBimodalPacmanEmission.__init__\u001b[0;34m(self, grid, tau_v_ism, tau_v_birth, dust_curve_ism, dust_curve_birth, age_pivot, dust_emission_ism, dust_emission_birth, fesc, fesc_ly_alpha, label, stellar_dust, **kwargs)\u001b[0m\n\u001b[1;32m    634\u001b[0m \u001b[38;5;28;01melse\u001b[39;00m:\n\u001b[1;32m    635\u001b[0m     (\n\u001b[1;32m    636\u001b[0m         \u001b[38;5;28mself\u001b[39m\u001b[38;5;241m.\u001b[39myoung_intrinsic,\n\u001b[1;32m    637\u001b[0m         \u001b[38;5;28mself\u001b[39m\u001b[38;5;241m.\u001b[39mold_intrinsic,\n\u001b[1;32m    638\u001b[0m         \u001b[38;5;28mself\u001b[39m\u001b[38;5;241m.\u001b[39mintrinsic,\n\u001b[1;32m    639\u001b[0m     ) \u001b[38;5;241m=\u001b[39m \u001b[38;5;28mself\u001b[39m\u001b[38;5;241m.\u001b[39m_make_intrinsic_reprocessed(\u001b[38;5;241m*\u001b[39m\u001b[38;5;241m*\u001b[39mkwargs)\n\u001b[1;32m    640\u001b[0m (\n\u001b[1;32m    641\u001b[0m     \u001b[38;5;28mself\u001b[39m\u001b[38;5;241m.\u001b[39myoung_attenuated_nebular,\n\u001b[1;32m    642\u001b[0m     \u001b[38;5;28mself\u001b[39m\u001b[38;5;241m.\u001b[39myoung_attenuated_ism,\n\u001b[1;32m    643\u001b[0m     \u001b[38;5;28mself\u001b[39m\u001b[38;5;241m.\u001b[39myoung_attenuated,\n\u001b[1;32m    644\u001b[0m     \u001b[38;5;28mself\u001b[39m\u001b[38;5;241m.\u001b[39mold_attenuated,\n\u001b[1;32m    645\u001b[0m     \u001b[38;5;28mself\u001b[39m\u001b[38;5;241m.\u001b[39mattenuated,\n\u001b[0;32m--> 646\u001b[0m ) \u001b[38;5;241m=\u001b[39m \u001b[38;5;28;43mself\u001b[39;49m\u001b[38;5;241;43m.\u001b[39;49m\u001b[43m_make_attenuated\u001b[49m\u001b[43m(\u001b[49m\u001b[38;5;241;43m*\u001b[39;49m\u001b[38;5;241;43m*\u001b[39;49m\u001b[43mkwargs\u001b[49m\u001b[43m)\u001b[49m\n\u001b[1;32m    647\u001b[0m \u001b[38;5;28;01mif\u001b[39;00m (\n\u001b[1;32m    648\u001b[0m     \u001b[38;5;28mself\u001b[39m\u001b[38;5;241m.\u001b[39mdust_emission_ism \u001b[38;5;129;01mis\u001b[39;00m \u001b[38;5;129;01mnot\u001b[39;00m \u001b[38;5;28;01mNone\u001b[39;00m\n\u001b[1;32m    649\u001b[0m     \u001b[38;5;129;01mand\u001b[39;00m \u001b[38;5;28mself\u001b[39m\u001b[38;5;241m.\u001b[39mdust_emission_birth \u001b[38;5;129;01mis\u001b[39;00m \u001b[38;5;129;01mnot\u001b[39;00m \u001b[38;5;28;01mNone\u001b[39;00m\n\u001b[1;32m    650\u001b[0m ):\n\u001b[1;32m    651\u001b[0m     (\n\u001b[1;32m    652\u001b[0m         \u001b[38;5;28mself\u001b[39m\u001b[38;5;241m.\u001b[39myoung_emergent,\n\u001b[1;32m    653\u001b[0m         \u001b[38;5;28mself\u001b[39m\u001b[38;5;241m.\u001b[39mold_emergent,\n\u001b[1;32m    654\u001b[0m         \u001b[38;5;28mself\u001b[39m\u001b[38;5;241m.\u001b[39memergent,\n\u001b[1;32m    655\u001b[0m     ) \u001b[38;5;241m=\u001b[39m \u001b[38;5;28mself\u001b[39m\u001b[38;5;241m.\u001b[39m_make_emergent(\u001b[38;5;241m*\u001b[39m\u001b[38;5;241m*\u001b[39mkwargs)\n",
      "File \u001b[0;32m/srv/conda/envs/notebook/lib/python3.9/site-packages/synthesizer/emission_models/stellar/pacman_model.py:983\u001b[0m, in \u001b[0;36mBimodalPacmanEmission._make_attenuated\u001b[0;34m(self, **kwargs)\u001b[0m\n\u001b[1;32m    982\u001b[0m \u001b[38;5;28;01mdef\u001b[39;00m \u001b[38;5;21m_make_attenuated\u001b[39m(\u001b[38;5;28mself\u001b[39m, \u001b[38;5;241m*\u001b[39m\u001b[38;5;241m*\u001b[39mkwargs):\n\u001b[0;32m--> 983\u001b[0m     young_attenuated_nebular \u001b[38;5;241m=\u001b[39m \u001b[43mAttenuatedEmission\u001b[49m\u001b[43m(\u001b[49m\n\u001b[1;32m    984\u001b[0m \u001b[43m        \u001b[49m\u001b[43mlabel\u001b[49m\u001b[38;5;241;43m=\u001b[39;49m\u001b[38;5;124;43m\"\u001b[39;49m\u001b[38;5;124;43myoung_attenuated_nebular\u001b[39;49m\u001b[38;5;124;43m\"\u001b[39;49m\u001b[43m,\u001b[49m\n\u001b[1;32m    985\u001b[0m \u001b[43m        \u001b[49m\u001b[43mtau_v\u001b[49m\u001b[38;5;241;43m=\u001b[39;49m\u001b[38;5;28;43mself\u001b[39;49m\u001b[38;5;241;43m.\u001b[39;49m\u001b[43mtau_v_birth\u001b[49m\u001b[43m,\u001b[49m\n\u001b[1;32m    986\u001b[0m \u001b[43m        \u001b[49m\u001b[43mdust_curve\u001b[49m\u001b[38;5;241;43m=\u001b[39;49m\u001b[38;5;28;43mself\u001b[39;49m\u001b[38;5;241;43m.\u001b[39;49m\u001b[43m_dust_curve_birth\u001b[49m\u001b[43m,\u001b[49m\n\u001b[1;32m    987\u001b[0m \u001b[43m        \u001b[49m\u001b[43mapply_dust_to\u001b[49m\u001b[38;5;241;43m=\u001b[39;49m\u001b[38;5;28;43mself\u001b[39;49m\u001b[38;5;241;43m.\u001b[39;49m\u001b[43myoung_reprocessed\u001b[49m\u001b[43m,\u001b[49m\n\u001b[1;32m    988\u001b[0m \u001b[43m        \u001b[49m\u001b[43memitter\u001b[49m\u001b[38;5;241;43m=\u001b[39;49m\u001b[38;5;124;43m\"\u001b[39;49m\u001b[38;5;124;43mstellar\u001b[39;49m\u001b[38;5;124;43m\"\u001b[39;49m\u001b[43m,\u001b[49m\n\u001b[1;32m    989\u001b[0m \u001b[43m        \u001b[49m\u001b[38;5;241;43m*\u001b[39;49m\u001b[38;5;241;43m*\u001b[39;49m\u001b[43mkwargs\u001b[49m\u001b[43m,\u001b[49m\n\u001b[1;32m    990\u001b[0m \u001b[43m    \u001b[49m\u001b[43m)\u001b[49m\n\u001b[1;32m    991\u001b[0m     young_attenuated_ism \u001b[38;5;241m=\u001b[39m AttenuatedEmission(\n\u001b[1;32m    992\u001b[0m         label\u001b[38;5;241m=\u001b[39m\u001b[38;5;124m\"\u001b[39m\u001b[38;5;124myoung_attenuated_ism\u001b[39m\u001b[38;5;124m\"\u001b[39m,\n\u001b[1;32m    993\u001b[0m         tau_v\u001b[38;5;241m=\u001b[39m\u001b[38;5;28mself\u001b[39m\u001b[38;5;241m.\u001b[39mtau_v_ism,\n\u001b[0;32m   (...)\u001b[0m\n\u001b[1;32m    997\u001b[0m         \u001b[38;5;241m*\u001b[39m\u001b[38;5;241m*\u001b[39mkwargs,\n\u001b[1;32m    998\u001b[0m     )\n\u001b[1;32m    999\u001b[0m     young_attenuated \u001b[38;5;241m=\u001b[39m AttenuatedEmission(\n\u001b[1;32m   1000\u001b[0m         label\u001b[38;5;241m=\u001b[39m\u001b[38;5;124m\"\u001b[39m\u001b[38;5;124myoung_attenuated\u001b[39m\u001b[38;5;124m\"\u001b[39m,\n\u001b[1;32m   1001\u001b[0m         tau_v\u001b[38;5;241m=\u001b[39m\u001b[38;5;28mself\u001b[39m\u001b[38;5;241m.\u001b[39mtau_v_ism,\n\u001b[0;32m   (...)\u001b[0m\n\u001b[1;32m   1005\u001b[0m         \u001b[38;5;241m*\u001b[39m\u001b[38;5;241m*\u001b[39mkwargs,\n\u001b[1;32m   1006\u001b[0m     )\n",
      "File \u001b[0;32m/srv/conda/envs/notebook/lib/python3.9/site-packages/synthesizer/emission_models/models.py:112\u001b[0m, in \u001b[0;36mAttenuatedEmission.__init__\u001b[0;34m(self, dust_curve, apply_dust_to, tau_v, emitter, label, grid, **kwargs)\u001b[0m\n\u001b[1;32m     91\u001b[0m \u001b[38;5;28;01mdef\u001b[39;00m \u001b[38;5;21m__init__\u001b[39m(\n\u001b[1;32m     92\u001b[0m     \u001b[38;5;28mself\u001b[39m,\n\u001b[1;32m     93\u001b[0m     dust_curve,\n\u001b[0;32m   (...)\u001b[0m\n\u001b[1;32m     99\u001b[0m     \u001b[38;5;241m*\u001b[39m\u001b[38;5;241m*\u001b[39mkwargs,\n\u001b[1;32m    100\u001b[0m ):\n\u001b[1;32m    101\u001b[0m \u001b[38;5;250m    \u001b[39m\u001b[38;5;124;03m\"\"\"\u001b[39;00m\n\u001b[1;32m    102\u001b[0m \u001b[38;5;124;03m    Initialise the AttenuatedEmission object.\u001b[39;00m\n\u001b[1;32m    103\u001b[0m \n\u001b[0;32m   (...)\u001b[0m\n\u001b[1;32m    110\u001b[0m \u001b[38;5;124;03m        grid (synthesizer.grid.Grid): The grid object.\u001b[39;00m\n\u001b[1;32m    111\u001b[0m \u001b[38;5;124;03m    \"\"\"\u001b[39;00m\n\u001b[0;32m--> 112\u001b[0m     \u001b[43mEmissionModel\u001b[49m\u001b[38;5;241;43m.\u001b[39;49m\u001b[38;5;21;43m__init__\u001b[39;49m\u001b[43m(\u001b[49m\n\u001b[1;32m    113\u001b[0m \u001b[43m        \u001b[49m\u001b[38;5;28;43mself\u001b[39;49m\u001b[43m,\u001b[49m\n\u001b[1;32m    114\u001b[0m \u001b[43m        \u001b[49m\u001b[43mgrid\u001b[49m\u001b[38;5;241;43m=\u001b[39;49m\u001b[43mgrid\u001b[49m\u001b[43m,\u001b[49m\n\u001b[1;32m    115\u001b[0m \u001b[43m        \u001b[49m\u001b[43mlabel\u001b[49m\u001b[38;5;241;43m=\u001b[39;49m\u001b[43mlabel\u001b[49m\u001b[43m,\u001b[49m\n\u001b[1;32m    116\u001b[0m \u001b[43m        \u001b[49m\u001b[43mdust_curve\u001b[49m\u001b[38;5;241;43m=\u001b[39;49m\u001b[43mdust_curve\u001b[49m\u001b[43m,\u001b[49m\n\u001b[1;32m    117\u001b[0m \u001b[43m        \u001b[49m\u001b[43mapply_dust_to\u001b[49m\u001b[38;5;241;43m=\u001b[39;49m\u001b[43mapply_dust_to\u001b[49m\u001b[43m,\u001b[49m\n\u001b[1;32m    118\u001b[0m \u001b[43m        \u001b[49m\u001b[43mtau_v\u001b[49m\u001b[38;5;241;43m=\u001b[39;49m\u001b[43mtau_v\u001b[49m\u001b[43m,\u001b[49m\n\u001b[1;32m    119\u001b[0m \u001b[43m        \u001b[49m\u001b[43memitter\u001b[49m\u001b[38;5;241;43m=\u001b[39;49m\u001b[43memitter\u001b[49m\u001b[43m,\u001b[49m\n\u001b[1;32m    120\u001b[0m \u001b[43m        \u001b[49m\u001b[38;5;241;43m*\u001b[39;49m\u001b[38;5;241;43m*\u001b[39;49m\u001b[43mkwargs\u001b[49m\u001b[43m,\u001b[49m\n\u001b[1;32m    121\u001b[0m \u001b[43m    \u001b[49m\u001b[43m)\u001b[49m\n",
      "File \u001b[0;32m/srv/conda/envs/notebook/lib/python3.9/site-packages/synthesizer/emission_models/base_model.py:318\u001b[0m, in \u001b[0;36mEmissionModel.__init__\u001b[0;34m(self, label, grid, extract, combine, apply_dust_to, dust_curve, tau_v, generator, lum_intrinsic_model, lum_attenuated_model, mask_attr, mask_thresh, mask_op, fesc, related_models, emitter, fixed_parameters, scale_by, post_processing, save, per_particle, **kwargs)\u001b[0m\n\u001b[1;32m    303\u001b[0m \u001b[38;5;28mself\u001b[39m\u001b[38;5;241m.\u001b[39m_get_operation_flags(\n\u001b[1;32m    304\u001b[0m     grid\u001b[38;5;241m=\u001b[39mgrid,\n\u001b[1;32m    305\u001b[0m     extract\u001b[38;5;241m=\u001b[39mextract,\n\u001b[0;32m   (...)\u001b[0m\n\u001b[1;32m    312\u001b[0m     lum_attenuated_model\u001b[38;5;241m=\u001b[39mlum_attenuated_model,\n\u001b[1;32m    313\u001b[0m )\n\u001b[1;32m    315\u001b[0m \u001b[38;5;66;03m# Initilaise the corresponding operation (also checks we have a\u001b[39;00m\n\u001b[1;32m    316\u001b[0m \u001b[38;5;66;03m# valid set of arguments and also have everything we need for the\u001b[39;00m\n\u001b[1;32m    317\u001b[0m \u001b[38;5;66;03m# operation\u001b[39;00m\n\u001b[0;32m--> 318\u001b[0m \u001b[38;5;28;43mself\u001b[39;49m\u001b[38;5;241;43m.\u001b[39;49m\u001b[43m_init_operations\u001b[49m\u001b[43m(\u001b[49m\n\u001b[1;32m    319\u001b[0m \u001b[43m    \u001b[49m\u001b[43mgrid\u001b[49m\u001b[38;5;241;43m=\u001b[39;49m\u001b[43mgrid\u001b[49m\u001b[43m,\u001b[49m\n\u001b[1;32m    320\u001b[0m \u001b[43m    \u001b[49m\u001b[43mextract\u001b[49m\u001b[38;5;241;43m=\u001b[39;49m\u001b[43mextract\u001b[49m\u001b[43m,\u001b[49m\n\u001b[1;32m    321\u001b[0m \u001b[43m    \u001b[49m\u001b[43mcombine\u001b[49m\u001b[38;5;241;43m=\u001b[39;49m\u001b[43mcombine\u001b[49m\u001b[43m,\u001b[49m\n\u001b[1;32m    322\u001b[0m \u001b[43m    \u001b[49m\u001b[43mapply_dust_to\u001b[49m\u001b[38;5;241;43m=\u001b[39;49m\u001b[43mapply_dust_to\u001b[49m\u001b[43m,\u001b[49m\n\u001b[1;32m    323\u001b[0m \u001b[43m    \u001b[49m\u001b[43mdust_curve\u001b[49m\u001b[38;5;241;43m=\u001b[39;49m\u001b[43mdust_curve\u001b[49m\u001b[43m,\u001b[49m\n\u001b[1;32m    324\u001b[0m \u001b[43m    \u001b[49m\u001b[43mtau_v\u001b[49m\u001b[38;5;241;43m=\u001b[39;49m\u001b[43mtau_v\u001b[49m\u001b[43m,\u001b[49m\n\u001b[1;32m    325\u001b[0m \u001b[43m    \u001b[49m\u001b[43mgenerator\u001b[49m\u001b[38;5;241;43m=\u001b[39;49m\u001b[43mgenerator\u001b[49m\u001b[43m,\u001b[49m\n\u001b[1;32m    326\u001b[0m \u001b[43m    \u001b[49m\u001b[43mlum_intrinsic_model\u001b[49m\u001b[38;5;241;43m=\u001b[39;49m\u001b[43mlum_intrinsic_model\u001b[49m\u001b[43m,\u001b[49m\n\u001b[1;32m    327\u001b[0m \u001b[43m    \u001b[49m\u001b[43mlum_attenuated_model\u001b[49m\u001b[38;5;241;43m=\u001b[39;49m\u001b[43mlum_attenuated_model\u001b[49m\u001b[43m,\u001b[49m\n\u001b[1;32m    328\u001b[0m \u001b[43m    \u001b[49m\u001b[43mfesc\u001b[49m\u001b[38;5;241;43m=\u001b[39;49m\u001b[43mfesc\u001b[49m\u001b[43m,\u001b[49m\n\u001b[1;32m    329\u001b[0m \u001b[43m\u001b[49m\u001b[43m)\u001b[49m\n\u001b[1;32m    331\u001b[0m \u001b[38;5;66;03m# Containers for children and parents\u001b[39;00m\n\u001b[1;32m    332\u001b[0m \u001b[38;5;28mself\u001b[39m\u001b[38;5;241m.\u001b[39m_children \u001b[38;5;241m=\u001b[39m \u001b[38;5;28mset\u001b[39m()\n",
      "File \u001b[0;32m/srv/conda/envs/notebook/lib/python3.9/site-packages/synthesizer/emission_models/base_model.py:494\u001b[0m, in \u001b[0;36mEmissionModel._init_operations\u001b[0;34m(self, grid, extract, combine, apply_dust_to, dust_curve, tau_v, generator, lum_intrinsic_model, lum_attenuated_model, fesc)\u001b[0m\n\u001b[1;32m    490\u001b[0m     \u001b[38;5;28;01mraise\u001b[39;00m exceptions\u001b[38;5;241m.\u001b[39mInconsistentArguments(\n\u001b[1;32m    491\u001b[0m         \u001b[38;5;124m\"\u001b[39m\u001b[38;5;124mMust specify a dust curve to apply.\u001b[39m\u001b[38;5;124m\"\u001b[39m\n\u001b[1;32m    492\u001b[0m     )\n\u001b[1;32m    493\u001b[0m \u001b[38;5;28;01mif\u001b[39;00m \u001b[38;5;28mself\u001b[39m\u001b[38;5;241m.\u001b[39m_is_dust_attenuating \u001b[38;5;129;01mand\u001b[39;00m apply_dust_to \u001b[38;5;129;01mis\u001b[39;00m \u001b[38;5;28;01mNone\u001b[39;00m:\n\u001b[0;32m--> 494\u001b[0m     \u001b[38;5;28;01mraise\u001b[39;00m exceptions\u001b[38;5;241m.\u001b[39mInconsistentArguments(\n\u001b[1;32m    495\u001b[0m         \u001b[38;5;124m\"\u001b[39m\u001b[38;5;124mMust specify where to apply the dust curve.\u001b[39m\u001b[38;5;124m\"\u001b[39m\n\u001b[1;32m    496\u001b[0m     )\n\u001b[1;32m    497\u001b[0m \u001b[38;5;28;01mif\u001b[39;00m \u001b[38;5;28mself\u001b[39m\u001b[38;5;241m.\u001b[39m_is_dust_attenuating \u001b[38;5;129;01mand\u001b[39;00m tau_v \u001b[38;5;129;01mis\u001b[39;00m \u001b[38;5;28;01mNone\u001b[39;00m:\n\u001b[1;32m    498\u001b[0m     \u001b[38;5;28;01mraise\u001b[39;00m exceptions\u001b[38;5;241m.\u001b[39mInconsistentArguments(\n\u001b[1;32m    499\u001b[0m         \u001b[38;5;124m\"\u001b[39m\u001b[38;5;124mMust specify an optical depth to apply.\u001b[39m\u001b[38;5;124m\"\u001b[39m\n\u001b[1;32m    500\u001b[0m     )\n",
      "\u001b[0;31mInconsistentArguments\u001b[0m: Must specify where to apply the dust curve. "
     ]
    }
   ],
   "source": [
    "# Before we can generate any spectra we need to instantiate an emission model.\n",
    "# To begin with lets just use a premade incident model to get the\n",
    "# incident stellar spectra.\n",
    "\n",
    "incident = IncidentEmission(grid)\n",
    "\n",
    "# Get the stellar pacman model\n",
    "pc_model = BimodalPacmanEmission(\n",
    "    grid=grid,\n",
    "    tau_v_ism=1.0,\n",
    "    tau_v_birth=0.7,\n",
    "    dust_curve_ism=PowerLaw(slope=-1.3),\n",
    "    dust_curve_birth=PowerLaw(slope=-0.7),\n",
    "    dust_emission_ism=Blackbody(temperature=100 * kelvin),\n",
    "    dust_emission_birth=Blackbody(temperature=30 * kelvin),\n",
    "    fesc=0.2,\n",
    "    fesc_ly_alpha=0.9,\n",
    "    label=\"stellar_total\",\n",
    ")\n",
    "\n",
    "# or do I want to use galaxy intrinsic model?\n",
    "gal_intrinsic = EmissionModel(\n",
    "    label=\"total_intrinsic\",\n",
    "    combine=(pc_model[\"intrinsic\"]),\n",
    "    emitter=\"galaxy\",\n",
    ")\n",
    "\n",
    "# And now include the dust emission - I assume we want to add this later to see effects on UVLF of dust..\n",
    "'''\n",
    "gal_dust = DustEmission(\n",
    "    dust_emission_model=Greybody(30 * kelvin, 1.2),\n",
    "    dust_lum_intrinsic=gal_intrinsic,\n",
    "    dust_lum_attenuated=gal_attenuated,\n",
    "    emitter=\"galaxy\",\n",
    "    label=\"dust_emission\",\n",
    ")\n",
    "'''\n",
    "\n",
    "spec_list = []\n",
    "\n",
    "for index, gal in enumerate(gals_074):\n",
    "    # To get a spectra we just call the `get_spectra` method on the stars with\n",
    "    # whatever emission model we want to use, here the incident model.\n",
    "    spec = gal.stars.get_spectra(incident)\n",
    "    spec.get_fnu0()\n",
    "    spec_list.append(spec)\n",
    "\n",
    "\n",
    "# OR?\n",
    "# Get the spectra\n",
    "sed = gal.get_spectra(gal_intrinsic)\n",
    "\n",
    "# Get fluxes\n",
    "gal.get_observed_spectra(cosmo)\n"
   ]
  },
  {
   "cell_type": "code",
   "execution_count": 35,
   "metadata": {},
   "outputs": [],
   "source": [
    "filt1 = Filter(\"top_hat/filter.1\", lam_min=1400, lam_max=1600, new_lam=grid.lam)\n",
    "filt_lst = [filt1]\n",
    "# combine\n",
    "seds = combine_list_of_seds(spec_list)\n",
    "\n",
    "seds.lnu # rest frame lumd\n",
    "seds.get_photo_lnu(filt_lst, verbose=True) #Calculate broadband luminosities using a FilterCollection object\n",
    "abs_mag = lnu_to_absolute_mag(seds.lnu) # this one or photo_lnu?\n",
    "abs_mag_th = abs_mag[0]\n"
   ]
  },
  {
   "cell_type": "code",
   "execution_count": 36,
   "metadata": {},
   "outputs": [],
   "source": [
    "# next steps, get luminosity function for these magnitudes\n",
    "# co-moving volume: BoxSize_025 and redshift:\n",
    "little_h =  0.6711\n",
    "Vphys = (boxSize_074/little_h )**3\n",
    "Vcom = Vphys * ((1+redshift_074)**3)\n"
   ]
  },
  {
   "cell_type": "code",
   "execution_count": 37,
   "metadata": {},
   "outputs": [],
   "source": [
    "\n",
    "massBinLimits = np.arange(-22, -16, 0.5)\n",
    "phi, phi_sigma, hist = calc_lf(abs_mag_th, Vcom, massBinLimits)\n",
    "# NOTE: 074 is the same redshift as CV_0/025\n",
    "massBinLimits = massBinLimits[:-1]\n"
   ]
  },
  {
   "cell_type": "code",
   "execution_count": 38,
   "metadata": {},
   "outputs": [
    {
     "data": {
      "text/plain": [
       "array([ 0.,  0.,  0.,  0.,  0.,  0.,  0.,  0., 22.,  0.,  0.])"
      ]
     },
     "execution_count": 38,
     "metadata": {},
     "output_type": "execute_result"
    }
   ],
   "source": [
    "hist"
   ]
  },
  {
   "cell_type": "code",
   "execution_count": 39,
   "metadata": {},
   "outputs": [
    {
     "data": {
      "text/plain": [
       "array([0.00000000e+00, 0.00000000e+00, 0.00000000e+00, 0.00000000e+00,\n",
       "       0.00000000e+00, 0.00000000e+00, 0.00000000e+00, 0.00000000e+00,\n",
       "       5.76829248e-05, 0.00000000e+00, 0.00000000e+00])"
      ]
     },
     "execution_count": 39,
     "metadata": {},
     "output_type": "execute_result"
    }
   ],
   "source": [
    "phi_sigma"
   ]
  },
  {
   "cell_type": "code",
   "execution_count": null,
   "metadata": {},
   "outputs": [],
   "source": [
    "output_dir = \"/home/jovyan/camels/LH/get_LF/output/\"\n",
    "\n",
    "# Define output file path\n",
    "output_file = f\"{output_dir}{LH_X}_test.txt\"\n",
    "\n",
    "# Write the data to the text file line by line\n",
    "with open(output_file, 'w') as txtfile:\n",
    "    # Write phi values\n",
    "    txtfile.write(\"phi\\n\")\n",
    "    for value in phi_l:\n",
    "        txtfile.write(f\"{value}\\n\")\n",
    "\n",
    "    # Write phi_sigma values\n",
    "    txtfile.write(\"phi_sigma\\n\")\n",
    "    for value in phi_sigma_l:\n",
    "        txtfile.write(f\"{value}\\n\")\n",
    "\n",
    "    # Write hist values\n",
    "    txtfile.write(\"hist\\n\")\n",
    "    for value in hist:\n",
    "        txtfile.write(f\"{value}\\n\")\n",
    "\n",
    "    # Write massBinLimits values\n",
    "    txtfile.write(\"massBinLimits\\n\")\n",
    "    for value in massBinLimits:\n",
    "        txtfile.write(f\"{value}\\n\")\n",
    "\n",
    "\n",
    "print('Written out: /home/jovyan/camels/play/synth-play/LH/output/',LH_X)"
   ]
  },
  {
   "cell_type": "markdown",
   "metadata": {},
   "source": [
    "# Stop the timer\n",
    "end_time = time.time()\n",
    "\n",
    "# Calculate the elapsed time\n",
    "elapsed_time = end_time - start_time\n",
    "\n",
    "print(\"Elapsed time:\", elapsed_time, \"seconds\")"
   ]
  },
  {
   "cell_type": "code",
   "execution_count": null,
   "metadata": {},
   "outputs": [],
   "source": [
    "# Get memory usage in bytes\n",
    "memory_usage = resource.getrusage(resource.RUSAGE_SELF).ru_maxrss\n",
    "print(\"Memory usage end:\", memory_usage/1000000, \"GB\")\n"
   ]
  },
  {
   "cell_type": "code",
   "execution_count": null,
   "metadata": {},
   "outputs": [],
   "source": [
    "# will do latest LH_ set in loop as a test\n",
    "label_z = 'z = 0.46'\n",
    "\n",
    "\n",
    "# Plot the luminosity function\n",
    "plt.errorbar(massBinLimits, phi, yerr=phi_sigma, fmt='o', color='blue',label=label_z)\n",
    "plt.xlabel('Absolute Magnitude (AB)')\n",
    "plt.ylabel('Number Density (Mpc^-3 mag^-1)')\n",
    "plt.yscale('log')\n",
    "\n",
    "plt.title('Luminosity Function XMM-OM filter')\n",
    "plt.grid(True)\n",
    "plt.show()"
   ]
  },
  {
   "cell_type": "code",
   "execution_count": null,
   "metadata": {},
   "outputs": [],
   "source": []
  }
 ],
 "metadata": {
  "kernelspec": {
   "display_name": "Python 3 (ipykernel)",
   "language": "python",
   "name": "python3"
  },
  "language_info": {
   "codemirror_mode": {
    "name": "ipython",
    "version": 3
   },
   "file_extension": ".py",
   "mimetype": "text/x-python",
   "name": "python",
   "nbconvert_exporter": "python",
   "pygments_lexer": "ipython3",
   "version": "3.9.15"
  }
 },
 "nbformat": 4,
 "nbformat_minor": 4
}
