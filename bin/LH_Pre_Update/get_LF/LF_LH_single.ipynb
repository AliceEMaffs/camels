{
 "cells": [
  {
   "cell_type": "markdown",
   "metadata": {},
   "source": [
    "Absolute magnitude is defined to be the apparent magnitude an object would have if it were located at a distance of 10 parsecs.\n",
    "In astronomy, absolute magnitude (M) is a measure of the luminosity of a celestial object on an inverse logarithmic astronomical magnitude scale."
   ]
  },
  {
   "cell_type": "code",
   "execution_count": 1,
   "metadata": {},
   "outputs": [
    {
     "name": "stdout",
     "output_type": "stream",
     "text": [
      "Current directory: /home/jovyan/camels/bin/LH_Pre_Update/get_LF\n"
     ]
    }
   ],
   "source": [
    "import time\n",
    "import numpy as np\n",
    "import h5py\n",
    "import hdf5plugin\n",
    "import pandas as pd\n",
    "import os \n",
    "import csv\n",
    "import resource\n",
    "\n",
    "import matplotlib as mpl\n",
    "import matplotlib.colors as cm\n",
    "import matplotlib.pyplot as plt\n",
    "import matplotlib.gridspec as gridspec\n",
    "\n",
    "from unyt import yr, Myr, kpc, arcsec, nJy, Mpc, Msun, erg, s, Hz, kelvin\n",
    "from astropy.cosmology import Planck18 as cosmo\n",
    "\n",
    "from synthesizer.emission_models import (\n",
    "    AttenuatedEmission,\n",
    "    CharlotFall2000,\n",
    "    EmissionModel,\n",
    "    BimodalPacmanEmission,\n",
    "    IncidentEmission,\n",
    "    NebularEmission,\n",
    "    ReprocessedEmission,\n",
    "    StellarEmissionModel,\n",
    ")\n",
    "from synthesizer.emission_models.dust.emission import Blackbody, Greybody\n",
    "from synthesizer.emission_models.attenuation import PowerLaw\n",
    "from synthesizer.filters import UVJ\n",
    "from synthesizer.grid import Grid\n",
    "from synthesizer.sed import Sed\n",
    "from synthesizer.particle import Gas, Stars\n",
    "from synthesizer.filters import Filter, FilterCollection\n",
    "from synthesizer.sed import combine_list_of_seds\n",
    "from synthesizer.load_data.load_camels import load_CAMELS_IllustrisTNG\n",
    "from synthesizer.kernel_functions import Kernel\n",
    "from synthesizer.conversions import lnu_to_absolute_mag\n",
    "\n",
    "current_directory = os.getcwd()\n",
    "print(\"Current directory:\", current_directory)\n"
   ]
  },
  {
   "cell_type": "markdown",
   "metadata": {},
   "source": [
    "# Start the timer\n",
    "start_time = time.time()\n"
   ]
  },
  {
   "cell_type": "code",
   "execution_count": 2,
   "metadata": {},
   "outputs": [],
   "source": [
    "\n",
    "# Alternative method for LF:\n",
    "# try this method again, but using AB mag instead of mass, and suply your own bins (up to -17, say)\n",
    "def calc_lf(ab_mag, volume, massBinLimits):\n",
    "# OG:        hist, dummy = np.histogram(np.log10(mstar), bins = massBinLimits)\n",
    "        hist, dummy = np.histogram(ab_mag, bins = massBinLimits)\n",
    "        hist = np.float64(hist)\n",
    "        phi = (hist / volume) / (massBinLimits[1] - massBinLimits[0])\n",
    "        phi_sigma = (np.sqrt(hist) / volume) /\\\n",
    "                    (massBinLimits[1] - massBinLimits[0]) # Poisson errors\n",
    "        return phi, phi_sigma, hist\n",
    "    "
   ]
  },
  {
   "cell_type": "markdown",
   "metadata": {},
   "source": [
    "\n",
    "phi_arr =[] #phi\n",
    "phi_sigma_arr =[] # phi_sigma\n",
    "hist_arr = [] # hist\n",
    "z_arr = [] #redshift_074, \n",
    "abs_mag_arr = [] #absolute mag (th filter)\n",
    "Vcom_arr = [] # comoving vol\n",
    "massBinLimits_arr = []\n"
   ]
  },
  {
   "cell_type": "markdown",
   "metadata": {},
   "source": [
    "len(phi_arr)"
   ]
  },
  {
   "cell_type": "code",
   "execution_count": 3,
   "metadata": {},
   "outputs": [
    {
     "name": "stdout",
     "output_type": "stream",
     "text": [
      "(221, 6, 22)\n"
     ]
    }
   ],
   "source": [
    "# get grid for all galaxies\n",
    "# gives grid of metalicity and age which is used to map on our camels galaxies\n",
    "grid_dir = \"/home/jovyan/\"\n",
    "#grid_name = \"bc03-2016-Miles_chabrier-0.1-100.hdf5\"\n",
    "grid_name = \"bc03_chabrier03-0.1,100.hdf5\"\n",
    "#grid_dir = \"/Users/am/Documents/CAMELS/data/grids\"\n",
    "\n",
    "# Create a new grid\n",
    "#grid = Grid(grid_name, grid_dir=grid_dir, read_lines=False)\n",
    "\n",
    "# instead of using a filter, which requires us to load in large SEDs first, pass the grid wavelength\n",
    "#filt1 = Filter(\"top_hat/filter.1\", lam_min=1400, lam_max=1600, new_lam=grid.lam)\n",
    "#filt_lst = [filt1]\n",
    "\n",
    "# Define a new set of wavelengths\n",
    "lims_lams=(1400, 1600)\n",
    "\n",
    "grid = Grid(grid_name, grid_dir=grid_dir, lam_lims=lims_lams, read_lines=False)\n",
    "print(grid.shape)\n"
   ]
  },
  {
   "cell_type": "code",
   "execution_count": 4,
   "metadata": {},
   "outputs": [],
   "source": [
    "# Define the directory where the text files will be saved\n",
    "output_dir = \"/home/jovyan/camels/bin/LH_Pre_Update/get_LF/output/\"\n"
   ]
  },
  {
   "cell_type": "code",
   "execution_count": 5,
   "metadata": {},
   "outputs": [
    {
     "name": "stderr",
     "output_type": "stream",
     "text": [
      "/srv/conda/envs/notebook/lib/python3.9/site-packages/unyt/array.py:1949: RuntimeWarning: invalid value encountered in divide\n",
      "  out_arr = func(\n"
     ]
    }
   ],
   "source": [
    "\n",
    "# get gals\n",
    "LH_X = 'LH_104'\n",
    "dir_ = '/home/jovyan/Data/Sims/IllustrisTNG/LH/' + LH_X\n",
    "gals_074 = load_CAMELS_IllustrisTNG(\n",
    "    dir_,\n",
    "    snap_name='snapshot_074.hdf5', \n",
    "    group_name='groups_074.hdf5',\n",
    "    verbose=False,\n",
    ")"
   ]
  },
  {
   "cell_type": "markdown",
   "metadata": {},
   "source": [
    "LH_104 = 'LH_104'\n",
    "dir_ = '/home/jovyan/Data/Sims/IllustrisTNG/LH/' + LH_104\n",
    "gals_104 = load_CAMELS_IllustrisTNG(\n",
    "    dir_,\n",
    "    snap_name='snapshot_074.hdf5', \n",
    "    fof_name='groups_074.hdf5',\n",
    "    verbose=False,\n",
    ")"
   ]
  },
  {
   "cell_type": "markdown",
   "metadata": {},
   "source": [
    "# this is long dont need to print this.\n",
    "for gal in gals_074:\n",
    "    print(f\"Galaxy has {gal.stars.nstars} stellar particles\")\n",
    "    print(f\"Galaxy has {gal.gas.nparticles} gas particles\")\n"
   ]
  },
  {
   "cell_type": "markdown",
   "metadata": {},
   "source": [
    "gals_074"
   ]
  },
  {
   "cell_type": "code",
   "execution_count": 10,
   "metadata": {},
   "outputs": [
    {
     "name": "stdout",
     "output_type": "stream",
     "text": [
      "147\n"
     ]
    }
   ],
   "source": [
    "\n",
    "# Filter galaxies to only include those with 100 or more star particles\n",
    "gals_074 = [gal for gal in gals_074 if gal.stars.nstars >= 100]\n",
    "print(len(gals_074))\n",
    "gals_074 = [gal for gal in gals_074 if gal.gas.nparticles >= 100]\n"
   ]
  },
  {
   "cell_type": "markdown",
   "metadata": {},
   "source": [
    "# -1.68397285e+02\n",
    "for gal in gals_074:\n",
    "    print(gal.stars.ages)"
   ]
  },
  {
   "cell_type": "markdown",
   "metadata": {},
   "source": [
    "# commented out to see if Chris fix and my environment are working:"
   ]
  },
  {
   "cell_type": "markdown",
   "metadata": {},
   "source": [
    "#gals_cp = [gal for gal in gals_cp if gal.stars.ages >= 0] # found some negative data in gal[276] for LH_50, try this to fix.\n",
    "\n",
    "\n",
    "\n",
    "# Assuming gals_cp is a list or array containing multiple galaxies\n",
    "for gal in gals_074:\n",
    "    # Access the Stars object for the current galaxy\n",
    "    stars = gal.stars\n",
    "    \n",
    "    # Access the relevant attributes\n",
    "    initial_masses = stars.initial_masses\n",
    "    ages = stars.ages\n",
    "    metallicities = stars.metallicities\n",
    "\n",
    "    # Create a mask for stars with non-negative initial_masses and positive ages\n",
    "    mask = (initial_masses >= 0) & (ages > 0)\n",
    "    \n",
    "    # Apply the mask to all relevant attributes\n",
    "    cleaned_initial_masses = initial_masses[mask]\n",
    "    cleaned_ages = ages[mask]\n",
    "    cleaned_metallicities = metallicities[mask]\n",
    "    \n",
    "    # Create a new Stars object with the cleaned data\n",
    "    cleaned_stars = Stars(initial_masses=cleaned_initial_masses, ages=cleaned_ages, metallicities=cleaned_metallicities)\n",
    "    \n",
    "    # Update the stars attribute of the current galaxy with the cleaned Stars object\n",
    "    gal.stars = cleaned_stars\n",
    "\n",
    "    # Optionally print the cleaned ages to verify\n",
    "    print(cleaned_stars.ages)\n",
    "\n"
   ]
  },
  {
   "cell_type": "markdown",
   "metadata": {},
   "source": [
    "#gals_074 = [gal for gal in gals_074 if gal.stars.ages >= 100] # found some negative data in gal[276] for LH_50, try this to fix.\n",
    "gals_test = [gal for gal in gals_074 if all(age >= 100 for age in gal.stars.ages)]\n"
   ]
  },
  {
   "cell_type": "markdown",
   "metadata": {},
   "source": [
    "for gal in gals_074:\n",
    "    print(gal.stars.ages)"
   ]
  },
  {
   "cell_type": "markdown",
   "metadata": {},
   "source": [
    "# THIS SHOULDNT BE NEEDED SINCE UPDATE\n",
    "# Iterate through each galaxy in gals_074 with an index\n",
    "for index, gal in enumerate(gals_074):\n",
    "    # Access the ages array of the stars in the current galaxy\n",
    "    ages = gal.stars.ages\n",
    "    \n",
    "    # Find the negative values in the ages array\n",
    "    negative_ages = ages[ages < 0]\n",
    "    \n",
    "    # If there are any negative values, print them\n",
    "    if negative_ages.size > 0:\n",
    "        print(f\"Galaxy Index: {index}\")\n",
    "        print(\"Negative ages:\", negative_ages)\n"
   ]
  },
  {
   "cell_type": "markdown",
   "metadata": {},
   "source": [
    "gals_cp = gals_074 \n",
    "\n",
    "# Remove stars from each galaxy where the age is less than 100\n",
    "for gal in gals_cp:\n",
    "    obj = gal.stars.ages\n",
    "    #print(obj)\n",
    "    cleaned_obj = [arr[arr >= 0] for arr in obj]\n",
    "    gal.stars.ages = cleaned_obj\n",
    "    print(gal.stars.ages)\n",
    "    \n"
   ]
  },
  {
   "cell_type": "markdown",
   "metadata": {},
   "source": [
    "gals_test = [gal for gal in gals_074 if all(metallicities >=1e-6 for metallicities in gal.stars.metallicities)]\n",
    "\n",
    "# found some very small metalcities also (7.16442446e-06 to -10)\n",
    "#gals_074 = [gal for gal in gals_074 if gal.stars.metallicities >=1e-6]"
   ]
  },
  {
   "cell_type": "markdown",
   "metadata": {},
   "source": [
    "for gal in gals_074:\n",
    "    print(gal.gas.nparticles)\n",
    "    print(gal.stars.nstars)"
   ]
  },
  {
   "cell_type": "markdown",
   "metadata": {},
   "source": [
    "# Assuming your list of Galaxy objects is named 'gals_074'\n",
    "for index, galaxy in enumerate(gals_074):\n",
    "    print(\"Gal: [\", index , ']')"
   ]
  },
  {
   "cell_type": "code",
   "execution_count": 13,
   "metadata": {},
   "outputs": [],
   "source": [
    "# try different method to get specs:\n",
    "#specs = np.vstack([g.stars.get_spectra_incident(grid).lnu for g in gals_074])\n",
    "#print(specs)"
   ]
  },
  {
   "cell_type": "code",
   "execution_count": 14,
   "metadata": {},
   "outputs": [
    {
     "name": "stdout",
     "output_type": "stream",
     "text": [
      "+---------------------------------------------------------------------------------------------+\n",
      "|                                           GALAXY                                            |\n",
      "+-------------------------------+-------------------------------------------------------------+\n",
      "| Attribute                     | Value                                                       |\n",
      "+-------------------------------+-------------------------------------------------------------+\n",
      "| galaxy_type                   | 'Particle'                                                  |\n",
      "+-------------------------------+-------------------------------------------------------------+\n",
      "| stars                         | <synthesizer.particle.stars.Stars object at 0x7f0de1e06be0> |\n",
      "+-------------------------------+-------------------------------------------------------------+\n",
      "| gas                           | <synthesizer.particle.gas.Gas object at 0x7f0dbb109520>     |\n",
      "+-------------------------------+-------------------------------------------------------------+\n",
      "| redshift                      | 0.47                                                        |\n",
      "+-------------------------------+-------------------------------------------------------------+\n",
      "| name                          | 'particle galaxy'                                           |\n",
      "+-------------------------------+-------------------------------------------------------------+\n",
      "| sf_gas_metallicity            | 0.00e+00                                                    |\n",
      "+-------------------------------+-------------------------------------------------------------+\n",
      "| sf_gas_mass                   | 0.00e+00                                                    |\n",
      "+-------------------------------+-------------------------------------------------------------+\n",
      "| centre                        | [ 8312.929 12769.862 12756.366] kpc                         |\n",
      "+-------------------------------+-------------------------------------------------------------+\n",
      "| gas_mass                      | 19905196000.0 Msun                                          |\n",
      "+-------------------------------+-------------------------------------------------------------+\n",
      "| stellar_mass                  | 1600435000.0 Msun                                           |\n",
      "+-------------------------------+-------------------------------------------------------------+\n",
      "| stellar_mass_weighted_age     | 4085672981.457692 yr                                        |\n",
      "+-------------------------------+-------------------------------------------------------------+\n",
      "| mass_weighted_gas_metallicity | 0.00015687085 dimensionless                                 |\n",
      "+-------------------------------+-------------------------------------------------------------+\n"
     ]
    }
   ],
   "source": [
    "g = gals_074[137]\n",
    "print(g)"
   ]
  },
  {
   "cell_type": "code",
   "execution_count": 15,
   "metadata": {},
   "outputs": [
    {
     "name": "stdout",
     "output_type": "stream",
     "text": [
      "<class 'synthesizer.particle.galaxy.Galaxy'>\n"
     ]
    }
   ],
   "source": [
    "print(type(g))"
   ]
  },
  {
   "cell_type": "code",
   "execution_count": 16,
   "metadata": {},
   "outputs": [
    {
     "name": "stdout",
     "output_type": "stream",
     "text": [
      "[35784444. 10046882. 35729828. 24234642. 28452670. 26559054. 20050398.\n",
      " 28736250. 28479760. 31694732. 13933997. 25009610. 23550900. 16070881.\n",
      " 20925284. 21255214. 31317708. 20077630. 26360406. 20204594. 24747696.\n",
      " 24181034. 19314928. 23426320. 21775454. 31532226. 25994324. 24603788.\n",
      " 17130586. 24406598. 17439444. 26653368. 37304372. 30248602. 28654848.\n",
      " 22211396. 26582392. 31003906. 19641748. 26947720. 24179976. 21050012.\n",
      " 21305606. 32369742. 22641816. 34298952. 29898632. 15424778. 18634790.\n",
      " 20170590. 25213044. 14839478. 25185608. 19328002. 25405636. 18164074.\n",
      " 23087704. 31421402. 32947592. 30431308. 23710870. 27279966. 28912910.\n",
      " 19775624. 29653470. 27943758. 15706061. 28598480. 26599314. 30384394.\n",
      " 33439152. 26910966. 20623334. 35205424. 19659044. 24442396. 28492834.\n",
      " 23413170. 32271832. 32252990.  7430425. 35945540. 28166552. 18873400.\n",
      " 23230088. 32815802. 15253708. 28593720. 28720990. 36279220. 26684304.\n",
      " 19127744. 30529028. 25074568. 16075368. 10969922. 27358878. 16372039.\n",
      " 28395924. 20604810. 35173316. 12513755. 11391383.] Msun\n"
     ]
    }
   ],
   "source": [
    "print(g.stars.initial_masses)\n"
   ]
  },
  {
   "cell_type": "code",
   "execution_count": 17,
   "metadata": {},
   "outputs": [
    {
     "name": "stdout",
     "output_type": "stream",
     "text": [
      "[5.69026226e+09 4.55760002e+09 6.43790999e+09 7.26794471e+09\n",
      " 6.59842295e+09 6.76937803e+09 5.60865798e+09 1.14891045e+09\n",
      " 7.63309591e+09 7.62748846e+09 1.14664869e+09 7.35340190e+09\n",
      " 5.35798490e+09 5.35187499e+09 6.28714761e+09 2.47701809e+08\n",
      " 7.62523855e+09 5.88545611e+08 6.22016408e+09 5.08612888e+09\n",
      " 8.07918470e+09 1.44380431e+09 5.43801059e+09 6.84110691e+09\n",
      " 8.25466098e+09 6.86269690e+09 6.87340850e+09 4.57049319e+09\n",
      " 5.57287909e+09 1.50362149e+09 1.43501857e+09 6.62449646e+09\n",
      " 2.34304967e+09 4.40202696e+09 2.58243709e+09 4.99515911e+09\n",
      " 7.29363621e+09 4.39440267e+09 4.49260555e+09 5.65251660e+09\n",
      " 4.35610566e+09 5.64970373e+09 4.46259904e+09 6.52676787e+09\n",
      " 7.95471666e+08 1.25465072e+09 3.12921168e+08 5.70267058e+08\n",
      " 2.66562624e+07 5.38408317e+08 1.32897240e+09 4.82442741e+08\n",
      " 1.47011179e+09 4.87250580e+08 1.03749297e+09 4.58374148e+08\n",
      " 1.58904521e+09 5.23230749e+09 5.10408377e+09 3.24316638e+09\n",
      " 3.58397361e+09 2.54133135e+09 4.63262060e+09 5.41403325e+09\n",
      " 3.62364249e+09 1.88822285e+09 4.20787344e+09 3.87730151e+09\n",
      " 3.63680753e+09 7.37910357e+09 5.34115863e+09 5.79023358e+09\n",
      " 3.69135225e+09 6.72211627e+09 4.39058628e+09 3.36339831e+09\n",
      " 3.81810748e+09 7.41359019e+09 6.64830802e+09 6.26193312e+09\n",
      " 4.70466406e+09 7.45497272e+09 6.47638129e+09 6.54333563e+09\n",
      " 4.62535417e+09 2.89355277e+09 6.62848177e+09 1.91189783e+09\n",
      " 1.39097321e+09 3.76902191e+09 2.57987390e+09 1.57895033e+09\n",
      " 2.28205285e+09 1.91189783e+09 1.62069979e+09 9.87077347e+08\n",
      " 2.45324572e+09 2.08811403e+09 1.84768781e+09 9.30523233e+07\n",
      " 2.75718093e+09 5.03012931e+09 4.29032307e+09] yr\n"
     ]
    }
   ],
   "source": [
    "print(g.stars.ages)\n"
   ]
  },
  {
   "cell_type": "code",
   "execution_count": 18,
   "metadata": {},
   "outputs": [
    {
     "name": "stdout",
     "output_type": "stream",
     "text": [
      "[3.18072666e-03 5.57395723e-03 3.62171466e-03 3.33565357e-03\n",
      " 2.34390516e-03 3.39714182e-03 4.79144230e-03 2.15196540e-03\n",
      " 1.63525797e-03 1.72037701e-03 2.63621379e-03 3.37845157e-03\n",
      " 5.76980691e-03 5.33247460e-03 3.95644084e-03 3.90741788e-03\n",
      " 1.53119559e-03 4.36312007e-03 5.51010389e-03 5.77896647e-03\n",
      " 4.19687538e-04 1.61052449e-03 1.39559206e-05 2.59958756e-06\n",
      " 7.98888067e-10 1.57155027e-05 9.44466970e-04 4.50819614e-04\n",
      " 2.60537886e-03 1.38388551e-03 1.67325197e-03 1.90138852e-03\n",
      " 1.40516052e-03 5.01146133e-04 1.43561745e-03 1.43631805e-05\n",
      " 8.19841528e-10 1.20059948e-03 6.90769157e-05 2.72337911e-06\n",
      " 2.20863032e-03 2.72636044e-06 3.58425576e-04 1.64353033e-03\n",
      " 3.46188736e-03 2.25300761e-03 5.03063668e-03 4.10348177e-03\n",
      " 4.22061794e-03 4.05838201e-03 4.29489557e-03 4.55625961e-03\n",
      " 3.32188443e-03 4.20670956e-03 4.57713334e-03 5.25696576e-03\n",
      " 3.27596976e-03 2.59908265e-03 2.39696749e-03 3.14964424e-03\n",
      " 2.85351346e-03 3.66501277e-03 3.26114963e-03 4.19129909e-04\n",
      " 2.08370993e-03 3.43229622e-03 6.97175099e-04 1.12843025e-03\n",
      " 2.89205671e-03 4.34076734e-04 1.50065578e-03 1.19590911e-03\n",
      " 2.42055487e-03 7.19022122e-04 4.87796438e-04 2.95698992e-03\n",
      " 1.90165115e-03 8.03601963e-10 3.46835470e-04 2.61658803e-04\n",
      " 3.25157470e-03 8.00011835e-10 6.53071838e-05 1.19518595e-09\n",
      " 1.46852915e-06 5.37820393e-04 2.93528894e-03 7.34285126e-03\n",
      " 9.56666563e-03 5.38124098e-03 5.23204403e-03 1.02084968e-02\n",
      " 6.87374128e-03 7.29069812e-03 1.02127418e-02 9.30294767e-03\n",
      " 6.61302498e-03 6.83219545e-03 9.65315197e-03 6.00785576e-03\n",
      " 4.76062298e-03 2.52690096e-03 5.64176356e-03]\n"
     ]
    }
   ],
   "source": [
    "print(g.stars.metallicities)"
   ]
  },
  {
   "cell_type": "markdown",
   "metadata": {
    "scrolled": false
   },
   "source": [
    "\n",
    "for gal in gals_074:\n",
    "    print(f\"Galaxy has {gal.stars.nstars} stellar particles\")\n",
    "    print(f\"Galaxy gas {gal.gas.nparticles} gas particles\")\n"
   ]
  },
  {
   "cell_type": "code",
   "execution_count": 19,
   "metadata": {},
   "outputs": [],
   "source": [
    "\n",
    "\n",
    "cat_074 = dir_+'/groups_074.hdf5'\n",
    "# open file\n",
    "f_h5py = h5py.File(cat_074, 'r')\n",
    "\n",
    "# read different attributes of the header\n",
    "boxSize_074 = f_h5py['Header'].attrs[u'BoxSize']/1e3 #Mpc/h\n",
    "redshift_074 = f_h5py['Header'].attrs[u'Redshift']\n"
   ]
  },
  {
   "cell_type": "markdown",
   "metadata": {},
   "source": [
    "# Get the number of star particles for each galaxy\n",
    "nstars_list = [gal.stars.nstars for gal in gals_074]\n",
    "# Get the number of gas particles for each galaxy\n",
    "ngas_list = [gal.gas.nparticles for gal in gals_074]\n",
    "\n",
    "# Calculate the minimum and maximum number of star particles\n",
    "min_nstars = min(nstars_list)\n",
    "max_nstars = max(nstars_list)\n",
    "\n",
    "# Calculate the minimum and maximum number of gas particles\n",
    "min_ngas = min(ngas_list)\n",
    "max_ngas = max(ngas_list)\n",
    "\n",
    "print(f\"Minimum number of star particles: {min_nstars}\")\n",
    "print(f\"Maximum number of star particles: {max_nstars}\")\n",
    "print(f\"Minimum number of gas particles: {min_ngas}\")\n",
    "print(f\"Maximum number of gas particles: {max_ngas}\")\n"
   ]
  },
  {
   "cell_type": "code",
   "execution_count": 20,
   "metadata": {},
   "outputs": [],
   "source": [
    "\n",
    "\n",
    "spec_list = []\n",
    "# Lets work with z=0.475 so gals_p10\n",
    "for i in gals_074:\n",
    "    gal = i\n",
    "    # To get a spectra we just call the `get_spectra` method on the stars with\n",
    "    # whatever emission model we want to use, here the incident model.\n",
    "    spec = gal.stars.get_spectra(incident)\n",
    "    spec.get_fnu0()\n",
    "    spec_list.append(spec)\n",
    "\n",
    "# Combine spectra\n",
    "seds = combine_list_of_seds(spec_list)\n",
    "\n",
    "\n",
    "\n",
    "# flters:\n",
    "# Need to use the grid lam, dont need to define wavelengths here: see codes here: http://svo2.cab.inta-csic.es/theory/fps/index.php?id=Swift/UVOT.UVM2&&mode=browse&gname=Swift&gname2=UVOT#filter\n",
    "# need to use transmission NOT area\n",
    "# Get for XMM\n",
    "#fil_uvm2_XMM = Filter(\"XMM/OM.UVM2_filter\", new_lam=grid.lam)\n",
    "\n",
    "# now get for UVOT\n",
    "#fil_uvm2_UVOT = Filter(\"Swift/UVOT.UVM2_fil\", new_lam=grid.lam) # changed from new_lam=lams_uvot to grid.lam and get 0 transmission, but warning sign is back\n",
    "\n",
    "# tophat filter\n",
    "filt1 = Filter(\"top_hat/filter.1\", lam_min=1400, lam_max=1600, new_lam=grid.lam)\n",
    "\n",
    "# 0 = TopHat, 1 = XMM, 2= Swift\n",
    "filt_lst = [filt1]#, fil_uvm2_XMM, fil_uvm2_UVOT]\n",
    "\n",
    "# get filters in combined array to apply to all galaxies\n",
    "combined_filters = FilterCollection(\n",
    "    filters=filt_lst, new_lam=grid.lam\n",
    ")\n",
    "\n",
    "seds.lnu  # rest frame lumd\n",
    "seds.get_photo_lnu(combined_filters, verbose=True) \n",
    "#Calculate broadband luminosities using a FilterCollection object   \n",
    "# conversion is done using:\n",
    "\n",
    "#    M = -2.5 * log10(L_nu / dist_mod / (erg / s / Hz)) - 48.6\n",
    "\n",
    "abs_mag = lnu_to_absolute_mag(seds.lnu)\n",
    "abs_mag_th = abs_mag[0]"
   ]
  },
  {
   "cell_type": "code",
   "execution_count": 35,
   "metadata": {},
   "outputs": [
    {
     "data": {
      "text/plain": [
       "array([-17.61049648, -17.58217026, -17.60809374, -17.58851181,\n",
       "       -17.64403813, -17.66844379, -17.66225309, -17.62667977,\n",
       "       -17.61636473, -17.63265902, -17.6571199 , -17.65641697,\n",
       "       -17.61100192, -17.65750048, -17.61100507, -17.55718337,\n",
       "       -17.65674752, -17.6061467 , -17.57972646, -17.6328423 ,\n",
       "       -17.68298693, -17.72254931])"
      ]
     },
     "execution_count": 35,
     "metadata": {},
     "output_type": "execute_result"
    }
   ],
   "source": [
    "abs_mag_th"
   ]
  },
  {
   "cell_type": "code",
   "execution_count": 22,
   "metadata": {},
   "outputs": [],
   "source": [
    "# next steps, get luminosity function for these magnitudes\n",
    "# co-moving volume: BoxSize_025 and redshift:\n",
    "little_h =  0.6711\n",
    "Vphys = (boxSize_074/little_h )**3\n",
    "Vcom = Vphys * ((1+redshift_074)**3)\n"
   ]
  },
  {
   "cell_type": "code",
   "execution_count": 23,
   "metadata": {},
   "outputs": [],
   "source": [
    "\n",
    "massBinLimits = np.arange(-22, -16, 0.5)\n",
    "phi, phi_sigma, hist = calc_lf(abs_mag_th, Vcom, massBinLimits)\n",
    "# NOTE: 074 is the same redshift as CV_0/025\n",
    "massBinLimits = massBinLimits[:-1]\n"
   ]
  },
  {
   "cell_type": "code",
   "execution_count": 34,
   "metadata": {},
   "outputs": [
    {
     "data": {
      "text/plain": [
       "array([-22. , -21.5, -21. , -20.5, -20. , -19.5, -19. , -18.5, -18. ,\n",
       "       -17.5, -17. ])"
      ]
     },
     "execution_count": 34,
     "metadata": {},
     "output_type": "execute_result"
    }
   ],
   "source": [
    "massBinLimits"
   ]
  },
  {
   "cell_type": "code",
   "execution_count": 33,
   "metadata": {},
   "outputs": [
    {
     "data": {
      "text/plain": [
       "array([0.        , 0.        , 0.        , 0.        , 0.        ,\n",
       "       0.        , 0.        , 0.        , 0.00027056, 0.        ,\n",
       "       0.        ])"
      ]
     },
     "execution_count": 33,
     "metadata": {},
     "output_type": "execute_result"
    }
   ],
   "source": [
    "phi"
   ]
  },
  {
   "cell_type": "code",
   "execution_count": null,
   "metadata": {},
   "outputs": [],
   "source": [
    "output_dir = \"/home/jovyan/camels/LH/get_LF/output/\"\n",
    "\n",
    "# Define output file path\n",
    "output_file = f\"{output_dir}{LH_X}_test.txt\"\n",
    "\n",
    "# Write the data to the text file line by line\n",
    "with open(output_file, 'w') as txtfile:\n",
    "    # Write phi values\n",
    "    txtfile.write(\"phi\\n\")\n",
    "    for value in phi_l:\n",
    "        txtfile.write(f\"{value}\\n\")\n",
    "\n",
    "    # Write phi_sigma values\n",
    "    txtfile.write(\"phi_sigma\\n\")\n",
    "    for value in phi_sigma_l:\n",
    "        txtfile.write(f\"{value}\\n\")\n",
    "\n",
    "    # Write hist values\n",
    "    txtfile.write(\"hist\\n\")\n",
    "    for value in hist:\n",
    "        txtfile.write(f\"{value}\\n\")\n",
    "\n",
    "    # Write massBinLimits values\n",
    "    txtfile.write(\"massBinLimits\\n\")\n",
    "    for value in massBinLimits:\n",
    "        txtfile.write(f\"{value}\\n\")\n",
    "\n",
    "\n",
    "print('Written out: /home/jovyan/camels/play/synth-play/LH/output/',LH_X)"
   ]
  },
  {
   "cell_type": "markdown",
   "metadata": {},
   "source": [
    "# Stop the timer\n",
    "end_time = time.time()\n",
    "\n",
    "# Calculate the elapsed time\n",
    "elapsed_time = end_time - start_time\n",
    "\n",
    "print(\"Elapsed time:\", elapsed_time, \"seconds\")"
   ]
  },
  {
   "cell_type": "code",
   "execution_count": null,
   "metadata": {},
   "outputs": [],
   "source": [
    "# Get memory usage in bytes\n",
    "memory_usage = resource.getrusage(resource.RUSAGE_SELF).ru_maxrss\n",
    "print(\"Memory usage end:\", memory_usage/1000000, \"GB\")\n"
   ]
  },
  {
   "cell_type": "code",
   "execution_count": 36,
   "metadata": {},
   "outputs": [
    {
     "data": {
      "image/png": "[encoded data removed]",
      "text/plain": [
       "<Figure size 640x480 with 1 Axes>"
      ]
     },
     "metadata": {},
     "output_type": "display_data"
    }
   ],
   "source": [
    "# will do latest LH_ set in loop as a test\n",
    "label_z = 'z = 0.46'\n",
    "\n",
    "\n",
    "# Plot the luminosity function\n",
    "plt.errorbar(massBinLimits, phi, yerr=phi_sigma, fmt='o', color='blue',label=label_z)\n",
    "plt.xlabel('Absolute Magnitude (AB)')\n",
    "plt.ylabel('Number Density (Mpc^-3 mag^-1)')\n",
    "plt.yscale('log')\n",
    "\n",
    "plt.title('Luminosity Function XMM-OM filter')\n",
    "plt.grid(True)\n",
    "plt.show()"
   ]
  },
  {
   "cell_type": "code",
   "execution_count": null,
   "metadata": {},
   "outputs": [],
   "source": []
  }
 ],
 "metadata": {
  "kernelspec": {
   "display_name": "Python 3 (ipykernel)",
   "language": "python",
   "name": "python3"
  },
  "language_info": {
   "codemirror_mode": {
    "name": "ipython",
    "version": 3
   },
   "file_extension": ".py",
   "mimetype": "text/x-python",
   "name": "python",
   "nbconvert_exporter": "python",
   "pygments_lexer": "ipython3",
   "version": "3.9.15"
  }
 },
 "nbformat": 4,
 "nbformat_minor": 4
}
