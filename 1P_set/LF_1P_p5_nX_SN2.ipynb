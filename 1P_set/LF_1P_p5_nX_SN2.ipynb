{
 "cells": [
  {
   "cell_type": "code",
   "execution_count": 1,
   "metadata": {},
   "outputs": [],
   "source": [
    "import numpy as np\n",
    "import pandas as pd\n",
    "import matplotlib.pyplot as plt\n",
    "from unyt import yr, Myr, kpc, arcsec, nJy, Mpc, Msun, erg, s, Hz, kelvin\n",
    "import schwimmbad\n",
    "import h5py\n",
    "\n",
    "from synthesizer.grid import Grid\n",
    "from synthesizer.load_data.load_camels import load_CAMELS_IllustrisTNG\n",
    "from synthesizer.sed import Sed\n",
    "from synthesizer.filters import Filter, FilterCollection\n",
    "from synthesizer.sed import combine_list_of_seds\n",
    "from synthesizer.emission_models import (\n",
    "    IncidentEmission,\n",
    ")\n",
    "\n",
    "from synthesizer.conversions import lnu_to_absolute_mag, fnu_to_apparent_mag, fnu_to_lnu"
   ]
  },
  {
   "cell_type": "code",
   "execution_count": 2,
   "metadata": {},
   "outputs": [],
   "source": [
    "# get grid for all galaxies\n",
    "# gives grid of metalicity and age which is used to map on our camels galaxies\n",
    "grid_name = \"bc03_chabrier03-0.1,100.hdf5\"\n",
    "#grid_name = \"bc03-2016-Miles_chabrier-0.1,100.hdf5\" # try old grid, LF looks weird?!\n",
    "grid_dir = \"/home/jovyan/\"\n",
    "grid = Grid(grid_name, grid_dir=grid_dir, read_lines=False)"
   ]
  },
  {
   "cell_type": "code",
   "execution_count": 3,
   "metadata": {},
   "outputs": [
    {
     "name": "stderr",
     "output_type": "stream",
     "text": [
      "/srv/conda/envs/notebook/lib/python3.9/site-packages/unyt/array.py:1949: RuntimeWarning: invalid value encountered in divide\n",
      "  out_arr = func(\n"
     ]
    }
   ],
   "source": [
    "# 1P set:\n",
    "# SN2 - VariableWindVelFactor: varied in 1P_p1_nX:\n",
    "P1_X = '1P_p5_0'\n",
    "dir_ = '/home/jovyan/Data/Sims/IllustrisTNG/1P/' + P1_X\n",
    "gals_074 = load_CAMELS_IllustrisTNG(\n",
    "    dir_,\n",
    "    snap_name='snapshot_074.hdf5', \n",
    "    group_name='groups_074.hdf5',\n",
    ")\n",
    "\n"
   ]
  },
  {
   "cell_type": "code",
   "execution_count": 4,
   "metadata": {},
   "outputs": [
    {
     "name": "stdout",
     "output_type": "stream",
     "text": [
      "Number of Galaxies in snap_074 20225\n",
      "BoxSize:  25.0\n",
      "redshift:  0.46525063335034633\n"
     ]
    }
   ],
   "source": [
    "\n",
    "print('Number of Galaxies in snap_074', len(gals_074))\n",
    "\n",
    "cat_074 = dir_+'/groups_074.hdf5'\n",
    "# open file\n",
    "f = h5py.File(cat_074, 'r')\n",
    "\n",
    "# read different attributes of the header\n",
    "boxSize_074 = f['Header'].attrs[u'BoxSize']/1e3 #Mpc/h\n",
    "redshift_074 = f['Header'].attrs[u'Redshift']\n",
    "print('BoxSize: ', boxSize_074)\n",
    "print('redshift: ', redshift_074)"
   ]
  },
  {
   "cell_type": "code",
   "execution_count": 5,
   "metadata": {},
   "outputs": [
    {
     "name": "stdout",
     "output_type": "stream",
     "text": [
      "420\n"
     ]
    }
   ],
   "source": [
    "# Filter galaxies to only include those with 100 or more star particles\n",
    "## NEED TO ADD FILTER TO GET RID OF ANY GALAXIES WITH LESS THAN 100 star Particles!! This is the resolution limit!!\n",
    "# Chris: when you load your galaxies in could you do a filter for those with at least 100 star particles? that's the resolution limit\n",
    "gals_074 = [gal for gal in gals_074 if len(gal.stars.ages) >= 100]  # this shouldnt be here?! donesnt make sense\n",
    "# Filter galaxies to only include those with 100 or more star particles\n",
    "gals_074 = [gal for gal in gals_074 if gal.stars.nstars >= 100]\n",
    "print(len(gals_074))\n",
    "gals_074 = [gal for gal in gals_074 if gal.gas.nparticles >= 100]\n"
   ]
  },
  {
   "cell_type": "code",
   "execution_count": 6,
   "metadata": {},
   "outputs": [],
   "source": [
    "incident = IncidentEmission(grid)\n",
    "little_h =  0.6711\n",
    "\n",
    "spec_list = []\n",
    "# Lets work with z=0 so gals_025\n",
    "for i in gals_074:\n",
    "    gal = i\n",
    "    # get_spectra_incident An Sed object containing the stellar spectra\n",
    "    spec = gal.stars.get_spectra(incident)\n",
    "    spec.get_fnu0()\n",
    "    spec_list.append(spec)\n"
   ]
  },
  {
   "cell_type": "code",
   "execution_count": 7,
   "metadata": {},
   "outputs": [
    {
     "data": {
      "text/plain": [
       "<synthesizer.sed.Sed at 0x7f4dc07d34f0>"
      ]
     },
     "execution_count": 7,
     "metadata": {},
     "output_type": "execute_result"
    }
   ],
   "source": [
    "# combine\n",
    "seds = combine_list_of_seds(spec_list)\n",
    "seds"
   ]
  },
  {
   "cell_type": "code",
   "execution_count": 8,
   "metadata": {},
   "outputs": [
    {
     "data": {
      "text/plain": [
       "unyt_array([[5.89416934e+23, 7.03649457e+23, 7.94629933e+23, ...,\n",
       "        2.02032961e+27, 1.48156089e+27, 1.13207068e+27],\n",
       "       [1.59431991e+22, 2.06710440e+22, 2.49822205e+22, ...,\n",
       "        1.89911364e+26, 1.39351511e+26, 1.06532632e+26],\n",
       "       [2.70204972e+22, 3.21461161e+22, 3.60807623e+22, ...,\n",
       "        1.17698656e+26, 8.63084770e+25, 6.59483284e+25],\n",
       "       ...,\n",
       "       [5.00289198e+21, 5.65270538e+21, 6.07903604e+21, ...,\n",
       "        9.88633934e+24, 7.23934868e+24, 5.52491872e+24],\n",
       "       [2.10547270e+25, 2.42701571e+25, 2.62097697e+25, ...,\n",
       "        1.38757932e+25, 1.01552125e+25, 7.74656866e+24],\n",
       "       [1.80399684e+22, 1.96136742e+22, 2.06799836e+22, ...,\n",
       "        9.49570739e+24, 6.95306315e+24, 5.30610525e+24]], 'erg/(Hz*s)')"
      ]
     },
     "execution_count": 8,
     "metadata": {},
     "output_type": "execute_result"
    }
   ],
   "source": [
    "seds.lnu  # get luminosity\n",
    "# A typical value for the spectral luminosity density of a galaxy is around 28 erg/(Hz*s)"
   ]
  },
  {
   "cell_type": "code",
   "execution_count": 9,
   "metadata": {},
   "outputs": [],
   "source": [
    "# Need to use the grid lam, dont need to define wavelengths here: see codes here: http://svo2.cab.inta-csic.es/theory/fps/index.php?id=Swift/UVOT.UVM2&&mode=browse&gname=Swift&gname2=UVOT#filter\n",
    "# need to use transmission NOT area\n",
    "# Get for XMM\n",
    "fil_uvm2_XMM = Filter(\"XMM/OM.UVM2_filter\", new_lam=grid.lam)\n",
    "\n",
    "# now get for UVOT\n",
    "fil_uvm2_UVOT = Filter(\"Swift/UVOT.UVM2_fil\", new_lam=grid.lam) # changed from new_lam=lams_uvot to grid.lam and get 0 transmission, but warning sign is back\n",
    "\n",
    "# what is a top hat filter?\n",
    "filt1 = Filter(\"top_hat/filter.1\", lam_min=1400, lam_max=1600, new_lam=grid.lam)\n",
    "\n",
    "# 0 = TopHat, 1 = XMM, 2= Swift\n",
    "filt_lst = [filt1, fil_uvm2_XMM, fil_uvm2_UVOT]\n",
    "\n",
    "# get filters in combined array to apply to all galaxies\n",
    "combined_filters = FilterCollection(\n",
    "    filters=filt_lst, new_lam=grid.lam\n",
    ")\n"
   ]
  },
  {
   "cell_type": "code",
   "execution_count": 10,
   "metadata": {},
   "outputs": [
    {
     "data": {
      "text/plain": [
       "{'top_hat/filter.1': <synthesizer.filters.Filter at 0x7f4a4eb6fcd0>,\n",
       " 'XMM/OM.UVM2_filter': <synthesizer.filters.Filter at 0x7f4a4eb6f1c0>,\n",
       " 'Swift/UVOT.UVM2_fil': <synthesizer.filters.Filter at 0x7f4a46b515e0>}"
      ]
     },
     "execution_count": 10,
     "metadata": {},
     "output_type": "execute_result"
    }
   ],
   "source": [
    "combined_filters.filters"
   ]
  },
  {
   "cell_type": "code",
   "execution_count": 11,
   "metadata": {},
   "outputs": [
    {
     "name": "stdout",
     "output_type": "stream",
     "text": [
      "--------------------------------------------------------------\n",
      "|                  PHOTOMETRY (LUMINOSITY)                   |\n",
      "|--------------------------------------|---------------------|\n",
      "|  top_hat/filter.1 (λ = 1.50e+03 Å)   | 9.67e+30 erg/(Hz*s) |\n",
      "|--------------------------------------|---------------------|\n",
      "| XMM/OM.UVM2_filter (λ = 2.28e+03 Å)  | 9.49e+30 erg/(Hz*s) |\n",
      "|--------------------------------------|---------------------|\n",
      "| Swift/UVOT.UVM2_fil (λ = 2.25e+03 Å) | 9.53e+30 erg/(Hz*s) |\n",
      "--------------------------------------------------------------\n",
      "\n"
     ]
    }
   ],
   "source": [
    "seds.get_photo_lnu(combined_filters, verbose=True) \n",
    "print(seds.get_photo_lnu(combined_filters, verbose=True))"
   ]
  },
  {
   "cell_type": "code",
   "execution_count": 12,
   "metadata": {},
   "outputs": [
    {
     "data": {
      "text/plain": [
       "<synthesizer.photometry.PhotometryCollection at 0x7f4a46b510a0>"
      ]
     },
     "execution_count": 12,
     "metadata": {},
     "output_type": "execute_result"
    }
   ],
   "source": [
    "seds.photo_lnu"
   ]
  },
  {
   "cell_type": "code",
   "execution_count": 13,
   "metadata": {},
   "outputs": [
    {
     "name": "stdout",
     "output_type": "stream",
     "text": [
      "--------------------------------------------------------------\n",
      "|                  PHOTOMETRY (LUMINOSITY)                   |\n",
      "|--------------------------------------|---------------------|\n",
      "|  top_hat/filter.1 (λ = 1.50e+03 Å)   | 9.67e+30 erg/(Hz*s) |\n",
      "|--------------------------------------|---------------------|\n",
      "| XMM/OM.UVM2_filter (λ = 2.28e+03 Å)  | 9.49e+30 erg/(Hz*s) |\n",
      "|--------------------------------------|---------------------|\n",
      "| Swift/UVOT.UVM2_fil (λ = 2.25e+03 Å) | 9.53e+30 erg/(Hz*s) |\n",
      "--------------------------------------------------------------\n",
      "\n"
     ]
    }
   ],
   "source": [
    "phot = seds.get_photo_lnu(combined_filters, verbose=True) \n",
    "print(phot)\n",
    "# phot_mags = [lnu_to_absolute_mag(spec.photo_lnu[f] for f in combined_filters]"
   ]
  },
  {
   "cell_type": "code",
   "execution_count": 14,
   "metadata": {},
   "outputs": [],
   "source": [
    "abs_mags = [lnu_to_absolute_mag(phot[f]) for f in combined_filters.filters]\n",
    "#print(abs_mags)\n"
   ]
  },
  {
   "cell_type": "markdown",
   "metadata": {},
   "source": [
    "Absolute magnitude is defined to be the apparent magnitude an object would have if it were located at a distance of 10 parsecs.\n",
    "In astronomy, absolute magnitude (M) is a measure of the luminosity of a celestial object on an inverse logarithmic astronomical magnitude scale."
   ]
  },
  {
   "cell_type": "code",
   "execution_count": 15,
   "metadata": {},
   "outputs": [],
   "source": [
    "abs_mag_th = abs_mags[0]"
   ]
  },
  {
   "cell_type": "code",
   "execution_count": 16,
   "metadata": {},
   "outputs": [
    {
     "name": "stdout",
     "output_type": "stream",
     "text": [
      "162627.52885604533\n"
     ]
    }
   ],
   "source": [
    "# next steps, get luminosity function for these magnitudes\n",
    "# co-moving volume: BoxSize_025 and redshift:\n",
    "little_h =  0.6711\n",
    "Vphys = (boxSize_074/little_h )**3\n",
    "Vcom = Vphys * ((1+redshift_074)**3)\n",
    "print(Vcom)\n"
   ]
  },
  {
   "cell_type": "code",
   "execution_count": 17,
   "metadata": {},
   "outputs": [],
   "source": [
    "# Alternative method for LF:\n",
    "# try this method again, but using AB mag instead of mass, and suply your own bins (up to -17, say)\n",
    "def calc_df(ab_mag, volume, massBinLimits):\n",
    "\n",
    "# OG:        hist, dummy = np.histogram(np.log10(mstar), bins = massBinLimits)\n",
    "        hist, dummy = np.histogram(ab_mag, bins = massBinLimits)\n",
    "        hist = np.float64(hist)\n",
    "        phi = (hist / volume) / (massBinLimits[1] - massBinLimits[0])\n",
    "\n",
    "        phi_sigma = (np.sqrt(hist) / volume) /\\\n",
    "                    (massBinLimits[1] - massBinLimits[0]) # Poisson errors\n",
    "\n",
    "        return phi, phi_sigma, hist"
   ]
  },
  {
   "cell_type": "code",
   "execution_count": 18,
   "metadata": {},
   "outputs": [],
   "source": [
    "# Define the bin edges for AB magnitudes\n",
    "# Here, let's define bins from -25 to -17 in steps of 0.5 magnitude\n",
    "massBinLimits = np.arange(-22, -16, 0.5)\n",
    "\n",
    "phi, phi_sigma, hist = calc_df(abs_mag_th, Vcom, massBinLimits)"
   ]
  },
  {
   "cell_type": "code",
   "execution_count": 19,
   "metadata": {},
   "outputs": [
    {
     "data": {
      "image/png": "[encoded data removed]",
      "text/plain": [
       "<Figure size 640x480 with 1 Axes>"
      ]
     },
     "metadata": {},
     "output_type": "display_data"
    }
   ],
   "source": [
    "\n",
    "label_025 = 'z = ', redshift_074\n",
    "label_th = 'Tophat'\n",
    "\n",
    "# Plot the luminosity function\n",
    "plt.errorbar(massBinLimits[:-1], phi, yerr=phi_sigma, fmt='o', color='blue', label=label_th)\n",
    "\n",
    "plt.xlabel('Absolute Magnitude (AB)')\n",
    "plt.ylabel('Number Density (Mpc^-3 mag^-1)')\n",
    "plt.yscale('log')\n",
    "plt.legend(loc='lower right')\n",
    "\n",
    "\n",
    "plt.title('Luminosity Function Top Hat filter')\n",
    "plt.grid(True)\n",
    "plt.show()"
   ]
  },
  {
   "cell_type": "code",
   "execution_count": null,
   "metadata": {},
   "outputs": [],
   "source": []
  }
 ],
 "metadata": {
  "kernelspec": {
   "display_name": "Python 3 (ipykernel)",
   "language": "python",
   "name": "python3"
  },
  "language_info": {
   "codemirror_mode": {
    "name": "ipython",
    "version": 3
   },
   "file_extension": ".py",
   "mimetype": "text/x-python",
   "name": "python",
   "nbconvert_exporter": "python",
   "pygments_lexer": "ipython3",
   "version": "3.9.15"
  }
 },
 "nbformat": 4,
 "nbformat_minor": 4
}
