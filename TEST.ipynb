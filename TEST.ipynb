{
 "cells": [
  {
   "cell_type": "code",
   "execution_count": 1,
   "id": "c847bea4",
   "metadata": {},
   "outputs": [],
   "source": [
    "# just playing around for now\n",
    "import numpy as np\n",
    "import h5py\n",
    "import hdf5plugin"
   ]
  },
  {
   "cell_type": "markdown",
   "id": "abfbd672",
   "metadata": {},
   "source": [
    "# Reading and Manipulating Snapshots"
   ]
  },
  {
   "cell_type": "code",
   "execution_count": 2,
   "id": "0eda20a2",
   "metadata": {},
   "outputs": [],
   "source": [
    "f_snap = '/home/jovyan/Data/Sims/IllustrisTNG/CV/CV_0/snap_033.hdf5'\n",
    "data = h5py.File(f_snap, 'r')"
   ]
  },
  {
   "cell_type": "code",
   "execution_count": 3,
   "id": "ee96517c",
   "metadata": {},
   "outputs": [
    {
     "data": {
      "text/plain": [
       "<HDF5 file \"snap_033.hdf5\" (mode r)>"
      ]
     },
     "execution_count": 3,
     "metadata": {},
     "output_type": "execute_result"
    }
   ],
   "source": [
    "data"
   ]
  },
  {
   "cell_type": "code",
   "execution_count": 4,
   "id": "e0a87014",
   "metadata": {},
   "outputs": [
    {
     "name": "stdout",
     "output_type": "stream",
     "text": [
      "Box size:                 25.00 Mpc/h\n",
      "snapshot redshift:        0.00\n",
      "Number of gas  particles: 15695635\n",
      "Number of star particles: 636474\n",
      "Omega_m:                  0.300\n",
      "Omega_b:                  0.049\n",
      "Omega_L:                  0.700\n"
     ]
    }
   ],
   "source": [
    "BoxSize      = data['Header'].attrs[u'BoxSize']/1e3    #size of the snapshot in comoving Mpc/h\n",
    "redshift     = data['Header'].attrs[u'Redshift']       #reshift of the snapshot\n",
    "scale_factor = data['Header'].attrs[u'Time']           #scale factor\n",
    "h            = data['Header'].attrs[u'HubbleParam']    #value of the hubble parameter in 100 km/s/(Mpc/h)\n",
    "Masses       = data['Header'].attrs[u'MassTable']*1e10 #masses of the particles in Msun/h\n",
    "Np           = data['Header'].attrs[u'NumPart_Total']  #total number of particles for specie\n",
    "Omega_m      = data['Header'].attrs[u'Omega0']         #Omega_matter\n",
    "Omega_L      = data['Header'].attrs[u'OmegaLambda']    #Omega_Lambda\n",
    "Omega_b      = data['Header'].attrs[u'OmegaBaryon']    #Omega_baryon\n",
    "print('Box size:                 %.2f Mpc/h'%BoxSize)\n",
    "print('snapshot redshift:        %.2f'%redshift)\n",
    "print('Number of gas  particles: %d'%Np[0])\n",
    "print('Number of star particles: %d'%Np[4])\n",
    "print('Omega_m:                  %.3f'%Omega_m)\n",
    "print('Omega_b:                  %.3f'%Omega_b)\n",
    "print('Omega_L:                  %.3f'%Omega_L)\n"
   ]
  },
  {
   "cell_type": "code",
   "execution_count": 5,
   "id": "d1e49372",
   "metadata": {},
   "outputs": [
    {
     "name": "stdout",
     "output_type": "stream",
     "text": [
      "0.00 < pos_gas_X < 25.00\n",
      "0.00 < pos_gas_Y < 25.00\n",
      "0.00 < pos_gas_Z < 25.00\n"
     ]
    }
   ],
   "source": [
    "pos_gas   = data['PartType0/Coordinates'][:]/1e3 #Mpc/h\n",
    "pos_dm    = data['PartType1/Coordinates'][:]/1e3 #Mpc/h\n",
    "pos_stars = data['PartType4/Coordinates'][:]/1e3 #Mpc/h\n",
    "pos_bh    = data['PartType5/Coordinates'][:]/1e3 #Mpc/h\n",
    "print('%.2f < pos_gas_X < %.2f'%(np.min(pos_gas[:,0]), np.max(pos_gas[:,0])))\n",
    "print('%.2f < pos_gas_Y < %.2f'%(np.min(pos_gas[:,1]), np.max(pos_gas[:,1])))\n",
    "print('%.2f < pos_gas_Z < %.2f'%(np.min(pos_gas[:,2]), np.max(pos_gas[:,2])))"
   ]
  },
  {
   "cell_type": "code",
   "execution_count": 6,
   "id": "152b9809",
   "metadata": {},
   "outputs": [
    {
     "name": "stdout",
     "output_type": "stream",
     "text": [
      "Number of star particles: 636474\n"
     ]
    }
   ],
   "source": [
    "print('Number of star particles: %d'%pos_stars.shape[0])"
   ]
  },
  {
   "cell_type": "markdown",
   "id": "772a8c8f",
   "metadata": {},
   "source": [
    "# Computing Power Spectra"
   ]
  },
  {
   "cell_type": "code",
   "execution_count": 7,
   "id": "afaa9635",
   "metadata": {},
   "outputs": [],
   "source": [
    "import MAS_library as MASL\n",
    "import Pk_library as PKL\n",
    "import matplotlib.pylab as plt"
   ]
  },
  {
   "cell_type": "code",
   "execution_count": 8,
   "id": "e8930fdf",
   "metadata": {},
   "outputs": [],
   "source": [
    "#Get the name of the snapshot & open the snapshot file\n",
    "f_snap = '/home/jovyan/Data/Sims/SIMBA/LH/LH_367/snap_020.hdf5'\n",
    "data = h5py.File(f_snap, 'r')\n",
    "\n",
    "#Read the snapshot header\n",
    "BoxSize      = data['Header'].attrs[u'BoxSize']/1e3    #size of the snapshot in comoving Mpc/h\n",
    "redshift     = data['Header'].attrs[u'Redshift']       #reshift of the snapshot\n",
    "scale_factor = data['Header'].attrs[u'Time']           #scale factor\n",
    "h            = data['Header'].attrs[u'HubbleParam']    #value of the hubble parameter in 100 km/s/(Mpc/h)\n",
    "Masses       = data['Header'].attrs[u'MassTable']*1e10 #masses of the particles in Msun/h\n",
    "Np           = data['Header'].attrs[u'NumPart_Total']  #total number of particles for specie\n",
    "Omega_m      = data['Header'].attrs[u'Omega0']         #Omega_matter\n",
    "Omega_L      = data['Header'].attrs[u'OmegaLambda']    #Omega_Lambda"
   ]
  },
  {
   "cell_type": "code",
   "execution_count": 9,
   "id": "4cf7dfc6",
   "metadata": {},
   "outputs": [
    {
     "name": "stdout",
     "output_type": "stream",
     "text": [
      "[('BoxSize', 25000.0), ('CompactLevel', 0), ('Flag_Cooling', 1), ('Flag_DoublePrecision', 0), ('Flag_Feedback', 1), ('Flag_IC_Info', 3), ('Flag_Metals', 11), ('Flag_Sfr', 1), ('Flag_StellarAge', 1), ('HubbleParam', 0.6711), ('MassTable', array([0., 0., 0., 0., 0., 0.])), ('NumFilesPerSnapshot', 1), ('NumPart_ThisFile', array([16131065, 16777216,        0,        0,   646066,      330],\n",
      "      dtype=uint32)), ('NumPart_Total', array([16131065, 16777216,        0,        0,   646066,      330],\n",
      "      dtype=uint32)), ('NumPart_Total_HighWord', array([0, 0, 0, 0, 0, 0], dtype=uint32)), ('Omega0', 0.3614), ('OmegaLambda', 0.6386), ('Redshift', 0.8616111131442525), ('Time', 0.5371691181575536)]\n"
     ]
    }
   ],
   "source": [
    "f = h5py.File(f_snap, 'r')\n",
    "header = f['Header']\n",
    "print(list(header.attrs.items()))  \n"
   ]
  },
  {
   "cell_type": "code",
   "execution_count": 10,
   "id": "a2116493",
   "metadata": {},
   "outputs": [
    {
     "name": "stdout",
     "output_type": "stream",
     "text": [
      "Box size: 25.00 Mpc/h\n",
      "Snapshot redshift: 0.86\n",
      "0.00 < pos_gas_X < 25.00\n",
      "1.219e+07 < mass_gas  < 3.811e+07\n"
     ]
    }
   ],
   "source": [
    "#Read the positions and the masses of the gas particles\n",
    "pos_gas   = data['PartType0/Coordinates'][:]/1e3 #Mpc/h\n",
    "mass_gas  = data['PartType0/Masses'][:]*1e10     #Msun/h\n",
    "\n",
    "print('Box size: %.2f Mpc/h'%BoxSize)\n",
    "print('Snapshot redshift: %.2f'%redshift)\n",
    "\n",
    "#Check the masses positions and masses of the gas particles\n",
    "print('%.2f < pos_gas_X < %.2f'%(np.min(pos_gas[:,0]), np.max(pos_gas[:,0])))\n",
    "print('%.3e < mass_gas  < %.3e'%(np.min(mass_gas), np.max(mass_gas)))"
   ]
  },
  {
   "cell_type": "code",
   "execution_count": 11,
   "id": "91063451",
   "metadata": {},
   "outputs": [
    {
     "data": {
      "text/plain": [
       "array([[11.910932 ,  2.4071898, 10.493294 ],\n",
       "       [11.910544 ,  2.4084978, 10.493123 ],\n",
       "       [11.911214 ,  2.4077013, 10.493524 ],\n",
       "       ...,\n",
       "       [ 8.563431 ,  1.3449534, 12.502229 ],\n",
       "       [ 8.562852 ,  1.3463528, 12.500363 ],\n",
       "       [ 8.5624075,  1.3465213, 12.500114 ]], dtype=float32)"
      ]
     },
     "execution_count": 11,
     "metadata": {},
     "output_type": "execute_result"
    }
   ],
   "source": [
    "pos_gas = pos_gas.astype(np.float32)\n",
    "pos_gas"
   ]
  },
  {
   "cell_type": "code",
   "execution_count": 12,
   "id": "9bf18b98",
   "metadata": {},
   "outputs": [
    {
     "data": {
      "text/plain": [
       "array([12908462., 14908063., 14456040., ..., 18142882., 15884560.,\n",
       "       18959076.], dtype=float32)"
      ]
     },
     "execution_count": 12,
     "metadata": {},
     "output_type": "execute_result"
    }
   ],
   "source": [
    "#Make sure the positions are a numpy float32 array\n",
    "mass_gas = mass_gas.astype(np.float32)\n",
    "mass_gas"
   ]
  },
  {
   "cell_type": "code",
   "execution_count": 13,
   "id": "41b2fa5a",
   "metadata": {},
   "outputs": [
    {
     "data": {
      "text/plain": [
       "array([[[0., 0., 0., ..., 0., 0., 0.],\n",
       "        [0., 0., 0., ..., 0., 0., 0.],\n",
       "        [0., 0., 0., ..., 0., 0., 0.],\n",
       "        ...,\n",
       "        [0., 0., 0., ..., 0., 0., 0.],\n",
       "        [0., 0., 0., ..., 0., 0., 0.],\n",
       "        [0., 0., 0., ..., 0., 0., 0.]],\n",
       "\n",
       "       [[0., 0., 0., ..., 0., 0., 0.],\n",
       "        [0., 0., 0., ..., 0., 0., 0.],\n",
       "        [0., 0., 0., ..., 0., 0., 0.],\n",
       "        ...,\n",
       "        [0., 0., 0., ..., 0., 0., 0.],\n",
       "        [0., 0., 0., ..., 0., 0., 0.],\n",
       "        [0., 0., 0., ..., 0., 0., 0.]],\n",
       "\n",
       "       [[0., 0., 0., ..., 0., 0., 0.],\n",
       "        [0., 0., 0., ..., 0., 0., 0.],\n",
       "        [0., 0., 0., ..., 0., 0., 0.],\n",
       "        ...,\n",
       "        [0., 0., 0., ..., 0., 0., 0.],\n",
       "        [0., 0., 0., ..., 0., 0., 0.],\n",
       "        [0., 0., 0., ..., 0., 0., 0.]],\n",
       "\n",
       "       ...,\n",
       "\n",
       "       [[0., 0., 0., ..., 0., 0., 0.],\n",
       "        [0., 0., 0., ..., 0., 0., 0.],\n",
       "        [0., 0., 0., ..., 0., 0., 0.],\n",
       "        ...,\n",
       "        [0., 0., 0., ..., 0., 0., 0.],\n",
       "        [0., 0., 0., ..., 0., 0., 0.],\n",
       "        [0., 0., 0., ..., 0., 0., 0.]],\n",
       "\n",
       "       [[0., 0., 0., ..., 0., 0., 0.],\n",
       "        [0., 0., 0., ..., 0., 0., 0.],\n",
       "        [0., 0., 0., ..., 0., 0., 0.],\n",
       "        ...,\n",
       "        [0., 0., 0., ..., 0., 0., 0.],\n",
       "        [0., 0., 0., ..., 0., 0., 0.],\n",
       "        [0., 0., 0., ..., 0., 0., 0.]],\n",
       "\n",
       "       [[0., 0., 0., ..., 0., 0., 0.],\n",
       "        [0., 0., 0., ..., 0., 0., 0.],\n",
       "        [0., 0., 0., ..., 0., 0., 0.],\n",
       "        ...,\n",
       "        [0., 0., 0., ..., 0., 0., 0.],\n",
       "        [0., 0., 0., ..., 0., 0., 0.],\n",
       "        [0., 0., 0., ..., 0., 0., 0.]]], dtype=float32)"
      ]
     },
     "execution_count": 13,
     "metadata": {},
     "output_type": "execute_result"
    }
   ],
   "source": [
    "# Define array the will contain the gas density field\n",
    "grid  = 512\n",
    "delta = np.zeros((grid,grid,grid), dtype=np.float32) #grid will have (512,512,512) voxels (voxel represents a value on a regular grid in three-dimensional space)\n",
    "delta"
   ]
  },
  {
   "cell_type": "code",
   "execution_count": 14,
   "id": "c88b9d1a",
   "metadata": {},
   "outputs": [
    {
     "name": "stdout",
     "output_type": "stream",
     "text": [
      "\n",
      "Using CIC mass assignment scheme with weights\n",
      "Time taken = 1.504 seconds\n",
      "\n"
     ]
    }
   ],
   "source": [
    "#Assign gas particle positions and masses to the regular grid\n",
    "#We will use the Cloud-in-Cell mass assignment scheme\n",
    "MAS     = 'CIC'\n",
    "verbose = True\n",
    "MASL.MA(pos_gas, delta, BoxSize, MAS, W=mass_gas, verbose=verbose)"
   ]
  },
  {
   "cell_type": "code",
   "execution_count": 15,
   "id": "3f0556d9",
   "metadata": {},
   "outputs": [
    {
     "name": "stdout",
     "output_type": "stream",
     "text": [
      "Sum of all particle masses:         2.062e+14 Msun/h\n",
      "Sum of the mass in all grid voxels: 2.062e+14 Msun/h\n"
     ]
    }
   ],
   "source": [
    "#Check that the mass in the grid is the same as the mass of all particles\n",
    "print('Sum of all particle masses:         %.3e Msun/h'%np.sum(mass_gas, dtype=np.float64))\n",
    "print('Sum of the mass in all grid voxels: %.3e Msun/h'%np.sum(delta, dtype=np.float64))"
   ]
  },
  {
   "cell_type": "code",
   "execution_count": 16,
   "id": "39de772f",
   "metadata": {},
   "outputs": [],
   "source": [
    "#calculate the gas overdensity field delta = mass_gas / < mass_gas > - 1 # dont understand this"
   ]
  },
  {
   "cell_type": "code",
   "execution_count": 17,
   "id": "bd3baa9a",
   "metadata": {},
   "outputs": [],
   "source": [
    "delta /= np.mean(delta, dtype=np.float32)\n",
    "delta -= 1.0"
   ]
  },
  {
   "cell_type": "code",
   "execution_count": 18,
   "id": "f49b1591",
   "metadata": {},
   "outputs": [
    {
     "name": "stdout",
     "output_type": "stream",
     "text": [
      "-1.00 < delta < 11278.17\n",
      "< delta > = -2.41e-06\n"
     ]
    }
   ],
   "source": [
    "#Check that mean is zero, and minimum cant be smaller than -1\n",
    "\n",
    "print('%.2f < delta < %.2f'%(np.min(delta), np.max(delta)))\n",
    "print('< delta > = %.2e'%(np.mean(delta, dtype=np.float64)))"
   ]
  },
  {
   "cell_type": "code",
   "execution_count": 19,
   "id": "6cf3fcf6",
   "metadata": {},
   "outputs": [
    {
     "name": "stdout",
     "output_type": "stream",
     "text": [
      "\n",
      "Computing power spectrum of the field...\n",
      "Time to complete loop = 7.31\n",
      "Time taken = 11.12 seconds\n"
     ]
    }
   ],
   "source": [
    "# Calculate the power spectrum\n",
    "axis     = 0     #specifies the axes along which redshift-space distortions are place. Not used in real-space\n",
    "MAS      = 'CIC' #specifies the mass assignment scheme used to construct the density field\n",
    "threads  = 1     #number of openmp threads\n",
    "verbose  = True\n",
    "Pk_class = PKL.Pk(delta, BoxSize, axis, MAS, threads, verbose)\n",
    "k        = Pk_class.k3D\n",
    "Pk       = Pk_class.Pk[:,0]"
   ]
  },
  {
   "cell_type": "code",
   "execution_count": 20,
   "id": "efd2f8d1",
   "metadata": {},
   "outputs": [
    {
     "name": "stdout",
     "output_type": "stream",
     "text": [
      "Power Spectrum: [2.16683975e+02 6.75897702e+01 2.97423461e+01 1.60306239e+01\n",
      " 1.02442075e+01 7.67192413e+00 5.38960065e+00 4.22063030e+00\n",
      " 3.80178092e+00 2.75837005e+00 2.34117373e+00 1.99379176e+00\n",
      " 1.72922866e+00 1.51067963e+00 1.24431703e+00 1.12591934e+00\n",
      " 9.91339104e-01 9.34379892e-01 8.11665810e-01 7.40587069e-01\n",
      " 6.81014616e-01 6.32794192e-01 5.74828235e-01 5.26017374e-01\n",
      " 4.92666086e-01 4.52098226e-01 4.26216728e-01 3.99619274e-01\n",
      " 3.73181625e-01 3.46710354e-01 3.32460024e-01 3.20559026e-01\n",
      " 2.92546573e-01 2.80723237e-01 2.72881034e-01 2.55513703e-01\n",
      " 2.39245938e-01 2.32602723e-01 2.23439351e-01 2.14402402e-01\n",
      " 2.05827703e-01 2.01404125e-01 1.90737672e-01 1.83703916e-01\n",
      " 1.76783740e-01 1.72020571e-01 1.67483976e-01 1.59264590e-01\n",
      " 1.53366322e-01 1.47511996e-01 1.43999780e-01 1.39749569e-01\n",
      " 1.35604446e-01 1.31460768e-01 1.29313580e-01 1.23782664e-01\n",
      " 1.20391065e-01 1.18567753e-01 1.14190036e-01 1.11570026e-01\n",
      " 1.08444524e-01 1.06506237e-01 1.04391560e-01 1.01325355e-01\n",
      " 9.94186481e-02 9.69726686e-02 9.51226480e-02 9.31737674e-02\n",
      " 9.19670827e-02 9.02204219e-02 8.81133184e-02 8.57420886e-02\n",
      " 8.41687500e-02 8.20221193e-02 8.00655199e-02 7.91647468e-02\n",
      " 7.83037634e-02 7.58372332e-02 7.49924465e-02 7.35912572e-02\n",
      " 7.18781383e-02 7.09812107e-02 6.95615857e-02 6.90836770e-02\n",
      " 6.72138064e-02 6.58879563e-02 6.44478717e-02 6.33910484e-02\n",
      " 6.33173254e-02 6.18424341e-02 6.09648203e-02 5.92773332e-02\n",
      " 5.83721742e-02 5.79011716e-02 5.71927450e-02 5.59453543e-02\n",
      " 5.54977355e-02 5.48009671e-02 5.40212152e-02 5.25952038e-02\n",
      " 5.21115153e-02 5.15054277e-02 5.08983805e-02 5.01532857e-02\n",
      " 4.96841533e-02 4.87220752e-02 4.85231707e-02 4.78061473e-02\n",
      " 4.75755791e-02 4.64376306e-02 4.59820971e-02 4.53812907e-02\n",
      " 4.51306624e-02 4.43592272e-02 4.37770255e-02 4.32974316e-02\n",
      " 4.31076695e-02 4.21207216e-02 4.19744312e-02 4.15146185e-02\n",
      " 4.10209160e-02 4.05980975e-02 4.02461263e-02 3.99137825e-02\n",
      " 3.96932108e-02 3.90636808e-02 3.85975514e-02 3.82776055e-02\n",
      " 3.80417036e-02 3.74494011e-02 3.71657171e-02 3.66330643e-02\n",
      " 3.65546555e-02 3.59474903e-02 3.58841390e-02 3.56003563e-02\n",
      " 3.52032875e-02 3.50221548e-02 3.45780838e-02 3.44586857e-02\n",
      " 3.42031873e-02 3.40655864e-02 3.35893880e-02 3.34198342e-02\n",
      " 3.32992240e-02 3.28117760e-02 3.26681576e-02 3.23876696e-02\n",
      " 3.21534459e-02 3.19129540e-02 3.18708272e-02 3.15165981e-02\n",
      " 3.15780350e-02 3.11271579e-02 3.10106542e-02 3.07700431e-02\n",
      " 3.06654615e-02 3.04925365e-02 3.02705008e-02 3.00095540e-02\n",
      " 2.97635890e-02 2.95304149e-02 2.94557587e-02 2.90862961e-02\n",
      " 2.89847469e-02 2.89692518e-02 2.88706080e-02 2.85882795e-02\n",
      " 2.84775608e-02 2.82343526e-02 2.81383982e-02 2.80246626e-02\n",
      " 2.78709224e-02 2.76911245e-02 2.76851696e-02 2.76110885e-02\n",
      " 2.74991397e-02 2.71835022e-02 2.71727925e-02 2.69646779e-02\n",
      " 2.68016577e-02 2.66034171e-02 2.65668880e-02 2.64982821e-02\n",
      " 2.64337349e-02 2.63256874e-02 2.62119707e-02 2.60720455e-02\n",
      " 2.59928204e-02 2.59679258e-02 2.58045093e-02 2.56399404e-02\n",
      " 2.55737240e-02 2.54438848e-02 2.54112417e-02 2.52286427e-02\n",
      " 2.52642209e-02 2.51853160e-02 2.50723000e-02 2.50275539e-02\n",
      " 2.48459905e-02 2.47696590e-02 2.48178932e-02 2.47577884e-02\n",
      " 2.47058926e-02 2.46804254e-02 2.46354037e-02 2.46127083e-02\n",
      " 2.45570040e-02 2.45712425e-02 2.44820521e-02 2.44012596e-02\n",
      " 2.43365726e-02 2.43696933e-02 2.42195083e-02 2.42985931e-02\n",
      " 2.41686055e-02 2.41705160e-02 2.40908902e-02 2.40819529e-02\n",
      " 2.41337429e-02 2.40881940e-02 2.41735852e-02 2.41819527e-02\n",
      " 2.41347767e-02 2.40877620e-02 2.41315731e-02 2.41446728e-02\n",
      " 2.41952299e-02 2.41940468e-02 2.42347008e-02 2.41703612e-02\n",
      " 2.42331255e-02 2.42452782e-02 2.43688427e-02 2.42805524e-02\n",
      " 2.43017369e-02 2.44780974e-02 2.45395306e-02 2.45681193e-02\n",
      " 2.45688521e-02 2.46705371e-02 2.47551364e-02 2.47285039e-02\n",
      " 2.48961266e-02 2.48888226e-02 2.50280044e-02 2.52248192e-02\n",
      " 2.52166063e-02 2.53316229e-02 2.53433893e-02 2.55011404e-02\n",
      " 2.57750978e-02 2.58448020e-02 2.58961029e-02 2.60194875e-02\n",
      " 2.60030958e-02 2.59123704e-02 2.58726640e-02 2.59707233e-02\n",
      " 2.58730244e-02 2.58368520e-02 2.58220717e-02 2.58436649e-02\n",
      " 2.58694217e-02 2.58799823e-02 2.59712424e-02 2.59659401e-02\n",
      " 2.59323510e-02 2.59069625e-02 2.58801248e-02 2.59664879e-02\n",
      " 2.59762997e-02 2.59784153e-02 2.60038577e-02 2.59842941e-02\n",
      " 2.59981496e-02 2.59907382e-02 2.59598223e-02 2.61149712e-02\n",
      " 2.60929785e-02 2.60756137e-02 2.60727956e-02 2.60521299e-02\n",
      " 2.60997630e-02 2.61380445e-02 2.60907412e-02 2.62587264e-02\n",
      " 2.62641448e-02 2.62902349e-02 2.63234995e-02 2.62666764e-02\n",
      " 2.63917722e-02 2.64377301e-02 2.65103858e-02 2.65556782e-02\n",
      " 2.67048244e-02 2.67854146e-02 2.68125754e-02 2.69979204e-02\n",
      " 2.69797754e-02 2.70719193e-02 2.70096374e-02 2.71432354e-02\n",
      " 2.71986963e-02 2.72390680e-02 2.74262623e-02 2.73999518e-02\n",
      " 2.76097634e-02 2.76483736e-02 2.76173198e-02 2.77464882e-02\n",
      " 2.78578456e-02 2.80294702e-02 2.81155232e-02 2.82260780e-02\n",
      " 2.83521397e-02 2.83943015e-02 2.84696497e-02 2.85644708e-02\n",
      " 2.88568268e-02 2.88007240e-02 2.89788023e-02 2.92980171e-02\n",
      " 2.92815596e-02 2.94725911e-02 2.95075467e-02 2.97223934e-02\n",
      " 3.00119596e-02 3.00821373e-02 3.01434262e-02 3.03209895e-02\n",
      " 3.05893332e-02 3.07785818e-02 3.07657618e-02 3.09289632e-02\n",
      " 3.11454101e-02 3.14320993e-02 3.15850876e-02 3.17811409e-02\n",
      " 3.21960329e-02 3.22503428e-02 3.25197005e-02 3.27711250e-02\n",
      " 3.29407579e-02 3.32796149e-02 3.34065234e-02 3.38573870e-02\n",
      " 3.39005420e-02 3.41341188e-02 3.42426160e-02 3.47118237e-02\n",
      " 3.46034545e-02 3.50362078e-02 3.54434689e-02 3.52588595e-02\n",
      " 3.55812149e-02 3.54845689e-02 3.55433292e-02 3.54949782e-02\n",
      " 3.54384498e-02 3.52888430e-02 3.54312795e-02 3.52603084e-02\n",
      " 3.54391297e-02 3.55542182e-02 3.60431517e-02 3.59179740e-02\n",
      " 3.60331835e-02 3.61311753e-02 3.62843685e-02 3.62151355e-02\n",
      " 3.61328718e-02 3.64774450e-02 3.65298706e-02 3.68145329e-02\n",
      " 3.69663724e-02 3.70939883e-02 3.76969544e-02 3.78356415e-02\n",
      " 3.81101507e-02 3.81064921e-02 3.85619395e-02 3.91332512e-02\n",
      " 3.94326213e-02 3.94784420e-02 3.99143773e-02 3.96687967e-02\n",
      " 3.99849262e-02 4.03955075e-02 4.10200691e-02 4.14656576e-02\n",
      " 4.16586406e-02 4.20222994e-02 4.19790399e-02 4.25436792e-02\n",
      " 4.33809292e-02 4.38219935e-02 4.37018767e-02 4.45362191e-02\n",
      " 4.47946278e-02 4.58223630e-02 4.57309599e-02 4.65177133e-02\n",
      " 4.72213322e-02 4.86208519e-02 4.85131505e-02 4.98131053e-02\n",
      " 4.97149945e-02 5.14731843e-02 5.14278272e-02 5.23781038e-02\n",
      " 5.37722727e-02 5.41793379e-02 5.61676634e-02 5.71504913e-02\n",
      " 5.78977584e-02 5.95620739e-02 6.02655651e-02 6.06837747e-02\n",
      " 6.14177061e-02 6.32476622e-02 6.42801634e-02 6.29150526e-02\n",
      " 6.91801767e-02 6.85946285e-02 7.03352771e-02 7.19162354e-02\n",
      " 7.36223695e-02 7.66466358e-02 7.67774771e-02 7.57927361e-02\n",
      " 8.11289701e-02 7.91997173e-02 8.17988617e-02 9.58934136e-02\n",
      " 9.62375873e-02 8.04139143e-02 8.42650759e-02 1.10104764e-01\n",
      " 8.05441133e-02 1.23463584e-01 3.10100518e-01]\n"
     ]
    }
   ],
   "source": [
    "print('Power Spectrum:', Pk)"
   ]
  },
  {
   "cell_type": "code",
   "execution_count": 21,
   "id": "59adbe18",
   "metadata": {},
   "outputs": [
    {
     "data": {
      "image/png": "[encoded data removed]",
      "text/plain": [
       "<Figure size 640x480 with 1 Axes>"
      ]
     },
     "metadata": {},
     "output_type": "display_data"
    }
   ],
   "source": [
    "plt.xlabel(r'$k [h/{\\rm Mpc}]$')\n",
    "plt.ylabel(r'$P(k) [({\\rm Mpc}/h)^3]$')\n",
    "plt.xscale('log')\n",
    "plt.yscale('log')\n",
    "plt.plot(k, Pk)\n",
    "plt.show()"
   ]
  },
  {
   "cell_type": "markdown",
   "id": "c05c0ce0",
   "metadata": {},
   "source": [
    "# Creating images from snapshots"
   ]
  },
  {
   "cell_type": "code",
   "execution_count": 22,
   "id": "f92f5d96",
   "metadata": {},
   "outputs": [],
   "source": [
    "import numpy as np\n",
    "import h5py\n",
    "import hdf5plugin\n",
    "import camels_library as CL\n",
    "import MAS_library as MASL\n",
    "import matplotlib.pyplot as plt\n",
    "from matplotlib.colors import LogNorm"
   ]
  },
  {
   "cell_type": "code",
   "execution_count": 23,
   "id": "736ea5b6",
   "metadata": {},
   "outputs": [],
   "source": [
    "f_snap = '/home/jovyan/Data/Sims/IllustrisTNG/1P/1P_1_3/snap_033.hdf5'\n"
   ]
  },
  {
   "cell_type": "code",
   "execution_count": 24,
   "id": "28e01363",
   "metadata": {},
   "outputs": [],
   "source": [
    "data         = h5py.File(f_snap, 'r')\n",
    "BoxSize      = data['Header'].attrs[u'BoxSize']/1e3    #size of the snapshot in comoving Mpc/h\n",
    "redshift     = data['Header'].attrs[u'Redshift']       #reshift of the snapshot\n",
    "scale_factor = data['Header'].attrs[u'Time']           #scale factor\n",
    "h            = data['Header'].attrs[u'HubbleParam']    #value of the hubble parameter in 100 km/s/(Mpc/h)\n",
    "Masses       = data['Header'].attrs[u'MassTable']*1e10 #masses of the particles in Msun/h\n",
    "Np           = data['Header'].attrs[u'NumPart_Total']  #total number of particles for specie\n",
    "Omega_m      = data['Header'].attrs[u'Omega0']         #Omega_matter\n",
    "Omega_L      = data['Header'].attrs[u'OmegaLambda']    #Omega_Lambda"
   ]
  },
  {
   "cell_type": "code",
   "execution_count": 30,
   "id": "b3a4ccd8",
   "metadata": {},
   "outputs": [
    {
     "data": {
      "text/plain": [
       "array([[ 6.59129571, 10.28891116,  2.81670065],\n",
       "       [ 6.59094852, 10.28951471,  2.81943203],\n",
       "       [ 6.59638671, 10.28826614,  2.81934952],\n",
       "       ...,\n",
       "       [ 7.67924285, 10.35348801,  2.65478084],\n",
       "       [ 1.88153718, 10.7414673 ,  0.4755176 ],\n",
       "       [13.3256717 , 19.24831201,  0.71808171]])"
      ]
     },
     "execution_count": 30,
     "metadata": {},
     "output_type": "execute_result"
    }
   ],
   "source": [
    "pos_gas  = data['PartType0/Coordinates'][:]/1e3 #Mpc/h - have to convert to Mpc\n",
    "pos_gas\n"
   ]
  },
  {
   "cell_type": "code",
   "execution_count": 29,
   "id": "8c6c4740",
   "metadata": {},
   "outputs": [
    {
     "data": {
      "text/plain": [
       "array([10002723.,  8673092.,  8830962., ..., 11946536.,  5605737.,\n",
       "       13499240.], dtype=float32)"
      ]
     },
     "execution_count": 29,
     "metadata": {},
     "output_type": "execute_result"
    }
   ],
   "source": [
    "mass_gas = data['PartType0/Masses'][:]*1e10     #Msun/h - have to convert to Msun\n",
    "mass_gas"
   ]
  },
  {
   "cell_type": "code",
   "execution_count": 27,
   "id": "aabb4a45",
   "metadata": {},
   "outputs": [
    {
     "data": {
      "text/plain": [
       "array([[ 6.59094852, 10.28951471,  2.81943203]])"
      ]
     },
     "execution_count": 27,
     "metadata": {},
     "output_type": "execute_result"
    }
   ],
   "source": [
    "pos_gas[1:2]"
   ]
  },
  {
   "cell_type": "code",
   "execution_count": 28,
   "id": "6fa4ca17",
   "metadata": {},
   "outputs": [
    {
     "data": {
      "text/plain": [
       "array([ 6887218., 11778279.,  7865017.], dtype=float32)"
      ]
     },
     "execution_count": 28,
     "metadata": {},
     "output_type": "execute_result"
    }
   ],
   "source": [
    "mass_gas[4:7]"
   ]
  },
  {
   "cell_type": "code",
   "execution_count": 37,
   "id": "ccd6a253",
   "metadata": {},
   "outputs": [
    {
     "name": "stdout",
     "output_type": "stream",
     "text": [
      "Time to build KDTree = 12.629 seconds\n"
     ]
    },
    {
     "ename": "TypeError",
     "evalue": "Unexpected keyword argument {'n_jobs': 1}",
     "output_type": "error",
     "traceback": [
      "\u001b[0;31m---------------------------------------------------------------------------\u001b[0m",
      "\u001b[0;31mTypeError\u001b[0m                                 Traceback (most recent call last)",
      "Cell \u001b[0;32mIn [37], line 4\u001b[0m\n\u001b[1;32m      2\u001b[0m threads    \u001b[38;5;241m=\u001b[39m \u001b[38;5;241m1\u001b[39m    \u001b[38;5;66;03m#number of openmp threads\u001b[39;00m\n\u001b[1;32m      3\u001b[0m verbose    \u001b[38;5;241m=\u001b[39m \u001b[38;5;28;01mTrue\u001b[39;00m \u001b[38;5;66;03m#whether to print some information\u001b[39;00m\n\u001b[0;32m----> 4\u001b[0m radius_gas \u001b[38;5;241m=\u001b[39m \u001b[43mCL\u001b[49m\u001b[38;5;241;43m.\u001b[39;49m\u001b[43mKDTree_distance\u001b[49m\u001b[43m(\u001b[49m\u001b[43mpos_gas\u001b[49m\u001b[43m,\u001b[49m\u001b[43m  \u001b[49m\u001b[43mpos_gas\u001b[49m\u001b[43m,\u001b[49m\u001b[43m \u001b[49m\u001b[43mk\u001b[49m\u001b[43m,\u001b[49m\u001b[43m \u001b[49m\u001b[43mBoxSize\u001b[49m\u001b[38;5;241;43m*\u001b[39;49m\u001b[43m(\u001b[49m\u001b[38;5;241;43m1.0\u001b[39;49m\u001b[38;5;241;43m+\u001b[39;49m\u001b[38;5;241;43m1e-8\u001b[39;49m\u001b[43m)\u001b[49m\u001b[43m,\u001b[49m\u001b[43m \u001b[49m\u001b[43mthreads\u001b[49m\u001b[43m,\u001b[49m\u001b[43m \u001b[49m\u001b[43mverbose\u001b[49m\u001b[43m)\u001b[49m\n",
      "File \u001b[0;32m/srv/conda/envs/notebook/lib/python3.9/site-packages/camels_library.py:35\u001b[0m, in \u001b[0;36mKDTree_distance\u001b[0;34m(pos1, pos2, k, BoxSize, threads, verbose)\u001b[0m\n\u001b[1;32m     33\u001b[0m \u001b[38;5;66;03m# find nearest neighbors of the tracer particles\u001b[39;00m\n\u001b[1;32m     34\u001b[0m start \u001b[38;5;241m=\u001b[39m time\u001b[38;5;241m.\u001b[39mtime()\n\u001b[0;32m---> 35\u001b[0m dist, indexes \u001b[38;5;241m=\u001b[39m \u001b[43mkdtree\u001b[49m\u001b[38;5;241;43m.\u001b[39;49m\u001b[43mquery\u001b[49m\u001b[43m(\u001b[49m\u001b[43mpos2\u001b[49m\u001b[43m,\u001b[49m\u001b[43m \u001b[49m\u001b[43mk\u001b[49m\u001b[43m,\u001b[49m\u001b[43m \u001b[49m\u001b[43mn_jobs\u001b[49m\u001b[38;5;241;43m=\u001b[39;49m\u001b[43mthreads\u001b[49m\u001b[43m)\u001b[49m\n\u001b[1;32m     36\u001b[0m \u001b[38;5;28;01mif\u001b[39;00m verbose:  \u001b[38;5;28mprint\u001b[39m(\u001b[38;5;124m'\u001b[39m\u001b[38;5;124mTime to find k-neighbors = \u001b[39m\u001b[38;5;132;01m%.3f\u001b[39;00m\u001b[38;5;124m seconds\u001b[39m\u001b[38;5;124m'\u001b[39m\u001b[38;5;241m%\u001b[39m(time\u001b[38;5;241m.\u001b[39mtime()\u001b[38;5;241m-\u001b[39mstart))\n\u001b[1;32m     38\u001b[0m \u001b[38;5;66;03m# return the distance of each particle to its farthest neighborgh\u001b[39;00m\n",
      "File \u001b[0;32m_ckdtree.pyx:786\u001b[0m, in \u001b[0;36mscipy.spatial._ckdtree.cKDTree.query\u001b[0;34m()\u001b[0m\n",
      "File \u001b[0;32m_ckdtree.pyx:388\u001b[0m, in \u001b[0;36mscipy.spatial._ckdtree.get_num_workers\u001b[0;34m()\u001b[0m\n",
      "\u001b[0;31mTypeError\u001b[0m: Unexpected keyword argument {'n_jobs': 1}"
     ]
    }
   ],
   "source": [
    "k          = 32   #will compute distance to 32th closest neighbor\n",
    "threads    = 1    #number of openmp threads\n",
    "verbose    = True #whether to print some information\n",
    "radius_gas = CL.KDTree_distance(pos_gas,  pos_gas, k, BoxSize*(1.0+1e-8), threads, verbose) #Mpc/h\n"
   ]
  },
  {
   "cell_type": "code",
   "execution_count": null,
   "id": "d978afe6",
   "metadata": {},
   "outputs": [],
   "source": [
    "radius_gas"
   ]
  },
  {
   "cell_type": "code",
   "execution_count": null,
   "id": "630a2c1b",
   "metadata": {},
   "outputs": [],
   "source": []
  }
 ],
 "metadata": {
  "kernelspec": {
   "display_name": "Python 3 (ipykernel)",
   "language": "python",
   "name": "python3"
  },
  "language_info": {
   "codemirror_mode": {
    "name": "ipython",
    "version": 3
   },
   "file_extension": ".py",
   "mimetype": "text/x-python",
   "name": "python",
   "nbconvert_exporter": "python",
   "pygments_lexer": "ipython3",
   "version": "3.9.15"
  }
 },
 "nbformat": 4,
 "nbformat_minor": 5
}
