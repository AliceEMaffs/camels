{
 "cells": [
  {
   "cell_type": "code",
   "execution_count": 4,
   "metadata": {},
   "outputs": [
    {
     "name": "stderr",
     "output_type": "stream",
     "text": [
      "/var/folders/yn/_ch1_n7x7y1g91hrx1ljp5n80000gp/T/ipykernel_41998/3608529151.py:5: DeprecationWarning: \n",
      "Pyarrow will become a required dependency of pandas in the next major release of pandas (pandas 3.0),\n",
      "(to allow more performant data types, such as the Arrow string type, and better interoperability with other libraries)\n",
      "but was not found to be installed on your system.\n",
      "If this would cause problems for you,\n",
      "please provide us feedback at https://github.com/pandas-dev/pandas/issues/54466\n",
      "        \n",
      "  import pandas as pd\n"
     ]
    }
   ],
   "source": [
    "import time\n",
    "import numpy as np\n",
    "import h5py\n",
    "import hdf5plugin\n",
    "import pandas as pd\n",
    "import matplotlib as mpl\n",
    "import matplotlib.colors as cm\n",
    "import matplotlib.pyplot as plt\n",
    "import matplotlib.gridspec as gridspec\n",
    "from unyt import yr, Myr, kpc, arcsec, nJy, Mpc, Msun, erg, s, Hz\n",
    "from astropy.cosmology import Planck18 as cosmo\n",
    "from scipy import signal\n",
    "\n",
    "from synthesizer.grid import Grid\n",
    "from synthesizer.parametric import SFH, ZDist\n",
    "from synthesizer.particle.stars import sample_sfhz\n",
    "from synthesizer.parametric import Stars as ParametricStars\n",
    "from synthesizer.particle.particles import CoordinateGenerator\n",
    "from synthesizer.filters import Filter, FilterCollection\n",
    "\n",
    "from synthesizer.load_data.load_camels import load_CAMELS_IllustrisTNG\n",
    "from synthesizer.kernel_functions import Kernel\n",
    "\n",
    "from synthesizer.conversions import lnu_to_absolute_mag"
   ]
  },
  {
   "cell_type": "code",
   "execution_count": 5,
   "metadata": {},
   "outputs": [
    {
     "name": "stdout",
     "output_type": "stream",
     "text": [
      "------------------------------\n",
      "SUMMARY OF GRID\n",
      "log10age: [ 5.          5.          5.14998846  5.20000187  5.25000503  5.3000082\n",
      "  5.3499959   5.40000235  5.45000263  5.50000307  5.55000809  5.60000309\n",
      "  5.65000623  5.7000024   5.74999898  5.80000183  5.85000259  5.90000097\n",
      "  5.95000442  6.          6.01998816  6.04000864  6.06001754  6.08001285\n",
      "  6.09999123  6.12001425  6.14000495  6.15998805  6.18001112  6.20000187\n",
      "  6.22000343  6.23999979  6.2599998   6.28000895  6.3000082   6.3200008\n",
      "  6.34000762  6.36000613  6.37999404  6.40000235  6.42000528  6.43999547\n",
      "  6.45999526  6.48000694  6.50000307  6.51999853  6.54000394  6.56000233\n",
      "  6.58000069  6.60000309  6.62000064  6.64000415  6.66000172  6.67999992\n",
      "  6.7000024   6.7200021   6.73999931  6.76000005  6.7800003   6.80000183\n",
      "  6.81999773  6.83999939  6.86000242  6.88000139  6.90000097  6.91999803\n",
      "  6.93999821  6.9599996   6.97999882  7.          7.01998816  7.04000864\n",
      "  7.06001754  7.08001285  7.09999123  7.11998131  7.14000495  7.15998805\n",
      "  7.18001112  7.20000187  7.22000343  7.23999979  7.2599998   7.28000895\n",
      "  7.3000082   7.3200008   7.34000762  7.36000613  7.37999404  7.40000235\n",
      "  7.42000528  7.43999547  7.462398    7.47712125  7.49136169  7.50514998\n",
      "  7.51851394  7.53147892  7.54406804  7.5563025   7.56820172  7.5797836\n",
      "  7.59106461  7.60205999  7.62838893  7.65321251  7.67669361  7.69897\n",
      "  7.7201593   7.74036269  7.75654483  7.80654626  7.85654764  7.90654513\n",
      "  7.95654299  8.00655161  8.05656185  8.10653085  8.15654915  8.20655604\n",
      "  8.25654938  8.30655369  8.35654211  8.40654018  8.45654822  8.50654564\n",
      "  8.55654371  8.6065426   8.65654858  8.7065471   8.75654483  8.80654628\n",
      "  8.85654766  8.90655052  8.9565478   9.00655161  9.05656186  9.10656482\n",
      "  9.15654915  9.20655603  9.22530928  9.23044892  9.25527251  9.2787536\n",
      "  9.30103     9.32221929  9.34242268  9.36172784  9.38021124  9.39794001\n",
      "  9.41497335  9.43933271  9.47712125  9.51188334  9.54406804  9.57403128\n",
      "  9.60205999  9.62838892  9.65321249  9.67669362  9.69897     9.72015929\n",
      "  9.74036271  9.75966785  9.77815125  9.79588001  9.81291334  9.82930378\n",
      "  9.84509804  9.860338    9.87506128  9.88930171  9.90308999  9.91645394\n",
      "  9.92941891  9.94200806  9.95424248  9.96614173  9.97772362  9.9890046\n",
      " 10.         10.01072388 10.02118929 10.03140847 10.0413927  10.05115252\n",
      " 10.06069785 10.07003785 10.07918125 10.0881361  10.09691    10.10551019\n",
      " 10.11394334 10.12221587 10.13033378 10.13830269 10.14612804 10.15381488\n",
      " 10.16136799 10.16879202 10.17609127 10.18326984 10.19033171 10.19728055\n",
      " 10.20411998 10.21085338 10.21748394 10.22401481 10.23044891 10.23678912\n",
      " 10.24303806 10.24919835 10.25527248 10.26126288 10.26717172 10.27300125\n",
      " 10.27875361 10.28443073 10.29003459 10.29556711 10.30103   ] \n",
      "metallicity: [0.0001 0.0004 0.004  0.008  0.02   0.05   0.1   ] \n",
      "axes: ['log10age' 'metallicity'] \n",
      "axes_alternative: ['log10ages' 'metallicities'] \n",
      "date_created: 2024-02-26 \n",
      "synthesizer_grids_version: 0.1.dev328+gbd556ee.d20240226 \n",
      "synthesizer_version: 0.3.0b1.dev8+ge5b43e03.d20240111 \n",
      "available spectra: ['incident']\n",
      "------------------------------\n",
      "\n"
     ]
    }
   ],
   "source": [
    "# get grid\n",
    "grid_name = \"bc03-2016-Miles_chabrier-0.1,100.hdf5\"\n",
    "grid_dir = \"/Users/am/Documents/CAMELS/data/grids\"\n",
    "grid = Grid(grid_name, grid_dir=grid_dir, read_lines=False)\n",
    "print(grid)"
   ]
  },
  {
   "cell_type": "code",
   "execution_count": 9,
   "metadata": {},
   "outputs": [
    {
     "name": "stdout",
     "output_type": "stream",
     "text": [
      "Number of Galaxies in snap_033 17176\n",
      "BoxSize:  25.0\n",
      "redshift:  2.220446049250313e-16\n"
     ]
    }
   ],
   "source": [
    "# get gals\n",
    "gals_033 = load_CAMELS_IllustrisTNG(\n",
    "    \"/Users/am/Documents/CAMELS/data/CV/CV_0\",\n",
    "    snap_name=\"snap_033.hdf5\",\n",
    "    fof_name=\"fof_subhalo_tab_033.hdf5\",\n",
    ")\n",
    "\n",
    "print('Number of Galaxies in snap_033', len(gals_033))\n",
    "\n",
    "\n",
    "cat_033 = '/Users/am/Documents/CAMELS/data/CV/CV_0/fof_subhalo_tab_033.hdf5'\n",
    "# open file\n",
    "f = h5py.File(cat_033, 'r')\n",
    "\n",
    "# read different attributes of the header\n",
    "BoxSize_033      = f['Header'].attrs[u'BoxSize']/1e3 #Mpc/h\n",
    "redshift_033    = f['Header'].attrs[u'Redshift']\n",
    "print('BoxSize: ', BoxSize_033)\n",
    "print('redshift: ', redshift_033)\n",
    "# so z=0\n",
    "redshift_033 = 0"
   ]
  },
  {
   "cell_type": "code",
   "execution_count": 10,
   "metadata": {},
   "outputs": [],
   "source": [
    "# Lets work with z=0 so gals_033\n",
    "gal = gals_033[0]\n",
    "#to get the full SED from a galaxy you need to run something like this\n",
    "spec = gal.stars.get_spectra_incident(grid)\n",
    "\n",
    "spec.lnu # rest frame lumd\n",
    "\n"
   ]
  },
  {
   "cell_type": "code",
   "execution_count": 19,
   "metadata": {},
   "outputs": [
    {
     "data": {
      "image/png": "[encoded data removed]",
      "text/plain": [
       "<Figure size 500x350 with 1 Axes>"
      ]
     },
     "metadata": {},
     "output_type": "display_data"
    }
   ],
   "source": [
    "# Need to use the grid lam, dont need to define wavelengths here: see codes here: http://svo2.cab.inta-csic.es/theory/fps/index.php?id=Swift/UVOT.UVM2&&mode=browse&gname=Swift&gname2=UVOT#filter\n",
    "# need to use transmission NOT area\n",
    "# Get for XMM\n",
    "fil_uvm2_XMM = Filter(\"XMM/OM.UVM2_filter\", new_lam=grid.lam)\n",
    "\n",
    "# now get for UVOT\n",
    "fil_uvm2_UVOT = Filter(\"Swift/UVOT.UVM2_fil\", new_lam=grid.lam) # changed from new_lam=lams_uvot to grid.lam and get 0 transmission, but warning sign is back\n",
    "\n",
    "# what is a top hat filter?\n",
    "filt1 = Filter(\"top_hat/filter.1\", lam_min=1400, lam_max=1600, new_lam=grid.lam)\n",
    "\n",
    "filt_lst = [filt1, fil_uvm2_UVOT, fil_uvm2_XMM]\n",
    "\n",
    "combined_filters = FilterCollection(\n",
    "    filters=filt_lst, new_lam=grid.lam\n",
    ")\n",
    "\n",
    "fig, ax= combined_filters.plot_transmission_curves(show=True) # log this.\n",
    "# cant figure out how to log lot this but logged would show the curves better."
   ]
  },
  {
   "cell_type": "code",
   "execution_count": 20,
   "metadata": {},
   "outputs": [
    {
     "data": {
      "text/plain": [
       "<synthesizer.photometry.PhotometryCollection at 0x169f7c880>"
      ]
     },
     "execution_count": 20,
     "metadata": {},
     "output_type": "execute_result"
    }
   ],
   "source": [
    "spec.get_photo_luminosities(combined_filters)\n",
    "spec.photo_luminosities.photo_luminosities\n",
    "# dont need to do redshift corrections as we do K-corrections in our observational paper, which basically gets rid of the effects of the expansion of the universe \n",
    "# so we dont need to account for objects being further away as being redder/bluer as this is acocunted for/removed in the observational project so we don't need to add\n",
    "# it back in here to make like for like."
   ]
  },
  {
   "cell_type": "code",
   "execution_count": 24,
   "metadata": {},
   "outputs": [
    {
     "data": {
      "text/plain": [
       "array([-16.93728855, -18.25471661, -18.32084028])"
      ]
     },
     "execution_count": 24,
     "metadata": {},
     "output_type": "execute_result"
    }
   ],
   "source": [
    "lnu_to_absolute_mag(spec.photo_luminosities.photo_luminosities)"
   ]
  },
  {
   "cell_type": "code",
   "execution_count": null,
   "metadata": {},
   "outputs": [],
   "source": [
    "# filter, magnitude, plot lumi function.\n",
    "# Need to ask mat about the filter. are we loooking at rest frame magnitudes or observed frame magnitudes.\n",
    "# From paper, if M_{1500} is the centre of the absolute magnitude bin in the rest frame UV band and bins are 0.5mag wide (first, what does this even mean) and how do we like\n",
    "# for like this in our simulation."
   ]
  },
  {
   "cell_type": "code",
   "execution_count": null,
   "metadata": {},
   "outputs": [],
   "source": [
    "# To do :\n",
    "# need to apply to all galaxies in the snap/subhalo catalogue\n",
    "# once I've done that, can use the combine_list_of_seds to combine all of them and then apply the filter and get the luminosities from this.\n",
    "# crate a list of the sed objects, then can \n",
    "from synthesizer.sed import combine_list_of_seds\n",
    "\n",
    "# run this on lsit of seds and gets a single sed objects that contain all my luminosities.\n",
    "# then can apply photometry and lnu to abs mag."
   ]
  }
 ],
 "metadata": {
  "kernelspec": {
   "display_name": "allyenv",
   "language": "python",
   "name": "python3"
  },
  "language_info": {
   "codemirror_mode": {
    "name": "ipython",
    "version": 3
   },
   "file_extension": ".py",
   "mimetype": "text/x-python",
   "name": "python",
   "nbconvert_exporter": "python",
   "pygments_lexer": "ipython3",
   "version": "3.9.15"
  }
 },
 "nbformat": 4,
 "nbformat_minor": 2
}
