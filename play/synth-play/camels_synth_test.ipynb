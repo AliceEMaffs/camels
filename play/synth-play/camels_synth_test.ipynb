{
 "cells": [
  {
   "cell_type": "code",
   "execution_count": 1,
   "metadata": {},
   "outputs": [],
   "source": [
    "import numpy as np\n",
    "import matplotlib.pyplot as plt\n",
    "from unyt import Myr\n",
    "\n",
    "from synthesizer.grid import Grid\n",
    "from synthesizer.load_data.load_camels import load_CAMELS_IllustrisTNG\n",
    "from synthesizer.sed import Sed\n",
    "from synthesizer.filters import UVJ"
   ]
  },
  {
   "cell_type": "code",
   "execution_count": 2,
   "metadata": {},
   "outputs": [
    {
     "name": "stdout",
     "output_type": "stream",
     "text": [
      "------------------------------\n",
      "SUMMARY OF GRID\n",
      "log10age: [ 5.          5.10000158  5.15000075  5.19999913  5.25000014  5.30000167\n",
      "  5.35000172  5.40000062  5.45000109  5.50000169  5.55000197  5.600002\n",
      "  5.65000234  5.7000024   5.75000207  5.80000252  5.85000259  5.90000315\n",
      "  5.95000295  6.          6.0200006   6.04000071  6.05999863  6.0799984\n",
      "  6.10000158  6.12000107  6.13999866  6.16000007  6.17999964  6.19999913\n",
      "  6.22000081  6.23999979  6.2599998   6.27999984  6.2999995   6.31999873\n",
      "  6.33999968  6.36000044  6.37999947  6.39999889  6.42000033  6.4400002\n",
      "  6.45999977  6.47999975  6.49999895  6.51999984  6.53999893  6.55999993\n",
      "  6.57999955  6.59999981  6.6199996   6.63999917  6.65999982  6.67999901\n",
      "  6.69999893  6.71999962  6.73999931  6.75999929  6.77999958  6.79999907\n",
      "  6.81999905  6.83999939  6.85999942  6.8799991   6.89999932  6.91999908\n",
      "  6.93999921  6.95999912  6.97999882  6.99999913  7.0200006   7.04000071\n",
      "  7.05999863  7.0799984   7.09999813  7.11999778  7.13999866  7.16000007\n",
      "  7.17999964  7.19999913  7.21999819  7.23999979  7.2599998   7.27999984\n",
      "  7.2999995   7.31999873  7.33999968  7.35999855  7.37999947  7.39999889\n",
      "  7.41999868  7.43999863  7.462398    7.47712125  7.49136169  7.50514998\n",
      "  7.51851394  7.53147892  7.54406804  7.5563025   7.56820172  7.5797836\n",
      "  7.59106461  7.60205999  7.62838893  7.65321251  7.67669361  7.69897\n",
      "  7.7201593   7.74036269  7.75654483  7.8065449   7.85654523  7.90654513\n",
      "  7.95654537  8.00654305  8.0565466   8.10654445  8.15654615  8.20654525\n",
      "  8.25654696  8.30654724  8.35654593  8.40654699  8.45654671  8.50654698\n",
      "  8.55654734  8.60654686  8.6565476   8.70654795  8.75654785  8.80654827\n",
      "  8.85654824  8.90654838  8.95654875  9.00654734  9.05655039  9.10654786\n",
      "  9.15654915  9.20655064  9.22530928  9.23044892  9.25527251  9.2787536\n",
      "  9.30103     9.32221929  9.34242268  9.36172784  9.38021124  9.39794001\n",
      "  9.41497335  9.43933271  9.47712125  9.51188334  9.54406804  9.57403128\n",
      "  9.60205999  9.62838892  9.65321249  9.67669362  9.69897     9.72015929\n",
      "  9.74036271  9.75966785  9.77815125  9.79588001  9.81291334  9.82930378\n",
      "  9.84509804  9.860338    9.87506128  9.88930171  9.90308999  9.91645394\n",
      "  9.92941891  9.94200806  9.95424248  9.96614173  9.97772362  9.9890046\n",
      " 10.         10.01072388 10.02118929 10.03140847 10.0413927  10.05115252\n",
      " 10.06069785 10.07003785 10.07918125 10.0881361  10.09691    10.10551019\n",
      " 10.11394334 10.12221587 10.13033378 10.13830269 10.14612804 10.15381488\n",
      " 10.16136799 10.16879202 10.17609127 10.18326984 10.19033171 10.19728055\n",
      " 10.20411998 10.21085338 10.21748394 10.22401481 10.23044891 10.23678912\n",
      " 10.24303806 10.24919835 10.25527248 10.26126288 10.26717172 10.27300125\n",
      " 10.27875361 10.28443073 10.29003459 10.29556711 10.30103   ] \n",
      "metallicity: [0.0004 0.001  0.004  0.008  0.019  0.03  ] \n",
      "axes: ['log10age' 'metallicity'] \n",
      "available spectra: ['stellar']\n",
      "------------------------------\n",
      "\n"
     ]
    }
   ],
   "source": [
    "\n",
    "# Define the grid\n",
    "grid_name = \"bc03_chabrier03-0.1,100.hdf5\"\n",
    "grid_dir = \"../../synthesizer/data/grids/\"\n",
    "grid = Grid(grid_name, grid_dir=grid_dir, read_lines=False)\n",
    "print(grid)\n"
   ]
  },
  {
   "cell_type": "code",
   "execution_count": 3,
   "metadata": {},
   "outputs": [
    {
     "name": "stderr",
     "output_type": "stream",
     "text": [
      "/Users/am/anaconda3/envs/allyenv/lib/python3.9/site-packages/unyt/array.py:1938: RuntimeWarning: invalid value encountered in divide\n",
      "  out_arr = func(\n"
     ]
    },
    {
     "data": {
      "text/plain": [
       "10"
      ]
     },
     "execution_count": 3,
     "metadata": {},
     "output_type": "execute_result"
    }
   ],
   "source": [
    "gals = load_CAMELS_IllustrisTNG(\n",
    "    \"../../synthesizer/tests/data/\",\n",
    "    snap_name=\"camels_snap.hdf5\",\n",
    "    fof_name=\"camels_subhalo.hdf5\",\n",
    ")\n",
    "\n",
    "len(gals)"
   ]
  },
  {
   "cell_type": "code",
   "execution_count": 4,
   "metadata": {},
   "outputs": [
    {
     "name": "stdout",
     "output_type": "stream",
     "text": [
      "[<synthesizer.particle.galaxy.Galaxy object at 0x103b18d60>, <synthesizer.particle.galaxy.Galaxy object at 0x103b189d0>, <synthesizer.particle.galaxy.Galaxy object at 0x16a5925e0>, <synthesizer.particle.galaxy.Galaxy object at 0x16a592040>, <synthesizer.particle.galaxy.Galaxy object at 0x16a592d00>, <synthesizer.particle.galaxy.Galaxy object at 0x16a592f40>, <synthesizer.particle.galaxy.Galaxy object at 0x16a58afa0>, <synthesizer.particle.galaxy.Galaxy object at 0x16a58a7f0>, <synthesizer.particle.galaxy.Galaxy object at 0x16a58a790>, <synthesizer.particle.galaxy.Galaxy object at 0x16a58a940>]\n"
     ]
    }
   ],
   "source": [
    "print(gals)"
   ]
  },
  {
   "cell_type": "markdown",
   "metadata": {},
   "source": [
    "## Converting a Grid into an Sed\n",
    "- Any of the spectra arrays stored within a Grid can be returned as Sed objects (see the Sed docs).\n",
    "- This enables all of the analysis methods provide on an Sed to be used on the whole spectra grid. \n",
    "- To do this we simply call get_sed with the spectra type we want to extract and then use any of the included methods.\n"
   ]
  },
  {
   "cell_type": "code",
   "execution_count": 5,
   "metadata": {},
   "outputs": [
    {
     "data": {
      "text/plain": [
       "unyt_array([[0.67812718],\n",
       "       [0.67865743],\n",
       "       [0.67915791],\n",
       "       [0.67987413],\n",
       "       [0.68039133]], '(dimensionless)')"
      ]
     },
     "execution_count": 5,
     "metadata": {},
     "output_type": "execute_result"
    }
   ],
   "source": [
    "# Get the sed object\n",
    "sed = grid.get_sed(spectra_type=\"stellar\")\n",
    "\n",
    "# Measure the balmer break for all spectra in the grid (limiting the output)\n",
    "sed.measure_balmer_break()[5:10, 5:10]"
   ]
  }
 ],
 "metadata": {
  "kernelspec": {
   "display_name": "allyenv",
   "language": "python",
   "name": "python3"
  },
  "language_info": {
   "codemirror_mode": {
    "name": "ipython",
    "version": 3
   },
   "file_extension": ".py",
   "mimetype": "text/x-python",
   "name": "python",
   "nbconvert_exporter": "python",
   "pygments_lexer": "ipython3",
   "version": "3.9.15"
  }
 },
 "nbformat": 4,
 "nbformat_minor": 2
}
