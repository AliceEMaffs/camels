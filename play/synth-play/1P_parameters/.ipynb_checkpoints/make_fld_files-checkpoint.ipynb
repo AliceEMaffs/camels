{
 "cells": [
  {
   "cell_type": "code",
   "execution_count": 12,
   "metadata": {},
   "outputs": [],
   "source": [
    "import time\n",
    "import numpy as np\n",
    "import h5py\n",
    "import hdf5plugin\n",
    "import pandas as pd\n",
    "import matplotlib as mpl\n",
    "import matplotlib.colors as cm\n",
    "import matplotlib.pyplot as plt\n",
    "import matplotlib.gridspec as gridspec\n",
    "from unyt import yr, Myr, kpc, arcsec, nJy, Mpc, Msun, erg, s, Hz\n",
    "from astropy.cosmology import Planck18 as cosmo\n",
    "from scipy import signal\n",
    "import os\n",
    "\n",
    "from synthesizer.grid import Grid\n",
    "from synthesizer.parametric import SFH, ZDist\n",
    "from synthesizer.particle.stars import sample_sfhz\n",
    "from synthesizer.parametric import Stars as ParametricStars\n",
    "from synthesizer.particle.particles import CoordinateGenerator\n",
    "from synthesizer.filters import Filter, FilterCollection\n",
    "from synthesizer.sed import combine_list_of_seds\n",
    "\n",
    "from synthesizer.load_data.load_camels import load_CAMELS_IllustrisTNG\n",
    "from synthesizer.kernel_functions import Kernel\n",
    "\n",
    "from synthesizer.conversions import lnu_to_absolute_mag"
   ]
  },
  {
   "cell_type": "code",
   "execution_count": 13,
   "metadata": {},
   "outputs": [],
   "source": [
    "# get grid for all galaxies\n",
    "# gives grid of metalicity and age which is used to map on our camels galaxies\n",
    "grid_name = \"bc03-2016-Miles_chabrier-0.1,100.hdf5\"\n",
    "#grid_dir = \"/Users/am/Documents/CAMELS/data/grids\"\n",
    "grid_dir = \"/home/jovyan/\"\n",
    "grid = Grid(grid_name, grid_dir=grid_dir, read_lines=False)"
   ]
  },
  {
   "cell_type": "code",
   "execution_count": 16,
   "metadata": {},
   "outputs": [],
   "source": [
    "# To get apparent Magnitudes\n",
    "# check \n",
    "from astropy.cosmology import Planck18    # You can choose other cosmologies if needed\n",
    "\n",
    "def apparent_magnitude_from_absolute(redshift, absolute_magnitude):\n",
    "    # Get the luminosity distance for the given redshift\n",
    "    # Distnaces are in parsecs\n",
    "    d_L_pc = Planck18.luminosity_distance(redshift).to('pc').value\n",
    "    \n",
    "    # Calculate the apparent magnitude using the distance modulus formula\n",
    "    apparent_mag = absolute_magnitude - 5 + (5 * np.log10(d_L_pc))\n",
    "    \n",
    "    return apparent_mag"
   ]
  },
  {
   "cell_type": "code",
   "execution_count": 30,
   "metadata": {},
   "outputs": [],
   "source": [
    "def make_fld(app_mag, label):\n",
    "\n",
    "    header_lines = [\n",
    "        \"  0.0    0.0    23.91      5.0\",\n",
    "        \"  0.0119999\",\n",
    "        \"          3     700   3      0.0 0.0 0.0\",\n",
    "        \"  fid   sid   dummyXflux   z        mag\",\n",
    "    ]\n",
    "    # TOP HAT\n",
    "    # Format the data lines\n",
    "    data_lines = [\"  0     0     0            0.46525   {:.17f}\".format(val) for val in app_mag]\n",
    "\n",
    "    # Combine header lines and data lines\n",
    "    all_lines = \"\\n\".join(header_lines) + \"\\n\" + \"\\n\".join(data_lines)\n",
    "\n",
    "    file_name = label + '_test.fld'\n",
    "    # Save to file\n",
    "    with open(file_name, 'w') as file:\n",
    "        file.write(all_lines)"
   ]
  },
  {
   "cell_type": "code",
   "execution_count": 23,
   "metadata": {},
   "outputs": [],
   "source": [
    "def load_data(par_dir):\n",
    "    # get gals - all 074 (redshift 0.475)\n",
    "    gals = load_CAMELS_IllustrisTNG(\n",
    "        #\"/Users/am/Documents/CAMELS/data/1P/1P_1p_0\",\n",
    "        par_dir,\n",
    "        snap_name=\"snapshot_074.hdf5\", # name change on server (snapshot_025)\n",
    "        fof_name=\"groups_074.hdf5\", # name change on server (groups_025)\n",
    "    )\n",
    "\n",
    "    print('Number of Galaxies', len(gals))\n",
    "\n",
    "    cat = os.path.join(par_dir, 'groups_074.hdf5')\n",
    "    # open file\n",
    "    f = h5py.File(cat, 'r')\n",
    "\n",
    "    # read different attributes of the header\n",
    "    boxSize = f['Header'].attrs[u'BoxSize']/1e3 #Mpc/h\n",
    "    redshift = f['Header'].attrs[u'Redshift']\n",
    "    print(redshift)\n",
    "    # return boxSize, redshift, gals\n",
    "    # NOTE: 074 is the same redshift as CV_0/025\n",
    "    \n",
    "    # working up to here\n",
    "    # Filter galaxies to only include those with 100 or more star particles\n",
    "    ## NEED TO ADD FILTER TO GET RID OF ANY GALAXIES WITH LESS THAN 100 star Particles!! This is the resolution limit!!\n",
    "    # Chris: when you load your galaxies in could you do a filter for those with at least 100 star particles? that's the resolution limit\n",
    "    gals = [gal for gal in gals if len(gal.stars.ages) >= 100]\n",
    "    print('Number of Galaxies aafter resolution limit applied', len(gals))\n",
    "\n",
    "    spec_list = []\n",
    "    # Lets work with z=0.475 so gals_p10\n",
    "    for i in gals:\n",
    "        gal = i\n",
    "        # get_spectra_incident An Sed object containing the stellar spectra\n",
    "        spec = gal.stars.get_spectra_incident(grid)\n",
    "        spec.get_fnu0()\n",
    "        spec_list.append(spec)\n",
    "        # combine\n",
    "    seds = combine_list_of_seds(spec_list)\n",
    "    \n",
    "    # Need to use the grid lam, dont need to define wavelengths here: see codes here: http://svo2.cab.inta-csic.es/theory/fps/index.php?id=Swift/UVOT.UVM2&&mode=browse&gname=Swift&gname2=UVOT#filter\n",
    "    # need to use transmission NOT area\n",
    "    # Get for XMM\n",
    "    fil_uvm2_XMM = Filter(\"XMM/OM.UVM2_filter\", new_lam=grid.lam)\n",
    "\n",
    "    # now get for UVOT\n",
    "    fil_uvm2_UVOT = Filter(\"Swift/UVOT.UVM2_fil\", new_lam=grid.lam) # changed from new_lam=lams_uvot to grid.lam and get 0 transmission, but warning sign is back\n",
    "\n",
    "    # what is a top hat filter?\n",
    "    filt1 = Filter(\"top_hat/filter.1\", lam_min=1400, lam_max=1600, new_lam=grid.lam)\n",
    "\n",
    "    # 0 = TopHat, 1 = XMM, 2= Swift\n",
    "    filt_lst = [filt1, fil_uvm2_XMM, fil_uvm2_UVOT]\n",
    "\n",
    "    # get filters in combined array to apply to all galaxies\n",
    "    combined_filters = FilterCollection(\n",
    "    filters=filt_lst, new_lam=grid.lam\n",
    "    )\n",
    "    \n",
    "    seds.lnu # rest frame lumd\n",
    "    \n",
    "    seds.get_photo_luminosities(combined_filters)\n",
    "\n",
    "    seds.photo_luminosities.photo_luminosities\n",
    "\n",
    "    abs_mag = lnu_to_absolute_mag(seds.photo_luminosities.photo_luminosities)\n",
    "\n",
    "    app_mag = apparent_magnitude_from_absolute(redshift, abs_mag)\n",
    "\n",
    "    app_mag_th = app_mag[0] # 0 is tophat\n",
    "    app_mag_xmm = app_mag[1] # 1 is XMM-OM\n",
    "    app_mag_uvot = app_mag[2] # 2 is Swift UVOT\n",
    "\n",
    "    return gals, redshift, app_mag_th, app_mag_xmm, app_mag_uvot"
   ]
  },
  {
   "cell_type": "code",
   "execution_count": 24,
   "metadata": {},
   "outputs": [
    {
     "name": "stdout",
     "output_type": "stream",
     "text": [
      "Number of Galaxies 20225\n",
      "0.46525063335034633\n",
      "Number of Galaxies aafter resolution limit applied 420\n"
     ]
    }
   ],
   "source": [
    "gals_p1_0, redshift_p1_0, app_mag_th_p1_0, app_mag_xmm_p1_0, app_mag_uvot_p1_0 = load_data(\"/home/jovyan/Data/Sims/IllustrisTNG/1P/1P_p1_0\")\n"
   ]
  },
  {
   "cell_type": "code",
   "execution_count": 25,
   "metadata": {},
   "outputs": [
    {
     "name": "stdout",
     "output_type": "stream",
     "text": [
      "Number of Galaxies 21264\n",
      "0.46525063335034633\n",
      "Number of Galaxies aafter resolution limit applied 481\n"
     ]
    }
   ],
   "source": [
    "gals_p1_1, redshift_p1_1, app_mag_th_p1_1, app_mag_xmm_p1_1, app_mag_uvot_p1_1 = load_data(\"/home/jovyan/Data/Sims/IllustrisTNG/1P/1P_p1_1\")\n"
   ]
  },
  {
   "cell_type": "code",
   "execution_count": 32,
   "metadata": {},
   "outputs": [],
   "source": [
    "make_fld(app_mag_th_p1_0, 'app_mag_th_p1_0')\n",
    "make_fld(app_mag_th_p1_1, 'app_mag_th_p1_1')"
   ]
  },
  {
   "cell_type": "code",
   "execution_count": null,
   "metadata": {},
   "outputs": [],
   "source": [
    "# Part 2: add all the 1P sims for each parameter? e.g. figure 9 here https://arxiv.org/pdf/2010.00619.pdf\n",
    "# i.e. combine the ones that have the same value for X in 1P_pX_y\n"
   ]
  }
 ],
 "metadata": {
  "kernelspec": {
   "display_name": "Python 3 (ipykernel)",
   "language": "python",
   "name": "python3"
  },
  "language_info": {
   "codemirror_mode": {
    "name": "ipython",
    "version": 3
   },
   "file_extension": ".py",
   "mimetype": "text/x-python",
   "name": "python",
   "nbconvert_exporter": "python",
   "pygments_lexer": "ipython3",
   "version": "3.9.15"
  }
 },
 "nbformat": 4,
 "nbformat_minor": 2
}
