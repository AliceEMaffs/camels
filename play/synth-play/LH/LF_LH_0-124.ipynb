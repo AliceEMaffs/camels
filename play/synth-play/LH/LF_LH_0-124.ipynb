{
 "cells": [
  {
   "cell_type": "markdown",
   "metadata": {},
   "source": [
    "Absolute magnitude is defined to be the apparent magnitude an object would have if it were located at a distance of 10 parsecs.\n",
    "In astronomy, absolute magnitude (M) is a measure of the luminosity of a celestial object on an inverse logarithmic astronomical magnitude scale."
   ]
  },
  {
   "cell_type": "code",
   "execution_count": 1,
   "metadata": {},
   "outputs": [
    {
     "name": "stderr",
     "output_type": "stream",
     "text": [
      "/tmp/ipykernel_6566/2487278995.py:5: DeprecationWarning: \n",
      "Pyarrow will become a required dependency of pandas in the next major release of pandas (pandas 3.0),\n",
      "(to allow more performant data types, such as the Arrow string type, and better interoperability with other libraries)\n",
      "but was not found to be installed on your system.\n",
      "If this would cause problems for you,\n",
      "please provide us feedback at https://github.com/pandas-dev/pandas/issues/54466\n",
      "        \n",
      "  import pandas as pd\n"
     ]
    },
    {
     "name": "stdout",
     "output_type": "stream",
     "text": [
      "Current directory: /home/jovyan/camels/play/synth-play/LH\n"
     ]
    }
   ],
   "source": [
    "import time\n",
    "import numpy as np\n",
    "import h5py\n",
    "import hdf5plugin\n",
    "import pandas as pd\n",
    "import matplotlib as mpl\n",
    "import matplotlib.colors as cm\n",
    "import matplotlib.pyplot as plt\n",
    "import matplotlib.gridspec as gridspec\n",
    "from unyt import yr, Myr, kpc, arcsec, nJy, Mpc, Msun, erg, s, Hz\n",
    "from astropy.cosmology import Planck18 as cosmo\n",
    "from scipy import signal\n",
    "import os \n",
    "import csv\n",
    "import resource\n",
    "import pickle\n",
    "import shutil\n",
    "import json\n",
    "from synthesizer.grid import Grid\n",
    "from synthesizer.parametric import SFH, ZDist\n",
    "from synthesizer.particle.stars import sample_sfhz\n",
    "from synthesizer.parametric import Stars as ParametricStars\n",
    "from synthesizer.particle.particles import CoordinateGenerator\n",
    "from synthesizer.filters import Filter, FilterCollection\n",
    "from synthesizer.sed import combine_list_of_seds\n",
    "\n",
    "from synthesizer.load_data.load_camels import load_CAMELS_IllustrisTNG\n",
    "from synthesizer.kernel_functions import Kernel\n",
    "\n",
    "from synthesizer.conversions import lnu_to_absolute_mag\n",
    "\n",
    "current_directory = os.getcwd()\n",
    "print(\"Current directory:\", current_directory)\n",
    "# Start the timer\n",
    "start_time = time.time()\n"
   ]
  },
  {
   "cell_type": "code",
   "execution_count": 2,
   "metadata": {},
   "outputs": [],
   "source": [
    "\n",
    "# Alternative method for LF:\n",
    "# try this method again, but using AB mag instead of mass, and suply your own bins (up to -17, say)\n",
    "def calc_lf(ab_mag, volume, massBinLimits):\n",
    "# OG:        hist, dummy = np.histogram(np.log10(mstar), bins = massBinLimits)\n",
    "        hist, dummy = np.histogram(ab_mag, bins = massBinLimits)\n",
    "        hist = np.float64(hist)\n",
    "        phi = (hist / volume) / (massBinLimits[1] - massBinLimits[0])\n",
    "        phi_sigma = (np.sqrt(hist) / volume) /\\\n",
    "                    (massBinLimits[1] - massBinLimits[0]) # Poisson errors\n",
    "        return phi, phi_sigma, hist\n",
    "    "
   ]
  },
  {
   "cell_type": "markdown",
   "metadata": {},
   "source": [
    "\n",
    "phi_arr =[] #phi\n",
    "phi_sigma_arr =[] # phi_sigma\n",
    "hist_arr = [] # hist\n",
    "z_arr = [] #redshift_074, \n",
    "abs_mag_arr = [] #absolute mag (th filter)\n",
    "Vcom_arr = [] # comoving vol\n",
    "massBinLimits_arr = []\n"
   ]
  },
  {
   "cell_type": "markdown",
   "metadata": {},
   "source": [
    "len(phi_arr)"
   ]
  },
  {
   "cell_type": "code",
   "execution_count": 3,
   "metadata": {},
   "outputs": [
    {
     "data": {
      "text/plain": [
       "['LH_300',\n",
       " 'LH_301',\n",
       " 'LH_302',\n",
       " 'LH_303',\n",
       " 'LH_304',\n",
       " 'LH_305',\n",
       " 'LH_306',\n",
       " 'LH_307',\n",
       " 'LH_308',\n",
       " 'LH_309',\n",
       " 'LH_310',\n",
       " 'LH_311',\n",
       " 'LH_312',\n",
       " 'LH_313',\n",
       " 'LH_314',\n",
       " 'LH_315',\n",
       " 'LH_316',\n",
       " 'LH_317',\n",
       " 'LH_318',\n",
       " 'LH_319',\n",
       " 'LH_320',\n",
       " 'LH_321',\n",
       " 'LH_322',\n",
       " 'LH_323',\n",
       " 'LH_324',\n",
       " 'LH_325',\n",
       " 'LH_326',\n",
       " 'LH_327',\n",
       " 'LH_328',\n",
       " 'LH_329',\n",
       " 'LH_330',\n",
       " 'LH_331',\n",
       " 'LH_332',\n",
       " 'LH_333',\n",
       " 'LH_334',\n",
       " 'LH_335',\n",
       " 'LH_336',\n",
       " 'LH_337',\n",
       " 'LH_338',\n",
       " 'LH_339',\n",
       " 'LH_340',\n",
       " 'LH_341',\n",
       " 'LH_342',\n",
       " 'LH_343',\n",
       " 'LH_344',\n",
       " 'LH_345',\n",
       " 'LH_346',\n",
       " 'LH_347',\n",
       " 'LH_348',\n",
       " 'LH_349',\n",
       " 'LH_350',\n",
       " 'LH_351',\n",
       " 'LH_352',\n",
       " 'LH_353',\n",
       " 'LH_354',\n",
       " 'LH_355',\n",
       " 'LH_356',\n",
       " 'LH_357',\n",
       " 'LH_358',\n",
       " 'LH_359',\n",
       " 'LH_360',\n",
       " 'LH_361',\n",
       " 'LH_362',\n",
       " 'LH_363',\n",
       " 'LH_364',\n",
       " 'LH_365',\n",
       " 'LH_366',\n",
       " 'LH_367',\n",
       " 'LH_368',\n",
       " 'LH_369',\n",
       " 'LH_370',\n",
       " 'LH_371',\n",
       " 'LH_372',\n",
       " 'LH_373',\n",
       " 'LH_374',\n",
       " 'LH_375',\n",
       " 'LH_376',\n",
       " 'LH_377',\n",
       " 'LH_378',\n",
       " 'LH_379',\n",
       " 'LH_380',\n",
       " 'LH_381',\n",
       " 'LH_382',\n",
       " 'LH_383',\n",
       " 'LH_384',\n",
       " 'LH_385',\n",
       " 'LH_386',\n",
       " 'LH_387',\n",
       " 'LH_388',\n",
       " 'LH_389',\n",
       " 'LH_390',\n",
       " 'LH_391',\n",
       " 'LH_392',\n",
       " 'LH_393',\n",
       " 'LH_394',\n",
       " 'LH_395',\n",
       " 'LH_396',\n",
       " 'LH_397',\n",
       " 'LH_398',\n",
       " 'LH_399']"
      ]
     },
     "execution_count": 3,
     "metadata": {},
     "output_type": "execute_result"
    }
   ],
   "source": [
    "#directories = [f'LH_{i}' for i in range(1000)]\n",
    "# TEST:\n",
    "# LH_50 ,LH_104 skipped, 177 skipped. bad data, run again later.\n",
    "directories = [f'LH_{i}' for i in range(338, 400)]\n",
    "directories"
   ]
  },
  {
   "cell_type": "code",
   "execution_count": 4,
   "metadata": {},
   "outputs": [
    {
     "data": {
      "text/plain": [
       "100"
      ]
     },
     "execution_count": 4,
     "metadata": {},
     "output_type": "execute_result"
    }
   ],
   "source": [
    "len(directories)"
   ]
  },
  {
   "cell_type": "code",
   "execution_count": 5,
   "metadata": {},
   "outputs": [
    {
     "name": "stderr",
     "output_type": "stream",
     "text": [
      "/srv/conda/envs/notebook/lib/python3.9/site-packages/synthesizer/particle/galaxy.py:109: RuntimeWarning: In `load_stars`: one of either `initial_masses`, `ages` or `metallicities` is not provided, setting `stars` object to `None`\n",
      "  self.load_stars(stars=stars)\n",
      "/srv/conda/envs/notebook/lib/python3.9/site-packages/synthesizer/particle/galaxy.py:110: RuntimeWarning: In `load_stars`: one of either `masses` or `metallicities` is not provided, setting `gas` object to `None`\n",
      "  self.load_gas(gas=gas)\n",
      "/srv/conda/envs/notebook/lib/python3.9/site-packages/unyt/array.py:1813: RuntimeWarning: divide by zero encountered in log10\n",
      "  out_arr = func(np.asarray(inp), out=out_func, **kwargs)\n",
      "/srv/conda/envs/notebook/lib/python3.9/site-packages/unyt/array.py:1938: RuntimeWarning: invalid value encountered in divide\n",
      "  out_arr = func(\n"
     ]
    },
    {
     "name": "stdout",
     "output_type": "stream",
     "text": [
      "Written out: /home/jovyan/camels/play/synth-play/LH/output/ LH_300\n",
      "Written out: /home/jovyan/camels/play/synth-play/LH/output/ LH_301\n",
      "Written out: /home/jovyan/camels/play/synth-play/LH/output/ LH_302\n",
      "Written out: /home/jovyan/camels/play/synth-play/LH/output/ LH_303\n",
      "Written out: /home/jovyan/camels/play/synth-play/LH/output/ LH_304\n",
      "Written out: /home/jovyan/camels/play/synth-play/LH/output/ LH_305\n",
      "Written out: /home/jovyan/camels/play/synth-play/LH/output/ LH_306\n",
      "Written out: /home/jovyan/camels/play/synth-play/LH/output/ LH_307\n",
      "Written out: /home/jovyan/camels/play/synth-play/LH/output/ LH_308\n"
     ]
    },
    {
     "name": "stderr",
     "output_type": "stream",
     "text": [
      "/srv/conda/envs/notebook/lib/python3.9/site-packages/unyt/array.py:1813: RuntimeWarning: invalid value encountered in log10\n",
      "  out_arr = func(np.asarray(inp), out=out_func, **kwargs)\n"
     ]
    },
    {
     "name": "stdout",
     "output_type": "stream",
     "text": [
      "Written out: /home/jovyan/camels/play/synth-play/LH/output/ LH_309\n",
      "Written out: /home/jovyan/camels/play/synth-play/LH/output/ LH_310\n",
      "Written out: /home/jovyan/camels/play/synth-play/LH/output/ LH_311\n",
      "Written out: /home/jovyan/camels/play/synth-play/LH/output/ LH_312\n",
      "Written out: /home/jovyan/camels/play/synth-play/LH/output/ LH_313\n",
      "Written out: /home/jovyan/camels/play/synth-play/LH/output/ LH_314\n",
      "Written out: /home/jovyan/camels/play/synth-play/LH/output/ LH_315\n",
      "Written out: /home/jovyan/camels/play/synth-play/LH/output/ LH_316\n",
      "Written out: /home/jovyan/camels/play/synth-play/LH/output/ LH_317\n",
      "Written out: /home/jovyan/camels/play/synth-play/LH/output/ LH_318\n",
      "Written out: /home/jovyan/camels/play/synth-play/LH/output/ LH_319\n",
      "Written out: /home/jovyan/camels/play/synth-play/LH/output/ LH_320\n",
      "Written out: /home/jovyan/camels/play/synth-play/LH/output/ LH_321\n",
      "Written out: /home/jovyan/camels/play/synth-play/LH/output/ LH_322\n",
      "Written out: /home/jovyan/camels/play/synth-play/LH/output/ LH_323\n",
      "Written out: /home/jovyan/camels/play/synth-play/LH/output/ LH_324\n",
      "Written out: /home/jovyan/camels/play/synth-play/LH/output/ LH_325\n",
      "Written out: /home/jovyan/camels/play/synth-play/LH/output/ LH_326\n",
      "Written out: /home/jovyan/camels/play/synth-play/LH/output/ LH_327\n",
      "Written out: /home/jovyan/camels/play/synth-play/LH/output/ LH_328\n",
      "Written out: /home/jovyan/camels/play/synth-play/LH/output/ LH_329\n",
      "Written out: /home/jovyan/camels/play/synth-play/LH/output/ LH_330\n",
      "Written out: /home/jovyan/camels/play/synth-play/LH/output/ LH_331\n",
      "Written out: /home/jovyan/camels/play/synth-play/LH/output/ LH_332\n",
      "Written out: /home/jovyan/camels/play/synth-play/LH/output/ LH_333\n",
      "Written out: /home/jovyan/camels/play/synth-play/LH/output/ LH_334\n",
      "Written out: /home/jovyan/camels/play/synth-play/LH/output/ LH_335\n",
      "Written out: /home/jovyan/camels/play/synth-play/LH/output/ LH_336\n",
      "Written out: /home/jovyan/camels/play/synth-play/LH/output/ LH_337\n",
      "Written out: /home/jovyan/camels/play/synth-play/LH/output/ LH_338\n"
     ]
    },
    {
     "ename": "KeyboardInterrupt",
     "evalue": "",
     "output_type": "error",
     "traceback": [
      "\u001b[0;31m---------------------------------------------------------------------------\u001b[0m",
      "\u001b[0;31mKeyboardInterrupt\u001b[0m                         Traceback (most recent call last)",
      "Cell \u001b[0;32mIn[5], line 15\u001b[0m\n\u001b[1;32m      9\u001b[0m \u001b[38;5;28;01mfor\u001b[39;00m LH_X \u001b[38;5;129;01min\u001b[39;00m directories:\n\u001b[1;32m     10\u001b[0m     \u001b[38;5;66;03m# get grid for all galaxies\u001b[39;00m\n\u001b[1;32m     11\u001b[0m     \u001b[38;5;66;03m# gives grid of metalicity and age which is used to map on our camels galaxies\u001b[39;00m\n\u001b[1;32m     12\u001b[0m \n\u001b[1;32m     13\u001b[0m     \u001b[38;5;66;03m# get gals\u001b[39;00m\n\u001b[1;32m     14\u001b[0m     dir_ \u001b[38;5;241m=\u001b[39m \u001b[38;5;124m'\u001b[39m\u001b[38;5;124m/home/jovyan/Data/Sims/IllustrisTNG/LH/\u001b[39m\u001b[38;5;124m'\u001b[39m \u001b[38;5;241m+\u001b[39m LH_X\n\u001b[0;32m---> 15\u001b[0m     gals_074 \u001b[38;5;241m=\u001b[39m \u001b[43mload_CAMELS_IllustrisTNG\u001b[49m\u001b[43m(\u001b[49m\n\u001b[1;32m     16\u001b[0m \u001b[43m        \u001b[49m\u001b[43mdir_\u001b[49m\u001b[43m,\u001b[49m\n\u001b[1;32m     17\u001b[0m \u001b[43m        \u001b[49m\u001b[43msnap_name\u001b[49m\u001b[38;5;241;43m=\u001b[39;49m\u001b[38;5;124;43m'\u001b[39;49m\u001b[38;5;124;43msnapshot_074.hdf5\u001b[39;49m\u001b[38;5;124;43m'\u001b[39;49m\u001b[43m,\u001b[49m\u001b[43m \u001b[49m\n\u001b[1;32m     18\u001b[0m \u001b[43m        \u001b[49m\u001b[43mfof_name\u001b[49m\u001b[38;5;241;43m=\u001b[39;49m\u001b[38;5;124;43m'\u001b[39;49m\u001b[38;5;124;43mgroups_074.hdf5\u001b[39;49m\u001b[38;5;124;43m'\u001b[39;49m\u001b[43m,\u001b[49m\n\u001b[1;32m     19\u001b[0m \u001b[43m    \u001b[49m\u001b[43m)\u001b[49m\n\u001b[1;32m     21\u001b[0m     cat_074 \u001b[38;5;241m=\u001b[39m dir_\u001b[38;5;241m+\u001b[39m\u001b[38;5;124m'\u001b[39m\u001b[38;5;124m/groups_074.hdf5\u001b[39m\u001b[38;5;124m'\u001b[39m\n\u001b[1;32m     22\u001b[0m     \u001b[38;5;66;03m# open file\u001b[39;00m\n",
      "File \u001b[0;32m/srv/conda/envs/notebook/lib/python3.9/site-packages/synthesizer/load_data/load_camels.py:228\u001b[0m, in \u001b[0;36mload_CAMELS_IllustrisTNG\u001b[0;34m(_dir, snap_name, fof_name, fof_dir, verbose, dtm, physical)\u001b[0m\n\u001b[1;32m    225\u001b[0m _ages \u001b[38;5;241m=\u001b[39m cosmo\u001b[38;5;241m.\u001b[39mage(\u001b[38;5;241m1.0\u001b[39m \u001b[38;5;241m/\u001b[39m form_time \u001b[38;5;241m-\u001b[39m \u001b[38;5;241m1\u001b[39m)\n\u001b[1;32m    226\u001b[0m ages \u001b[38;5;241m=\u001b[39m (universe_age \u001b[38;5;241m-\u001b[39m _ages)\u001b[38;5;241m.\u001b[39mvalue \u001b[38;5;241m*\u001b[39m \u001b[38;5;241m1e9\u001b[39m  \u001b[38;5;66;03m# yr\u001b[39;00m\n\u001b[0;32m--> 228\u001b[0m \u001b[38;5;28;01mreturn\u001b[39;00m \u001b[43m_load_CAMELS\u001b[49m\u001b[43m(\u001b[49m\n\u001b[1;32m    229\u001b[0m \u001b[43m    \u001b[49m\u001b[43mlens\u001b[49m\u001b[38;5;241;43m=\u001b[39;49m\u001b[43mlens\u001b[49m\u001b[43m,\u001b[49m\n\u001b[1;32m    230\u001b[0m \u001b[43m    \u001b[49m\u001b[43mimasses\u001b[49m\u001b[38;5;241;43m=\u001b[39;49m\u001b[43mimasses\u001b[49m\u001b[43m,\u001b[49m\n\u001b[1;32m    231\u001b[0m \u001b[43m    \u001b[49m\u001b[43mages\u001b[49m\u001b[38;5;241;43m=\u001b[39;49m\u001b[43mages\u001b[49m\u001b[43m,\u001b[49m\n\u001b[1;32m    232\u001b[0m \u001b[43m    \u001b[49m\u001b[43mmetallicities\u001b[49m\u001b[38;5;241;43m=\u001b[39;49m\u001b[43mmetallicity\u001b[49m\u001b[43m,\u001b[49m\n\u001b[1;32m    233\u001b[0m \u001b[43m    \u001b[49m\u001b[43ms_oxygen\u001b[49m\u001b[38;5;241;43m=\u001b[39;49m\u001b[43ms_oxygen\u001b[49m\u001b[43m,\u001b[49m\n\u001b[1;32m    234\u001b[0m \u001b[43m    \u001b[49m\u001b[43ms_hydrogen\u001b[49m\u001b[38;5;241;43m=\u001b[39;49m\u001b[43ms_hydrogen\u001b[49m\u001b[43m,\u001b[49m\n\u001b[1;32m    235\u001b[0m \u001b[43m    \u001b[49m\u001b[43ms_hsml\u001b[49m\u001b[38;5;241;43m=\u001b[39;49m\u001b[43mhsml\u001b[49m\u001b[43m,\u001b[49m\n\u001b[1;32m    236\u001b[0m \u001b[43m    \u001b[49m\u001b[43mcoods\u001b[49m\u001b[38;5;241;43m=\u001b[39;49m\u001b[43mcoods\u001b[49m\u001b[43m,\u001b[49m\n\u001b[1;32m    237\u001b[0m \u001b[43m    \u001b[49m\u001b[43mmasses\u001b[49m\u001b[38;5;241;43m=\u001b[39;49m\u001b[43mmasses\u001b[49m\u001b[43m,\u001b[49m\n\u001b[1;32m    238\u001b[0m \u001b[43m    \u001b[49m\u001b[43mg_coods\u001b[49m\u001b[38;5;241;43m=\u001b[39;49m\u001b[43mg_coods\u001b[49m\u001b[43m,\u001b[49m\n\u001b[1;32m    239\u001b[0m \u001b[43m    \u001b[49m\u001b[43mg_masses\u001b[49m\u001b[38;5;241;43m=\u001b[39;49m\u001b[43mg_masses\u001b[49m\u001b[43m,\u001b[49m\n\u001b[1;32m    240\u001b[0m \u001b[43m    \u001b[49m\u001b[43mg_metallicities\u001b[49m\u001b[38;5;241;43m=\u001b[39;49m\u001b[43mg_metals\u001b[49m\u001b[43m,\u001b[49m\n\u001b[1;32m    241\u001b[0m \u001b[43m    \u001b[49m\u001b[43mg_hsml\u001b[49m\u001b[38;5;241;43m=\u001b[39;49m\u001b[43mg_hsml\u001b[49m\u001b[43m,\u001b[49m\n\u001b[1;32m    242\u001b[0m \u001b[43m    \u001b[49m\u001b[43mstar_forming\u001b[49m\u001b[38;5;241;43m=\u001b[39;49m\u001b[43mstar_forming\u001b[49m\u001b[43m,\u001b[49m\n\u001b[1;32m    243\u001b[0m \u001b[43m    \u001b[49m\u001b[43mredshift\u001b[49m\u001b[38;5;241;43m=\u001b[39;49m\u001b[43mredshift\u001b[49m\u001b[43m,\u001b[49m\n\u001b[1;32m    244\u001b[0m \u001b[43m    \u001b[49m\u001b[43mcentre\u001b[49m\u001b[38;5;241;43m=\u001b[39;49m\u001b[43mpos\u001b[49m\u001b[43m,\u001b[49m\n\u001b[1;32m    245\u001b[0m \u001b[43m    \u001b[49m\u001b[43mdtm\u001b[49m\u001b[38;5;241;43m=\u001b[39;49m\u001b[43mdtm\u001b[49m\u001b[43m,\u001b[49m\n\u001b[1;32m    246\u001b[0m \u001b[43m\u001b[49m\u001b[43m)\u001b[49m\n",
      "File \u001b[0;32m/srv/conda/envs/notebook/lib/python3.9/site-packages/synthesizer/load_data/load_camels.py:103\u001b[0m, in \u001b[0;36m_load_CAMELS\u001b[0;34m(lens, imasses, ages, metallicities, s_oxygen, s_hydrogen, coods, masses, g_coods, g_masses, g_metallicities, g_hsml, star_forming, redshift, centre, s_hsml, dtm)\u001b[0m\n\u001b[1;32m    101\u001b[0m begin, end \u001b[38;5;241m=\u001b[39m get_len(lens[:, \u001b[38;5;241m0\u001b[39m])\n\u001b[1;32m    102\u001b[0m \u001b[38;5;28;01mfor\u001b[39;00m i, (b, e) \u001b[38;5;129;01min\u001b[39;00m \u001b[38;5;28menumerate\u001b[39m(\u001b[38;5;28mzip\u001b[39m(begin, end)):\n\u001b[0;32m--> 103\u001b[0m     \u001b[43mgalaxies\u001b[49m\u001b[43m[\u001b[49m\u001b[43mi\u001b[49m\u001b[43m]\u001b[49m\u001b[38;5;241;43m.\u001b[39;49m\u001b[43mload_gas\u001b[49m\u001b[43m(\u001b[49m\n\u001b[1;32m    104\u001b[0m \u001b[43m        \u001b[49m\u001b[43mcoordinates\u001b[49m\u001b[38;5;241;43m=\u001b[39;49m\u001b[43mg_coods\u001b[49m\u001b[43m[\u001b[49m\u001b[43mb\u001b[49m\u001b[43m:\u001b[49m\u001b[43me\u001b[49m\u001b[43m]\u001b[49m\u001b[43m \u001b[49m\u001b[38;5;241;43m*\u001b[39;49m\u001b[43m \u001b[49m\u001b[43mkpc\u001b[49m\u001b[43m,\u001b[49m\n\u001b[1;32m    105\u001b[0m \u001b[43m        \u001b[49m\u001b[43mmasses\u001b[49m\u001b[38;5;241;43m=\u001b[39;49m\u001b[43mg_masses\u001b[49m\u001b[43m[\u001b[49m\u001b[43mb\u001b[49m\u001b[43m:\u001b[49m\u001b[43me\u001b[49m\u001b[43m]\u001b[49m\u001b[43m \u001b[49m\u001b[38;5;241;43m*\u001b[39;49m\u001b[43m \u001b[49m\u001b[43mMsun\u001b[49m\u001b[43m,\u001b[49m\n\u001b[1;32m    106\u001b[0m \u001b[43m        \u001b[49m\u001b[43mmetallicities\u001b[49m\u001b[38;5;241;43m=\u001b[39;49m\u001b[43mg_metallicities\u001b[49m\u001b[43m[\u001b[49m\u001b[43mb\u001b[49m\u001b[43m:\u001b[49m\u001b[43me\u001b[49m\u001b[43m]\u001b[49m\u001b[43m,\u001b[49m\n\u001b[1;32m    107\u001b[0m \u001b[43m        \u001b[49m\u001b[43mstar_forming\u001b[49m\u001b[38;5;241;43m=\u001b[39;49m\u001b[43mstar_forming\u001b[49m\u001b[43m[\u001b[49m\u001b[43mb\u001b[49m\u001b[43m:\u001b[49m\u001b[43me\u001b[49m\u001b[43m]\u001b[49m\u001b[43m,\u001b[49m\n\u001b[1;32m    108\u001b[0m \u001b[43m        \u001b[49m\u001b[43msmoothing_lengths\u001b[49m\u001b[38;5;241;43m=\u001b[39;49m\u001b[43mg_hsml\u001b[49m\u001b[43m[\u001b[49m\u001b[43mb\u001b[49m\u001b[43m:\u001b[49m\u001b[43me\u001b[49m\u001b[43m]\u001b[49m\u001b[43m \u001b[49m\u001b[38;5;241;43m*\u001b[39;49m\u001b[43m \u001b[49m\u001b[43mkpc\u001b[49m\u001b[43m,\u001b[49m\n\u001b[1;32m    109\u001b[0m \u001b[43m        \u001b[49m\u001b[43mdust_to_metal_ratio\u001b[49m\u001b[38;5;241;43m=\u001b[39;49m\u001b[43mdtm\u001b[49m\u001b[43m,\u001b[49m\n\u001b[1;32m    110\u001b[0m \u001b[43m    \u001b[49m\u001b[43m)\u001b[49m\n\u001b[1;32m    112\u001b[0m \u001b[38;5;28;01mreturn\u001b[39;00m galaxies\n",
      "File \u001b[0;32m/srv/conda/envs/notebook/lib/python3.9/site-packages/synthesizer/particle/galaxy.py:296\u001b[0m, in \u001b[0;36mGalaxy.load_gas\u001b[0;34m(self, masses, metallicities, gas, **kwargs)\u001b[0m\n\u001b[1;32m    292\u001b[0m     \u001b[38;5;28;01melse\u001b[39;00m:\n\u001b[1;32m    293\u001b[0m         \u001b[38;5;66;03m# Create a new `gas` object from particle arrays\u001b[39;00m\n\u001b[1;32m    294\u001b[0m         \u001b[38;5;28mself\u001b[39m\u001b[38;5;241m.\u001b[39mgas \u001b[38;5;241m=\u001b[39m Gas(masses, metallicities, \u001b[38;5;241m*\u001b[39m\u001b[38;5;241m*\u001b[39mkwargs)\n\u001b[0;32m--> 296\u001b[0m \u001b[38;5;28;43mself\u001b[39;49m\u001b[38;5;241;43m.\u001b[39;49m\u001b[43mcalculate_integrated_gas_properties\u001b[49m\u001b[43m(\u001b[49m\u001b[43m)\u001b[49m\n\u001b[1;32m    298\u001b[0m \u001b[38;5;66;03m# Assign additional galaxy-level properties\u001b[39;00m\n\u001b[1;32m    299\u001b[0m \u001b[38;5;28mself\u001b[39m\u001b[38;5;241m.\u001b[39mgas\u001b[38;5;241m.\u001b[39mredshift \u001b[38;5;241m=\u001b[39m \u001b[38;5;28mself\u001b[39m\u001b[38;5;241m.\u001b[39mredshift\n",
      "File \u001b[0;32m/srv/conda/envs/notebook/lib/python3.9/site-packages/synthesizer/particle/galaxy.py:167\u001b[0m, in \u001b[0;36mGalaxy.calculate_integrated_gas_properties\u001b[0;34m(self)\u001b[0m\n\u001b[1;32m    163\u001b[0m     \u001b[38;5;28mself\u001b[39m\u001b[38;5;241m.\u001b[39mgas_mass \u001b[38;5;241m=\u001b[39m np\u001b[38;5;241m.\u001b[39msum(\u001b[38;5;28mself\u001b[39m\u001b[38;5;241m.\u001b[39mgas\u001b[38;5;241m.\u001b[39mmasses)\n\u001b[1;32m    165\u001b[0m     \u001b[38;5;66;03m# mass weighted gas phase metallicity\u001b[39;00m\n\u001b[1;32m    166\u001b[0m     \u001b[38;5;28mself\u001b[39m\u001b[38;5;241m.\u001b[39mmass_weighted_gas_metallicity \u001b[38;5;241m=\u001b[39m (\n\u001b[0;32m--> 167\u001b[0m         \u001b[43mnp\u001b[49m\u001b[38;5;241;43m.\u001b[39;49m\u001b[43msum\u001b[49m\u001b[43m(\u001b[49m\u001b[38;5;28;43mself\u001b[39;49m\u001b[38;5;241;43m.\u001b[39;49m\u001b[43mgas\u001b[49m\u001b[38;5;241;43m.\u001b[39;49m\u001b[43mmasses\u001b[49m\u001b[43m \u001b[49m\u001b[38;5;241;43m*\u001b[39;49m\u001b[43m \u001b[49m\u001b[38;5;28;43mself\u001b[39;49m\u001b[38;5;241;43m.\u001b[39;49m\u001b[43mgas\u001b[49m\u001b[38;5;241;43m.\u001b[39;49m\u001b[43mmetallicities\u001b[49m\u001b[43m)\u001b[49m\n\u001b[1;32m    168\u001b[0m         \u001b[38;5;241m/\u001b[39m \u001b[38;5;28mself\u001b[39m\u001b[38;5;241m.\u001b[39mgas_mass\n\u001b[1;32m    169\u001b[0m     )\n\u001b[1;32m    170\u001b[0m \u001b[38;5;28;01melse\u001b[39;00m:\n\u001b[1;32m    171\u001b[0m     \u001b[38;5;28mself\u001b[39m\u001b[38;5;241m.\u001b[39mmass_weighted_gas_metallicity \u001b[38;5;241m=\u001b[39m \u001b[38;5;28;01mNone\u001b[39;00m\n",
      "File \u001b[0;32m/srv/conda/envs/notebook/lib/python3.9/site-packages/unyt/array.py:2029\u001b[0m, in \u001b[0;36munyt_array.__array_function__\u001b[0;34m(self, func, types, args, kwargs)\u001b[0m\n\u001b[1;32m   2025\u001b[0m     \u001b[38;5;28;01mreturn\u001b[39;00m \u001b[38;5;28mNotImplemented\u001b[39m\n\u001b[1;32m   2027\u001b[0m \u001b[38;5;28;01mif\u001b[39;00m func \u001b[38;5;129;01mnot\u001b[39;00m \u001b[38;5;129;01min\u001b[39;00m _HANDLED_FUNCTIONS:\n\u001b[1;32m   2028\u001b[0m     \u001b[38;5;66;03m# default to numpy's private implementation\u001b[39;00m\n\u001b[0;32m-> 2029\u001b[0m     \u001b[38;5;28;01mreturn\u001b[39;00m \u001b[43mfunc\u001b[49m\u001b[38;5;241;43m.\u001b[39;49m\u001b[43m_implementation\u001b[49m\u001b[43m(\u001b[49m\u001b[38;5;241;43m*\u001b[39;49m\u001b[43margs\u001b[49m\u001b[43m,\u001b[49m\u001b[43m \u001b[49m\u001b[38;5;241;43m*\u001b[39;49m\u001b[38;5;241;43m*\u001b[39;49m\u001b[43mkwargs\u001b[49m\u001b[43m)\u001b[49m\n\u001b[1;32m   2030\u001b[0m \u001b[38;5;66;03m# Note: this allows subclasses that don't override\u001b[39;00m\n\u001b[1;32m   2031\u001b[0m \u001b[38;5;66;03m# __array_function__ to handle unyt_array objects\u001b[39;00m\n\u001b[1;32m   2032\u001b[0m \u001b[38;5;28;01mif\u001b[39;00m \u001b[38;5;129;01mnot\u001b[39;00m \u001b[38;5;28mall\u001b[39m(\u001b[38;5;28missubclass\u001b[39m(t, unyt_array) \u001b[38;5;129;01mor\u001b[39;00m t \u001b[38;5;129;01mis\u001b[39;00m np\u001b[38;5;241m.\u001b[39mndarray \u001b[38;5;28;01mfor\u001b[39;00m t \u001b[38;5;129;01min\u001b[39;00m types):\n",
      "File \u001b[0;32m/srv/conda/envs/notebook/lib/python3.9/site-packages/numpy/core/fromnumeric.py:2313\u001b[0m, in \u001b[0;36msum\u001b[0;34m(a, axis, dtype, out, keepdims, initial, where)\u001b[0m\n\u001b[1;32m   2310\u001b[0m         \u001b[38;5;28;01mreturn\u001b[39;00m out\n\u001b[1;32m   2311\u001b[0m     \u001b[38;5;28;01mreturn\u001b[39;00m res\n\u001b[0;32m-> 2313\u001b[0m \u001b[38;5;28;01mreturn\u001b[39;00m \u001b[43m_wrapreduction\u001b[49m\u001b[43m(\u001b[49m\u001b[43ma\u001b[49m\u001b[43m,\u001b[49m\u001b[43m \u001b[49m\u001b[43mnp\u001b[49m\u001b[38;5;241;43m.\u001b[39;49m\u001b[43madd\u001b[49m\u001b[43m,\u001b[49m\u001b[43m \u001b[49m\u001b[38;5;124;43m'\u001b[39;49m\u001b[38;5;124;43msum\u001b[39;49m\u001b[38;5;124;43m'\u001b[39;49m\u001b[43m,\u001b[49m\u001b[43m \u001b[49m\u001b[43maxis\u001b[49m\u001b[43m,\u001b[49m\u001b[43m \u001b[49m\u001b[43mdtype\u001b[49m\u001b[43m,\u001b[49m\u001b[43m \u001b[49m\u001b[43mout\u001b[49m\u001b[43m,\u001b[49m\u001b[43m \u001b[49m\u001b[43mkeepdims\u001b[49m\u001b[38;5;241;43m=\u001b[39;49m\u001b[43mkeepdims\u001b[49m\u001b[43m,\u001b[49m\n\u001b[1;32m   2314\u001b[0m \u001b[43m                      \u001b[49m\u001b[43minitial\u001b[49m\u001b[38;5;241;43m=\u001b[39;49m\u001b[43minitial\u001b[49m\u001b[43m,\u001b[49m\u001b[43m \u001b[49m\u001b[43mwhere\u001b[49m\u001b[38;5;241;43m=\u001b[39;49m\u001b[43mwhere\u001b[49m\u001b[43m)\u001b[49m\n",
      "\u001b[0;31mKeyboardInterrupt\u001b[0m: "
     ]
    }
   ],
   "source": [
    "# Try data frame instead\n",
    "grid_name = \"bc03-2016-Miles_chabrier-0.1,100.hdf5\"\n",
    "grid_dir = \"/home/jovyan/\"\n",
    "grid = Grid(grid_name, grid_dir=grid_dir, read_lines=False)\n",
    "\n",
    "# Define the directory where the text files will be saved\n",
    "output_dir = \"/home/jovyan/camels/play/synth-play/LH/output/\"\n",
    "\n",
    "for LH_X in directories:\n",
    "    # get grid for all galaxies\n",
    "    # gives grid of metalicity and age which is used to map on our camels galaxies\n",
    "\n",
    "    # get gals\n",
    "    dir_ = '/home/jovyan/Data/Sims/IllustrisTNG/LH/' + LH_X\n",
    "    gals_074 = load_CAMELS_IllustrisTNG(\n",
    "        dir_,\n",
    "        snap_name='snapshot_074.hdf5', \n",
    "        fof_name='groups_074.hdf5',\n",
    "    )\n",
    "\n",
    "    cat_074 = dir_+'/groups_074.hdf5'\n",
    "    # open file\n",
    "    f_h5py = h5py.File(cat_074, 'r')\n",
    "\n",
    "    # read different attributes of the header\n",
    "    boxSize_074 = f_h5py['Header'].attrs[u'BoxSize']/1e3 #Mpc/h\n",
    "    redshift_074 = f_h5py['Header'].attrs[u'Redshift']\n",
    "\n",
    "    # Filter galaxies to only include those with 100 or more star particles\n",
    "    gals_074 = [gal for gal in gals_074 if len(gal.stars.ages) >= 100]\n",
    "    spec_list = []\n",
    "    # Lets work with z=0 so gals_025\n",
    "    for i in gals_074:\n",
    "        gal = i\n",
    "        # get_spectra_incident An Sed object containing the stellar spectra\n",
    "        spec = gal.stars.get_spectra_incident(grid)\n",
    "        spec.get_fnu0()\n",
    "        spec_list.append(spec)\n",
    "\n",
    "    # combine\n",
    "    seds = combine_list_of_seds(spec_list)\n",
    "    filt1 = Filter(\"top_hat/filter.1\", lam_min=1400, lam_max=1600, new_lam=grid.lam)\n",
    "    filt_lst = [filt1]\n",
    "    seds.lnu # rest frame lumd\n",
    "    seds.get_photo_luminosities(filt_lst)\n",
    "    seds.photo_luminosities.photo_luminosities\n",
    "    abs_mag = lnu_to_absolute_mag(seds.photo_luminosities.photo_luminosities)\n",
    "    abs_mag_th = abs_mag[0]\n",
    "    # next steps, get luminosity function for these magnitudes\n",
    "    # co-moving volume: BoxSize_025 and redshift:\n",
    "    little_h =  0.6711\n",
    "    Vphys = (boxSize_074/little_h )**3\n",
    "    Vcom = Vphys * ((1+redshift_074)**3)\n",
    "\n",
    "    massBinLimits = np.arange(-22, -16, 0.5)\n",
    "    phi, phi_sigma, hist = calc_lf(abs_mag_th, Vcom, massBinLimits)\n",
    "    # NOTE: 074 is the same redshift as CV_0/025\n",
    "    massBinLimits = massBinLimits[:-1]\n",
    "\n",
    "    # Define output file path\n",
    "    output_file = f\"{output_dir}{LH_X}.txt\"\n",
    "\n",
    "    # Write the data to the text file line by line\n",
    "    with open(output_file, 'w') as txtfile:\n",
    "        # Write phi values\n",
    "        txtfile.write(\"phi\\n\")\n",
    "        for value in phi:\n",
    "            txtfile.write(f\"{value}\\n\")\n",
    "\n",
    "        # Write phi_sigma values\n",
    "        txtfile.write(\"phi_sigma\\n\")\n",
    "        for value in phi_sigma:\n",
    "            txtfile.write(f\"{value}\\n\")\n",
    "\n",
    "        # Write hist values\n",
    "        txtfile.write(\"hist\\n\")\n",
    "        for value in hist:\n",
    "            txtfile.write(f\"{value}\\n\")\n",
    "\n",
    "        # Write massBinLimits values\n",
    "        txtfile.write(\"massBinLimits\\n\")\n",
    "        for value in massBinLimits:\n",
    "            txtfile.write(f\"{value}\\n\")\n",
    "            \n",
    "            \n",
    "    print('Written out: /home/jovyan/camels/play/synth-play/LH/output/',LH_X)"
   ]
  },
  {
   "cell_type": "code",
   "execution_count": null,
   "metadata": {},
   "outputs": [],
   "source": [
    "# Stop the timer\n",
    "end_time = time.time()\n",
    "\n",
    "# Calculate the elapsed time\n",
    "elapsed_time = end_time - start_time\n",
    "\n",
    "print(\"Elapsed time:\", elapsed_time, \"seconds\")"
   ]
  },
  {
   "cell_type": "code",
   "execution_count": null,
   "metadata": {},
   "outputs": [],
   "source": [
    "# Get memory usage in bytes\n",
    "memory_usage = resource.getrusage(resource.RUSAGE_SELF).ru_maxrss\n",
    "print(\"Memory usage end:\", memory_usage/1000000, \"GB\")\n"
   ]
  },
  {
   "cell_type": "markdown",
   "metadata": {},
   "source": [
    "# will do latest LH_ set in loop as a test\n",
    "label_z = 'z = 0.46'\n",
    "\n",
    "\n",
    "# Plot the luminosity function\n",
    "plt.errorbar(massBinLimits, phi, yerr=phi_sigma, fmt='o', color='blue',label=label_z)\n",
    "plt.xlabel('Absolute Magnitude (AB)')\n",
    "plt.ylabel('Number Density (Mpc^-3 mag^-1)')\n",
    "plt.yscale('log')\n",
    "\n",
    "plt.title('Luminosity Function XMM-OM filter')\n",
    "plt.grid(True)\n",
    "plt.show()"
   ]
  },
  {
   "cell_type": "code",
   "execution_count": null,
   "metadata": {},
   "outputs": [],
   "source": []
  }
 ],
 "metadata": {
  "kernelspec": {
   "display_name": "Python 3 (ipykernel)",
   "language": "python",
   "name": "python3"
  },
  "language_info": {
   "codemirror_mode": {
    "name": "ipython",
    "version": 3
   },
   "file_extension": ".py",
   "mimetype": "text/x-python",
   "name": "python",
   "nbconvert_exporter": "python",
   "pygments_lexer": "ipython3",
   "version": "3.9.15"
  }
 },
 "nbformat": 4,
 "nbformat_minor": 2
}
