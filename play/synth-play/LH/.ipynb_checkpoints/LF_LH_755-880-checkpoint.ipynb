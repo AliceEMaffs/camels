{
 "cells": [
  {
   "cell_type": "markdown",
   "metadata": {},
   "source": [
    "Absolute magnitude is defined to be the apparent magnitude an object would have if it were located at a distance of 10 parsecs.\n",
    "In astronomy, absolute magnitude (M) is a measure of the luminosity of a celestial object on an inverse logarithmic astronomical magnitude scale."
   ]
  },
  {
   "cell_type": "code",
   "execution_count": 1,
   "metadata": {},
   "outputs": [
    {
     "name": "stderr",
     "output_type": "stream",
     "text": [
      "/tmp/ipykernel_3411/854112820.py:5: DeprecationWarning: \n",
      "Pyarrow will become a required dependency of pandas in the next major release of pandas (pandas 3.0),\n",
      "(to allow more performant data types, such as the Arrow string type, and better interoperability with other libraries)\n",
      "but was not found to be installed on your system.\n",
      "If this would cause problems for you,\n",
      "please provide us feedback at https://github.com/pandas-dev/pandas/issues/54466\n",
      "        \n",
      "  import pandas as pd\n"
     ]
    },
    {
     "name": "stdout",
     "output_type": "stream",
     "text": [
      "Current directory: /home/jovyan/camels/play/synth-play/LH\n"
     ]
    }
   ],
   "source": [
    "import time\n",
    "import numpy as np\n",
    "import h5py\n",
    "import hdf5plugin\n",
    "import pandas as pd\n",
    "import matplotlib as mpl\n",
    "import matplotlib.colors as cm\n",
    "import matplotlib.pyplot as plt\n",
    "import matplotlib.gridspec as gridspec\n",
    "from unyt import yr, Myr, kpc, arcsec, nJy, Mpc, Msun, erg, s, Hz\n",
    "from astropy.cosmology import Planck18 as cosmo\n",
    "from scipy import signal\n",
    "import os \n",
    "import csv\n",
    "import resource\n",
    "\n",
    "\n",
    "from synthesizer.grid import Grid\n",
    "from synthesizer.parametric import SFH, ZDist\n",
    "from synthesizer.particle.stars import sample_sfhz\n",
    "from synthesizer.parametric import Stars as ParametricStars\n",
    "from synthesizer.particle.particles import CoordinateGenerator\n",
    "from synthesizer.filters import Filter, FilterCollection\n",
    "from synthesizer.sed import combine_list_of_seds\n",
    "\n",
    "from synthesizer.load_data.load_camels import load_CAMELS_IllustrisTNG\n",
    "from synthesizer.kernel_functions import Kernel\n",
    "\n",
    "from synthesizer.conversions import lnu_to_absolute_mag\n",
    "\n",
    "current_directory = os.getcwd()\n",
    "print(\"Current directory:\", current_directory)\n",
    "# Start the timer\n",
    "start_time = time.time()\n"
   ]
  },
  {
   "cell_type": "code",
   "execution_count": 2,
   "metadata": {},
   "outputs": [],
   "source": [
    "\n",
    "# Alternative method for LF:\n",
    "# try this method again, but using AB mag instead of mass, and suply your own bins (up to -17, say)\n",
    "def calc_lf(ab_mag, volume, massBinLimits):\n",
    "# OG:        hist, dummy = np.histogram(np.log10(mstar), bins = massBinLimits)\n",
    "        hist, dummy = np.histogram(ab_mag, bins = massBinLimits)\n",
    "        hist = np.float64(hist)\n",
    "        phi = (hist / volume) / (massBinLimits[1] - massBinLimits[0])\n",
    "        phi_sigma = (np.sqrt(hist) / volume) /\\\n",
    "                    (massBinLimits[1] - massBinLimits[0]) # Poisson errors\n",
    "        return phi, phi_sigma, hist\n",
    "    "
   ]
  },
  {
   "cell_type": "markdown",
   "metadata": {},
   "source": [
    "\n",
    "phi_arr =[] #phi\n",
    "phi_sigma_arr =[] # phi_sigma\n",
    "hist_arr = [] # hist\n",
    "z_arr = [] #redshift_074, \n",
    "abs_mag_arr = [] #absolute mag (th filter)\n",
    "Vcom_arr = [] # comoving vol\n",
    "massBinLimits_arr = []\n"
   ]
  },
  {
   "cell_type": "markdown",
   "metadata": {},
   "source": [
    "len(phi_arr)"
   ]
  },
  {
   "cell_type": "code",
   "execution_count": 3,
   "metadata": {},
   "outputs": [
    {
     "data": {
      "text/plain": [
       "['LH_755',\n",
       " 'LH_756',\n",
       " 'LH_757',\n",
       " 'LH_758',\n",
       " 'LH_759',\n",
       " 'LH_760',\n",
       " 'LH_761',\n",
       " 'LH_762',\n",
       " 'LH_763',\n",
       " 'LH_764',\n",
       " 'LH_765',\n",
       " 'LH_766',\n",
       " 'LH_767',\n",
       " 'LH_768',\n",
       " 'LH_769',\n",
       " 'LH_770',\n",
       " 'LH_771',\n",
       " 'LH_772',\n",
       " 'LH_773',\n",
       " 'LH_774',\n",
       " 'LH_775',\n",
       " 'LH_776',\n",
       " 'LH_777',\n",
       " 'LH_778',\n",
       " 'LH_779',\n",
       " 'LH_780',\n",
       " 'LH_781',\n",
       " 'LH_782',\n",
       " 'LH_783',\n",
       " 'LH_784',\n",
       " 'LH_785',\n",
       " 'LH_786',\n",
       " 'LH_787',\n",
       " 'LH_788',\n",
       " 'LH_789',\n",
       " 'LH_790',\n",
       " 'LH_791',\n",
       " 'LH_792',\n",
       " 'LH_793',\n",
       " 'LH_794',\n",
       " 'LH_795',\n",
       " 'LH_796',\n",
       " 'LH_797',\n",
       " 'LH_798',\n",
       " 'LH_799',\n",
       " 'LH_800',\n",
       " 'LH_801',\n",
       " 'LH_802',\n",
       " 'LH_803',\n",
       " 'LH_804',\n",
       " 'LH_805',\n",
       " 'LH_806',\n",
       " 'LH_807',\n",
       " 'LH_808',\n",
       " 'LH_809',\n",
       " 'LH_810',\n",
       " 'LH_811',\n",
       " 'LH_812',\n",
       " 'LH_813',\n",
       " 'LH_814',\n",
       " 'LH_815',\n",
       " 'LH_816',\n",
       " 'LH_817',\n",
       " 'LH_818',\n",
       " 'LH_819',\n",
       " 'LH_820',\n",
       " 'LH_821',\n",
       " 'LH_822',\n",
       " 'LH_823',\n",
       " 'LH_824',\n",
       " 'LH_825',\n",
       " 'LH_826',\n",
       " 'LH_827',\n",
       " 'LH_828',\n",
       " 'LH_829',\n",
       " 'LH_830',\n",
       " 'LH_831',\n",
       " 'LH_832',\n",
       " 'LH_833',\n",
       " 'LH_834',\n",
       " 'LH_835',\n",
       " 'LH_836',\n",
       " 'LH_837',\n",
       " 'LH_838',\n",
       " 'LH_839',\n",
       " 'LH_840',\n",
       " 'LH_841',\n",
       " 'LH_842',\n",
       " 'LH_843',\n",
       " 'LH_844',\n",
       " 'LH_845',\n",
       " 'LH_846',\n",
       " 'LH_847',\n",
       " 'LH_848',\n",
       " 'LH_849',\n",
       " 'LH_850',\n",
       " 'LH_851',\n",
       " 'LH_852',\n",
       " 'LH_853',\n",
       " 'LH_854',\n",
       " 'LH_855',\n",
       " 'LH_856',\n",
       " 'LH_857',\n",
       " 'LH_858',\n",
       " 'LH_859',\n",
       " 'LH_860',\n",
       " 'LH_861',\n",
       " 'LH_862',\n",
       " 'LH_863',\n",
       " 'LH_864',\n",
       " 'LH_865',\n",
       " 'LH_866',\n",
       " 'LH_867',\n",
       " 'LH_868',\n",
       " 'LH_869',\n",
       " 'LH_870',\n",
       " 'LH_871',\n",
       " 'LH_872',\n",
       " 'LH_873',\n",
       " 'LH_874',\n",
       " 'LH_875',\n",
       " 'LH_876',\n",
       " 'LH_877',\n",
       " 'LH_878',\n",
       " 'LH_879']"
      ]
     },
     "execution_count": 3,
     "metadata": {},
     "output_type": "execute_result"
    }
   ],
   "source": [
    "#directories = [f'LH_{i}' for i in range(1000)]\n",
    "# TEST:\n",
    "directories = [f'LH_{i}' for i in range(755, 880)]\n",
    "directories"
   ]
  },
  {
   "cell_type": "code",
   "execution_count": 4,
   "metadata": {},
   "outputs": [
    {
     "data": {
      "text/plain": [
       "125"
      ]
     },
     "execution_count": 4,
     "metadata": {},
     "output_type": "execute_result"
    }
   ],
   "source": [
    "len(directories)"
   ]
  },
  {
   "cell_type": "code",
   "execution_count": 5,
   "metadata": {},
   "outputs": [
    {
     "name": "stderr",
     "output_type": "stream",
     "text": [
      "/srv/conda/envs/notebook/lib/python3.9/site-packages/unyt/array.py:1813: RuntimeWarning: divide by zero encountered in log10\n",
      "  out_arr = func(np.asarray(inp), out=out_func, **kwargs)\n",
      "/srv/conda/envs/notebook/lib/python3.9/site-packages/unyt/array.py:1938: RuntimeWarning: invalid value encountered in divide\n",
      "  out_arr = func(\n"
     ]
    },
    {
     "name": "stdout",
     "output_type": "stream",
     "text": [
      "Memory usage during loop:  1462640 bytes\n",
      "Memory usage during loop:  1794276 bytes\n"
     ]
    }
   ],
   "source": [
    "# Try data frame instead\n",
    "grid_name = \"bc03-2016-Miles_chabrier-0.1,100.hdf5\"\n",
    "grid_dir = \"/home/jovyan/\"\n",
    "grid = Grid(grid_name, grid_dir=grid_dir, read_lines=False)\n",
    "    \n",
    "# Create an empty dictionary to store your data\n",
    "data_dict = {}\n",
    "\n",
    "for LH_X in directories:\n",
    "\n",
    "    # get grid for all galaxies\n",
    "    # gives grid of metalicity and age which is used to map on our camels galaxies\n",
    "\n",
    "    # get gals\n",
    "    dir_ = '/home/jovyan/Data/Sims/IllustrisTNG/LH/' + LH_X\n",
    "    gals_074 = load_CAMELS_IllustrisTNG(\n",
    "        dir_,\n",
    "        snap_name='snapshot_074.hdf5', \n",
    "        fof_name='groups_074.hdf5',\n",
    "    )\n",
    "\n",
    "    cat_074 = dir_+'/groups_074.hdf5'\n",
    "    # open file\n",
    "    f = h5py.File(cat_074, 'r')\n",
    "\n",
    "    # read different attributes of the header\n",
    "    boxSize_074 = f['Header'].attrs[u'BoxSize']/1e3 #Mpc/h\n",
    "    redshift_074 = f['Header'].attrs[u'Redshift']\n",
    "\n",
    "\n",
    "    # Filter galaxies to only include those with 100 or more star particles\n",
    "    ## NEED TO ADD FILTER TO GET RID OF ANY GALAXIES WITH LESS THAN 100 star Particles!! This is the resolution limit!!\n",
    "    # Chris: when you load your galaxies in could you do a filter for those with at least 100 star particles? that's the resolution limit\n",
    "    gals_074 = [gal for gal in gals_074 if len(gal.stars.ages) >= 100]\n",
    "    spec_list = []\n",
    "    # Lets work with z=0 so gals_025\n",
    "    for i in gals_074:\n",
    "        gal = i\n",
    "        # get_spectra_incident An Sed object containing the stellar spectra\n",
    "        spec = gal.stars.get_spectra_incident(grid)\n",
    "        spec.get_fnu0()\n",
    "        spec_list.append(spec)\n",
    "\n",
    "    # combine\n",
    "    seds = combine_list_of_seds(spec_list)\n",
    "    filt1 = Filter(\"top_hat/filter.1\", lam_min=1400, lam_max=1600, new_lam=grid.lam)\n",
    "    filt_lst = [filt1]\n",
    "    seds.lnu # rest frame lumd\n",
    "    seds.get_photo_luminosities(filt_lst)\n",
    "    seds.photo_luminosities.photo_luminosities\n",
    "    abs_mag = lnu_to_absolute_mag(seds.photo_luminosities.photo_luminosities)\n",
    "    abs_mag_th = abs_mag[0]\n",
    "    # next steps, get luminosity function for these magnitudes\n",
    "    # co-moving volume: BoxSize_025 and redshift:\n",
    "    little_h =  0.6711\n",
    "    Vphys = (boxSize_074/little_h )**3\n",
    "    Vcom = Vphys * ((1+redshift_074)**3)\n",
    "\n",
    "    massBinLimits = np.arange(-22, -16, 0.5)\n",
    "    phi, phi_sigma, hist = calc_lf(abs_mag_th, Vcom, massBinLimits)\n",
    "    # NOTE: 074 is the same redshift as CV_0/025\n",
    "    massBinLimits = massBinLimits[:-1]\n",
    "\n",
    "    # Store the calculated values in the dictionary with LH_X as the key\n",
    "    data_dict[LH_X] = {\n",
    "        'phi': phi,\n",
    "        'phi_sigma': phi_sigma,\n",
    "        'hist': hist,\n",
    "        'massBinLimits': massBinLimits\n",
    "    }\n",
    "\n",
    "    # Get memory usage in bytes\n",
    "    memory_usage = resource.getrusage(resource.RUSAGE_SELF).ru_maxrss\n",
    "    print(\"Memory usage during loop: \", memory_usage/1000000, \"GB\")\n",
    "\n",
    "# done"
   ]
  },
  {
   "cell_type": "code",
   "execution_count": 6,
   "metadata": {},
   "outputs": [],
   "source": [
    "import pickle\n",
    "# Save the dictionary containing all data\n",
    "with open('/home/jovyan/output_test/LH_755-880.pkl', 'wb') as f:\n",
    "    pickle.dump(data_dict, f)"
   ]
  },
  {
   "cell_type": "markdown",
   "metadata": {},
   "source": [
    "# will do latest LH_ set in loop as a test\n",
    "label_z = 'z = 0.46'\n",
    "\n",
    "\n",
    "# Plot the luminosity function\n",
    "plt.errorbar(massBinLimits, phi, yerr=phi_sigma, fmt='o', color='blue',label=label_z)\n",
    "plt.xlabel('Absolute Magnitude (AB)')\n",
    "plt.ylabel('Number Density (Mpc^-3 mag^-1)')\n",
    "plt.yscale('log')\n",
    "\n",
    "plt.title('Luminosity Function XMM-OM filter')\n",
    "plt.grid(True)\n",
    "plt.show()"
   ]
  },
  {
   "cell_type": "code",
   "execution_count": 7,
   "metadata": {},
   "outputs": [
    {
     "name": "stdout",
     "output_type": "stream",
     "text": [
      "Elapsed time: 103.06453847885132 seconds\n"
     ]
    }
   ],
   "source": [
    "# Stop the timer\n",
    "end_time = time.time()\n",
    "\n",
    "# Calculate the elapsed time\n",
    "elapsed_time = end_time - start_time\n",
    "\n",
    "print(\"Elapsed time:\", elapsed_time, \"seconds\")"
   ]
  },
  {
   "cell_type": "code",
   "execution_count": 9,
   "metadata": {},
   "outputs": [
    {
     "name": "stdout",
     "output_type": "stream",
     "text": [
      "Memory usage end: 1.794276 bytes\n"
     ]
    }
   ],
   "source": [
    "# Get memory usage in bytes\n",
    "memory_usage = resource.getrusage(resource.RUSAGE_SELF).ru_maxrss\n",
    "print(\"Memory usage end:\", memory_usage/1000000, \"GB\")\n"
   ]
  },
  {
   "cell_type": "code",
   "execution_count": null,
   "metadata": {},
   "outputs": [],
   "source": []
  }
 ],
 "metadata": {
  "kernelspec": {
   "display_name": "Python 3 (ipykernel)",
   "language": "python",
   "name": "python3"
  },
  "language_info": {
   "codemirror_mode": {
    "name": "ipython",
    "version": 3
   },
   "file_extension": ".py",
   "mimetype": "text/x-python",
   "name": "python",
   "nbconvert_exporter": "python",
   "pygments_lexer": "ipython3",
   "version": "3.9.15"
  }
 },
 "nbformat": 4,
 "nbformat_minor": 2
}
