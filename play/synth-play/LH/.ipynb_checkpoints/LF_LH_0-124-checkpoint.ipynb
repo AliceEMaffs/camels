{
 "cells": [
  {
   "cell_type": "markdown",
   "metadata": {},
   "source": [
    "Absolute magnitude is defined to be the apparent magnitude an object would have if it were located at a distance of 10 parsecs.\n",
    "In astronomy, absolute magnitude (M) is a measure of the luminosity of a celestial object on an inverse logarithmic astronomical magnitude scale."
   ]
  },
  {
   "cell_type": "code",
   "execution_count": 1,
   "metadata": {},
   "outputs": [
    {
     "name": "stderr",
     "output_type": "stream",
     "text": [
      "/tmp/ipykernel_3411/854112820.py:5: DeprecationWarning: \n",
      "Pyarrow will become a required dependency of pandas in the next major release of pandas (pandas 3.0),\n",
      "(to allow more performant data types, such as the Arrow string type, and better interoperability with other libraries)\n",
      "but was not found to be installed on your system.\n",
      "If this would cause problems for you,\n",
      "please provide us feedback at https://github.com/pandas-dev/pandas/issues/54466\n",
      "        \n",
      "  import pandas as pd\n"
     ]
    },
    {
     "name": "stdout",
     "output_type": "stream",
     "text": [
      "Current directory: /home/jovyan/camels/play/synth-play/LH\n"
     ]
    }
   ],
   "source": [
    "import time\n",
    "import numpy as np\n",
    "import h5py\n",
    "import hdf5plugin\n",
    "import pandas as pd\n",
    "import matplotlib as mpl\n",
    "import matplotlib.colors as cm\n",
    "import matplotlib.pyplot as plt\n",
    "import matplotlib.gridspec as gridspec\n",
    "from unyt import yr, Myr, kpc, arcsec, nJy, Mpc, Msun, erg, s, Hz\n",
    "from astropy.cosmology import Planck18 as cosmo\n",
    "from scipy import signal\n",
    "import os \n",
    "import csv\n",
    "import resource\n",
    "\n",
    "\n",
    "from synthesizer.grid import Grid\n",
    "from synthesizer.parametric import SFH, ZDist\n",
    "from synthesizer.particle.stars import sample_sfhz\n",
    "from synthesizer.parametric import Stars as ParametricStars\n",
    "from synthesizer.particle.particles import CoordinateGenerator\n",
    "from synthesizer.filters import Filter, FilterCollection\n",
    "from synthesizer.sed import combine_list_of_seds\n",
    "\n",
    "from synthesizer.load_data.load_camels import load_CAMELS_IllustrisTNG\n",
    "from synthesizer.kernel_functions import Kernel\n",
    "\n",
    "from synthesizer.conversions import lnu_to_absolute_mag\n",
    "\n",
    "current_directory = os.getcwd()\n",
    "print(\"Current directory:\", current_directory)\n",
    "# Start the timer\n",
    "start_time = time.time()\n"
   ]
  },
  {
   "cell_type": "code",
   "execution_count": 2,
   "metadata": {},
   "outputs": [],
   "source": [
    "\n",
    "# Alternative method for LF:\n",
    "# try this method again, but using AB mag instead of mass, and suply your own bins (up to -17, say)\n",
    "def calc_lf(ab_mag, volume, massBinLimits):\n",
    "# OG:        hist, dummy = np.histogram(np.log10(mstar), bins = massBinLimits)\n",
    "        hist, dummy = np.histogram(ab_mag, bins = massBinLimits)\n",
    "        hist = np.float64(hist)\n",
    "        phi = (hist / volume) / (massBinLimits[1] - massBinLimits[0])\n",
    "        phi_sigma = (np.sqrt(hist) / volume) /\\\n",
    "                    (massBinLimits[1] - massBinLimits[0]) # Poisson errors\n",
    "        return phi, phi_sigma, hist\n",
    "    "
   ]
  },
  {
   "cell_type": "markdown",
   "metadata": {},
   "source": [
    "\n",
    "phi_arr =[] #phi\n",
    "phi_sigma_arr =[] # phi_sigma\n",
    "hist_arr = [] # hist\n",
    "z_arr = [] #redshift_074, \n",
    "abs_mag_arr = [] #absolute mag (th filter)\n",
    "Vcom_arr = [] # comoving vol\n",
    "massBinLimits_arr = []\n"
   ]
  },
  {
   "cell_type": "markdown",
   "metadata": {},
   "source": [
    "len(phi_arr)"
   ]
  },
  {
   "cell_type": "code",
   "execution_count": 10,
   "metadata": {},
   "outputs": [
    {
     "data": {
      "text/plain": [
       "['LH_0',\n",
       " 'LH_1',\n",
       " 'LH_2',\n",
       " 'LH_3',\n",
       " 'LH_4',\n",
       " 'LH_5',\n",
       " 'LH_6',\n",
       " 'LH_7',\n",
       " 'LH_8',\n",
       " 'LH_9',\n",
       " 'LH_10',\n",
       " 'LH_11',\n",
       " 'LH_12',\n",
       " 'LH_13',\n",
       " 'LH_14',\n",
       " 'LH_15',\n",
       " 'LH_16',\n",
       " 'LH_17',\n",
       " 'LH_18',\n",
       " 'LH_19',\n",
       " 'LH_20',\n",
       " 'LH_21',\n",
       " 'LH_22',\n",
       " 'LH_23',\n",
       " 'LH_24',\n",
       " 'LH_25',\n",
       " 'LH_26',\n",
       " 'LH_27',\n",
       " 'LH_28',\n",
       " 'LH_29',\n",
       " 'LH_30',\n",
       " 'LH_31',\n",
       " 'LH_32',\n",
       " 'LH_33',\n",
       " 'LH_34',\n",
       " 'LH_35',\n",
       " 'LH_36',\n",
       " 'LH_37',\n",
       " 'LH_38',\n",
       " 'LH_39',\n",
       " 'LH_40',\n",
       " 'LH_41',\n",
       " 'LH_42',\n",
       " 'LH_43',\n",
       " 'LH_44',\n",
       " 'LH_45',\n",
       " 'LH_46',\n",
       " 'LH_47',\n",
       " 'LH_48',\n",
       " 'LH_49',\n",
       " 'LH_50',\n",
       " 'LH_51',\n",
       " 'LH_52',\n",
       " 'LH_53',\n",
       " 'LH_54',\n",
       " 'LH_55',\n",
       " 'LH_56',\n",
       " 'LH_57',\n",
       " 'LH_58',\n",
       " 'LH_59',\n",
       " 'LH_60',\n",
       " 'LH_61',\n",
       " 'LH_62',\n",
       " 'LH_63',\n",
       " 'LH_64',\n",
       " 'LH_65',\n",
       " 'LH_66',\n",
       " 'LH_67',\n",
       " 'LH_68',\n",
       " 'LH_69',\n",
       " 'LH_70',\n",
       " 'LH_71',\n",
       " 'LH_72',\n",
       " 'LH_73',\n",
       " 'LH_74',\n",
       " 'LH_75',\n",
       " 'LH_76',\n",
       " 'LH_77',\n",
       " 'LH_78',\n",
       " 'LH_79',\n",
       " 'LH_80',\n",
       " 'LH_81',\n",
       " 'LH_82',\n",
       " 'LH_83',\n",
       " 'LH_84',\n",
       " 'LH_85',\n",
       " 'LH_86',\n",
       " 'LH_87',\n",
       " 'LH_88',\n",
       " 'LH_89',\n",
       " 'LH_90',\n",
       " 'LH_91',\n",
       " 'LH_92',\n",
       " 'LH_93',\n",
       " 'LH_94',\n",
       " 'LH_95',\n",
       " 'LH_96',\n",
       " 'LH_97',\n",
       " 'LH_98',\n",
       " 'LH_99',\n",
       " 'LH_100',\n",
       " 'LH_101',\n",
       " 'LH_102',\n",
       " 'LH_103',\n",
       " 'LH_104',\n",
       " 'LH_105',\n",
       " 'LH_106',\n",
       " 'LH_107',\n",
       " 'LH_108',\n",
       " 'LH_109',\n",
       " 'LH_110',\n",
       " 'LH_111',\n",
       " 'LH_112',\n",
       " 'LH_113',\n",
       " 'LH_114',\n",
       " 'LH_115',\n",
       " 'LH_116',\n",
       " 'LH_117',\n",
       " 'LH_118',\n",
       " 'LH_119',\n",
       " 'LH_120',\n",
       " 'LH_121',\n",
       " 'LH_122',\n",
       " 'LH_123',\n",
       " 'LH_124']"
      ]
     },
     "execution_count": 10,
     "metadata": {},
     "output_type": "execute_result"
    }
   ],
   "source": [
    "#directories = [f'LH_{i}' for i in range(1000)]\n",
    "# TEST:\n",
    "directories = [f'LH_{i}' for i in range(125)]\n",
    "directories"
   ]
  },
  {
   "cell_type": "code",
   "execution_count": 11,
   "metadata": {},
   "outputs": [
    {
     "data": {
      "text/plain": [
       "125"
      ]
     },
     "execution_count": 11,
     "metadata": {},
     "output_type": "execute_result"
    }
   ],
   "source": [
    "len(directories)"
   ]
  },
  {
   "cell_type": "code",
   "execution_count": 5,
   "metadata": {},
   "outputs": [
    {
     "name": "stderr",
     "output_type": "stream",
     "text": [
      "/srv/conda/envs/notebook/lib/python3.9/site-packages/unyt/array.py:1813: RuntimeWarning: divide by zero encountered in log10\n",
      "  out_arr = func(np.asarray(inp), out=out_func, **kwargs)\n",
      "/srv/conda/envs/notebook/lib/python3.9/site-packages/unyt/array.py:1938: RuntimeWarning: invalid value encountered in divide\n",
      "  out_arr = func(\n"
     ]
    },
    {
     "name": "stdout",
     "output_type": "stream",
     "text": [
      "Memory usage during loop:  1462640 bytes\n",
      "Memory usage during loop:  1794276 bytes\n"
     ]
    }
   ],
   "source": [
    "# Try data frame instead\n",
    "grid_name = \"bc03-2016-Miles_chabrier-0.1,100.hdf5\"\n",
    "grid_dir = \"/home/jovyan/\"\n",
    "grid = Grid(grid_name, grid_dir=grid_dir, read_lines=False)\n",
    "    \n",
    "# Create an empty dictionary to store your data\n",
    "data_dict = {}\n",
    "\n",
    "for LH_X in directories:\n",
    "\n",
    "    # get grid for all galaxies\n",
    "    # gives grid of metalicity and age which is used to map on our camels galaxies\n",
    "\n",
    "    # get gals\n",
    "    dir_ = '/home/jovyan/Data/Sims/IllustrisTNG/LH/' + LH_X\n",
    "    gals_074 = load_CAMELS_IllustrisTNG(\n",
    "        dir_,\n",
    "        snap_name='snapshot_074.hdf5', \n",
    "        fof_name='groups_074.hdf5',\n",
    "    )\n",
    "\n",
    "    cat_074 = dir_+'/groups_074.hdf5'\n",
    "    # open file\n",
    "    f = h5py.File(cat_074, 'r')\n",
    "\n",
    "    # read different attributes of the header\n",
    "    boxSize_074 = f['Header'].attrs[u'BoxSize']/1e3 #Mpc/h\n",
    "    redshift_074 = f['Header'].attrs[u'Redshift']\n",
    "\n",
    "\n",
    "    # Filter galaxies to only include those with 100 or more star particles\n",
    "    ## NEED TO ADD FILTER TO GET RID OF ANY GALAXIES WITH LESS THAN 100 star Particles!! This is the resolution limit!!\n",
    "    # Chris: when you load your galaxies in could you do a filter for those with at least 100 star particles? that's the resolution limit\n",
    "    gals_074 = [gal for gal in gals_074 if len(gal.stars.ages) >= 100]\n",
    "    spec_list = []\n",
    "    # Lets work with z=0 so gals_025\n",
    "    for i in gals_074:\n",
    "        gal = i\n",
    "        # get_spectra_incident An Sed object containing the stellar spectra\n",
    "        spec = gal.stars.get_spectra_incident(grid)\n",
    "        spec.get_fnu0()\n",
    "        spec_list.append(spec)\n",
    "\n",
    "    # combine\n",
    "    seds = combine_list_of_seds(spec_list)\n",
    "    filt1 = Filter(\"top_hat/filter.1\", lam_min=1400, lam_max=1600, new_lam=grid.lam)\n",
    "    filt_lst = [filt1]\n",
    "    seds.lnu # rest frame lumd\n",
    "    seds.get_photo_luminosities(filt_lst)\n",
    "    seds.photo_luminosities.photo_luminosities\n",
    "    abs_mag = lnu_to_absolute_mag(seds.photo_luminosities.photo_luminosities)\n",
    "    abs_mag_th = abs_mag[0]\n",
    "    # next steps, get luminosity function for these magnitudes\n",
    "    # co-moving volume: BoxSize_025 and redshift:\n",
    "    little_h =  0.6711\n",
    "    Vphys = (boxSize_074/little_h )**3\n",
    "    Vcom = Vphys * ((1+redshift_074)**3)\n",
    "\n",
    "    massBinLimits = np.arange(-22, -16, 0.5)\n",
    "    phi, phi_sigma, hist = calc_lf(abs_mag_th, Vcom, massBinLimits)\n",
    "    # NOTE: 074 is the same redshift as CV_0/025\n",
    "    massBinLimits = massBinLimits[:-1]\n",
    "\n",
    "    # Store the calculated values in the dictionary with LH_X as the key\n",
    "    data_dict[LH_X] = {\n",
    "        'phi': phi,\n",
    "        'phi_sigma': phi_sigma,\n",
    "        'hist': hist,\n",
    "        'massBinLimits': massBinLimits\n",
    "    }\n",
    "\n",
    "    # Get memory usage in bytes\n",
    "    memory_usage = resource.getrusage(resource.RUSAGE_SELF).ru_maxrss\n",
    "    print(\"Memory usage during loop: \", memory_usage/1000000, \"GB\")\n",
    "\n",
    "# done"
   ]
  },
  {
   "cell_type": "code",
   "execution_count": 6,
   "metadata": {},
   "outputs": [],
   "source": [
    "import pickle\n",
    "# Save the dictionary containing all data\n",
    "with open('/home/jovyan/output_test/LH_0-124.pkl', 'wb') as f:\n",
    "    pickle.dump(data_dict, f)"
   ]
  },
  {
   "cell_type": "markdown",
   "metadata": {},
   "source": [
    "# will do latest LH_ set in loop as a test\n",
    "label_z = 'z = 0.46'\n",
    "\n",
    "\n",
    "# Plot the luminosity function\n",
    "plt.errorbar(massBinLimits, phi, yerr=phi_sigma, fmt='o', color='blue',label=label_z)\n",
    "plt.xlabel('Absolute Magnitude (AB)')\n",
    "plt.ylabel('Number Density (Mpc^-3 mag^-1)')\n",
    "plt.yscale('log')\n",
    "\n",
    "plt.title('Luminosity Function XMM-OM filter')\n",
    "plt.grid(True)\n",
    "plt.show()"
   ]
  },
  {
   "cell_type": "code",
   "execution_count": 7,
   "metadata": {},
   "outputs": [
    {
     "name": "stdout",
     "output_type": "stream",
     "text": [
      "Elapsed time: 103.06453847885132 seconds\n"
     ]
    }
   ],
   "source": [
    "# Stop the timer\n",
    "end_time = time.time()\n",
    "\n",
    "# Calculate the elapsed time\n",
    "elapsed_time = end_time - start_time\n",
    "\n",
    "print(\"Elapsed time:\", elapsed_time, \"seconds\")"
   ]
  },
  {
   "cell_type": "code",
   "execution_count": 9,
   "metadata": {},
   "outputs": [
    {
     "name": "stdout",
     "output_type": "stream",
     "text": [
      "Memory usage end: 1.794276 bytes\n"
     ]
    }
   ],
   "source": [
    "# Get memory usage in bytes\n",
    "memory_usage = resource.getrusage(resource.RUSAGE_SELF).ru_maxrss\n",
    "print(\"Memory usage end:\", memory_usage/1000000, \"GB\")\n"
   ]
  },
  {
   "cell_type": "code",
   "execution_count": null,
   "metadata": {},
   "outputs": [],
   "source": []
  }
 ],
 "metadata": {
  "kernelspec": {
   "display_name": "Python 3 (ipykernel)",
   "language": "python",
   "name": "python3"
  },
  "language_info": {
   "codemirror_mode": {
    "name": "ipython",
    "version": 3
   },
   "file_extension": ".py",
   "mimetype": "text/x-python",
   "name": "python",
   "nbconvert_exporter": "python",
   "pygments_lexer": "ipython3",
   "version": "3.9.15"
  }
 },
 "nbformat": 4,
 "nbformat_minor": 2
}
