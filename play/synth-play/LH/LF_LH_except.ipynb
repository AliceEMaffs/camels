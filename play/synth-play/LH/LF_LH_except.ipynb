{
 "cells": [
  {
   "cell_type": "markdown",
   "metadata": {},
   "source": [
    "Absolute magnitude is defined to be the apparent magnitude an object would have if it were located at a distance of 10 parsecs.\n",
    "In astronomy, absolute magnitude (M) is a measure of the luminosity of a celestial object on an inverse logarithmic astronomical magnitude scale."
   ]
  },
  {
   "cell_type": "code",
   "execution_count": 1,
   "metadata": {},
   "outputs": [
    {
     "name": "stderr",
     "output_type": "stream",
     "text": [
      "/tmp/ipykernel_4896/2918952320.py:5: DeprecationWarning: \n",
      "Pyarrow will become a required dependency of pandas in the next major release of pandas (pandas 3.0),\n",
      "(to allow more performant data types, such as the Arrow string type, and better interoperability with other libraries)\n",
      "but was not found to be installed on your system.\n",
      "If this would cause problems for you,\n",
      "please provide us feedback at https://github.com/pandas-dev/pandas/issues/54466\n",
      "        \n",
      "  import pandas as pd\n"
     ]
    },
    {
     "name": "stdout",
     "output_type": "stream",
     "text": [
      "Current directory: /home/jovyan/camels/play/synth-play/LH\n"
     ]
    }
   ],
   "source": [
    "import time\n",
    "import numpy as np\n",
    "import h5py\n",
    "import hdf5plugin\n",
    "import pandas as pd\n",
    "import matplotlib as mpl\n",
    "import matplotlib.colors as cm\n",
    "import matplotlib.pyplot as plt\n",
    "import matplotlib.gridspec as gridspec\n",
    "from unyt import yr, Myr, kpc, arcsec, nJy, Mpc, Msun, erg, s, Hz\n",
    "from astropy.cosmology import Planck18 as cosmo\n",
    "from scipy import signal\n",
    "import os \n",
    "import csv\n",
    "import resource\n",
    "import pickle\n",
    "import shutil\n",
    "import json\n",
    "from synthesizer.grid import Grid\n",
    "from synthesizer.parametric import SFH, ZDist\n",
    "from synthesizer.particle.stars import sample_sfhz\n",
    "from synthesizer.parametric import Stars as ParametricStars\n",
    "from synthesizer.particle.particles import CoordinateGenerator\n",
    "from synthesizer.filters import Filter, FilterCollection\n",
    "from synthesizer.sed import combine_list_of_seds\n",
    "\n",
    "from synthesizer.load_data.load_camels import load_CAMELS_IllustrisTNG\n",
    "from synthesizer.kernel_functions import Kernel\n",
    "\n",
    "from synthesizer.conversions import lnu_to_absolute_mag\n",
    "\n",
    "# to clear output\n",
    "from IPython.display import clear_output\n",
    "\n",
    "current_directory = os.getcwd()\n",
    "print(\"Current directory:\", current_directory)\n",
    "# Start the timer\n",
    "start_time = time.time()\n"
   ]
  },
  {
   "cell_type": "code",
   "execution_count": 2,
   "metadata": {},
   "outputs": [],
   "source": [
    "\n",
    "# Alternative method for LF:\n",
    "# try this method again, but using AB mag instead of mass, and suply your own bins (up to -17, say)\n",
    "def calc_lf(ab_mag, volume, massBinLimits):\n",
    "# OG:        hist, dummy = np.histogram(np.log10(mstar), bins = massBinLimits)\n",
    "        hist, dummy = np.histogram(ab_mag, bins = massBinLimits)\n",
    "        hist = np.float64(hist)\n",
    "        phi = (hist / volume) / (massBinLimits[1] - massBinLimits[0])\n",
    "        phi_sigma = (np.sqrt(hist) / volume) /\\\n",
    "                    (massBinLimits[1] - massBinLimits[0]) # Poisson errors\n",
    "        return phi, phi_sigma, hist\n",
    "    "
   ]
  },
  {
   "cell_type": "markdown",
   "metadata": {},
   "source": [
    "\n",
    "phi_arr =[] #phi\n",
    "phi_sigma_arr =[] # phi_sigma\n",
    "hist_arr = [] # hist\n",
    "z_arr = [] #redshift_074, \n",
    "abs_mag_arr = [] #absolute mag (th filter)\n",
    "Vcom_arr = [] # comoving vol\n",
    "massBinLimits_arr = []\n"
   ]
  },
  {
   "cell_type": "markdown",
   "metadata": {},
   "source": [
    "len(phi_arr)"
   ]
  },
  {
   "cell_type": "code",
   "execution_count": 3,
   "metadata": {},
   "outputs": [
    {
     "data": {
      "text/plain": [
       "['LH_103']"
      ]
     },
     "execution_count": 3,
     "metadata": {},
     "output_type": "execute_result"
    }
   ],
   "source": [
    "#directories = [f'LH_{i}' for i in range(1000)]\n",
    "# TEST:\n",
    "# LH_50 ,LH_104 skipped. bad data, run again later.\n",
    "directories = [f'LH_{i}' for i in range(103, 104)]\n",
    "directories"
   ]
  },
  {
   "cell_type": "code",
   "execution_count": 4,
   "metadata": {},
   "outputs": [
    {
     "data": {
      "text/plain": [
       "1"
      ]
     },
     "execution_count": 4,
     "metadata": {},
     "output_type": "execute_result"
    }
   ],
   "source": [
    "len(directories)"
   ]
  },
  {
   "cell_type": "code",
   "execution_count": 5,
   "metadata": {},
   "outputs": [],
   "source": [
    "# Define the path to the log file\n",
    "log_file_path = \"/home/jovyan/camels/play/synth-play/LH/log.txt\"\n",
    "\n",
    "# Initialize the list of skipped directories\n",
    "skipped_directories = []\n",
    "\n",
    "# Function to log messages\n",
    "def log_message(message):\n",
    "    with open(log_file_path, 'a') as log_file:\n",
    "        log_file.write(message + '\\n')\n"
   ]
  },
  {
   "cell_type": "code",
   "execution_count": 6,
   "metadata": {},
   "outputs": [],
   "source": [
    "# Try data frame instead\n",
    "grid_name = \"bc03-2016-Miles_chabrier-0.1,100.hdf5\"\n",
    "grid_dir = \"/home/jovyan/\"\n",
    "grid = Grid(grid_name, grid_dir=grid_dir, read_lines=False)\n",
    "\n",
    "# Define the directory where the text files will be saved\n",
    "output_dir = \"/home/jovyan/camels/play/synth-play/LH/output/\"\n"
   ]
  },
  {
   "cell_type": "code",
   "execution_count": 7,
   "metadata": {},
   "outputs": [
    {
     "name": "stdout",
     "output_type": "stream",
     "text": [
      "\u001b[H\u001b[2J"
     ]
    }
   ],
   "source": [
    "# Loop over multiple LH directories\n",
    "for LH_X in directories:\n",
    "    try:\n",
    "        log_message(f\"Processing directory: {LH_X}\")\n",
    "\n",
    "        # Get gals\n",
    "        dir_ = '/home/jovyan/Data/Sims/IllustrisTNG/LH/' + LH_X\n",
    "\n",
    "        try:\n",
    "            gals_074 = load_CAMELS_IllustrisTNG(\n",
    "                dir_,\n",
    "                snap_name='snapshot_074.hdf5', \n",
    "                fof_name='groups_074.hdf5',\n",
    "                verbose=False  # Suppress output\n",
    "            )\n",
    "        except Exception as e:\n",
    "            log_message(f\"Error loading CAMELS data for {LH_X}: {e}\")\n",
    "            skipped_directories.append(LH_X)\n",
    "            continue\n",
    "\n",
    "        # Clear the output after each iteration\n",
    "        clear_output(wait=True)\n",
    "\n",
    "        try:\n",
    "            cat_074 = dir_+'/groups_074.hdf5'\n",
    "            # Open file\n",
    "            f_h5py = h5py.File(cat_074, 'r')\n",
    "\n",
    "            # Read different attributes of the header\n",
    "            boxSize_074 = f_h5py['Header'].attrs[u'BoxSize']/1e3 # Mpc/h\n",
    "            redshift_074 = f_h5py['Header'].attrs[u'Redshift']\n",
    "        except Exception as e:\n",
    "            log_message(f\"Error reading HDF5 file for {LH_X}: {e}\")\n",
    "            skipped_directories.append(LH_X)\n",
    "            continue\n",
    "\n",
    "        # Filter galaxies to only include those with 100 or more star particles\n",
    "        try:\n",
    "            gals_074 = [gal for gal in gals_074 if len(gal.stars.ages) >= 100]\n",
    "            spec_list = []\n",
    "            # Lets work with z=0 so gals_025\n",
    "            for i in gals_074:\n",
    "                gal = i\n",
    "                # Get spectra incident An Sed object containing the stellar spectra\n",
    "                spec = gal.stars.get_spectra_incident(grid)\n",
    "                spec.get_fnu0()\n",
    "                spec_list.append(spec)\n",
    "\n",
    "            # Combine\n",
    "            seds = combine_list_of_seds(spec_list)\n",
    "            filt1 = Filter(\"top_hat/filter.1\", lam_min=1400, lam_max=1600, new_lam=grid.lam)\n",
    "            filt_lst = [filt1]\n",
    "            seds.lnu # Rest frame lumd\n",
    "            seds.get_photo_luminosities(filt_lst)\n",
    "            seds.photo_luminosities.photo_luminosities\n",
    "            abs_mag = lnu_to_absolute_mag(seds.photo_luminosities.photo_luminosities)\n",
    "            abs_mag_th = abs_mag[0]\n",
    "            # Next steps, get luminosity function for these magnitudes\n",
    "            # Co-moving volume: BoxSize_025 and redshift:\n",
    "            little_h =  0.6711\n",
    "            Vphys = (boxSize_074/little_h )**3\n",
    "            Vcom = Vphys * ((1+redshift_074)**3)\n",
    "\n",
    "            massBinLimits = np.arange(-22, -16, 0.5)\n",
    "            phi, phi_sigma, hist = calc_lf(abs_mag_th, Vcom, massBinLimits)\n",
    "            # NOTE: 074 is the same redshift as CV_0/025\n",
    "            massBinLimits = massBinLimits[:-1]\n",
    "        except Exception as e:\n",
    "            log_message(f\"Error processing galaxy data for {LH_X}: {e}\")\n",
    "            skipped_directories.append(LH_X)\n",
    "            continue\n",
    "\n",
    "        # Define output file path\n",
    "        output_file = f\"{output_dir}{LH_X}.txt\"\n",
    "\n",
    "        try:\n",
    "            # Write the data to the text file line by line\n",
    "            with open(output_file, 'w') as txtfile:\n",
    "                # Write phi values\n",
    "                txtfile.write(\"phi\\n\")\n",
    "                for value in phi:\n",
    "                    txtfile.write(f\"{value}\\n\")\n",
    "\n",
    "                # Write phi_sigma values\n",
    "                txtfile.write(\"phi_sigma\\n\")\n",
    "                for value in phi_sigma:\n",
    "                    txtfile.write(f\"{value}\\n\")\n",
    "\n",
    "                # Write hist values\n",
    "                txtfile.write(\"hist\\n\")\n",
    "                for value in hist:\n",
    "                    txtfile.write(f\"{value}\\n\")\n",
    "\n",
    "                # Write massBinLimits values\n",
    "                txtfile.write(\"massBinLimits\\n\")\n",
    "                for value in massBinLimits:\n",
    "                    txtfile.write(f\"{value}\\n\")\n",
    "            \n",
    "            log_message(f\"Written out: {output_file}\")\n",
    "        except Exception as e:\n",
    "            log_message(f\"Error writing output file for {LH_X}: {e}\")\n",
    "            skipped_directories.append(LH_X)\n",
    "            continue\n",
    "\n",
    "        # Clear the terminal output after each iteration\n",
    "        os.system('cls' if os.name == 'nt' else 'clear')       \n",
    "\n",
    "    except Exception as e:\n",
    "        log_message(f\"Error processing {LH_X}: {e}\")\n",
    "        skipped_directories.append(LH_X)\n",
    "\n",
    "# Write the skipped directories to the log file at the end\n",
    "if skipped_directories:\n",
    "    log_message(\"Skipped directories:\")\n",
    "    for dir in skipped_directories:\n",
    "        log_message(dir)"
   ]
  },
  {
   "cell_type": "markdown",
   "metadata": {},
   "source": [
    "# Try data frame instead\n",
    "grid_name = \"bc03-2016-Miles_chabrier-0.1,100.hdf5\"\n",
    "grid_dir = \"/home/jovyan/\"\n",
    "grid = Grid(grid_name, grid_dir=grid_dir, read_lines=False)\n",
    "\n",
    "# Define the directory where the text files will be saved\n",
    "output_dir = \"/home/jovyan/camels/play/synth-play/LH/output/\"\n",
    "\n",
    "for LH_X in directories:\n",
    "    try:\n",
    "        # get grid for all galaxies\n",
    "        # gives grid of metalicity and age which is used to map on our camels galaxies\n",
    "\n",
    "        # get gals\n",
    "        dir_ = '/home/jovyan/Data/Sims/IllustrisTNG/LH/' + LH_X\n",
    "        gals_074 = load_CAMELS_IllustrisTNG(\n",
    "            dir_,\n",
    "            snap_name='snapshot_074.hdf5', \n",
    "            fof_name='groups_074.hdf5',\n",
    "            verbose=False  # Suppress output\n",
    "        )\n",
    "        # Clear the output after each iteration\n",
    "        clear_output(wait=True)\n",
    "\n",
    "        cat_074 = dir_+'/groups_074.hdf5'\n",
    "        # open file\n",
    "        f_h5py = h5py.File(cat_074, 'r')\n",
    "\n",
    "        # read different attributes of the header\n",
    "        boxSize_074 = f_h5py['Header'].attrs[u'BoxSize']/1e3 #Mpc/h\n",
    "        redshift_074 = f_h5py['Header'].attrs[u'Redshift']\n",
    "\n",
    "        # Filter galaxies to only include those with 100 or more star particles\n",
    "        gals_074 = [gal for gal in gals_074 if len(gal.stars.ages) >= 100]\n",
    "        spec_list = []\n",
    "        # Lets work with z=0 so gals_025\n",
    "        for i in gals_074:\n",
    "            gal = i\n",
    "            # get_spectra_incident An Sed object containing the stellar spectra\n",
    "            spec = gal.stars.get_spectra_incident(grid)\n",
    "            spec.get_fnu0()\n",
    "            spec_list.append(spec)\n",
    "\n",
    "        # combine\n",
    "        seds = combine_list_of_seds(spec_list)\n",
    "        filt1 = Filter(\"top_hat/filter.1\", lam_min=1400, lam_max=1600, new_lam=grid.lam)\n",
    "        filt_lst = [filt1]\n",
    "        seds.lnu # rest frame lumd\n",
    "        seds.get_photo_luminosities(filt_lst)\n",
    "        seds.photo_luminosities.photo_luminosities\n",
    "        abs_mag = lnu_to_absolute_mag(seds.photo_luminosities.photo_luminosities)\n",
    "        abs_mag_th = abs_mag[0]\n",
    "        # next steps, get luminosity function for these magnitudes\n",
    "        # co-moving volume: BoxSize_025 and redshift:\n",
    "        little_h =  0.6711\n",
    "        Vphys = (boxSize_074/little_h )**3\n",
    "        Vcom = Vphys * ((1+redshift_074)**3)\n",
    "\n",
    "        massBinLimits = np.arange(-22, -16, 0.5)\n",
    "        phi, phi_sigma, hist = calc_lf(abs_mag_th, Vcom, massBinLimits)\n",
    "        # NOTE: 074 is the same redshift as CV_0/025\n",
    "        massBinLimits = massBinLimits[:-1]\n",
    "\n",
    "        # Define output file path\n",
    "        output_file = f\"{output_dir}{LH_X}.txt\"\n",
    "\n",
    "        # Write the data to the text file line by line\n",
    "        with open(output_file, 'w') as txtfile:\n",
    "            # Write phi values\n",
    "            txtfile.write(\"phi\\n\")\n",
    "            for value in phi:\n",
    "                txtfile.write(f\"{value}\\n\")\n",
    "\n",
    "            # Write phi_sigma values\n",
    "            txtfile.write(\"phi_sigma\\n\")\n",
    "            for value in phi_sigma:\n",
    "                txtfile.write(f\"{value}\\n\")\n",
    "\n",
    "            # Write hist values\n",
    "            txtfile.write(\"hist\\n\")\n",
    "            for value in hist:\n",
    "                txtfile.write(f\"{value}\\n\")\n",
    "\n",
    "            # Write massBinLimits values\n",
    "            txtfile.write(\"massBinLimits\\n\")\n",
    "            for value in massBinLimits:\n",
    "                txtfile.write(f\"{value}\\n\")\n",
    "\n",
    "        print('Written out: /home/jovyan/camels/play/synth-play/LH/output/',LH_X)\n",
    "\n",
    "        # Clear the terminal output after each iteration\n",
    "        os.system('cls' if os.name == 'nt' else 'clear')       \n",
    "        \n",
    "    except Exception as e:\n",
    "        error_message = f\"Error processing {LH_X}: {e}\"\n",
    "        print(error_message)\n",
    "        skipped_directories.append(LH_X)\n",
    "\n",
    "        # Append the error message to the log file\n",
    "        with open(log_file_path, 'a') as log_file:\n",
    "            log_file.write(error_message + '\\n')\n",
    "\n",
    "# Write the skipped directories to the log file at the end\n",
    "if skipped_directories:\n",
    "    with open(log_file_path, 'a') as log_file:\n",
    "        log_file.write(\"Skipped directories:\\n\")\n",
    "        for dir in skipped_directories:\n",
    "            log_file.write(f\"{dir}\\n\")"
   ]
  },
  {
   "cell_type": "code",
   "execution_count": 8,
   "metadata": {},
   "outputs": [
    {
     "name": "stdout",
     "output_type": "stream",
     "text": [
      "Elapsed time: 52.06751537322998 seconds\n"
     ]
    }
   ],
   "source": [
    "# Stop the timer\n",
    "end_time = time.time()\n",
    "\n",
    "# Calculate the elapsed time\n",
    "elapsed_time = end_time - start_time\n",
    "\n",
    "print(\"Elapsed time:\", elapsed_time, \"seconds\")"
   ]
  },
  {
   "cell_type": "code",
   "execution_count": 9,
   "metadata": {},
   "outputs": [
    {
     "name": "stdout",
     "output_type": "stream",
     "text": [
      "Memory usage end: 1.380668 GB\n"
     ]
    }
   ],
   "source": [
    "# Get memory usage in bytes\n",
    "memory_usage = resource.getrusage(resource.RUSAGE_SELF).ru_maxrss\n",
    "print(\"Memory usage end:\", memory_usage/1000000, \"GB\")\n"
   ]
  },
  {
   "cell_type": "markdown",
   "metadata": {},
   "source": [
    "# will do latest LH_ set in loop as a test\n",
    "label_z = 'z = 0.46'\n",
    "\n",
    "\n",
    "# Plot the luminosity function\n",
    "plt.errorbar(massBinLimits, phi, yerr=phi_sigma, fmt='o', color='blue',label=label_z)\n",
    "plt.xlabel('Absolute Magnitude (AB)')\n",
    "plt.ylabel('Number Density (Mpc^-3 mag^-1)')\n",
    "plt.yscale('log')\n",
    "\n",
    "plt.title('Luminosity Function XMM-OM filter')\n",
    "plt.grid(True)\n",
    "plt.show()"
   ]
  },
  {
   "cell_type": "code",
   "execution_count": 10,
   "metadata": {},
   "outputs": [
    {
     "data": {
      "text/plain": [
       "array([[-19.54182144, -20.0549113 , -20.69883142, -20.59492334,\n",
       "        -17.18691917, -18.51849863, -13.61541625, -13.12823184,\n",
       "        -18.13124909, -16.66494465, -18.35906776, -16.73548857,\n",
       "        -17.69217612, -20.96050236, -21.45496524, -14.81090995,\n",
       "        -14.05863388, -18.07229566, -11.18925912, -18.86385328,\n",
       "        -17.73581603, -17.53510969, -19.9176319 , -16.66889695,\n",
       "        -19.7150787 , -19.71343835, -19.65289266, -18.78715009,\n",
       "        -19.98445275, -12.85366549, -16.63858048, -19.95581202,\n",
       "        -13.72951681, -11.10135691, -16.34888551, -17.09741396,\n",
       "        -17.73220836, -15.08822369, -19.03684578, -19.27483154,\n",
       "        -18.54618593, -17.07848289, -18.71254763, -14.48181468,\n",
       "        -15.16783115, -20.47752014, -16.98352629, -21.05523688,\n",
       "        -18.67972976, -16.30807114, -19.54914509, -19.53310287,\n",
       "        -16.84173622, -18.11499731, -19.6765574 , -12.15179144,\n",
       "        -10.44755494, -16.62082855, -21.8059311 , -20.23460798,\n",
       "        -19.67327804, -19.16349838, -17.83584321, -13.77716583,\n",
       "        -17.34725285, -20.33001221, -21.95503182, -21.03642721,\n",
       "        -18.63742212, -19.36900831, -17.98888546, -16.76697922,\n",
       "        -19.59352968, -19.6846348 , -20.74313323, -18.51686885,\n",
       "        -20.01413996, -18.06984477, -21.15330351, -20.53070993,\n",
       "        -20.41256261, -17.82341999, -21.38546814, -17.29248318,\n",
       "        -19.57415795, -20.97310588, -18.29525406, -18.69126823,\n",
       "        -20.42201941, -20.0619693 , -12.40360932, -15.56975742,\n",
       "        -20.2157385 , -10.83798121, -19.42528683, -19.88205195,\n",
       "        -19.68147661, -19.75691952, -15.07402611, -19.94519438,\n",
       "        -14.70770436, -22.45850141, -18.69075958, -20.70545164,\n",
       "        -20.8064785 , -16.92363357, -19.1466226 , -18.72191695,\n",
       "        -20.64073794, -19.22659858, -20.49232365, -16.18105955,\n",
       "        -19.8868379 , -14.13797924, -19.19549526, -19.95160561,\n",
       "        -17.81583837, -15.0950257 , -12.56023211, -18.83977235,\n",
       "        -18.88526418, -14.59275198, -20.80666569, -19.78310618,\n",
       "        -20.32343725, -19.23802471, -20.00189521, -19.20150477,\n",
       "        -19.9889555 , -19.57135386, -19.33639859, -16.99253807,\n",
       "        -20.61388339, -12.88840767, -11.97372915, -18.87241539,\n",
       "        -21.1173821 , -18.62595495, -20.88538155, -20.37731064,\n",
       "        -16.9808614 , -20.23174654, -21.14758686, -18.43323769,\n",
       "        -16.11030641, -17.48658081, -19.5245634 , -19.67338743,\n",
       "        -17.78693106, -16.23658412, -20.4857149 , -20.19291743,\n",
       "        -19.15296882, -18.92396622, -16.38126874, -17.59704075,\n",
       "        -17.5058811 , -19.98827256, -17.93319533, -19.36701562,\n",
       "        -19.25639914, -16.26981468, -18.4729256 , -19.92770483,\n",
       "        -16.27500215, -19.21739174, -18.36252856, -18.83497141,\n",
       "        -12.0235912 , -18.87458884, -19.62928039, -16.57845958,\n",
       "        -18.49116193, -16.07031409, -17.81542448, -17.33224582,\n",
       "        -17.4748836 , -17.6042958 , -20.144255  , -16.35899655,\n",
       "        -18.06186093, -19.89944482, -19.84729363, -18.87850752,\n",
       "        -16.93801892, -18.42542926, -17.42764953, -18.08085835,\n",
       "        -16.92495255, -10.67674027, -13.52635845, -19.88212086,\n",
       "        -14.97228642, -15.9511636 , -17.98278039, -16.93171394,\n",
       "        -17.96987938, -16.46694805, -18.07550167, -17.7428561 ,\n",
       "        -20.21946482, -16.44215886, -16.92991148, -16.14408337,\n",
       "        -17.78282239, -15.90797618, -15.96333902]])"
      ]
     },
     "execution_count": 10,
     "metadata": {},
     "output_type": "execute_result"
    }
   ],
   "source": [
    "abs_mag"
   ]
  },
  {
   "cell_type": "code",
   "execution_count": null,
   "metadata": {},
   "outputs": [],
   "source": []
  }
 ],
 "metadata": {
  "kernelspec": {
   "display_name": "Python 3 (ipykernel)",
   "language": "python",
   "name": "python3"
  },
  "language_info": {
   "codemirror_mode": {
    "name": "ipython",
    "version": 3
   },
   "file_extension": ".py",
   "mimetype": "text/x-python",
   "name": "python",
   "nbconvert_exporter": "python",
   "pygments_lexer": "ipython3",
   "version": "3.9.15"
  }
 },
 "nbformat": 4,
 "nbformat_minor": 2
}
