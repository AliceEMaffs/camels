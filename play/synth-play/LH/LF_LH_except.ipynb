{
 "cells": [
  {
   "cell_type": "markdown",
   "metadata": {},
   "source": [
    "Absolute magnitude is defined to be the apparent magnitude an object would have if it were located at a distance of 10 parsecs.\n",
    "In astronomy, absolute magnitude (M) is a measure of the luminosity of a celestial object on an inverse logarithmic astronomical magnitude scale."
   ]
  },
  {
   "cell_type": "code",
   "execution_count": 1,
   "metadata": {},
   "outputs": [
    {
     "name": "stderr",
     "output_type": "stream",
     "text": [
      "/tmp/ipykernel_10968/2918952320.py:5: DeprecationWarning: \n",
      "Pyarrow will become a required dependency of pandas in the next major release of pandas (pandas 3.0),\n",
      "(to allow more performant data types, such as the Arrow string type, and better interoperability with other libraries)\n",
      "but was not found to be installed on your system.\n",
      "If this would cause problems for you,\n",
      "please provide us feedback at https://github.com/pandas-dev/pandas/issues/54466\n",
      "        \n",
      "  import pandas as pd\n"
     ]
    },
    {
     "name": "stdout",
     "output_type": "stream",
     "text": [
      "Current directory: /home/jovyan/camels/play/synth-play/LH\n"
     ]
    }
   ],
   "source": [
    "import time\n",
    "import numpy as np\n",
    "import h5py\n",
    "import hdf5plugin\n",
    "import pandas as pd\n",
    "import matplotlib as mpl\n",
    "import matplotlib.colors as cm\n",
    "import matplotlib.pyplot as plt\n",
    "import matplotlib.gridspec as gridspec\n",
    "from unyt import yr, Myr, kpc, arcsec, nJy, Mpc, Msun, erg, s, Hz\n",
    "from astropy.cosmology import Planck18 as cosmo\n",
    "from scipy import signal\n",
    "import os \n",
    "import csv\n",
    "import resource\n",
    "import pickle\n",
    "import shutil\n",
    "import json\n",
    "from synthesizer.grid import Grid\n",
    "from synthesizer.parametric import SFH, ZDist\n",
    "from synthesizer.particle.stars import sample_sfhz\n",
    "from synthesizer.parametric import Stars as ParametricStars\n",
    "from synthesizer.particle.particles import CoordinateGenerator\n",
    "from synthesizer.filters import Filter, FilterCollection\n",
    "from synthesizer.sed import combine_list_of_seds\n",
    "\n",
    "from synthesizer.load_data.load_camels import load_CAMELS_IllustrisTNG\n",
    "from synthesizer.kernel_functions import Kernel\n",
    "\n",
    "from synthesizer.conversions import lnu_to_absolute_mag\n",
    "\n",
    "# to clear output\n",
    "from IPython.display import clear_output\n",
    "\n",
    "current_directory = os.getcwd()\n",
    "print(\"Current directory:\", current_directory)\n",
    "# Start the timer\n",
    "start_time = time.time()\n"
   ]
  },
  {
   "cell_type": "code",
   "execution_count": 2,
   "metadata": {},
   "outputs": [],
   "source": [
    "\n",
    "# Alternative method for LF:\n",
    "# try this method again, but using AB mag instead of mass, and suply your own bins (up to -17, say)\n",
    "def calc_lf(ab_mag, volume, massBinLimits):\n",
    "# OG:        hist, dummy = np.histogram(np.log10(mstar), bins = massBinLimits)\n",
    "        hist, dummy = np.histogram(ab_mag, bins = massBinLimits)\n",
    "        hist = np.float64(hist)\n",
    "        phi = (hist / volume) / (massBinLimits[1] - massBinLimits[0])\n",
    "        phi_sigma = (np.sqrt(hist) / volume) /\\\n",
    "                    (massBinLimits[1] - massBinLimits[0]) # Poisson errors\n",
    "        return phi, phi_sigma, hist\n",
    "    "
   ]
  },
  {
   "cell_type": "markdown",
   "metadata": {},
   "source": [
    "\n",
    "phi_arr =[] #phi\n",
    "phi_sigma_arr =[] # phi_sigma\n",
    "hist_arr = [] # hist\n",
    "z_arr = [] #redshift_074, \n",
    "abs_mag_arr = [] #absolute mag (th filter)\n",
    "Vcom_arr = [] # comoving vol\n",
    "massBinLimits_arr = []\n"
   ]
  },
  {
   "cell_type": "markdown",
   "metadata": {},
   "source": [
    "len(phi_arr)"
   ]
  },
  {
   "cell_type": "code",
   "execution_count": 3,
   "metadata": {},
   "outputs": [
    {
     "data": {
      "text/plain": [
       "['LH_178',\n",
       " 'LH_179',\n",
       " 'LH_180',\n",
       " 'LH_181',\n",
       " 'LH_182',\n",
       " 'LH_183',\n",
       " 'LH_184',\n",
       " 'LH_185',\n",
       " 'LH_186',\n",
       " 'LH_187',\n",
       " 'LH_188',\n",
       " 'LH_189',\n",
       " 'LH_190',\n",
       " 'LH_191',\n",
       " 'LH_192',\n",
       " 'LH_193',\n",
       " 'LH_194',\n",
       " 'LH_195',\n",
       " 'LH_196',\n",
       " 'LH_197',\n",
       " 'LH_198',\n",
       " 'LH_199']"
      ]
     },
     "execution_count": 3,
     "metadata": {},
     "output_type": "execute_result"
    }
   ],
   "source": [
    "#directories = [f'LH_{i}' for i in range(1000)]\n",
    "# TEST:\n",
    "# LH_50 ,LH_104, LH_177, LH_426,LH_466, LH_513, LH_559, 630, LH_826 , LH_50 bad data, skipped run again later.\n",
    "directories = [f'LH_{i}' for i in range(178, 200)]\n",
    "directories"
   ]
  },
  {
   "cell_type": "code",
   "execution_count": 4,
   "metadata": {},
   "outputs": [
    {
     "data": {
      "text/plain": [
       "22"
      ]
     },
     "execution_count": 4,
     "metadata": {},
     "output_type": "execute_result"
    }
   ],
   "source": [
    "len(directories)"
   ]
  },
  {
   "cell_type": "code",
   "execution_count": 5,
   "metadata": {},
   "outputs": [],
   "source": [
    "# Define the path to the log file\n",
    "log_file_path = \"/home/jovyan/camels/play/synth-play/LH/log.txt\"\n",
    "\n",
    "# Initialize the list of skipped directories\n",
    "skipped_directories = []\n",
    "\n",
    "# Function to log messages\n",
    "def log_message(message):\n",
    "    with open(log_file_path, 'a') as log_file:\n",
    "        log_file.write(message + '\\n')\n"
   ]
  },
  {
   "cell_type": "code",
   "execution_count": 6,
   "metadata": {},
   "outputs": [
    {
     "name": "stdout",
     "output_type": "stream",
     "text": [
      "(221, 7, 401)\n"
     ]
    }
   ],
   "source": [
    "grid_name = \"bc03-2016-Miles_chabrier-0.1,100.hdf5\"\n",
    "grid_dir = \"/home/jovyan/\"\n",
    "\n",
    "# Create a new grid\n",
    "#grid = Grid(grid_name, grid_dir=grid_dir, read_lines=False)\n",
    "\n",
    "# instead of using a filter, which requires us to load in large SEDs first, pass the grid wavelength\n",
    "#filt1 = Filter(\"top_hat/filter.1\", lam_min=1400, lam_max=1600, new_lam=grid.lam)\n",
    "#filt_lst = [filt1]\n",
    "\n",
    "# Define a new set of wavelengths\n",
    "lims_lams=(1400, 1600)\n",
    "\n",
    "grid = Grid(grid_name, grid_dir=grid_dir, lam_lims=lims_lams, read_lines=False)\n",
    "print(grid.shape)\n"
   ]
  },
  {
   "cell_type": "code",
   "execution_count": 7,
   "metadata": {},
   "outputs": [],
   "source": [
    "\n",
    "# Define the directory where the text files will be saved\n",
    "output_dir = \"/home/jovyan/camels/play/synth-play/LH/output/\"\n"
   ]
  },
  {
   "cell_type": "code",
   "execution_count": 8,
   "metadata": {},
   "outputs": [
    {
     "name": "stdout",
     "output_type": "stream",
     "text": [
      "\u001b[H\u001b[2J"
     ]
    }
   ],
   "source": [
    "# Loop over multiple LH directories\n",
    "for LH_X in directories:\n",
    "    try:\n",
    "        log_message(f\"Processing directory: {LH_X}\")\n",
    "\n",
    "        # Get gals\n",
    "        dir_ = '/home/jovyan/Data/Sims/IllustrisTNG/LH/' + LH_X\n",
    "\n",
    "        try:\n",
    "            gals_074 = load_CAMELS_IllustrisTNG(\n",
    "                dir_,\n",
    "                snap_name='snapshot_074.hdf5', \n",
    "                fof_name='groups_074.hdf5',\n",
    "                verbose=False  # Suppress output\n",
    "            )\n",
    "        except Exception as e:\n",
    "            log_message(f\"Error loading CAMELS data for {LH_X}: {e}\")\n",
    "            skipped_directories.append(LH_X)\n",
    "            continue\n",
    "\n",
    "        # Clear the output after each iteration\n",
    "        clear_output(wait=True)\n",
    "\n",
    "        try:\n",
    "            cat_074 = dir_+'/groups_074.hdf5'\n",
    "            # Open file\n",
    "            f_h5py = h5py.File(cat_074, 'r')\n",
    "\n",
    "            # Read different attributes of the header\n",
    "            boxSize_074 = f_h5py['Header'].attrs[u'BoxSize']/1e3 # Mpc/h\n",
    "            redshift_074 = f_h5py['Header'].attrs[u'Redshift']\n",
    "        except Exception as e:\n",
    "            log_message(f\"Error reading HDF5 file for {LH_X}: {e}\")\n",
    "            skipped_directories.append(LH_X)\n",
    "            continue\n",
    "\n",
    "        # Filter galaxies to only include those with 100 or more star particles\n",
    "        try:\n",
    "            gals_074 = [gal for gal in gals_074 if len(gal.stars.ages) >= 100]\n",
    "            spec_list = []\n",
    "            # Lets work with z=0 so gals_025\n",
    "            for i in gals_074:\n",
    "                gal = i\n",
    "                # Get spectra incident An Sed object containing the stellar spectra\n",
    "                spec = gal.stars.get_spectra_incident(grid)\n",
    "                spec.get_fnu0()\n",
    "                spec_list.append(spec)\n",
    "\n",
    "            # Combine\n",
    "            seds = combine_list_of_seds(spec_list)\n",
    "            filt1 = Filter(\"top_hat/filter.1\", lam_min=1400, lam_max=1600, new_lam=grid.lam)\n",
    "            filt_lst = [filt1]\n",
    "            seds.lnu # Rest frame lumd\n",
    "            seds.get_photo_luminosities(filt_lst)\n",
    "            seds.photo_luminosities.photo_luminosities\n",
    "            abs_mag = lnu_to_absolute_mag(seds.photo_luminosities.photo_luminosities)\n",
    "            abs_mag_th = abs_mag[0]\n",
    "            # Next steps, get luminosity function for these magnitudes\n",
    "            # Co-moving volume: BoxSize_025 and redshift:\n",
    "            little_h =  0.6711\n",
    "            Vphys = (boxSize_074/little_h )**3\n",
    "            Vcom = Vphys * ((1+redshift_074)**3)\n",
    "\n",
    "            massBinLimits = np.arange(-22, -16, 0.5)\n",
    "            phi, phi_sigma, hist = calc_lf(abs_mag_th, Vcom, massBinLimits)\n",
    "            # NOTE: 074 is the same redshift as CV_0/025\n",
    "            massBinLimits = massBinLimits[:-1]\n",
    "        except Exception as e:\n",
    "            log_message(f\"Error processing galaxy data for {LH_X}: {e}\")\n",
    "            skipped_directories.append(LH_X)\n",
    "            continue\n",
    "\n",
    "        # Define output file path\n",
    "        output_file = f\"{output_dir}{LH_X}.txt\"\n",
    "\n",
    "        try:\n",
    "            # Write the data to the text file line by line\n",
    "            with open(output_file, 'w') as txtfile:\n",
    "                # Write phi values\n",
    "                txtfile.write(\"phi\\n\")\n",
    "                for value in phi:\n",
    "                    txtfile.write(f\"{value}\\n\")\n",
    "\n",
    "                # Write phi_sigma values\n",
    "                txtfile.write(\"phi_sigma\\n\")\n",
    "                for value in phi_sigma:\n",
    "                    txtfile.write(f\"{value}\\n\")\n",
    "\n",
    "                # Write hist values\n",
    "                txtfile.write(\"hist\\n\")\n",
    "                for value in hist:\n",
    "                    txtfile.write(f\"{value}\\n\")\n",
    "\n",
    "                # Write massBinLimits values\n",
    "                txtfile.write(\"massBinLimits\\n\")\n",
    "                for value in massBinLimits:\n",
    "                    txtfile.write(f\"{value}\\n\")\n",
    "            \n",
    "            log_message(f\"Written out: {output_file}\")\n",
    "        except Exception as e:\n",
    "            log_message(f\"Error writing output file for {LH_X}: {e}\")\n",
    "            skipped_directories.append(LH_X)\n",
    "            continue\n",
    "\n",
    "        # Clear the terminal output after each iteration\n",
    "        os.system('cls' if os.name == 'nt' else 'clear')       \n",
    "\n",
    "    except Exception as e:\n",
    "        log_message(f\"Error processing {LH_X}: {e}\")\n",
    "        skipped_directories.append(LH_X)\n",
    "\n",
    "# Write the skipped directories to the log file at the end\n",
    "if skipped_directories:\n",
    "    log_message(\"Skipped directories:\")\n",
    "    for dir in skipped_directories:\n",
    "        log_message(dir)"
   ]
  },
  {
   "cell_type": "markdown",
   "metadata": {},
   "source": [
    "# Try data frame instead\n",
    "grid_name = \"bc03-2016-Miles_chabrier-0.1,100.hdf5\"\n",
    "grid_dir = \"/home/jovyan/\"\n",
    "grid = Grid(grid_name, grid_dir=grid_dir, read_lines=False)\n",
    "\n",
    "# Define the directory where the text files will be saved\n",
    "output_dir = \"/home/jovyan/camels/play/synth-play/LH/output/\"\n",
    "\n",
    "for LH_X in directories:\n",
    "    try:\n",
    "        # get grid for all galaxies\n",
    "        # gives grid of metalicity and age which is used to map on our camels galaxies\n",
    "\n",
    "        # get gals\n",
    "        dir_ = '/home/jovyan/Data/Sims/IllustrisTNG/LH/' + LH_X\n",
    "        gals_074 = load_CAMELS_IllustrisTNG(\n",
    "            dir_,\n",
    "            snap_name='snapshot_074.hdf5', \n",
    "            fof_name='groups_074.hdf5',\n",
    "            verbose=False  # Suppress output\n",
    "        )\n",
    "        # Clear the output after each iteration\n",
    "        clear_output(wait=True)\n",
    "\n",
    "        cat_074 = dir_+'/groups_074.hdf5'\n",
    "        # open file\n",
    "        f_h5py = h5py.File(cat_074, 'r')\n",
    "\n",
    "        # read different attributes of the header\n",
    "        boxSize_074 = f_h5py['Header'].attrs[u'BoxSize']/1e3 #Mpc/h\n",
    "        redshift_074 = f_h5py['Header'].attrs[u'Redshift']\n",
    "\n",
    "        # Filter galaxies to only include those with 100 or more star particles\n",
    "        gals_074 = [gal for gal in gals_074 if len(gal.stars.ages) >= 100]\n",
    "        spec_list = []\n",
    "        # Lets work with z=0 so gals_025\n",
    "        for i in gals_074:\n",
    "            gal = i\n",
    "            # get_spectra_incident An Sed object containing the stellar spectra\n",
    "            spec = gal.stars.get_spectra_incident(grid)\n",
    "            spec.get_fnu0()\n",
    "            spec_list.append(spec)\n",
    "\n",
    "        # combine\n",
    "        seds = combine_list_of_seds(spec_list)\n",
    "        filt1 = Filter(\"top_hat/filter.1\", lam_min=1400, lam_max=1600, new_lam=grid.lam)\n",
    "        filt_lst = [filt1]\n",
    "        seds.lnu # rest frame lumd\n",
    "        seds.get_photo_luminosities(filt_lst)\n",
    "        seds.photo_luminosities.photo_luminosities\n",
    "        abs_mag = lnu_to_absolute_mag(seds.photo_luminosities.photo_luminosities)\n",
    "        abs_mag_th = abs_mag[0]\n",
    "        # next steps, get luminosity function for these magnitudes\n",
    "        # co-moving volume: BoxSize_025 and redshift:\n",
    "        little_h =  0.6711\n",
    "        Vphys = (boxSize_074/little_h )**3\n",
    "        Vcom = Vphys * ((1+redshift_074)**3)\n",
    "\n",
    "        massBinLimits = np.arange(-22, -16, 0.5)\n",
    "        phi, phi_sigma, hist = calc_lf(abs_mag_th, Vcom, massBinLimits)\n",
    "        # NOTE: 074 is the same redshift as CV_0/025\n",
    "        massBinLimits = massBinLimits[:-1]\n",
    "\n",
    "        # Define output file path\n",
    "        output_file = f\"{output_dir}{LH_X}.txt\"\n",
    "\n",
    "        # Write the data to the text file line by line\n",
    "        with open(output_file, 'w') as txtfile:\n",
    "            # Write phi values\n",
    "            txtfile.write(\"phi\\n\")\n",
    "            for value in phi:\n",
    "                txtfile.write(f\"{value}\\n\")\n",
    "\n",
    "            # Write phi_sigma values\n",
    "            txtfile.write(\"phi_sigma\\n\")\n",
    "            for value in phi_sigma:\n",
    "                txtfile.write(f\"{value}\\n\")\n",
    "\n",
    "            # Write hist values\n",
    "            txtfile.write(\"hist\\n\")\n",
    "            for value in hist:\n",
    "                txtfile.write(f\"{value}\\n\")\n",
    "\n",
    "            # Write massBinLimits values\n",
    "            txtfile.write(\"massBinLimits\\n\")\n",
    "            for value in massBinLimits:\n",
    "                txtfile.write(f\"{value}\\n\")\n",
    "\n",
    "        print('Written out: /home/jovyan/camels/play/synth-play/LH/output/',LH_X)\n",
    "\n",
    "        # Clear the terminal output after each iteration\n",
    "        os.system('cls' if os.name == 'nt' else 'clear')       \n",
    "        \n",
    "    except Exception as e:\n",
    "        error_message = f\"Error processing {LH_X}: {e}\"\n",
    "        print(error_message)\n",
    "        skipped_directories.append(LH_X)\n",
    "\n",
    "        # Append the error message to the log file\n",
    "        with open(log_file_path, 'a') as log_file:\n",
    "            log_file.write(error_message + '\\n')\n",
    "\n",
    "# Write the skipped directories to the log file at the end\n",
    "if skipped_directories:\n",
    "    with open(log_file_path, 'a') as log_file:\n",
    "        log_file.write(\"Skipped directories:\\n\")\n",
    "        for dir in skipped_directories:\n",
    "            log_file.write(f\"{dir}\\n\")"
   ]
  },
  {
   "cell_type": "code",
   "execution_count": 9,
   "metadata": {},
   "outputs": [
    {
     "name": "stdout",
     "output_type": "stream",
     "text": [
      "Elapsed time: 899.5907664299011 seconds\n"
     ]
    }
   ],
   "source": [
    "# Stop the timer\n",
    "end_time = time.time()\n",
    "\n",
    "# Calculate the elapsed time\n",
    "elapsed_time = end_time - start_time\n",
    "\n",
    "print(\"Elapsed time:\", elapsed_time, \"seconds\")"
   ]
  },
  {
   "cell_type": "code",
   "execution_count": 10,
   "metadata": {},
   "outputs": [
    {
     "name": "stdout",
     "output_type": "stream",
     "text": [
      "Memory usage end: 1.717988 GB\n"
     ]
    }
   ],
   "source": [
    "# Get memory usage in bytes\n",
    "memory_usage = resource.getrusage(resource.RUSAGE_SELF).ru_maxrss\n",
    "print(\"Memory usage end:\", memory_usage/1000000, \"GB\")\n"
   ]
  },
  {
   "cell_type": "markdown",
   "metadata": {},
   "source": [
    "# will do latest LH_ set in loop as a test\n",
    "label_z = 'z = 0.46'\n",
    "\n",
    "\n",
    "# Plot the luminosity function\n",
    "plt.errorbar(massBinLimits, phi, yerr=phi_sigma, fmt='o', color='blue',label=label_z)\n",
    "plt.xlabel('Absolute Magnitude (AB)')\n",
    "plt.ylabel('Number Density (Mpc^-3 mag^-1)')\n",
    "plt.yscale('log')\n",
    "\n",
    "plt.title('Luminosity Function XMM-OM filter')\n",
    "plt.grid(True)\n",
    "plt.show()"
   ]
  },
  {
   "cell_type": "code",
   "execution_count": null,
   "metadata": {},
   "outputs": [],
   "source": []
  }
 ],
 "metadata": {
  "kernelspec": {
   "display_name": "Python 3 (ipykernel)",
   "language": "python",
   "name": "python3"
  },
  "language_info": {
   "codemirror_mode": {
    "name": "ipython",
    "version": 3
   },
   "file_extension": ".py",
   "mimetype": "text/x-python",
   "name": "python",
   "nbconvert_exporter": "python",
   "pygments_lexer": "ipython3",
   "version": "3.9.15"
  }
 },
 "nbformat": 4,
 "nbformat_minor": 2
}
