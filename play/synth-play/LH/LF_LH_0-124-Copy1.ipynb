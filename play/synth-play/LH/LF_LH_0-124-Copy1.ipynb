{
 "cells": [
  {
   "cell_type": "markdown",
   "metadata": {},
   "source": [
    "Absolute magnitude is defined to be the apparent magnitude an object would have if it were located at a distance of 10 parsecs.\n",
    "In astronomy, absolute magnitude (M) is a measure of the luminosity of a celestial object on an inverse logarithmic astronomical magnitude scale."
   ]
  },
  {
   "cell_type": "code",
   "execution_count": 1,
   "metadata": {},
   "outputs": [
    {
     "name": "stderr",
     "output_type": "stream",
     "text": [
      "/tmp/ipykernel_6154/2487278995.py:5: DeprecationWarning: \n",
      "Pyarrow will become a required dependency of pandas in the next major release of pandas (pandas 3.0),\n",
      "(to allow more performant data types, such as the Arrow string type, and better interoperability with other libraries)\n",
      "but was not found to be installed on your system.\n",
      "If this would cause problems for you,\n",
      "please provide us feedback at https://github.com/pandas-dev/pandas/issues/54466\n",
      "        \n",
      "  import pandas as pd\n"
     ]
    },
    {
     "name": "stdout",
     "output_type": "stream",
     "text": [
      "Current directory: /home/jovyan/camels/play/synth-play/LH\n"
     ]
    }
   ],
   "source": [
    "import time\n",
    "import numpy as np\n",
    "import h5py\n",
    "import hdf5plugin\n",
    "import pandas as pd\n",
    "import matplotlib as mpl\n",
    "import matplotlib.colors as cm\n",
    "import matplotlib.pyplot as plt\n",
    "import matplotlib.gridspec as gridspec\n",
    "from unyt import yr, Myr, kpc, arcsec, nJy, Mpc, Msun, erg, s, Hz\n",
    "from astropy.cosmology import Planck18 as cosmo\n",
    "from scipy import signal\n",
    "import os \n",
    "import csv\n",
    "import resource\n",
    "import pickle\n",
    "import shutil\n",
    "import json\n",
    "from synthesizer.grid import Grid\n",
    "from synthesizer.parametric import SFH, ZDist\n",
    "from synthesizer.particle.stars import sample_sfhz\n",
    "from synthesizer.parametric import Stars as ParametricStars\n",
    "from synthesizer.particle.particles import CoordinateGenerator\n",
    "from synthesizer.filters import Filter, FilterCollection\n",
    "from synthesizer.sed import combine_list_of_seds\n",
    "\n",
    "from synthesizer.load_data.load_camels import load_CAMELS_IllustrisTNG\n",
    "from synthesizer.kernel_functions import Kernel\n",
    "\n",
    "from synthesizer.conversions import lnu_to_absolute_mag\n",
    "\n",
    "current_directory = os.getcwd()\n",
    "print(\"Current directory:\", current_directory)\n",
    "# Start the timer\n",
    "start_time = time.time()\n"
   ]
  },
  {
   "cell_type": "code",
   "execution_count": 2,
   "metadata": {},
   "outputs": [],
   "source": [
    "\n",
    "# Alternative method for LF:\n",
    "# try this method again, but using AB mag instead of mass, and suply your own bins (up to -17, say)\n",
    "def calc_lf(ab_mag, volume, massBinLimits):\n",
    "# OG:        hist, dummy = np.histogram(np.log10(mstar), bins = massBinLimits)\n",
    "        hist, dummy = np.histogram(ab_mag, bins = massBinLimits)\n",
    "        hist = np.float64(hist)\n",
    "        phi = (hist / volume) / (massBinLimits[1] - massBinLimits[0])\n",
    "        phi_sigma = (np.sqrt(hist) / volume) /\\\n",
    "                    (massBinLimits[1] - massBinLimits[0]) # Poisson errors\n",
    "        return phi, phi_sigma, hist\n",
    "    "
   ]
  },
  {
   "cell_type": "markdown",
   "metadata": {},
   "source": [
    "\n",
    "phi_arr =[] #phi\n",
    "phi_sigma_arr =[] # phi_sigma\n",
    "hist_arr = [] # hist\n",
    "z_arr = [] #redshift_074, \n",
    "abs_mag_arr = [] #absolute mag (th filter)\n",
    "Vcom_arr = [] # comoving vol\n",
    "massBinLimits_arr = []\n"
   ]
  },
  {
   "cell_type": "markdown",
   "metadata": {},
   "source": [
    "len(phi_arr)"
   ]
  },
  {
   "cell_type": "code",
   "execution_count": 3,
   "metadata": {},
   "outputs": [
    {
     "data": {
      "text/plain": [
       "['LH_178',\n",
       " 'LH_179',\n",
       " 'LH_180',\n",
       " 'LH_181',\n",
       " 'LH_182',\n",
       " 'LH_183',\n",
       " 'LH_184',\n",
       " 'LH_185',\n",
       " 'LH_186',\n",
       " 'LH_187',\n",
       " 'LH_188',\n",
       " 'LH_189',\n",
       " 'LH_190',\n",
       " 'LH_191',\n",
       " 'LH_192',\n",
       " 'LH_193',\n",
       " 'LH_194',\n",
       " 'LH_195',\n",
       " 'LH_196',\n",
       " 'LH_197',\n",
       " 'LH_198',\n",
       " 'LH_199']"
      ]
     },
     "execution_count": 3,
     "metadata": {},
     "output_type": "execute_result"
    }
   ],
   "source": [
    "#directories = [f'LH_{i}' for i in range(1000)]\n",
    "# TEST:\n",
    "# LH_50 ,LH_104 skipped, 177 skipped. bad data, run again later.\n",
    "directories = [f'LH_{i}' for i in range(178, 200)]\n",
    "directories"
   ]
  },
  {
   "cell_type": "code",
   "execution_count": 4,
   "metadata": {},
   "outputs": [
    {
     "data": {
      "text/plain": [
       "22"
      ]
     },
     "execution_count": 4,
     "metadata": {},
     "output_type": "execute_result"
    }
   ],
   "source": [
    "len(directories)"
   ]
  },
  {
   "cell_type": "code",
   "execution_count": null,
   "metadata": {},
   "outputs": [
    {
     "name": "stderr",
     "output_type": "stream",
     "text": [
      "/srv/conda/envs/notebook/lib/python3.9/site-packages/synthesizer/particle/galaxy.py:109: RuntimeWarning: In `load_stars`: one of either `initial_masses`, `ages` or `metallicities` is not provided, setting `stars` object to `None`\n",
      "  self.load_stars(stars=stars)\n",
      "/srv/conda/envs/notebook/lib/python3.9/site-packages/synthesizer/particle/galaxy.py:110: RuntimeWarning: In `load_stars`: one of either `masses` or `metallicities` is not provided, setting `gas` object to `None`\n",
      "  self.load_gas(gas=gas)\n",
      "/srv/conda/envs/notebook/lib/python3.9/site-packages/unyt/array.py:1938: RuntimeWarning: invalid value encountered in divide\n",
      "  out_arr = func(\n"
     ]
    },
    {
     "name": "stdout",
     "output_type": "stream",
     "text": [
      "Written out: /home/jovyan/camels/play/synth-play/LH/output/ LH_178\n"
     ]
    },
    {
     "name": "stderr",
     "output_type": "stream",
     "text": [
      "/srv/conda/envs/notebook/lib/python3.9/site-packages/unyt/array.py:1813: RuntimeWarning: divide by zero encountered in log10\n",
      "  out_arr = func(np.asarray(inp), out=out_func, **kwargs)\n"
     ]
    },
    {
     "name": "stdout",
     "output_type": "stream",
     "text": [
      "Written out: /home/jovyan/camels/play/synth-play/LH/output/ LH_179\n",
      "Written out: /home/jovyan/camels/play/synth-play/LH/output/ LH_180\n"
     ]
    },
    {
     "name": "stderr",
     "output_type": "stream",
     "text": [
      "/srv/conda/envs/notebook/lib/python3.9/site-packages/unyt/array.py:1813: RuntimeWarning: invalid value encountered in log10\n",
      "  out_arr = func(np.asarray(inp), out=out_func, **kwargs)\n"
     ]
    },
    {
     "name": "stdout",
     "output_type": "stream",
     "text": [
      "Written out: /home/jovyan/camels/play/synth-play/LH/output/ LH_181\n",
      "Written out: /home/jovyan/camels/play/synth-play/LH/output/ LH_182\n",
      "Written out: /home/jovyan/camels/play/synth-play/LH/output/ LH_183\n",
      "Written out: /home/jovyan/camels/play/synth-play/LH/output/ LH_184\n",
      "Written out: /home/jovyan/camels/play/synth-play/LH/output/ LH_185\n"
     ]
    },
    {
     "name": "stderr",
     "output_type": "stream",
     "text": [
      "/srv/conda/envs/notebook/lib/python3.9/site-packages/unyt/array.py:1938: RuntimeWarning: overflow encountered in multiply\n",
      "  out_arr = func(\n"
     ]
    },
    {
     "name": "stdout",
     "output_type": "stream",
     "text": [
      "Written out: /home/jovyan/camels/play/synth-play/LH/output/ LH_186\n",
      "Written out: /home/jovyan/camels/play/synth-play/LH/output/ LH_187\n",
      "Written out: /home/jovyan/camels/play/synth-play/LH/output/ LH_188\n",
      "Written out: /home/jovyan/camels/play/synth-play/LH/output/ LH_189\n",
      "Written out: /home/jovyan/camels/play/synth-play/LH/output/ LH_190\n",
      "Written out: /home/jovyan/camels/play/synth-play/LH/output/ LH_191\n",
      "Written out: /home/jovyan/camels/play/synth-play/LH/output/ LH_192\n",
      "Written out: /home/jovyan/camels/play/synth-play/LH/output/ LH_193\n",
      "Written out: /home/jovyan/camels/play/synth-play/LH/output/ LH_194\n"
     ]
    }
   ],
   "source": [
    "# Try data frame instead\n",
    "grid_name = \"bc03-2016-Miles_chabrier-0.1,100.hdf5\"\n",
    "grid_dir = \"/home/jovyan/\"\n",
    "grid = Grid(grid_name, grid_dir=grid_dir, read_lines=False)\n",
    "\n",
    "# Define the directory where the text files will be saved\n",
    "output_dir = \"/home/jovyan/camels/play/synth-play/LH/output/\"\n",
    "\n",
    "for LH_X in directories:\n",
    "    # get grid for all galaxies\n",
    "    # gives grid of metalicity and age which is used to map on our camels galaxies\n",
    "\n",
    "    # get gals\n",
    "    dir_ = '/home/jovyan/Data/Sims/IllustrisTNG/LH/' + LH_X\n",
    "    gals_074 = load_CAMELS_IllustrisTNG(\n",
    "        dir_,\n",
    "        snap_name='snapshot_074.hdf5', \n",
    "        fof_name='groups_074.hdf5',\n",
    "    )\n",
    "\n",
    "    cat_074 = dir_+'/groups_074.hdf5'\n",
    "    # open file\n",
    "    f_h5py = h5py.File(cat_074, 'r')\n",
    "\n",
    "    # read different attributes of the header\n",
    "    boxSize_074 = f_h5py['Header'].attrs[u'BoxSize']/1e3 #Mpc/h\n",
    "    redshift_074 = f_h5py['Header'].attrs[u'Redshift']\n",
    "\n",
    "    # Filter galaxies to only include those with 100 or more star particles\n",
    "    gals_074 = [gal for gal in gals_074 if len(gal.stars.ages) >= 100]\n",
    "    spec_list = []\n",
    "    # Lets work with z=0 so gals_025\n",
    "    for i in gals_074:\n",
    "        gal = i\n",
    "        # get_spectra_incident An Sed object containing the stellar spectra\n",
    "        spec = gal.stars.get_spectra_incident(grid)\n",
    "        spec.get_fnu0()\n",
    "        spec_list.append(spec)\n",
    "\n",
    "    # combine\n",
    "    seds = combine_list_of_seds(spec_list)\n",
    "    filt1 = Filter(\"top_hat/filter.1\", lam_min=1400, lam_max=1600, new_lam=grid.lam)\n",
    "    filt_lst = [filt1]\n",
    "    seds.lnu # rest frame lumd\n",
    "    seds.get_photo_luminosities(filt_lst)\n",
    "    seds.photo_luminosities.photo_luminosities\n",
    "    abs_mag = lnu_to_absolute_mag(seds.photo_luminosities.photo_luminosities)\n",
    "    abs_mag_th = abs_mag[0]\n",
    "    # next steps, get luminosity function for these magnitudes\n",
    "    # co-moving volume: BoxSize_025 and redshift:\n",
    "    little_h =  0.6711\n",
    "    Vphys = (boxSize_074/little_h )**3\n",
    "    Vcom = Vphys * ((1+redshift_074)**3)\n",
    "\n",
    "    massBinLimits = np.arange(-22, -16, 0.5)\n",
    "    phi, phi_sigma, hist = calc_lf(abs_mag_th, Vcom, massBinLimits)\n",
    "    # NOTE: 074 is the same redshift as CV_0/025\n",
    "    massBinLimits = massBinLimits[:-1]\n",
    "\n",
    "    # Define output file path\n",
    "    output_file = f\"{output_dir}{LH_X}.txt\"\n",
    "\n",
    "    # Write the data to the text file line by line\n",
    "    with open(output_file, 'w') as txtfile:\n",
    "        # Write phi values\n",
    "        txtfile.write(\"phi\\n\")\n",
    "        for value in phi:\n",
    "            txtfile.write(f\"{value}\\n\")\n",
    "\n",
    "        # Write phi_sigma values\n",
    "        txtfile.write(\"phi_sigma\\n\")\n",
    "        for value in phi_sigma:\n",
    "            txtfile.write(f\"{value}\\n\")\n",
    "\n",
    "        # Write hist values\n",
    "        txtfile.write(\"hist\\n\")\n",
    "        for value in hist:\n",
    "            txtfile.write(f\"{value}\\n\")\n",
    "\n",
    "        # Write massBinLimits values\n",
    "        txtfile.write(\"massBinLimits\\n\")\n",
    "        for value in massBinLimits:\n",
    "            txtfile.write(f\"{value}\\n\")\n",
    "            \n",
    "            \n",
    "    print('Written out: /home/jovyan/camels/play/synth-play/LH/output/',LH_X)"
   ]
  },
  {
   "cell_type": "code",
   "execution_count": null,
   "metadata": {},
   "outputs": [],
   "source": [
    "# Stop the timer\n",
    "end_time = time.time()\n",
    "\n",
    "# Calculate the elapsed time\n",
    "elapsed_time = end_time - start_time\n",
    "\n",
    "print(\"Elapsed time:\", elapsed_time, \"seconds\")"
   ]
  },
  {
   "cell_type": "code",
   "execution_count": null,
   "metadata": {},
   "outputs": [],
   "source": [
    "# Get memory usage in bytes\n",
    "memory_usage = resource.getrusage(resource.RUSAGE_SELF).ru_maxrss\n",
    "print(\"Memory usage end:\", memory_usage/1000000, \"GB\")\n"
   ]
  },
  {
   "cell_type": "markdown",
   "metadata": {},
   "source": [
    "# will do latest LH_ set in loop as a test\n",
    "label_z = 'z = 0.46'\n",
    "\n",
    "\n",
    "# Plot the luminosity function\n",
    "plt.errorbar(massBinLimits, phi, yerr=phi_sigma, fmt='o', color='blue',label=label_z)\n",
    "plt.xlabel('Absolute Magnitude (AB)')\n",
    "plt.ylabel('Number Density (Mpc^-3 mag^-1)')\n",
    "plt.yscale('log')\n",
    "\n",
    "plt.title('Luminosity Function XMM-OM filter')\n",
    "plt.grid(True)\n",
    "plt.show()"
   ]
  },
  {
   "cell_type": "code",
   "execution_count": null,
   "metadata": {},
   "outputs": [],
   "source": []
  }
 ],
 "metadata": {
  "kernelspec": {
   "display_name": "Python 3 (ipykernel)",
   "language": "python",
   "name": "python3"
  },
  "language_info": {
   "codemirror_mode": {
    "name": "ipython",
    "version": 3
   },
   "file_extension": ".py",
   "mimetype": "text/x-python",
   "name": "python",
   "nbconvert_exporter": "python",
   "pygments_lexer": "ipython3",
   "version": "3.9.15"
  }
 },
 "nbformat": 4,
 "nbformat_minor": 2
}
