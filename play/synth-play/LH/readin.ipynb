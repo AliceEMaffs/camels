{
 "cells": [
  {
   "cell_type": "code",
   "execution_count": 139,
   "id": "87ff8030",
   "metadata": {},
   "outputs": [],
   "source": [
    "# attempt to read in LH sims and plot data.\n",
    "import pandas as pd\n",
    "import matplotlib as mpl\n",
    "import matplotlib.colors as cm\n",
    "import matplotlib.pyplot as plt\n",
    "import matplotlib.gridspec as gridspec\n",
    "import numpy as np\n",
    "import pickle\n",
    "# Assuming your CSV file is named \"simulation_results.csv\" and is located in the same directory as your Python script\n",
    "file_path = '/home/jovyan/output_test/data.pkl'\n",
    "\n",
    "# Load the pickle file\n",
    "with open('/home/jovyan/output_test/data.pkl', 'rb') as f:\n",
    "    data_dict = pickle.load(f)"
   ]
  },
  {
   "cell_type": "code",
   "execution_count": 140,
   "id": "c2acc2d0",
   "metadata": {},
   "outputs": [
    {
     "data": {
      "text/plain": [
       "{'LH_0': {'phi': array([1.59874532e-04, 2.21364736e-04, 2.82854941e-04, 2.82854941e-04,\n",
       "         2.95152981e-04, 2.21364736e-04, 1.84470613e-04, 1.10682368e-04,\n",
       "         1.22980409e-04, 1.10682368e-04, 9.83843271e-05]),\n",
       "  'phi_sigma': array([4.43412170e-05, 5.21761687e-05, 5.89793322e-05, 5.89793322e-05,\n",
       "         6.02478500e-05, 5.21761687e-05, 4.76301076e-05, 3.68941227e-05,\n",
       "         3.88898200e-05, 3.68941227e-05, 3.47841124e-05]),\n",
       "  'hist': array([13., 18., 23., 23., 24., 18., 15.,  9., 10.,  9.,  8.]),\n",
       "  'massBinLimits': array([-22. , -21.5, -21. , -20.5, -20. , -19.5, -19. , -18.5, -18. ,\n",
       "         -17.5, -17. ])},\n",
       " 'LH_1': {'phi': array([1.22980409e-05, 1.22980409e-05, 6.14902045e-05, 8.60862862e-05,\n",
       "         2.82854941e-04, 1.59874532e-04, 1.96768654e-04, 1.10682368e-04,\n",
       "         1.35278450e-04, 1.47576491e-04, 1.10682368e-04]),\n",
       "  'phi_sigma': array([1.22980409e-05, 1.22980409e-05, 2.74992554e-05, 3.25375578e-05,\n",
       "         5.89793322e-05, 4.43412170e-05, 4.91921636e-05, 3.68941227e-05,\n",
       "         4.07879873e-05, 4.26016633e-05, 3.68941227e-05]),\n",
       "  'hist': array([ 1.,  1.,  5.,  7., 23., 13., 16.,  9., 11., 12.,  9.]),\n",
       "  'massBinLimits': array([-22. , -21.5, -21. , -20.5, -20. , -19.5, -19. , -18.5, -18. ,\n",
       "         -17.5, -17. ])},\n",
       " 'LH_2': {'phi': array([3.68941227e-05, 1.22980409e-05, 1.22980409e-05, 8.60862862e-05,\n",
       "         2.09066695e-04, 3.07451022e-04, 2.70556900e-04, 4.18133390e-04,\n",
       "         4.79623595e-04, 5.90305963e-04, 4.91921636e-04]),\n",
       "  'phi_sigma': array([2.13008317e-05, 1.22980409e-05, 1.22980409e-05, 3.25375578e-05,\n",
       "         5.07061216e-05, 6.14902045e-05, 5.76829248e-05, 7.17092848e-05,\n",
       "         7.68012408e-05, 8.52033266e-05, 7.77796400e-05]),\n",
       "  'hist': array([ 3.,  1.,  1.,  7., 17., 25., 22., 34., 39., 48., 40.]),\n",
       "  'massBinLimits': array([-22. , -21.5, -21. , -20.5, -20. , -19.5, -19. , -18.5, -18. ,\n",
       "         -17.5, -17. ])}}"
      ]
     },
     "execution_count": 140,
     "metadata": {},
     "output_type": "execute_result"
    }
   ],
   "source": [
    "data_dict"
   ]
  },
  {
   "cell_type": "code",
   "execution_count": 141,
   "id": "1b766bdf",
   "metadata": {},
   "outputs": [],
   "source": [
    "\n",
    "# Access the numpy arrays for a specific LH_X iteration\n",
    "LH_0_data = data_dict['LH_0']"
   ]
  },
  {
   "cell_type": "code",
   "execution_count": 142,
   "id": "270fc520",
   "metadata": {},
   "outputs": [
    {
     "data": {
      "text/plain": [
       "{'phi': array([1.59874532e-04, 2.21364736e-04, 2.82854941e-04, 2.82854941e-04,\n",
       "        2.95152981e-04, 2.21364736e-04, 1.84470613e-04, 1.10682368e-04,\n",
       "        1.22980409e-04, 1.10682368e-04, 9.83843271e-05]),\n",
       " 'phi_sigma': array([4.43412170e-05, 5.21761687e-05, 5.89793322e-05, 5.89793322e-05,\n",
       "        6.02478500e-05, 5.21761687e-05, 4.76301076e-05, 3.68941227e-05,\n",
       "        3.88898200e-05, 3.68941227e-05, 3.47841124e-05]),\n",
       " 'hist': array([13., 18., 23., 23., 24., 18., 15.,  9., 10.,  9.,  8.]),\n",
       " 'massBinLimits': array([-22. , -21.5, -21. , -20.5, -20. , -19.5, -19. , -18.5, -18. ,\n",
       "        -17.5, -17. ])}"
      ]
     },
     "execution_count": 142,
     "metadata": {},
     "output_type": "execute_result"
    }
   ],
   "source": [
    "LH_0_data"
   ]
  },
  {
   "cell_type": "code",
   "execution_count": 143,
   "id": "4c3e1914",
   "metadata": {},
   "outputs": [
    {
     "data": {
      "text/plain": [
       "{'phi': array([1.22980409e-05, 1.22980409e-05, 6.14902045e-05, 8.60862862e-05,\n",
       "        2.82854941e-04, 1.59874532e-04, 1.96768654e-04, 1.10682368e-04,\n",
       "        1.35278450e-04, 1.47576491e-04, 1.10682368e-04]),\n",
       " 'phi_sigma': array([1.22980409e-05, 1.22980409e-05, 2.74992554e-05, 3.25375578e-05,\n",
       "        5.89793322e-05, 4.43412170e-05, 4.91921636e-05, 3.68941227e-05,\n",
       "        4.07879873e-05, 4.26016633e-05, 3.68941227e-05]),\n",
       " 'hist': array([ 1.,  1.,  5.,  7., 23., 13., 16.,  9., 11., 12.,  9.]),\n",
       " 'massBinLimits': array([-22. , -21.5, -21. , -20.5, -20. , -19.5, -19. , -18.5, -18. ,\n",
       "        -17.5, -17. ])}"
      ]
     },
     "execution_count": 143,
     "metadata": {},
     "output_type": "execute_result"
    }
   ],
   "source": [
    "LH_1_data = data_dict['LH_1']\n",
    "LH_1_data"
   ]
  },
  {
   "cell_type": "code",
   "execution_count": 147,
   "id": "7b5913ac",
   "metadata": {},
   "outputs": [
    {
     "data": {
      "text/plain": [
       "{'phi': array([3.68941227e-05, 1.22980409e-05, 1.22980409e-05, 8.60862862e-05,\n",
       "        2.09066695e-04, 3.07451022e-04, 2.70556900e-04, 4.18133390e-04,\n",
       "        4.79623595e-04, 5.90305963e-04, 4.91921636e-04]),\n",
       " 'phi_sigma': array([2.13008317e-05, 1.22980409e-05, 1.22980409e-05, 3.25375578e-05,\n",
       "        5.07061216e-05, 6.14902045e-05, 5.76829248e-05, 7.17092848e-05,\n",
       "        7.68012408e-05, 8.52033266e-05, 7.77796400e-05]),\n",
       " 'hist': array([ 3.,  1.,  1.,  7., 17., 25., 22., 34., 39., 48., 40.]),\n",
       " 'massBinLimits': array([-22. , -21.5, -21. , -20.5, -20. , -19.5, -19. , -18.5, -18. ,\n",
       "        -17.5, -17. ])}"
      ]
     },
     "execution_count": 147,
     "metadata": {},
     "output_type": "execute_result"
    }
   ],
   "source": [
    "LH_2_data = data_dict['LH_2']\n",
    "LH_2_data"
   ]
  },
  {
   "cell_type": "code",
   "execution_count": 148,
   "id": "dc97f77e",
   "metadata": {},
   "outputs": [],
   "source": [
    "# Extract the numpy arrays from the dictionary\n",
    "phi = LH_0_data['phi']\n",
    "phi_sigma = LH_0_data['phi_sigma']\n",
    "hist = LH_0_data['hist']\n",
    "massBinLimits = LH_0_data['massBinLimits']"
   ]
  },
  {
   "cell_type": "code",
   "execution_count": 149,
   "id": "99bf4b04",
   "metadata": {},
   "outputs": [],
   "source": [
    "# Extract the numpy arrays from the dictionary\n",
    "phi1 = LH_1_data['phi']\n",
    "phi_sigma1 = LH_1_data['phi_sigma']\n",
    "hist1 = LH_1_data['hist']\n",
    "massBinLimits1 = LH_1_data['massBinLimits']"
   ]
  },
  {
   "cell_type": "code",
   "execution_count": 150,
   "id": "87625aa2",
   "metadata": {},
   "outputs": [],
   "source": [
    "# Extract the numpy arrays from the dictionary\n",
    "phi2 = LH_2_data['phi']\n",
    "phi_sigma2 = LH_2_data['phi_sigma']\n",
    "hist2 = LH_2_data['hist']\n",
    "massBinLimits2 = LH_2_data['massBinLimits']"
   ]
  },
  {
   "cell_type": "code",
   "execution_count": 158,
   "id": "c140ba40",
   "metadata": {},
   "outputs": [
    {
     "data": {
      "image/png": "[encoded data removed]",
      "text/plain": [
       "<Figure size 640x480 with 1 Axes>"
      ]
     },
     "metadata": {},
     "output_type": "display_data"
    }
   ],
   "source": [
    "label_z = 'z = 0.46'\n",
    "\n",
    "\n",
    "# Plot the luminosity function\n",
    "plt.errorbar(massBinLimits, phi, yerr=phi_sigma, fmt='o', color='green')\n",
    "plt.errorbar(massBinLimits1, phi1, yerr=phi_sigma1, fmt='o', color='blue')\n",
    "plt.errorbar(massBinLimits2, phi2, yerr=phi_sigma2, fmt='o', color='red')\n",
    "plt.xlabel('Mag [AB]')\n",
    "plt.ylabel('$\\Phi [Mpc^{-3} mag^{-1}$]')\n",
    "plt.yscale('log')\n",
    "\n",
    "plt.title('Luminosity Function z=0.465')\n",
    "plt.grid(True)\n",
    "plt.show()"
   ]
  },
  {
   "cell_type": "code",
   "execution_count": null,
   "id": "c90264b8",
   "metadata": {},
   "outputs": [],
   "source": []
  }
 ],
 "metadata": {
  "kernelspec": {
   "display_name": "Python 3 (ipykernel)",
   "language": "python",
   "name": "python3"
  },
  "language_info": {
   "codemirror_mode": {
    "name": "ipython",
    "version": 3
   },
   "file_extension": ".py",
   "mimetype": "text/x-python",
   "name": "python",
   "nbconvert_exporter": "python",
   "pygments_lexer": "ipython3",
   "version": "3.9.15"
  }
 },
 "nbformat": 4,
 "nbformat_minor": 5
}
