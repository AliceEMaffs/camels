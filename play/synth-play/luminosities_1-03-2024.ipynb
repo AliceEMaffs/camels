{
 "cells": [
  {
   "cell_type": "code",
   "execution_count": null,
   "metadata": {},
   "outputs": [],
   "source": [
    "# Luminosities\n",
    "# Get luminosities from Camels data, and combine it with a grid and use UVM2 filters to splot a luminosity function.\n",
    "\n",
    "import numpy as np\n",
    "import matplotlib.pyplot as plt\n",
    "\n",
    "def luminosity_fun(luminosity, V, nbins):\n",
    "    # luminosity is our luminosity data in Lsol\n",
    "    # V is comoving Survey volume Vcom = Vphys(1+z)^3\n",
    "    # nbins is number of bins\n",
    "\n",
    "    L     = luminosity        # Read stellar luminosities in Lsun\n",
    "    logL  = np.log10(L)       # Take logarithm\n",
    "\n",
    "    # calc histogram\n",
    "    Phi, edg = np.histogram(logL, bins=nbins)  # Unnormalized histogram and bin edges\n",
    "\n",
    "    dL    = edg[1] - edg[0]                    # Bin size\n",
    "    Lax   = edg[0:-1] + dL/2.                  # Luminosity axis\n",
    "    Phi   = Phi / V / dL                       # Normalize to volume and bin size\n",
    "\n",
    "    return Phi, Lax\n"
   ]
  }
 ],
 "metadata": {
  "language_info": {
   "name": "python"
  }
 },
 "nbformat": 4,
 "nbformat_minor": 2
}
