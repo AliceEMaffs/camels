{
 "cells": [
  {
   "cell_type": "code",
   "execution_count": 91,
   "metadata": {},
   "outputs": [],
   "source": [
    "import time\n",
    "import numpy as np\n",
    "import h5py\n",
    "import hdf5plugin\n",
    "import pandas as pd\n",
    "import matplotlib as mpl\n",
    "import matplotlib.colors as cm\n",
    "import matplotlib.pyplot as plt\n",
    "import matplotlib.gridspec as gridspec\n",
    "from unyt import yr, Myr, kpc, arcsec, nJy, Mpc, Msun, erg, s, Hz\n",
    "from astropy.cosmology import Planck18 as cosmo\n",
    "from scipy import signal\n",
    "\n",
    "from synthesizer.grid import Grid\n",
    "from synthesizer.parametric import SFH, ZDist\n",
    "from synthesizer.particle.stars import sample_sfhz\n",
    "from synthesizer.parametric import Stars as ParametricStars\n",
    "from synthesizer.particle.particles import CoordinateGenerator\n",
    "from synthesizer.filters import Filter, FilterCollection\n",
    "from synthesizer.sed import combine_list_of_seds\n",
    "\n",
    "from synthesizer.load_data.load_camels import load_CAMELS_IllustrisTNG\n",
    "from synthesizer.kernel_functions import Kernel\n",
    "\n",
    "from synthesizer.conversions import lnu_to_absolute_mag, fnu_to_apparent_mag, fnu_to_lnu"
   ]
  },
  {
   "cell_type": "code",
   "execution_count": 92,
   "metadata": {},
   "outputs": [],
   "source": [
    "# get grid for all galaxies\n",
    "# gives grid of metalicity and age which is used to map on our camels galaxies\n",
    "grid_name = \"bc03-2016-Miles_chabrier-0.1,100.hdf5\"\n",
    "grid_dir = \"/Users/am/Documents/CAMELS/data/grids\"\n",
    "grid = Grid(grid_name, grid_dir=grid_dir, read_lines=False)"
   ]
  },
  {
   "cell_type": "code",
   "execution_count": 93,
   "metadata": {},
   "outputs": [
    {
     "name": "stderr",
     "output_type": "stream",
     "text": [
      "/Users/am/anaconda3/envs/allyenv/lib/python3.9/site-packages/unyt/array.py:1938: RuntimeWarning: invalid value encountered in divide\n",
      "  out_arr = func(\n",
      "/Users/am/anaconda3/envs/allyenv/lib/python3.9/site-packages/unyt/array.py:1813: RuntimeWarning: divide by zero encountered in log10\n",
      "  out_arr = func(np.asarray(inp), out=out_func, **kwargs)\n"
     ]
    },
    {
     "name": "stdout",
     "output_type": "stream",
     "text": [
      "Number of Galaxies in snap_025 18554\n",
      "BoxSize:  25.0\n",
      "redshift:  0.46525063335034633\n"
     ]
    }
   ],
   "source": [
    "# get gals\n",
    "gals_025 = load_CAMELS_IllustrisTNG(\n",
    "    \"/Users/am/Documents/CAMELS/data/CV/CV_0\",\n",
    "    snap_name=\"snap_025.hdf5\", # name change on server (snapshot_025)\n",
    "    fof_name=\"fof_subhalo_tab_025.hdf5\", # name change on server (groups_025)\n",
    ")\n",
    "\n",
    "print('Number of Galaxies in snap_025', len(gals_025))\n",
    "\n",
    "cat_025 = '/Users/am/Documents/CAMELS/data/CV/CV_0/fof_subhalo_tab_025.hdf5'\n",
    "# open file\n",
    "f = h5py.File(cat_025, 'r')\n",
    "\n",
    "# read different attributes of the header\n",
    "boxSize_025 = f['Header'].attrs[u'BoxSize']/1e3 #Mpc/h\n",
    "redshift_025 = f['Header'].attrs[u'Redshift']\n",
    "print('BoxSize: ', boxSize_025)\n",
    "print('redshift: ', redshift_025)"
   ]
  },
  {
   "cell_type": "code",
   "execution_count": 94,
   "metadata": {},
   "outputs": [
    {
     "data": {
      "text/plain": [
       "370"
      ]
     },
     "execution_count": 94,
     "metadata": {},
     "output_type": "execute_result"
    }
   ],
   "source": [
    "# Filter galaxies to only include those with 100 or more star particles\n",
    "## NEED TO ADD FILTER TO GET RID OF ANY GALAXIES WITH LESS THAN 100 star Particles!! This is the resolution limit!!\n",
    "# Chris: when you load your galaxies in could you do a filter for those with at least 100 star particles? that's the resolution limit\n",
    "gals_025 = [gal for gal in gals_025 if len(gal.stars.ages) >= 100]\n",
    "len(gals_025)"
   ]
  },
  {
   "cell_type": "code",
   "execution_count": 95,
   "metadata": {},
   "outputs": [],
   "source": [
    "spec_list = []\n",
    "# Lets work with z=0 so gals_025\n",
    "for i in gals_025:\n",
    "    gal = i\n",
    "    # get_spectra_incident An Sed object containing the stellar spectra\n",
    "    spec = gal.stars.get_spectra_incident(grid)\n",
    "    spec.get_fnu0()\n",
    "    spec_list.append(spec)"
   ]
  },
  {
   "cell_type": "code",
   "execution_count": 96,
   "metadata": {},
   "outputs": [
    {
     "data": {
      "text/plain": [
       "[<synthesizer.sed.Sed at 0x13b813d00>,\n",
       " <synthesizer.sed.Sed at 0x1568afdf0>,\n",
       " <synthesizer.sed.Sed at 0x156518a30>,\n",
       " <synthesizer.sed.Sed at 0x1565188e0>,\n",
       " <synthesizer.sed.Sed at 0x156518790>,\n",
       " <synthesizer.sed.Sed at 0x156518760>,\n",
       " <synthesizer.sed.Sed at 0x156518550>,\n",
       " <synthesizer.sed.Sed at 0x156518070>,\n",
       " <synthesizer.sed.Sed at 0x156518310>,\n",
       " <synthesizer.sed.Sed at 0x156518160>,\n",
       " <synthesizer.sed.Sed at 0x1565185b0>,\n",
       " <synthesizer.sed.Sed at 0x156518cd0>,\n",
       " <synthesizer.sed.Sed at 0x156518580>,\n",
       " <synthesizer.sed.Sed at 0x1565243d0>,\n",
       " <synthesizer.sed.Sed at 0x156524910>,\n",
       " <synthesizer.sed.Sed at 0x156524340>,\n",
       " <synthesizer.sed.Sed at 0x1565241f0>,\n",
       " <synthesizer.sed.Sed at 0x1565248e0>,\n",
       " <synthesizer.sed.Sed at 0x1565240a0>,\n",
       " <synthesizer.sed.Sed at 0x156524a30>,\n",
       " <synthesizer.sed.Sed at 0x156524160>,\n",
       " <synthesizer.sed.Sed at 0x1565242b0>,\n",
       " <synthesizer.sed.Sed at 0x1565247f0>,\n",
       " <synthesizer.sed.Sed at 0x156524610>,\n",
       " <synthesizer.sed.Sed at 0x1565248b0>,\n",
       " <synthesizer.sed.Sed at 0x1565246d0>,\n",
       " <synthesizer.sed.Sed at 0x156524580>,\n",
       " <synthesizer.sed.Sed at 0x156524820>,\n",
       " <synthesizer.sed.Sed at 0x156524640>,\n",
       " <synthesizer.sed.Sed at 0x1565244f0>,\n",
       " <synthesizer.sed.Sed at 0x156524790>,\n",
       " <synthesizer.sed.Sed at 0x1565245b0>,\n",
       " <synthesizer.sed.Sed at 0x156524040>,\n",
       " <synthesizer.sed.Sed at 0x156524700>,\n",
       " <synthesizer.sed.Sed at 0x156524520>,\n",
       " <synthesizer.sed.Sed at 0x156524370>,\n",
       " <synthesizer.sed.Sed at 0x156524670>,\n",
       " <synthesizer.sed.Sed at 0x1565244c0>,\n",
       " <synthesizer.sed.Sed at 0x1565242e0>,\n",
       " <synthesizer.sed.Sed at 0x1565245e0>,\n",
       " <synthesizer.sed.Sed at 0x156524400>,\n",
       " <synthesizer.sed.Sed at 0x156524250>,\n",
       " <synthesizer.sed.Sed at 0x156524550>,\n",
       " <synthesizer.sed.Sed at 0x156524310>,\n",
       " <synthesizer.sed.Sed at 0x156524100>,\n",
       " <synthesizer.sed.Sed at 0x1565243a0>,\n",
       " <synthesizer.sed.Sed at 0x156524430>,\n",
       " <synthesizer.sed.Sed at 0x156524460>,\n",
       " <synthesizer.sed.Sed at 0x156524280>,\n",
       " <synthesizer.sed.Sed at 0x156524850>,\n",
       " <synthesizer.sed.Sed at 0x156524af0>,\n",
       " <synthesizer.sed.Sed at 0x1565249d0>,\n",
       " <synthesizer.sed.Sed at 0x156524730>,\n",
       " <synthesizer.sed.Sed at 0x1565247c0>,\n",
       " <synthesizer.sed.Sed at 0x156524a60>,\n",
       " <synthesizer.sed.Sed at 0x156524880>,\n",
       " <synthesizer.sed.Sed at 0x1565241c0>,\n",
       " <synthesizer.sed.Sed at 0x156524a90>,\n",
       " <synthesizer.sed.Sed at 0x156524970>,\n",
       " <synthesizer.sed.Sed at 0x156524ac0>,\n",
       " <synthesizer.sed.Sed at 0x156524ca0>,\n",
       " <synthesizer.sed.Sed at 0x156524a00>,\n",
       " <synthesizer.sed.Sed at 0x156524b50>,\n",
       " <synthesizer.sed.Sed at 0x156524d30>,\n",
       " <synthesizer.sed.Sed at 0x156524c10>,\n",
       " <synthesizer.sed.Sed at 0x156524be0>,\n",
       " <synthesizer.sed.Sed at 0x156524dc0>,\n",
       " <synthesizer.sed.Sed at 0x156524b20>,\n",
       " <synthesizer.sed.Sed at 0x156524c70>,\n",
       " <synthesizer.sed.Sed at 0x156524e50>,\n",
       " <synthesizer.sed.Sed at 0x156524bb0>,\n",
       " <synthesizer.sed.Sed at 0x156524d00>,\n",
       " <synthesizer.sed.Sed at 0x156524ee0>,\n",
       " <synthesizer.sed.Sed at 0x156524c40>,\n",
       " <synthesizer.sed.Sed at 0x156524d90>,\n",
       " <synthesizer.sed.Sed at 0x156524f70>,\n",
       " <synthesizer.sed.Sed at 0x156524cd0>,\n",
       " <synthesizer.sed.Sed at 0x156524fd0>,\n",
       " <synthesizer.sed.Sed at 0x156524eb0>,\n",
       " <synthesizer.sed.Sed at 0x156524f40>,\n",
       " <synthesizer.sed.Sed at 0x1565249a0>,\n",
       " <synthesizer.sed.Sed at 0x156524e20>,\n",
       " <synthesizer.sed.Sed at 0x156524df0>,\n",
       " <synthesizer.sed.Sed at 0x156524d60>,\n",
       " <synthesizer.sed.Sed at 0x156524e80>,\n",
       " <synthesizer.sed.Sed at 0x156524490>,\n",
       " <synthesizer.sed.Sed at 0x156524f10>,\n",
       " <synthesizer.sed.Sed at 0x156524fa0>,\n",
       " <synthesizer.sed.Sed at 0x17f57c220>,\n",
       " <synthesizer.sed.Sed at 0x17f57c130>,\n",
       " <synthesizer.sed.Sed at 0x17f57c100>,\n",
       " <synthesizer.sed.Sed at 0x17f57c1c0>,\n",
       " <synthesizer.sed.Sed at 0x17f57c280>,\n",
       " <synthesizer.sed.Sed at 0x17f57c250>,\n",
       " <synthesizer.sed.Sed at 0x17f57c070>,\n",
       " <synthesizer.sed.Sed at 0x17f57c340>,\n",
       " <synthesizer.sed.Sed at 0x17f57c2e0>,\n",
       " <synthesizer.sed.Sed at 0x17f57c3d0>,\n",
       " <synthesizer.sed.Sed at 0x17f57c0a0>,\n",
       " <synthesizer.sed.Sed at 0x17f57c4c0>,\n",
       " <synthesizer.sed.Sed at 0x17f57c460>,\n",
       " <synthesizer.sed.Sed at 0x17f57c490>,\n",
       " <synthesizer.sed.Sed at 0x17f57c1f0>,\n",
       " <synthesizer.sed.Sed at 0x17f57c580>,\n",
       " <synthesizer.sed.Sed at 0x17f57c520>,\n",
       " <synthesizer.sed.Sed at 0x17f57c550>,\n",
       " <synthesizer.sed.Sed at 0x17f57c2b0>,\n",
       " <synthesizer.sed.Sed at 0x17f57c640>,\n",
       " <synthesizer.sed.Sed at 0x17f57c5e0>,\n",
       " <synthesizer.sed.Sed at 0x17f57c610>,\n",
       " <synthesizer.sed.Sed at 0x17f57c370>,\n",
       " <synthesizer.sed.Sed at 0x17f57c700>,\n",
       " <synthesizer.sed.Sed at 0x17f57c6a0>,\n",
       " <synthesizer.sed.Sed at 0x17f57c6d0>,\n",
       " <synthesizer.sed.Sed at 0x17f57c430>,\n",
       " <synthesizer.sed.Sed at 0x17f57c7c0>,\n",
       " <synthesizer.sed.Sed at 0x17f57c760>,\n",
       " <synthesizer.sed.Sed at 0x17f57c790>,\n",
       " <synthesizer.sed.Sed at 0x17f57c910>,\n",
       " <synthesizer.sed.Sed at 0x17f57c880>,\n",
       " <synthesizer.sed.Sed at 0x17f57c820>,\n",
       " <synthesizer.sed.Sed at 0x17f57c850>,\n",
       " <synthesizer.sed.Sed at 0x17f57c9d0>,\n",
       " <synthesizer.sed.Sed at 0x17f57c940>,\n",
       " <synthesizer.sed.Sed at 0x17f57c8e0>,\n",
       " <synthesizer.sed.Sed at 0x17f57c4f0>,\n",
       " <synthesizer.sed.Sed at 0x17f57c670>,\n",
       " <synthesizer.sed.Sed at 0x17f57ca00>,\n",
       " <synthesizer.sed.Sed at 0x17f57c9a0>,\n",
       " <synthesizer.sed.Sed at 0x17f57c5b0>,\n",
       " <synthesizer.sed.Sed at 0x17f57c730>,\n",
       " <synthesizer.sed.Sed at 0x17f57cac0>,\n",
       " <synthesizer.sed.Sed at 0x17f57ca60>,\n",
       " <synthesizer.sed.Sed at 0x17f57ca90>,\n",
       " <synthesizer.sed.Sed at 0x17f57c7f0>,\n",
       " <synthesizer.sed.Sed at 0x17f57cb80>,\n",
       " <synthesizer.sed.Sed at 0x17f57cb20>,\n",
       " <synthesizer.sed.Sed at 0x17f57cb50>,\n",
       " <synthesizer.sed.Sed at 0x17f57c8b0>,\n",
       " <synthesizer.sed.Sed at 0x17f57cc40>,\n",
       " <synthesizer.sed.Sed at 0x17f57cbe0>,\n",
       " <synthesizer.sed.Sed at 0x17f57cc10>,\n",
       " <synthesizer.sed.Sed at 0x17f57cd90>,\n",
       " <synthesizer.sed.Sed at 0x17f57cd00>,\n",
       " <synthesizer.sed.Sed at 0x17f57cca0>,\n",
       " <synthesizer.sed.Sed at 0x17f57ccd0>,\n",
       " <synthesizer.sed.Sed at 0x17f57ce50>,\n",
       " <synthesizer.sed.Sed at 0x17f57cdc0>,\n",
       " <synthesizer.sed.Sed at 0x17f57cd60>,\n",
       " <synthesizer.sed.Sed at 0x17f57c970>,\n",
       " <synthesizer.sed.Sed at 0x17f57cf10>,\n",
       " <synthesizer.sed.Sed at 0x17f57ce80>,\n",
       " <synthesizer.sed.Sed at 0x17f57ce20>,\n",
       " <synthesizer.sed.Sed at 0x17f57ca30>,\n",
       " <synthesizer.sed.Sed at 0x17f57cf70>,\n",
       " <synthesizer.sed.Sed at 0x17f57cf40>,\n",
       " <synthesizer.sed.Sed at 0x17f57cee0>,\n",
       " <synthesizer.sed.Sed at 0x17f57caf0>,\n",
       " <synthesizer.sed.Sed at 0x17f57c160>,\n",
       " <synthesizer.sed.Sed at 0x17f57c0d0>,\n",
       " <synthesizer.sed.Sed at 0x17f57c040>,\n",
       " <synthesizer.sed.Sed at 0x17f57cbb0>,\n",
       " <synthesizer.sed.Sed at 0x17f57cfd0>,\n",
       " <synthesizer.sed.Sed at 0x17f57cfa0>,\n",
       " <synthesizer.sed.Sed at 0x17f57cc70>,\n",
       " <synthesizer.sed.Sed at 0x17f57ceb0>,\n",
       " <synthesizer.sed.Sed at 0x17f57cdf0>,\n",
       " <synthesizer.sed.Sed at 0x17f57cd30>,\n",
       " <synthesizer.sed.Sed at 0x17f55a040>,\n",
       " <synthesizer.sed.Sed at 0x17f55a790>,\n",
       " <synthesizer.sed.Sed at 0x17f55a6d0>,\n",
       " <synthesizer.sed.Sed at 0x17f55a940>,\n",
       " <synthesizer.sed.Sed at 0x17f55a730>,\n",
       " <synthesizer.sed.Sed at 0x17f55aca0>,\n",
       " <synthesizer.sed.Sed at 0x17f55ad60>,\n",
       " <synthesizer.sed.Sed at 0x17f55a0d0>,\n",
       " <synthesizer.sed.Sed at 0x17f55aac0>,\n",
       " <synthesizer.sed.Sed at 0x17f55a1f0>,\n",
       " <synthesizer.sed.Sed at 0x17f55acd0>,\n",
       " <synthesizer.sed.Sed at 0x17f55a130>,\n",
       " <synthesizer.sed.Sed at 0x17f55af10>,\n",
       " <synthesizer.sed.Sed at 0x17f55a310>,\n",
       " <synthesizer.sed.Sed at 0x17f55a580>,\n",
       " <synthesizer.sed.Sed at 0x17f55ab50>,\n",
       " <synthesizer.sed.Sed at 0x17f55ac10>,\n",
       " <synthesizer.sed.Sed at 0x17f55a220>,\n",
       " <synthesizer.sed.Sed at 0x17f55a820>,\n",
       " <synthesizer.sed.Sed at 0x17f55a610>,\n",
       " <synthesizer.sed.Sed at 0x17f55aeb0>,\n",
       " <synthesizer.sed.Sed at 0x17f55a520>,\n",
       " <synthesizer.sed.Sed at 0x17f55a070>,\n",
       " <synthesizer.sed.Sed at 0x17f55aa00>,\n",
       " <synthesizer.sed.Sed at 0x17f55ae50>,\n",
       " <synthesizer.sed.Sed at 0x17f55a4f0>,\n",
       " <synthesizer.sed.Sed at 0x17f55a8b0>,\n",
       " <synthesizer.sed.Sed at 0x17f55a400>,\n",
       " <synthesizer.sed.Sed at 0x17f55aa90>,\n",
       " <synthesizer.sed.Sed at 0x17f55a9a0>,\n",
       " <synthesizer.sed.Sed at 0x17f55a9d0>,\n",
       " <synthesizer.sed.Sed at 0x17f55ae20>,\n",
       " <synthesizer.sed.Sed at 0x17f55a5e0>,\n",
       " <synthesizer.sed.Sed at 0x17f55a2b0>,\n",
       " <synthesizer.sed.Sed at 0x17f55a370>,\n",
       " <synthesizer.sed.Sed at 0x17f55a670>,\n",
       " <synthesizer.sed.Sed at 0x17f55a0a0>,\n",
       " <synthesizer.sed.Sed at 0x17f55a1c0>,\n",
       " <synthesizer.sed.Sed at 0x17f55a4c0>,\n",
       " <synthesizer.sed.Sed at 0x17f55a8e0>,\n",
       " <synthesizer.sed.Sed at 0x17f55a460>,\n",
       " <synthesizer.sed.Sed at 0x17f55aa30>,\n",
       " <synthesizer.sed.Sed at 0x17f55a160>,\n",
       " <synthesizer.sed.Sed at 0x17f55a2e0>,\n",
       " <synthesizer.sed.Sed at 0x17f55a910>,\n",
       " <synthesizer.sed.Sed at 0x17f55abe0>,\n",
       " <synthesizer.sed.Sed at 0x17f55abb0>,\n",
       " <synthesizer.sed.Sed at 0x17f55af40>,\n",
       " <synthesizer.sed.Sed at 0x17f55a7f0>,\n",
       " <synthesizer.sed.Sed at 0x17f55a250>,\n",
       " <synthesizer.sed.Sed at 0x17f55a280>,\n",
       " <synthesizer.sed.Sed at 0x17f55aee0>,\n",
       " <synthesizer.sed.Sed at 0x17f55aa60>,\n",
       " <synthesizer.sed.Sed at 0x17f55a490>,\n",
       " <synthesizer.sed.Sed at 0x17f55ae80>,\n",
       " <synthesizer.sed.Sed at 0x17f55a100>,\n",
       " <synthesizer.sed.Sed at 0x17f55a190>,\n",
       " <synthesizer.sed.Sed at 0x17f55ab20>,\n",
       " <synthesizer.sed.Sed at 0x17f55a430>,\n",
       " <synthesizer.sed.Sed at 0x17f55a760>,\n",
       " <synthesizer.sed.Sed at 0x17f55afa0>,\n",
       " <synthesizer.sed.Sed at 0x17f55ab80>,\n",
       " <synthesizer.sed.Sed at 0x17f55a3d0>,\n",
       " <synthesizer.sed.Sed at 0x17f55a880>,\n",
       " <synthesizer.sed.Sed at 0x17f55a5b0>,\n",
       " <synthesizer.sed.Sed at 0x17f55a3a0>,\n",
       " <synthesizer.sed.Sed at 0x17f55aaf0>,\n",
       " <synthesizer.sed.Sed at 0x17f55a640>,\n",
       " <synthesizer.sed.Sed at 0x17f55a6a0>,\n",
       " <synthesizer.sed.Sed at 0x17f55ad30>,\n",
       " <synthesizer.sed.Sed at 0x17f55a340>,\n",
       " <synthesizer.sed.Sed at 0x17f55af70>,\n",
       " <synthesizer.sed.Sed at 0x17f55a700>,\n",
       " <synthesizer.sed.Sed at 0x17f55a850>,\n",
       " <synthesizer.sed.Sed at 0x17f55adf0>,\n",
       " <synthesizer.sed.Sed at 0x17f55ac70>,\n",
       " <synthesizer.sed.Sed at 0x17f55adc0>,\n",
       " <synthesizer.sed.Sed at 0x17f55a7c0>,\n",
       " <synthesizer.sed.Sed at 0x15656c0a0>,\n",
       " <synthesizer.sed.Sed at 0x15656c130>,\n",
       " <synthesizer.sed.Sed at 0x15656c040>,\n",
       " <synthesizer.sed.Sed at 0x15656c1c0>,\n",
       " <synthesizer.sed.Sed at 0x15656c250>,\n",
       " <synthesizer.sed.Sed at 0x15656c160>,\n",
       " <synthesizer.sed.Sed at 0x15656c190>,\n",
       " <synthesizer.sed.Sed at 0x15656c2e0>,\n",
       " <synthesizer.sed.Sed at 0x15656c1f0>,\n",
       " <synthesizer.sed.Sed at 0x15656c370>,\n",
       " <synthesizer.sed.Sed at 0x15656c220>,\n",
       " <synthesizer.sed.Sed at 0x15656c400>,\n",
       " <synthesizer.sed.Sed at 0x15656c2b0>,\n",
       " <synthesizer.sed.Sed at 0x15656c490>,\n",
       " <synthesizer.sed.Sed at 0x15656c100>,\n",
       " <synthesizer.sed.Sed at 0x15656c340>,\n",
       " <synthesizer.sed.Sed at 0x15656c520>,\n",
       " <synthesizer.sed.Sed at 0x15656c280>,\n",
       " <synthesizer.sed.Sed at 0x15656c3d0>,\n",
       " <synthesizer.sed.Sed at 0x15656c5b0>,\n",
       " <synthesizer.sed.Sed at 0x15656c310>,\n",
       " <synthesizer.sed.Sed at 0x15656c460>,\n",
       " <synthesizer.sed.Sed at 0x15656c640>,\n",
       " <synthesizer.sed.Sed at 0x15656c3a0>,\n",
       " <synthesizer.sed.Sed at 0x15656c4f0>,\n",
       " <synthesizer.sed.Sed at 0x15656c6d0>,\n",
       " <synthesizer.sed.Sed at 0x15656c430>,\n",
       " <synthesizer.sed.Sed at 0x15656c580>,\n",
       " <synthesizer.sed.Sed at 0x15656c760>,\n",
       " <synthesizer.sed.Sed at 0x15656c4c0>,\n",
       " <synthesizer.sed.Sed at 0x15656c610>,\n",
       " <synthesizer.sed.Sed at 0x15656c7f0>,\n",
       " <synthesizer.sed.Sed at 0x15656c550>,\n",
       " <synthesizer.sed.Sed at 0x15656c6a0>,\n",
       " <synthesizer.sed.Sed at 0x15656c880>,\n",
       " <synthesizer.sed.Sed at 0x15656c5e0>,\n",
       " <synthesizer.sed.Sed at 0x15656c730>,\n",
       " <synthesizer.sed.Sed at 0x15656c910>,\n",
       " <synthesizer.sed.Sed at 0x15656c670>,\n",
       " <synthesizer.sed.Sed at 0x15656c7c0>,\n",
       " <synthesizer.sed.Sed at 0x15656c9a0>,\n",
       " <synthesizer.sed.Sed at 0x15656c700>,\n",
       " <synthesizer.sed.Sed at 0x15656c850>,\n",
       " <synthesizer.sed.Sed at 0x15656ca30>,\n",
       " <synthesizer.sed.Sed at 0x15656c790>,\n",
       " <synthesizer.sed.Sed at 0x15656c8e0>,\n",
       " <synthesizer.sed.Sed at 0x15656cac0>,\n",
       " <synthesizer.sed.Sed at 0x15656c820>,\n",
       " <synthesizer.sed.Sed at 0x15656c970>,\n",
       " <synthesizer.sed.Sed at 0x15656cb50>,\n",
       " <synthesizer.sed.Sed at 0x15656c8b0>,\n",
       " <synthesizer.sed.Sed at 0x15656ca00>,\n",
       " <synthesizer.sed.Sed at 0x15656cbe0>,\n",
       " <synthesizer.sed.Sed at 0x15656c940>,\n",
       " <synthesizer.sed.Sed at 0x15656ca90>,\n",
       " <synthesizer.sed.Sed at 0x15656cc70>,\n",
       " <synthesizer.sed.Sed at 0x15656c9d0>,\n",
       " <synthesizer.sed.Sed at 0x15656cb20>,\n",
       " <synthesizer.sed.Sed at 0x15656cd00>,\n",
       " <synthesizer.sed.Sed at 0x15656ca60>,\n",
       " <synthesizer.sed.Sed at 0x15656cbb0>,\n",
       " <synthesizer.sed.Sed at 0x15656cd90>,\n",
       " <synthesizer.sed.Sed at 0x15656caf0>,\n",
       " <synthesizer.sed.Sed at 0x15656cc40>,\n",
       " <synthesizer.sed.Sed at 0x15656ce20>,\n",
       " <synthesizer.sed.Sed at 0x15656cb80>,\n",
       " <synthesizer.sed.Sed at 0x15656ccd0>,\n",
       " <synthesizer.sed.Sed at 0x15656ceb0>,\n",
       " <synthesizer.sed.Sed at 0x15656cc10>,\n",
       " <synthesizer.sed.Sed at 0x15656cd60>,\n",
       " <synthesizer.sed.Sed at 0x15656cf40>,\n",
       " <synthesizer.sed.Sed at 0x15656cca0>,\n",
       " <synthesizer.sed.Sed at 0x15656cdf0>,\n",
       " <synthesizer.sed.Sed at 0x15656cf10>,\n",
       " <synthesizer.sed.Sed at 0x15656cfa0>,\n",
       " <synthesizer.sed.Sed at 0x15656c070>,\n",
       " <synthesizer.sed.Sed at 0x15656cfd0>,\n",
       " <synthesizer.sed.Sed at 0x15656cdc0>,\n",
       " <synthesizer.sed.Sed at 0x15656cd30>,\n",
       " <synthesizer.sed.Sed at 0x15656ce50>,\n",
       " <synthesizer.sed.Sed at 0x15656cf70>,\n",
       " <synthesizer.sed.Sed at 0x15656cee0>,\n",
       " <synthesizer.sed.Sed at 0x15656c0d0>,\n",
       " <synthesizer.sed.Sed at 0x1568681f0>,\n",
       " <synthesizer.sed.Sed at 0x156868070>,\n",
       " <synthesizer.sed.Sed at 0x156868160>,\n",
       " <synthesizer.sed.Sed at 0x1568680a0>,\n",
       " <synthesizer.sed.Sed at 0x156868250>,\n",
       " <synthesizer.sed.Sed at 0x156868130>,\n",
       " <synthesizer.sed.Sed at 0x1568682b0>,\n",
       " <synthesizer.sed.Sed at 0x156868280>,\n",
       " <synthesizer.sed.Sed at 0x156868370>,\n",
       " <synthesizer.sed.Sed at 0x156868310>,\n",
       " <synthesizer.sed.Sed at 0x156868340>,\n",
       " <synthesizer.sed.Sed at 0x1568681c0>,\n",
       " <synthesizer.sed.Sed at 0x156868430>,\n",
       " <synthesizer.sed.Sed at 0x1568683d0>,\n",
       " <synthesizer.sed.Sed at 0x156868400>,\n",
       " <synthesizer.sed.Sed at 0x1568680d0>,\n",
       " <synthesizer.sed.Sed at 0x1568684f0>,\n",
       " <synthesizer.sed.Sed at 0x156868490>,\n",
       " <synthesizer.sed.Sed at 0x1568684c0>,\n",
       " <synthesizer.sed.Sed at 0x156868220>,\n",
       " <synthesizer.sed.Sed at 0x1568685b0>,\n",
       " <synthesizer.sed.Sed at 0x156868550>,\n",
       " <synthesizer.sed.Sed at 0x156868580>,\n",
       " <synthesizer.sed.Sed at 0x1568682e0>,\n",
       " <synthesizer.sed.Sed at 0x156868670>,\n",
       " <synthesizer.sed.Sed at 0x156868610>,\n",
       " <synthesizer.sed.Sed at 0x156868640>,\n",
       " <synthesizer.sed.Sed at 0x1568683a0>,\n",
       " <synthesizer.sed.Sed at 0x156868730>,\n",
       " <synthesizer.sed.Sed at 0x1568686d0>,\n",
       " <synthesizer.sed.Sed at 0x156868700>,\n",
       " <synthesizer.sed.Sed at 0x156868460>,\n",
       " <synthesizer.sed.Sed at 0x1568687f0>,\n",
       " <synthesizer.sed.Sed at 0x156868790>,\n",
       " <synthesizer.sed.Sed at 0x1568687c0>,\n",
       " <synthesizer.sed.Sed at 0x156868520>,\n",
       " <synthesizer.sed.Sed at 0x1568688b0>,\n",
       " <synthesizer.sed.Sed at 0x156868850>,\n",
       " <synthesizer.sed.Sed at 0x156868880>,\n",
       " <synthesizer.sed.Sed at 0x1568685e0>,\n",
       " <synthesizer.sed.Sed at 0x156868970>]"
      ]
     },
     "execution_count": 96,
     "metadata": {},
     "output_type": "execute_result"
    }
   ],
   "source": [
    "spec_list"
   ]
  },
  {
   "cell_type": "code",
   "execution_count": 97,
   "metadata": {},
   "outputs": [
    {
     "data": {
      "text/plain": [
       "<synthesizer.sed.Sed at 0x1568afc70>"
      ]
     },
     "execution_count": 97,
     "metadata": {},
     "output_type": "execute_result"
    }
   ],
   "source": [
    "# combine\n",
    "seds = combine_list_of_seds(spec_list)\n",
    "seds"
   ]
  },
  {
   "cell_type": "code",
   "execution_count": 98,
   "metadata": {},
   "outputs": [
    {
     "data": {
      "text/plain": [
       "unyt_array([[9.48778970e+01, 5.98721742e+03, 1.57493127e+05, ...,\n",
       "        7.86944963e+22, 3.49753527e+22, 1.55446080e+22],\n",
       "       [3.41879710e+01, 2.14967687e+03, 5.41630036e+04, ...,\n",
       "        4.07641120e+22, 1.81173940e+22, 8.05217862e+21],\n",
       "       [1.10886180e+13, 1.24722999e+14, 6.60841004e+14, ...,\n",
       "        1.36464522e+22, 6.06509350e+21, 2.69559836e+21],\n",
       "       ...,\n",
       "       [2.10972560e+00, 7.73253084e+01, 1.65095740e+03, ...,\n",
       "        9.46270178e+20, 4.20563986e+20, 1.86917826e+20],\n",
       "       [2.72511406e+00, 6.24663452e+01, 1.12763281e+03, ...,\n",
       "        7.25927352e+20, 3.22634568e+20, 1.43393218e+20],\n",
       "       [8.45604241e-01, 5.28467724e+01, 1.27485897e+03, ...,\n",
       "        5.40127386e+20, 2.40056728e+20, 1.06691932e+20]], 'erg/(Hz*s)')"
      ]
     },
     "execution_count": 98,
     "metadata": {},
     "output_type": "execute_result"
    }
   ],
   "source": [
    "seds.lnu # rest frame lumd\n",
    "# dont do sed=sed.lnu as you want to calc this IN the object not replace it.\n"
   ]
  },
  {
   "cell_type": "markdown",
   "metadata": {},
   "source": [
    "seds.fnu"
   ]
  },
  {
   "cell_type": "code",
   "execution_count": 99,
   "metadata": {},
   "outputs": [
    {
     "data": {
      "text/plain": [
       "<synthesizer.sed.Sed at 0x1568afc70>"
      ]
     },
     "execution_count": 99,
     "metadata": {},
     "output_type": "execute_result"
    }
   ],
   "source": [
    "seds"
   ]
  },
  {
   "cell_type": "code",
   "execution_count": 100,
   "metadata": {},
   "outputs": [],
   "source": [
    "# Need to use the grid lam, dont need to define wavelengths here: see codes here: http://svo2.cab.inta-csic.es/theory/fps/index.php?id=Swift/UVOT.UVM2&&mode=browse&gname=Swift&gname2=UVOT#filter\n",
    "# need to use transmission NOT area\n",
    "# Get for XMM\n",
    "fil_uvm2_XMM = Filter(\"XMM/OM.UVM2_filter\", new_lam=grid.lam)\n",
    "\n",
    "# now get for UVOT\n",
    "fil_uvm2_UVOT = Filter(\"Swift/UVOT.UVM2_fil\", new_lam=grid.lam) # changed from new_lam=lams_uvot to grid.lam and get 0 transmission, but warning sign is back\n",
    "\n",
    "# what is a top hat filter?\n",
    "filt1 = Filter(\"top_hat/filter.1\", lam_min=1400, lam_max=1600, new_lam=grid.lam)\n",
    "\n",
    "# 0 = TopHat, 1 = XMM, 2= Swift\n",
    "filt_lst = [filt1, fil_uvm2_XMM, fil_uvm2_UVOT]\n",
    "\n",
    "# get filters in combined array to apply to all galaxies\n",
    "combined_filters = FilterCollection(\n",
    "    filters=filt_lst, new_lam=grid.lam\n",
    ")\n"
   ]
  },
  {
   "cell_type": "code",
   "execution_count": 101,
   "metadata": {},
   "outputs": [
    {
     "data": {
      "text/plain": [
       "{'top_hat/filter.1': <synthesizer.filters.Filter at 0x156524b80>,\n",
       " 'XMM/OM.UVM2_filter': <synthesizer.filters.Filter at 0x1565240d0>,\n",
       " 'Swift/UVOT.UVM2_fil': <synthesizer.filters.Filter at 0x15686fd60>}"
      ]
     },
     "execution_count": 101,
     "metadata": {},
     "output_type": "execute_result"
    }
   ],
   "source": [
    "combined_filters.filters"
   ]
  },
  {
   "cell_type": "code",
   "execution_count": 102,
   "metadata": {},
   "outputs": [
    {
     "data": {
      "text/plain": [
       "<synthesizer.sed.Sed at 0x1568afc70>"
      ]
     },
     "execution_count": 102,
     "metadata": {},
     "output_type": "execute_result"
    }
   ],
   "source": [
    "seds.get_photo_luminosities(combined_filters)\n",
    "seds"
   ]
  },
  {
   "cell_type": "code",
   "execution_count": 103,
   "metadata": {},
   "outputs": [
    {
     "data": {
      "text/plain": [
       "unyt_array([[2.09649536e+28, 4.36932199e+26, 1.72549356e+29, ...,\n",
       "        3.59499579e+28, 6.26817942e+27, 1.04369284e+27],\n",
       "       [3.56291909e+28, 3.75542211e+27, 1.65501501e+29, ...,\n",
       "        2.81911303e+28, 5.91445211e+27, 1.53106477e+27],\n",
       "       [3.46846380e+28, 3.47520839e+27, 1.66772151e+29, ...,\n",
       "        2.86276682e+28, 5.93898903e+27, 1.51519755e+27]], 'erg/(Hz*s)')"
      ]
     },
     "execution_count": 103,
     "metadata": {},
     "output_type": "execute_result"
    }
   ],
   "source": [
    "seds.photo_luminosities.photo_luminosities\n"
   ]
  },
  {
   "cell_type": "markdown",
   "metadata": {},
   "source": [
    "app_mag = fnu_to_apparent_mag(seds.fnu)\n",
    "app_mag"
   ]
  },
  {
   "cell_type": "code",
   "execution_count": 104,
   "metadata": {},
   "outputs": [
    {
     "name": "stdout",
     "output_type": "stream",
     "text": [
      "[[-19.20895738 -15.00625774 -21.49750597 ... -19.79446858 -17.89807616\n",
      "  -15.95165437]\n",
      " [-19.78473751 -17.34186951 -21.45222745 ... -19.53050384 -17.83500891\n",
      "  -16.36770652]\n",
      " [-19.75556553 -17.25767474 -21.46053144 ... -19.54718755 -17.83950392\n",
      "  -16.35639576]]\n"
     ]
    }
   ],
   "source": [
    "abs_mag = lnu_to_absolute_mag(seds.photo_luminosities.photo_luminosities)\n",
    "print(abs_mag)"
   ]
  },
  {
   "cell_type": "code",
   "execution_count": 105,
   "metadata": {},
   "outputs": [
    {
     "data": {
      "text/plain": [
       "array([22.35521509, 24.79808309, 20.68772515, 26.11433372, 22.94644684,\n",
       "       27.13993327, 23.99161242, 25.08889925, 22.94291412, 27.57620856,\n",
       "       27.89646916, 25.63553488, 28.0043263 , 27.51088687, 28.26049736,\n",
       "       29.00698652, 28.30081883, 28.24469403, 29.26064717, 29.46957744,\n",
       "       23.63688299, 24.5501474 , 23.56642298, 22.66606229, 24.05508207,\n",
       "       22.75834783, 23.34294886, 27.52645134, 24.8097965 , 28.69700447,\n",
       "       23.88557817, 25.35114198, 22.95510065, 20.89444929, 22.31572284,\n",
       "       22.2143048 , 25.72364841, 27.56250652, 28.70356794, 26.47029417,\n",
       "       22.32095563, 25.30524825, 24.57645744, 21.52691002, 22.4435921 ,\n",
       "       20.882403  , 21.76857497, 22.85762415, 24.866841  , 23.11925789,\n",
       "       25.30759732, 24.48668388, 23.43828218, 24.61543716, 27.23011646,\n",
       "       26.45253089, 22.43322934, 25.97333985, 22.11383858, 22.44006137,\n",
       "       23.27085551, 28.05568549, 20.54026125, 27.68533058, 26.32487472,\n",
       "       22.47945632, 24.64255467, 23.52902189, 21.76901305, 22.7920313 ,\n",
       "       22.76976353, 28.24940811, 25.38093649, 24.60688581, 25.63251422,\n",
       "       25.49800463, 24.24687603, 25.54326967, 27.35409007, 28.30177573,\n",
       "       26.05442552, 22.60505032, 26.08654775, 26.19502325, 23.35349459,\n",
       "       23.40323817, 24.81153708, 24.0281184 , 26.47376701, 24.36321837,\n",
       "       21.25000991, 22.75839847, 28.72880092, 25.30898315, 22.65907195,\n",
       "       23.93180196, 24.8768902 , 25.11245256, 28.27991361, 27.07098476,\n",
       "       24.97037177, 21.1727254 , 23.63104062, 23.65565959, 24.9640792 ,\n",
       "       26.34147132, 22.17992109, 25.122656  , 22.19679944, 25.03635351,\n",
       "       25.05339168, 25.81408195, 28.84906981, 24.53227787, 25.39025237,\n",
       "       23.67165932, 27.51086193, 22.26262888, 20.97570821, 21.63458931,\n",
       "       22.38647508, 23.66455078, 21.76284768, 24.43396542, 25.67815677,\n",
       "       23.56006839, 24.29157425, 24.40143626, 23.56761476, 25.85736978,\n",
       "       23.94393013, 22.75064029, 27.04328661, 23.70342016, 21.92622868,\n",
       "       25.56459271, 27.64109807, 21.95223441, 23.06700692, 24.51859465,\n",
       "       25.49069141, 25.07744147, 25.80350425, 26.03039716, 23.1489486 ,\n",
       "       23.95561439, 22.16928877, 21.98062832, 20.10720003, 22.35616695,\n",
       "       22.43282435, 23.57062712, 23.21390365, 23.20409067, 23.65619941,\n",
       "       22.2774986 , 25.44968354, 23.96653447, 26.37335904, 22.45590857,\n",
       "       23.07895613, 23.20086901, 21.15094579, 24.67281908, 25.03115786,\n",
       "       26.39888865, 22.54850792, 21.20018054, 22.79801629, 23.07964861,\n",
       "       22.80803127, 26.30762863, 22.05719381, 23.95557584, 27.73624609,\n",
       "       24.26643836, 28.91860752, 21.31275985, 24.64213821, 21.5219459 ,\n",
       "       24.74460451, 25.75304795, 28.21366521, 24.13538393, 26.35100944,\n",
       "       25.38192835, 21.97471303, 23.5441182 , 26.30314454, 27.81790155,\n",
       "       22.8988496 , 21.44894218, 21.8933634 , 21.40219633, 22.27120452,\n",
       "       22.13095699, 25.13999864, 25.39876548, 25.48312764, 21.12801473,\n",
       "       22.37549173, 23.14069333, 23.15104671, 21.167704  , 20.60454726,\n",
       "       20.55793384, 22.52814306, 22.83607127, 21.97219845, 21.67313352,\n",
       "       26.07140425, 21.92361329, 22.30084669, 21.63905881, 25.78139767,\n",
       "       23.89671881, 23.56080898, 22.37312525, 22.60570978, 22.51863918,\n",
       "       23.56423113, 23.52229941, 25.74876818, 22.38247225, 28.67301967,\n",
       "       29.97319802, 29.88738256, 25.79276646, 22.23287206, 23.97099357,\n",
       "       23.02212119, 23.45503802, 21.02514646, 25.69495038, 21.1237131 ,\n",
       "       23.61091178, 23.97688856, 22.06119763, 22.08977645, 25.3463999 ,\n",
       "       22.18485824, 23.57506846, 23.88335846, 22.59334431, 24.03961951,\n",
       "       24.50927842, 21.2401036 , 22.52095195, 22.47093401, 24.52396957,\n",
       "       23.4996414 , 23.20391397, 21.36746711, 25.58658957, 25.46365059,\n",
       "       23.73938091, 23.97290964, 22.41841996, 27.51049104, 28.00623968,\n",
       "       23.00252724, 23.57530891, 25.10020038, 24.77799867, 22.85114533,\n",
       "       22.60217041, 24.13112968, 27.93814638, 24.64714379, 22.91199587,\n",
       "       23.46410176, 26.10177289, 23.41179952, 21.59096666, 25.13772027,\n",
       "       21.86136966, 23.21502081, 27.66254798, 24.75808849, 23.33482856,\n",
       "       27.35349839, 23.23720626, 23.00622346, 22.59696026, 26.68435472,\n",
       "       23.13566338, 23.88288855, 25.29912523, 22.34597864, 22.85577875,\n",
       "       23.52287837, 23.86944282, 27.70969091, 25.36549859, 26.33686977,\n",
       "       25.0764457 , 22.04735361, 25.26928168, 25.67709496, 25.22079911,\n",
       "       24.76359974, 24.18323657, 23.8768023 , 22.69223212, 22.53525789,\n",
       "       25.09707729, 24.19111937, 22.66968467, 25.04966536, 24.69023321,\n",
       "       22.68815296, 25.24933834, 25.65193343, 23.69203522, 27.07355792,\n",
       "       24.2135533 , 22.55938513, 23.76867309, 24.72490384, 23.0443688 ,\n",
       "       24.93733068, 25.24526659, 25.74845392, 23.95153598, 24.11247361,\n",
       "       23.78282243, 25.57654206, 22.40239588, 24.51714069, 23.8750787 ,\n",
       "       23.92131913, 25.76958464, 24.3273828 , 24.91893404, 23.97028583,\n",
       "       27.11255515, 24.35081844, 24.0897264 , 26.63397298, 25.04523484,\n",
       "       22.36553036, 23.37720169, 25.43044517, 22.29138487, 23.09485559,\n",
       "       23.46349342, 24.74820803, 26.79111234, 27.58237297, 25.77697937,\n",
       "       25.61496688, 24.10709252, 24.11032307, 24.09563889, 24.27542259,\n",
       "       23.15329389, 25.98780385, 25.68115494, 26.09621717, 25.4603095 ,\n",
       "       24.07946169, 24.59291757, 24.73528016, 27.14151795, 22.88213387,\n",
       "       24.02133532, 26.2665524 , 22.60944876, 24.30494369, 25.77224608])"
      ]
     },
     "execution_count": 105,
     "metadata": {},
     "output_type": "execute_result"
    }
   ],
   "source": [
    "# check \n",
    "from astropy.cosmology import Planck18    # You can choose other cosmologies if needed\n",
    "\n",
    "def apparent_magnitude_from_absolute(redshift, absolute_magnitude):\n",
    "    # Get the luminosity distance for the given redshift\n",
    "    # Distnaces are in parsecs\n",
    "    d_L_pc = Planck18.luminosity_distance(redshift).to('pc').value\n",
    "    \n",
    "    # Calculate the apparent magnitude using the distance modulus formula\n",
    "    apparent_mag = absolute_magnitude - 5 + (5 * np.log10(d_L_pc))\n",
    "    \n",
    "    return apparent_mag\n",
    "\n",
    "ap_test = apparent_magnitude_from_absolute(redshift_025, abs_mag)\n",
    "ap_test[1] # 1 is XMM-OM\n"
   ]
  },
  {
   "cell_type": "code",
   "execution_count": 106,
   "metadata": {},
   "outputs": [],
   "source": [
    "from astropy.io import fits\n",
    "\n",
    "data = ap_test[1]\n",
    "fits.writeto('ap_test.fits', data,overwrite=True)\n",
    "np.savetxt('ap_test.txt', data,fmt='%.17f')\n"
   ]
  },
  {
   "cell_type": "code",
   "execution_count": 107,
   "metadata": {},
   "outputs": [],
   "source": [
    "# Prepare the data for saving\n",
    "formatted_data = np.column_stack((np.zeros_like(data),) * 3 + (data,))\n",
    "formatted_data = np.insert(formatted_data, 3, 0.46525, axis=1)\n",
    "\n",
    "# Save the formatted data to a text file\n",
    "np.savetxt('ap_test_fld.txt', formatted_data, fmt='%10d %10d %10d %12.5f %.17f')"
   ]
  },
  {
   "cell_type": "code",
   "execution_count": 108,
   "metadata": {},
   "outputs": [],
   "source": [
    "# Prepare the header lines\n",
    "header_lines = [\n",
    "    \"  0.0    0.0    23.91      5.0\",\n",
    "    \"  0.0119999\",\n",
    "    \"          3     700   3      0.0 0.0 0.0\",\n",
    "    \"  fid   sid   dummyXflux   z        mag\",\n",
    "]\n",
    "\n",
    "# Format the data lines\n",
    "data_lines = [\"  0     0     0            0.46525   {:.17f}\".format(val) for val in data]\n",
    "\n",
    "# Combine header lines and data lines\n",
    "all_lines = \"\\n\".join(header_lines) + \"\\n\" + \"\\n\".join(data_lines)\n",
    "\n",
    "# Save to file\n",
    "with open('app_mag_xmm.txt', 'w') as file:\n",
    "    file.write(all_lines)"
   ]
  },
  {
   "cell_type": "code",
   "execution_count": 109,
   "metadata": {},
   "outputs": [
    {
     "data": {
      "text/plain": [
       "20.107048707529103"
      ]
     },
     "execution_count": 109,
     "metadata": {},
     "output_type": "execute_result"
    }
   ],
   "source": [
    "min(ap_test[0])"
   ]
  },
  {
   "cell_type": "code",
   "execution_count": 110,
   "metadata": {},
   "outputs": [
    {
     "data": {
      "text/plain": [
       "32.35478879091815"
      ]
     },
     "execution_count": 110,
     "metadata": {},
     "output_type": "execute_result"
    }
   ],
   "source": [
    "max(ap_test[0])"
   ]
  },
  {
   "cell_type": "code",
   "execution_count": 111,
   "metadata": {},
   "outputs": [
    {
     "name": "stdout",
     "output_type": "stream",
     "text": [
      "Faint Limit: 44.09832456860423\n",
      "Bright Limit: 27.35478879091815\n"
     ]
    }
   ],
   "source": [
    "import numpy as np\n",
    "\n",
    "def calculate_magnitude_limits(magnitudes, faint_criteria, bright_criteria):\n",
    "    # Identify the minimum and maximum magnitudes\n",
    "    min_mag = np.min(magnitudes)\n",
    "    max_mag = np.max(magnitudes)\n",
    "    \n",
    "    # Calculate faint and bright limits based on criteria\n",
    "    faint_limit = min_mag + faint_criteria\n",
    "    bright_limit = max_mag - bright_criteria\n",
    "    \n",
    "    return faint_limit, bright_limit\n",
    "\n",
    "# Example usage:\n",
    "# Suppose you have an array of magnitudes called 'magnitudes'\n",
    "magnitudes = np.array([16.3, 17.5, 18.1, 19.2, 20.0, 21.5, 22.3, 23.0, 24.1])\n",
    "\n",
    "# Define your faint and bright criteria (e.g., in magnitudes)\n",
    "faint_criteria = 24\n",
    "bright_criteria = 5.0\n",
    "\n",
    "# Calculate magnitude limits\n",
    "faint_limit, bright_limit = calculate_magnitude_limits(ap_test, faint_criteria, bright_criteria)\n",
    "\n",
    "print(\"Faint Limit:\", faint_limit)\n",
    "print(\"Bright Limit:\", bright_limit)\n"
   ]
  },
  {
   "cell_type": "markdown",
   "metadata": {},
   "source": [
    "Absolute magnitude is defined to be the apparent magnitude an object would have if it were located at a distance of 10 parsecs.\n",
    "In astronomy, absolute magnitude (M) is a measure of the luminosity of a celestial object on an inverse logarithmic astronomical magnitude scale."
   ]
  },
  {
   "cell_type": "code",
   "execution_count": 112,
   "metadata": {},
   "outputs": [
    {
     "data": {
      "text/plain": [
       "array([-19.20895738, -15.00625774, -21.49750597, -13.6185329 ,\n",
       "       -18.99647489, -13.38352105, -18.00848946, -15.73602301,\n",
       "       -19.22991786, -12.03574737, -12.39996504, -15.38162374,\n",
       "       -12.00975871, -11.20898148, -10.63699474, -11.57931906,\n",
       "       -10.32452111, -11.16961115, -10.27848304,  -9.78516381,\n",
       "       -16.78587317, -17.29275743, -18.72316557, -19.56193167,\n",
       "       -17.78650301, -19.4238571 , -19.01641671, -12.2831295 ,\n",
       "       -17.34533727, -10.19607013, -17.84061657, -15.23952679,\n",
       "       -18.98627624, -21.24646422, -19.87763749, -20.01738477,\n",
       "       -15.91546973, -12.15149703, -10.28968106, -15.19599736,\n",
       "       -19.11748873, -14.61302936, -14.08753201, -20.56769929,\n",
       "       -19.76627142, -21.29203321, -20.43366933, -19.07120012,\n",
       "       -16.87670463, -18.76362941, -14.73211171, -17.2692294 ,\n",
       "       -18.56356131, -17.29863696, -12.37289766, -15.24843537,\n",
       "       -19.51534985, -14.21261183, -20.02479692, -19.62475924,\n",
       "       -18.90438378, -10.82008169, -21.68863284, -11.57227969,\n",
       "       -15.23328397, -19.64875344, -16.45257312, -18.09695114,\n",
       "       -20.42034729, -19.28778577, -19.47076831, -10.78757674,\n",
       "       -16.5126132 , -17.37174238, -16.00259641, -16.08432798,\n",
       "       -15.83636999, -14.87154381, -13.30461762, -10.83363429,\n",
       "       -14.643636  , -19.48681736, -13.48778606, -13.20694514,\n",
       "       -18.57185449, -18.62320105, -16.96456329, -17.92818844,\n",
       "       -14.43748304, -16.28711146, -20.96676808, -19.37194104,\n",
       "       -10.40602234, -16.53611169, -19.70348639, -16.39008977,\n",
       "       -14.60671381, -15.64592173, -10.89127888, -13.1323146 ,\n",
       "       -15.88794771, -21.00434621, -18.31063766, -18.25568425,\n",
       "       -16.75640383, -15.07861354, -19.97260518, -13.95494772,\n",
       "       -19.95112322, -16.50512338, -14.7776473 , -13.70297575,\n",
       "       -10.15963521, -16.87715241, -16.12699338, -18.51927057,\n",
       "       -12.91779515, -19.82140296, -21.22211634, -20.60599948,\n",
       "       -19.80629816, -18.51927602, -20.50130997, -16.47088041,\n",
       "       -15.64786202, -18.56140112, -17.71956388, -17.4730233 ,\n",
       "       -18.29184973, -13.3738929 , -17.95849399, -19.43852627,\n",
       "       -11.73281728, -18.34449922, -20.32250131, -16.09184002,\n",
       "       -10.7687471 , -20.42537895, -19.03870786, -17.30337059,\n",
       "       -16.00737395, -17.23271926, -15.83455546, -15.61245106,\n",
       "       -18.93292348, -17.60037433, -20.06419682, -20.14943551,\n",
       "       -22.03290389, -19.9583478 , -19.55606446, -18.43669576,\n",
       "       -18.78873281, -18.88358437, -18.40143911, -19.64747898,\n",
       "       -14.12916563, -15.21986365, -13.23745011, -19.40137369,\n",
       "       -19.18821907, -19.08043943, -20.98878626, -17.15900024,\n",
       "       -16.87728796, -15.36836793, -19.68776446, -20.92072398,\n",
       "       -19.15400136, -18.94455494, -19.18052885, -15.25231433,\n",
       "       -20.17992796, -17.14632257, -11.95319559, -17.49114429,\n",
       "       -10.81862244, -20.91856782, -17.16829773, -20.64679156,\n",
       "       -17.09211245, -14.81240441, -10.86666133, -17.83109316,\n",
       "       -14.96048211, -16.50214162, -20.2451446 , -18.30237335,\n",
       "       -13.10214735, -11.41399281, -18.93876491, -20.7749443 ,\n",
       "       -20.38837448, -20.69176805, -19.72132348, -20.11178268,\n",
       "       -15.57032705, -15.61474986, -15.6363629 , -21.11387636,\n",
       "       -19.84583514, -19.05411672, -18.90482297, -21.02977669,\n",
       "       -21.6459627 , -21.63686695, -19.63480016, -19.24857331,\n",
       "       -20.24290315, -20.60276862, -15.59092826, -20.3098425 ,\n",
       "       -19.72950971, -20.57403391, -13.49966191, -18.13497209,\n",
       "       -18.50544531, -19.77316006, -19.5453362 , -19.51413701,\n",
       "       -18.33461872, -18.01113268, -12.83077768, -19.86332801,\n",
       "       -11.62051201, -10.20486397, -10.12454858, -15.66835346,\n",
       "       -20.12959692, -18.0295595 , -19.25213464, -18.42438272,\n",
       "       -21.15806823, -14.91184267, -21.17658509, -18.35776167,\n",
       "       -17.8331619 , -20.19284347, -20.07444212, -15.50914188,\n",
       "       -19.89252283, -18.39498361, -17.99374571, -19.71442947,\n",
       "       -17.93661472, -17.54819248, -21.12932245, -19.6107841 ,\n",
       "       -19.81612139, -17.48629063, -18.63019732, -18.80423869,\n",
       "       -20.77759321, -16.2814387 , -16.53851415, -18.33307403,\n",
       "       -18.10673312, -19.74551689, -11.64436274, -10.9788581 ,\n",
       "       -19.15446471, -18.51727815, -16.40161862, -16.94682986,\n",
       "       -19.38970554, -19.58437301, -17.87746148, -11.55768689,\n",
       "       -17.27083488, -19.22991518, -18.37809078, -15.13525533,\n",
       "       -18.57734386, -20.6514828 , -16.61088512, -20.35442284,\n",
       "       -19.11005136, -11.20745244, -17.06045934, -18.88784199,\n",
       "       -11.2945573 , -18.92536131, -19.19853347, -19.60336477,\n",
       "       -13.69309947, -18.99049522, -18.42241229, -16.70266455,\n",
       "       -19.95018911, -19.2160409 , -18.61033801, -17.99798655,\n",
       "       -11.76671678, -16.42647469, -14.0046917 , -16.53791116,\n",
       "       -20.32574041, -16.94043204, -16.27420423, -16.79507454,\n",
       "       -17.21738048, -17.45600688, -18.23819777, -19.54986249,\n",
       "       -19.58979308, -16.72797647, -17.74807846, -19.4251282 ,\n",
       "       -16.83314447, -17.26111575, -19.53911216, -16.43310593,\n",
       "       -15.96784974, -18.49679332, -13.85479678, -17.89497978,\n",
       "       -19.81807461, -18.27795486, -17.27698473, -19.3651775 ,\n",
       "       -17.11061335, -16.53675785, -15.66443474, -18.17104008,\n",
       "       -17.98172083, -18.40183565, -15.83080362, -19.81009936,\n",
       "       -17.66624981, -18.04436476, -18.18689546, -15.87870538,\n",
       "       -17.78984585, -16.89838435, -18.10061884, -14.50187778,\n",
       "       -17.91456676, -18.05905367, -14.49116537, -17.0164114 ,\n",
       "       -20.05954242, -18.66810667, -15.78139675, -20.00493423,\n",
       "       -19.31227425, -18.7145775 , -17.28704859, -14.41155646,\n",
       "       -11.75881812, -16.21520745, -16.07544304, -18.01915531,\n",
       "       -17.97422476, -17.95054429, -17.74136769, -19.16725469,\n",
       "       -15.44519078, -16.14757797, -15.44095528, -16.423178  ,\n",
       "       -18.07464056, -17.30559526, -17.33709724, -14.17026664,\n",
       "       -19.48016827, -18.20723054, -14.97677709, -19.79446858,\n",
       "       -17.89807616, -15.95165437])"
      ]
     },
     "execution_count": 112,
     "metadata": {},
     "output_type": "execute_result"
    }
   ],
   "source": [
    "abs_mag_th = abs_mag[0]\n",
    "abs_mag_th"
   ]
  },
  {
   "cell_type": "code",
   "execution_count": 113,
   "metadata": {},
   "outputs": [
    {
     "data": {
      "text/plain": [
       "array([-19.78473751, -17.34186951, -21.45222745, -16.02561888,\n",
       "       -19.19350577, -15.00001933, -18.14834018, -17.05105335,\n",
       "       -19.19703848, -14.56374404, -14.24348344, -16.50441772,\n",
       "       -14.1356263 , -14.62906573, -13.87945524, -13.13296608,\n",
       "       -13.83913377, -13.89525857, -12.87930543, -12.67037516,\n",
       "       -18.50306961, -17.5898052 , -18.57352962, -19.47389031,\n",
       "       -18.08487053, -19.38160478, -18.79700374, -14.61350127,\n",
       "       -17.3301561 , -13.44294813, -18.25437444, -16.78881062,\n",
       "       -19.18485195, -21.24550331, -19.82422976, -19.9256478 ,\n",
       "       -16.41630419, -14.57744609, -13.43638466, -15.66965843,\n",
       "       -19.81899697, -16.83470435, -17.56349516, -20.61304258,\n",
       "       -19.6963605 , -21.2575496 , -20.37137763, -19.28232845,\n",
       "       -17.27311161, -19.02069471, -16.83235528, -17.65326872,\n",
       "       -18.70167042, -17.52451544, -14.90983614, -15.68742171,\n",
       "       -19.70672326, -16.16661275, -20.02611402, -19.69989123,\n",
       "       -18.8690971 , -14.08426711, -21.59969136, -14.45462202,\n",
       "       -15.81507788, -19.66049629, -17.49739793, -18.61093071,\n",
       "       -20.37093956, -19.3479213 , -19.37018907, -13.89054449,\n",
       "       -16.75901611, -17.53306679, -16.50743838, -16.64194797,\n",
       "       -17.89307657, -16.59668293, -14.78586253, -13.83817687,\n",
       "       -16.08552708, -19.53490228, -16.05340485, -15.94492935,\n",
       "       -18.78645801, -18.73671444, -17.32841552, -18.11183421,\n",
       "       -15.66618559, -17.77673424, -20.88994269, -19.38155413,\n",
       "       -13.41115168, -16.83096945, -19.48088065, -18.20815064,\n",
       "       -17.2630624 , -17.02750005, -13.860039  , -15.06896784,\n",
       "       -17.16958083, -20.96722721, -18.50891198, -18.48429301,\n",
       "       -17.1758734 , -15.79848129, -19.96003151, -17.0172966 ,\n",
       "       -19.94315316, -17.1035991 , -17.08656092, -16.32587065,\n",
       "       -13.29088279, -17.60767473, -16.74970023, -18.46829328,\n",
       "       -14.62909067, -19.87732372, -21.16424439, -20.5053633 ,\n",
       "       -19.75347752, -18.47540182, -20.37710492, -17.70598718,\n",
       "       -16.46179583, -18.57988421, -17.84837836, -17.73851635,\n",
       "       -18.57233784, -16.28258282, -18.19602247, -19.38931232,\n",
       "       -15.096666  , -18.43653245, -20.21372392, -16.57535989,\n",
       "       -14.49885453, -20.1877182 , -19.07294568, -17.62135796,\n",
       "       -16.64926119, -17.06251113, -16.33644836, -16.10955544,\n",
       "       -18.991004  , -18.18433821, -19.97066383, -20.15932428,\n",
       "       -22.03275257, -19.78378565, -19.70712825, -18.56932548,\n",
       "       -18.92604896, -18.93586194, -18.48375319, -19.862454  ,\n",
       "       -16.69026907, -18.17341813, -15.76659356, -19.68404403,\n",
       "       -19.06099648, -18.93908359, -20.98900682, -17.46713352,\n",
       "       -17.10879474, -15.74106396, -19.59144468, -20.93977207,\n",
       "       -19.34193631, -19.060304  , -19.33192133, -15.83232397,\n",
       "       -20.0827588 , -18.18437676, -14.40370651, -17.87351424,\n",
       "       -13.22134508, -20.82719276, -17.49781439, -20.61800671,\n",
       "       -17.39534809, -16.38690465, -13.92628739, -18.00456868,\n",
       "       -15.78894316, -16.75802425, -20.16523957, -18.5958344 ,\n",
       "       -15.83680806, -14.32205105, -19.241103  , -20.69101042,\n",
       "       -20.2465892 , -20.73775627, -19.86874808, -20.00899561,\n",
       "       -16.99995396, -16.74118712, -16.65682496, -21.01193787,\n",
       "       -19.76446087, -18.99925927, -18.9889059 , -20.9722486 ,\n",
       "       -21.53540534, -21.58201876, -19.61180954, -19.30388133,\n",
       "       -20.16775415, -20.46681909, -16.06854835, -20.21633931,\n",
       "       -19.83910591, -20.50089379, -16.35855493, -18.24323379,\n",
       "       -18.57914362, -19.76682735, -19.53424282, -19.62131342,\n",
       "       -18.57572147, -18.61765319, -16.39118442, -19.75748036,\n",
       "       -13.46693294, -12.16675458, -12.25257004, -16.34718615,\n",
       "       -19.90708054, -18.16895903, -19.11783141, -18.68491458,\n",
       "       -21.11480615, -16.44500222, -21.0162395 , -18.52904083,\n",
       "       -18.16306404, -20.07875497, -20.05017616, -16.79355271,\n",
       "       -19.95509436, -18.56488414, -18.25659414, -19.54660829,\n",
       "       -18.10033309, -17.63067418, -20.899849  , -19.61900066,\n",
       "       -19.66901859, -17.61598304, -18.6403112 , -18.93603864,\n",
       "       -20.77248549, -16.55336303, -16.67630201, -18.40057169,\n",
       "       -18.16704296, -19.72153264, -14.62946156, -14.13371292,\n",
       "       -19.13742536, -18.56464369, -17.03975222, -17.36195393,\n",
       "       -19.28880727, -19.5377822 , -18.00882292, -14.20180622,\n",
       "       -17.49280881, -19.22795673, -18.67585085, -16.03817971,\n",
       "       -18.72815308, -20.54898594, -17.00223233, -20.27858294,\n",
       "       -18.92493179, -14.47740462, -17.38186411, -18.80512404,\n",
       "       -14.78645421, -18.90274634, -19.13372915, -19.54299234,\n",
       "       -15.45559788, -19.00428922, -18.25706405, -16.84082737,\n",
       "       -19.79397396, -19.28417385, -18.61707423, -18.27050978,\n",
       "       -14.43026169, -16.77445402, -15.80308284, -17.0635069 ,\n",
       "       -20.09259899, -16.87067093, -16.46285764, -16.91915349,\n",
       "       -17.37635286, -17.95671603, -18.2631503 , -19.44772048,\n",
       "       -19.60469471, -17.04287532, -17.94883323, -19.47026793,\n",
       "       -17.09028724, -17.44971939, -19.45179964, -16.89061426,\n",
       "       -16.48801917, -18.44791738, -15.06639468, -17.9263993 ,\n",
       "       -19.58056748, -18.37127951, -17.41504876, -19.0955838 ,\n",
       "       -17.20262192, -16.89468601, -16.39149868, -18.18841663,\n",
       "       -18.02747899, -18.35713017, -16.56341054, -19.73755672,\n",
       "       -17.62281191, -18.2648739 , -18.21863347, -16.37036796,\n",
       "       -17.81256981, -17.22101856, -18.16966677, -15.02739745,\n",
       "       -17.78913417, -18.0502262 , -15.50597963, -17.09471777,\n",
       "       -19.77442225, -18.76275091, -16.70950743, -19.84856773,\n",
       "       -19.04509701, -18.67645919, -17.39174457, -15.34884026,\n",
       "       -14.55757963, -16.36297324, -16.52498572, -18.03286008,\n",
       "       -18.02962954, -18.04431371, -17.86453001, -18.98665871,\n",
       "       -16.15214875, -16.45879766, -16.04373543, -16.67964311,\n",
       "       -18.06049091, -17.54703503, -17.40467244, -14.99843465,\n",
       "       -19.25781873, -18.11861729, -15.8734002 , -19.53050384,\n",
       "       -17.83500891, -16.36770652])"
      ]
     },
     "execution_count": 113,
     "metadata": {},
     "output_type": "execute_result"
    }
   ],
   "source": [
    "abs_mag_xmm = abs_mag[1]\n",
    "abs_mag_xmm\n"
   ]
  },
  {
   "cell_type": "code",
   "execution_count": 114,
   "metadata": {},
   "outputs": [
    {
     "data": {
      "text/plain": [
       "array([-19.75556553, -17.25767474, -21.46053144, -15.93585866,\n",
       "       -19.19008456, -14.91820913, -18.14407445, -17.01993031,\n",
       "       -19.20449282, -14.47816479, -14.15636076, -16.47692349,\n",
       "       -14.04309285, -14.56088007, -13.80273822, -13.04900444,\n",
       "       -13.76522438, -13.80242632, -12.78704856, -12.57604811,\n",
       "       -18.43978985, -17.57072467, -18.58218428, -19.48358926,\n",
       "       -18.0801711 , -19.38494801, -18.81319662, -14.53614646,\n",
       "       -17.33076568, -13.36667268, -18.22356427, -16.71857428,\n",
       "       -19.18063691, -21.25062376, -19.83148631, -19.93506498,\n",
       "       -16.40729958, -14.51001329, -13.35913761, -15.65443806,\n",
       "       -19.79561053, -16.75852742, -17.48238589, -20.61512243,\n",
       "       -19.70722063, -21.26401875, -20.37873001, -19.28081133,\n",
       "       -17.26621671, -19.00007691, -16.74982644, -17.64702098,\n",
       "       -18.69859688, -17.51963711, -14.85749421, -15.66753316,\n",
       "       -19.69735153, -16.0883592 , -20.02789363, -19.70105395,\n",
       "       -18.87166574, -14.01016362, -21.6079497 , -14.39405735,\n",
       "       -15.80177742, -19.66335919, -17.44929485, -18.59812518,\n",
       "       -20.37692487, -19.3488075 , -19.37834621, -13.82055946,\n",
       "       -16.75342261, -17.52995232, -16.4947015 , -16.63030753,\n",
       "       -17.81928434, -16.56078697, -14.73707192, -13.75750327,\n",
       "       -16.02987844, -19.53835012, -15.98010708, -15.8621793 ,\n",
       "       -18.78351487, -18.73537355, -17.31945844, -18.10879664,\n",
       "       -15.63899091, -17.72217417, -20.89642712, -19.38318836,\n",
       "       -13.32886176, -16.8262929 , -19.49562141, -18.14448002,\n",
       "       -17.21044189, -16.99486229, -13.78337673, -15.02759001,\n",
       "       -17.11233483, -20.97419387, -18.50072251, -18.48182675,\n",
       "       -17.1695628 , -15.77950635, -19.96276546, -16.95480515,\n",
       "       -19.9467421 , -17.08696229, -17.00674225, -16.24317346,\n",
       "       -13.20958401, -17.56635473, -16.72930921, -18.47186945,\n",
       "       -14.58462083, -19.87809433, -21.17250843, -20.51574477,\n",
       "       -19.7613608 , -18.47939809, -20.38358183, -17.65884479,\n",
       "       -16.43745923, -18.58222169, -17.84529747, -17.73279059,\n",
       "       -18.55975372, -16.2011712 , -18.18875606, -19.39074715,\n",
       "       -15.03007145, -18.4347982 , -20.21956606, -16.55474392,\n",
       "       -14.43233186, -20.20018001, -19.07374713, -17.61341001,\n",
       "       -16.61806242, -17.06612694, -16.33018936, -16.09573873,\n",
       "       -18.98780037, -18.15760021, -19.97986162, -20.16518166,\n",
       "       -22.04162803, -19.79703157, -19.7024763 , -18.56526735,\n",
       "       -18.92456802, -18.93678825, -18.48608867, -19.85125948,\n",
       "       -16.6156233 , -18.1221921 , -15.71342229, -19.68056785,\n",
       "       -19.07001594, -18.95018449, -20.99262473, -17.45719529,\n",
       "       -17.10232282, -15.72460132, -19.59778789, -20.94350381,\n",
       "       -19.33773475, -19.05884908, -19.32826528, -15.81271548,\n",
       "       -20.08802328, -18.15694941, -14.3534316 , -17.8566035 ,\n",
       "       -13.1366432 , -20.83642079, -17.48324028, -20.62353066,\n",
       "       -17.37350738, -16.31724055, -13.84705567, -17.99679266,\n",
       "       -15.75172275, -16.75107434, -20.17319017, -18.58385852,\n",
       "       -15.75606646, -14.24311315, -19.2354256 , -20.70059905,\n",
       "       -20.25713131, -20.7391836 , -19.87068466, -20.01434853,\n",
       "       -16.95347059, -16.69515934, -16.62235223, -21.01936188,\n",
       "       -19.77315009, -19.00615982, -18.98587951, -20.9782963 ,\n",
       "       -21.54416791, -21.58681381, -19.61416274, -19.303345  ,\n",
       "       -20.17566595, -20.4772708 , -16.05568926, -20.2244359 ,\n",
       "       -19.83935223, -20.50591746, -16.29866476, -18.23980049,\n",
       "       -18.57934958, -19.76911132, -19.53671019, -19.62036753,\n",
       "       -18.57072252, -18.6010641 , -16.32879465, -19.76514338,\n",
       "       -13.38289562, -12.07759014, -12.16512793, -16.32484116,\n",
       "       -19.92015098, -18.16918827, -19.12810532, -18.67904584,\n",
       "       -21.12304132, -16.41167741, -21.02857321, -18.52875449,\n",
       "       -18.15704823, -20.08766435, -20.05582354, -16.76727703,\n",
       "       -19.95546517, -18.56131685, -18.24901527, -19.55951202,\n",
       "       -18.09831536, -17.63052799, -20.91405195, -19.62100111,\n",
       "       -19.67907205, -17.61303584, -18.64273913, -18.93442028,\n",
       "       -20.77597269, -16.54702285, -16.67229857, -18.3993691 ,\n",
       "       -18.16728899, -19.72518926, -14.54588711, -14.07610368,\n",
       "       -19.14032959, -18.56477127, -17.02236544, -17.35058467,\n",
       "       -19.2984878 , -19.54095434, -18.00734482, -14.14256227,\n",
       "       -17.48978797, -19.23044454, -18.66933699, -16.01367642,\n",
       "       -18.72604819, -20.55709169, -16.99456691, -20.28522928,\n",
       "       -18.93940579, -14.39766883, -17.37649177, -18.80991873,\n",
       "       -14.7177217 , -18.9043653 , -19.14009326, -19.55057589,\n",
       "       -15.42193937, -19.00503411, -18.26557169, -16.83815786,\n",
       "       -19.80621198, -19.28395223, -18.62006803, -18.26528705,\n",
       "       -14.35603398, -16.77232463, -15.76493106, -17.04853385,\n",
       "       -20.10584519, -16.87272352, -16.46045569, -16.91674335,\n",
       "       -17.37561026, -17.94633744, -18.26313773, -19.45775357,\n",
       "       -19.60950411, -17.03085837, -17.94388614, -19.4735157 ,\n",
       "       -17.08437476, -17.44659653, -19.45747908, -16.88054384,\n",
       "       -16.47221513, -18.45107218, -15.03422829, -17.92568205,\n",
       "       -19.59575717, -18.36997042, -17.4120077 , -19.11119559,\n",
       "       -17.20164277, -16.88792666, -16.37118931, -18.19061205,\n",
       "       -18.02731435, -18.36017596, -16.54649888, -19.74639771,\n",
       "       -17.62481471, -18.26139395, -18.21855748, -16.35835801,\n",
       "       -17.81282363, -17.211673  , -18.16986076, -15.00886157,\n",
       "       -17.79368605, -18.05118023, -15.47983862, -17.09127858,\n",
       "       -19.79097498, -18.76216756, -16.69057655, -19.86119036,\n",
       "       -19.06333558, -18.67933189, -17.38941829, -15.32476242,\n",
       "       -14.50254163, -16.35961687, -16.51713005, -18.03396207,\n",
       "       -18.0287262 , -18.04328018, -17.86208077, -18.99749786,\n",
       "       -16.13834476, -16.44985139, -16.03364293, -16.67346307,\n",
       "       -18.06188946, -17.54253679, -17.40380052, -14.97014811,\n",
       "       -19.27023465, -18.12307289, -15.85041419, -19.54718755,\n",
       "       -17.83950392, -16.35639576])"
      ]
     },
     "execution_count": 114,
     "metadata": {},
     "output_type": "execute_result"
    }
   ],
   "source": [
    "abs_mag_swft = abs_mag[2]\n",
    "abs_mag_swft"
   ]
  },
  {
   "cell_type": "code",
   "execution_count": 115,
   "metadata": {},
   "outputs": [
    {
     "name": "stdout",
     "output_type": "stream",
     "text": [
      "162627.52885604533\n"
     ]
    }
   ],
   "source": [
    "# next steps, get luminosity function for these magnitudes\n",
    "# co-moving volume: BoxSize_025 and redshift:\n",
    "little_h =  0.6711\n",
    "Vphys = (boxSize_025/little_h )**3\n",
    "Vcom = Vphys * ((1+redshift_025)**3)\n",
    "print(Vcom)\n"
   ]
  },
  {
   "cell_type": "code",
   "execution_count": 116,
   "metadata": {},
   "outputs": [],
   "source": [
    "\n",
    "def compute_luminosity_function(magnitudes, bin_size=0.5, max_bins=None):\n",
    "    \"\"\"\n",
    "    Compute the luminosity function from an array of absolute magnitudes.\n",
    "    \n",
    "    Parameters:\n",
    "    - magnitudes: numpy.ndarray of absolute magnitudes\n",
    "    - bin_size: size of the bins for the histogram (magnitude)\n",
    "    - max_bins: maximum allowed number of bins to prevent memory errors\n",
    "    \n",
    "    Returns:\n",
    "    - bin_centers: numpy.ndarray of the center of each bin\n",
    "    - density: numpy.ndarray of the density of objects per bin\n",
    "    \"\"\"\n",
    "    # Ensure magnitudes is a NumPy array\n",
    "    magnitudes = np.array(magnitudes)\n",
    "    \n",
    "    # Calculate the number of bins; guard against too many bins\n",
    "    num_bins = np.ceil((magnitudes.max() - magnitudes.min()) / bin_size).astype(int)\n",
    "    if max_bins is not None and num_bins > max_bins:\n",
    "        bin_size = (magnitudes.max() - magnitudes.min()) / max_bins\n",
    "        num_bins = max_bins\n",
    "    \n",
    "    # Compute histogram with the adjusted bin size\n",
    "    bin_edges = np.linspace(magnitudes.min(), magnitudes.max(), num_bins + 1)\n",
    "    counts, _ = np.histogram(magnitudes, bins=bin_edges)\n",
    "    \n",
    "    density = counts\n",
    "    bin_centers = (bin_edges[:-1] + bin_edges[1:]) / 2\n",
    "    \n",
    "    return bin_centers, density\n",
    "\n",
    "def plot_luminosity_function(bin_centers, density):\n",
    "    \n",
    "    # Generate a single random color for all bars\n",
    "    random_color = np.random.rand(3,)\n",
    "    \n",
    "    plt.figure(figsize=(10, 6))\n",
    "    plt.bar(bin_centers, density, width=np.diff(bin_centers)[0], color=random_color, alpha=0.7)\n",
    "    plt.xlabel('Absolute Magnitude')\n",
    "    plt.ylabel('Number of Objects')\n",
    "    plt.title('Luminosity Function')\n",
    "    plt.grid(True)\n",
    "    plt.show()\n",
    "\n"
   ]
  },
  {
   "cell_type": "code",
   "execution_count": 117,
   "metadata": {},
   "outputs": [
    {
     "data": {
      "image/png": "[encoded data removed]",
      "text/plain": [
       "<Figure size 1000x600 with 1 Axes>"
      ]
     },
     "metadata": {},
     "output_type": "display_data"
    }
   ],
   "source": [
    "# Example usage\n",
    "if __name__ == \"__main__\":\n",
    "    # Example data\n",
    "    #magnitudes = np.random.normal(-20, 1, 17176)  # Assuming these are the absolute magnitudes of galaxies\n",
    "    magnitudes =abs_mag_xmm\n",
    "    \n",
    "    # Compute the luminosity function with a maximum of 100 bins\n",
    "    bin_centers, density = compute_luminosity_function(magnitudes, bin_size=0.5, max_bins=100)\n",
    "    \n",
    "    # Plot the luminosity function\n",
    "    plot_luminosity_function(bin_centers, density)\n",
    "\n"
   ]
  },
  {
   "cell_type": "code",
   "execution_count": 118,
   "metadata": {},
   "outputs": [],
   "source": [
    "\n",
    "\n",
    "# To do : NOT CURRENTLY WORKNG, applying to class spec not object so trying without\n",
    "# need to apply to all galaxies in the snap/subhalo catalogue\n",
    "# once I've done that, can use the combine_list_of_seds to combine all of them and then apply the filter and get the luminosities from this.\n",
    "# crate a list of the sed objects, then can \n",
    "# run this on lsit of seds and gets a single sed objects that contain all my luminosities.\n",
    "# then can apply photometry and lnu to abs mag."
   ]
  },
  {
   "cell_type": "code",
   "execution_count": 119,
   "metadata": {},
   "outputs": [],
   "source": [
    "# Alternative method for LF:\n",
    "# try this method again, but using AB mag instead of mass, and suply your own bins (up to -17, say)\n",
    "def calc_df(ab_mag, volume, massBinLimits):\n",
    "\n",
    "# OG:        hist, dummy = np.histogram(np.log10(mstar), bins = massBinLimits)\n",
    "        hist, dummy = np.histogram(ab_mag, bins = massBinLimits)\n",
    "        hist = np.float64(hist)\n",
    "        phi = (hist / volume) / (massBinLimits[1] - massBinLimits[0])\n",
    "\n",
    "        phi_sigma = (np.sqrt(hist) / volume) /\\\n",
    "                    (massBinLimits[1] - massBinLimits[0]) # Poisson errors\n",
    "\n",
    "        return phi, phi_sigma, hist"
   ]
  },
  {
   "cell_type": "code",
   "execution_count": 120,
   "metadata": {},
   "outputs": [],
   "source": [
    "# Define the bin edges for AB magnitudes\n",
    "# Here, let's define bins from -25 to -17 in steps of 0.5 magnitude\n",
    "massBinLimits = np.arange(-22, -16, 0.5)\n",
    "\n",
    "phi, phi_sigma, hist = calc_df(abs_mag_xmm, Vcom, massBinLimits)"
   ]
  },
  {
   "cell_type": "code",
   "execution_count": 121,
   "metadata": {},
   "outputs": [
    {
     "data": {
      "image/png": "[encoded data removed]",
      "text/plain": [
       "<Figure size 640x480 with 1 Axes>"
      ]
     },
     "metadata": {},
     "output_type": "display_data"
    }
   ],
   "source": [
    "label_025 = 'z = ', redshift_025\n",
    "\n",
    "\n",
    "# Plot the luminosity function\n",
    "plt.errorbar(massBinLimits[:-1], phi, yerr=phi_sigma, fmt='o', color='blue')\n",
    "plt.xlabel('Absolute Magnitude (AB)')\n",
    "plt.ylabel('Number Density (Mpc^-3 mag^-1)')\n",
    "plt.yscale('log')\n",
    "\n",
    "plt.title('Luminosity Function XMM-OM filter')\n",
    "plt.grid(True)\n",
    "plt.show()"
   ]
  },
  {
   "cell_type": "code",
   "execution_count": 122,
   "metadata": {},
   "outputs": [
    {
     "data": {
      "image/png": "[encoded data removed]",
      "text/plain": [
       "<Figure size 640x480 with 1 Axes>"
      ]
     },
     "metadata": {},
     "output_type": "display_data"
    }
   ],
   "source": [
    "phi_th, phi_sigma_th, hist_th = calc_df(abs_mag_th, Vcom, massBinLimits)\n",
    "phi_uv, phi_sigma_uv, hist_uv = calc_df(abs_mag_swft, Vcom, massBinLimits)\n",
    "\n",
    "label_025 = 'z = ', redshift_025\n",
    "label_swft = 'UVOT'\n",
    "label_th = 'Tophat'\n",
    "label_xmm = 'XMM-OM'\n",
    "\n",
    "# Plot the luminosity function\n",
    "plt.errorbar(massBinLimits[:-1], phi_th, yerr=phi_sigma_th, fmt='o', color='blue', label=label_th)\n",
    "plt.errorbar(massBinLimits[:-1], phi_uv, yerr=phi_sigma_uv, fmt='o', color='red', label=label_swft)\n",
    "plt.errorbar(massBinLimits[:-1], phi, yerr=phi_sigma, fmt='o', color='green', label=label_xmm)\n",
    "plt.xlabel('Absolute Magnitude (AB)')\n",
    "plt.ylabel('Number Density (Mpc^-3 mag^-1)')\n",
    "plt.yscale('log')\n",
    "plt.legend(loc='lower right')\n",
    "\n",
    "\n",
    "plt.title('Luminosity Function Top Hat filter')\n",
    "plt.grid(True)\n",
    "plt.show()"
   ]
  },
  {
   "cell_type": "code",
   "execution_count": 123,
   "metadata": {},
   "outputs": [
    {
     "data": {
      "image/png": "[encoded data removed]",
      "text/plain": [
       "<Figure size 640x480 with 1 Axes>"
      ]
     },
     "metadata": {},
     "output_type": "display_data"
    }
   ],
   "source": [
    "\n",
    "label_025 = 'z = ', redshift_025\n",
    "label_th = 'Tophat'\n",
    "\n",
    "# Plot the luminosity function\n",
    "plt.errorbar(massBinLimits[:-1], phi_th, yerr=phi_sigma_th, fmt='o', color='blue', label=label_th)\n",
    "\n",
    "plt.xlabel('Absolute Magnitude (AB)')\n",
    "plt.ylabel('Number Density (Mpc^-3 mag^-1)')\n",
    "plt.yscale('log')\n",
    "plt.legend(loc='lower right')\n",
    "\n",
    "\n",
    "plt.title('Luminosity Function Top Hat filter')\n",
    "plt.grid(True)\n",
    "plt.show()"
   ]
  },
  {
   "cell_type": "code",
   "execution_count": null,
   "metadata": {},
   "outputs": [],
   "source": []
  }
 ],
 "metadata": {
  "kernelspec": {
   "display_name": "allyenv",
   "language": "python",
   "name": "python3"
  },
  "language_info": {
   "codemirror_mode": {
    "name": "ipython",
    "version": 3
   },
   "file_extension": ".py",
   "mimetype": "text/x-python",
   "name": "python",
   "nbconvert_exporter": "python",
   "pygments_lexer": "ipython3",
   "version": "3.9.15"
  }
 },
 "nbformat": 4,
 "nbformat_minor": 2
}
